{
  "cells": [
    {
      "cell_type": "markdown",
      "metadata": {
        "id": "view-in-github",
        "colab_type": "text"
      },
      "source": [
        "<a href=\"https://colab.research.google.com/github/priyank96/idl-spring-22-project-deepar/blob/main/DL_192Vectors_Group_Data_SectorEmbed_Normal_Loss_Debayan.ipynb\" target=\"_parent\"><img src=\"https://colab.research.google.com/assets/colab-badge.svg\" alt=\"Open In Colab\"/></a>"
      ]
    },
    {
      "cell_type": "code",
      "execution_count": 1,
      "metadata": {
        "colab": {
          "base_uri": "https://localhost:8080/"
        },
        "id": "s6rSZ8BZaVEW",
        "outputId": "eda69cf0-051e-4da6-8884-176ea01a525d"
      },
      "outputs": [
        {
          "output_type": "stream",
          "name": "stdout",
          "text": [
            "Cloning into 'idl-spring-22-project-deepar'...\n",
            "remote: Enumerating objects: 1862, done.\u001b[K\n",
            "remote: Counting objects: 100% (33/33), done.\u001b[K\n",
            "remote: Compressing objects: 100% (33/33), done.\u001b[K\n",
            "remote: Total 1862 (delta 15), reused 0 (delta 0), pack-reused 1829\u001b[K\n",
            "Receiving objects: 100% (1862/1862), 82.97 MiB | 24.95 MiB/s, done.\n",
            "Resolving deltas: 100% (892/892), done.\n",
            "Checking out files: 100% (1949/1949), done.\n"
          ]
        }
      ],
      "source": [
        "! rm -rf /content/idl-spring-22-project-deepar\n",
        "!git clone https://github.com/priyank96/idl-spring-22-project-deepar"
      ]
    },
    {
      "cell_type": "code",
      "execution_count": 2,
      "metadata": {
        "colab": {
          "base_uri": "https://localhost:8080/"
        },
        "id": "gOKL2f9bayY_",
        "outputId": "f01d99e3-41c7-4962-9327-0b08f2562b14"
      },
      "outputs": [
        {
          "output_type": "stream",
          "name": "stdout",
          "text": [
            "Mounted at /content/drive\n"
          ]
        }
      ],
      "source": [
        "from google.colab import drive\n",
        "\n",
        "drive.mount('/content/drive', force_remount=True)"
      ]
    },
    {
      "cell_type": "code",
      "execution_count": 3,
      "metadata": {
        "id": "394BLA5dOGMF"
      },
      "outputs": [],
      "source": [
        "! mkdir -p '/content/drive/MyDrive/DeepARExperiments/'"
      ]
    },
    {
      "cell_type": "code",
      "execution_count": 4,
      "metadata": {
        "id": "K4Dz6slTybPk",
        "colab": {
          "base_uri": "https://localhost:8080/"
        },
        "outputId": "e55d5de3-dc91-47d8-d780-01066a3ca3ad"
      },
      "outputs": [
        {
          "output_type": "stream",
          "name": "stdout",
          "text": [
            "Collecting wandb\n",
            "  Downloading wandb-0.12.15-py2.py3-none-any.whl (1.8 MB)\n",
            "\u001b[?25l\r\u001b[K     |▏                               | 10 kB 16.5 MB/s eta 0:00:01\r\u001b[K     |▍                               | 20 kB 8.2 MB/s eta 0:00:01\r\u001b[K     |▌                               | 30 kB 7.8 MB/s eta 0:00:01\r\u001b[K     |▊                               | 40 kB 7.4 MB/s eta 0:00:01\r\u001b[K     |█                               | 51 kB 4.3 MB/s eta 0:00:01\r\u001b[K     |█                               | 61 kB 5.1 MB/s eta 0:00:01\r\u001b[K     |█▎                              | 71 kB 5.0 MB/s eta 0:00:01\r\u001b[K     |█▌                              | 81 kB 5.2 MB/s eta 0:00:01\r\u001b[K     |█▋                              | 92 kB 5.8 MB/s eta 0:00:01\r\u001b[K     |█▉                              | 102 kB 5.0 MB/s eta 0:00:01\r\u001b[K     |██                              | 112 kB 5.0 MB/s eta 0:00:01\r\u001b[K     |██▏                             | 122 kB 5.0 MB/s eta 0:00:01\r\u001b[K     |██▍                             | 133 kB 5.0 MB/s eta 0:00:01\r\u001b[K     |██▋                             | 143 kB 5.0 MB/s eta 0:00:01\r\u001b[K     |██▊                             | 153 kB 5.0 MB/s eta 0:00:01\r\u001b[K     |███                             | 163 kB 5.0 MB/s eta 0:00:01\r\u001b[K     |███▏                            | 174 kB 5.0 MB/s eta 0:00:01\r\u001b[K     |███▎                            | 184 kB 5.0 MB/s eta 0:00:01\r\u001b[K     |███▌                            | 194 kB 5.0 MB/s eta 0:00:01\r\u001b[K     |███▊                            | 204 kB 5.0 MB/s eta 0:00:01\r\u001b[K     |███▉                            | 215 kB 5.0 MB/s eta 0:00:01\r\u001b[K     |████                            | 225 kB 5.0 MB/s eta 0:00:01\r\u001b[K     |████▎                           | 235 kB 5.0 MB/s eta 0:00:01\r\u001b[K     |████▍                           | 245 kB 5.0 MB/s eta 0:00:01\r\u001b[K     |████▋                           | 256 kB 5.0 MB/s eta 0:00:01\r\u001b[K     |████▉                           | 266 kB 5.0 MB/s eta 0:00:01\r\u001b[K     |█████                           | 276 kB 5.0 MB/s eta 0:00:01\r\u001b[K     |█████▏                          | 286 kB 5.0 MB/s eta 0:00:01\r\u001b[K     |█████▍                          | 296 kB 5.0 MB/s eta 0:00:01\r\u001b[K     |█████▌                          | 307 kB 5.0 MB/s eta 0:00:01\r\u001b[K     |█████▊                          | 317 kB 5.0 MB/s eta 0:00:01\r\u001b[K     |██████                          | 327 kB 5.0 MB/s eta 0:00:01\r\u001b[K     |██████                          | 337 kB 5.0 MB/s eta 0:00:01\r\u001b[K     |██████▎                         | 348 kB 5.0 MB/s eta 0:00:01\r\u001b[K     |██████▌                         | 358 kB 5.0 MB/s eta 0:00:01\r\u001b[K     |██████▋                         | 368 kB 5.0 MB/s eta 0:00:01\r\u001b[K     |██████▉                         | 378 kB 5.0 MB/s eta 0:00:01\r\u001b[K     |███████                         | 389 kB 5.0 MB/s eta 0:00:01\r\u001b[K     |███████▏                        | 399 kB 5.0 MB/s eta 0:00:01\r\u001b[K     |███████▍                        | 409 kB 5.0 MB/s eta 0:00:01\r\u001b[K     |███████▋                        | 419 kB 5.0 MB/s eta 0:00:01\r\u001b[K     |███████▊                        | 430 kB 5.0 MB/s eta 0:00:01\r\u001b[K     |████████                        | 440 kB 5.0 MB/s eta 0:00:01\r\u001b[K     |████████▏                       | 450 kB 5.0 MB/s eta 0:00:01\r\u001b[K     |████████▎                       | 460 kB 5.0 MB/s eta 0:00:01\r\u001b[K     |████████▌                       | 471 kB 5.0 MB/s eta 0:00:01\r\u001b[K     |████████▊                       | 481 kB 5.0 MB/s eta 0:00:01\r\u001b[K     |████████▉                       | 491 kB 5.0 MB/s eta 0:00:01\r\u001b[K     |█████████                       | 501 kB 5.0 MB/s eta 0:00:01\r\u001b[K     |█████████▎                      | 512 kB 5.0 MB/s eta 0:00:01\r\u001b[K     |█████████▍                      | 522 kB 5.0 MB/s eta 0:00:01\r\u001b[K     |█████████▋                      | 532 kB 5.0 MB/s eta 0:00:01\r\u001b[K     |█████████▉                      | 542 kB 5.0 MB/s eta 0:00:01\r\u001b[K     |██████████                      | 552 kB 5.0 MB/s eta 0:00:01\r\u001b[K     |██████████▏                     | 563 kB 5.0 MB/s eta 0:00:01\r\u001b[K     |██████████▍                     | 573 kB 5.0 MB/s eta 0:00:01\r\u001b[K     |██████████▌                     | 583 kB 5.0 MB/s eta 0:00:01\r\u001b[K     |██████████▊                     | 593 kB 5.0 MB/s eta 0:00:01\r\u001b[K     |███████████                     | 604 kB 5.0 MB/s eta 0:00:01\r\u001b[K     |███████████                     | 614 kB 5.0 MB/s eta 0:00:01\r\u001b[K     |███████████▎                    | 624 kB 5.0 MB/s eta 0:00:01\r\u001b[K     |███████████▌                    | 634 kB 5.0 MB/s eta 0:00:01\r\u001b[K     |███████████▋                    | 645 kB 5.0 MB/s eta 0:00:01\r\u001b[K     |███████████▉                    | 655 kB 5.0 MB/s eta 0:00:01\r\u001b[K     |████████████                    | 665 kB 5.0 MB/s eta 0:00:01\r\u001b[K     |████████████▏                   | 675 kB 5.0 MB/s eta 0:00:01\r\u001b[K     |████████████▍                   | 686 kB 5.0 MB/s eta 0:00:01\r\u001b[K     |████████████▋                   | 696 kB 5.0 MB/s eta 0:00:01\r\u001b[K     |████████████▊                   | 706 kB 5.0 MB/s eta 0:00:01\r\u001b[K     |█████████████                   | 716 kB 5.0 MB/s eta 0:00:01\r\u001b[K     |█████████████▏                  | 727 kB 5.0 MB/s eta 0:00:01\r\u001b[K     |█████████████▎                  | 737 kB 5.0 MB/s eta 0:00:01\r\u001b[K     |█████████████▌                  | 747 kB 5.0 MB/s eta 0:00:01\r\u001b[K     |█████████████▊                  | 757 kB 5.0 MB/s eta 0:00:01\r\u001b[K     |█████████████▉                  | 768 kB 5.0 MB/s eta 0:00:01\r\u001b[K     |██████████████                  | 778 kB 5.0 MB/s eta 0:00:01\r\u001b[K     |██████████████▏                 | 788 kB 5.0 MB/s eta 0:00:01\r\u001b[K     |██████████████▍                 | 798 kB 5.0 MB/s eta 0:00:01\r\u001b[K     |██████████████▋                 | 808 kB 5.0 MB/s eta 0:00:01\r\u001b[K     |██████████████▊                 | 819 kB 5.0 MB/s eta 0:00:01\r\u001b[K     |███████████████                 | 829 kB 5.0 MB/s eta 0:00:01\r\u001b[K     |███████████████▏                | 839 kB 5.0 MB/s eta 0:00:01\r\u001b[K     |███████████████▎                | 849 kB 5.0 MB/s eta 0:00:01\r\u001b[K     |███████████████▌                | 860 kB 5.0 MB/s eta 0:00:01\r\u001b[K     |███████████████▊                | 870 kB 5.0 MB/s eta 0:00:01\r\u001b[K     |███████████████▉                | 880 kB 5.0 MB/s eta 0:00:01\r\u001b[K     |████████████████                | 890 kB 5.0 MB/s eta 0:00:01\r\u001b[K     |████████████████▎               | 901 kB 5.0 MB/s eta 0:00:01\r\u001b[K     |████████████████▍               | 911 kB 5.0 MB/s eta 0:00:01\r\u001b[K     |████████████████▋               | 921 kB 5.0 MB/s eta 0:00:01\r\u001b[K     |████████████████▉               | 931 kB 5.0 MB/s eta 0:00:01\r\u001b[K     |█████████████████               | 942 kB 5.0 MB/s eta 0:00:01\r\u001b[K     |█████████████████▏              | 952 kB 5.0 MB/s eta 0:00:01\r\u001b[K     |█████████████████▍              | 962 kB 5.0 MB/s eta 0:00:01\r\u001b[K     |█████████████████▌              | 972 kB 5.0 MB/s eta 0:00:01\r\u001b[K     |█████████████████▊              | 983 kB 5.0 MB/s eta 0:00:01\r\u001b[K     |██████████████████              | 993 kB 5.0 MB/s eta 0:00:01\r\u001b[K     |██████████████████              | 1.0 MB 5.0 MB/s eta 0:00:01\r\u001b[K     |██████████████████▎             | 1.0 MB 5.0 MB/s eta 0:00:01\r\u001b[K     |██████████████████▌             | 1.0 MB 5.0 MB/s eta 0:00:01\r\u001b[K     |██████████████████▋             | 1.0 MB 5.0 MB/s eta 0:00:01\r\u001b[K     |██████████████████▉             | 1.0 MB 5.0 MB/s eta 0:00:01\r\u001b[K     |███████████████████             | 1.1 MB 5.0 MB/s eta 0:00:01\r\u001b[K     |███████████████████▏            | 1.1 MB 5.0 MB/s eta 0:00:01\r\u001b[K     |███████████████████▍            | 1.1 MB 5.0 MB/s eta 0:00:01\r\u001b[K     |███████████████████▋            | 1.1 MB 5.0 MB/s eta 0:00:01\r\u001b[K     |███████████████████▊            | 1.1 MB 5.0 MB/s eta 0:00:01\r\u001b[K     |████████████████████            | 1.1 MB 5.0 MB/s eta 0:00:01\r\u001b[K     |████████████████████▏           | 1.1 MB 5.0 MB/s eta 0:00:01\r\u001b[K     |████████████████████▎           | 1.1 MB 5.0 MB/s eta 0:00:01\r\u001b[K     |████████████████████▌           | 1.1 MB 5.0 MB/s eta 0:00:01\r\u001b[K     |████████████████████▊           | 1.1 MB 5.0 MB/s eta 0:00:01\r\u001b[K     |████████████████████▉           | 1.2 MB 5.0 MB/s eta 0:00:01\r\u001b[K     |█████████████████████           | 1.2 MB 5.0 MB/s eta 0:00:01\r\u001b[K     |█████████████████████▎          | 1.2 MB 5.0 MB/s eta 0:00:01\r\u001b[K     |█████████████████████▍          | 1.2 MB 5.0 MB/s eta 0:00:01\r\u001b[K     |█████████████████████▋          | 1.2 MB 5.0 MB/s eta 0:00:01\r\u001b[K     |█████████████████████▉          | 1.2 MB 5.0 MB/s eta 0:00:01\r\u001b[K     |██████████████████████          | 1.2 MB 5.0 MB/s eta 0:00:01\r\u001b[K     |██████████████████████▏         | 1.2 MB 5.0 MB/s eta 0:00:01\r\u001b[K     |██████████████████████▍         | 1.2 MB 5.0 MB/s eta 0:00:01\r\u001b[K     |██████████████████████▌         | 1.2 MB 5.0 MB/s eta 0:00:01\r\u001b[K     |██████████████████████▊         | 1.3 MB 5.0 MB/s eta 0:00:01\r\u001b[K     |███████████████████████         | 1.3 MB 5.0 MB/s eta 0:00:01\r\u001b[K     |███████████████████████         | 1.3 MB 5.0 MB/s eta 0:00:01\r\u001b[K     |███████████████████████▎        | 1.3 MB 5.0 MB/s eta 0:00:01\r\u001b[K     |███████████████████████▌        | 1.3 MB 5.0 MB/s eta 0:00:01\r\u001b[K     |███████████████████████▋        | 1.3 MB 5.0 MB/s eta 0:00:01\r\u001b[K     |███████████████████████▉        | 1.3 MB 5.0 MB/s eta 0:00:01\r\u001b[K     |████████████████████████        | 1.3 MB 5.0 MB/s eta 0:00:01\r\u001b[K     |████████████████████████▏       | 1.3 MB 5.0 MB/s eta 0:00:01\r\u001b[K     |████████████████████████▍       | 1.4 MB 5.0 MB/s eta 0:00:01\r\u001b[K     |████████████████████████▋       | 1.4 MB 5.0 MB/s eta 0:00:01\r\u001b[K     |████████████████████████▊       | 1.4 MB 5.0 MB/s eta 0:00:01\r\u001b[K     |█████████████████████████       | 1.4 MB 5.0 MB/s eta 0:00:01\r\u001b[K     |█████████████████████████▏      | 1.4 MB 5.0 MB/s eta 0:00:01\r\u001b[K     |█████████████████████████▎      | 1.4 MB 5.0 MB/s eta 0:00:01\r\u001b[K     |█████████████████████████▌      | 1.4 MB 5.0 MB/s eta 0:00:01\r\u001b[K     |█████████████████████████▊      | 1.4 MB 5.0 MB/s eta 0:00:01\r\u001b[K     |█████████████████████████▉      | 1.4 MB 5.0 MB/s eta 0:00:01\r\u001b[K     |██████████████████████████      | 1.4 MB 5.0 MB/s eta 0:00:01\r\u001b[K     |██████████████████████████▎     | 1.5 MB 5.0 MB/s eta 0:00:01\r\u001b[K     |██████████████████████████▍     | 1.5 MB 5.0 MB/s eta 0:00:01\r\u001b[K     |██████████████████████████▋     | 1.5 MB 5.0 MB/s eta 0:00:01\r\u001b[K     |██████████████████████████▉     | 1.5 MB 5.0 MB/s eta 0:00:01\r\u001b[K     |███████████████████████████     | 1.5 MB 5.0 MB/s eta 0:00:01\r\u001b[K     |███████████████████████████▏    | 1.5 MB 5.0 MB/s eta 0:00:01\r\u001b[K     |███████████████████████████▍    | 1.5 MB 5.0 MB/s eta 0:00:01\r\u001b[K     |███████████████████████████▌    | 1.5 MB 5.0 MB/s eta 0:00:01\r\u001b[K     |███████████████████████████▊    | 1.5 MB 5.0 MB/s eta 0:00:01\r\u001b[K     |████████████████████████████    | 1.5 MB 5.0 MB/s eta 0:00:01\r\u001b[K     |████████████████████████████    | 1.6 MB 5.0 MB/s eta 0:00:01\r\u001b[K     |████████████████████████████▎   | 1.6 MB 5.0 MB/s eta 0:00:01\r\u001b[K     |████████████████████████████▍   | 1.6 MB 5.0 MB/s eta 0:00:01\r\u001b[K     |████████████████████████████▋   | 1.6 MB 5.0 MB/s eta 0:00:01\r\u001b[K     |████████████████████████████▉   | 1.6 MB 5.0 MB/s eta 0:00:01\r\u001b[K     |█████████████████████████████   | 1.6 MB 5.0 MB/s eta 0:00:01\r\u001b[K     |█████████████████████████████▏  | 1.6 MB 5.0 MB/s eta 0:00:01\r\u001b[K     |█████████████████████████████▍  | 1.6 MB 5.0 MB/s eta 0:00:01\r\u001b[K     |█████████████████████████████▌  | 1.6 MB 5.0 MB/s eta 0:00:01\r\u001b[K     |█████████████████████████████▊  | 1.6 MB 5.0 MB/s eta 0:00:01\r\u001b[K     |██████████████████████████████  | 1.7 MB 5.0 MB/s eta 0:00:01\r\u001b[K     |██████████████████████████████  | 1.7 MB 5.0 MB/s eta 0:00:01\r\u001b[K     |██████████████████████████████▎ | 1.7 MB 5.0 MB/s eta 0:00:01\r\u001b[K     |██████████████████████████████▌ | 1.7 MB 5.0 MB/s eta 0:00:01\r\u001b[K     |██████████████████████████████▋ | 1.7 MB 5.0 MB/s eta 0:00:01\r\u001b[K     |██████████████████████████████▉ | 1.7 MB 5.0 MB/s eta 0:00:01\r\u001b[K     |███████████████████████████████ | 1.7 MB 5.0 MB/s eta 0:00:01\r\u001b[K     |███████████████████████████████▏| 1.7 MB 5.0 MB/s eta 0:00:01\r\u001b[K     |███████████████████████████████▍| 1.7 MB 5.0 MB/s eta 0:00:01\r\u001b[K     |███████████████████████████████▋| 1.8 MB 5.0 MB/s eta 0:00:01\r\u001b[K     |███████████████████████████████▊| 1.8 MB 5.0 MB/s eta 0:00:01\r\u001b[K     |████████████████████████████████| 1.8 MB 5.0 MB/s eta 0:00:01\r\u001b[K     |████████████████████████████████| 1.8 MB 5.0 MB/s \n",
            "\u001b[?25hRequirement already satisfied: requests<3,>=2.0.0 in /usr/local/lib/python3.7/dist-packages (from wandb) (2.23.0)\n",
            "Collecting GitPython>=1.0.0\n",
            "  Downloading GitPython-3.1.27-py3-none-any.whl (181 kB)\n",
            "\u001b[K     |████████████████████████████████| 181 kB 67.1 MB/s \n",
            "\u001b[?25hRequirement already satisfied: PyYAML in /usr/local/lib/python3.7/dist-packages (from wandb) (3.13)\n",
            "Requirement already satisfied: promise<3,>=2.0 in /usr/local/lib/python3.7/dist-packages (from wandb) (2.3)\n",
            "Collecting setproctitle\n",
            "  Downloading setproctitle-1.2.3-cp37-cp37m-manylinux_2_5_x86_64.manylinux1_x86_64.manylinux_2_17_x86_64.manylinux2014_x86_64.whl (29 kB)\n",
            "Requirement already satisfied: six>=1.13.0 in /usr/local/lib/python3.7/dist-packages (from wandb) (1.15.0)\n",
            "Collecting sentry-sdk>=1.0.0\n",
            "  Downloading sentry_sdk-1.5.10-py2.py3-none-any.whl (144 kB)\n",
            "\u001b[K     |████████████████████████████████| 144 kB 67.2 MB/s \n",
            "\u001b[?25hRequirement already satisfied: Click!=8.0.0,>=7.0 in /usr/local/lib/python3.7/dist-packages (from wandb) (7.1.2)\n",
            "Collecting shortuuid>=0.5.0\n",
            "  Downloading shortuuid-1.0.8-py3-none-any.whl (9.5 kB)\n",
            "Requirement already satisfied: protobuf>=3.12.0 in /usr/local/lib/python3.7/dist-packages (from wandb) (3.17.3)\n",
            "Collecting docker-pycreds>=0.4.0\n",
            "  Downloading docker_pycreds-0.4.0-py2.py3-none-any.whl (9.0 kB)\n",
            "Requirement already satisfied: psutil>=5.0.0 in /usr/local/lib/python3.7/dist-packages (from wandb) (5.4.8)\n",
            "Requirement already satisfied: python-dateutil>=2.6.1 in /usr/local/lib/python3.7/dist-packages (from wandb) (2.8.2)\n",
            "Collecting pathtools\n",
            "  Downloading pathtools-0.1.2.tar.gz (11 kB)\n",
            "Requirement already satisfied: typing-extensions>=3.7.4.3 in /usr/local/lib/python3.7/dist-packages (from GitPython>=1.0.0->wandb) (4.2.0)\n",
            "Collecting gitdb<5,>=4.0.1\n",
            "  Downloading gitdb-4.0.9-py3-none-any.whl (63 kB)\n",
            "\u001b[K     |████████████████████████████████| 63 kB 2.3 MB/s \n",
            "\u001b[?25hCollecting smmap<6,>=3.0.1\n",
            "  Downloading smmap-5.0.0-py3-none-any.whl (24 kB)\n",
            "Requirement already satisfied: urllib3!=1.25.0,!=1.25.1,<1.26,>=1.21.1 in /usr/local/lib/python3.7/dist-packages (from requests<3,>=2.0.0->wandb) (1.24.3)\n",
            "Requirement already satisfied: certifi>=2017.4.17 in /usr/local/lib/python3.7/dist-packages (from requests<3,>=2.0.0->wandb) (2021.10.8)\n",
            "Requirement already satisfied: idna<3,>=2.5 in /usr/local/lib/python3.7/dist-packages (from requests<3,>=2.0.0->wandb) (2.10)\n",
            "Requirement already satisfied: chardet<4,>=3.0.2 in /usr/local/lib/python3.7/dist-packages (from requests<3,>=2.0.0->wandb) (3.0.4)\n",
            "Building wheels for collected packages: pathtools\n",
            "  Building wheel for pathtools (setup.py) ... \u001b[?25l\u001b[?25hdone\n",
            "  Created wheel for pathtools: filename=pathtools-0.1.2-py3-none-any.whl size=8806 sha256=4b045962ec4da5e879335c21e3619b90ae9bbcfcc99ef9d2c114640b98cb2693\n",
            "  Stored in directory: /root/.cache/pip/wheels/3e/31/09/fa59cef12cdcfecc627b3d24273699f390e71828921b2cbba2\n",
            "Successfully built pathtools\n",
            "Installing collected packages: smmap, gitdb, shortuuid, setproctitle, sentry-sdk, pathtools, GitPython, docker-pycreds, wandb\n",
            "Successfully installed GitPython-3.1.27 docker-pycreds-0.4.0 gitdb-4.0.9 pathtools-0.1.2 sentry-sdk-1.5.10 setproctitle-1.2.3 shortuuid-1.0.8 smmap-5.0.0 wandb-0.12.15\n",
            "\u001b[34m\u001b[1mwandb\u001b[0m: You can find your API key in your browser here: https://wandb.ai/authorize\n",
            "\u001b[34m\u001b[1mwandb\u001b[0m: Paste an API key from your profile and hit enter, or press ctrl+c to quit: \n",
            "\u001b[34m\u001b[1mwandb\u001b[0m: Appending key for api.wandb.ai to your netrc file: /root/.netrc\n"
          ]
        }
      ],
      "source": [
        "!pip install wandb\n",
        "!wandb login"
      ]
    },
    {
      "cell_type": "code",
      "execution_count": 5,
      "metadata": {
        "colab": {
          "base_uri": "https://localhost:8080/",
          "height": 107
        },
        "id": "0KPeB4rQyy7M",
        "outputId": "078e4daf-4271-4de5-98db-af2ac39aa959"
      },
      "outputs": [
        {
          "output_type": "stream",
          "name": "stderr",
          "text": [
            "\u001b[34m\u001b[1mwandb\u001b[0m: Currently logged in as: \u001b[33mmmml\u001b[0m (use `wandb login --relogin` to force relogin)\n"
          ]
        },
        {
          "output_type": "display_data",
          "data": {
            "text/plain": [
              "<IPython.core.display.HTML object>"
            ],
            "text/html": [
              "Tracking run with wandb version 0.12.15"
            ]
          },
          "metadata": {}
        },
        {
          "output_type": "display_data",
          "data": {
            "text/plain": [
              "<IPython.core.display.HTML object>"
            ],
            "text/html": [
              "Run data is saved locally in <code>/content/wandb/run-20220426_222016-2qageimc</code>"
            ]
          },
          "metadata": {}
        },
        {
          "output_type": "display_data",
          "data": {
            "text/plain": [
              "<IPython.core.display.HTML object>"
            ],
            "text/html": [
              "Syncing run <strong><a href=\"https://wandb.ai/idl-deepar-spring-22/vector-training/runs/2qageimc\" target=\"_blank\">baseline-more-data-weighte-loss</a></strong> to <a href=\"https://wandb.ai/idl-deepar-spring-22/vector-training\" target=\"_blank\">Weights & Biases</a> (<a href=\"https://wandb.me/run\" target=\"_blank\">docs</a>)<br/>"
            ]
          },
          "metadata": {}
        },
        {
          "output_type": "execute_result",
          "data": {
            "text/html": [
              "<button onClick=\"this.nextSibling.style.display='block';this.style.display='none';\">Display W&B run</button><iframe src=\"https://wandb.ai/idl-deepar-spring-22/vector-training/runs/2qageimc?jupyter=true\" style=\"border:none;width:100%;height:420px;display:none;\"></iframe>"
            ],
            "text/plain": [
              "<wandb.sdk.wandb_run.Run at 0x7f208ced7950>"
            ]
          },
          "metadata": {},
          "execution_count": 5
        }
      ],
      "source": [
        "import wandb\n",
        "\n",
        "wandb.init(project=\"vector-training\", entity=\"idl-deepar-spring-22\", name=\"baseline-more-data-weighte-loss\")"
      ]
    },
    {
      "cell_type": "code",
      "execution_count": 6,
      "metadata": {
        "id": "QhJqZTrRCGn5"
      },
      "outputs": [],
      "source": [
        "import numpy as np\n",
        "import torch\n",
        "import torch.nn as nn\n",
        "import torch.nn.functional as F\n",
        "from torch.autograd import Variable\n",
        "import logging\n",
        "from sklearn import preprocessing\n",
        "import torch.optim as optim\n",
        "from tqdm import tqdm\n",
        "import os\n",
        "device = 'cuda' if torch.cuda.is_available() else 'cpu'\n"
      ]
    },
    {
      "cell_type": "code",
      "execution_count": 7,
      "metadata": {
        "id": "jrVlqh83a4kv",
        "colab": {
          "base_uri": "https://localhost:8080/"
        },
        "outputId": "dc48b0e3-ab52-4487-c979-6f94a9ff76f5"
      },
      "outputs": [
        {
          "output_type": "stream",
          "name": "stdout",
          "text": [
            "total rows:  0\n",
            "total rows:  0\n",
            "total rows:  19\n",
            "total rows:  19\n",
            "total rows:  526\n",
            "total rows:  526\n",
            "total rows:  526\n",
            "total rows:  776\n",
            "total rows:  879\n",
            "total rows:  1656\n",
            "/usr/local/lib/python3.7/dist-packages/numpy/core/_methods.py:230: RuntimeWarning: invalid value encountered in subtract\n",
            "  x = asanyarray(arr - arrmean)\n",
            "/usr/local/lib/python3.7/dist-packages/scipy/stats/stats.py:2419: RuntimeWarning: invalid value encountered in subtract\n",
            "  return (a - mns) / sstd\n",
            "total rows:  1656\n",
            "total rows:  2333\n",
            "total rows:  2333\n",
            "/usr/local/lib/python3.7/dist-packages/numpy/core/_methods.py:230: RuntimeWarning: invalid value encountered in subtract\n",
            "  x = asanyarray(arr - arrmean)\n",
            "/usr/local/lib/python3.7/dist-packages/scipy/stats/stats.py:2419: RuntimeWarning: invalid value encountered in subtract\n",
            "  return (a - mns) / sstd\n",
            "found nans\n",
            "total rows:  2333\n",
            "total rows:  2384\n",
            "total rows:  2384\n",
            "total rows:  2814\n",
            "total rows:  2858\n",
            "total rows:  2869\n",
            "total rows:  2869\n",
            "total rows:  2879\n",
            "total rows:  2879\n",
            "total rows:  2879\n",
            "total rows:  2923\n",
            "total rows:  2923\n",
            "total rows:  2923\n",
            "total rows:  2923\n",
            "total rows:  2923\n",
            "total rows:  3486\n",
            "total rows:  3486\n",
            "total rows:  3486\n",
            "total rows:  3486\n",
            "total rows:  3860\n",
            "/usr/local/lib/python3.7/dist-packages/numpy/core/_methods.py:230: RuntimeWarning: invalid value encountered in subtract\n",
            "  x = asanyarray(arr - arrmean)\n",
            "/usr/local/lib/python3.7/dist-packages/scipy/stats/stats.py:2419: RuntimeWarning: invalid value encountered in subtract\n",
            "  return (a - mns) / sstd\n",
            "total rows:  3860\n",
            "total rows:  3860\n",
            "total rows:  3871\n",
            "total rows:  3871\n",
            "/usr/local/lib/python3.7/dist-packages/numpy/core/_methods.py:230: RuntimeWarning: invalid value encountered in subtract\n",
            "  x = asanyarray(arr - arrmean)\n",
            "/usr/local/lib/python3.7/dist-packages/scipy/stats/stats.py:2419: RuntimeWarning: invalid value encountered in subtract\n",
            "  return (a - mns) / sstd\n",
            "total rows:  3871\n",
            "total rows:  3947\n",
            "total rows:  3973\n",
            "total rows:  4715\n",
            "total rows:  4715\n",
            "total rows:  4715\n",
            "total rows:  5250\n",
            "total rows:  5250\n",
            "total rows:  5250\n",
            "total rows:  6784\n",
            "total rows:  6873\n",
            "total rows:  7144\n",
            "total rows:  7144\n",
            "total rows:  7144\n",
            "total rows:  8592\n",
            "total rows:  8592\n",
            "total rows:  9489\n",
            "/usr/local/lib/python3.7/dist-packages/numpy/core/_methods.py:230: RuntimeWarning: invalid value encountered in subtract\n",
            "  x = asanyarray(arr - arrmean)\n",
            "/usr/local/lib/python3.7/dist-packages/scipy/stats/stats.py:2419: RuntimeWarning: invalid value encountered in subtract\n",
            "  return (a - mns) / sstd\n",
            "found nans\n",
            "total rows:  9489\n",
            "/usr/local/lib/python3.7/dist-packages/numpy/core/_methods.py:230: RuntimeWarning: invalid value encountered in subtract\n",
            "  x = asanyarray(arr - arrmean)\n",
            "/usr/local/lib/python3.7/dist-packages/scipy/stats/stats.py:2419: RuntimeWarning: invalid value encountered in subtract\n",
            "  return (a - mns) / sstd\n",
            "found nans\n",
            "total rows:  9489\n",
            "total rows:  10377\n",
            "total rows:  10387\n",
            "total rows:  10397\n",
            "total rows:  10397\n",
            "total rows:  10848\n",
            "/usr/local/lib/python3.7/dist-packages/numpy/core/_methods.py:230: RuntimeWarning: invalid value encountered in subtract\n",
            "  x = asanyarray(arr - arrmean)\n",
            "/usr/local/lib/python3.7/dist-packages/scipy/stats/stats.py:2419: RuntimeWarning: invalid value encountered in subtract\n",
            "  return (a - mns) / sstd\n",
            "found nans\n",
            "total rows:  10848\n",
            "total rows:  10848\n",
            "total rows:  10943\n",
            "total rows:  10953\n",
            "total rows:  10953\n",
            "/usr/local/lib/python3.7/dist-packages/numpy/core/_methods.py:230: RuntimeWarning: invalid value encountered in subtract\n",
            "  x = asanyarray(arr - arrmean)\n",
            "/usr/local/lib/python3.7/dist-packages/scipy/stats/stats.py:2419: RuntimeWarning: invalid value encountered in subtract\n",
            "  return (a - mns) / sstd\n",
            "found nans\n",
            "total rows:  10953\n",
            "total rows:  11238\n",
            "/usr/local/lib/python3.7/dist-packages/numpy/core/_methods.py:230: RuntimeWarning: invalid value encountered in subtract\n",
            "  x = asanyarray(arr - arrmean)\n",
            "/usr/local/lib/python3.7/dist-packages/scipy/stats/stats.py:2419: RuntimeWarning: invalid value encountered in subtract\n",
            "  return (a - mns) / sstd\n",
            "found nans\n",
            "total rows:  11238\n",
            "total rows:  11238\n",
            "/usr/local/lib/python3.7/dist-packages/numpy/core/_methods.py:230: RuntimeWarning: invalid value encountered in subtract\n",
            "  x = asanyarray(arr - arrmean)\n",
            "/usr/local/lib/python3.7/dist-packages/scipy/stats/stats.py:2419: RuntimeWarning: invalid value encountered in subtract\n",
            "  return (a - mns) / sstd\n",
            "found nans\n",
            "total rows:  11238\n",
            "total rows:  11665\n",
            "total rows:  11665\n",
            "total rows:  11764\n",
            "/usr/local/lib/python3.7/dist-packages/numpy/core/_methods.py:230: RuntimeWarning: invalid value encountered in subtract\n",
            "  x = asanyarray(arr - arrmean)\n",
            "/usr/local/lib/python3.7/dist-packages/scipy/stats/stats.py:2419: RuntimeWarning: invalid value encountered in subtract\n",
            "  return (a - mns) / sstd\n",
            "found nans\n",
            "total rows:  11764\n",
            "total rows:  11764\n",
            "total rows:  11853\n",
            "total rows:  11853\n",
            "total rows:  12515\n",
            "total rows:  12515\n",
            "total rows:  12574\n",
            "total rows:  12574\n",
            "total rows:  12993\n",
            "total rows:  12993\n",
            "total rows:  13213\n",
            "total rows:  13271\n",
            "total rows:  13271\n",
            "total rows:  13329\n",
            "total rows:  13329\n",
            "total rows:  13413\n",
            "total rows:  13423\n",
            "total rows:  13842\n",
            "total rows:  14059\n",
            "total rows:  14148\n",
            "/usr/local/lib/python3.7/dist-packages/numpy/core/_methods.py:230: RuntimeWarning: invalid value encountered in subtract\n",
            "  x = asanyarray(arr - arrmean)\n",
            "/usr/local/lib/python3.7/dist-packages/scipy/stats/stats.py:2419: RuntimeWarning: invalid value encountered in subtract\n",
            "  return (a - mns) / sstd\n",
            "found nans\n",
            "total rows:  14148\n",
            "total rows:  14622\n",
            "total rows:  14622\n",
            "total rows:  14779\n",
            "/usr/local/lib/python3.7/dist-packages/numpy/core/_methods.py:230: RuntimeWarning: invalid value encountered in subtract\n",
            "  x = asanyarray(arr - arrmean)\n",
            "/usr/local/lib/python3.7/dist-packages/scipy/stats/stats.py:2419: RuntimeWarning: invalid value encountered in subtract\n",
            "  return (a - mns) / sstd\n",
            "found nans\n",
            "total rows:  14779\n",
            "/usr/local/lib/python3.7/dist-packages/numpy/core/_methods.py:230: RuntimeWarning: invalid value encountered in subtract\n",
            "  x = asanyarray(arr - arrmean)\n",
            "/usr/local/lib/python3.7/dist-packages/scipy/stats/stats.py:2419: RuntimeWarning: invalid value encountered in subtract\n",
            "  return (a - mns) / sstd\n",
            "total rows:  14779\n",
            "/usr/local/lib/python3.7/dist-packages/numpy/core/_methods.py:230: RuntimeWarning: invalid value encountered in subtract\n",
            "  x = asanyarray(arr - arrmean)\n",
            "/usr/local/lib/python3.7/dist-packages/scipy/stats/stats.py:2419: RuntimeWarning: invalid value encountered in subtract\n",
            "  return (a - mns) / sstd\n",
            "total rows:  14779\n",
            "total rows:  14837\n",
            "total rows:  14847\n",
            "total rows:  14873\n",
            "total rows:  15174\n",
            "total rows:  15174\n",
            "total rows:  15749\n",
            "total rows:  15749\n",
            "total rows:  15973\n",
            "total rows:  16067\n",
            "/usr/local/lib/python3.7/dist-packages/numpy/core/_methods.py:230: RuntimeWarning: invalid value encountered in subtract\n",
            "  x = asanyarray(arr - arrmean)\n",
            "/usr/local/lib/python3.7/dist-packages/scipy/stats/stats.py:2419: RuntimeWarning: invalid value encountered in subtract\n",
            "  return (a - mns) / sstd\n",
            "found nans\n",
            "total rows:  16067\n",
            "total rows:  16067\n",
            "total rows:  16368\n",
            "total rows:  16378\n",
            "total rows:  16378\n",
            "total rows:  16378\n",
            "/usr/local/lib/python3.7/dist-packages/numpy/core/_methods.py:230: RuntimeWarning: invalid value encountered in subtract\n",
            "  x = asanyarray(arr - arrmean)\n",
            "/usr/local/lib/python3.7/dist-packages/scipy/stats/stats.py:2419: RuntimeWarning: invalid value encountered in subtract\n",
            "  return (a - mns) / sstd\n",
            "found nans\n",
            "total rows:  16378\n",
            "total rows:  16941\n",
            "total rows:  17037\n",
            "total rows:  17037\n",
            "total rows:  17133\n",
            "total rows:  17133\n",
            "total rows:  17726\n",
            "total rows:  20210\n",
            "total rows:  21954\n",
            "total rows:  22842\n",
            "total rows:  22842\n",
            "total rows:  22964\n",
            "/usr/local/lib/python3.7/dist-packages/numpy/core/_methods.py:230: RuntimeWarning: invalid value encountered in subtract\n",
            "  x = asanyarray(arr - arrmean)\n",
            "/usr/local/lib/python3.7/dist-packages/scipy/stats/stats.py:2419: RuntimeWarning: invalid value encountered in subtract\n",
            "  return (a - mns) / sstd\n",
            "found nans\n",
            "total rows:  22964\n",
            "total rows:  24205\n",
            "total rows:  27721\n",
            "total rows:  27774\n",
            "/usr/local/lib/python3.7/dist-packages/numpy/core/_methods.py:230: RuntimeWarning: invalid value encountered in subtract\n",
            "  x = asanyarray(arr - arrmean)\n",
            "/usr/local/lib/python3.7/dist-packages/scipy/stats/stats.py:2419: RuntimeWarning: invalid value encountered in subtract\n",
            "  return (a - mns) / sstd\n",
            "found nans\n",
            "total rows:  27774\n",
            "total rows:  28745\n",
            "total rows:  29041\n",
            "total rows:  29175\n",
            "total rows:  29186\n",
            "total rows:  29186\n",
            "total rows:  29186\n",
            "/usr/local/lib/python3.7/dist-packages/numpy/core/_methods.py:230: RuntimeWarning: invalid value encountered in subtract\n",
            "  x = asanyarray(arr - arrmean)\n",
            "/usr/local/lib/python3.7/dist-packages/scipy/stats/stats.py:2419: RuntimeWarning: invalid value encountered in subtract\n",
            "  return (a - mns) / sstd\n",
            "found nans\n",
            "total rows:  29186\n",
            "total rows:  29633\n",
            "total rows:  29633\n",
            "total rows:  29633\n",
            "total rows:  31449\n",
            "total rows:  31449\n",
            "total rows:  31469\n",
            "total rows:  31888\n",
            "total rows:  31888\n",
            "total rows:  31898\n",
            "total rows:  33172\n",
            "total rows:  33172\n",
            "/usr/local/lib/python3.7/dist-packages/numpy/core/_methods.py:230: RuntimeWarning: invalid value encountered in subtract\n",
            "  x = asanyarray(arr - arrmean)\n",
            "/usr/local/lib/python3.7/dist-packages/scipy/stats/stats.py:2419: RuntimeWarning: invalid value encountered in subtract\n",
            "  return (a - mns) / sstd\n",
            "found nans\n",
            "total rows:  33172\n",
            "total rows:  33681\n",
            "total rows:  33929\n",
            "total rows:  33929\n",
            "total rows:  33988\n",
            "total rows:  33988\n",
            "total rows:  33988\n",
            "total rows:  33998\n",
            "total rows:  33998\n",
            "total rows:  34049\n",
            "total rows:  34049\n",
            "/usr/local/lib/python3.7/dist-packages/numpy/core/_methods.py:230: RuntimeWarning: invalid value encountered in subtract\n",
            "  x = asanyarray(arr - arrmean)\n",
            "/usr/local/lib/python3.7/dist-packages/scipy/stats/stats.py:2419: RuntimeWarning: invalid value encountered in subtract\n",
            "  return (a - mns) / sstd\n",
            "found nans\n",
            "total rows:  34049\n",
            "total rows:  34350\n",
            "total rows:  34437\n",
            "total rows:  34437\n",
            "/usr/local/lib/python3.7/dist-packages/numpy/core/_methods.py:230: RuntimeWarning: invalid value encountered in subtract\n",
            "  x = asanyarray(arr - arrmean)\n",
            "/usr/local/lib/python3.7/dist-packages/scipy/stats/stats.py:2419: RuntimeWarning: invalid value encountered in subtract\n",
            "  return (a - mns) / sstd\n",
            "total rows:  34437\n",
            "total rows:  34437\n",
            "total rows:  34437\n",
            "total rows:  34437\n",
            "total rows:  35325\n",
            "total rows:  35420\n",
            "/usr/local/lib/python3.7/dist-packages/numpy/core/_methods.py:230: RuntimeWarning: invalid value encountered in subtract\n",
            "  x = asanyarray(arr - arrmean)\n",
            "/usr/local/lib/python3.7/dist-packages/scipy/stats/stats.py:2419: RuntimeWarning: invalid value encountered in subtract\n",
            "  return (a - mns) / sstd\n",
            "found nans\n",
            "total rows:  35420\n",
            "total rows:  35510\n",
            "total rows:  35510\n",
            "total rows:  35529\n",
            "total rows:  36064\n",
            "total rows:  36119\n",
            "total rows:  36410\n",
            "/usr/local/lib/python3.7/dist-packages/numpy/core/_methods.py:230: RuntimeWarning: invalid value encountered in subtract\n",
            "  x = asanyarray(arr - arrmean)\n",
            "/usr/local/lib/python3.7/dist-packages/scipy/stats/stats.py:2419: RuntimeWarning: invalid value encountered in subtract\n",
            "  return (a - mns) / sstd\n",
            "found nans\n",
            "total rows:  36410\n",
            "total rows:  36410\n",
            "total rows:  36876\n",
            "total rows:  36876\n",
            "total rows:  37177\n",
            "total rows:  37800\n",
            "total rows:  37800\n",
            "total rows:  38335\n",
            "total rows:  38335\n",
            "total rows:  38335\n",
            "total rows:  38335\n",
            "total rows:  41249\n",
            "total rows:  41501\n",
            "total rows:  41501\n",
            "total rows:  42063\n",
            "total rows:  42063\n",
            "total rows:  42951\n",
            "total rows:  42995\n",
            "/usr/local/lib/python3.7/dist-packages/numpy/core/_methods.py:230: RuntimeWarning: invalid value encountered in subtract\n",
            "  x = asanyarray(arr - arrmean)\n",
            "/usr/local/lib/python3.7/dist-packages/scipy/stats/stats.py:2419: RuntimeWarning: invalid value encountered in subtract\n",
            "  return (a - mns) / sstd\n",
            "found nans\n",
            "total rows:  42995\n",
            "total rows:  45584\n",
            "total rows:  45584\n",
            "total rows:  45863\n",
            "total rows:  45873\n",
            "total rows:  45873\n",
            "total rows:  46447\n",
            "total rows:  47040\n",
            "total rows:  48118\n",
            "total rows:  48118\n",
            "total rows:  48402\n",
            "total rows:  49144\n",
            "total rows:  49990\n",
            "/usr/local/lib/python3.7/dist-packages/numpy/core/_methods.py:230: RuntimeWarning: invalid value encountered in subtract\n",
            "  x = asanyarray(arr - arrmean)\n",
            "/usr/local/lib/python3.7/dist-packages/scipy/stats/stats.py:2419: RuntimeWarning: invalid value encountered in subtract\n",
            "  return (a - mns) / sstd\n",
            "found nans\n",
            "total rows:  49990\n",
            "/usr/local/lib/python3.7/dist-packages/numpy/core/_methods.py:230: RuntimeWarning: invalid value encountered in subtract\n",
            "  x = asanyarray(arr - arrmean)\n",
            "/usr/local/lib/python3.7/dist-packages/scipy/stats/stats.py:2419: RuntimeWarning: invalid value encountered in subtract\n",
            "  return (a - mns) / sstd\n",
            "found nans\n",
            "total rows:  49990\n",
            "<class 'pandas.core.frame.DataFrame'>\n",
            "Int64Index: 875 entries, 0 to 874\n",
            "Data columns (total 13 columns):\n",
            " #   Column  Non-Null Count  Dtype  \n",
            "---  ------  --------------  -----  \n",
            " 0   0_open  875 non-null    float64\n",
            " 1   0_name  875 non-null    object \n",
            " 2   1_open  875 non-null    float64\n",
            " 3   1_name  875 non-null    object \n",
            " 4   2_open  875 non-null    float64\n",
            " 5   2_name  875 non-null    object \n",
            " 6   3_open  875 non-null    float64\n",
            " 7   3_name  875 non-null    object \n",
            " 8   4_open  875 non-null    float64\n",
            " 9   4_name  875 non-null    object \n",
            " 10  day     875 non-null    int64  \n",
            " 11  month   875 non-null    int64  \n",
            " 12  sector  875 non-null    object \n",
            "dtypes: float64(5), int64(2), object(6)\n",
            "memory usage: 95.7+ KB\n",
            "None\n",
            "{0: 'LQMT', 1: 'LMT', 2: 'R', 3: 'APT', 4: 'PL', 5: 'SKIN', 6: 'TQLB', 7: 'MO', 8: 'ACI', 9: 'TGT', 10: 'SUNL', 11: 'L', 12: 'AMP', 13: 'MA', 14: 'PSLV', 15: 'KO', 16: 'COTY', 17: 'FAMI', 18: 'MNST', 19: 'D', 20: 'PCG', 21: 'ES', 22: 'HLGN', 23: 'OEG', 24: 'AGR', 25: 'ONE', 26: 'CLX', 27: 'COST', 28: 'WMT', 29: 'SBEV', 30: 'CRWD', 31: 'NVDA', 32: 'ZI', 33: 'DOCU', 34: 'ENPH', 35: 'EXAS', 36: 'VBIV', 37: 'EXEL', 38: 'CLPT', 39: 'CVS', 40: 'ATAI', 41: 'CDNA', 42: 'SNDL', 43: 'TGGI', 44: 'NURO', 45: 'Z', 46: 'CNK', 47: 'EA', 48: 'SNAP', 49: 'GOOG', 50: 'VINE', 51: 'FREE', 52: 'PG', 53: 'CELH', 54: 'AG', 55: 'CLF', 56: 'NEM', 57: 'AFPW', 58: 'AMRS', 59: 'FSR', 60: 'JD', 61: 'RKUNY', 62: 'LCID', 63: 'RENN', 64: 'PDD', 65: 'NEGG', 66: 'PZZA', 67: 'BBIG', 68: 'DKS', 69: 'BLUE', 70: 'ATIP', 71: 'ERBB', 72: 'AFMD', 73: 'RWBYF', 74: 'PINS', 75: 'DASH', 76: 'TTWO', 77: 'SNPW', 78: 'ATVI', 79: 'PLD', 80: 'AMT', 81: 'OPAD', 82: 'AHT', 83: 'MSTO', 84: 'VFF', 85: 'GLASF', 86: 'INMD', 87: 'BNTX', 88: 'XSPA', 89: 'ASO', 90: 'PENN', 91: 'DDS', 92: 'GP', 93: 'CNGT', 94: 'PSTH', 95: 'UMAX', 96: 'CFVI', 97: 'BTT', 98: 'K', 99: 'MF', 100: 'FHS', 101: 'RBLX', 102: 'SBGI', 103: 'TWLO', 104: 'NFLX', 105: 'GOOGL', 106: 'CABO', 107: 'ATUS', 108: 'T', 109: 'SE', 110: 'AFRM', 111: 'BB', 112: 'MQ', 113: 'TXN', 114: 'ADBE', 115: 'GSK', 116: 'GILD', 117: 'BMY', 118: 'NWBO', 119: 'BCTX', 120: 'ABNB', 121: 'URBN', 122: 'FND', 123: 'YETI', 124: 'HOUR', 125: 'MS', 126: 'NGCG', 127: 'GGAL', 128: 'IFXY', 129: 'PRU', 130: 'NIO', 131: 'LTRY', 132: 'TONR', 133: 'CPNG', 134: 'PIK', 135: 'AMD', 136: 'CSCO', 137: 'FTNT', 138: 'HUBS', 139: 'DLO', 140: 'HUYA', 141: 'SPOT', 142: 'A', 143: 'IMMX', 144: 'AEZS', 145: 'GMVD', 146: 'OCGN', 147: 'XXII', 148: 'CRTX', 149: 'TNDM', 150: 'WM', 151: 'GE', 152: 'UAL', 153: 'JOBY', 154: 'DAL', 155: 'FCX', 156: 'MAG', 157: 'AA', 158: 'CF', 159: 'VALE', 160: 'OLPX', 161: 'EXPE', 162: 'BROS', 163: 'POLA', 164: 'TRI', 165: 'IVST', 166: 'ALK', 167: 'J', 168: 'B', 169: 'FDX', 170: 'AZ', 171: 'VZ', 172: 'AMC', 173: 'UCTT', 174: 'SPLK', 175: 'CTXS', 176: 'ORCL', 177: 'IBM', 178: 'FIZZ', 179: 'ETSY', 180: 'W', 181: 'ATER', 182: 'ELYS', 183: 'BKNG', 184: 'PTRA', 185: 'AMZN', 186: 'NKLA', 187: 'FANG', 188: 'EQT', 189: 'CNQ', 190: 'HES', 191: 'UEC', 192: 'DOCN', 193: 'GWSO', 194: 'SOS', 195: 'QCOM', 196: 'NCNO', 197: 'SYPR', 198: 'GPS', 199: 'GME', 200: 'HOG', 201: 'TKAT', 202: 'GVSI', 203: 'LVS', 204: 'MRIN', 205: 'HMNY', 206: 'APPS', 207: 'SAFE', 208: 'RDFN', 209: 'AAL', 210: 'DGLY', 211: 'CHRA', 212: 'AJRD', 213: 'DEFTF', 214: 'RELI', 215: 'SCHW', 216: 'CFG', 217: 'NAK', 218: 'NG', 219: 'CC', 220: 'WWR', 221: 'MP', 222: 'OPEN', 223: 'U', 224: 'RUN', 225: 'WEJO', 226: 'MSTR', 227: 'HMBL', 228: 'SOTK', 229: 'PAR', 230: 'DM', 231: 'FSLY', 232: 'NOK', 233: 'CRKR', 234: 'FOMC', 235: 'BTCS', 236: 'GRWG', 237: 'XPEV', 238: 'SEV', 239: 'ICOA', 240: 'FB', 241: 'RIOT', 242: 'SEAC', 243: 'TYL', 244: 'SONO', 245: 'BYND', 246: 'DNUT', 247: 'ARWR', 248: 'CLOV', 249: 'CDXC', 250: 'AMRN', 251: 'RNWF', 252: 'MOS', 253: 'PIXY', 254: 'SPCE', 255: 'CAT', 256: 'PYPL', 257: 'TPG', 258: 'WFC', 259: 'BTU', 260: 'RIG', 261: 'BRN', 262: 'BP', 263: 'SLB', 264: 'VLO', 265: 'PXD', 266: 'XOM', 267: 'CVX', 268: 'WLL', 269: 'OPTT', 270: 'ALPP', 271: 'ZIM', 272: 'CVE', 273: 'CEI', 274: 'VTXB', 275: 'KSS', 276: 'BABA', 277: 'BABL', 278: 'ONON', 279: 'CVNA', 280: 'RIO', 281: 'GOLD', 282: 'ORGN', 283: 'LGVN', 284: 'SENS', 285: 'ALDX', 286: 'GEVO', 287: 'X', 288: 'TRVN', 289: 'BBIO', 290: 'DCGO', 291: 'IPA', 292: 'MMAT', 293: 'DDOG', 294: 'BEEM', 295: 'NEWR', 296: 'KMI', 297: 'OXY', 298: 'GTE', 299: 'NRT', 300: 'CODX', 301: 'LMND', 302: 'IBKR', 303: 'BTBT', 304: 'NTNX', 305: 'GLW', 306: 'CRSM', 307: 'CCL', 308: 'KBH', 309: 'RCL', 310: 'F', 311: 'GRIL', 312: 'EMN', 313: 'GGPI', 314: 'UPST', 315: 'FORW', 316: 'CS', 317: 'FUTU', 318: 'GS', 319: 'TECK', 320: 'ASM', 321: 'SAVE', 322: 'NTDOY', 323: 'XNET', 324: 'OPRA', 325: 'GOGO', 326: 'DLTR', 327: 'PEP', 328: 'ROKU', 329: 'BIDU', 330: 'GRPN', 331: 'HAIN', 332: 'LOTZ', 333: 'PTON', 334: 'SGC', 335: 'DBMM', 336: 'YNDX', 337: 'GENI', 338: 'STRN', 339: 'ISIG', 340: 'TWTR', 341: 'IRTC', 342: 'VVOS', 343: 'JNJ', 344: 'AUD', 345: 'LAC', 346: 'LTC', 347: 'FBRX', 348: 'RVPH', 349: 'RGBPP', 350: 'GERN', 351: 'DNA', 352: 'AERC', 353: 'RCRT', 354: 'CBAT', 355: 'AVGO', 356: 'COMP', 357: 'GPRO', 358: 'BKKT', 359: 'ET', 360: 'DNN', 361: 'AUNXF', 362: 'NICH', 363: 'GPN', 364: 'PLUG', 365: 'GGG', 366: 'JPM', 367: 'VET', 368: 'CCJ', 369: 'IPOOF', 370: 'GNCA', 371: 'UNH', 372: 'ABUS', 373: 'PSFE', 374: 'VRAR', 375: 'DELL', 376: 'OKTA', 377: 'BHVN', 378: 'ACAD', 379: 'XERS', 380: 'AVLR', 381: 'DATS', 382: 'AEHR', 383: 'ZNGA', 384: 'EVGO', 385: 'FTCH', 386: 'EBAY', 387: 'E', 388: 'LAZR', 389: 'ARQQ', 390: 'YALA', 391: 'DVN', 392: 'AR', 393: 'PULM', 394: 'PROG', 395: 'SAVA', 396: 'SKLZ', 397: 'BLNK', 398: 'ENS', 399: 'NTLA', 400: 'MRNA', 401: 'GTBIF', 402: 'CAMT', 403: 'VMNT', 404: 'MLCO', 405: 'JMIA', 406: 'BX', 407: 'V', 408: 'PGR', 409: 'SRPT', 410: 'DIS', 411: 'AMBA', 412: 'CRCT', 413: 'GGII', 414: 'BA', 415: 'UNP', 416: 'MMM', 417: 'DOGZ', 418: 'LC', 419: 'MGI', 420: 'VUZI', 421: 'UBER', 422: 'XELA', 423: 'IDEX', 424: 'APA', 425: 'CHK', 426: 'FUBO', 427: 'HZNP', 428: 'HGEN', 429: 'HPE', 430: 'MRVL', 431: 'COIN', 432: 'GNRC', 433: 'TLRY', 434: 'OTLY', 435: 'CL', 436: 'CHGG', 437: 'ACN', 438: 'SWKS', 439: 'CRM', 440: 'NTAP', 441: 'RAD', 442: 'BIIB', 443: 'TRIP', 444: 'APRN', 445: 'MELI', 446: 'NU', 447: 'GOEV', 448: 'GOOS', 449: 'PLBY', 450: 'BHP', 451: 'EXK', 452: 'AU', 453: 'MRK', 454: 'XAIR', 455: 'CRDL', 456: 'TSCO', 457: 'GNOG', 458: 'LEN', 459: 'LUV', 460: 'ZIP', 461: 'FCEL', 462: 'HCC', 463: 'LRDR', 464: 'AEO', 465: 'LOCO', 466: 'ABT', 467: 'FOLD', 468: 'ILMN', 469: 'EVO'}\n",
            "{'LQMT': 0, 'LMT': 1, 'R': 2, 'APT': 3, 'PL': 4, 'SKIN': 5, 'TQLB': 6, 'MO': 7, 'ACI': 8, 'TGT': 9, 'SUNL': 10, 'L': 11, 'AMP': 12, 'MA': 13, 'PSLV': 14, 'KO': 15, 'COTY': 16, 'FAMI': 17, 'MNST': 18, 'D': 19, 'PCG': 20, 'ES': 21, 'HLGN': 22, 'OEG': 23, 'AGR': 24, 'ONE': 25, 'CLX': 26, 'COST': 27, 'WMT': 28, 'SBEV': 29, 'CRWD': 30, 'NVDA': 31, 'ZI': 32, 'DOCU': 33, 'ENPH': 34, 'EXAS': 35, 'VBIV': 36, 'EXEL': 37, 'CLPT': 38, 'CVS': 39, 'ATAI': 40, 'CDNA': 41, 'SNDL': 42, 'TGGI': 43, 'NURO': 44, 'Z': 45, 'CNK': 46, 'EA': 47, 'SNAP': 48, 'GOOG': 49, 'VINE': 50, 'FREE': 51, 'PG': 52, 'CELH': 53, 'AG': 54, 'CLF': 55, 'NEM': 56, 'AFPW': 57, 'AMRS': 58, 'FSR': 59, 'JD': 60, 'RKUNY': 61, 'LCID': 62, 'RENN': 63, 'PDD': 64, 'NEGG': 65, 'PZZA': 66, 'BBIG': 67, 'DKS': 68, 'BLUE': 69, 'ATIP': 70, 'ERBB': 71, 'AFMD': 72, 'RWBYF': 73, 'PINS': 74, 'DASH': 75, 'TTWO': 76, 'SNPW': 77, 'ATVI': 78, 'PLD': 79, 'AMT': 80, 'OPAD': 81, 'AHT': 82, 'MSTO': 83, 'VFF': 84, 'GLASF': 85, 'INMD': 86, 'BNTX': 87, 'XSPA': 88, 'ASO': 89, 'PENN': 90, 'DDS': 91, 'GP': 92, 'CNGT': 93, 'PSTH': 94, 'UMAX': 95, 'CFVI': 96, 'BTT': 97, 'K': 98, 'MF': 99, 'FHS': 100, 'RBLX': 101, 'SBGI': 102, 'TWLO': 103, 'NFLX': 104, 'GOOGL': 105, 'CABO': 106, 'ATUS': 107, 'T': 108, 'SE': 109, 'AFRM': 110, 'BB': 111, 'MQ': 112, 'TXN': 113, 'ADBE': 114, 'GSK': 115, 'GILD': 116, 'BMY': 117, 'NWBO': 118, 'BCTX': 119, 'ABNB': 120, 'URBN': 121, 'FND': 122, 'YETI': 123, 'HOUR': 124, 'MS': 125, 'NGCG': 126, 'GGAL': 127, 'IFXY': 128, 'PRU': 129, 'NIO': 130, 'LTRY': 131, 'TONR': 132, 'CPNG': 133, 'PIK': 134, 'AMD': 135, 'CSCO': 136, 'FTNT': 137, 'HUBS': 138, 'DLO': 139, 'HUYA': 140, 'SPOT': 141, 'A': 142, 'IMMX': 143, 'AEZS': 144, 'GMVD': 145, 'OCGN': 146, 'XXII': 147, 'CRTX': 148, 'TNDM': 149, 'WM': 150, 'GE': 151, 'UAL': 152, 'JOBY': 153, 'DAL': 154, 'FCX': 155, 'MAG': 156, 'AA': 157, 'CF': 158, 'VALE': 159, 'OLPX': 160, 'EXPE': 161, 'BROS': 162, 'POLA': 163, 'TRI': 164, 'IVST': 165, 'ALK': 166, 'J': 167, 'B': 168, 'FDX': 169, 'AZ': 170, 'VZ': 171, 'AMC': 172, 'UCTT': 173, 'SPLK': 174, 'CTXS': 175, 'ORCL': 176, 'IBM': 177, 'FIZZ': 178, 'ETSY': 179, 'W': 180, 'ATER': 181, 'ELYS': 182, 'BKNG': 183, 'PTRA': 184, 'AMZN': 185, 'NKLA': 186, 'FANG': 187, 'EQT': 188, 'CNQ': 189, 'HES': 190, 'UEC': 191, 'DOCN': 192, 'GWSO': 193, 'SOS': 194, 'QCOM': 195, 'NCNO': 196, 'SYPR': 197, 'GPS': 198, 'GME': 199, 'HOG': 200, 'TKAT': 201, 'GVSI': 202, 'LVS': 203, 'MRIN': 204, 'HMNY': 205, 'APPS': 206, 'SAFE': 207, 'RDFN': 208, 'AAL': 209, 'DGLY': 210, 'CHRA': 211, 'AJRD': 212, 'DEFTF': 213, 'RELI': 214, 'SCHW': 215, 'CFG': 216, 'NAK': 217, 'NG': 218, 'CC': 219, 'WWR': 220, 'MP': 221, 'OPEN': 222, 'U': 223, 'RUN': 224, 'WEJO': 225, 'MSTR': 226, 'HMBL': 227, 'SOTK': 228, 'PAR': 229, 'DM': 230, 'FSLY': 231, 'NOK': 232, 'CRKR': 233, 'FOMC': 234, 'BTCS': 235, 'GRWG': 236, 'XPEV': 237, 'SEV': 238, 'ICOA': 239, 'FB': 240, 'RIOT': 241, 'SEAC': 242, 'TYL': 243, 'SONO': 244, 'BYND': 245, 'DNUT': 246, 'ARWR': 247, 'CLOV': 248, 'CDXC': 249, 'AMRN': 250, 'RNWF': 251, 'MOS': 252, 'PIXY': 253, 'SPCE': 254, 'CAT': 255, 'PYPL': 256, 'TPG': 257, 'WFC': 258, 'BTU': 259, 'RIG': 260, 'BRN': 261, 'BP': 262, 'SLB': 263, 'VLO': 264, 'PXD': 265, 'XOM': 266, 'CVX': 267, 'WLL': 268, 'OPTT': 269, 'ALPP': 270, 'ZIM': 271, 'CVE': 272, 'CEI': 273, 'VTXB': 274, 'KSS': 275, 'BABA': 276, 'BABL': 277, 'ONON': 278, 'CVNA': 279, 'RIO': 280, 'GOLD': 281, 'ORGN': 282, 'LGVN': 283, 'SENS': 284, 'ALDX': 285, 'GEVO': 286, 'X': 287, 'TRVN': 288, 'BBIO': 289, 'DCGO': 290, 'IPA': 291, 'MMAT': 292, 'DDOG': 293, 'BEEM': 294, 'NEWR': 295, 'KMI': 296, 'OXY': 297, 'GTE': 298, 'NRT': 299, 'CODX': 300, 'LMND': 301, 'IBKR': 302, 'BTBT': 303, 'NTNX': 304, 'GLW': 305, 'CRSM': 306, 'CCL': 307, 'KBH': 308, 'RCL': 309, 'F': 310, 'GRIL': 311, 'EMN': 312, 'GGPI': 313, 'UPST': 314, 'FORW': 315, 'CS': 316, 'FUTU': 317, 'GS': 318, 'TECK': 319, 'ASM': 320, 'SAVE': 321, 'NTDOY': 322, 'XNET': 323, 'OPRA': 324, 'GOGO': 325, 'DLTR': 326, 'PEP': 327, 'ROKU': 328, 'BIDU': 329, 'GRPN': 330, 'HAIN': 331, 'LOTZ': 332, 'PTON': 333, 'SGC': 334, 'DBMM': 335, 'YNDX': 336, 'GENI': 337, 'STRN': 338, 'ISIG': 339, 'TWTR': 340, 'IRTC': 341, 'VVOS': 342, 'JNJ': 343, 'AUD': 344, 'LAC': 345, 'LTC': 346, 'FBRX': 347, 'RVPH': 348, 'RGBPP': 349, 'GERN': 350, 'DNA': 351, 'AERC': 352, 'RCRT': 353, 'CBAT': 354, 'AVGO': 355, 'COMP': 356, 'GPRO': 357, 'BKKT': 358, 'ET': 359, 'DNN': 360, 'AUNXF': 361, 'NICH': 362, 'GPN': 363, 'PLUG': 364, 'GGG': 365, 'JPM': 366, 'VET': 367, 'CCJ': 368, 'IPOOF': 369, 'GNCA': 370, 'UNH': 371, 'ABUS': 372, 'PSFE': 373, 'VRAR': 374, 'DELL': 375, 'OKTA': 376, 'BHVN': 377, 'ACAD': 378, 'XERS': 379, 'AVLR': 380, 'DATS': 381, 'AEHR': 382, 'ZNGA': 383, 'EVGO': 384, 'FTCH': 385, 'EBAY': 386, 'E': 387, 'LAZR': 388, 'ARQQ': 389, 'YALA': 390, 'DVN': 391, 'AR': 392, 'PULM': 393, 'PROG': 394, 'SAVA': 395, 'SKLZ': 396, 'BLNK': 397, 'ENS': 398, 'NTLA': 399, 'MRNA': 400, 'GTBIF': 401, 'CAMT': 402, 'VMNT': 403, 'MLCO': 404, 'JMIA': 405, 'BX': 406, 'V': 407, 'PGR': 408, 'SRPT': 409, 'DIS': 410, 'AMBA': 411, 'CRCT': 412, 'GGII': 413, 'BA': 414, 'UNP': 415, 'MMM': 416, 'DOGZ': 417, 'LC': 418, 'MGI': 419, 'VUZI': 420, 'UBER': 421, 'XELA': 422, 'IDEX': 423, 'APA': 424, 'CHK': 425, 'FUBO': 426, 'HZNP': 427, 'HGEN': 428, 'HPE': 429, 'MRVL': 430, 'COIN': 431, 'GNRC': 432, 'TLRY': 433, 'OTLY': 434, 'CL': 435, 'CHGG': 436, 'ACN': 437, 'SWKS': 438, 'CRM': 439, 'NTAP': 440, 'RAD': 441, 'BIIB': 442, 'TRIP': 443, 'APRN': 444, 'MELI': 445, 'NU': 446, 'GOEV': 447, 'GOOS': 448, 'PLBY': 449, 'BHP': 450, 'EXK': 451, 'AU': 452, 'MRK': 453, 'XAIR': 454, 'CRDL': 455, 'TSCO': 456, 'GNOG': 457, 'LEN': 458, 'LUV': 459, 'ZIP': 460, 'FCEL': 461, 'HCC': 462, 'LRDR': 463, 'AEO': 464, 'LOCO': 465, 'ABT': 466, 'FOLD': 467, 'ILMN': 468, 'EVO': 469}\n",
            "{'Healthcare': ['A', 'ABBV', 'ABT', 'ABUS', 'ACAD', 'AEZS', 'AFMD', 'ALDX', 'AMGN', 'AMRN', 'ARWR', 'ATAI', 'ATIP', 'AUPH', 'BBIO', 'BCTX', 'BFLY', 'BFRI', 'BHVN', 'BIIB', 'BLUE', 'BMY', 'BNTX', 'CDNA', 'CDXC', 'CGC', 'CLDX', 'CLOV', 'CLPT', 'CMPS', 'CMRX', 'CODX', 'CRDL', 'CRON', 'CRTX', 'CVS', 'CYDY', 'DCGO', 'DNA', 'DVAX', 'ENZC', 'ERBB', 'EVO', 'EXAS', 'EXEL', 'FBRX', 'FOLD', 'GERN', 'GILD', 'GLASF', 'GLSI', 'GMVD', 'GNCA', 'GSK', 'GTBIF', 'HGEN', 'HUM', 'HZNP', 'IGEX', 'IINN', 'ILMN', 'IMCC', 'IMMX', 'INMD', 'INO', 'IPA', 'IRTC', 'ISRG', 'JNJ', 'KMPH', 'LGVN', 'LPTX', 'MRK', 'MRNA', 'MYNZ', 'MYOV', 'NKTR', 'NTLA', 'NTRB', 'NURO', 'NVAX', 'NWBO', 'OCGN', 'PACB', 'PAVM', 'PFE', 'PROG', 'PSTV', 'PULM', 'QURE', 'RAD', 'RGBP', 'RGBPP', 'RVPH', 'RWBYF', 'SAVA', 'SDC', 'SENS', 'SNDL', 'SRNE', 'SRPT', 'SXTC', 'SYK', 'TDOC', 'TGGI', 'TLRY', 'TNDM', 'TRVN', 'UNH', 'VBIV', 'VTVT', 'VVOS', 'VXRT', 'XAIR', 'XERS', 'XXII', 'ZGNX'], 'Basic Materials': ['AA', 'AFPW', 'AG', 'AMRS', 'ASM', 'AU', 'BHP', 'CC', 'CF', 'CLF', 'EMN', 'EXK', 'FCX', 'GEVO', 'GOLD', 'HCC', 'LAC', 'MAG', 'MOS', 'MP', 'NAK', 'NEM', 'NG', 'ORGN', 'RIO', 'RNWF', 'TECK', 'VALE', 'WWR', 'X'], 'Industrials': ['AAL', 'AERC', 'AJRD', 'ALK', 'ALPP', 'APT', 'ARCB', 'ASTR', 'ATVK', 'AZ', 'B', 'BA', 'BLNK', 'CAR', 'CAT', 'CBAT', 'CHRA', 'DAL', 'DE', 'DGLY', 'ENS', 'FAST', 'FCEL', 'FDX', 'GE', 'GFAI', 'GGG', 'GGII', 'GNRC', 'GPN', 'GRIN', 'HTZ', 'IDEX', 'IVST', 'J', 'JBHT', 'JOBY', 'LMT', 'LQMT', 'LUV', 'MMM', 'OPTT', 'PIXY', 'PL', 'PLUG', 'POLA', 'PPSI', 'R', 'RCRT', 'SAVE', 'SPCE', 'TRI', 'UAL', 'UAVS', 'UNP', 'UPS', 'WM', 'ZIM', 'ZIP'], 'Consumer Cyclical': ['ABNB', 'AEO', 'AMZN', 'APRN', 'ASO', 'ATER', 'BABA', 'BABL', 'BBBY', 'BBIG', 'BBY', 'BKNG', 'BROS', 'CCL', 'CHWY', 'CMG', 'CPNG', 'CPRI', 'CROX', 'CVNA', 'DDS', 'DKNG', 'DKS', 'DPZ', 'EBAY', 'EBET', 'ELYS', 'ETSY', 'EVGO', 'EXPE', 'F', 'FND', 'FSR', 'FTCH', 'GLBE', 'GM', 'GME', 'GNOG', 'GOEV', 'GOOS', 'GP', 'GPS', 'GRIL', 'GRWG', 'GT', 'GVSI', 'HAS', 'HD', 'HLT', 'HOG', 'HOUR', 'JD', 'JMIA', 'KBH', 'KSS', 'LCID', 'LEN', 'LGIH', 'LOCO', 'LOTZ', 'LOVE', 'LTRY', 'LULU', 'LVS', 'M', 'MCD', 'MELI', 'MGM', 'MLCO', 'MTN', 'NEGG', 'NIO', 'NKE', 'NKLA', 'OLPX', 'ONON', 'OSTK', 'PDD', 'PENN', 'PIK', 'PLBY', 'PTON', 'PTRA', 'PZZA', 'QS', 'RCL', 'RENN', 'RH', 'RICK', 'RIVN', 'RKUNY', 'SBUX', 'SEV', 'SFIX', 'SGC', 'SHAK', 'SOLO', 'STLA', 'SYPR', 'TKAT', 'TONR', 'TRIP', 'TSCO', 'UA', 'ULTA', 'URBN', 'VRM', 'W', 'WGO', 'WISH', 'WKHS', 'WYNN', 'XPEV', 'XSPA', 'YETI'], 'Technology': ['ACFN', 'ACN', 'ADBE', 'AEHR', 'AFRM', 'AI', 'AMAT', 'AMBA', 'AMD', 'AMKR', 'AMPL', 'ANET', 'ANY', 'APPS', 'ARQQ', 'ASAN', 'ASML', 'ATOM', 'AVCT', 'AVGO', 'AVLR', 'BB', 'BEEM', 'BILL', 'BKKT', 'CAMT', 'CFLT', 'CLSK', 'COIN', 'COMP', 'CPSH', 'CRCT', 'CRM', 'CRSM', 'CRWD', 'CSCO', 'CTXS', 'DATS', 'DDOG', 'DELL', 'DIDI', 'DLO', 'DM', 'DOCN', 'DOCU', 'ENPH', 'FATH', 'FSLR', 'FSLY', 'FTNT', 'G', 'GLW', 'GPRO', 'GWSO', 'HIMX', 'HMBL', 'HMNY', 'HOOD', 'HPE', 'HUBS', 'IBM', 'INFY', 'INPX', 'INTC', 'KC', 'LAZR', 'LINK', 'LRCX', 'LUNA', 'MDB', 'MINM', 'MITQ', 'MMAT', 'MQ', 'MRIN', 'MRVL', 'MSFT', 'MSTR', 'MTTR', 'MU', 'MVIS', 'NCNO', 'NET', 'NEWR', 'NOK', 'NTAP', 'NTNX', 'NVDA', 'NXPI', 'NXTP', 'OKTA', 'ORCL', 'PANW', 'PAR', 'PATH', 'PHUN', 'PLAN', 'PLTR', 'PSFE', 'QCOM', 'RIOT', 'RUN', 'S', 'SANT', 'SEAC', 'SHOP', 'SNOW', 'SOL', 'SONO', 'SONY', 'SOS', 'SOTK', 'SPLK', 'SQ', 'STX', 'SWKS', 'TER', 'TSM', 'TTCM', 'TTD', 'TXN', 'TYL', 'U', 'UBER', 'UCTT', 'VMNT', 'VRAR', 'VUZI', 'WDAY', 'WEJO', 'XELA', 'YALA', 'YOU', 'ZI', 'ZM', 'ZS'], 'Consumer Defensive': ['ACI', 'BYND', 'CELH', 'CHGG', 'CL', 'CLX', 'COST', 'COTY', 'DLTR', 'DNUT', 'DOGZ', 'FAMI', 'FHS', 'FIZZ', 'FREE', 'HAIN', 'K', 'KO', 'MF', 'MNST', 'MO', 'ONE', 'OTLY', 'PEP', 'PG', 'SBEV', 'SKIN', 'TGT', 'TQLB', 'VFF', 'VINE', 'WMT'], 'Utilities': ['AGR', 'D', 'ES', 'HLGN', 'OEG', 'PCG'], 'Real Estate': ['AHT', 'AMT', 'LTC', 'MSTO', 'OPAD', 'OPEN', 'PLD', 'RDFN', 'SAFE'], 'Communication Services': ['AMC', 'ATUS', 'ATVI', 'AUD', 'BIDU', 'CABO', 'CNK', 'DASH', 'DBMM', 'DIS', 'EA', 'FB', 'FUBO', 'GENI', 'GOGO', 'GOOG', 'GOOGL', 'GRPN', 'HUYA', 'ICOA', 'ISIG', 'NFLX', 'NTDOY', 'OPRA', 'PINS', 'RBLX', 'ROKU', 'SBGI', 'SE', 'SKLZ', 'SNAP', 'SNPW', 'SPOT', 'STRN', 'T', 'TTWO', 'TWLO', 'TWTR', 'VZ', 'XNET', 'YNDX', 'Z', 'ZNGA'], 'Financial Services': ['AMP', 'BAC', 'BLK', 'BTBT', 'BTCS', 'BTT', 'BX', 'C', 'CFG', 'CFVI', 'CNGT', 'CRKR', 'CS', 'DB', 'DEFTF', 'DWAC', 'FOMC', 'FORW', 'FUTU', 'GGAL', 'GGPI', 'GS', 'IBKR', 'IFXY', 'IVZ', 'JEF', 'JPM', 'KSM', 'L', 'LC', 'LMND', 'LRDR', 'MA', 'MARA', 'MGI', 'MS', 'NGCG', 'NICH', 'NU', 'PGR', 'PNC', 'PPGH', 'PRU', 'PSLV', 'PSTH', 'PYPL', 'RELI', 'RKT', 'SCHW', 'SI', 'SOFI', 'SUNL', 'TPG', 'UMAX', 'UPST', 'V', 'WFC'], 'Energy': ['APA', 'AR', 'AUNXF', 'BP', 'BRN', 'BTU', 'CCJ', 'CEI', 'CHK', 'CNQ', 'CVE', 'CVX', 'DNN', 'DVN', 'E', 'EQT', 'ET', 'FANG', 'GTE', 'HES', 'IPOOF', 'KMI', 'NRT', 'OXY', 'PXD', 'RIG', 'SLB', 'UEC', 'VET', 'VLO', 'VTXB', 'WLL', 'WTI', 'XOM'], 'Services': ['DISCA', 'LTNC']}\n",
            "train labels:  (50409, 192, 13)\n",
            "train inputs:  (50409, 192, 13)\n",
            "test labels:  (13654, 192, 13)\n",
            "test inputs:  (13654, 192, 13)\n",
            "Collecting kaleido\n",
            "  Downloading kaleido-0.2.1-py2.py3-none-manylinux1_x86_64.whl (79.9 MB)\n",
            "\u001b[K     |████████████████████████████████| 79.9 MB 116 kB/s \n",
            "\u001b[?25hInstalling collected packages: kaleido\n",
            "Successfully installed kaleido-0.2.1\n"
          ]
        }
      ],
      "source": [
        "!python3 /content/idl-spring-22-project-deepar/src/data/company_random_groups.py -gs=5 -r=50000 -w=192\n",
        "! pip install kaleido"
      ]
    },
    {
      "cell_type": "code",
      "execution_count": null,
      "metadata": {
        "id": "2XkMu5JxFcIE",
        "colab": {
          "base_uri": "https://localhost:8080/"
        },
        "outputId": "b63aacfc-0db9-45ec-9fb7-f6334161600c"
      },
      "outputs": [
        {
          "output_type": "stream",
          "name": "stdout",
          "text": [
            "tcmalloc: large alloc 1233903616 bytes == 0x55ddcb8ac000 @  0x7f5be213f615 0x55dd53e89057 0x55dd53f347b6 0x55dd53f32e59 0x55dd53e1e840 0x55dd53f91868 0x55dd53e7e49a 0x55dd53ef1464 0x55dd53eeaa2e 0x55dd53e7d88a 0x55dd53eec719 0x55dd53eeaa2e 0x55dd53e7d88a 0x55dd53eec719 0x55dd53eeaa2e 0x55dd53eea723 0x55dd53fb4812 0x55dd53fb4b8d 0x55dd53fb4a36 0x55dd53f8c183 0x55dd53f8be2c 0x7f5be0f28c87 0x55dd53f8bd0a\n",
            "^C\n"
          ]
        }
      ],
      "source": [
        "!python3 /content/idl-spring-22-project-deepar/src/data/visualize.py"
      ]
    },
    {
      "cell_type": "code",
      "execution_count": 8,
      "metadata": {
        "id": "D_XgpTjpeCCc"
      },
      "outputs": [],
      "source": [
        "import pickle\n",
        "with open('/content/idl-spring-22-project-deepar/data/index_to_company.pkl','rb') as f:\n",
        "  index_to_company = pickle.load(f)\n",
        "\n",
        "with open('/content/idl-spring-22-project-deepar/data/company_to_index.pkl','rb') as f:\n",
        "  company_to_index = pickle.load(f)\n",
        "\n",
        "with open('/content/idl-spring-22-project-deepar/data/sector_company_map.pkl','rb') as f:\n",
        "  sector_company_map = pickle.load(f)"
      ]
    },
    {
      "cell_type": "code",
      "source": [
        "sector_to_index = {}\n",
        "index_to_sector = {}\n",
        "\n",
        "for i, sector_name in enumerate(sorted(sector_company_map.keys())):\n",
        "    sector_to_index[sector_name]  = i\n",
        "    index_to_sector[i] = sector_name\n",
        "\n",
        "print(sector_to_index)\n",
        "print(index_to_sector)"
      ],
      "metadata": {
        "colab": {
          "base_uri": "https://localhost:8080/"
        },
        "id": "VAM7hjsbHxIm",
        "outputId": "2d0eb5d6-c886-4ad8-f896-276d1d127fd0"
      },
      "execution_count": 9,
      "outputs": [
        {
          "output_type": "stream",
          "name": "stdout",
          "text": [
            "{'Basic Materials': 0, 'Communication Services': 1, 'Consumer Cyclical': 2, 'Consumer Defensive': 3, 'Energy': 4, 'Financial Services': 5, 'Healthcare': 6, 'Industrials': 7, 'Real Estate': 8, 'Services': 9, 'Technology': 10, 'Utilities': 11}\n",
            "{0: 'Basic Materials', 1: 'Communication Services', 2: 'Consumer Cyclical', 3: 'Consumer Defensive', 4: 'Energy', 5: 'Financial Services', 6: 'Healthcare', 7: 'Industrials', 8: 'Real Estate', 9: 'Services', 10: 'Technology', 11: 'Utilities'}\n"
          ]
        }
      ]
    },
    {
      "cell_type": "code",
      "execution_count": 10,
      "metadata": {
        "colab": {
          "base_uri": "https://localhost:8080/"
        },
        "id": "oVkGYeXZLtyr",
        "outputId": "abd0110b-f06f-4f9a-9432-fbbc9c71fedd"
      },
      "outputs": [
        {
          "output_type": "stream",
          "name": "stdout",
          "text": [
            "{0: 'LQMT', 1: 'LMT', 2: 'R', 3: 'APT', 4: 'PL', 5: 'SKIN', 6: 'TQLB', 7: 'MO', 8: 'ACI', 9: 'TGT', 10: 'SUNL', 11: 'L', 12: 'AMP', 13: 'MA', 14: 'PSLV', 15: 'KO', 16: 'COTY', 17: 'FAMI', 18: 'MNST', 19: 'D', 20: 'PCG', 21: 'ES', 22: 'HLGN', 23: 'OEG', 24: 'AGR', 25: 'ONE', 26: 'CLX', 27: 'COST', 28: 'WMT', 29: 'SBEV', 30: 'CRWD', 31: 'NVDA', 32: 'ZI', 33: 'DOCU', 34: 'ENPH', 35: 'EXAS', 36: 'VBIV', 37: 'EXEL', 38: 'CLPT', 39: 'CVS', 40: 'ATAI', 41: 'CDNA', 42: 'SNDL', 43: 'TGGI', 44: 'NURO', 45: 'Z', 46: 'CNK', 47: 'EA', 48: 'SNAP', 49: 'GOOG', 50: 'VINE', 51: 'FREE', 52: 'PG', 53: 'CELH', 54: 'AG', 55: 'CLF', 56: 'NEM', 57: 'AFPW', 58: 'AMRS', 59: 'FSR', 60: 'JD', 61: 'RKUNY', 62: 'LCID', 63: 'RENN', 64: 'PDD', 65: 'NEGG', 66: 'PZZA', 67: 'BBIG', 68: 'DKS', 69: 'BLUE', 70: 'ATIP', 71: 'ERBB', 72: 'AFMD', 73: 'RWBYF', 74: 'PINS', 75: 'DASH', 76: 'TTWO', 77: 'SNPW', 78: 'ATVI', 79: 'PLD', 80: 'AMT', 81: 'OPAD', 82: 'AHT', 83: 'MSTO', 84: 'VFF', 85: 'GLASF', 86: 'INMD', 87: 'BNTX', 88: 'XSPA', 89: 'ASO', 90: 'PENN', 91: 'DDS', 92: 'GP', 93: 'CNGT', 94: 'PSTH', 95: 'UMAX', 96: 'CFVI', 97: 'BTT', 98: 'K', 99: 'MF', 100: 'FHS', 101: 'RBLX', 102: 'SBGI', 103: 'TWLO', 104: 'NFLX', 105: 'GOOGL', 106: 'CABO', 107: 'ATUS', 108: 'T', 109: 'SE', 110: 'AFRM', 111: 'BB', 112: 'MQ', 113: 'TXN', 114: 'ADBE', 115: 'GSK', 116: 'GILD', 117: 'BMY', 118: 'NWBO', 119: 'BCTX', 120: 'ABNB', 121: 'URBN', 122: 'FND', 123: 'YETI', 124: 'HOUR', 125: 'MS', 126: 'NGCG', 127: 'GGAL', 128: 'IFXY', 129: 'PRU', 130: 'NIO', 131: 'LTRY', 132: 'TONR', 133: 'CPNG', 134: 'PIK', 135: 'AMD', 136: 'CSCO', 137: 'FTNT', 138: 'HUBS', 139: 'DLO', 140: 'HUYA', 141: 'SPOT', 142: 'A', 143: 'IMMX', 144: 'AEZS', 145: 'GMVD', 146: 'OCGN', 147: 'XXII', 148: 'CRTX', 149: 'TNDM', 150: 'WM', 151: 'GE', 152: 'UAL', 153: 'JOBY', 154: 'DAL', 155: 'FCX', 156: 'MAG', 157: 'AA', 158: 'CF', 159: 'VALE', 160: 'OLPX', 161: 'EXPE', 162: 'BROS', 163: 'POLA', 164: 'TRI', 165: 'IVST', 166: 'ALK', 167: 'J', 168: 'B', 169: 'FDX', 170: 'AZ', 171: 'VZ', 172: 'AMC', 173: 'UCTT', 174: 'SPLK', 175: 'CTXS', 176: 'ORCL', 177: 'IBM', 178: 'FIZZ', 179: 'ETSY', 180: 'W', 181: 'ATER', 182: 'ELYS', 183: 'BKNG', 184: 'PTRA', 185: 'AMZN', 186: 'NKLA', 187: 'FANG', 188: 'EQT', 189: 'CNQ', 190: 'HES', 191: 'UEC', 192: 'DOCN', 193: 'GWSO', 194: 'SOS', 195: 'QCOM', 196: 'NCNO', 197: 'SYPR', 198: 'GPS', 199: 'GME', 200: 'HOG', 201: 'TKAT', 202: 'GVSI', 203: 'LVS', 204: 'MRIN', 205: 'HMNY', 206: 'APPS', 207: 'SAFE', 208: 'RDFN', 209: 'AAL', 210: 'DGLY', 211: 'CHRA', 212: 'AJRD', 213: 'DEFTF', 214: 'RELI', 215: 'SCHW', 216: 'CFG', 217: 'NAK', 218: 'NG', 219: 'CC', 220: 'WWR', 221: 'MP', 222: 'OPEN', 223: 'U', 224: 'RUN', 225: 'WEJO', 226: 'MSTR', 227: 'HMBL', 228: 'SOTK', 229: 'PAR', 230: 'DM', 231: 'FSLY', 232: 'NOK', 233: 'CRKR', 234: 'FOMC', 235: 'BTCS', 236: 'GRWG', 237: 'XPEV', 238: 'SEV', 239: 'ICOA', 240: 'FB', 241: 'RIOT', 242: 'SEAC', 243: 'TYL', 244: 'SONO', 245: 'BYND', 246: 'DNUT', 247: 'ARWR', 248: 'CLOV', 249: 'CDXC', 250: 'AMRN', 251: 'RNWF', 252: 'MOS', 253: 'PIXY', 254: 'SPCE', 255: 'CAT', 256: 'PYPL', 257: 'TPG', 258: 'WFC', 259: 'BTU', 260: 'RIG', 261: 'BRN', 262: 'BP', 263: 'SLB', 264: 'VLO', 265: 'PXD', 266: 'XOM', 267: 'CVX', 268: 'WLL', 269: 'OPTT', 270: 'ALPP', 271: 'ZIM', 272: 'CVE', 273: 'CEI', 274: 'VTXB', 275: 'KSS', 276: 'BABA', 277: 'BABL', 278: 'ONON', 279: 'CVNA', 280: 'RIO', 281: 'GOLD', 282: 'ORGN', 283: 'LGVN', 284: 'SENS', 285: 'ALDX', 286: 'GEVO', 287: 'X', 288: 'TRVN', 289: 'BBIO', 290: 'DCGO', 291: 'IPA', 292: 'MMAT', 293: 'DDOG', 294: 'BEEM', 295: 'NEWR', 296: 'KMI', 297: 'OXY', 298: 'GTE', 299: 'NRT', 300: 'CODX', 301: 'LMND', 302: 'IBKR', 303: 'BTBT', 304: 'NTNX', 305: 'GLW', 306: 'CRSM', 307: 'CCL', 308: 'KBH', 309: 'RCL', 310: 'F', 311: 'GRIL', 312: 'EMN', 313: 'GGPI', 314: 'UPST', 315: 'FORW', 316: 'CS', 317: 'FUTU', 318: 'GS', 319: 'TECK', 320: 'ASM', 321: 'SAVE', 322: 'NTDOY', 323: 'XNET', 324: 'OPRA', 325: 'GOGO', 326: 'DLTR', 327: 'PEP', 328: 'ROKU', 329: 'BIDU', 330: 'GRPN', 331: 'HAIN', 332: 'LOTZ', 333: 'PTON', 334: 'SGC', 335: 'DBMM', 336: 'YNDX', 337: 'GENI', 338: 'STRN', 339: 'ISIG', 340: 'TWTR', 341: 'IRTC', 342: 'VVOS', 343: 'JNJ', 344: 'AUD', 345: 'LAC', 346: 'LTC', 347: 'FBRX', 348: 'RVPH', 349: 'RGBPP', 350: 'GERN', 351: 'DNA', 352: 'AERC', 353: 'RCRT', 354: 'CBAT', 355: 'AVGO', 356: 'COMP', 357: 'GPRO', 358: 'BKKT', 359: 'ET', 360: 'DNN', 361: 'AUNXF', 362: 'NICH', 363: 'GPN', 364: 'PLUG', 365: 'GGG', 366: 'JPM', 367: 'VET', 368: 'CCJ', 369: 'IPOOF', 370: 'GNCA', 371: 'UNH', 372: 'ABUS', 373: 'PSFE', 374: 'VRAR', 375: 'DELL', 376: 'OKTA', 377: 'BHVN', 378: 'ACAD', 379: 'XERS', 380: 'AVLR', 381: 'DATS', 382: 'AEHR', 383: 'ZNGA', 384: 'EVGO', 385: 'FTCH', 386: 'EBAY', 387: 'E', 388: 'LAZR', 389: 'ARQQ', 390: 'YALA', 391: 'DVN', 392: 'AR', 393: 'PULM', 394: 'PROG', 395: 'SAVA', 396: 'SKLZ', 397: 'BLNK', 398: 'ENS', 399: 'NTLA', 400: 'MRNA', 401: 'GTBIF', 402: 'CAMT', 403: 'VMNT', 404: 'MLCO', 405: 'JMIA', 406: 'BX', 407: 'V', 408: 'PGR', 409: 'SRPT', 410: 'DIS', 411: 'AMBA', 412: 'CRCT', 413: 'GGII', 414: 'BA', 415: 'UNP', 416: 'MMM', 417: 'DOGZ', 418: 'LC', 419: 'MGI', 420: 'VUZI', 421: 'UBER', 422: 'XELA', 423: 'IDEX', 424: 'APA', 425: 'CHK', 426: 'FUBO', 427: 'HZNP', 428: 'HGEN', 429: 'HPE', 430: 'MRVL', 431: 'COIN', 432: 'GNRC', 433: 'TLRY', 434: 'OTLY', 435: 'CL', 436: 'CHGG', 437: 'ACN', 438: 'SWKS', 439: 'CRM', 440: 'NTAP', 441: 'RAD', 442: 'BIIB', 443: 'TRIP', 444: 'APRN', 445: 'MELI', 446: 'NU', 447: 'GOEV', 448: 'GOOS', 449: 'PLBY', 450: 'BHP', 451: 'EXK', 452: 'AU', 453: 'MRK', 454: 'XAIR', 455: 'CRDL', 456: 'TSCO', 457: 'GNOG', 458: 'LEN', 459: 'LUV', 460: 'ZIP', 461: 'FCEL', 462: 'HCC', 463: 'LRDR', 464: 'AEO', 465: 'LOCO', 466: 'ABT', 467: 'FOLD', 468: 'ILMN', 469: 'EVO'}\n",
            "{'LQMT': 0, 'LMT': 1, 'R': 2, 'APT': 3, 'PL': 4, 'SKIN': 5, 'TQLB': 6, 'MO': 7, 'ACI': 8, 'TGT': 9, 'SUNL': 10, 'L': 11, 'AMP': 12, 'MA': 13, 'PSLV': 14, 'KO': 15, 'COTY': 16, 'FAMI': 17, 'MNST': 18, 'D': 19, 'PCG': 20, 'ES': 21, 'HLGN': 22, 'OEG': 23, 'AGR': 24, 'ONE': 25, 'CLX': 26, 'COST': 27, 'WMT': 28, 'SBEV': 29, 'CRWD': 30, 'NVDA': 31, 'ZI': 32, 'DOCU': 33, 'ENPH': 34, 'EXAS': 35, 'VBIV': 36, 'EXEL': 37, 'CLPT': 38, 'CVS': 39, 'ATAI': 40, 'CDNA': 41, 'SNDL': 42, 'TGGI': 43, 'NURO': 44, 'Z': 45, 'CNK': 46, 'EA': 47, 'SNAP': 48, 'GOOG': 49, 'VINE': 50, 'FREE': 51, 'PG': 52, 'CELH': 53, 'AG': 54, 'CLF': 55, 'NEM': 56, 'AFPW': 57, 'AMRS': 58, 'FSR': 59, 'JD': 60, 'RKUNY': 61, 'LCID': 62, 'RENN': 63, 'PDD': 64, 'NEGG': 65, 'PZZA': 66, 'BBIG': 67, 'DKS': 68, 'BLUE': 69, 'ATIP': 70, 'ERBB': 71, 'AFMD': 72, 'RWBYF': 73, 'PINS': 74, 'DASH': 75, 'TTWO': 76, 'SNPW': 77, 'ATVI': 78, 'PLD': 79, 'AMT': 80, 'OPAD': 81, 'AHT': 82, 'MSTO': 83, 'VFF': 84, 'GLASF': 85, 'INMD': 86, 'BNTX': 87, 'XSPA': 88, 'ASO': 89, 'PENN': 90, 'DDS': 91, 'GP': 92, 'CNGT': 93, 'PSTH': 94, 'UMAX': 95, 'CFVI': 96, 'BTT': 97, 'K': 98, 'MF': 99, 'FHS': 100, 'RBLX': 101, 'SBGI': 102, 'TWLO': 103, 'NFLX': 104, 'GOOGL': 105, 'CABO': 106, 'ATUS': 107, 'T': 108, 'SE': 109, 'AFRM': 110, 'BB': 111, 'MQ': 112, 'TXN': 113, 'ADBE': 114, 'GSK': 115, 'GILD': 116, 'BMY': 117, 'NWBO': 118, 'BCTX': 119, 'ABNB': 120, 'URBN': 121, 'FND': 122, 'YETI': 123, 'HOUR': 124, 'MS': 125, 'NGCG': 126, 'GGAL': 127, 'IFXY': 128, 'PRU': 129, 'NIO': 130, 'LTRY': 131, 'TONR': 132, 'CPNG': 133, 'PIK': 134, 'AMD': 135, 'CSCO': 136, 'FTNT': 137, 'HUBS': 138, 'DLO': 139, 'HUYA': 140, 'SPOT': 141, 'A': 142, 'IMMX': 143, 'AEZS': 144, 'GMVD': 145, 'OCGN': 146, 'XXII': 147, 'CRTX': 148, 'TNDM': 149, 'WM': 150, 'GE': 151, 'UAL': 152, 'JOBY': 153, 'DAL': 154, 'FCX': 155, 'MAG': 156, 'AA': 157, 'CF': 158, 'VALE': 159, 'OLPX': 160, 'EXPE': 161, 'BROS': 162, 'POLA': 163, 'TRI': 164, 'IVST': 165, 'ALK': 166, 'J': 167, 'B': 168, 'FDX': 169, 'AZ': 170, 'VZ': 171, 'AMC': 172, 'UCTT': 173, 'SPLK': 174, 'CTXS': 175, 'ORCL': 176, 'IBM': 177, 'FIZZ': 178, 'ETSY': 179, 'W': 180, 'ATER': 181, 'ELYS': 182, 'BKNG': 183, 'PTRA': 184, 'AMZN': 185, 'NKLA': 186, 'FANG': 187, 'EQT': 188, 'CNQ': 189, 'HES': 190, 'UEC': 191, 'DOCN': 192, 'GWSO': 193, 'SOS': 194, 'QCOM': 195, 'NCNO': 196, 'SYPR': 197, 'GPS': 198, 'GME': 199, 'HOG': 200, 'TKAT': 201, 'GVSI': 202, 'LVS': 203, 'MRIN': 204, 'HMNY': 205, 'APPS': 206, 'SAFE': 207, 'RDFN': 208, 'AAL': 209, 'DGLY': 210, 'CHRA': 211, 'AJRD': 212, 'DEFTF': 213, 'RELI': 214, 'SCHW': 215, 'CFG': 216, 'NAK': 217, 'NG': 218, 'CC': 219, 'WWR': 220, 'MP': 221, 'OPEN': 222, 'U': 223, 'RUN': 224, 'WEJO': 225, 'MSTR': 226, 'HMBL': 227, 'SOTK': 228, 'PAR': 229, 'DM': 230, 'FSLY': 231, 'NOK': 232, 'CRKR': 233, 'FOMC': 234, 'BTCS': 235, 'GRWG': 236, 'XPEV': 237, 'SEV': 238, 'ICOA': 239, 'FB': 240, 'RIOT': 241, 'SEAC': 242, 'TYL': 243, 'SONO': 244, 'BYND': 245, 'DNUT': 246, 'ARWR': 247, 'CLOV': 248, 'CDXC': 249, 'AMRN': 250, 'RNWF': 251, 'MOS': 252, 'PIXY': 253, 'SPCE': 254, 'CAT': 255, 'PYPL': 256, 'TPG': 257, 'WFC': 258, 'BTU': 259, 'RIG': 260, 'BRN': 261, 'BP': 262, 'SLB': 263, 'VLO': 264, 'PXD': 265, 'XOM': 266, 'CVX': 267, 'WLL': 268, 'OPTT': 269, 'ALPP': 270, 'ZIM': 271, 'CVE': 272, 'CEI': 273, 'VTXB': 274, 'KSS': 275, 'BABA': 276, 'BABL': 277, 'ONON': 278, 'CVNA': 279, 'RIO': 280, 'GOLD': 281, 'ORGN': 282, 'LGVN': 283, 'SENS': 284, 'ALDX': 285, 'GEVO': 286, 'X': 287, 'TRVN': 288, 'BBIO': 289, 'DCGO': 290, 'IPA': 291, 'MMAT': 292, 'DDOG': 293, 'BEEM': 294, 'NEWR': 295, 'KMI': 296, 'OXY': 297, 'GTE': 298, 'NRT': 299, 'CODX': 300, 'LMND': 301, 'IBKR': 302, 'BTBT': 303, 'NTNX': 304, 'GLW': 305, 'CRSM': 306, 'CCL': 307, 'KBH': 308, 'RCL': 309, 'F': 310, 'GRIL': 311, 'EMN': 312, 'GGPI': 313, 'UPST': 314, 'FORW': 315, 'CS': 316, 'FUTU': 317, 'GS': 318, 'TECK': 319, 'ASM': 320, 'SAVE': 321, 'NTDOY': 322, 'XNET': 323, 'OPRA': 324, 'GOGO': 325, 'DLTR': 326, 'PEP': 327, 'ROKU': 328, 'BIDU': 329, 'GRPN': 330, 'HAIN': 331, 'LOTZ': 332, 'PTON': 333, 'SGC': 334, 'DBMM': 335, 'YNDX': 336, 'GENI': 337, 'STRN': 338, 'ISIG': 339, 'TWTR': 340, 'IRTC': 341, 'VVOS': 342, 'JNJ': 343, 'AUD': 344, 'LAC': 345, 'LTC': 346, 'FBRX': 347, 'RVPH': 348, 'RGBPP': 349, 'GERN': 350, 'DNA': 351, 'AERC': 352, 'RCRT': 353, 'CBAT': 354, 'AVGO': 355, 'COMP': 356, 'GPRO': 357, 'BKKT': 358, 'ET': 359, 'DNN': 360, 'AUNXF': 361, 'NICH': 362, 'GPN': 363, 'PLUG': 364, 'GGG': 365, 'JPM': 366, 'VET': 367, 'CCJ': 368, 'IPOOF': 369, 'GNCA': 370, 'UNH': 371, 'ABUS': 372, 'PSFE': 373, 'VRAR': 374, 'DELL': 375, 'OKTA': 376, 'BHVN': 377, 'ACAD': 378, 'XERS': 379, 'AVLR': 380, 'DATS': 381, 'AEHR': 382, 'ZNGA': 383, 'EVGO': 384, 'FTCH': 385, 'EBAY': 386, 'E': 387, 'LAZR': 388, 'ARQQ': 389, 'YALA': 390, 'DVN': 391, 'AR': 392, 'PULM': 393, 'PROG': 394, 'SAVA': 395, 'SKLZ': 396, 'BLNK': 397, 'ENS': 398, 'NTLA': 399, 'MRNA': 400, 'GTBIF': 401, 'CAMT': 402, 'VMNT': 403, 'MLCO': 404, 'JMIA': 405, 'BX': 406, 'V': 407, 'PGR': 408, 'SRPT': 409, 'DIS': 410, 'AMBA': 411, 'CRCT': 412, 'GGII': 413, 'BA': 414, 'UNP': 415, 'MMM': 416, 'DOGZ': 417, 'LC': 418, 'MGI': 419, 'VUZI': 420, 'UBER': 421, 'XELA': 422, 'IDEX': 423, 'APA': 424, 'CHK': 425, 'FUBO': 426, 'HZNP': 427, 'HGEN': 428, 'HPE': 429, 'MRVL': 430, 'COIN': 431, 'GNRC': 432, 'TLRY': 433, 'OTLY': 434, 'CL': 435, 'CHGG': 436, 'ACN': 437, 'SWKS': 438, 'CRM': 439, 'NTAP': 440, 'RAD': 441, 'BIIB': 442, 'TRIP': 443, 'APRN': 444, 'MELI': 445, 'NU': 446, 'GOEV': 447, 'GOOS': 448, 'PLBY': 449, 'BHP': 450, 'EXK': 451, 'AU': 452, 'MRK': 453, 'XAIR': 454, 'CRDL': 455, 'TSCO': 456, 'GNOG': 457, 'LEN': 458, 'LUV': 459, 'ZIP': 460, 'FCEL': 461, 'HCC': 462, 'LRDR': 463, 'AEO': 464, 'LOCO': 465, 'ABT': 466, 'FOLD': 467, 'ILMN': 468, 'EVO': 469}\n",
            "{'Healthcare': ['A', 'ABBV', 'ABT', 'ABUS', 'ACAD', 'AEZS', 'AFMD', 'ALDX', 'AMGN', 'AMRN', 'ARWR', 'ATAI', 'ATIP', 'AUPH', 'BBIO', 'BCTX', 'BFLY', 'BFRI', 'BHVN', 'BIIB', 'BLUE', 'BMY', 'BNTX', 'CDNA', 'CDXC', 'CGC', 'CLDX', 'CLOV', 'CLPT', 'CMPS', 'CMRX', 'CODX', 'CRDL', 'CRON', 'CRTX', 'CVS', 'CYDY', 'DCGO', 'DNA', 'DVAX', 'ENZC', 'ERBB', 'EVO', 'EXAS', 'EXEL', 'FBRX', 'FOLD', 'GERN', 'GILD', 'GLASF', 'GLSI', 'GMVD', 'GNCA', 'GSK', 'GTBIF', 'HGEN', 'HUM', 'HZNP', 'IGEX', 'IINN', 'ILMN', 'IMCC', 'IMMX', 'INMD', 'INO', 'IPA', 'IRTC', 'ISRG', 'JNJ', 'KMPH', 'LGVN', 'LPTX', 'MRK', 'MRNA', 'MYNZ', 'MYOV', 'NKTR', 'NTLA', 'NTRB', 'NURO', 'NVAX', 'NWBO', 'OCGN', 'PACB', 'PAVM', 'PFE', 'PROG', 'PSTV', 'PULM', 'QURE', 'RAD', 'RGBP', 'RGBPP', 'RVPH', 'RWBYF', 'SAVA', 'SDC', 'SENS', 'SNDL', 'SRNE', 'SRPT', 'SXTC', 'SYK', 'TDOC', 'TGGI', 'TLRY', 'TNDM', 'TRVN', 'UNH', 'VBIV', 'VTVT', 'VVOS', 'VXRT', 'XAIR', 'XERS', 'XXII', 'ZGNX'], 'Basic Materials': ['AA', 'AFPW', 'AG', 'AMRS', 'ASM', 'AU', 'BHP', 'CC', 'CF', 'CLF', 'EMN', 'EXK', 'FCX', 'GEVO', 'GOLD', 'HCC', 'LAC', 'MAG', 'MOS', 'MP', 'NAK', 'NEM', 'NG', 'ORGN', 'RIO', 'RNWF', 'TECK', 'VALE', 'WWR', 'X'], 'Industrials': ['AAL', 'AERC', 'AJRD', 'ALK', 'ALPP', 'APT', 'ARCB', 'ASTR', 'ATVK', 'AZ', 'B', 'BA', 'BLNK', 'CAR', 'CAT', 'CBAT', 'CHRA', 'DAL', 'DE', 'DGLY', 'ENS', 'FAST', 'FCEL', 'FDX', 'GE', 'GFAI', 'GGG', 'GGII', 'GNRC', 'GPN', 'GRIN', 'HTZ', 'IDEX', 'IVST', 'J', 'JBHT', 'JOBY', 'LMT', 'LQMT', 'LUV', 'MMM', 'OPTT', 'PIXY', 'PL', 'PLUG', 'POLA', 'PPSI', 'R', 'RCRT', 'SAVE', 'SPCE', 'TRI', 'UAL', 'UAVS', 'UNP', 'UPS', 'WM', 'ZIM', 'ZIP'], 'Consumer Cyclical': ['ABNB', 'AEO', 'AMZN', 'APRN', 'ASO', 'ATER', 'BABA', 'BABL', 'BBBY', 'BBIG', 'BBY', 'BKNG', 'BROS', 'CCL', 'CHWY', 'CMG', 'CPNG', 'CPRI', 'CROX', 'CVNA', 'DDS', 'DKNG', 'DKS', 'DPZ', 'EBAY', 'EBET', 'ELYS', 'ETSY', 'EVGO', 'EXPE', 'F', 'FND', 'FSR', 'FTCH', 'GLBE', 'GM', 'GME', 'GNOG', 'GOEV', 'GOOS', 'GP', 'GPS', 'GRIL', 'GRWG', 'GT', 'GVSI', 'HAS', 'HD', 'HLT', 'HOG', 'HOUR', 'JD', 'JMIA', 'KBH', 'KSS', 'LCID', 'LEN', 'LGIH', 'LOCO', 'LOTZ', 'LOVE', 'LTRY', 'LULU', 'LVS', 'M', 'MCD', 'MELI', 'MGM', 'MLCO', 'MTN', 'NEGG', 'NIO', 'NKE', 'NKLA', 'OLPX', 'ONON', 'OSTK', 'PDD', 'PENN', 'PIK', 'PLBY', 'PTON', 'PTRA', 'PZZA', 'QS', 'RCL', 'RENN', 'RH', 'RICK', 'RIVN', 'RKUNY', 'SBUX', 'SEV', 'SFIX', 'SGC', 'SHAK', 'SOLO', 'STLA', 'SYPR', 'TKAT', 'TONR', 'TRIP', 'TSCO', 'UA', 'ULTA', 'URBN', 'VRM', 'W', 'WGO', 'WISH', 'WKHS', 'WYNN', 'XPEV', 'XSPA', 'YETI'], 'Technology': ['ACFN', 'ACN', 'ADBE', 'AEHR', 'AFRM', 'AI', 'AMAT', 'AMBA', 'AMD', 'AMKR', 'AMPL', 'ANET', 'ANY', 'APPS', 'ARQQ', 'ASAN', 'ASML', 'ATOM', 'AVCT', 'AVGO', 'AVLR', 'BB', 'BEEM', 'BILL', 'BKKT', 'CAMT', 'CFLT', 'CLSK', 'COIN', 'COMP', 'CPSH', 'CRCT', 'CRM', 'CRSM', 'CRWD', 'CSCO', 'CTXS', 'DATS', 'DDOG', 'DELL', 'DIDI', 'DLO', 'DM', 'DOCN', 'DOCU', 'ENPH', 'FATH', 'FSLR', 'FSLY', 'FTNT', 'G', 'GLW', 'GPRO', 'GWSO', 'HIMX', 'HMBL', 'HMNY', 'HOOD', 'HPE', 'HUBS', 'IBM', 'INFY', 'INPX', 'INTC', 'KC', 'LAZR', 'LINK', 'LRCX', 'LUNA', 'MDB', 'MINM', 'MITQ', 'MMAT', 'MQ', 'MRIN', 'MRVL', 'MSFT', 'MSTR', 'MTTR', 'MU', 'MVIS', 'NCNO', 'NET', 'NEWR', 'NOK', 'NTAP', 'NTNX', 'NVDA', 'NXPI', 'NXTP', 'OKTA', 'ORCL', 'PANW', 'PAR', 'PATH', 'PHUN', 'PLAN', 'PLTR', 'PSFE', 'QCOM', 'RIOT', 'RUN', 'S', 'SANT', 'SEAC', 'SHOP', 'SNOW', 'SOL', 'SONO', 'SONY', 'SOS', 'SOTK', 'SPLK', 'SQ', 'STX', 'SWKS', 'TER', 'TSM', 'TTCM', 'TTD', 'TXN', 'TYL', 'U', 'UBER', 'UCTT', 'VMNT', 'VRAR', 'VUZI', 'WDAY', 'WEJO', 'XELA', 'YALA', 'YOU', 'ZI', 'ZM', 'ZS'], 'Consumer Defensive': ['ACI', 'BYND', 'CELH', 'CHGG', 'CL', 'CLX', 'COST', 'COTY', 'DLTR', 'DNUT', 'DOGZ', 'FAMI', 'FHS', 'FIZZ', 'FREE', 'HAIN', 'K', 'KO', 'MF', 'MNST', 'MO', 'ONE', 'OTLY', 'PEP', 'PG', 'SBEV', 'SKIN', 'TGT', 'TQLB', 'VFF', 'VINE', 'WMT'], 'Utilities': ['AGR', 'D', 'ES', 'HLGN', 'OEG', 'PCG'], 'Real Estate': ['AHT', 'AMT', 'LTC', 'MSTO', 'OPAD', 'OPEN', 'PLD', 'RDFN', 'SAFE'], 'Communication Services': ['AMC', 'ATUS', 'ATVI', 'AUD', 'BIDU', 'CABO', 'CNK', 'DASH', 'DBMM', 'DIS', 'EA', 'FB', 'FUBO', 'GENI', 'GOGO', 'GOOG', 'GOOGL', 'GRPN', 'HUYA', 'ICOA', 'ISIG', 'NFLX', 'NTDOY', 'OPRA', 'PINS', 'RBLX', 'ROKU', 'SBGI', 'SE', 'SKLZ', 'SNAP', 'SNPW', 'SPOT', 'STRN', 'T', 'TTWO', 'TWLO', 'TWTR', 'VZ', 'XNET', 'YNDX', 'Z', 'ZNGA'], 'Financial Services': ['AMP', 'BAC', 'BLK', 'BTBT', 'BTCS', 'BTT', 'BX', 'C', 'CFG', 'CFVI', 'CNGT', 'CRKR', 'CS', 'DB', 'DEFTF', 'DWAC', 'FOMC', 'FORW', 'FUTU', 'GGAL', 'GGPI', 'GS', 'IBKR', 'IFXY', 'IVZ', 'JEF', 'JPM', 'KSM', 'L', 'LC', 'LMND', 'LRDR', 'MA', 'MARA', 'MGI', 'MS', 'NGCG', 'NICH', 'NU', 'PGR', 'PNC', 'PPGH', 'PRU', 'PSLV', 'PSTH', 'PYPL', 'RELI', 'RKT', 'SCHW', 'SI', 'SOFI', 'SUNL', 'TPG', 'UMAX', 'UPST', 'V', 'WFC'], 'Energy': ['APA', 'AR', 'AUNXF', 'BP', 'BRN', 'BTU', 'CCJ', 'CEI', 'CHK', 'CNQ', 'CVE', 'CVX', 'DNN', 'DVN', 'E', 'EQT', 'ET', 'FANG', 'GTE', 'HES', 'IPOOF', 'KMI', 'NRT', 'OXY', 'PXD', 'RIG', 'SLB', 'UEC', 'VET', 'VLO', 'VTXB', 'WLL', 'WTI', 'XOM'], 'Services': ['DISCA', 'LTNC']}\n",
            "dict_keys(['Healthcare', 'Basic Materials', 'Industrials', 'Consumer Cyclical', 'Technology', 'Consumer Defensive', 'Utilities', 'Real Estate', 'Communication Services', 'Financial Services', 'Energy', 'Services'])\n",
            "['ACFN', 'ACN', 'ADBE', 'AEHR', 'AFRM', 'AI', 'AMAT', 'AMBA', 'AMD', 'AMKR', 'AMPL', 'ANET', 'ANY', 'APPS', 'ARQQ', 'ASAN', 'ASML', 'ATOM', 'AVCT', 'AVGO', 'AVLR', 'BB', 'BEEM', 'BILL', 'BKKT', 'CAMT', 'CFLT', 'CLSK', 'COIN', 'COMP', 'CPSH', 'CRCT', 'CRM', 'CRSM', 'CRWD', 'CSCO', 'CTXS', 'DATS', 'DDOG', 'DELL', 'DIDI', 'DLO', 'DM', 'DOCN', 'DOCU', 'ENPH', 'FATH', 'FSLR', 'FSLY', 'FTNT', 'G', 'GLW', 'GPRO', 'GWSO', 'HIMX', 'HMBL', 'HMNY', 'HOOD', 'HPE', 'HUBS', 'IBM', 'INFY', 'INPX', 'INTC', 'KC', 'LAZR', 'LINK', 'LRCX', 'LUNA', 'MDB', 'MINM', 'MITQ', 'MMAT', 'MQ', 'MRIN', 'MRVL', 'MSFT', 'MSTR', 'MTTR', 'MU', 'MVIS', 'NCNO', 'NET', 'NEWR', 'NOK', 'NTAP', 'NTNX', 'NVDA', 'NXPI', 'NXTP', 'OKTA', 'ORCL', 'PANW', 'PAR', 'PATH', 'PHUN', 'PLAN', 'PLTR', 'PSFE', 'QCOM', 'RIOT', 'RUN', 'S', 'SANT', 'SEAC', 'SHOP', 'SNOW', 'SOL', 'SONO', 'SONY', 'SOS', 'SOTK', 'SPLK', 'SQ', 'STX', 'SWKS', 'TER', 'TSM', 'TTCM', 'TTD', 'TXN', 'TYL', 'U', 'UBER', 'UCTT', 'VMNT', 'VRAR', 'VUZI', 'WDAY', 'WEJO', 'XELA', 'YALA', 'YOU', 'ZI', 'ZM', 'ZS']\n",
            "12\n"
          ]
        }
      ],
      "source": [
        "print(index_to_company)\n",
        "print(company_to_index)\n",
        "print(sector_company_map)\n",
        "print(sector_company_map.keys())\n",
        "print(sector_company_map['Technology'])\n",
        "print(len(sector_company_map))"
      ]
    },
    {
      "cell_type": "code",
      "execution_count": 11,
      "metadata": {
        "id": "gHNJzGpqA1cc"
      },
      "outputs": [],
      "source": [
        "DATA_PATH = '/content/idl-spring-22-project-deepar/data'\n",
        "\n",
        "\n",
        "\n",
        "stock_inputs = np.load(DATA_PATH + '/stock_inputs.npy', allow_pickle=True)\n",
        "stock_labels = np.load(DATA_PATH + '/stock_labels.npy', allow_pickle=True)\n",
        "\n",
        "stock_test_inputs = np.load(DATA_PATH + '/stock_test_inputs.npy',allow_pickle=True)\n",
        "stock_test_labels = np.load(DATA_PATH + '/stock_test_labels.npy',allow_pickle=True)"
      ]
    },
    {
      "cell_type": "code",
      "execution_count": 12,
      "metadata": {
        "id": "PX3BN2JaM1JO"
      },
      "outputs": [],
      "source": [
        "NUM_TRAIN_SAMPLES = len(stock_inputs)\n",
        "NUM_TEST_SAMPLES  = len(stock_test_inputs)\n",
        "\n",
        "stock_inputs_trimmed = stock_inputs[:NUM_TRAIN_SAMPLES,:,:]\n",
        "stock_labels_trimmed = stock_labels[:NUM_TRAIN_SAMPLES,:]\n",
        "\n",
        "stock_test_inputs_trimmed = stock_test_inputs[:NUM_TEST_SAMPLES,:,:]\n",
        "stock_test_labels_trimmed = stock_test_labels[:NUM_TEST_SAMPLES,:]"
      ]
    },
    {
      "cell_type": "code",
      "execution_count": 13,
      "metadata": {
        "colab": {
          "base_uri": "https://localhost:8080/"
        },
        "id": "HJJrrFcGGHSE",
        "outputId": "b3b695f3-63f8-4f92-c7bf-a9fa6d2b63ee"
      },
      "outputs": [
        {
          "output_type": "stream",
          "name": "stdout",
          "text": [
            "stock_inputs_trimmed shape (50409, 192, 13)\n",
            "stock_labels_trimmed shape (50409, 192, 13)\n",
            "stock_test_inputs_trimmed shape (13654, 192, 13)\n",
            "stock_test_labels_trimmed shape (13654, 192, 13)\n"
          ]
        }
      ],
      "source": [
        "print('stock_inputs_trimmed shape', stock_inputs_trimmed.shape)\n",
        "print('stock_labels_trimmed shape', stock_labels_trimmed.shape)\n",
        "print('stock_test_inputs_trimmed shape', stock_test_inputs_trimmed.shape)\n",
        "print('stock_test_labels_trimmed shape', stock_test_labels_trimmed.shape)"
      ]
    },
    {
      "cell_type": "code",
      "source": [
        "import plotly.express as px\n",
        "import plotly.graph_objects as go\n",
        "import pandas as pd\n",
        "\n",
        "def plot_data(data, window_id,cov_id):\n",
        "  x=np.linspace(1, len(data[window_id]), num=len(data[window_id]))\n",
        "  df = pd.DataFrame()\n",
        "  df['data'] = data[window_id,:,cov_id]\n",
        "  \n",
        "\n",
        "  fig = go.Figure()\n",
        "  fig.add_vline(x=168)\n",
        "  fig.add_traces(go.Scatter(x=x, y = df['data'], mode = 'lines', name = 'data'))\n",
        "\n",
        "  fig.update_xaxes(title_text='Time Samples')\n",
        "  fig.update_yaxes(title_text='Y')\n",
        "  fig.show()"
      ],
      "metadata": {
        "id": "l77VZIKKEWgI"
      },
      "execution_count": 14,
      "outputs": []
    },
    {
      "cell_type": "code",
      "source": [
        "plot_data(stock_inputs_trimmed, 20000, 12)"
      ],
      "metadata": {
        "colab": {
          "base_uri": "https://localhost:8080/",
          "height": 542
        },
        "id": "G0NtdQC9E1sQ",
        "outputId": "ee7c4f0f-07fa-4964-ffeb-cbb41306a405"
      },
      "execution_count": 15,
      "outputs": [
        {
          "output_type": "display_data",
          "data": {
            "text/html": [
              "<html>\n",
              "<head><meta charset=\"utf-8\" /></head>\n",
              "<body>\n",
              "    <div>            <script src=\"https://cdnjs.cloudflare.com/ajax/libs/mathjax/2.7.5/MathJax.js?config=TeX-AMS-MML_SVG\"></script><script type=\"text/javascript\">if (window.MathJax) {MathJax.Hub.Config({SVG: {font: \"STIX-Web\"}});}</script>                <script type=\"text/javascript\">window.PlotlyConfig = {MathJaxConfig: 'local'};</script>\n",
              "        <script src=\"https://cdn.plot.ly/plotly-2.8.3.min.js\"></script>                <div id=\"10d57495-bf6b-4d89-a507-805531de3439\" class=\"plotly-graph-div\" style=\"height:525px; width:100%;\"></div>            <script type=\"text/javascript\">                                    window.PLOTLYENV=window.PLOTLYENV || {};                                    if (document.getElementById(\"10d57495-bf6b-4d89-a507-805531de3439\")) {                    Plotly.newPlot(                        \"10d57495-bf6b-4d89-a507-805531de3439\",                        [{\"mode\":\"lines\",\"name\":\"data\",\"x\":[1.0,2.0,3.0,4.0,5.0,6.0,7.0,8.0,9.0,10.0,11.0,12.0,13.0,14.0,15.0,16.0,17.0,18.0,19.0,20.0,21.0,22.0,23.0,24.0,25.0,26.0,27.0,28.0,29.0,30.0,31.0,32.0,33.0,34.0,35.0,36.0,37.0,38.0,39.0,40.0,41.0,42.0,43.0,44.0,45.0,46.0,47.0,48.0,49.0,50.0,51.0,52.0,53.0,54.0,55.0,56.0,57.0,58.0,59.0,60.0,61.0,62.0,63.0,64.0,65.0,66.0,67.0,68.0,69.0,70.0,71.0,72.0,73.0,74.0,75.0,76.0,77.0,78.0,79.0,80.0,81.0,82.0,83.0,84.0,85.0,86.0,87.0,88.0,89.0,90.0,91.0,92.0,93.0,94.0,95.0,96.0,97.0,98.0,99.0,100.0,101.0,102.0,103.0,104.0,105.0,106.0,107.0,108.0,109.0,110.0,111.0,112.0,113.0,114.0,115.0,116.0,117.0,118.0,119.0,120.0,121.0,122.0,123.0,124.0,125.0,126.0,127.0,128.0,129.0,130.0,131.0,132.0,133.0,134.0,135.0,136.0,137.0,138.0,139.0,140.0,141.0,142.0,143.0,144.0,145.0,146.0,147.0,148.0,149.0,150.0,151.0,152.0,153.0,154.0,155.0,156.0,157.0,158.0,159.0,160.0,161.0,162.0,163.0,164.0,165.0,166.0,167.0,168.0,169.0,170.0,171.0,172.0,173.0,174.0,175.0,176.0,177.0,178.0,179.0,180.0,181.0,182.0,183.0,184.0,185.0,186.0,187.0,188.0,189.0,190.0,191.0,192.0],\"y\":[\"Basic Materials\",\"Basic Materials\",\"Basic Materials\",\"Basic Materials\",\"Basic Materials\",\"Basic Materials\",\"Basic Materials\",\"Basic Materials\",\"Basic Materials\",\"Basic Materials\",\"Basic Materials\",\"Basic Materials\",\"Basic Materials\",\"Basic Materials\",\"Basic Materials\",\"Basic Materials\",\"Basic Materials\",\"Basic Materials\",\"Basic Materials\",\"Basic Materials\",\"Basic Materials\",\"Basic Materials\",\"Basic Materials\",\"Basic Materials\",\"Basic Materials\",\"Basic Materials\",\"Basic Materials\",\"Basic Materials\",\"Basic Materials\",\"Basic Materials\",\"Basic Materials\",\"Basic Materials\",\"Basic Materials\",\"Basic Materials\",\"Basic Materials\",\"Basic Materials\",\"Basic Materials\",\"Basic Materials\",\"Basic Materials\",\"Basic Materials\",\"Basic Materials\",\"Basic Materials\",\"Basic Materials\",\"Basic Materials\",\"Basic Materials\",\"Basic Materials\",\"Basic Materials\",\"Basic Materials\",\"Basic Materials\",\"Basic Materials\",\"Basic Materials\",\"Basic Materials\",\"Basic Materials\",\"Basic Materials\",\"Basic Materials\",\"Basic Materials\",\"Basic Materials\",\"Basic Materials\",\"Basic Materials\",\"Basic Materials\",\"Basic Materials\",\"Basic Materials\",\"Basic Materials\",\"Basic Materials\",\"Basic Materials\",\"Basic Materials\",\"Basic Materials\",\"Basic Materials\",\"Basic Materials\",\"Basic Materials\",\"Basic Materials\",\"Basic Materials\",\"Basic Materials\",\"Basic Materials\",\"Basic Materials\",\"Basic Materials\",\"Basic Materials\",\"Basic Materials\",\"Basic Materials\",\"Basic Materials\",\"Basic Materials\",\"Basic Materials\",\"Basic Materials\",\"Basic Materials\",\"Basic Materials\",\"Basic Materials\",\"Basic Materials\",\"Basic Materials\",\"Basic Materials\",\"Basic Materials\",\"Basic Materials\",\"Basic Materials\",\"Basic Materials\",\"Basic Materials\",\"Basic Materials\",\"Basic Materials\",\"Basic Materials\",\"Basic Materials\",\"Basic Materials\",\"Basic Materials\",\"Basic Materials\",\"Basic Materials\",\"Basic Materials\",\"Basic Materials\",\"Basic Materials\",\"Basic Materials\",\"Basic Materials\",\"Basic Materials\",\"Basic Materials\",\"Basic Materials\",\"Basic Materials\",\"Basic Materials\",\"Basic Materials\",\"Basic Materials\",\"Basic Materials\",\"Basic Materials\",\"Basic Materials\",\"Basic Materials\",\"Basic Materials\",\"Basic Materials\",\"Basic Materials\",\"Basic Materials\",\"Basic Materials\",\"Basic Materials\",\"Basic Materials\",\"Basic Materials\",\"Basic Materials\",\"Basic Materials\",\"Basic Materials\",\"Basic Materials\",\"Basic Materials\",\"Basic Materials\",\"Basic Materials\",\"Basic Materials\",\"Basic Materials\",\"Basic Materials\",\"Basic Materials\",\"Basic Materials\",\"Basic Materials\",\"Basic Materials\",\"Basic Materials\",\"Basic Materials\",\"Basic Materials\",\"Basic Materials\",\"Basic Materials\",\"Basic Materials\",\"Basic Materials\",\"Basic Materials\",\"Basic Materials\",\"Basic Materials\",\"Basic Materials\",\"Basic Materials\",\"Basic Materials\",\"Basic Materials\",\"Basic Materials\",\"Basic Materials\",\"Basic Materials\",\"Basic Materials\",\"Basic Materials\",\"Basic Materials\",\"Basic Materials\",\"Basic Materials\",\"Basic Materials\",\"Basic Materials\",\"Basic Materials\",\"Basic Materials\",\"Basic Materials\",\"Basic Materials\",\"Basic Materials\",\"Basic Materials\",\"Basic Materials\",\"Basic Materials\",\"Basic Materials\",\"Basic Materials\",\"Basic Materials\",\"Basic Materials\",\"Basic Materials\",\"Basic Materials\",\"Basic Materials\",\"Basic Materials\",\"Basic Materials\",\"Basic Materials\",\"Basic Materials\",\"Basic Materials\",\"Basic Materials\",\"Basic Materials\",\"Basic Materials\",\"Basic Materials\",\"Basic Materials\",\"Basic Materials\",\"Basic Materials\",\"Basic Materials\"],\"type\":\"scatter\"}],                        {\"template\":{\"data\":{\"bar\":[{\"error_x\":{\"color\":\"#2a3f5f\"},\"error_y\":{\"color\":\"#2a3f5f\"},\"marker\":{\"line\":{\"color\":\"#E5ECF6\",\"width\":0.5},\"pattern\":{\"fillmode\":\"overlay\",\"size\":10,\"solidity\":0.2}},\"type\":\"bar\"}],\"barpolar\":[{\"marker\":{\"line\":{\"color\":\"#E5ECF6\",\"width\":0.5},\"pattern\":{\"fillmode\":\"overlay\",\"size\":10,\"solidity\":0.2}},\"type\":\"barpolar\"}],\"carpet\":[{\"aaxis\":{\"endlinecolor\":\"#2a3f5f\",\"gridcolor\":\"white\",\"linecolor\":\"white\",\"minorgridcolor\":\"white\",\"startlinecolor\":\"#2a3f5f\"},\"baxis\":{\"endlinecolor\":\"#2a3f5f\",\"gridcolor\":\"white\",\"linecolor\":\"white\",\"minorgridcolor\":\"white\",\"startlinecolor\":\"#2a3f5f\"},\"type\":\"carpet\"}],\"choropleth\":[{\"colorbar\":{\"outlinewidth\":0,\"ticks\":\"\"},\"type\":\"choropleth\"}],\"contour\":[{\"colorbar\":{\"outlinewidth\":0,\"ticks\":\"\"},\"colorscale\":[[0.0,\"#0d0887\"],[0.1111111111111111,\"#46039f\"],[0.2222222222222222,\"#7201a8\"],[0.3333333333333333,\"#9c179e\"],[0.4444444444444444,\"#bd3786\"],[0.5555555555555556,\"#d8576b\"],[0.6666666666666666,\"#ed7953\"],[0.7777777777777778,\"#fb9f3a\"],[0.8888888888888888,\"#fdca26\"],[1.0,\"#f0f921\"]],\"type\":\"contour\"}],\"contourcarpet\":[{\"colorbar\":{\"outlinewidth\":0,\"ticks\":\"\"},\"type\":\"contourcarpet\"}],\"heatmap\":[{\"colorbar\":{\"outlinewidth\":0,\"ticks\":\"\"},\"colorscale\":[[0.0,\"#0d0887\"],[0.1111111111111111,\"#46039f\"],[0.2222222222222222,\"#7201a8\"],[0.3333333333333333,\"#9c179e\"],[0.4444444444444444,\"#bd3786\"],[0.5555555555555556,\"#d8576b\"],[0.6666666666666666,\"#ed7953\"],[0.7777777777777778,\"#fb9f3a\"],[0.8888888888888888,\"#fdca26\"],[1.0,\"#f0f921\"]],\"type\":\"heatmap\"}],\"heatmapgl\":[{\"colorbar\":{\"outlinewidth\":0,\"ticks\":\"\"},\"colorscale\":[[0.0,\"#0d0887\"],[0.1111111111111111,\"#46039f\"],[0.2222222222222222,\"#7201a8\"],[0.3333333333333333,\"#9c179e\"],[0.4444444444444444,\"#bd3786\"],[0.5555555555555556,\"#d8576b\"],[0.6666666666666666,\"#ed7953\"],[0.7777777777777778,\"#fb9f3a\"],[0.8888888888888888,\"#fdca26\"],[1.0,\"#f0f921\"]],\"type\":\"heatmapgl\"}],\"histogram\":[{\"marker\":{\"pattern\":{\"fillmode\":\"overlay\",\"size\":10,\"solidity\":0.2}},\"type\":\"histogram\"}],\"histogram2d\":[{\"colorbar\":{\"outlinewidth\":0,\"ticks\":\"\"},\"colorscale\":[[0.0,\"#0d0887\"],[0.1111111111111111,\"#46039f\"],[0.2222222222222222,\"#7201a8\"],[0.3333333333333333,\"#9c179e\"],[0.4444444444444444,\"#bd3786\"],[0.5555555555555556,\"#d8576b\"],[0.6666666666666666,\"#ed7953\"],[0.7777777777777778,\"#fb9f3a\"],[0.8888888888888888,\"#fdca26\"],[1.0,\"#f0f921\"]],\"type\":\"histogram2d\"}],\"histogram2dcontour\":[{\"colorbar\":{\"outlinewidth\":0,\"ticks\":\"\"},\"colorscale\":[[0.0,\"#0d0887\"],[0.1111111111111111,\"#46039f\"],[0.2222222222222222,\"#7201a8\"],[0.3333333333333333,\"#9c179e\"],[0.4444444444444444,\"#bd3786\"],[0.5555555555555556,\"#d8576b\"],[0.6666666666666666,\"#ed7953\"],[0.7777777777777778,\"#fb9f3a\"],[0.8888888888888888,\"#fdca26\"],[1.0,\"#f0f921\"]],\"type\":\"histogram2dcontour\"}],\"mesh3d\":[{\"colorbar\":{\"outlinewidth\":0,\"ticks\":\"\"},\"type\":\"mesh3d\"}],\"parcoords\":[{\"line\":{\"colorbar\":{\"outlinewidth\":0,\"ticks\":\"\"}},\"type\":\"parcoords\"}],\"pie\":[{\"automargin\":true,\"type\":\"pie\"}],\"scatter\":[{\"marker\":{\"colorbar\":{\"outlinewidth\":0,\"ticks\":\"\"}},\"type\":\"scatter\"}],\"scatter3d\":[{\"line\":{\"colorbar\":{\"outlinewidth\":0,\"ticks\":\"\"}},\"marker\":{\"colorbar\":{\"outlinewidth\":0,\"ticks\":\"\"}},\"type\":\"scatter3d\"}],\"scattercarpet\":[{\"marker\":{\"colorbar\":{\"outlinewidth\":0,\"ticks\":\"\"}},\"type\":\"scattercarpet\"}],\"scattergeo\":[{\"marker\":{\"colorbar\":{\"outlinewidth\":0,\"ticks\":\"\"}},\"type\":\"scattergeo\"}],\"scattergl\":[{\"marker\":{\"colorbar\":{\"outlinewidth\":0,\"ticks\":\"\"}},\"type\":\"scattergl\"}],\"scattermapbox\":[{\"marker\":{\"colorbar\":{\"outlinewidth\":0,\"ticks\":\"\"}},\"type\":\"scattermapbox\"}],\"scatterpolar\":[{\"marker\":{\"colorbar\":{\"outlinewidth\":0,\"ticks\":\"\"}},\"type\":\"scatterpolar\"}],\"scatterpolargl\":[{\"marker\":{\"colorbar\":{\"outlinewidth\":0,\"ticks\":\"\"}},\"type\":\"scatterpolargl\"}],\"scatterternary\":[{\"marker\":{\"colorbar\":{\"outlinewidth\":0,\"ticks\":\"\"}},\"type\":\"scatterternary\"}],\"surface\":[{\"colorbar\":{\"outlinewidth\":0,\"ticks\":\"\"},\"colorscale\":[[0.0,\"#0d0887\"],[0.1111111111111111,\"#46039f\"],[0.2222222222222222,\"#7201a8\"],[0.3333333333333333,\"#9c179e\"],[0.4444444444444444,\"#bd3786\"],[0.5555555555555556,\"#d8576b\"],[0.6666666666666666,\"#ed7953\"],[0.7777777777777778,\"#fb9f3a\"],[0.8888888888888888,\"#fdca26\"],[1.0,\"#f0f921\"]],\"type\":\"surface\"}],\"table\":[{\"cells\":{\"fill\":{\"color\":\"#EBF0F8\"},\"line\":{\"color\":\"white\"}},\"header\":{\"fill\":{\"color\":\"#C8D4E3\"},\"line\":{\"color\":\"white\"}},\"type\":\"table\"}]},\"layout\":{\"annotationdefaults\":{\"arrowcolor\":\"#2a3f5f\",\"arrowhead\":0,\"arrowwidth\":1},\"autotypenumbers\":\"strict\",\"coloraxis\":{\"colorbar\":{\"outlinewidth\":0,\"ticks\":\"\"}},\"colorscale\":{\"diverging\":[[0,\"#8e0152\"],[0.1,\"#c51b7d\"],[0.2,\"#de77ae\"],[0.3,\"#f1b6da\"],[0.4,\"#fde0ef\"],[0.5,\"#f7f7f7\"],[0.6,\"#e6f5d0\"],[0.7,\"#b8e186\"],[0.8,\"#7fbc41\"],[0.9,\"#4d9221\"],[1,\"#276419\"]],\"sequential\":[[0.0,\"#0d0887\"],[0.1111111111111111,\"#46039f\"],[0.2222222222222222,\"#7201a8\"],[0.3333333333333333,\"#9c179e\"],[0.4444444444444444,\"#bd3786\"],[0.5555555555555556,\"#d8576b\"],[0.6666666666666666,\"#ed7953\"],[0.7777777777777778,\"#fb9f3a\"],[0.8888888888888888,\"#fdca26\"],[1.0,\"#f0f921\"]],\"sequentialminus\":[[0.0,\"#0d0887\"],[0.1111111111111111,\"#46039f\"],[0.2222222222222222,\"#7201a8\"],[0.3333333333333333,\"#9c179e\"],[0.4444444444444444,\"#bd3786\"],[0.5555555555555556,\"#d8576b\"],[0.6666666666666666,\"#ed7953\"],[0.7777777777777778,\"#fb9f3a\"],[0.8888888888888888,\"#fdca26\"],[1.0,\"#f0f921\"]]},\"colorway\":[\"#636efa\",\"#EF553B\",\"#00cc96\",\"#ab63fa\",\"#FFA15A\",\"#19d3f3\",\"#FF6692\",\"#B6E880\",\"#FF97FF\",\"#FECB52\"],\"font\":{\"color\":\"#2a3f5f\"},\"geo\":{\"bgcolor\":\"white\",\"lakecolor\":\"white\",\"landcolor\":\"#E5ECF6\",\"showlakes\":true,\"showland\":true,\"subunitcolor\":\"white\"},\"hoverlabel\":{\"align\":\"left\"},\"hovermode\":\"closest\",\"mapbox\":{\"style\":\"light\"},\"paper_bgcolor\":\"white\",\"plot_bgcolor\":\"#E5ECF6\",\"polar\":{\"angularaxis\":{\"gridcolor\":\"white\",\"linecolor\":\"white\",\"ticks\":\"\"},\"bgcolor\":\"#E5ECF6\",\"radialaxis\":{\"gridcolor\":\"white\",\"linecolor\":\"white\",\"ticks\":\"\"}},\"scene\":{\"xaxis\":{\"backgroundcolor\":\"#E5ECF6\",\"gridcolor\":\"white\",\"gridwidth\":2,\"linecolor\":\"white\",\"showbackground\":true,\"ticks\":\"\",\"zerolinecolor\":\"white\"},\"yaxis\":{\"backgroundcolor\":\"#E5ECF6\",\"gridcolor\":\"white\",\"gridwidth\":2,\"linecolor\":\"white\",\"showbackground\":true,\"ticks\":\"\",\"zerolinecolor\":\"white\"},\"zaxis\":{\"backgroundcolor\":\"#E5ECF6\",\"gridcolor\":\"white\",\"gridwidth\":2,\"linecolor\":\"white\",\"showbackground\":true,\"ticks\":\"\",\"zerolinecolor\":\"white\"}},\"shapedefaults\":{\"line\":{\"color\":\"#2a3f5f\"}},\"ternary\":{\"aaxis\":{\"gridcolor\":\"white\",\"linecolor\":\"white\",\"ticks\":\"\"},\"baxis\":{\"gridcolor\":\"white\",\"linecolor\":\"white\",\"ticks\":\"\"},\"bgcolor\":\"#E5ECF6\",\"caxis\":{\"gridcolor\":\"white\",\"linecolor\":\"white\",\"ticks\":\"\"}},\"title\":{\"x\":0.05},\"xaxis\":{\"automargin\":true,\"gridcolor\":\"white\",\"linecolor\":\"white\",\"ticks\":\"\",\"title\":{\"standoff\":15},\"zerolinecolor\":\"white\",\"zerolinewidth\":2},\"yaxis\":{\"automargin\":true,\"gridcolor\":\"white\",\"linecolor\":\"white\",\"ticks\":\"\",\"title\":{\"standoff\":15},\"zerolinecolor\":\"white\",\"zerolinewidth\":2}}},\"shapes\":[{\"type\":\"line\",\"x0\":168,\"x1\":168,\"xref\":\"x\",\"y0\":0,\"y1\":1,\"yref\":\"y domain\"}],\"xaxis\":{\"title\":{\"text\":\"Time Samples\"}},\"yaxis\":{\"title\":{\"text\":\"Y\"}}},                        {\"responsive\": true}                    ).then(function(){\n",
              "                            \n",
              "var gd = document.getElementById('10d57495-bf6b-4d89-a507-805531de3439');\n",
              "var x = new MutationObserver(function (mutations, observer) {{\n",
              "        var display = window.getComputedStyle(gd).display;\n",
              "        if (!display || display === 'none') {{\n",
              "            console.log([gd, 'removed!']);\n",
              "            Plotly.purge(gd);\n",
              "            observer.disconnect();\n",
              "        }}\n",
              "}});\n",
              "\n",
              "// Listen for the removal of the full notebook cells\n",
              "var notebookContainer = gd.closest('#notebook-container');\n",
              "if (notebookContainer) {{\n",
              "    x.observe(notebookContainer, {childList: true});\n",
              "}}\n",
              "\n",
              "// Listen for the clearing of the current output cell\n",
              "var outputEl = gd.closest('.output');\n",
              "if (outputEl) {{\n",
              "    x.observe(outputEl, {childList: true});\n",
              "}}\n",
              "\n",
              "                        })                };                            </script>        </div>\n",
              "</body>\n",
              "</html>"
            ]
          },
          "metadata": {}
        }
      ]
    },
    {
      "cell_type": "code",
      "execution_count": 30,
      "metadata": {
        "colab": {
          "base_uri": "https://localhost:8080/"
        },
        "id": "2gBCEnkxeIRa",
        "outputId": "bb817494-216b-48ea-d1c6-3ea2b0fcbde9"
      },
      "outputs": [
        {
          "output_type": "stream",
          "name": "stdout",
          "text": [
            "{'num_classes': 12, 'embedding_dim': 12, 'cov_dim': 7, 'op_dim': 5, 'lstm_hidden_dim': 64, 'lstm_layers': 4, 'window_size': 192, 'batch_size': 64, 'learning_rate': 0.005, 'epochs': 100, 'num_test_samples': 13654, 'num_train_samples': 50409, 'conditioning_period': 168, 'prediction_period': 24, 'num_companies': 5, 'mu_sigma_dim': 1, 'scheduler_step_size': 20, 'scheduler_gamma': 0.95}\n"
          ]
        }
      ],
      "source": [
        "\n",
        "\n",
        "params = {\n",
        "    'num_classes': len(sector_company_map),\n",
        "    'embedding_dim':len(sector_company_map),\n",
        "    #  month, day, 5 companies open and volume\n",
        "    'cov_dim': 7,\n",
        "    'op_dim': 5,  # op does not have the \"time covariates\"\n",
        "    'lstm_hidden_dim': 64,\n",
        "    'lstm_layers':4,\n",
        "    'window_size':192,\n",
        "    'batch_size': 64,\n",
        "    'learning_rate': 0.005,\n",
        "    'epochs':100,\n",
        "    'num_test_samples': NUM_TEST_SAMPLES,\n",
        "    'num_train_samples': NUM_TRAIN_SAMPLES,\n",
        "    'conditioning_period': 168,\n",
        "    'prediction_period': 24,\n",
        "    'num_companies': 5,\n",
        "    'mu_sigma_dim': 1,  # each datapoint is one-d,\n",
        "    'scheduler_step_size': 20,\n",
        "    'scheduler_gamma': 0.95\n",
        "}\n",
        "# wandb.config = params\n",
        "print(params)"
      ]
    },
    {
      "cell_type": "code",
      "source": [
        ""
      ],
      "metadata": {
        "id": "s4FWYMOwEK0d"
      },
      "execution_count": null,
      "outputs": []
    },
    {
      "cell_type": "code",
      "execution_count": 31,
      "metadata": {
        "id": "MIZTYqXUVoi1"
      },
      "outputs": [],
      "source": [
        "import numpy as np\n",
        "import torch\n",
        "from torch.utils.data import Dataset, Sampler\n",
        "from pathlib import Path\n",
        "import sys\n",
        "\n",
        "DATA_PATH = '/content/idl-spring-22-project-deepar/data'\n",
        "\n",
        "\n",
        "class TrainDataset(Dataset):\n",
        "    def __init__(self):\n",
        "        self.data = stock_inputs\n",
        "        self.label = stock_labels\n",
        "        self.train_len = self.data.shape[0]\n",
        "\n",
        "\n",
        "    def __len__(self):\n",
        "        return self.train_len\n",
        "  \n",
        "    def __getitem__(self, index):\n",
        "        x1 = torch.from_numpy(self.data[index][:,[0,2,4,6,8,10,11]].astype(np.float32))\n",
        "        x2 = torch.from_numpy(self.label[index][:,[0,2,4,6,8]].astype(np.float32))\n",
        "\n",
        "        win_len, ip_dim = x1.shape\n",
        "\n",
        "        sector_name = self.data[index][0,12]\n",
        "        sector_id = sector_to_index[sector_name]\n",
        "\n",
        "        sector_id_concat = sector_id * torch.ones((win_len, 1))\n",
        "        x1 = torch.cat((x1, sector_id_concat), dim=1)\n",
        "        return x1, x2  \n",
        "\n",
        "class TestDataset(Dataset):\n",
        "    def __init__(self):\n",
        "        self.data = stock_test_inputs\n",
        "        self.label = stock_test_labels\n",
        "        self.test_len = self.data.shape[0]\n",
        "        \n",
        "    def __len__(self):\n",
        "        return self.test_len\n",
        "\n",
        "    def __getitem__(self, index):\n",
        "      x1 = torch.from_numpy(self.data[index][:,[0,2,4,6,8,10,11]].astype(np.float32))\n",
        "      x2 = torch.from_numpy(self.label[index][:,[0,2,4,6,8]].astype(np.float32))\n",
        "\n",
        "      # Add Sector ID to the input\n",
        "      win_len, ip_dim = x1.shape\n",
        "\n",
        "      sector_name = self.data[index][0,12]  # 12 is company index id\n",
        "      sector_id = sector_to_index[sector_name]\n",
        "\n",
        "      # sector_id_concat -> Sector Id tensor that is to be concatenated to x1\n",
        "      sector_id_concat = sector_id * torch.ones((win_len, 1))\n",
        "      x1 = torch.cat((x1, sector_id_concat), dim=1)\n",
        "\n",
        "      return x1, x2  "
      ]
    },
    {
      "cell_type": "code",
      "execution_count": 32,
      "metadata": {
        "id": "vUjBboi-RjWy",
        "colab": {
          "base_uri": "https://localhost:8080/"
        },
        "outputId": "095fafe1-a1cf-4d3f-eb8a-7fceac499934"
      },
      "outputs": [
        {
          "output_type": "stream",
          "name": "stdout",
          "text": [
            "data shape \n",
            "tensor([3., 3., 3., 3., 3., 3., 3., 3., 3., 3., 3., 3., 3., 3., 3., 3., 3., 3.,\n",
            "        3., 3., 3., 3., 3., 3., 3., 3., 3., 3., 3., 3., 3., 3., 3., 3., 3., 3.,\n",
            "        3., 3., 3., 3., 3., 3., 3., 3., 3., 3., 3., 3., 3., 3., 3., 3., 3., 3.,\n",
            "        3., 3., 3., 3., 3., 3., 3., 3., 3., 3., 3., 3., 3., 3., 3., 3., 3., 3.,\n",
            "        3., 3., 3., 3., 3., 3., 3., 3., 3., 3., 3., 3., 3., 3., 3., 3., 3., 3.,\n",
            "        3., 3., 3., 3., 3., 3., 3., 3., 3., 3., 3., 3., 3., 3., 3., 3., 3., 3.,\n",
            "        3., 3., 3., 3., 3., 3., 3., 3., 3., 3., 3., 3., 3., 3., 3., 3., 3., 3.,\n",
            "        3., 3., 3., 3., 3., 3., 3., 3., 3., 3., 3., 3., 3., 3., 3., 3., 3., 3.,\n",
            "        3., 3., 3., 3., 3., 3., 3., 3., 3., 3., 3., 3., 3., 3., 3., 3., 3., 3.,\n",
            "        3., 3., 3., 3., 3., 3., 3., 3., 3., 3., 3., 3., 3., 3., 3., 3., 3., 3.,\n",
            "        3., 3., 3., 3., 3., 3., 3., 3., 3., 3., 3., 3.])\n"
          ]
        }
      ],
      "source": [
        "train_dataset = TrainDataset()\n",
        "\n",
        "for x1, x2 in train_dataset:\n",
        "\n",
        "    print(\"data shape \")\n",
        "    print(x1[:,-1])\n",
        "    break\n"
      ]
    },
    {
      "cell_type": "code",
      "execution_count": null,
      "metadata": {
        "id": "VoSrBQrGRFeL"
      },
      "outputs": [],
      "source": [
        ""
      ]
    },
    {
      "cell_type": "code",
      "execution_count": null,
      "metadata": {
        "id": "__VxpSfrRlK7"
      },
      "outputs": [],
      "source": [
        ""
      ]
    },
    {
      "cell_type": "code",
      "execution_count": null,
      "metadata": {
        "id": "fKpEy6hZSPeF"
      },
      "outputs": [],
      "source": [
        ""
      ]
    },
    {
      "cell_type": "code",
      "execution_count": 33,
      "metadata": {
        "id": "a3I7J_ZLesq9"
      },
      "outputs": [],
      "source": [
        "train_data = TrainDataset()\n",
        "test_data  = TestDataset()\n",
        "\n",
        "train_loader = torch.utils.data.DataLoader(train_data, batch_size=params['batch_size'], shuffle=True)\n",
        "test_loader = torch.utils.data.DataLoader(test_data, batch_size=params['batch_size'], shuffle=False)\n"
      ]
    },
    {
      "cell_type": "code",
      "execution_count": 34,
      "metadata": {
        "id": "BNCwGgCeBh4h"
      },
      "outputs": [],
      "source": [
        "def rmse(overall_mu, overall_label):\n",
        "  predictions = overall_mu.cpu().detach().numpy()\n",
        "  labels = overall_label.cpu().detach().numpy()\n",
        "\n",
        "  N, _ = predictions.shape\n",
        "  numerator = np.sqrt((1/(N)) *np.sum((predictions - labels) ** 2))\n",
        "\n",
        "  denominator = (1/(N)) *np.sum(np.abs(labels))\n",
        "  result =numerator/denominator\n",
        "\n",
        "  return result\n",
        "\n",
        "def ND(overall_mu, overall_label):\n",
        "  predictions = overall_mu.cpu().detach().numpy()\n",
        "  labels = overall_label.cpu().detach().numpy()\n",
        "\n",
        "  N, _ = predictions.shape\n",
        "  numerator = np.sum(np.abs(labels - predictions))\n",
        "\n",
        "  denominator = np.sum(np.abs(labels))\n",
        "  result =numerator/denominator\n",
        "\n",
        "  return result\n"
      ]
    },
    {
      "cell_type": "markdown",
      "metadata": {
        "id": "159ySGUzmwsD"
      },
      "source": [
        "# MODEL\n"
      ]
    },
    {
      "cell_type": "code",
      "execution_count": 35,
      "metadata": {
        "id": "HLxjSYBzmyuz"
      },
      "outputs": [],
      "source": [
        "class Network(nn.Module):\n",
        "    def __init__(self, params):\n",
        "        '''\n",
        "        We define a recurrent network that predicts the \n",
        "        future values of a time-dependent variable based on\n",
        "        past inputs and covariates.\n",
        "        '''\n",
        "        super(Network, self).__init__()\n",
        "        self.params = params\n",
        "        \n",
        "        self.lstm = nn.LSTM(input_size=params['cov_dim']+params['embedding_dim'],\n",
        "                            hidden_size=params['lstm_hidden_dim'],\n",
        "                            num_layers=params['lstm_layers'],\n",
        "                            bias=True,\n",
        "                            batch_first=True,\n",
        "                          )\n",
        "\n",
        "        self.price_mu = nn.Sequential(\n",
        "                        nn.Linear(params['lstm_hidden_dim'], params['num_companies']),\n",
        "                        nn.GELU()\n",
        "                      )\n",
        "        \n",
        "        self.price_sigma = nn.Sequential(\n",
        "                        nn.Linear(params['lstm_hidden_dim'], params['num_companies']),\n",
        "                        nn.Softplus()\n",
        "                      )\n",
        "        \n",
        "        self.embedding = nn.Embedding(params['num_classes'], params['embedding_dim'])\n",
        "        \n",
        "\n",
        "    def forward(self, x, h0_c0=None):\n",
        "        '''\n",
        "        Predict mu and sigma of the distribution for z_t.\n",
        "        '''\n",
        "\n",
        "        cov = x[:, :, :-1]   # remove the sector index from the inputs to get the covariates\n",
        "        sector_index = x[:, 0, -1].to(torch.int32)  # retrieve the sector index from the covariates\n",
        "        onehot_embed = self.embedding(sector_index)\n",
        "\n",
        "        batch_size = cov.shape[0]\n",
        "        seq_len = cov.shape[1]\n",
        "        cov_dim = cov.shape[2]\n",
        "\n",
        "        assert cov_dim == params['cov_dim']\n",
        "        assert batch_size <= params['batch_size']\n",
        "\n",
        "        ohe_embed_all_timestamps = onehot_embed.unsqueeze(1).repeat(1,seq_len,1)\n",
        "\n",
        "        lstm_input = torch.cat(\n",
        "            (cov,\n",
        "             ohe_embed_all_timestamps\n",
        "            ), dim=2\n",
        "          )\n",
        "        \n",
        "        assert lstm_input.shape[0] <= params['batch_size']\n",
        "        assert lstm_input.shape[1] == seq_len\n",
        "        assert lstm_input.shape[2] == params['cov_dim'] + params['embedding_dim']\n",
        "\n",
        "        out1, hn_cn = self.lstm(input=lstm_input, hx=h0_c0)\n",
        "              \n",
        "        out_price_mu = self.price_mu(out1)\n",
        "        out_price_sigma = self.price_sigma(out1)\n",
        "        \n",
        "        return out_price_mu, out_price_sigma, hn_cn\n",
        "\n"
      ]
    },
    {
      "cell_type": "code",
      "execution_count": 36,
      "metadata": {
        "id": "e4gWHzoKQb8c",
        "colab": {
          "base_uri": "https://localhost:8080/"
        },
        "outputId": "0e4e81f2-0309-4ae6-8e2d-c45999111834"
      },
      "outputs": [
        {
          "output_type": "stream",
          "name": "stdout",
          "text": [
            "Network(\n",
            "  (lstm): LSTM(19, 64, num_layers=4, batch_first=True)\n",
            "  (price_mu): Sequential(\n",
            "    (0): Linear(in_features=64, out_features=5, bias=True)\n",
            "    (1): GELU()\n",
            "  )\n",
            "  (price_sigma): Sequential(\n",
            "    (0): Linear(in_features=64, out_features=5, bias=True)\n",
            "    (1): Softplus(beta=1, threshold=20)\n",
            "  )\n",
            "  (embedding): Embedding(12, 12)\n",
            ")\n"
          ]
        }
      ],
      "source": [
        "model = Network(params)\n",
        "print(model)"
      ]
    },
    {
      "cell_type": "code",
      "source": [
        "for ip, op in train_loader:\n",
        "    print(\"ip shape\", ip.shape)\n",
        "    print(\"op shape\", op[0].shape)\n",
        "\n",
        "    fwd = model.forward(ip)\n",
        "    print(\"fwd shape\", fwd[0].shape)\n",
        "    break"
      ],
      "metadata": {
        "colab": {
          "base_uri": "https://localhost:8080/"
        },
        "id": "xV93rGZEZjiX",
        "outputId": "2cfe6598-1a2c-44cd-a904-9d0476949e6d"
      },
      "execution_count": 24,
      "outputs": [
        {
          "output_type": "stream",
          "name": "stdout",
          "text": [
            "ip shape torch.Size([64, 192, 8])\n",
            "op shape torch.Size([192, 5])\n",
            "fwd shape torch.Size([64, 192, 5])\n"
          ]
        }
      ]
    },
    {
      "cell_type": "code",
      "execution_count": 25,
      "metadata": {
        "id": "kmpCoaF6hBS8"
      },
      "outputs": [],
      "source": [
        "def gauss_fit_and_sample(price_mu, price_sigma):\n",
        "  window_len = price_mu.shape[1]\n",
        "  batch_size = price_mu.shape[0]\n",
        "\n",
        "  # BATCH, SEQ_LEN, NUM_COMPANIES, 1\n",
        "  price_mu_reshape = price_mu.view(batch_size * window_len * params['num_companies'], params['mu_sigma_dim'])\n",
        "  price_sigma_reshape = price_sigma.view(batch_size * window_len * params['num_companies'], params['mu_sigma_dim'])\n",
        "\n",
        "  gauss_price = torch.distributions.Normal(price_mu_reshape, price_sigma_reshape)\n",
        "\n",
        "  # BATCH, SEQ_LEN, NUM_COMPANIES, 1\n",
        "  price_sampled_reshape = gauss_price.sample()\n",
        "  price_sampled = price_sampled_reshape.view(batch_size, window_len, params['num_companies'])\n",
        "\n",
        "  return price_sampled"
      ]
    },
    {
      "cell_type": "code",
      "source": [
        "mu_rand = torch.rand(2, 3, 5)\n",
        "sigma_rand = torch.ones((2,3,5))* 0.000000001\n",
        "\n",
        "sampled_data = gauss_fit_and_sample(mu_rand, sigma_rand)\n",
        "\n",
        "print(mu_rand)\n",
        "print(sampled_data)\n"
      ],
      "metadata": {
        "colab": {
          "base_uri": "https://localhost:8080/"
        },
        "id": "jeyCH2qBPkPR",
        "outputId": "70eadf9d-7c45-4823-a931-df99c7984c9a"
      },
      "execution_count": 26,
      "outputs": [
        {
          "output_type": "stream",
          "name": "stdout",
          "text": [
            "tensor([[[0.0796, 0.3626, 0.4163, 0.4352, 0.3474],\n",
            "         [0.1266, 0.1493, 0.5315, 0.5452, 0.9812],\n",
            "         [0.8587, 0.5068, 0.1878, 0.2545, 0.4619]],\n",
            "\n",
            "        [[0.2278, 0.4329, 0.7757, 0.7743, 0.9720],\n",
            "         [0.9311, 0.8849, 0.1754, 0.7811, 0.7559],\n",
            "         [0.3709, 0.1432, 0.8298, 0.1921, 0.5188]]])\n",
            "tensor([[[0.0796, 0.3626, 0.4163, 0.4352, 0.3474],\n",
            "         [0.1266, 0.1493, 0.5315, 0.5452, 0.9812],\n",
            "         [0.8587, 0.5068, 0.1878, 0.2545, 0.4619]],\n",
            "\n",
            "        [[0.2278, 0.4329, 0.7757, 0.7743, 0.9720],\n",
            "         [0.9311, 0.8849, 0.1754, 0.7811, 0.7559],\n",
            "         [0.3709, 0.1432, 0.8298, 0.1921, 0.5188]]])\n"
          ]
        }
      ]
    },
    {
      "cell_type": "code",
      "execution_count": 27,
      "metadata": {
        "id": "NK3Q5UWCGCX0"
      },
      "outputs": [],
      "source": [
        ".0# Test Code Conditioning Period + Prediction Period\n",
        "\n",
        "\n",
        "def validate(model):\n",
        "\n",
        "  model.eval()\n",
        "\n",
        "\n",
        "  conditionining_period = params['conditioning_period']\n",
        "  prediction_period     = params['prediction_period']\n",
        "\n",
        "  assert conditionining_period + prediction_period == params['window_size']\n",
        "\n",
        "  with torch.no_grad():\n",
        "      \n",
        "    overall_price_mu = None\n",
        "    # overall_volume_mu = None\n",
        "\n",
        "    overall_price_sigma = None\n",
        "    # overall_volume_sigma = None\n",
        "\n",
        "    overall_price_label = None\n",
        "    # overall_volume_label = None\n",
        "\n",
        "    overall_price_pred = None\n",
        "    # overall_volume_pred = None\n",
        "\n",
        "    for i, (ip_covariate, op_label) in enumerate(test_loader):\n",
        "\n",
        "      ip_covariate = ip_covariate.cuda()\n",
        "      op_label = op_label.cuda()\n",
        "\n",
        "      cond_ip = ip_covariate[:, 0:params['conditioning_period'], :]\n",
        "      cond_op = op_label[:, 0:params['conditioning_period'], :]\n",
        "\n",
        "      pred_ip = ip_covariate[:, params['conditioning_period']:, :]\n",
        "      pred_op = op_label[:, params['conditioning_period']:, :]\n",
        "\n",
        "      # Step One - Forward Pass : Conditioning Period.\n",
        "      price_mu, price_sigma, ht_ct = model.forward(x=cond_ip, h0_c0=None)\n",
        "\n",
        "      # Sample GMM and get PRICE/ volume\n",
        "      price_sampled = gauss_fit_and_sample(price_mu, price_sigma)\n",
        "\n",
        "      price_sampled_last = price_sampled[:, -1, :].unsqueeze(1)\n",
        "\n",
        "      batch_price_mu = price_mu\n",
        "      batch_price_sigma = price_sigma\n",
        "\n",
        "      batch_price_pred = price_sampled\n",
        "\n",
        "      for t in range(0, prediction_period):\n",
        "        pred_cov_ip = pred_ip[:, t, :].unsqueeze(1)\n",
        "\n",
        "        # pred_cov_ip[:, 0, 2:2 + params['num_companies']] = price_sampled_last[:, 0, :]\n",
        "        pred_cov_ip[:, 0, 0:params['num_companies']] = price_sampled_last[:, 0, :]\n",
        "        price_pred_mu, price_pred_sigma, ht_ct = model.forward(x=pred_cov_ip,h0_c0=ht_ct)\n",
        "        price_sampled_last = gauss_fit_and_sample(price_pred_mu, price_pred_sigma)\n",
        "\n",
        "        batch_price_mu = torch.cat((batch_price_mu, price_pred_mu), dim=1)\n",
        "        batch_price_sigma = torch.cat((batch_price_sigma, price_pred_sigma), dim=1)        \n",
        "        batch_price_pred = torch.cat((batch_price_pred, price_sampled_last), dim=1)\n",
        "\n",
        "      overall_price_mu = batch_price_mu if overall_price_mu is None else torch.cat((overall_price_mu, batch_price_mu), dim=0)\n",
        "      overall_price_sigma = batch_price_sigma if overall_price_sigma is None else torch.cat((overall_price_sigma, batch_price_sigma), dim=0)\n",
        "      overall_price_pred = batch_price_pred if overall_price_pred is None else torch.cat((overall_price_pred, batch_price_pred), dim=0)\n",
        "      overall_price_label = op_label[:, :, 0:params['num_companies']] if overall_price_label is None else torch.cat((overall_price_label, op_label[:, :, 0:params['num_companies']]), dim=0)\n",
        "    \n",
        "  \n",
        "  return overall_price_pred,overall_price_label, overall_price_mu, overall_price_sigma\n"
      ]
    },
    {
      "cell_type": "code",
      "source": [
        "def loss_fn(out_price_mu, out_price_sigma, op_label):\n",
        "\n",
        "    B, S, D = out_price_mu.shape\n",
        "\n",
        "    out_price_mu = out_price_mu.view(B * S * params['num_companies'], params['mu_sigma_dim'])\n",
        "    out_price_sigma = out_price_sigma.view(B * S * params['num_companies'], params['mu_sigma_dim'])\n",
        "    \n",
        "    gauss_price =  torch.distributions.Normal(out_price_mu, out_price_sigma)\n",
        "    \n",
        "    op_label_price = op_label.view(B * S * params['num_companies'], params['mu_sigma_dim'])\n",
        "\n",
        "    sample_loss =  -1 * torch.sum(gauss_price.log_prob(op_label_price)) / (B * S * params['num_companies'])\n",
        "\n",
        "    return sample_loss\n"
      ],
      "metadata": {
        "id": "bcp5f_P2-RTd"
      },
      "execution_count": 28,
      "outputs": []
    },
    {
      "cell_type": "code",
      "source": [
        "def loss_fn_v2(out_price_mu, out_price_sigma, op_label):\n",
        "\n",
        "    B, S, D = out_price_mu.shape\n",
        "\n",
        "    loss = 0\n",
        "    for b in range(0, B):\n",
        "      for seq in range(0, S):\n",
        "        mean = out_price_mu[b, seq].view(-1, 1)\n",
        "        sigma = out_price_sigma[b, seq].view(-1, 1)\n",
        "        op    = op_label[b, seq].view(-1, 1)\n",
        "\n",
        "        gauss =  torch.distributions.Normal(mean, sigma)\n",
        "        # print(\"mean\", mean.shape, \"sigma\", sigma.shape, \"op\", op.shape)\n",
        "        loss += -1 * torch.sum(gauss.log_prob(op))\n",
        "    return  loss / (B * S * params['num_companies'])\n",
        "\n"
      ],
      "metadata": {
        "id": "M3lj0T91H0T4"
      },
      "execution_count": 29,
      "outputs": []
    },
    {
      "cell_type": "code",
      "source": [
        "mu_rand = torch.rand(2, 3, 5)\n",
        "sigma_rand = torch.rand(2, 3, 5)\n",
        "op_rand = torch.randn(2, 3, 5)\n",
        "\n",
        "loss_val = loss_fn(mu_rand, sigma_rand, op_rand)\n",
        "loss_val_v2 = loss_fn_v2(mu_rand, sigma_rand, op_rand)\n",
        "\n",
        "print(\"loss fn \", loss_val, \"loss val v2 \", loss_val_v2)\n",
        "\n",
        "sigma_rand = 0.000000001 * torch.ones((2, 3, 4))\n",
        "\n",
        "\n",
        "# print(\"mu shape\", mu_rand.shape)"
      ],
      "metadata": {
        "colab": {
          "base_uri": "https://localhost:8080/"
        },
        "id": "sx-X1B839Mp3",
        "outputId": "abdb79e5-0fcf-4b99-c879-a3e17df22398"
      },
      "execution_count": null,
      "outputs": [
        {
          "output_type": "stream",
          "name": "stdout",
          "text": [
            "loss fn  tensor(18.5288) loss val v2  tensor(18.5288)\n"
          ]
        }
      ]
    },
    {
      "cell_type": "code",
      "execution_count": null,
      "metadata": {
        "id": "kQ6wFWORLyHh"
      },
      "outputs": [],
      "source": [
        "model = Network(params)\n",
        "\n",
        "model_version='vectorized_gaussian_normal_loss_sector_embed_V1.pt'\n",
        "epochs = 100\n",
        "\n",
        "optimizer = torch.optim.Adam(model.parameters(), lr= 0.001)\n",
        "# scheduler = optim.lr_scheduler.StepLR(optimizer, step_size=params['scheduler_step_size'], gamma=params['scheduler_gamma'])\n",
        "scheduler = torch.optim.lr_scheduler.ReduceLROnPlateau(optimizer, mode='min', factor=0.7, patience=5, threshold=0.01, threshold_mode='rel', cooldown=2, min_lr=0, eps=1e-08, verbose=False)\n",
        "\n",
        "for epoch in range(0, epochs):\n",
        "\n",
        "  batch_bar = tqdm(total=len(train_loader), dynamic_ncols=True, leave=False, position=0, desc='Train') \n",
        "  model.train()\n",
        "  model.cuda()\n",
        "\n",
        "  total_loss = 0\n",
        "  total_price_loss = 0\n",
        "  total_volume_loss = 0\n",
        "\n",
        "  if os.path.exists(f'/content/drive/MyDrive/DeepARExperiments/{model_version}'):\n",
        "      # model.load_state_dict(torch.load(f'{SAVE_PATH}{EXP_TAG}/model_saved_epoch{epoch-1}.pt')) \n",
        "\n",
        "      checkpoint = torch.load(f'/content/drive/MyDrive/DeepARExperiments/{model_version}')\n",
        "      model.load_state_dict(checkpoint['model_state_dict'])\n",
        "      optimizer.load_state_dict(checkpoint['optimizer_state_dict'])\n",
        "      epoch = checkpoint['epoch'] + 1\n",
        "  \n",
        "  for i, (ip_covariate, op_label) in enumerate(train_loader):\n",
        "\n",
        "    optimizer.zero_grad()\n",
        "\n",
        "    ip_covariate = ip_covariate.cuda()\n",
        "    op_label = op_label.cuda()\n",
        "    \n",
        "    out_price_mu, out_price_sigma, ht_ct = model.forward(x=ip_covariate)\n",
        "    \n",
        "    batch_size = out_price_mu.shape[0]\n",
        "    seq_with_horizon = params['window_size']\n",
        "\n",
        "    out_price_mu = out_price_mu.view(batch_size * seq_with_horizon * params['num_companies'], params['mu_sigma_dim'])\n",
        "    out_price_sigma = out_price_sigma.view(batch_size * seq_with_horizon * params['num_companies'], params['mu_sigma_dim'])\n",
        "\n",
        "    loss = 0\n",
        "\n",
        "\n",
        "    op_label_price = op_label.view(batch_size * seq_with_horizon * params['num_companies'], params['mu_sigma_dim'])\n",
        "    gauss_price =  torch.distributions.Normal(out_price_mu, out_price_sigma)   \n",
        "\n",
        "    loss =  -1 * torch.sum(gauss_price.log_prob(op_label_price)) / (batch_size * seq_with_horizon * params['num_companies'])\n",
        "\n",
        "    loss.backward()\n",
        "\n",
        "    total_loss += float(loss)\n",
        "    optimizer.step()\n",
        "\n",
        "    batch_bar.set_postfix(\n",
        "    loss=\"{:.04f}\".format(float(total_loss / (i + 1))),\n",
        "    lr=\"{:.04f}\".format(float(optimizer.param_groups[0]['lr'])))\n",
        "\n",
        "    batch_bar.update() \n",
        "\n",
        "  batch_bar.close() # You need this to close the tqdm bar\n",
        "  overall_price_pred, overall_price_label, overall_price_mu, overall_price_sigma = validate(model)\n",
        "  scheduler.step(loss)\n",
        "\n",
        "  torch.save({\n",
        "          'epoch': epoch,\n",
        "          'model_state_dict': model.state_dict(),\n",
        "          'optimizer_state_dict': optimizer.state_dict(),\n",
        "          'loss': total_loss/len(train_loader),\n",
        "          },  f'/content/drive/MyDrive/DeepARExperiments/{model_version}')\n",
        "\n",
        "\n",
        "  rmse_price = rmse(overall_price_pred.view(-1, 1), overall_price_label.view(-1, 1))\n",
        "  nd_price = ND(overall_price_pred.view(-1, 1), overall_price_label.view(-1, 1))\n",
        "  wandb.log({\"loss\":loss})\n",
        "  print(f\"Epoch {epoch}, price loss {loss}\")"
      ]
    },
    {
      "cell_type": "code",
      "execution_count": null,
      "metadata": {
        "id": "watBKVnZKui7"
      },
      "outputs": [],
      "source": [
        "import plotly.express as px\n",
        "import plotly.graph_objects as go\n",
        "import pandas as pd\n",
        "\n",
        "# def plot_test_output_data(actual,predicted, window_id,cov_id):\n",
        "#   x=np.linspace(1, len(actual[window_id]), num=len(actual[window_id]))\n",
        "#   df = pd.DataFrame()\n",
        "#   df['actual'] = actual[window_id,:,cov_id]\n",
        "#   df['predicted'] = predicted[window_id,:,cov_id]\n",
        "  \n",
        "\n",
        "#   fig = go.Figure()\n",
        "#   fig.add_vline(x=168)\n",
        "#   fig.add_traces(go.Scatter(x=x, y = df['actual'], mode = 'lines', name = 'Actual'))\n",
        "#   fig.add_traces(go.Scatter(x=x, y = df['predicted'], mode = 'lines', name = 'Predicted'))\n",
        "\n",
        "#   fig.update_xaxes(title_text='Time Samples')\n",
        "#   fig.update_yaxes(title_text='Normalized Stock Opening Price')\n",
        "#   fig.show()\n",
        "  \n"
      ]
    },
    {
      "cell_type": "code",
      "source": [
        "def plot_test_output_data(actual,predicted, sigma, cov_id, window_id):\n",
        "\n",
        "  x=np.linspace(1, len(actual[window_id]), num=len(actual[window_id]))\n",
        "  df = pd.DataFrame()\n",
        "  df['actual'] = actual[window_id, :, cov_id]\n",
        "  df['predicted'] = predicted[window_id, :, cov_id]\n",
        "\n",
        "  df['sigma'] = sigma[window_id, :, cov_id]\n",
        "  #df['sampled']=sampled[window_id]\n",
        "  df['predicted_upper'] =   df['predicted'] + 1*df['sigma']\n",
        "  df['predcited_lower'] =   df['predicted'] - 1*df['sigma']\n",
        "  # print(\"df predicted = \", df['predicted'])\n",
        "\n",
        "  fig = go.Figure()\n",
        "  fig.add_vline(x=168)\n",
        "  fig.add_traces(go.Scatter(x=x, y = df['actual'], mode = 'lines', name = 'Actual'))\n",
        "  fig.add_traces(go.Scatter(x=x, y = df['predicted'], mode = 'lines', name = 'Predicted'))\n",
        "\n",
        "  fig.add_traces(go.Scatter(\n",
        "        name='Upper Bound',\n",
        "        x=x.tolist(),\n",
        "        y=df['predicted_upper'],\n",
        "        mode='lines',\n",
        "        marker=dict(color=\"#444\"),\n",
        "        line=dict(width=0),\n",
        "        showlegend=False\n",
        "    ))\n",
        "  fig.add_traces(\n",
        "    go.Scatter(\n",
        "        name='Lower Bound',\n",
        "        x=x.tolist(),\n",
        "        y= df['predcited_lower'],\n",
        "        marker=dict(color=\"#444\"),\n",
        "        line=dict(width=0),\n",
        "        mode='lines',\n",
        "        fillcolor='rgba(68, 68, 68, 0.3)',\n",
        "        fill='tonexty',\n",
        "        showlegend=False\n",
        "    ))\n",
        "  \n",
        "\n",
        "  fig.update_xaxes(title_text='Time Samples')\n",
        "  fig.update_yaxes(title_text='Normalized Stock Opening Price')\n",
        "  fig.show()"
      ],
      "metadata": {
        "id": "CBtQ-GNiBnKo"
      },
      "execution_count": 56,
      "outputs": []
    },
    {
      "cell_type": "code",
      "execution_count": 68,
      "metadata": {
        "colab": {
          "base_uri": "https://localhost:8080/",
          "height": 1000
        },
        "id": "EZDyI-_kNR-c",
        "outputId": "471bc04f-5896-4b26-b77d-127599a42194"
      },
      "outputs": [
        {
          "output_type": "display_data",
          "data": {
            "text/html": [
              "<html>\n",
              "<head><meta charset=\"utf-8\" /></head>\n",
              "<body>\n",
              "    <div>            <script src=\"https://cdnjs.cloudflare.com/ajax/libs/mathjax/2.7.5/MathJax.js?config=TeX-AMS-MML_SVG\"></script><script type=\"text/javascript\">if (window.MathJax) {MathJax.Hub.Config({SVG: {font: \"STIX-Web\"}});}</script>                <script type=\"text/javascript\">window.PlotlyConfig = {MathJaxConfig: 'local'};</script>\n",
              "        <script src=\"https://cdn.plot.ly/plotly-2.8.3.min.js\"></script>                <div id=\"00d37a3e-07ba-4151-b528-3161c1e338f1\" class=\"plotly-graph-div\" style=\"height:525px; width:100%;\"></div>            <script type=\"text/javascript\">                                    window.PLOTLYENV=window.PLOTLYENV || {};                                    if (document.getElementById(\"00d37a3e-07ba-4151-b528-3161c1e338f1\")) {                    Plotly.newPlot(                        \"00d37a3e-07ba-4151-b528-3161c1e338f1\",                        [{\"mode\":\"lines\",\"name\":\"Actual\",\"x\":[1.0,2.0,3.0,4.0,5.0,6.0,7.0,8.0,9.0,10.0,11.0,12.0,13.0,14.0,15.0,16.0,17.0,18.0,19.0,20.0,21.0,22.0,23.0,24.0,25.0,26.0,27.0,28.0,29.0,30.0,31.0,32.0,33.0,34.0,35.0,36.0,37.0,38.0,39.0,40.0,41.0,42.0,43.0,44.0,45.0,46.0,47.0,48.0,49.0,50.0,51.0,52.0,53.0,54.0,55.0,56.0,57.0,58.0,59.0,60.0,61.0,62.0,63.0,64.0,65.0,66.0,67.0,68.0,69.0,70.0,71.0,72.0,73.0,74.0,75.0,76.0,77.0,78.0,79.0,80.0,81.0,82.0,83.0,84.0,85.0,86.0,87.0,88.0,89.0,90.0,91.0,92.0,93.0,94.0,95.0,96.0,97.0,98.0,99.0,100.0,101.0,102.0,103.0,104.0,105.0,106.0,107.0,108.0,109.0,110.0,111.0,112.0,113.0,114.0,115.0,116.0,117.0,118.0,119.0,120.0,121.0,122.0,123.0,124.0,125.0,126.0,127.0,128.0,129.0,130.0,131.0,132.0,133.0,134.0,135.0,136.0,137.0,138.0,139.0,140.0,141.0,142.0,143.0,144.0,145.0,146.0,147.0,148.0,149.0,150.0,151.0,152.0,153.0,154.0,155.0,156.0,157.0,158.0,159.0,160.0,161.0,162.0,163.0,164.0,165.0,166.0,167.0,168.0,169.0,170.0,171.0,172.0,173.0,174.0,175.0,176.0,177.0,178.0,179.0,180.0,181.0,182.0,183.0,184.0,185.0,186.0,187.0,188.0,189.0,190.0,191.0,192.0],\"y\":[-1.2094101905822754,-1.1994885206222534,-1.1975122690200806,-1.2745506763458252,-1.2355252504348755,-1.2641795873641968,-1.3580667972564697,-1.3361945152282715,-1.2395845651626587,-1.2538814544677734,-1.2600517272949219,-1.312506079673767,-1.3232260942459106,-1.3018639087677002,-1.29762864112854,-1.3061115741729736,-1.3039861917495728,-1.3039861917495728,-1.3039861917495728,-1.3383671045303345,-1.3210757970809937,-1.3275362253189087,-1.3449043035507202,-1.3427220582962036,-1.3253796100616455,-1.3146438598632812,-1.3318589925765991,-1.3405429124832153,-1.3405429124832153,-1.3536661863327026,-1.3146438598632812,-1.3061115741729736,-1.247737169265747,-1.293405532836914,-1.291298508644104,-1.2497824430465698,-1.2214055061340332,-1.2193994522094727,-1.2334997653961182,-1.237553596496582,-1.2416185140609741,-1.2294572591781616,-1.2416185140609741,-1.23147714138031,-1.2294572591781616,-1.2214055061340332,-1.2034491300582886,-1.1915993690490723,-1.2234143018722534,-1.2094101905822754,-1.2094101905822754,-1.237553596496582,-1.2518305778503418,-1.2355252504348755,-1.237553596496582,-1.1817971467971802,-1.1994885206222534,-1.2054334878921509,-1.2054334878921509,-1.2074204683303833,-1.179844617843628,-1.1662487983703613,-1.1643167734146118,-1.2094101905822754,-1.213397741317749,-1.29762864112854,-1.3253796100616455,-1.2849955558776855,-1.3189287185668945,-1.3296959400177002,-1.4211053848266602,-1.3492786884307861,-1.3802706003189087,-1.3061115741729736,-1.293405532836914,-1.3253796100616455,-1.3361945152282715,-1.3405429124832153,-1.3253796100616455,-1.3146438598632812,-1.3514708280563354,-1.3802706003189087,-1.398279070854187,-1.411932110786438,-1.4280232191085815,-1.3580667972564697,-1.3869978189468384,-1.4442929029464722,-1.4607452154159546,-1.494214653968811,-1.4845737218856812,-1.4893862009048462,-1.4845737218856812,-1.4607452154159546,-1.446631908416748,-1.4893862009048462,-1.4869780540466309,-1.4917985200881958,-1.4773844480514526,-1.4917985200881958,-1.4917985200881958,-1.4990590810775757,-1.5309438705444336,-1.5584760904312134,-1.496634840965271,-1.5433944463729858,-1.5210590362548828,-1.561004877090454,-1.599469542503357,-1.5635379552841187,-1.5284664630889893,-1.5584760904312134,-1.5087960958480835,-1.4726110696792603,-1.4396259784698486,-1.4326533079147339,-1.437298059463501,-1.458383560180664,-1.4773844480514526,-1.4631106853485107,-1.470230221748352,-1.4845737218856812,-1.4797768592834473,-1.470230221748352,-1.4821733236312866,-1.4142200946807861,-1.4654799699783325,-1.4257136583328247,-1.518598198890686,-1.5865354537963867,-1.5063557624816895,-1.5711637735366821,-1.5968735218048096,-1.583962321281433,-1.5509158372879028,-1.555951714515686,-1.5711637735366821,-1.5660754442214966,-1.6098995208740234,-1.555951714515686,-1.5711637735366821,-1.5916953086853027,-1.5584760904312134,-1.5968735218048096,-1.6177711486816406,-1.6098995208740234,-1.633642315864563,-1.6283327341079712,-1.6204043626785278,-1.6283327341079712,-1.647000789642334,-1.636304259300232,-1.6659096479415894,-1.6713573932647705,-1.6631934642791748,-1.6659096479415894,-1.5968735218048096,-1.5408958196640015,-1.5584760904312134,-1.5284664630889893,-1.5334255695343018,-1.5112404823303223,-1.5433944463729858,-1.5584760904312134,-1.5484044551849365,-1.583962321281433,-1.5686174631118774,-1.5737144947052002,-1.6020700931549072,-1.583962321281433,-1.5762697458267212,-1.5635379552841187,-1.583962321281433,-1.583962321281433,-1.5891131162643433,-1.583962321281433,-1.5788294076919556,-1.6020700931549072,-1.633642315864563,-1.6230424642562866,-1.6098995208740234,-1.636304259300232,-1.7044755220413208,-1.799609899520874,-1.7527124881744385,-1.7907016277313232,-1.7412189245224,-1.8055790662765503,-1.8236337900161743,-1.8388510942459106,-1.8949804306030273,-1.808572769165039],\"type\":\"scatter\"},{\"mode\":\"lines\",\"name\":\"Predicted\",\"x\":[1.0,2.0,3.0,4.0,5.0,6.0,7.0,8.0,9.0,10.0,11.0,12.0,13.0,14.0,15.0,16.0,17.0,18.0,19.0,20.0,21.0,22.0,23.0,24.0,25.0,26.0,27.0,28.0,29.0,30.0,31.0,32.0,33.0,34.0,35.0,36.0,37.0,38.0,39.0,40.0,41.0,42.0,43.0,44.0,45.0,46.0,47.0,48.0,49.0,50.0,51.0,52.0,53.0,54.0,55.0,56.0,57.0,58.0,59.0,60.0,61.0,62.0,63.0,64.0,65.0,66.0,67.0,68.0,69.0,70.0,71.0,72.0,73.0,74.0,75.0,76.0,77.0,78.0,79.0,80.0,81.0,82.0,83.0,84.0,85.0,86.0,87.0,88.0,89.0,90.0,91.0,92.0,93.0,94.0,95.0,96.0,97.0,98.0,99.0,100.0,101.0,102.0,103.0,104.0,105.0,106.0,107.0,108.0,109.0,110.0,111.0,112.0,113.0,114.0,115.0,116.0,117.0,118.0,119.0,120.0,121.0,122.0,123.0,124.0,125.0,126.0,127.0,128.0,129.0,130.0,131.0,132.0,133.0,134.0,135.0,136.0,137.0,138.0,139.0,140.0,141.0,142.0,143.0,144.0,145.0,146.0,147.0,148.0,149.0,150.0,151.0,152.0,153.0,154.0,155.0,156.0,157.0,158.0,159.0,160.0,161.0,162.0,163.0,164.0,165.0,166.0,167.0,168.0,169.0,170.0,171.0,172.0,173.0,174.0,175.0,176.0,177.0,178.0,179.0,180.0,181.0,182.0,183.0,184.0,185.0,186.0,187.0,188.0,189.0,190.0,191.0,192.0],\"y\":[-0.1646498590707779,-0.1576416939496994,-0.1691388487815857,-0.16997113823890686,-0.16990533471107483,-0.16995719075202942,-0.16996818780899048,-0.16980046033859253,-0.16995778679847717,-0.16977640986442566,-0.16994303464889526,-0.16996526718139648,-0.16997115314006805,-0.16994673013687134,-0.16968366503715515,-0.16936306655406952,-0.16920121014118195,-0.1690804809331894,-0.16900433599948883,-0.16882823407649994,-0.16924284398555756,-0.16912555694580078,-0.1691858470439911,-0.1693418025970459,-0.16929565370082855,-0.16905197501182556,-0.16904191672801971,-0.16902074217796326,-0.16899952292442322,-0.16908083856105804,-0.16934894025325775,-0.16902901232242584,-0.16918177902698517,-0.1681341826915741,-0.16919007897377014,-0.16933709383010864,-0.16922517120838165,-0.16914249956607819,-0.16909438371658325,-0.1691514551639557,-0.16908881068229675,-0.16900938749313354,-0.16890078783035278,-0.16918697953224182,-0.1693238615989685,-0.16943824291229248,-0.16941164433956146,-0.16937054693698883,-0.16939137876033783,-0.1696191281080246,-0.16943854093551636,-0.16958722472190857,-0.16970345377922058,-0.1696023792028427,-0.169723778963089,-0.16957344114780426,-0.16956256330013275,-0.1699569672346115,-0.16996972262859344,-0.16996590793132782,-0.16996972262859344,-0.1698448807001114,-0.16990965604782104,-0.1699710339307785,-0.16983166337013245,-0.1698649525642395,-0.16941013932228088,-0.1696847826242447,-0.16996775567531586,-0.1699436753988266,-0.16996781527996063,-0.1698472946882248,-0.16996720433235168,-0.1699209362268448,-0.16995243728160858,-0.16996552050113678,-0.16996131837368011,-0.16994789242744446,-0.16994255781173706,-0.1699322611093521,-0.1699279397726059,-0.1699700951576233,-0.16996584832668304,-0.16995272040367126,-0.1699526458978653,-0.16996757686138153,-0.16967427730560303,-0.16975267231464386,-0.1699066460132599,-0.16995395720005035,-0.16993920505046844,-0.16991718113422394,-0.16991189122200012,-0.16987523436546326,-0.16985778510570526,-0.16980673372745514,-0.1699221283197403,-0.16946622729301453,-0.1696058213710785,-0.16992953419685364,-0.16996942460536957,-0.16995570063591003,-0.16995976865291595,-0.16996926069259644,-0.1699705868959427,-0.16988909244537354,-0.16996422410011292,-0.16992688179016113,-0.16996990144252777,-0.16996647417545319,-0.169962078332901,-0.1699511706829071,-0.1699708104133606,-0.16987194120883942,-0.169826939702034,-0.16979765892028809,-0.16992002725601196,-0.1699315905570984,-0.1699710190296173,-0.1699688881635666,-0.16962690651416779,-0.16985584795475006,-0.16980361938476562,-0.16959907114505768,-0.16972368955612183,-0.16983510553836823,-0.1698465794324875,-0.16996900737285614,-0.1699167937040329,-0.1698981374502182,-0.16990594565868378,-0.16994608938694,-0.16996395587921143,-0.16996341943740845,-0.16997048258781433,-0.16988639533519745,-0.16986431181430817,-0.16994768381118774,-0.1699255406856537,-0.1699710488319397,-0.1694829910993576,-0.16962915658950806,-0.16992217302322388,-0.1698668748140335,-0.1699351817369461,-0.16997039318084717,-0.16989672183990479,-0.16995921730995178,-0.1699228286743164,-0.1698836088180542,-0.1699085235595703,-0.16995057463645935,-0.16993415355682373,-0.16994650661945343,-0.16994832456111908,-0.16989706456661224,-0.16993072628974915,-0.1696750521659851,-0.16971318423748016,-0.16977208852767944,-0.16977469623088837,-0.16953876614570618,-0.16896915435791016,-0.16976505517959595,-0.1697893887758255,-0.1697143018245697,-0.16981033980846405,-0.1697903275489807,-0.11890695989131927,-0.1369830071926117,0.017644431442022324,0.0738012045621872,0.11964645981788635,0.19156089425086975,0.2179909497499466,0.1957431435585022,0.15785562992095947,0.14414581656455994,0.14562533795833588,0.1669231504201889,0.16749466955661774,0.18193167448043823,0.24958397448062897,0.2679070830345154,0.27647265791893005,0.30906686186790466,0.2933369278907776,0.2492496818304062,0.3302067220211029,0.334272563457489,0.3450775742530823,0.33660727739334106],\"type\":\"scatter\"},{\"line\":{\"width\":0},\"marker\":{\"color\":\"#444\"},\"mode\":\"lines\",\"name\":\"Upper Bound\",\"showlegend\":false,\"x\":[1.0,2.0,3.0,4.0,5.0,6.0,7.0,8.0,9.0,10.0,11.0,12.0,13.0,14.0,15.0,16.0,17.0,18.0,19.0,20.0,21.0,22.0,23.0,24.0,25.0,26.0,27.0,28.0,29.0,30.0,31.0,32.0,33.0,34.0,35.0,36.0,37.0,38.0,39.0,40.0,41.0,42.0,43.0,44.0,45.0,46.0,47.0,48.0,49.0,50.0,51.0,52.0,53.0,54.0,55.0,56.0,57.0,58.0,59.0,60.0,61.0,62.0,63.0,64.0,65.0,66.0,67.0,68.0,69.0,70.0,71.0,72.0,73.0,74.0,75.0,76.0,77.0,78.0,79.0,80.0,81.0,82.0,83.0,84.0,85.0,86.0,87.0,88.0,89.0,90.0,91.0,92.0,93.0,94.0,95.0,96.0,97.0,98.0,99.0,100.0,101.0,102.0,103.0,104.0,105.0,106.0,107.0,108.0,109.0,110.0,111.0,112.0,113.0,114.0,115.0,116.0,117.0,118.0,119.0,120.0,121.0,122.0,123.0,124.0,125.0,126.0,127.0,128.0,129.0,130.0,131.0,132.0,133.0,134.0,135.0,136.0,137.0,138.0,139.0,140.0,141.0,142.0,143.0,144.0,145.0,146.0,147.0,148.0,149.0,150.0,151.0,152.0,153.0,154.0,155.0,156.0,157.0,158.0,159.0,160.0,161.0,162.0,163.0,164.0,165.0,166.0,167.0,168.0,169.0,170.0,171.0,172.0,173.0,174.0,175.0,176.0,177.0,178.0,179.0,180.0,181.0,182.0,183.0,184.0,185.0,186.0,187.0,188.0,189.0,190.0,191.0,192.0],\"y\":[0.8848625421524048,1.3152707815170288,1.161722183227539,1.0363115072250366,1.0463899374008179,0.9949243068695068,1.0031170845031738,1.0543079376220703,1.0491183996200562,0.9894993305206299,0.9593735337257385,0.9736614227294922,0.9994388222694397,1.0113508701324463,0.9987019300460815,1.0418717861175537,1.025174856185913,1.044370412826538,1.0445197820663452,1.034359097480774,1.0234711170196533,1.0269536972045898,1.0271217823028564,1.0154688358306885,1.054465889930725,1.0323370695114136,1.0449246168136597,1.0620076656341553,1.0675296783447266,1.0619754791259766,1.0786535739898682,1.0452426671981812,1.0228421688079834,0.9678382873535156,0.9514285326004028,0.9654967188835144,0.9759543538093567,0.9562050104141235,0.9471390843391418,0.9600778818130493,0.9630997180938721,0.9723648428916931,0.9634348750114441,0.9691785573959351,0.9401906132698059,0.9266465902328491,0.9046099185943604,0.9059022665023804,0.8939645290374756,0.9209696650505066,0.9074196219444275,0.8998435735702515,0.9131025075912476,0.8986941576004028,0.9124644994735718,0.8627244234085083,0.782646894454956,0.7847033143043518,0.7905562520027161,0.7573712468147278,0.8007494211196899,0.8040173053741455,0.7498677968978882,0.7208143472671509,0.7676236629486084,0.7445135712623596,0.8217710256576538,0.8865710496902466,0.8572176694869995,0.9047374725341797,0.9169322848320007,0.9614939093589783,0.8942956924438477,0.9281919002532959,0.8609322905540466,0.8852394819259644,0.9020434617996216,0.8663325309753418,0.8601780533790588,0.8785059452056885,0.8710975646972656,0.9350387454032898,0.9760353565216064,1.0056754350662231,0.9746626615524292,1.026563048362732,1.0721064805984497,1.0619004964828491,1.0436935424804688,1.0904208421707153,1.1079779863357544,1.0950335264205933,1.104289174079895,1.0806512832641602,1.0779472589492798,1.0555686950683594,1.0986590385437012,1.0632284879684448,0.9440785646438599,0.9204331636428833,0.9623667001724243,0.9849759340286255,0.969678521156311,0.9905716776847839,1.0151845216751099,1.0178439617156982,1.0529060363769531,1.042467713356018,1.0875831842422485,1.1041818857192993,1.0709670782089233,1.0397017002105713,1.1045737266540527,1.071732759475708,1.0710117816925049,1.0142821073532104,1.0310254096984863,1.0004734992980957,1.0104093551635742,0.989981472492218,0.9432689547538757,0.9585524797439575,1.03953218460083,1.0409660339355469,1.030963659286499,1.0210248231887817,0.9665471911430359,1.0055514574050903,0.9576157927513123,1.032366394996643,1.0767512321472168,1.037885069847107,1.0866637229919434,1.1008453369140625,1.1147544384002686,1.131273627281189,1.1223876476287842,1.1259267330169678,1.107578158378601,1.1409275531768799,1.0710495710372925,0.9891697764396667,1.0345733165740967,1.028043508529663,1.048824429512024,1.1013250350952148,1.114101529121399,1.118471384048462,1.1122580766677856,1.162329912185669,1.1494704484939575,1.187577486038208,1.1791802644729614,1.205473780632019,1.2168956995010376,1.2043505907058716,1.2468889951705933,1.1831605434417725,1.1685245037078857,1.1639752388000488,1.1160210371017456,1.1054638624191284,1.0590546131134033,1.1170654296875,1.1482462882995605,1.1320281028747559,1.1139665842056274,1.1276788711547852,0.22459684312343597,0.007210269570350647,0.047267213463783264,0.09752528369426727,0.15007512271404266,0.2261432409286499,0.260867178440094,0.23896092176437378,0.1976901739835739,0.18118444085121155,0.17885182797908783,0.20222318172454834,0.19991742074489594,0.2155473232269287,0.2784477472305298,0.2996003031730652,0.3078121244907379,0.3419734835624695,0.32947278022766113,0.28707292675971985,0.36130398511886597,0.3712565302848816,0.38289618492126465,0.3728969097137451],\"type\":\"scatter\"},{\"fill\":\"tonexty\",\"fillcolor\":\"rgba(68, 68, 68, 0.3)\",\"line\":{\"width\":0},\"marker\":{\"color\":\"#444\"},\"mode\":\"lines\",\"name\":\"Lower Bound\",\"showlegend\":false,\"x\":[1.0,2.0,3.0,4.0,5.0,6.0,7.0,8.0,9.0,10.0,11.0,12.0,13.0,14.0,15.0,16.0,17.0,18.0,19.0,20.0,21.0,22.0,23.0,24.0,25.0,26.0,27.0,28.0,29.0,30.0,31.0,32.0,33.0,34.0,35.0,36.0,37.0,38.0,39.0,40.0,41.0,42.0,43.0,44.0,45.0,46.0,47.0,48.0,49.0,50.0,51.0,52.0,53.0,54.0,55.0,56.0,57.0,58.0,59.0,60.0,61.0,62.0,63.0,64.0,65.0,66.0,67.0,68.0,69.0,70.0,71.0,72.0,73.0,74.0,75.0,76.0,77.0,78.0,79.0,80.0,81.0,82.0,83.0,84.0,85.0,86.0,87.0,88.0,89.0,90.0,91.0,92.0,93.0,94.0,95.0,96.0,97.0,98.0,99.0,100.0,101.0,102.0,103.0,104.0,105.0,106.0,107.0,108.0,109.0,110.0,111.0,112.0,113.0,114.0,115.0,116.0,117.0,118.0,119.0,120.0,121.0,122.0,123.0,124.0,125.0,126.0,127.0,128.0,129.0,130.0,131.0,132.0,133.0,134.0,135.0,136.0,137.0,138.0,139.0,140.0,141.0,142.0,143.0,144.0,145.0,146.0,147.0,148.0,149.0,150.0,151.0,152.0,153.0,154.0,155.0,156.0,157.0,158.0,159.0,160.0,161.0,162.0,163.0,164.0,165.0,166.0,167.0,168.0,169.0,170.0,171.0,172.0,173.0,174.0,175.0,176.0,177.0,178.0,179.0,180.0,181.0,182.0,183.0,184.0,185.0,186.0,187.0,188.0,189.0,190.0,191.0,192.0],\"y\":[-1.2141622304916382,-1.6305540800094604,-1.5,-1.3762537240982056,-1.3862005472183228,-1.334838628768921,-1.3430533409118652,-1.393908977508545,-1.3890339136123657,-1.329052209854126,-1.2992596626281738,-1.3135919570922852,-1.3393810987472534,-1.3512442111968994,-1.3380693197250366,-1.3805978298187256,-1.3635773658752441,-1.3825314044952393,-1.3825284242630005,-1.3720155954360962,-1.3619568347930908,-1.3652048110961914,-1.3654935359954834,-1.3541524410247803,-1.3930572271347046,-1.3704410791397095,-1.383008360862732,-1.4000492095947266,-1.4055287837982178,-1.400137186050415,-1.417351484298706,-1.3833006620407104,-1.361205816268921,-1.3041067123413086,-1.2898086309432983,-1.304170846939087,-1.3144047260284424,-1.2944899797439575,-1.2853279113769531,-1.298380732536316,-1.3012773990631104,-1.3103835582733154,-1.3012363910675049,-1.307552456855774,-1.2788383960723877,-1.265523076057434,-1.2434332370758057,-1.2446433305740356,-1.2327473163604736,-1.2602078914642334,-1.2462966442108154,-1.2390180826187134,-1.2525094747543335,-1.2378989458084106,-1.251911997795105,-1.2018712759017944,-1.121772050857544,-1.1246172189712524,-1.1304956674575806,-1.097303032875061,-1.1406888961791992,-1.143707036972046,-1.0896871089935303,-1.0607564449310303,-1.1072869300842285,-1.0842435359954834,-1.1605913639068604,-1.2259405851364136,-1.1971532106399536,-1.2446248531341553,-1.2568678855895996,-1.3011884689331055,-1.2342300415039062,-1.268033742904663,-1.2008371353149414,-1.2251704931259155,-1.2419661283493042,-1.206228256225586,-1.2000632286071777,-1.2183704376220703,-1.2109534740447998,-1.2749788761138916,-1.315967082977295,-1.3455809354782104,-1.3145679235458374,-1.3664981126785278,-1.4114550352096558,-1.401405930519104,-1.3835067749023438,-1.4303287267684937,-1.4478563070297241,-1.4348679780960083,-1.4441128969192505,-1.4204018115997314,-1.4176627397537231,-1.3951821327209473,-1.4385032653808594,-1.4021610021591187,-1.2832902669906616,-1.2602921724319458,-1.3023055791854858,-1.3248873949050903,-1.3095980882644653,-1.330510139465332,-1.3551257848739624,-1.3576221466064453,-1.3928344249725342,-1.3823214769363403,-1.4275230169296265,-1.4441148042678833,-1.4108911752700806,-1.3796041011810303,-1.4445152282714844,-1.4114766120910645,-1.41066575050354,-1.3538774251937866,-1.3708653450012207,-1.340336799621582,-1.350351333618164,-1.3299192190170288,-1.2825227975845337,-1.2982641458511353,-1.3791394233703613,-1.3801641464233398,-1.3704109191894531,-1.3606950044631958,-1.3062403202056885,-1.3454893827438354,-1.2974493503570557,-1.3721626996994019,-1.4165630340576172,-1.3777772188186646,-1.4265916347503662,-1.4407720565795898,-1.454695463180542,-1.4710463285446167,-1.4621162414550781,-1.4658222198486328,-1.4474292993545532,-1.4808697700500488,-1.4100154638290405,-1.328428030014038,-1.374417781829834,-1.3677773475646973,-1.3886948823928833,-1.4412658214569092,-1.4538949728012085,-1.4583897590637207,-1.4521037340164185,-1.5020971298217773,-1.4892874956130981,-1.5274786949157715,-1.5190485715866089,-1.545366883277893,-1.5567923784255981,-1.5441447496414185,-1.5867503881454468,-1.5225107669830322,-1.507950782775879,-1.5035195350646973,-1.4555703401565552,-1.444541335105896,-1.3969929218292236,-1.4565956592559814,-1.4878251552581787,-1.47145676612854,-1.4535871744155884,-1.467259407043457,-0.46241074800491333,-0.28117626905441284,-0.011978352442383766,0.050077129155397415,0.08921779692173004,0.1569785475730896,0.1751147210597992,0.15252536535263062,0.11802108585834503,0.10710719227790833,0.11239884793758392,0.13162311911582947,0.13507191836833954,0.14831602573394775,0.22072020173072815,0.23621384799480438,0.2451331913471222,0.27616024017333984,0.25720107555389404,0.21142643690109253,0.29910945892333984,0.29728859663009644,0.3072589635848999,0.300317645072937],\"type\":\"scatter\"}],                        {\"template\":{\"data\":{\"bar\":[{\"error_x\":{\"color\":\"#2a3f5f\"},\"error_y\":{\"color\":\"#2a3f5f\"},\"marker\":{\"line\":{\"color\":\"#E5ECF6\",\"width\":0.5},\"pattern\":{\"fillmode\":\"overlay\",\"size\":10,\"solidity\":0.2}},\"type\":\"bar\"}],\"barpolar\":[{\"marker\":{\"line\":{\"color\":\"#E5ECF6\",\"width\":0.5},\"pattern\":{\"fillmode\":\"overlay\",\"size\":10,\"solidity\":0.2}},\"type\":\"barpolar\"}],\"carpet\":[{\"aaxis\":{\"endlinecolor\":\"#2a3f5f\",\"gridcolor\":\"white\",\"linecolor\":\"white\",\"minorgridcolor\":\"white\",\"startlinecolor\":\"#2a3f5f\"},\"baxis\":{\"endlinecolor\":\"#2a3f5f\",\"gridcolor\":\"white\",\"linecolor\":\"white\",\"minorgridcolor\":\"white\",\"startlinecolor\":\"#2a3f5f\"},\"type\":\"carpet\"}],\"choropleth\":[{\"colorbar\":{\"outlinewidth\":0,\"ticks\":\"\"},\"type\":\"choropleth\"}],\"contour\":[{\"colorbar\":{\"outlinewidth\":0,\"ticks\":\"\"},\"colorscale\":[[0.0,\"#0d0887\"],[0.1111111111111111,\"#46039f\"],[0.2222222222222222,\"#7201a8\"],[0.3333333333333333,\"#9c179e\"],[0.4444444444444444,\"#bd3786\"],[0.5555555555555556,\"#d8576b\"],[0.6666666666666666,\"#ed7953\"],[0.7777777777777778,\"#fb9f3a\"],[0.8888888888888888,\"#fdca26\"],[1.0,\"#f0f921\"]],\"type\":\"contour\"}],\"contourcarpet\":[{\"colorbar\":{\"outlinewidth\":0,\"ticks\":\"\"},\"type\":\"contourcarpet\"}],\"heatmap\":[{\"colorbar\":{\"outlinewidth\":0,\"ticks\":\"\"},\"colorscale\":[[0.0,\"#0d0887\"],[0.1111111111111111,\"#46039f\"],[0.2222222222222222,\"#7201a8\"],[0.3333333333333333,\"#9c179e\"],[0.4444444444444444,\"#bd3786\"],[0.5555555555555556,\"#d8576b\"],[0.6666666666666666,\"#ed7953\"],[0.7777777777777778,\"#fb9f3a\"],[0.8888888888888888,\"#fdca26\"],[1.0,\"#f0f921\"]],\"type\":\"heatmap\"}],\"heatmapgl\":[{\"colorbar\":{\"outlinewidth\":0,\"ticks\":\"\"},\"colorscale\":[[0.0,\"#0d0887\"],[0.1111111111111111,\"#46039f\"],[0.2222222222222222,\"#7201a8\"],[0.3333333333333333,\"#9c179e\"],[0.4444444444444444,\"#bd3786\"],[0.5555555555555556,\"#d8576b\"],[0.6666666666666666,\"#ed7953\"],[0.7777777777777778,\"#fb9f3a\"],[0.8888888888888888,\"#fdca26\"],[1.0,\"#f0f921\"]],\"type\":\"heatmapgl\"}],\"histogram\":[{\"marker\":{\"pattern\":{\"fillmode\":\"overlay\",\"size\":10,\"solidity\":0.2}},\"type\":\"histogram\"}],\"histogram2d\":[{\"colorbar\":{\"outlinewidth\":0,\"ticks\":\"\"},\"colorscale\":[[0.0,\"#0d0887\"],[0.1111111111111111,\"#46039f\"],[0.2222222222222222,\"#7201a8\"],[0.3333333333333333,\"#9c179e\"],[0.4444444444444444,\"#bd3786\"],[0.5555555555555556,\"#d8576b\"],[0.6666666666666666,\"#ed7953\"],[0.7777777777777778,\"#fb9f3a\"],[0.8888888888888888,\"#fdca26\"],[1.0,\"#f0f921\"]],\"type\":\"histogram2d\"}],\"histogram2dcontour\":[{\"colorbar\":{\"outlinewidth\":0,\"ticks\":\"\"},\"colorscale\":[[0.0,\"#0d0887\"],[0.1111111111111111,\"#46039f\"],[0.2222222222222222,\"#7201a8\"],[0.3333333333333333,\"#9c179e\"],[0.4444444444444444,\"#bd3786\"],[0.5555555555555556,\"#d8576b\"],[0.6666666666666666,\"#ed7953\"],[0.7777777777777778,\"#fb9f3a\"],[0.8888888888888888,\"#fdca26\"],[1.0,\"#f0f921\"]],\"type\":\"histogram2dcontour\"}],\"mesh3d\":[{\"colorbar\":{\"outlinewidth\":0,\"ticks\":\"\"},\"type\":\"mesh3d\"}],\"parcoords\":[{\"line\":{\"colorbar\":{\"outlinewidth\":0,\"ticks\":\"\"}},\"type\":\"parcoords\"}],\"pie\":[{\"automargin\":true,\"type\":\"pie\"}],\"scatter\":[{\"marker\":{\"colorbar\":{\"outlinewidth\":0,\"ticks\":\"\"}},\"type\":\"scatter\"}],\"scatter3d\":[{\"line\":{\"colorbar\":{\"outlinewidth\":0,\"ticks\":\"\"}},\"marker\":{\"colorbar\":{\"outlinewidth\":0,\"ticks\":\"\"}},\"type\":\"scatter3d\"}],\"scattercarpet\":[{\"marker\":{\"colorbar\":{\"outlinewidth\":0,\"ticks\":\"\"}},\"type\":\"scattercarpet\"}],\"scattergeo\":[{\"marker\":{\"colorbar\":{\"outlinewidth\":0,\"ticks\":\"\"}},\"type\":\"scattergeo\"}],\"scattergl\":[{\"marker\":{\"colorbar\":{\"outlinewidth\":0,\"ticks\":\"\"}},\"type\":\"scattergl\"}],\"scattermapbox\":[{\"marker\":{\"colorbar\":{\"outlinewidth\":0,\"ticks\":\"\"}},\"type\":\"scattermapbox\"}],\"scatterpolar\":[{\"marker\":{\"colorbar\":{\"outlinewidth\":0,\"ticks\":\"\"}},\"type\":\"scatterpolar\"}],\"scatterpolargl\":[{\"marker\":{\"colorbar\":{\"outlinewidth\":0,\"ticks\":\"\"}},\"type\":\"scatterpolargl\"}],\"scatterternary\":[{\"marker\":{\"colorbar\":{\"outlinewidth\":0,\"ticks\":\"\"}},\"type\":\"scatterternary\"}],\"surface\":[{\"colorbar\":{\"outlinewidth\":0,\"ticks\":\"\"},\"colorscale\":[[0.0,\"#0d0887\"],[0.1111111111111111,\"#46039f\"],[0.2222222222222222,\"#7201a8\"],[0.3333333333333333,\"#9c179e\"],[0.4444444444444444,\"#bd3786\"],[0.5555555555555556,\"#d8576b\"],[0.6666666666666666,\"#ed7953\"],[0.7777777777777778,\"#fb9f3a\"],[0.8888888888888888,\"#fdca26\"],[1.0,\"#f0f921\"]],\"type\":\"surface\"}],\"table\":[{\"cells\":{\"fill\":{\"color\":\"#EBF0F8\"},\"line\":{\"color\":\"white\"}},\"header\":{\"fill\":{\"color\":\"#C8D4E3\"},\"line\":{\"color\":\"white\"}},\"type\":\"table\"}]},\"layout\":{\"annotationdefaults\":{\"arrowcolor\":\"#2a3f5f\",\"arrowhead\":0,\"arrowwidth\":1},\"autotypenumbers\":\"strict\",\"coloraxis\":{\"colorbar\":{\"outlinewidth\":0,\"ticks\":\"\"}},\"colorscale\":{\"diverging\":[[0,\"#8e0152\"],[0.1,\"#c51b7d\"],[0.2,\"#de77ae\"],[0.3,\"#f1b6da\"],[0.4,\"#fde0ef\"],[0.5,\"#f7f7f7\"],[0.6,\"#e6f5d0\"],[0.7,\"#b8e186\"],[0.8,\"#7fbc41\"],[0.9,\"#4d9221\"],[1,\"#276419\"]],\"sequential\":[[0.0,\"#0d0887\"],[0.1111111111111111,\"#46039f\"],[0.2222222222222222,\"#7201a8\"],[0.3333333333333333,\"#9c179e\"],[0.4444444444444444,\"#bd3786\"],[0.5555555555555556,\"#d8576b\"],[0.6666666666666666,\"#ed7953\"],[0.7777777777777778,\"#fb9f3a\"],[0.8888888888888888,\"#fdca26\"],[1.0,\"#f0f921\"]],\"sequentialminus\":[[0.0,\"#0d0887\"],[0.1111111111111111,\"#46039f\"],[0.2222222222222222,\"#7201a8\"],[0.3333333333333333,\"#9c179e\"],[0.4444444444444444,\"#bd3786\"],[0.5555555555555556,\"#d8576b\"],[0.6666666666666666,\"#ed7953\"],[0.7777777777777778,\"#fb9f3a\"],[0.8888888888888888,\"#fdca26\"],[1.0,\"#f0f921\"]]},\"colorway\":[\"#636efa\",\"#EF553B\",\"#00cc96\",\"#ab63fa\",\"#FFA15A\",\"#19d3f3\",\"#FF6692\",\"#B6E880\",\"#FF97FF\",\"#FECB52\"],\"font\":{\"color\":\"#2a3f5f\"},\"geo\":{\"bgcolor\":\"white\",\"lakecolor\":\"white\",\"landcolor\":\"#E5ECF6\",\"showlakes\":true,\"showland\":true,\"subunitcolor\":\"white\"},\"hoverlabel\":{\"align\":\"left\"},\"hovermode\":\"closest\",\"mapbox\":{\"style\":\"light\"},\"paper_bgcolor\":\"white\",\"plot_bgcolor\":\"#E5ECF6\",\"polar\":{\"angularaxis\":{\"gridcolor\":\"white\",\"linecolor\":\"white\",\"ticks\":\"\"},\"bgcolor\":\"#E5ECF6\",\"radialaxis\":{\"gridcolor\":\"white\",\"linecolor\":\"white\",\"ticks\":\"\"}},\"scene\":{\"xaxis\":{\"backgroundcolor\":\"#E5ECF6\",\"gridcolor\":\"white\",\"gridwidth\":2,\"linecolor\":\"white\",\"showbackground\":true,\"ticks\":\"\",\"zerolinecolor\":\"white\"},\"yaxis\":{\"backgroundcolor\":\"#E5ECF6\",\"gridcolor\":\"white\",\"gridwidth\":2,\"linecolor\":\"white\",\"showbackground\":true,\"ticks\":\"\",\"zerolinecolor\":\"white\"},\"zaxis\":{\"backgroundcolor\":\"#E5ECF6\",\"gridcolor\":\"white\",\"gridwidth\":2,\"linecolor\":\"white\",\"showbackground\":true,\"ticks\":\"\",\"zerolinecolor\":\"white\"}},\"shapedefaults\":{\"line\":{\"color\":\"#2a3f5f\"}},\"ternary\":{\"aaxis\":{\"gridcolor\":\"white\",\"linecolor\":\"white\",\"ticks\":\"\"},\"baxis\":{\"gridcolor\":\"white\",\"linecolor\":\"white\",\"ticks\":\"\"},\"bgcolor\":\"#E5ECF6\",\"caxis\":{\"gridcolor\":\"white\",\"linecolor\":\"white\",\"ticks\":\"\"}},\"title\":{\"x\":0.05},\"xaxis\":{\"automargin\":true,\"gridcolor\":\"white\",\"linecolor\":\"white\",\"ticks\":\"\",\"title\":{\"standoff\":15},\"zerolinecolor\":\"white\",\"zerolinewidth\":2},\"yaxis\":{\"automargin\":true,\"gridcolor\":\"white\",\"linecolor\":\"white\",\"ticks\":\"\",\"title\":{\"standoff\":15},\"zerolinecolor\":\"white\",\"zerolinewidth\":2}}},\"shapes\":[{\"type\":\"line\",\"x0\":168,\"x1\":168,\"xref\":\"x\",\"y0\":0,\"y1\":1,\"yref\":\"y domain\"}],\"xaxis\":{\"title\":{\"text\":\"Time Samples\"}},\"yaxis\":{\"title\":{\"text\":\"Normalized Stock Opening Price\"}}},                        {\"responsive\": true}                    ).then(function(){\n",
              "                            \n",
              "var gd = document.getElementById('00d37a3e-07ba-4151-b528-3161c1e338f1');\n",
              "var x = new MutationObserver(function (mutations, observer) {{\n",
              "        var display = window.getComputedStyle(gd).display;\n",
              "        if (!display || display === 'none') {{\n",
              "            console.log([gd, 'removed!']);\n",
              "            Plotly.purge(gd);\n",
              "            observer.disconnect();\n",
              "        }}\n",
              "}});\n",
              "\n",
              "// Listen for the removal of the full notebook cells\n",
              "var notebookContainer = gd.closest('#notebook-container');\n",
              "if (notebookContainer) {{\n",
              "    x.observe(notebookContainer, {childList: true});\n",
              "}}\n",
              "\n",
              "// Listen for the clearing of the current output cell\n",
              "var outputEl = gd.closest('.output');\n",
              "if (outputEl) {{\n",
              "    x.observe(outputEl, {childList: true});\n",
              "}}\n",
              "\n",
              "                        })                };                            </script>        </div>\n",
              "</body>\n",
              "</html>"
            ]
          },
          "metadata": {}
        },
        {
          "output_type": "display_data",
          "data": {
            "text/html": [
              "<html>\n",
              "<head><meta charset=\"utf-8\" /></head>\n",
              "<body>\n",
              "    <div>            <script src=\"https://cdnjs.cloudflare.com/ajax/libs/mathjax/2.7.5/MathJax.js?config=TeX-AMS-MML_SVG\"></script><script type=\"text/javascript\">if (window.MathJax) {MathJax.Hub.Config({SVG: {font: \"STIX-Web\"}});}</script>                <script type=\"text/javascript\">window.PlotlyConfig = {MathJaxConfig: 'local'};</script>\n",
              "        <script src=\"https://cdn.plot.ly/plotly-2.8.3.min.js\"></script>                <div id=\"9819cf35-bb97-49e3-84a5-8b6a76b78b11\" class=\"plotly-graph-div\" style=\"height:525px; width:100%;\"></div>            <script type=\"text/javascript\">                                    window.PLOTLYENV=window.PLOTLYENV || {};                                    if (document.getElementById(\"9819cf35-bb97-49e3-84a5-8b6a76b78b11\")) {                    Plotly.newPlot(                        \"9819cf35-bb97-49e3-84a5-8b6a76b78b11\",                        [{\"mode\":\"lines\",\"name\":\"Actual\",\"x\":[1.0,2.0,3.0,4.0,5.0,6.0,7.0,8.0,9.0,10.0,11.0,12.0,13.0,14.0,15.0,16.0,17.0,18.0,19.0,20.0,21.0,22.0,23.0,24.0,25.0,26.0,27.0,28.0,29.0,30.0,31.0,32.0,33.0,34.0,35.0,36.0,37.0,38.0,39.0,40.0,41.0,42.0,43.0,44.0,45.0,46.0,47.0,48.0,49.0,50.0,51.0,52.0,53.0,54.0,55.0,56.0,57.0,58.0,59.0,60.0,61.0,62.0,63.0,64.0,65.0,66.0,67.0,68.0,69.0,70.0,71.0,72.0,73.0,74.0,75.0,76.0,77.0,78.0,79.0,80.0,81.0,82.0,83.0,84.0,85.0,86.0,87.0,88.0,89.0,90.0,91.0,92.0,93.0,94.0,95.0,96.0,97.0,98.0,99.0,100.0,101.0,102.0,103.0,104.0,105.0,106.0,107.0,108.0,109.0,110.0,111.0,112.0,113.0,114.0,115.0,116.0,117.0,118.0,119.0,120.0,121.0,122.0,123.0,124.0,125.0,126.0,127.0,128.0,129.0,130.0,131.0,132.0,133.0,134.0,135.0,136.0,137.0,138.0,139.0,140.0,141.0,142.0,143.0,144.0,145.0,146.0,147.0,148.0,149.0,150.0,151.0,152.0,153.0,154.0,155.0,156.0,157.0,158.0,159.0,160.0,161.0,162.0,163.0,164.0,165.0,166.0,167.0,168.0,169.0,170.0,171.0,172.0,173.0,174.0,175.0,176.0,177.0,178.0,179.0,180.0,181.0,182.0,183.0,184.0,185.0,186.0,187.0,188.0,189.0,190.0,191.0,192.0],\"y\":[-1.3260513544082642,-1.336779236793518,-1.3153871297836304,-1.3331961631774902,-1.2890000343322754,-1.278552532196045,-1.3331961631774902,-1.285510778427124,-1.336779236793518,-1.3403693437576294,-1.3278348445892334,-1.3529918193817139,-1.311846375465393,-1.282028317451477,-1.2872545719146729,-1.3153871297836304,-1.3065483570098877,-1.2942465543746948,-1.2924959659576416,-1.3171601295471191,-1.2977527379989624,-1.285510778427124,-1.2890000343322754,-1.282028317451477,-1.2768172025680542,-1.250985860824585,-1.2390570640563965,-1.2221518754959106,-1.2424571514129639,-1.261273980140686,-1.2475695610046387,-1.264716386795044,-1.2104121446609497,-1.208741307258606,-1.2037379741668701,-1.2154340744018555,-1.2020732164382935,-1.2120845317840576,-1.1954299211502075,-1.2255202531814575,-1.2305846214294434,-1.172369360923767,-1.3047858476638794,-1.3260513544082642,-1.3296202421188354,-1.3030250072479248,-1.3047858476638794,-1.2872545719146729,-1.3403693437576294,-1.3529918193817139,-1.49214506149292,-1.4765719175338745,-1.5256927013397217,-1.501947283744812,-1.501947283744812,-1.5477381944656372,-1.5741453170776367,-1.594725489616394,-1.6030240058898926,-1.5864651203155518,-1.5761927366256714,-1.6113609075546265,-1.6239392757415771,-1.6665138006210327,-1.7035118341445923,-1.6991194486618042,-1.675150990486145,-1.5905905961990356,-1.5721001625061035,-1.5376840829849243,-1.5761927366256714,-1.6451005935668945,-1.638725996017456,-1.638725996017456,-1.6030240058898926,-1.594725489616394,-1.6030240058898926,-1.563942790031433,-1.539690375328064,-1.5437097549438477,-1.5197268724441528,-1.5078542232513428,-1.499982476234436,-1.4630550146102905,-1.413720726966858,-1.3803420066833496,-1.4382188320159912,-1.4249861240386963,-1.4477306604385376,-1.4765719175338745,-1.470766544342041,-1.4325356483459473,-1.4420174360275269,-1.3932491540908813,-1.4174680709838867,-1.4268704652786255,-1.4477306604385376,-1.4980199337005615,-1.4823960065841675,-1.4669066667556763,-1.4630550146102905,-1.4669066667556763,-1.4669066667556763,-1.470766544342041,-1.4062495231628418,-1.4765719175338745,-1.4611324071884155,-1.4746346473693848,-1.4515495300292969,-1.5157606601715088,-1.4765719175338745,-1.4862892627716064,-1.4980199337005615,-1.4823960065841675,-1.5137808322906494,-1.49214506149292,-1.511803150177002,-1.511803150177002,-1.5098276138305664,-1.5885266065597534,-1.4688355922698975,-1.3349868059158325,-1.3821802139282227,-1.4099812507629395,-1.4193445444107056,-1.434428095817566,-1.4118499755859375,-1.4401171207427979,-1.464979887008667,-1.45346200466156,-1.4155933856964111,-1.472699522972107,-1.45346200466156,-1.4062495231628418,-1.4043865203857422,-1.4420174360275269,-1.4630550146102905,-1.4823960065841675,-1.4630550146102905,-1.4980199337005615,-1.511803150177002,-1.4843416213989258,-1.45346200466156,-1.4592117071151733,-1.3951005935668945,-1.5078542232513428,-1.5276857614517212,-1.5058830976486206,-1.4823960065841675,-1.4823960065841675,-1.5356799364089966,-1.578242540359497,-1.5926568508148193,-1.582349181175232,-1.609273076057434,-1.5578489303588867,-1.5517756938934326,-1.5517756938934326,-1.5659786462783813,-1.5537978410720825,-1.5517756938934326,-1.5477381944656372,-1.511803150177002,-1.5039141178131104,-1.5296809673309326,-1.5517756938934326,-1.6030240058898926,-1.5376840829849243,-1.5098276138305664,-1.5336780548095703,-1.563942790031433,-1.5356799364089966,-1.5619091987609863,-1.5761927366256714,-1.6239392757415771,-1.6323739290237427,-1.6860061883926392,-1.6881850957870483,-1.6665138006210327,-1.6773167848587036,-1.6794852018356323,-1.7278637886047363,-1.6472305059432983,-1.578242540359497,-1.5721001625061035,-1.5659786462783813,-1.6323739290237427,-1.5598779916763306,-1.472699522972107,-1.4458242654800415,-1.470766544342041,-1.4901909828186035],\"type\":\"scatter\"},{\"mode\":\"lines\",\"name\":\"Predicted\",\"x\":[1.0,2.0,3.0,4.0,5.0,6.0,7.0,8.0,9.0,10.0,11.0,12.0,13.0,14.0,15.0,16.0,17.0,18.0,19.0,20.0,21.0,22.0,23.0,24.0,25.0,26.0,27.0,28.0,29.0,30.0,31.0,32.0,33.0,34.0,35.0,36.0,37.0,38.0,39.0,40.0,41.0,42.0,43.0,44.0,45.0,46.0,47.0,48.0,49.0,50.0,51.0,52.0,53.0,54.0,55.0,56.0,57.0,58.0,59.0,60.0,61.0,62.0,63.0,64.0,65.0,66.0,67.0,68.0,69.0,70.0,71.0,72.0,73.0,74.0,75.0,76.0,77.0,78.0,79.0,80.0,81.0,82.0,83.0,84.0,85.0,86.0,87.0,88.0,89.0,90.0,91.0,92.0,93.0,94.0,95.0,96.0,97.0,98.0,99.0,100.0,101.0,102.0,103.0,104.0,105.0,106.0,107.0,108.0,109.0,110.0,111.0,112.0,113.0,114.0,115.0,116.0,117.0,118.0,119.0,120.0,121.0,122.0,123.0,124.0,125.0,126.0,127.0,128.0,129.0,130.0,131.0,132.0,133.0,134.0,135.0,136.0,137.0,138.0,139.0,140.0,141.0,142.0,143.0,144.0,145.0,146.0,147.0,148.0,149.0,150.0,151.0,152.0,153.0,154.0,155.0,156.0,157.0,158.0,159.0,160.0,161.0,162.0,163.0,164.0,165.0,166.0,167.0,168.0,169.0,170.0,171.0,172.0,173.0,174.0,175.0,176.0,177.0,178.0,179.0,180.0,181.0,182.0,183.0,184.0,185.0,186.0,187.0,188.0,189.0,190.0,191.0,192.0],\"y\":[-0.1699708253145218,-0.15951146185398102,-0.1623566597700119,-0.16843758523464203,-0.16996139287948608,-0.16966259479522705,-0.16891656816005707,-0.16863033175468445,-0.16786180436611176,-0.16767805814743042,-0.1669754981994629,-0.1662077158689499,-0.1662704050540924,-0.16744756698608398,-0.1665428727865219,-0.1666741967201233,-0.16731838881969452,-0.16784882545471191,-0.16817791759967804,-0.16862478852272034,-0.1687319427728653,-0.16868597269058228,-0.16866834461688995,-0.16865438222885132,-0.16890059411525726,-0.16903990507125854,-0.169061079621315,-0.16918134689331055,-0.1692005842924118,-0.16940858960151672,-0.16939496994018555,-0.16945935785770416,-0.1694461852312088,-0.16969658434391022,-0.16935044527053833,-0.1690761148929596,-0.16912366449832916,-0.16912482678890228,-0.16918762028217316,-0.1693107634782791,-0.16935820877552032,-0.16937731206417084,-0.16911177337169647,-0.16952291131019592,-0.1694754809141159,-0.16927412152290344,-0.1690719574689865,-0.16910861432552338,-0.16901160776615143,-0.16934284567832947,-0.16960594058036804,-0.169819638133049,-0.16970856487751007,-0.16974897682666779,-0.16991440951824188,-0.16997121274471283,-0.1699342578649521,-0.1698240041732788,-0.16971051692962646,-0.16954217851161957,-0.16955584287643433,-0.16964775323867798,-0.16984109580516815,-0.1699194610118866,-0.16988885402679443,-0.16989953815937042,-0.1698319911956787,-0.16980896890163422,-0.16976675391197205,-0.16978958249092102,-0.16979286074638367,-0.1698645055294037,-0.16995738446712494,-0.1699581891298294,-0.16995668411254883,-0.16997019946575165,-0.16997089982032776,-0.16992737352848053,-0.16996988654136658,-0.16997113823890686,-0.16996988654136658,-0.16996978223323822,-0.16993162035942078,-0.16992731392383575,-0.16995173692703247,-0.16996966302394867,-0.16996431350708008,-0.16995869576931,-0.1699584573507309,-0.16996149718761444,-0.16997119784355164,-0.16996799409389496,-0.1699601113796234,-0.1699647307395935,-0.16995537281036377,-0.16996844112873077,-0.169966459274292,-0.16994856297969818,-0.169951930642128,-0.16996993124485016,-0.16993075609207153,-0.16994601488113403,-0.16996963322162628,-0.16996999084949493,-0.1699696034193039,-0.1699708253145218,-0.16990989446640015,-0.16986902058124542,-0.16978232562541962,-0.1698402315378189,-0.16960151493549347,-0.1697864681482315,-0.16982218623161316,-0.16981327533721924,-0.16968782246112823,-0.16972531378269196,-0.1697024405002594,-0.16976141929626465,-0.1695833057165146,-0.16971196234226227,-0.16946180164813995,-0.1698475480079651,-0.16997064650058746,-0.16990818083286285,-0.16970837116241455,-0.16963796317577362,-0.16959281265735626,-0.1698238104581833,-0.16983787715435028,-0.16980287432670593,-0.16988404095172882,-0.16988733410835266,-0.16982696950435638,-0.16990093886852264,-0.1698836386203766,-0.16981305181980133,-0.1696377992630005,-0.16943562030792236,-0.16938135027885437,-0.1694963276386261,-0.16945438086986542,-0.16961555182933807,-0.16980242729187012,-0.16985833644866943,-0.16982698440551758,-0.16989842057228088,-0.1695507913827896,-0.169411301612854,-0.16954275965690613,-0.16951490938663483,-0.16952326893806458,-0.16917741298675537,-0.16910652816295624,-0.1689816415309906,-0.16906192898750305,-0.1690690815448761,-0.16927039623260498,-0.1692684292793274,-0.1693160980939865,-0.16944493353366852,-0.16947098076343536,-0.16944295167922974,-0.16994374990463257,-0.1698286235332489,-0.16985473036766052,-0.1698809415102005,-0.16980788111686707,-0.1699037253856659,0.024147212505340576,-0.12135322391986847,-0.0619538389146328,0.42461124062538147,0.478520005941391,0.721975564956665,0.7897067070007324,0.013020502403378487,0.06490885466337204,-0.06544671952724457,0.4308663010597229,0.2899414896965027,0.44941261410713196,0.148457869887352,0.6407744288444519,0.5662443041801453,0.6296699047088623,0.5760990977287292,0.4813595116138458,-0.0769018828868866,0.5654683709144592,0.8823553323745728,0.9316408634185791,0.7482381463050842],\"type\":\"scatter\"},{\"line\":{\"width\":0},\"marker\":{\"color\":\"#444\"},\"mode\":\"lines\",\"name\":\"Upper Bound\",\"showlegend\":false,\"x\":[1.0,2.0,3.0,4.0,5.0,6.0,7.0,8.0,9.0,10.0,11.0,12.0,13.0,14.0,15.0,16.0,17.0,18.0,19.0,20.0,21.0,22.0,23.0,24.0,25.0,26.0,27.0,28.0,29.0,30.0,31.0,32.0,33.0,34.0,35.0,36.0,37.0,38.0,39.0,40.0,41.0,42.0,43.0,44.0,45.0,46.0,47.0,48.0,49.0,50.0,51.0,52.0,53.0,54.0,55.0,56.0,57.0,58.0,59.0,60.0,61.0,62.0,63.0,64.0,65.0,66.0,67.0,68.0,69.0,70.0,71.0,72.0,73.0,74.0,75.0,76.0,77.0,78.0,79.0,80.0,81.0,82.0,83.0,84.0,85.0,86.0,87.0,88.0,89.0,90.0,91.0,92.0,93.0,94.0,95.0,96.0,97.0,98.0,99.0,100.0,101.0,102.0,103.0,104.0,105.0,106.0,107.0,108.0,109.0,110.0,111.0,112.0,113.0,114.0,115.0,116.0,117.0,118.0,119.0,120.0,121.0,122.0,123.0,124.0,125.0,126.0,127.0,128.0,129.0,130.0,131.0,132.0,133.0,134.0,135.0,136.0,137.0,138.0,139.0,140.0,141.0,142.0,143.0,144.0,145.0,146.0,147.0,148.0,149.0,150.0,151.0,152.0,153.0,154.0,155.0,156.0,157.0,158.0,159.0,160.0,161.0,162.0,163.0,164.0,165.0,166.0,167.0,168.0,169.0,170.0,171.0,172.0,173.0,174.0,175.0,176.0,177.0,178.0,179.0,180.0,181.0,182.0,183.0,184.0,185.0,186.0,187.0,188.0,189.0,190.0,191.0,192.0],\"y\":[0.7466434836387634,1.1861374378204346,1.2665412425994873,1.1734236478805542,1.0765001773834229,1.0014256238937378,0.9709008932113647,0.9793516397476196,0.9686838388442993,0.9778521656990051,0.9849283695220947,0.9783527255058289,0.9621443748474121,0.9788316488265991,0.9330822229385376,0.917855441570282,0.8801026940345764,0.875647783279419,0.8549780249595642,0.8396693468093872,0.8278937339782715,0.8264141082763672,0.8170735239982605,0.8009822964668274,0.808783769607544,0.786791980266571,0.7799984216690063,0.7634773254394531,0.738979697227478,0.7326680421829224,0.7410460710525513,0.7373177409172058,0.7345443367958069,0.736667811870575,0.7192041873931885,0.7193310260772705,0.7341747283935547,0.7405664920806885,0.7467358112335205,0.7596675753593445,0.7625522017478943,0.7595133781433105,0.7447862029075623,0.784932017326355,0.7968667149543762,0.805505633354187,0.7867406010627747,0.7824557423591614,0.7646990418434143,0.7750334739685059,0.7648447751998901,0.7867883443832397,0.7808731198310852,0.7540088891983032,0.7659151554107666,0.7976111173629761,0.8128136396408081,0.8747154474258423,0.9273608922958374,0.9234563112258911,0.9413036704063416,0.9228540062904358,0.925191342830658,0.9603339433670044,0.9921023845672607,1.0052553415298462,1.0341697931289673,1.0214089155197144,0.9661535024642944,0.9468872547149658,0.907822847366333,0.9049162864685059,0.9001867771148682,0.9092634320259094,0.8805842399597168,0.8945490717887878,0.8800662755966187,0.8928380012512207,0.8781923055648804,0.8823587894439697,0.8810844421386719,0.8969647884368896,0.9079563617706299,0.9007733464241028,0.8857547640800476,0.8905903100967407,0.8726030588150024,0.8575993776321411,0.8502625226974487,0.8626739382743835,0.851413369178772,0.8454228639602661,0.8348439931869507,0.8122072219848633,0.7942519187927246,0.7805660367012024,0.7873123288154602,0.7757697105407715,0.7612273693084717,0.8051739931106567,0.8232216238975525,0.8233068585395813,0.8343991637229919,0.853401243686676,0.8629019856452942,0.8429946303367615,0.8571901917457581,0.8532022833824158,0.8688868880271912,0.8598246574401855,0.8841578364372253,0.8637261390686035,0.8664743900299072,0.8378151655197144,0.8395143151283264,0.8188461065292358,0.8324027061462402,0.8180602788925171,0.8393361568450928,0.8228414058685303,0.8386097550392151,0.7994958162307739,0.7726917266845703,0.7567307353019714,0.7819534540176392,0.8084725737571716,0.8316077589988708,0.8518922924995422,0.8460749983787537,0.8873854875564575,0.8748777508735657,0.8471477031707764,0.8619855642318726,0.8403107523918152,0.8296886682510376,0.8144164681434631,0.8034676313400269,0.8154613971710205,0.8141623735427856,0.8139083385467529,0.8081238865852356,0.7831354737281799,0.8051027655601501,0.7953473925590515,0.8101085424423218,0.8123217821121216,0.8517630100250244,0.8781039714813232,0.8789020776748657,0.8821637630462646,0.8586070537567139,0.8964928388595581,0.9044840931892395,0.9241493940353394,0.921210765838623,0.9154222011566162,0.911605715751648,0.8823087811470032,0.8833397030830383,0.8700984716415405,0.8538069128990173,0.8804264664649963,0.8444982171058655,0.8270814418792725,0.8471105098724365,0.8628361821174622,0.8718205690383911,0.9031987190246582,0.6230086088180542,0.3750743865966797,0.26514962315559387,0.7956057786941528,0.8821552991867065,1.1188621520996094,1.1993389129638672,0.5539791584014893,0.5128898620605469,0.38668346405029297,0.7852823734283447,0.6458485126495361,0.7837011814117432,0.5296372771263123,0.9443303346633911,0.8796712756156921,0.9248971939086914,0.8553234338760376,0.7755163908004761,0.4745473563671112,0.8709620237350464,1.1571836471557617,1.1895475387573242,0.9835630059242249],\"type\":\"scatter\"},{\"fill\":\"tonexty\",\"fillcolor\":\"rgba(68, 68, 68, 0.3)\",\"line\":{\"width\":0},\"marker\":{\"color\":\"#444\"},\"mode\":\"lines\",\"name\":\"Lower Bound\",\"showlegend\":false,\"x\":[1.0,2.0,3.0,4.0,5.0,6.0,7.0,8.0,9.0,10.0,11.0,12.0,13.0,14.0,15.0,16.0,17.0,18.0,19.0,20.0,21.0,22.0,23.0,24.0,25.0,26.0,27.0,28.0,29.0,30.0,31.0,32.0,33.0,34.0,35.0,36.0,37.0,38.0,39.0,40.0,41.0,42.0,43.0,44.0,45.0,46.0,47.0,48.0,49.0,50.0,51.0,52.0,53.0,54.0,55.0,56.0,57.0,58.0,59.0,60.0,61.0,62.0,63.0,64.0,65.0,66.0,67.0,68.0,69.0,70.0,71.0,72.0,73.0,74.0,75.0,76.0,77.0,78.0,79.0,80.0,81.0,82.0,83.0,84.0,85.0,86.0,87.0,88.0,89.0,90.0,91.0,92.0,93.0,94.0,95.0,96.0,97.0,98.0,99.0,100.0,101.0,102.0,103.0,104.0,105.0,106.0,107.0,108.0,109.0,110.0,111.0,112.0,113.0,114.0,115.0,116.0,117.0,118.0,119.0,120.0,121.0,122.0,123.0,124.0,125.0,126.0,127.0,128.0,129.0,130.0,131.0,132.0,133.0,134.0,135.0,136.0,137.0,138.0,139.0,140.0,141.0,142.0,143.0,144.0,145.0,146.0,147.0,148.0,149.0,150.0,151.0,152.0,153.0,154.0,155.0,156.0,157.0,158.0,159.0,160.0,161.0,162.0,163.0,164.0,165.0,166.0,167.0,168.0,169.0,170.0,171.0,172.0,173.0,174.0,175.0,176.0,177.0,178.0,179.0,180.0,181.0,182.0,183.0,184.0,185.0,186.0,187.0,188.0,189.0,190.0,191.0,192.0],\"y\":[-1.0865851640701294,-1.5051603317260742,-1.591254472732544,-1.5102988481521606,-1.4164230823516846,-1.340750813484192,-1.3087340593338013,-1.3166123628616333,-1.3044074773788452,-1.3132083415985107,-1.3188793659210205,-1.3107681274414062,-1.2946851253509521,-1.313726782798767,-1.2661679983139038,-1.2512037754058838,-1.214739441871643,-1.2113454341888428,-1.1913338899612427,-1.176918864250183,-1.1653575897216797,-1.1637860536575317,-1.1544102430343628,-1.1382911205291748,-1.1465849876403809,-1.1248717308044434,-1.118120551109314,-1.1018400192260742,-1.077380895614624,-1.071485161781311,-1.0798360109329224,-1.0762364864349365,-1.0734367370605469,-1.0760610103607178,-1.0579050779342651,-1.0574833154678345,-1.0724220275878906,-1.0788161754608154,-1.0851110219955444,-1.098289132118225,-1.1012686491012573,-1.0982680320739746,-1.0830097198486328,-1.123977780342102,-1.1358176469802856,-1.1440538167953491,-1.1248844861984253,-1.1206729412078857,-1.1027222871780396,-1.1137192249298096,-1.104056715965271,-1.1264276504516602,-1.1202902793884277,-1.0935068130493164,-1.1057440042495728,-1.1375535726547241,-1.1526821851730347,-1.2143634557724,-1.2667819261550903,-1.2625406980514526,-1.2804152965545654,-1.2621495723724365,-1.2648735046386719,-1.3001729249954224,-1.3318800926208496,-1.3450545072555542,-1.3738337755203247,-1.3610268831253052,-1.3056870698928833,-1.286466360092163,-1.2474086284637451,-1.244645357131958,-1.2401015758514404,-1.2491798400878906,-1.2204976081848145,-1.2344894409179688,-1.2200080156326294,-1.2326927185058594,-1.2181321382522583,-1.2223010063171387,-1.2210242748260498,-1.2369043827056885,-1.2478196620941162,-1.2406280040740967,-1.2256581783294678,-1.2305296659469604,-1.2125316858291626,-1.1975167989730835,-1.190179467201233,-1.20259690284729,-1.19135582447052,-1.1853588819503784,-1.1747642755508423,-1.1521366834640503,-1.1341626644134521,-1.1205029487609863,-1.1272451877593994,-1.1156668663024902,-1.1011312007904053,-1.1451138257980347,-1.1630830764770508,-1.1631989479064941,-1.174338459968567,-1.1933412551879883,-1.2028411626815796,-1.1829363107681274,-1.1970100402832031,-1.192940354347229,-1.208451509475708,-1.199505090713501,-1.2233608961105347,-1.2032990455627441,-1.2061188220977783,-1.1774417161941528,-1.1788899898529053,-1.1582967042922974,-1.1718075275421143,-1.1575831174850464,-1.1785027980804443,-1.1622653007507324,-1.1775333881378174,-1.139190912246704,-1.1126329898834229,-1.0965471267700195,-1.1213701963424683,-1.1477484703063965,-1.1707934141159058,-1.1915398836135864,-1.1857507228851318,-1.2269912958145142,-1.2146458625793457,-1.186922311782837,-1.2016395330429077,-1.180112600326538,-1.169455885887146,-1.1540426015853882,-1.1427432298660278,-1.1543326377868652,-1.1529251337051392,-1.1529009342193604,-1.147032618522644,-1.1223665475845337,-1.1447076797485352,-1.1350641250610352,-1.149762511253357,-1.1521185636520386,-1.1908645629882812,-1.2169265747070312,-1.2179876565933228,-1.221193552017212,-1.1976535320281982,-1.2348476648330688,-1.2426971197128296,-1.2621127367019653,-1.2593345642089844,-1.2535603046417236,-1.250146508216858,-1.2208456993103027,-1.221971869468689,-1.2089883089065552,-1.1927489042282104,-1.2193124294281006,-1.1843857765197754,-1.166738748550415,-1.1868200302124023,-1.2025980949401855,-1.21143639087677,-1.2430062294006348,-0.574714183807373,-0.617780864238739,-0.38905730843544006,0.05361667275428772,0.07488474249839783,0.3250889480113983,0.38007447123527527,-0.5279381275177002,-0.3830721378326416,-0.5175769329071045,0.07645022869110107,-0.06596553325653076,0.11512407660484314,-0.23272152245044708,0.3372185230255127,0.2528173327445984,0.3344426155090332,0.2968747615814209,0.18720266222953796,-0.628351092338562,0.25997474789619446,0.6075270771980286,0.673734188079834,0.5129132866859436],\"type\":\"scatter\"}],                        {\"template\":{\"data\":{\"bar\":[{\"error_x\":{\"color\":\"#2a3f5f\"},\"error_y\":{\"color\":\"#2a3f5f\"},\"marker\":{\"line\":{\"color\":\"#E5ECF6\",\"width\":0.5},\"pattern\":{\"fillmode\":\"overlay\",\"size\":10,\"solidity\":0.2}},\"type\":\"bar\"}],\"barpolar\":[{\"marker\":{\"line\":{\"color\":\"#E5ECF6\",\"width\":0.5},\"pattern\":{\"fillmode\":\"overlay\",\"size\":10,\"solidity\":0.2}},\"type\":\"barpolar\"}],\"carpet\":[{\"aaxis\":{\"endlinecolor\":\"#2a3f5f\",\"gridcolor\":\"white\",\"linecolor\":\"white\",\"minorgridcolor\":\"white\",\"startlinecolor\":\"#2a3f5f\"},\"baxis\":{\"endlinecolor\":\"#2a3f5f\",\"gridcolor\":\"white\",\"linecolor\":\"white\",\"minorgridcolor\":\"white\",\"startlinecolor\":\"#2a3f5f\"},\"type\":\"carpet\"}],\"choropleth\":[{\"colorbar\":{\"outlinewidth\":0,\"ticks\":\"\"},\"type\":\"choropleth\"}],\"contour\":[{\"colorbar\":{\"outlinewidth\":0,\"ticks\":\"\"},\"colorscale\":[[0.0,\"#0d0887\"],[0.1111111111111111,\"#46039f\"],[0.2222222222222222,\"#7201a8\"],[0.3333333333333333,\"#9c179e\"],[0.4444444444444444,\"#bd3786\"],[0.5555555555555556,\"#d8576b\"],[0.6666666666666666,\"#ed7953\"],[0.7777777777777778,\"#fb9f3a\"],[0.8888888888888888,\"#fdca26\"],[1.0,\"#f0f921\"]],\"type\":\"contour\"}],\"contourcarpet\":[{\"colorbar\":{\"outlinewidth\":0,\"ticks\":\"\"},\"type\":\"contourcarpet\"}],\"heatmap\":[{\"colorbar\":{\"outlinewidth\":0,\"ticks\":\"\"},\"colorscale\":[[0.0,\"#0d0887\"],[0.1111111111111111,\"#46039f\"],[0.2222222222222222,\"#7201a8\"],[0.3333333333333333,\"#9c179e\"],[0.4444444444444444,\"#bd3786\"],[0.5555555555555556,\"#d8576b\"],[0.6666666666666666,\"#ed7953\"],[0.7777777777777778,\"#fb9f3a\"],[0.8888888888888888,\"#fdca26\"],[1.0,\"#f0f921\"]],\"type\":\"heatmap\"}],\"heatmapgl\":[{\"colorbar\":{\"outlinewidth\":0,\"ticks\":\"\"},\"colorscale\":[[0.0,\"#0d0887\"],[0.1111111111111111,\"#46039f\"],[0.2222222222222222,\"#7201a8\"],[0.3333333333333333,\"#9c179e\"],[0.4444444444444444,\"#bd3786\"],[0.5555555555555556,\"#d8576b\"],[0.6666666666666666,\"#ed7953\"],[0.7777777777777778,\"#fb9f3a\"],[0.8888888888888888,\"#fdca26\"],[1.0,\"#f0f921\"]],\"type\":\"heatmapgl\"}],\"histogram\":[{\"marker\":{\"pattern\":{\"fillmode\":\"overlay\",\"size\":10,\"solidity\":0.2}},\"type\":\"histogram\"}],\"histogram2d\":[{\"colorbar\":{\"outlinewidth\":0,\"ticks\":\"\"},\"colorscale\":[[0.0,\"#0d0887\"],[0.1111111111111111,\"#46039f\"],[0.2222222222222222,\"#7201a8\"],[0.3333333333333333,\"#9c179e\"],[0.4444444444444444,\"#bd3786\"],[0.5555555555555556,\"#d8576b\"],[0.6666666666666666,\"#ed7953\"],[0.7777777777777778,\"#fb9f3a\"],[0.8888888888888888,\"#fdca26\"],[1.0,\"#f0f921\"]],\"type\":\"histogram2d\"}],\"histogram2dcontour\":[{\"colorbar\":{\"outlinewidth\":0,\"ticks\":\"\"},\"colorscale\":[[0.0,\"#0d0887\"],[0.1111111111111111,\"#46039f\"],[0.2222222222222222,\"#7201a8\"],[0.3333333333333333,\"#9c179e\"],[0.4444444444444444,\"#bd3786\"],[0.5555555555555556,\"#d8576b\"],[0.6666666666666666,\"#ed7953\"],[0.7777777777777778,\"#fb9f3a\"],[0.8888888888888888,\"#fdca26\"],[1.0,\"#f0f921\"]],\"type\":\"histogram2dcontour\"}],\"mesh3d\":[{\"colorbar\":{\"outlinewidth\":0,\"ticks\":\"\"},\"type\":\"mesh3d\"}],\"parcoords\":[{\"line\":{\"colorbar\":{\"outlinewidth\":0,\"ticks\":\"\"}},\"type\":\"parcoords\"}],\"pie\":[{\"automargin\":true,\"type\":\"pie\"}],\"scatter\":[{\"marker\":{\"colorbar\":{\"outlinewidth\":0,\"ticks\":\"\"}},\"type\":\"scatter\"}],\"scatter3d\":[{\"line\":{\"colorbar\":{\"outlinewidth\":0,\"ticks\":\"\"}},\"marker\":{\"colorbar\":{\"outlinewidth\":0,\"ticks\":\"\"}},\"type\":\"scatter3d\"}],\"scattercarpet\":[{\"marker\":{\"colorbar\":{\"outlinewidth\":0,\"ticks\":\"\"}},\"type\":\"scattercarpet\"}],\"scattergeo\":[{\"marker\":{\"colorbar\":{\"outlinewidth\":0,\"ticks\":\"\"}},\"type\":\"scattergeo\"}],\"scattergl\":[{\"marker\":{\"colorbar\":{\"outlinewidth\":0,\"ticks\":\"\"}},\"type\":\"scattergl\"}],\"scattermapbox\":[{\"marker\":{\"colorbar\":{\"outlinewidth\":0,\"ticks\":\"\"}},\"type\":\"scattermapbox\"}],\"scatterpolar\":[{\"marker\":{\"colorbar\":{\"outlinewidth\":0,\"ticks\":\"\"}},\"type\":\"scatterpolar\"}],\"scatterpolargl\":[{\"marker\":{\"colorbar\":{\"outlinewidth\":0,\"ticks\":\"\"}},\"type\":\"scatterpolargl\"}],\"scatterternary\":[{\"marker\":{\"colorbar\":{\"outlinewidth\":0,\"ticks\":\"\"}},\"type\":\"scatterternary\"}],\"surface\":[{\"colorbar\":{\"outlinewidth\":0,\"ticks\":\"\"},\"colorscale\":[[0.0,\"#0d0887\"],[0.1111111111111111,\"#46039f\"],[0.2222222222222222,\"#7201a8\"],[0.3333333333333333,\"#9c179e\"],[0.4444444444444444,\"#bd3786\"],[0.5555555555555556,\"#d8576b\"],[0.6666666666666666,\"#ed7953\"],[0.7777777777777778,\"#fb9f3a\"],[0.8888888888888888,\"#fdca26\"],[1.0,\"#f0f921\"]],\"type\":\"surface\"}],\"table\":[{\"cells\":{\"fill\":{\"color\":\"#EBF0F8\"},\"line\":{\"color\":\"white\"}},\"header\":{\"fill\":{\"color\":\"#C8D4E3\"},\"line\":{\"color\":\"white\"}},\"type\":\"table\"}]},\"layout\":{\"annotationdefaults\":{\"arrowcolor\":\"#2a3f5f\",\"arrowhead\":0,\"arrowwidth\":1},\"autotypenumbers\":\"strict\",\"coloraxis\":{\"colorbar\":{\"outlinewidth\":0,\"ticks\":\"\"}},\"colorscale\":{\"diverging\":[[0,\"#8e0152\"],[0.1,\"#c51b7d\"],[0.2,\"#de77ae\"],[0.3,\"#f1b6da\"],[0.4,\"#fde0ef\"],[0.5,\"#f7f7f7\"],[0.6,\"#e6f5d0\"],[0.7,\"#b8e186\"],[0.8,\"#7fbc41\"],[0.9,\"#4d9221\"],[1,\"#276419\"]],\"sequential\":[[0.0,\"#0d0887\"],[0.1111111111111111,\"#46039f\"],[0.2222222222222222,\"#7201a8\"],[0.3333333333333333,\"#9c179e\"],[0.4444444444444444,\"#bd3786\"],[0.5555555555555556,\"#d8576b\"],[0.6666666666666666,\"#ed7953\"],[0.7777777777777778,\"#fb9f3a\"],[0.8888888888888888,\"#fdca26\"],[1.0,\"#f0f921\"]],\"sequentialminus\":[[0.0,\"#0d0887\"],[0.1111111111111111,\"#46039f\"],[0.2222222222222222,\"#7201a8\"],[0.3333333333333333,\"#9c179e\"],[0.4444444444444444,\"#bd3786\"],[0.5555555555555556,\"#d8576b\"],[0.6666666666666666,\"#ed7953\"],[0.7777777777777778,\"#fb9f3a\"],[0.8888888888888888,\"#fdca26\"],[1.0,\"#f0f921\"]]},\"colorway\":[\"#636efa\",\"#EF553B\",\"#00cc96\",\"#ab63fa\",\"#FFA15A\",\"#19d3f3\",\"#FF6692\",\"#B6E880\",\"#FF97FF\",\"#FECB52\"],\"font\":{\"color\":\"#2a3f5f\"},\"geo\":{\"bgcolor\":\"white\",\"lakecolor\":\"white\",\"landcolor\":\"#E5ECF6\",\"showlakes\":true,\"showland\":true,\"subunitcolor\":\"white\"},\"hoverlabel\":{\"align\":\"left\"},\"hovermode\":\"closest\",\"mapbox\":{\"style\":\"light\"},\"paper_bgcolor\":\"white\",\"plot_bgcolor\":\"#E5ECF6\",\"polar\":{\"angularaxis\":{\"gridcolor\":\"white\",\"linecolor\":\"white\",\"ticks\":\"\"},\"bgcolor\":\"#E5ECF6\",\"radialaxis\":{\"gridcolor\":\"white\",\"linecolor\":\"white\",\"ticks\":\"\"}},\"scene\":{\"xaxis\":{\"backgroundcolor\":\"#E5ECF6\",\"gridcolor\":\"white\",\"gridwidth\":2,\"linecolor\":\"white\",\"showbackground\":true,\"ticks\":\"\",\"zerolinecolor\":\"white\"},\"yaxis\":{\"backgroundcolor\":\"#E5ECF6\",\"gridcolor\":\"white\",\"gridwidth\":2,\"linecolor\":\"white\",\"showbackground\":true,\"ticks\":\"\",\"zerolinecolor\":\"white\"},\"zaxis\":{\"backgroundcolor\":\"#E5ECF6\",\"gridcolor\":\"white\",\"gridwidth\":2,\"linecolor\":\"white\",\"showbackground\":true,\"ticks\":\"\",\"zerolinecolor\":\"white\"}},\"shapedefaults\":{\"line\":{\"color\":\"#2a3f5f\"}},\"ternary\":{\"aaxis\":{\"gridcolor\":\"white\",\"linecolor\":\"white\",\"ticks\":\"\"},\"baxis\":{\"gridcolor\":\"white\",\"linecolor\":\"white\",\"ticks\":\"\"},\"bgcolor\":\"#E5ECF6\",\"caxis\":{\"gridcolor\":\"white\",\"linecolor\":\"white\",\"ticks\":\"\"}},\"title\":{\"x\":0.05},\"xaxis\":{\"automargin\":true,\"gridcolor\":\"white\",\"linecolor\":\"white\",\"ticks\":\"\",\"title\":{\"standoff\":15},\"zerolinecolor\":\"white\",\"zerolinewidth\":2},\"yaxis\":{\"automargin\":true,\"gridcolor\":\"white\",\"linecolor\":\"white\",\"ticks\":\"\",\"title\":{\"standoff\":15},\"zerolinecolor\":\"white\",\"zerolinewidth\":2}}},\"shapes\":[{\"type\":\"line\",\"x0\":168,\"x1\":168,\"xref\":\"x\",\"y0\":0,\"y1\":1,\"yref\":\"y domain\"}],\"xaxis\":{\"title\":{\"text\":\"Time Samples\"}},\"yaxis\":{\"title\":{\"text\":\"Normalized Stock Opening Price\"}}},                        {\"responsive\": true}                    ).then(function(){\n",
              "                            \n",
              "var gd = document.getElementById('9819cf35-bb97-49e3-84a5-8b6a76b78b11');\n",
              "var x = new MutationObserver(function (mutations, observer) {{\n",
              "        var display = window.getComputedStyle(gd).display;\n",
              "        if (!display || display === 'none') {{\n",
              "            console.log([gd, 'removed!']);\n",
              "            Plotly.purge(gd);\n",
              "            observer.disconnect();\n",
              "        }}\n",
              "}});\n",
              "\n",
              "// Listen for the removal of the full notebook cells\n",
              "var notebookContainer = gd.closest('#notebook-container');\n",
              "if (notebookContainer) {{\n",
              "    x.observe(notebookContainer, {childList: true});\n",
              "}}\n",
              "\n",
              "// Listen for the clearing of the current output cell\n",
              "var outputEl = gd.closest('.output');\n",
              "if (outputEl) {{\n",
              "    x.observe(outputEl, {childList: true});\n",
              "}}\n",
              "\n",
              "                        })                };                            </script>        </div>\n",
              "</body>\n",
              "</html>"
            ]
          },
          "metadata": {}
        },
        {
          "output_type": "display_data",
          "data": {
            "text/html": [
              "<html>\n",
              "<head><meta charset=\"utf-8\" /></head>\n",
              "<body>\n",
              "    <div>            <script src=\"https://cdnjs.cloudflare.com/ajax/libs/mathjax/2.7.5/MathJax.js?config=TeX-AMS-MML_SVG\"></script><script type=\"text/javascript\">if (window.MathJax) {MathJax.Hub.Config({SVG: {font: \"STIX-Web\"}});}</script>                <script type=\"text/javascript\">window.PlotlyConfig = {MathJaxConfig: 'local'};</script>\n",
              "        <script src=\"https://cdn.plot.ly/plotly-2.8.3.min.js\"></script>                <div id=\"0ba5dad4-5435-41f5-808d-9b3b87fb20de\" class=\"plotly-graph-div\" style=\"height:525px; width:100%;\"></div>            <script type=\"text/javascript\">                                    window.PLOTLYENV=window.PLOTLYENV || {};                                    if (document.getElementById(\"0ba5dad4-5435-41f5-808d-9b3b87fb20de\")) {                    Plotly.newPlot(                        \"0ba5dad4-5435-41f5-808d-9b3b87fb20de\",                        [{\"mode\":\"lines\",\"name\":\"Actual\",\"x\":[1.0,2.0,3.0,4.0,5.0,6.0,7.0,8.0,9.0,10.0,11.0,12.0,13.0,14.0,15.0,16.0,17.0,18.0,19.0,20.0,21.0,22.0,23.0,24.0,25.0,26.0,27.0,28.0,29.0,30.0,31.0,32.0,33.0,34.0,35.0,36.0,37.0,38.0,39.0,40.0,41.0,42.0,43.0,44.0,45.0,46.0,47.0,48.0,49.0,50.0,51.0,52.0,53.0,54.0,55.0,56.0,57.0,58.0,59.0,60.0,61.0,62.0,63.0,64.0,65.0,66.0,67.0,68.0,69.0,70.0,71.0,72.0,73.0,74.0,75.0,76.0,77.0,78.0,79.0,80.0,81.0,82.0,83.0,84.0,85.0,86.0,87.0,88.0,89.0,90.0,91.0,92.0,93.0,94.0,95.0,96.0,97.0,98.0,99.0,100.0,101.0,102.0,103.0,104.0,105.0,106.0,107.0,108.0,109.0,110.0,111.0,112.0,113.0,114.0,115.0,116.0,117.0,118.0,119.0,120.0,121.0,122.0,123.0,124.0,125.0,126.0,127.0,128.0,129.0,130.0,131.0,132.0,133.0,134.0,135.0,136.0,137.0,138.0,139.0,140.0,141.0,142.0,143.0,144.0,145.0,146.0,147.0,148.0,149.0,150.0,151.0,152.0,153.0,154.0,155.0,156.0,157.0,158.0,159.0,160.0,161.0,162.0,163.0,164.0,165.0,166.0,167.0,168.0,169.0,170.0,171.0,172.0,173.0,174.0,175.0,176.0,177.0,178.0,179.0,180.0,181.0,182.0,183.0,184.0,185.0,186.0,187.0,188.0,189.0,190.0,191.0,192.0],\"y\":[-0.23502223193645477,-0.21443107724189758,-0.22197820246219635,-0.24049733579158783,-0.23940040171146393,-0.24379384517669678,-0.30523234605789185,-0.3121829330921173,-0.28574469685554504,-0.3075449764728546,-0.30523234605789185,-0.3601294159889221,-0.33800143003463745,-0.3320869505405426,-0.32620012760162354,-0.3583207130432129,-0.3332676291465759,-0.32620012760162354,-0.3356322944164276,-0.38757622241973877,-0.38511213660240173,-0.3900451064109802,-0.4257625937461853,-0.37897297739982605,-0.37042808532714844,-0.3285515606403351,-0.3180044889450073,-0.322681188583374,-0.32326701283454895,-0.29831990599632263,-0.28631359338760376,-0.31975623965263367,-0.2880218029022217,-0.30638813972473145,-0.3547110855579376,-0.33090740442276,-0.3139265775680542,-0.31975623965263367,-0.2965976893901825,-0.2948778569698334,-0.30870285630226135,-0.29430508613586426,-0.2954508662223816,-0.31975623965263367,-0.3517109155654907,-0.408717542886734,-0.4150036871433258,-0.4150036871433258,-0.41626468300819397,-0.4321345388889313,-0.4703992009162903,-0.5125827789306641,-0.6183553338050842,-0.5840227007865906,-0.5711178183555603,-0.5775537490844727,-0.6445437669754028,-0.6513668298721313,-0.7354486584663391,-0.7233179807662964,-0.6986119151115417,-0.7378888726234436,-0.7834842205047607,-0.7750705480575562,-0.8073458671569824,-0.8021944761276245,-0.7575824856758118,-0.7617243528366089,-0.7600659728050232,-0.7667126059532166,-0.8073458671569824,-0.8387042284011841,-0.8475551605224609,-0.8591550588607788,-0.7987719178199768,-0.811654806137085,-0.856468677520752,-0.8194482326507568,-0.7936553955078125,-0.7733945250511169,-0.7362615466117859,-0.7160952091217041,-0.6883937120437622,-0.7160952091217041,-0.6774814128875732,-0.549197793006897,-0.5276525616645813,-0.6072961688041687,-0.5941519737243652,-0.5999768972396851,-0.5869084596633911,-0.5876309871673584,-0.6272730231285095,-0.6168751120567322,-0.6347529888153076,-0.6287654638290405,-0.637757420539856,-0.7225133776664734,-0.7733945250511169,-0.7281562685966492,-0.7452379465103149,-0.7919544577598572,-0.7996266484260559,-0.8203171491622925,-0.7784292697906494,-0.7775887250900269,-0.779270350933075,-0.7658798694610596,-0.7534542083740234,-0.7575824856758118,-0.7979177236557007,-0.7650476694107056,-0.7468769550323486,-0.7249286770820618,-0.7567557692527771,-0.7201027274131775,-0.7460571527481079,-0.7592375874519348,-0.8237988352775574,-0.9216350317001343,-0.8582589626312256,-0.7567557692527771,-0.7501612901687622,-0.7667126059532166,-0.7911049127578735,-0.7817969918251038,-0.7733945250511169,-0.8013379573822021,-0.8082064390182495,-0.8237988352775574,-0.8004820346832275,-0.8203171491622925,-0.8325453400611877,-0.8039092421531677,-0.7725573182106018,-0.7928046584129333,-0.7894074320793152,-0.8151125907897949,-0.8099294304847717,-0.822056770324707,-0.8735800385475159,-0.8457800149917603,-0.8090676665306091,-0.8369414806365967,-0.805626392364502,-0.7936553955078125,-0.8004820346832275,-0.8107918500900269,-0.768379807472229,-0.7775887250900269,-0.7436011433601379,-0.7217093706130981,-0.7249286770820618,-0.7065288424491882,-0.7201027274131775,-0.6628212928771973,-0.667432427406311,-0.6325043439865112,-0.6620544195175171,-0.6962465047836304,-0.6605220437049866,-0.6544111967086792,-0.6536493897438049,-0.6347529888153076,-0.6355034112930298,-0.6712879538536072,-0.6551734209060669,-0.667432427406311,-0.6666626930236816,-0.6635886430740356,-0.6697443127632141,-0.6574628949165344,-0.6751552820205688,-0.681367814540863,-0.7128983736038208,-0.6915289759635925,-0.7419664263725281,-0.7518066763877869,-0.7330131530761719,-0.7575824856758118,-0.7717207074165344,-0.8325453400611877,-0.8404694199562073,-0.8343019485473633,-0.8194482326507568,-0.8299150466918945,-0.8502225875854492,-0.8395865559577942,-0.8211866617202759,-0.8378225564956665,-0.8369414806365967,-0.8645451068878174],\"type\":\"scatter\"},{\"mode\":\"lines\",\"name\":\"Predicted\",\"x\":[1.0,2.0,3.0,4.0,5.0,6.0,7.0,8.0,9.0,10.0,11.0,12.0,13.0,14.0,15.0,16.0,17.0,18.0,19.0,20.0,21.0,22.0,23.0,24.0,25.0,26.0,27.0,28.0,29.0,30.0,31.0,32.0,33.0,34.0,35.0,36.0,37.0,38.0,39.0,40.0,41.0,42.0,43.0,44.0,45.0,46.0,47.0,48.0,49.0,50.0,51.0,52.0,53.0,54.0,55.0,56.0,57.0,58.0,59.0,60.0,61.0,62.0,63.0,64.0,65.0,66.0,67.0,68.0,69.0,70.0,71.0,72.0,73.0,74.0,75.0,76.0,77.0,78.0,79.0,80.0,81.0,82.0,83.0,84.0,85.0,86.0,87.0,88.0,89.0,90.0,91.0,92.0,93.0,94.0,95.0,96.0,97.0,98.0,99.0,100.0,101.0,102.0,103.0,104.0,105.0,106.0,107.0,108.0,109.0,110.0,111.0,112.0,113.0,114.0,115.0,116.0,117.0,118.0,119.0,120.0,121.0,122.0,123.0,124.0,125.0,126.0,127.0,128.0,129.0,130.0,131.0,132.0,133.0,134.0,135.0,136.0,137.0,138.0,139.0,140.0,141.0,142.0,143.0,144.0,145.0,146.0,147.0,148.0,149.0,150.0,151.0,152.0,153.0,154.0,155.0,156.0,157.0,158.0,159.0,160.0,161.0,162.0,163.0,164.0,165.0,166.0,167.0,168.0,169.0,170.0,171.0,172.0,173.0,174.0,175.0,176.0,177.0,178.0,179.0,180.0,181.0,182.0,183.0,184.0,185.0,186.0,187.0,188.0,189.0,190.0,191.0,192.0],\"y\":[-0.10076750814914703,-0.14081229269504547,-0.14757409691810608,-0.15018460154533386,-0.15685001015663147,-0.15974260866641998,-0.1621294617652893,-0.1683582216501236,-0.16923776268959045,-0.16807690262794495,-0.16947834193706512,-0.16942201554775238,-0.1699705421924591,-0.16981273889541626,-0.16993823647499084,-0.16887053847312927,-0.1696096807718277,-0.16867652535438538,-0.1678324192762375,-0.1681564897298813,-0.1697137951850891,-0.169525608420372,-0.16943158209323883,-0.16984598338603973,-0.16862353682518005,-0.16856367886066437,-0.16665543615818024,-0.1658875197172165,-0.1657412052154541,-0.16665013134479523,-0.16492658853530884,-0.16434811055660248,-0.16639894247055054,-0.16694550216197968,-0.16805660724639893,-0.16912376880645752,-0.16825363039970398,-0.16737492382526398,-0.16740953922271729,-0.16575051844120026,-0.16528888046741486,-0.16608001291751862,-0.16458985209465027,-0.1653858721256256,-0.16750094294548035,-0.16886751353740692,-0.1698857545852661,-0.1698354333639145,-0.16985267400741577,-0.16984030604362488,-0.16994133591651917,-0.16992336511611938,-0.16985298693180084,-0.16918423771858215,-0.16979412734508514,-0.16952461004257202,-0.16962845623493195,-0.16971057653427124,-0.1699686199426651,-0.16996634006500244,-0.1691606640815735,-0.1678173840045929,-0.16926632821559906,-0.16967034339904785,-0.1688576638698578,-0.16935017704963684,-0.16804823279380798,-0.16590426862239838,-0.1669880747795105,-0.1670144498348236,-0.16776706278324127,-0.1686120480298996,-0.16928039491176605,-0.16864778101444244,-0.16910092532634735,-0.1676212102174759,-0.16785475611686707,-0.16956502199172974,-0.16858674585819244,-0.1673431545495987,-0.1671522855758667,-0.16606025397777557,-0.16606207191944122,-0.1660412847995758,-0.1686985343694687,-0.16743256151676178,-0.16256403923034668,-0.16569647192955017,-0.16943106055259705,-0.16907475888729095,-0.16919194161891937,-0.16922703385353088,-0.16911843419075012,-0.16976739466190338,-0.16957221925258636,-0.1697656810283661,-0.16939684748649597,-0.16992740333080292,-0.16949738562107086,-0.16983778774738312,-0.1692916452884674,-0.16850148141384125,-0.16905376315116882,-0.16847753524780273,-0.1680697202682495,-0.16635698080062866,-0.1667383313179016,-0.16717429459095,-0.16708548367023468,-0.16750918328762054,-0.16846676170825958,-0.16874699294567108,-0.1673353761434555,-0.16770178079605103,-0.1675366908311844,-0.16905513405799866,-0.16838856041431427,-0.16926373541355133,-0.1695670336484909,-0.16991008818149567,-0.16993993520736694,-0.1696140170097351,-0.16654402017593384,-0.16700178384780884,-0.168302983045578,-0.16880734264850616,-0.16917389631271362,-0.1682751476764679,-0.16909578442573547,-0.1682853251695633,-0.1679156869649887,-0.16778630018234253,-0.1676236093044281,-0.16797354817390442,-0.1671583652496338,-0.16566067934036255,-0.16732288897037506,-0.16820669174194336,-0.16892574727535248,-0.16878509521484375,-0.16964440047740936,-0.16992555558681488,-0.16901525855064392,-0.16800707578659058,-0.16795410215854645,-0.16678689420223236,-0.16658121347427368,-0.16752144694328308,-0.167611762881279,-0.16608144342899323,-0.16739866137504578,-0.1669933944940567,-0.16737163066864014,-0.16760186851024628,-0.16783848404884338,-0.16840437054634094,-0.16732154786586761,-0.16859622299671173,-0.16839006543159485,-0.16894637048244476,-0.16976535320281982,-0.1689700484275818,-0.16730622947216034,-0.16829542815685272,-0.16844922304153442,-0.1687050461769104,-0.1691926270723343,-0.1682828664779663,-0.167424738407135,0.023509208112955093,-0.09413786977529526,-0.10725673288106918,-0.12035920470952988,-0.10109669715166092,-0.09988658130168915,-0.047825586050748825,-0.07282445579767227,-0.025676891207695007,0.010289482772350311,0.05514965206384659,0.09266634285449982,0.13391149044036865,0.203480064868927,0.25060611963272095,0.32905781269073486,0.4091791808605194,0.4460917115211487,0.5109601020812988,0.5368866324424744,0.5643298029899597,0.5873702764511108,0.6581276655197144],\"type\":\"scatter\"},{\"line\":{\"width\":0},\"marker\":{\"color\":\"#444\"},\"mode\":\"lines\",\"name\":\"Upper Bound\",\"showlegend\":false,\"x\":[1.0,2.0,3.0,4.0,5.0,6.0,7.0,8.0,9.0,10.0,11.0,12.0,13.0,14.0,15.0,16.0,17.0,18.0,19.0,20.0,21.0,22.0,23.0,24.0,25.0,26.0,27.0,28.0,29.0,30.0,31.0,32.0,33.0,34.0,35.0,36.0,37.0,38.0,39.0,40.0,41.0,42.0,43.0,44.0,45.0,46.0,47.0,48.0,49.0,50.0,51.0,52.0,53.0,54.0,55.0,56.0,57.0,58.0,59.0,60.0,61.0,62.0,63.0,64.0,65.0,66.0,67.0,68.0,69.0,70.0,71.0,72.0,73.0,74.0,75.0,76.0,77.0,78.0,79.0,80.0,81.0,82.0,83.0,84.0,85.0,86.0,87.0,88.0,89.0,90.0,91.0,92.0,93.0,94.0,95.0,96.0,97.0,98.0,99.0,100.0,101.0,102.0,103.0,104.0,105.0,106.0,107.0,108.0,109.0,110.0,111.0,112.0,113.0,114.0,115.0,116.0,117.0,118.0,119.0,120.0,121.0,122.0,123.0,124.0,125.0,126.0,127.0,128.0,129.0,130.0,131.0,132.0,133.0,134.0,135.0,136.0,137.0,138.0,139.0,140.0,141.0,142.0,143.0,144.0,145.0,146.0,147.0,148.0,149.0,150.0,151.0,152.0,153.0,154.0,155.0,156.0,157.0,158.0,159.0,160.0,161.0,162.0,163.0,164.0,165.0,166.0,167.0,168.0,169.0,170.0,171.0,172.0,173.0,174.0,175.0,176.0,177.0,178.0,179.0,180.0,181.0,182.0,183.0,184.0,185.0,186.0,187.0,188.0,189.0,190.0,191.0,192.0],\"y\":[0.2334568053483963,0.15501941740512848,0.06054103374481201,-0.0003082454204559326,-0.02094726264476776,-0.03792259097099304,-0.04271511733531952,-0.019529148936271667,-0.008557900786399841,-0.01870015263557434,-0.011265188455581665,-0.003476545214653015,0.029009848833084106,0.06940779089927673,0.07268643379211426,0.07291965186595917,0.09121142327785492,0.0855354368686676,0.07369868457317352,0.0723380446434021,0.09854793548583984,0.10606540739536285,0.10993246734142303,0.1262754648923874,0.10757753252983093,0.09208323061466217,0.06663711369037628,0.05610063672065735,0.04726730287075043,0.0447080135345459,0.03290393948554993,0.021992802619934082,0.026087984442710876,0.029385223984718323,0.034716248512268066,0.06557659804821014,0.07103809714317322,0.06343728303909302,0.06457512080669403,0.05134844779968262,0.043138742446899414,0.04714186489582062,0.034647732973098755,0.03628666698932648,0.042280614376068115,0.05949778854846954,0.09270453453063965,0.10361449420452118,0.11009499430656433,0.12142884731292725,0.1288476288318634,0.15513145923614502,0.1933312565088272,0.26943936944007874,0.2711009979248047,0.30238088965415955,0.3104251027107239,0.3842856287956238,0.4113142490386963,0.4714965224266052,0.4779052138328552,0.4462578594684601,0.4576769471168518,0.5069642066955566,0.5117297172546387,0.5358390808105469,0.5404183864593506,0.49260568618774414,0.46318119764328003,0.4637570083141327,0.4646865725517273,0.500514566898346,0.5160756707191467,0.5301885008811951,0.5297675728797913,0.49328285455703735,0.49055466055870056,0.5810916423797607,0.574596643447876,0.5535383224487305,0.52705317735672,0.5019263625144958,0.47709351778030396,0.43452176451683044,0.4451168179512024,0.41902458667755127,0.3042992353439331,0.26158320903778076,0.30560770630836487,0.2991154193878174,0.3025249242782593,0.2873554825782776,0.2838244140148163,0.3029699921607971,0.2964863181114197,0.3072940409183502,0.3048410713672638,0.3600117564201355,0.4372286796569824,0.5132648348808289,0.5121653079986572,0.5188335180282593,0.5474015474319458,0.5601972341537476,0.5771610736846924,0.5303375124931335,0.5216861963272095,0.5062072277069092,0.49958157539367676,0.4821779727935791,0.4790240526199341,0.4807223677635193,0.4646487832069397,0.43423521518707275,0.41016119718551636,0.41473498940467834,0.3927806615829468,0.40060144662857056,0.42149001359939575,0.461294949054718,0.592081606388092,0.599523663520813,0.5496279001235962,0.5330647826194763,0.5413573980331421,0.5571839809417725,0.540637731552124,0.537063717842102,0.5497170686721802,0.5658749341964722,0.5667497515678406,0.5259191393852234,0.5387766361236572,0.5431402921676636,0.5165638327598572,0.46980446577072144,0.4606323838233948,0.4551255702972412,0.46453309059143066,0.46530580520629883,0.5296147465705872,0.5893189311027527,0.6141481399536133,0.5938019752502441,0.6100922226905823,0.5900156497955322,0.5735083818435669,0.568869948387146,0.5654756426811218,0.5375155210494995,0.5207035541534424,0.49905622005462646,0.46871572732925415,0.46323543787002563,0.4399271309375763,0.43226757645606995,0.39202332496643066,0.3738921284675598,0.3416893184185028,0.3489954471588135,0.36684882640838623,0.34238725900650024,0.2851550579071045,0.3177219033241272,0.33825552463531494,0.348505437374115,0.38203686475753784,0.3868405222892761,0.31777167320251465,0.1096176952123642,-0.039388444274663925,-0.04234393686056137,-0.044103533029556274,-0.042011503130197525,-0.04314617067575455,0.005751993507146835,-0.029260747134685516,0.012119773775339127,0.03290543705224991,0.08130098879337311,0.11472663283348083,0.15948180854320526,0.22008457779884338,0.2707761526107788,0.34953877329826355,0.4321708381175995,0.47240138053894043,0.5486202836036682,0.5556605458259583,0.587480366230011,0.6133790612220764,0.6852275729179382],\"type\":\"scatter\"},{\"fill\":\"tonexty\",\"fillcolor\":\"rgba(68, 68, 68, 0.3)\",\"line\":{\"width\":0},\"marker\":{\"color\":\"#444\"},\"mode\":\"lines\",\"name\":\"Lower Bound\",\"showlegend\":false,\"x\":[1.0,2.0,3.0,4.0,5.0,6.0,7.0,8.0,9.0,10.0,11.0,12.0,13.0,14.0,15.0,16.0,17.0,18.0,19.0,20.0,21.0,22.0,23.0,24.0,25.0,26.0,27.0,28.0,29.0,30.0,31.0,32.0,33.0,34.0,35.0,36.0,37.0,38.0,39.0,40.0,41.0,42.0,43.0,44.0,45.0,46.0,47.0,48.0,49.0,50.0,51.0,52.0,53.0,54.0,55.0,56.0,57.0,58.0,59.0,60.0,61.0,62.0,63.0,64.0,65.0,66.0,67.0,68.0,69.0,70.0,71.0,72.0,73.0,74.0,75.0,76.0,77.0,78.0,79.0,80.0,81.0,82.0,83.0,84.0,85.0,86.0,87.0,88.0,89.0,90.0,91.0,92.0,93.0,94.0,95.0,96.0,97.0,98.0,99.0,100.0,101.0,102.0,103.0,104.0,105.0,106.0,107.0,108.0,109.0,110.0,111.0,112.0,113.0,114.0,115.0,116.0,117.0,118.0,119.0,120.0,121.0,122.0,123.0,124.0,125.0,126.0,127.0,128.0,129.0,130.0,131.0,132.0,133.0,134.0,135.0,136.0,137.0,138.0,139.0,140.0,141.0,142.0,143.0,144.0,145.0,146.0,147.0,148.0,149.0,150.0,151.0,152.0,153.0,154.0,155.0,156.0,157.0,158.0,159.0,160.0,161.0,162.0,163.0,164.0,165.0,166.0,167.0,168.0,169.0,170.0,171.0,172.0,173.0,174.0,175.0,176.0,177.0,178.0,179.0,180.0,181.0,182.0,183.0,184.0,185.0,186.0,187.0,188.0,189.0,190.0,191.0,192.0],\"y\":[-0.43499183654785156,-0.4366440176963806,-0.35568922758102417,-0.3000609576702118,-0.292752742767334,-0.2815626263618469,-0.2815437912940979,-0.3171873092651367,-0.3299176096916199,-0.31745365262031555,-0.3276914954185486,-0.33536750078201294,-0.3689509332180023,-0.40903326869010925,-0.41256290674209595,-0.4106607437133789,-0.4304307699203491,-0.42288848757743835,-0.4093635082244873,-0.4086510241031647,-0.43797552585601807,-0.44511663913726807,-0.4487956166267395,-0.46596741676330566,-0.44482460618019104,-0.4292106032371521,-0.39994800090789795,-0.38787567615509033,-0.3787497282028198,-0.37800827622413635,-0.3627571165561676,-0.35068902373313904,-0.35888588428497314,-0.36327624320983887,-0.3708294630050659,-0.4038241505622864,-0.4075453579425812,-0.39818713068962097,-0.3993942141532898,-0.38284948468208313,-0.3737165033817291,-0.37930190563201904,-0.3638274371623993,-0.3670583963394165,-0.3772825002670288,-0.3972328305244446,-0.4324760437011719,-0.44328534603118896,-0.4498003423213959,-0.461109459400177,-0.46873030066490173,-0.4949781894683838,-0.5330372452735901,-0.6078078746795654,-0.6106892824172974,-0.641430139541626,-0.6496820449829102,-0.7237067818641663,-0.7512514591217041,-0.8114292025566101,-0.8162265419960022,-0.7818926572799683,-0.7962096333503723,-0.8463048934936523,-0.849445104598999,-0.8745393753051758,-0.8765147924423218,-0.8244142532348633,-0.797157347202301,-0.7977858781814575,-0.8002206683158875,-0.8377386927604675,-0.8546364903450012,-0.8674840331077576,-0.8679694533348083,-0.8285252451896667,-0.8262641429901123,-0.9202216863632202,-0.9117701053619385,-0.8882246017456055,-0.8613577485084534,-0.8340469002723694,-0.809217631816864,-0.7666043043136597,-0.7825139164924622,-0.7538896799087524,-0.6294273138046265,-0.5929761528968811,-0.6444698572158813,-0.6372649669647217,-0.6409088373184204,-0.6258095502853394,-0.6220612525939941,-0.6425047516822815,-0.6356307864189148,-0.6468254327774048,-0.6436347961425781,-0.6998665928840637,-0.7762234210968018,-0.8529403805732727,-0.8507486581802368,-0.8558365106582642,-0.8855091333389282,-0.897152304649353,-0.9133005142211914,-0.8630514740943909,-0.8551628589630127,-0.8405557870864868,-0.8337525129318237,-0.8171963691711426,-0.8159575462341309,-0.8182163834571838,-0.7993195652961731,-0.7696387767791748,-0.7452345490455627,-0.752845287322998,-0.7295577526092529,-0.7391288876533508,-0.7606241106987,-0.801115095615387,-0.9319614768028259,-0.9387516975402832,-0.8827159404754639,-0.867068350315094,-0.8779634237289429,-0.8947986364364624,-0.8789855241775513,-0.8736140727996826,-0.8879085779190063,-0.9024455547332764,-0.9025811553001404,-0.8614917397499084,-0.8740239143371582,-0.8790873289108276,-0.8508805632591248,-0.8011258244514465,-0.7952781319618225,-0.7915389537811279,-0.802384614944458,-0.8028759956359863,-0.8689035773277283,-0.9291700720787048,-0.9521787166595459,-0.9298161268234253,-0.9460003972053528,-0.9235894680023193,-0.9066708087921143,-0.9039127826690674,-0.9006991982460022,-0.8696783781051636,-0.8555009365081787,-0.8330429792404175,-0.8034589886665344,-0.7984392046928406,-0.7756041288375854,-0.7690763473510742,-0.7266664505004883,-0.7110845446586609,-0.6784694194793701,-0.6868882179260254,-0.7063795328140259,-0.6803273558616638,-0.6197674870491028,-0.654312789440155,-0.6751539707183838,-0.6859155297279358,-0.720422089099884,-0.7234062552452087,-0.6526211500167847,-0.0625992864370346,-0.1488872915506363,-0.1721695363521576,-0.19661487638950348,-0.1601818948984146,-0.15662699937820435,-0.10140316188335419,-0.11638816446065903,-0.06347355246543884,-0.012326473370194435,0.028998317196965218,0.0706060528755188,0.10834117233753204,0.18687555193901062,0.23043608665466309,0.3085768520832062,0.38618752360343933,0.41978204250335693,0.47329989075660706,0.5181127190589905,0.5411792397499084,0.5613614916801453,0.6310277581214905],\"type\":\"scatter\"}],                        {\"template\":{\"data\":{\"bar\":[{\"error_x\":{\"color\":\"#2a3f5f\"},\"error_y\":{\"color\":\"#2a3f5f\"},\"marker\":{\"line\":{\"color\":\"#E5ECF6\",\"width\":0.5},\"pattern\":{\"fillmode\":\"overlay\",\"size\":10,\"solidity\":0.2}},\"type\":\"bar\"}],\"barpolar\":[{\"marker\":{\"line\":{\"color\":\"#E5ECF6\",\"width\":0.5},\"pattern\":{\"fillmode\":\"overlay\",\"size\":10,\"solidity\":0.2}},\"type\":\"barpolar\"}],\"carpet\":[{\"aaxis\":{\"endlinecolor\":\"#2a3f5f\",\"gridcolor\":\"white\",\"linecolor\":\"white\",\"minorgridcolor\":\"white\",\"startlinecolor\":\"#2a3f5f\"},\"baxis\":{\"endlinecolor\":\"#2a3f5f\",\"gridcolor\":\"white\",\"linecolor\":\"white\",\"minorgridcolor\":\"white\",\"startlinecolor\":\"#2a3f5f\"},\"type\":\"carpet\"}],\"choropleth\":[{\"colorbar\":{\"outlinewidth\":0,\"ticks\":\"\"},\"type\":\"choropleth\"}],\"contour\":[{\"colorbar\":{\"outlinewidth\":0,\"ticks\":\"\"},\"colorscale\":[[0.0,\"#0d0887\"],[0.1111111111111111,\"#46039f\"],[0.2222222222222222,\"#7201a8\"],[0.3333333333333333,\"#9c179e\"],[0.4444444444444444,\"#bd3786\"],[0.5555555555555556,\"#d8576b\"],[0.6666666666666666,\"#ed7953\"],[0.7777777777777778,\"#fb9f3a\"],[0.8888888888888888,\"#fdca26\"],[1.0,\"#f0f921\"]],\"type\":\"contour\"}],\"contourcarpet\":[{\"colorbar\":{\"outlinewidth\":0,\"ticks\":\"\"},\"type\":\"contourcarpet\"}],\"heatmap\":[{\"colorbar\":{\"outlinewidth\":0,\"ticks\":\"\"},\"colorscale\":[[0.0,\"#0d0887\"],[0.1111111111111111,\"#46039f\"],[0.2222222222222222,\"#7201a8\"],[0.3333333333333333,\"#9c179e\"],[0.4444444444444444,\"#bd3786\"],[0.5555555555555556,\"#d8576b\"],[0.6666666666666666,\"#ed7953\"],[0.7777777777777778,\"#fb9f3a\"],[0.8888888888888888,\"#fdca26\"],[1.0,\"#f0f921\"]],\"type\":\"heatmap\"}],\"heatmapgl\":[{\"colorbar\":{\"outlinewidth\":0,\"ticks\":\"\"},\"colorscale\":[[0.0,\"#0d0887\"],[0.1111111111111111,\"#46039f\"],[0.2222222222222222,\"#7201a8\"],[0.3333333333333333,\"#9c179e\"],[0.4444444444444444,\"#bd3786\"],[0.5555555555555556,\"#d8576b\"],[0.6666666666666666,\"#ed7953\"],[0.7777777777777778,\"#fb9f3a\"],[0.8888888888888888,\"#fdca26\"],[1.0,\"#f0f921\"]],\"type\":\"heatmapgl\"}],\"histogram\":[{\"marker\":{\"pattern\":{\"fillmode\":\"overlay\",\"size\":10,\"solidity\":0.2}},\"type\":\"histogram\"}],\"histogram2d\":[{\"colorbar\":{\"outlinewidth\":0,\"ticks\":\"\"},\"colorscale\":[[0.0,\"#0d0887\"],[0.1111111111111111,\"#46039f\"],[0.2222222222222222,\"#7201a8\"],[0.3333333333333333,\"#9c179e\"],[0.4444444444444444,\"#bd3786\"],[0.5555555555555556,\"#d8576b\"],[0.6666666666666666,\"#ed7953\"],[0.7777777777777778,\"#fb9f3a\"],[0.8888888888888888,\"#fdca26\"],[1.0,\"#f0f921\"]],\"type\":\"histogram2d\"}],\"histogram2dcontour\":[{\"colorbar\":{\"outlinewidth\":0,\"ticks\":\"\"},\"colorscale\":[[0.0,\"#0d0887\"],[0.1111111111111111,\"#46039f\"],[0.2222222222222222,\"#7201a8\"],[0.3333333333333333,\"#9c179e\"],[0.4444444444444444,\"#bd3786\"],[0.5555555555555556,\"#d8576b\"],[0.6666666666666666,\"#ed7953\"],[0.7777777777777778,\"#fb9f3a\"],[0.8888888888888888,\"#fdca26\"],[1.0,\"#f0f921\"]],\"type\":\"histogram2dcontour\"}],\"mesh3d\":[{\"colorbar\":{\"outlinewidth\":0,\"ticks\":\"\"},\"type\":\"mesh3d\"}],\"parcoords\":[{\"line\":{\"colorbar\":{\"outlinewidth\":0,\"ticks\":\"\"}},\"type\":\"parcoords\"}],\"pie\":[{\"automargin\":true,\"type\":\"pie\"}],\"scatter\":[{\"marker\":{\"colorbar\":{\"outlinewidth\":0,\"ticks\":\"\"}},\"type\":\"scatter\"}],\"scatter3d\":[{\"line\":{\"colorbar\":{\"outlinewidth\":0,\"ticks\":\"\"}},\"marker\":{\"colorbar\":{\"outlinewidth\":0,\"ticks\":\"\"}},\"type\":\"scatter3d\"}],\"scattercarpet\":[{\"marker\":{\"colorbar\":{\"outlinewidth\":0,\"ticks\":\"\"}},\"type\":\"scattercarpet\"}],\"scattergeo\":[{\"marker\":{\"colorbar\":{\"outlinewidth\":0,\"ticks\":\"\"}},\"type\":\"scattergeo\"}],\"scattergl\":[{\"marker\":{\"colorbar\":{\"outlinewidth\":0,\"ticks\":\"\"}},\"type\":\"scattergl\"}],\"scattermapbox\":[{\"marker\":{\"colorbar\":{\"outlinewidth\":0,\"ticks\":\"\"}},\"type\":\"scattermapbox\"}],\"scatterpolar\":[{\"marker\":{\"colorbar\":{\"outlinewidth\":0,\"ticks\":\"\"}},\"type\":\"scatterpolar\"}],\"scatterpolargl\":[{\"marker\":{\"colorbar\":{\"outlinewidth\":0,\"ticks\":\"\"}},\"type\":\"scatterpolargl\"}],\"scatterternary\":[{\"marker\":{\"colorbar\":{\"outlinewidth\":0,\"ticks\":\"\"}},\"type\":\"scatterternary\"}],\"surface\":[{\"colorbar\":{\"outlinewidth\":0,\"ticks\":\"\"},\"colorscale\":[[0.0,\"#0d0887\"],[0.1111111111111111,\"#46039f\"],[0.2222222222222222,\"#7201a8\"],[0.3333333333333333,\"#9c179e\"],[0.4444444444444444,\"#bd3786\"],[0.5555555555555556,\"#d8576b\"],[0.6666666666666666,\"#ed7953\"],[0.7777777777777778,\"#fb9f3a\"],[0.8888888888888888,\"#fdca26\"],[1.0,\"#f0f921\"]],\"type\":\"surface\"}],\"table\":[{\"cells\":{\"fill\":{\"color\":\"#EBF0F8\"},\"line\":{\"color\":\"white\"}},\"header\":{\"fill\":{\"color\":\"#C8D4E3\"},\"line\":{\"color\":\"white\"}},\"type\":\"table\"}]},\"layout\":{\"annotationdefaults\":{\"arrowcolor\":\"#2a3f5f\",\"arrowhead\":0,\"arrowwidth\":1},\"autotypenumbers\":\"strict\",\"coloraxis\":{\"colorbar\":{\"outlinewidth\":0,\"ticks\":\"\"}},\"colorscale\":{\"diverging\":[[0,\"#8e0152\"],[0.1,\"#c51b7d\"],[0.2,\"#de77ae\"],[0.3,\"#f1b6da\"],[0.4,\"#fde0ef\"],[0.5,\"#f7f7f7\"],[0.6,\"#e6f5d0\"],[0.7,\"#b8e186\"],[0.8,\"#7fbc41\"],[0.9,\"#4d9221\"],[1,\"#276419\"]],\"sequential\":[[0.0,\"#0d0887\"],[0.1111111111111111,\"#46039f\"],[0.2222222222222222,\"#7201a8\"],[0.3333333333333333,\"#9c179e\"],[0.4444444444444444,\"#bd3786\"],[0.5555555555555556,\"#d8576b\"],[0.6666666666666666,\"#ed7953\"],[0.7777777777777778,\"#fb9f3a\"],[0.8888888888888888,\"#fdca26\"],[1.0,\"#f0f921\"]],\"sequentialminus\":[[0.0,\"#0d0887\"],[0.1111111111111111,\"#46039f\"],[0.2222222222222222,\"#7201a8\"],[0.3333333333333333,\"#9c179e\"],[0.4444444444444444,\"#bd3786\"],[0.5555555555555556,\"#d8576b\"],[0.6666666666666666,\"#ed7953\"],[0.7777777777777778,\"#fb9f3a\"],[0.8888888888888888,\"#fdca26\"],[1.0,\"#f0f921\"]]},\"colorway\":[\"#636efa\",\"#EF553B\",\"#00cc96\",\"#ab63fa\",\"#FFA15A\",\"#19d3f3\",\"#FF6692\",\"#B6E880\",\"#FF97FF\",\"#FECB52\"],\"font\":{\"color\":\"#2a3f5f\"},\"geo\":{\"bgcolor\":\"white\",\"lakecolor\":\"white\",\"landcolor\":\"#E5ECF6\",\"showlakes\":true,\"showland\":true,\"subunitcolor\":\"white\"},\"hoverlabel\":{\"align\":\"left\"},\"hovermode\":\"closest\",\"mapbox\":{\"style\":\"light\"},\"paper_bgcolor\":\"white\",\"plot_bgcolor\":\"#E5ECF6\",\"polar\":{\"angularaxis\":{\"gridcolor\":\"white\",\"linecolor\":\"white\",\"ticks\":\"\"},\"bgcolor\":\"#E5ECF6\",\"radialaxis\":{\"gridcolor\":\"white\",\"linecolor\":\"white\",\"ticks\":\"\"}},\"scene\":{\"xaxis\":{\"backgroundcolor\":\"#E5ECF6\",\"gridcolor\":\"white\",\"gridwidth\":2,\"linecolor\":\"white\",\"showbackground\":true,\"ticks\":\"\",\"zerolinecolor\":\"white\"},\"yaxis\":{\"backgroundcolor\":\"#E5ECF6\",\"gridcolor\":\"white\",\"gridwidth\":2,\"linecolor\":\"white\",\"showbackground\":true,\"ticks\":\"\",\"zerolinecolor\":\"white\"},\"zaxis\":{\"backgroundcolor\":\"#E5ECF6\",\"gridcolor\":\"white\",\"gridwidth\":2,\"linecolor\":\"white\",\"showbackground\":true,\"ticks\":\"\",\"zerolinecolor\":\"white\"}},\"shapedefaults\":{\"line\":{\"color\":\"#2a3f5f\"}},\"ternary\":{\"aaxis\":{\"gridcolor\":\"white\",\"linecolor\":\"white\",\"ticks\":\"\"},\"baxis\":{\"gridcolor\":\"white\",\"linecolor\":\"white\",\"ticks\":\"\"},\"bgcolor\":\"#E5ECF6\",\"caxis\":{\"gridcolor\":\"white\",\"linecolor\":\"white\",\"ticks\":\"\"}},\"title\":{\"x\":0.05},\"xaxis\":{\"automargin\":true,\"gridcolor\":\"white\",\"linecolor\":\"white\",\"ticks\":\"\",\"title\":{\"standoff\":15},\"zerolinecolor\":\"white\",\"zerolinewidth\":2},\"yaxis\":{\"automargin\":true,\"gridcolor\":\"white\",\"linecolor\":\"white\",\"ticks\":\"\",\"title\":{\"standoff\":15},\"zerolinecolor\":\"white\",\"zerolinewidth\":2}}},\"shapes\":[{\"type\":\"line\",\"x0\":168,\"x1\":168,\"xref\":\"x\",\"y0\":0,\"y1\":1,\"yref\":\"y domain\"}],\"xaxis\":{\"title\":{\"text\":\"Time Samples\"}},\"yaxis\":{\"title\":{\"text\":\"Normalized Stock Opening Price\"}}},                        {\"responsive\": true}                    ).then(function(){\n",
              "                            \n",
              "var gd = document.getElementById('0ba5dad4-5435-41f5-808d-9b3b87fb20de');\n",
              "var x = new MutationObserver(function (mutations, observer) {{\n",
              "        var display = window.getComputedStyle(gd).display;\n",
              "        if (!display || display === 'none') {{\n",
              "            console.log([gd, 'removed!']);\n",
              "            Plotly.purge(gd);\n",
              "            observer.disconnect();\n",
              "        }}\n",
              "}});\n",
              "\n",
              "// Listen for the removal of the full notebook cells\n",
              "var notebookContainer = gd.closest('#notebook-container');\n",
              "if (notebookContainer) {{\n",
              "    x.observe(notebookContainer, {childList: true});\n",
              "}}\n",
              "\n",
              "// Listen for the clearing of the current output cell\n",
              "var outputEl = gd.closest('.output');\n",
              "if (outputEl) {{\n",
              "    x.observe(outputEl, {childList: true});\n",
              "}}\n",
              "\n",
              "                        })                };                            </script>        </div>\n",
              "</body>\n",
              "</html>"
            ]
          },
          "metadata": {}
        },
        {
          "output_type": "display_data",
          "data": {
            "text/html": [
              "<html>\n",
              "<head><meta charset=\"utf-8\" /></head>\n",
              "<body>\n",
              "    <div>            <script src=\"https://cdnjs.cloudflare.com/ajax/libs/mathjax/2.7.5/MathJax.js?config=TeX-AMS-MML_SVG\"></script><script type=\"text/javascript\">if (window.MathJax) {MathJax.Hub.Config({SVG: {font: \"STIX-Web\"}});}</script>                <script type=\"text/javascript\">window.PlotlyConfig = {MathJaxConfig: 'local'};</script>\n",
              "        <script src=\"https://cdn.plot.ly/plotly-2.8.3.min.js\"></script>                <div id=\"3c0ce5c3-eec9-4e72-80ad-7b8305772f53\" class=\"plotly-graph-div\" style=\"height:525px; width:100%;\"></div>            <script type=\"text/javascript\">                                    window.PLOTLYENV=window.PLOTLYENV || {};                                    if (document.getElementById(\"3c0ce5c3-eec9-4e72-80ad-7b8305772f53\")) {                    Plotly.newPlot(                        \"3c0ce5c3-eec9-4e72-80ad-7b8305772f53\",                        [{\"mode\":\"lines\",\"name\":\"Actual\",\"x\":[1.0,2.0,3.0,4.0,5.0,6.0,7.0,8.0,9.0,10.0,11.0,12.0,13.0,14.0,15.0,16.0,17.0,18.0,19.0,20.0,21.0,22.0,23.0,24.0,25.0,26.0,27.0,28.0,29.0,30.0,31.0,32.0,33.0,34.0,35.0,36.0,37.0,38.0,39.0,40.0,41.0,42.0,43.0,44.0,45.0,46.0,47.0,48.0,49.0,50.0,51.0,52.0,53.0,54.0,55.0,56.0,57.0,58.0,59.0,60.0,61.0,62.0,63.0,64.0,65.0,66.0,67.0,68.0,69.0,70.0,71.0,72.0,73.0,74.0,75.0,76.0,77.0,78.0,79.0,80.0,81.0,82.0,83.0,84.0,85.0,86.0,87.0,88.0,89.0,90.0,91.0,92.0,93.0,94.0,95.0,96.0,97.0,98.0,99.0,100.0,101.0,102.0,103.0,104.0,105.0,106.0,107.0,108.0,109.0,110.0,111.0,112.0,113.0,114.0,115.0,116.0,117.0,118.0,119.0,120.0,121.0,122.0,123.0,124.0,125.0,126.0,127.0,128.0,129.0,130.0,131.0,132.0,133.0,134.0,135.0,136.0,137.0,138.0,139.0,140.0,141.0,142.0,143.0,144.0,145.0,146.0,147.0,148.0,149.0,150.0,151.0,152.0,153.0,154.0,155.0,156.0,157.0,158.0,159.0,160.0,161.0,162.0,163.0,164.0,165.0,166.0,167.0,168.0,169.0,170.0,171.0,172.0,173.0,174.0,175.0,176.0,177.0,178.0,179.0,180.0,181.0,182.0,183.0,184.0,185.0,186.0,187.0,188.0,189.0,190.0,191.0,192.0],\"y\":[0.35918277502059937,0.3954637944698334,0.3626970648765564,0.3802128732204437,0.3898073136806488,0.3789023756980896,0.32383403182029724,0.2957296371459961,0.30020657181739807,0.1933698207139969,0.1993705928325653,0.1608702689409256,0.15620140731334686,0.21914242208003998,0.27325406670570374,0.2764098048210144,0.31226420402526855,0.34243902564048767,0.3565446436405182,0.310926616191864,0.3207230269908905,0.3198336362838745,0.2966254949569702,0.35258346796035767,0.35170257091522217,0.3885006308555603,0.4274798631668091,0.4442298412322998,0.42489543557167053,0.4076142907142639,0.4037136137485504,0.38632163405418396,0.42704927921295166,0.384141206741333,0.3701525628566742,0.38632163405418396,0.384141206741333,0.3976367712020874,0.4128080904483795,0.4390850067138672,0.453641414642334,0.44851112365722656,0.4179937541484833,0.3666461706161499,0.3353636860847473,0.3296038508415222,0.34464696049690247,0.3406715989112854,0.35126203298568726,0.36839982867240906,0.3282732367515564,0.32871684432029724,0.3366914689540863,0.33580633997917175,0.2777613699436188,0.22646944224834442,0.1416860967874527,0.1186123639345169,0.09823108464479446,0.14496929943561554,0.20443971455097198,0.10772630572319031,0.07006097584962845,0.06045730412006378,-0.017880721017718315,-0.0021626113448292017,0.055645037442445755,0.07149913161993027,0.10298208892345428,0.10060743987560272,0.048413533717393875,0.014456778764724731,0.014944327063858509,-0.014436023309826851,0.023221727460622787,0.03826291114091873,0.00322335516102612,0.08107097446918488,0.09728007018566132,0.12144634872674942,0.1594703048467636,0.20490016043186188,0.2342367172241211,0.15105807781219482,0.21042053401470184,0.33580633997917175,0.2813628017902374,0.22829866409301758,0.24289636313915253,0.22097568213939667,0.17623111605644226,0.18967163562774658,0.15105807781219482,0.16226965188980103,0.13792988657951355,0.16320224106311798,0.1440315693616867,0.021762508898973465,-0.040606625378131866,0.013969157822430134,0.04261697828769684,-0.013944215141236782,-0.02576775848865509,-0.019358115270733833,0.05612657591700554,0.03777877241373062,0.05997639149427414,0.06718278676271439,0.03196360915899277,0.002244737930595875,-0.00020306742226239294,0.046482473611831665,0.05516342446208,0.10298208892345428,0.05227229371666908,0.07915881276130676,0.03196360915899277,0.026624083518981934,-0.017880721017718315,0.02759554423391819,0.10820035636425018,0.20029282569885254,0.23195411264896393,0.1998317390680313,0.18040813505649567,0.11482995748519897,0.11766716092824936,0.05805204063653946,0.05034347623586655,0.04310040920972824,0.04261697828769684,0.028081169351935387,-0.00755732599645853,0.009577348828315735,0.0910918116569519,0.07485241442918777,0.053236283361911774,0.045516520738601685,0.024680307134985924,0.03293351083993912,0.008600601926445961,0.020789338275790215,0.05179019644856453,0.045516520738601685,0.06093814969062805,0.08870863914489746,0.04455028846859932,0.05516342446208,0.12757836282253265,0.09061530977487564,0.1039314791560173,0.08727791160345078,0.10440606623888016,0.09823108464479446,0.09823108464479446,0.12144634872674942,0.11388368159532547,0.11435685306787491,0.10914825648069382,0.05805204063653946,0.11624886095523834,0.16786128282546997,0.12002965807914734,0.12852074205875397,0.11009588092565536,0.06382174789905548,0.10155750066041946,0.06670285016298294,0.0753311812877655,0.06670285016298294,0.07149913161993027,0.04503343999385834,0.027109848335385323,-0.012960817664861679,-0.05501415207982063,-0.06348909437656403,-0.11987113952636719,-0.1356475055217743,-0.1397310197353363,-0.2041967213153839,-0.23453916609287262,-0.3315920829772949,-0.32780638337135315,-0.36585915088653564,-0.2487591952085495,-0.3299691081047058,-0.3806539475917816,-0.37516671419143677,-0.33375731110572815,-0.34895339608192444,-0.34406134486198425,-0.3988264501094818],\"type\":\"scatter\"},{\"mode\":\"lines\",\"name\":\"Predicted\",\"x\":[1.0,2.0,3.0,4.0,5.0,6.0,7.0,8.0,9.0,10.0,11.0,12.0,13.0,14.0,15.0,16.0,17.0,18.0,19.0,20.0,21.0,22.0,23.0,24.0,25.0,26.0,27.0,28.0,29.0,30.0,31.0,32.0,33.0,34.0,35.0,36.0,37.0,38.0,39.0,40.0,41.0,42.0,43.0,44.0,45.0,46.0,47.0,48.0,49.0,50.0,51.0,52.0,53.0,54.0,55.0,56.0,57.0,58.0,59.0,60.0,61.0,62.0,63.0,64.0,65.0,66.0,67.0,68.0,69.0,70.0,71.0,72.0,73.0,74.0,75.0,76.0,77.0,78.0,79.0,80.0,81.0,82.0,83.0,84.0,85.0,86.0,87.0,88.0,89.0,90.0,91.0,92.0,93.0,94.0,95.0,96.0,97.0,98.0,99.0,100.0,101.0,102.0,103.0,104.0,105.0,106.0,107.0,108.0,109.0,110.0,111.0,112.0,113.0,114.0,115.0,116.0,117.0,118.0,119.0,120.0,121.0,122.0,123.0,124.0,125.0,126.0,127.0,128.0,129.0,130.0,131.0,132.0,133.0,134.0,135.0,136.0,137.0,138.0,139.0,140.0,141.0,142.0,143.0,144.0,145.0,146.0,147.0,148.0,149.0,150.0,151.0,152.0,153.0,154.0,155.0,156.0,157.0,158.0,159.0,160.0,161.0,162.0,163.0,164.0,165.0,166.0,167.0,168.0,169.0,170.0,171.0,172.0,173.0,174.0,175.0,176.0,177.0,178.0,179.0,180.0,181.0,182.0,183.0,184.0,185.0,186.0,187.0,188.0,189.0,190.0,191.0,192.0],\"y\":[0.43693381547927856,0.365395724773407,0.4052547216415405,0.39919984340667725,0.42668047547340393,0.4313034117221832,0.42759841680526733,0.3824986219406128,0.3460906445980072,0.3545324206352234,0.26196354627609253,0.2776740789413452,0.2458231896162033,0.24797606468200684,0.2893659174442291,0.3495728373527527,0.3476466238498688,0.37386447191238403,0.40155062079429626,0.4113841950893402,0.3763269782066345,0.3862393796443939,0.3851054310798645,0.36506468057632446,0.4187201261520386,0.4174984097480774,0.46169859170913696,0.49663469195365906,0.5178192257881165,0.5032599568367004,0.5028207302093506,0.49283719062805176,0.48432523012161255,0.5170538425445557,0.4842543601989746,0.4711463153362274,0.4657059609889984,0.451086163520813,0.4619901180267334,0.46297258138656616,0.4991707503795624,0.514200747013092,0.5088232159614563,0.49060627818107605,0.4453497529029846,0.4184020757675171,0.40573248267173767,0.4173644781112671,0.41574010252952576,0.4281224012374878,0.43735602498054504,0.4191443920135498,0.4217125475406647,0.4331260025501251,0.4216671586036682,0.39000874757766724,0.3381960690021515,0.2473028600215912,0.20398035645484924,0.18458177149295807,0.20929096639156342,0.25777873396873474,0.16829140484333038,0.1400260627269745,0.1394924819469452,0.06976350396871567,0.09442916512489319,0.12736207246780396,0.13775303959846497,0.17540857195854187,0.1725035458803177,0.1441919505596161,0.11686991155147552,0.13265882432460785,0.10458685457706451,0.141210675239563,0.15227627754211426,0.14798986911773682,0.1927802711725235,0.19627706706523895,0.21101325750350952,0.2334744781255722,0.25143691897392273,0.2828899323940277,0.20041333138942719,0.26312485337257385,0.3669400215148926,0.3326956629753113,0.2819335460662842,0.30644458532333374,0.2964878976345062,0.2585143446922302,0.27568331360816956,0.24083364009857178,0.2566339075565338,0.2391369342803955,0.2664873003959656,0.2758913040161133,0.1625603884458542,0.1093110665678978,0.14043071866035461,0.14223061501979828,0.08693034201860428,0.08586098998785019,0.08476606756448746,0.13890020549297333,0.1259612888097763,0.14520736038684845,0.15018799901008606,0.12468720972537994,0.0963931754231453,0.10590853542089462,0.14937281608581543,0.15308640897274017,0.1941511034965515,0.1603337973356247,0.18984845280647278,0.15548263490200043,0.14073921740055084,0.1112358421087265,0.1648453176021576,0.20274056494235992,0.2737422585487366,0.29382219910621643,0.25083765387535095,0.23126710951328278,0.16242621839046478,0.1853206604719162,0.122911237180233,0.12623447179794312,0.12014055997133255,0.11428368091583252,0.12378555536270142,0.09976352006196976,0.11651048064231873,0.18698930740356445,0.172268807888031,0.16021858155727386,0.16335344314575195,0.15439286828041077,0.17346128821372986,0.14786416292190552,0.1533910632133484,0.15868718922138214,0.15132258832454681,0.15340012311935425,0.16760562360286713,0.1250026673078537,0.14414726197719574,0.19205676019191742,0.16116249561309814,0.172951802611351,0.16219614446163177,0.17613834142684937,0.16448712348937988,0.17488232254981995,0.19268669188022614,0.18408289551734924,0.19491368532180786,0.20480114221572876,0.15771916508674622,0.19960440695285797,0.26107659935951233,0.2191263735294342,0.2076619416475296,0.17932434380054474,0.1463853120803833,0.17068850994110107,0.19738538563251495,0.3580661416053772,0.426205039024353,0.38171520829200745,0.39752840995788574,0.43710091710090637,0.43079811334609985,0.5031787157058716,0.5113236308097839,0.5241533517837524,0.5599757432937622,0.5517153739929199,0.5801982283592224,0.5725646018981934,0.6197096109390259,0.6539668440818787,0.6825799345970154,0.6654309630393982,0.6248764991760254,0.610858678817749,0.6599782705307007,0.6189752221107483,0.5947895646095276,0.6213173866271973],\"type\":\"scatter\"},{\"line\":{\"width\":0},\"marker\":{\"color\":\"#444\"},\"mode\":\"lines\",\"name\":\"Upper Bound\",\"showlegend\":false,\"x\":[1.0,2.0,3.0,4.0,5.0,6.0,7.0,8.0,9.0,10.0,11.0,12.0,13.0,14.0,15.0,16.0,17.0,18.0,19.0,20.0,21.0,22.0,23.0,24.0,25.0,26.0,27.0,28.0,29.0,30.0,31.0,32.0,33.0,34.0,35.0,36.0,37.0,38.0,39.0,40.0,41.0,42.0,43.0,44.0,45.0,46.0,47.0,48.0,49.0,50.0,51.0,52.0,53.0,54.0,55.0,56.0,57.0,58.0,59.0,60.0,61.0,62.0,63.0,64.0,65.0,66.0,67.0,68.0,69.0,70.0,71.0,72.0,73.0,74.0,75.0,76.0,77.0,78.0,79.0,80.0,81.0,82.0,83.0,84.0,85.0,86.0,87.0,88.0,89.0,90.0,91.0,92.0,93.0,94.0,95.0,96.0,97.0,98.0,99.0,100.0,101.0,102.0,103.0,104.0,105.0,106.0,107.0,108.0,109.0,110.0,111.0,112.0,113.0,114.0,115.0,116.0,117.0,118.0,119.0,120.0,121.0,122.0,123.0,124.0,125.0,126.0,127.0,128.0,129.0,130.0,131.0,132.0,133.0,134.0,135.0,136.0,137.0,138.0,139.0,140.0,141.0,142.0,143.0,144.0,145.0,146.0,147.0,148.0,149.0,150.0,151.0,152.0,153.0,154.0,155.0,156.0,157.0,158.0,159.0,160.0,161.0,162.0,163.0,164.0,165.0,166.0,167.0,168.0,169.0,170.0,171.0,172.0,173.0,174.0,175.0,176.0,177.0,178.0,179.0,180.0,181.0,182.0,183.0,184.0,185.0,186.0,187.0,188.0,189.0,190.0,191.0,192.0],\"y\":[0.5806523561477661,0.4905977249145508,0.5319391489028931,0.5244780778884888,0.546791672706604,0.5440417528152466,0.5327321290969849,0.4813532829284668,0.4423902928829193,0.44486159086227417,0.35003727674484253,0.361398845911026,0.32794493436813354,0.3253186047077179,0.35626333951950073,0.4094945788383484,0.3996924161911011,0.4222028851509094,0.44554007053375244,0.45307299494743347,0.416742742061615,0.4265640676021576,0.4247135818004608,0.40395230054855347,0.45673123002052307,0.45360133051872253,0.49592071771621704,0.5293340682983398,0.5490058064460754,0.533828854560852,0.5330201983451843,0.5230892896652222,0.5145561695098877,0.5472003817558289,0.5119203329086304,0.49886640906333923,0.4941181540489197,0.47978389263153076,0.49109095335006714,0.4930509626865387,0.5286230444908142,0.5435373783111572,0.5380519032478333,0.5199034214019775,0.47474992275238037,0.4487558603286743,0.43682733178138733,0.4491521418094635,0.44725775718688965,0.4595288038253784,0.4682638943195343,0.4499301314353943,0.45320388674736023,0.46496617794036865,0.4547783136367798,0.42247283458709717,0.3701426088809967,0.28282085061073303,0.24272947013378143,0.2252090871334076,0.25158363580703735,0.2982654273509979,0.20988218486309052,0.18352755904197693,0.18423247337341309,0.1182778850197792,0.14286532998085022,0.1740274280309677,0.18183931708335876,0.21783795952796936,0.21433214843273163,0.18732813000679016,0.1615750640630722,0.1775367259979248,0.15021681785583496,0.1852649450302124,0.19538158178329468,0.191669762134552,0.2346874326467514,0.2381000965833664,0.250541090965271,0.27217772603034973,0.28962570428848267,0.31943976879119873,0.23877549171447754,0.3006565570831299,0.40250393748283386,0.36626484990119934,0.31571826338768005,0.34064120054244995,0.3311053514480591,0.2941870093345642,0.31113338470458984,0.27718740701675415,0.2927764058113098,0.27582862973213196,0.30294811725616455,0.31204551458358765,0.20062075555324554,0.15200136601924896,0.1832903027534485,0.18507720530033112,0.1324617564678192,0.13229048252105713,0.13201060891151428,0.18282580375671387,0.16953440010547638,0.1869114637374878,0.191869854927063,0.1667577624320984,0.14011339843273163,0.14872382581233978,0.19120776653289795,0.19320712983608246,0.23235787451267242,0.19859614968299866,0.22746755182743073,0.19396889209747314,0.1808004081249237,0.1532423198223114,0.20746800303459167,0.24299299716949463,0.31252986192703247,0.3298475742340088,0.28702887892723083,0.26816117763519287,0.20183056592941284,0.224986732006073,0.16520251333713531,0.16959646344184875,0.1638771891593933,0.15744218230247498,0.1666208803653717,0.14320358633995056,0.15897303819656372,0.22584940493106842,0.2106139212846756,0.19861562550067902,0.20176735520362854,0.1939302384853363,0.21345488727092743,0.18772126734256744,0.19495108723640442,0.19919493794441223,0.1921706199645996,0.1944119781255722,0.20878420770168304,0.16767576336860657,0.186356782913208,0.23333074152469635,0.2017984837293625,0.2136339247226715,0.20248234272003174,0.21638062596321106,0.20492708683013916,0.21470728516578674,0.23222528398036957,0.22278523445129395,0.23307877779006958,0.24260437488555908,0.19713065028190613,0.23702239990234375,0.29473501443862915,0.25441378355026245,0.2448606789112091,0.2192276567220688,0.1894768923521042,0.2148105651140213,0.22628691792488098,0.38510918617248535,0.44744086265563965,0.40449386835098267,0.42625075578689575,0.46727991104125977,0.46770787239074707,0.5436177253723145,0.5527350306510925,0.5707933902740479,0.6009071469306946,0.6010117530822754,0.627837061882019,0.6281486749649048,0.6631494164466858,0.6985142827033997,0.7252822518348694,0.709685206413269,0.6734992265701294,0.6698421239852905,0.7006576657295227,0.6654922366142273,0.6434146165847778,0.669716477394104],\"type\":\"scatter\"},{\"fill\":\"tonexty\",\"fillcolor\":\"rgba(68, 68, 68, 0.3)\",\"line\":{\"width\":0},\"marker\":{\"color\":\"#444\"},\"mode\":\"lines\",\"name\":\"Lower Bound\",\"showlegend\":false,\"x\":[1.0,2.0,3.0,4.0,5.0,6.0,7.0,8.0,9.0,10.0,11.0,12.0,13.0,14.0,15.0,16.0,17.0,18.0,19.0,20.0,21.0,22.0,23.0,24.0,25.0,26.0,27.0,28.0,29.0,30.0,31.0,32.0,33.0,34.0,35.0,36.0,37.0,38.0,39.0,40.0,41.0,42.0,43.0,44.0,45.0,46.0,47.0,48.0,49.0,50.0,51.0,52.0,53.0,54.0,55.0,56.0,57.0,58.0,59.0,60.0,61.0,62.0,63.0,64.0,65.0,66.0,67.0,68.0,69.0,70.0,71.0,72.0,73.0,74.0,75.0,76.0,77.0,78.0,79.0,80.0,81.0,82.0,83.0,84.0,85.0,86.0,87.0,88.0,89.0,90.0,91.0,92.0,93.0,94.0,95.0,96.0,97.0,98.0,99.0,100.0,101.0,102.0,103.0,104.0,105.0,106.0,107.0,108.0,109.0,110.0,111.0,112.0,113.0,114.0,115.0,116.0,117.0,118.0,119.0,120.0,121.0,122.0,123.0,124.0,125.0,126.0,127.0,128.0,129.0,130.0,131.0,132.0,133.0,134.0,135.0,136.0,137.0,138.0,139.0,140.0,141.0,142.0,143.0,144.0,145.0,146.0,147.0,148.0,149.0,150.0,151.0,152.0,153.0,154.0,155.0,156.0,157.0,158.0,159.0,160.0,161.0,162.0,163.0,164.0,165.0,166.0,167.0,168.0,169.0,170.0,171.0,172.0,173.0,174.0,175.0,176.0,177.0,178.0,179.0,180.0,181.0,182.0,183.0,184.0,185.0,186.0,187.0,188.0,189.0,190.0,191.0,192.0],\"y\":[0.2932153046131134,0.24019372463226318,0.278570294380188,0.27392157912254333,0.30656927824020386,0.31856510043144226,0.3224647343158722,0.2836439609527588,0.2497909963130951,0.2642032504081726,0.17388981580734253,0.19394931197166443,0.16370144486427307,0.17063352465629578,0.22246849536895752,0.289651095867157,0.2956008315086365,0.32552605867385864,0.3575611710548401,0.36969539523124695,0.33591121435165405,0.34591469168663025,0.3454972803592682,0.32617706060409546,0.3807090222835541,0.38139548897743225,0.4274764657020569,0.46393534541130066,0.48663264513015747,0.47269105911254883,0.47262126207351685,0.46258512139320374,0.4540942907333374,0.48690733313560486,0.45658841729164124,0.4434262216091156,0.43729376792907715,0.4223884344100952,0.43288928270339966,0.43289420008659363,0.46971845626831055,0.48486411571502686,0.47959452867507935,0.4613091051578522,0.41594958305358887,0.38804829120635986,0.374637633562088,0.3855768144130707,0.38422244787216187,0.39671599864959717,0.4064481556415558,0.3883586525917053,0.3902212083339691,0.4012858271598816,0.38855600357055664,0.3575446605682373,0.3062495291233063,0.21178486943244934,0.16523124277591705,0.14395445585250854,0.16699828207492828,0.21729202568531036,0.12670062482357025,0.09652457386255264,0.0947524905204773,0.02124912291765213,0.045993007719516754,0.0806967169046402,0.09366676211357117,0.13297918438911438,0.13067494332790375,0.10105577856302261,0.07216475903987885,0.0877809152007103,0.05895688757300377,0.09715641289949417,0.10917096585035324,0.10430996865034103,0.1508731096982956,0.1544540375471115,0.17148542404174805,0.19477124512195587,0.2132481187582016,0.2463400959968567,0.16205117106437683,0.22559314966201782,0.3313761055469513,0.2991264760494232,0.2481488287448883,0.27224797010421753,0.26187044382095337,0.22284168004989624,0.24023322761058807,0.2044798582792282,0.220491424202919,0.20244525372982025,0.2300264984369278,0.2397371083498001,0.12450002133846283,0.06662076711654663,0.09757113456726074,0.09938402473926544,0.04139893501996994,0.03943150117993355,0.037521518766880035,0.09497459977865219,0.08238817751407623,0.1035032644867897,0.10850614309310913,0.0826166495680809,0.05267295613884926,0.06309324502944946,0.10753786563873291,0.11296568810939789,0.1559443324804306,0.12207144498825073,0.15222935378551483,0.11699637770652771,0.10067802667617798,0.0692293643951416,0.12222263216972351,0.16248813271522522,0.23495464026927948,0.2577968239784241,0.21464642882347107,0.1943730264902115,0.12302186340093613,0.1456545889377594,0.08061996102333069,0.08287248015403748,0.07640393078327179,0.07112518697977066,0.08095022290945053,0.056323446333408356,0.07404791563749313,0.14812920987606049,0.1339236944913864,0.12182153761386871,0.12493953108787537,0.11485549807548523,0.1334676891565323,0.10800705850124359,0.11183103173971176,0.11817944049835205,0.11047455668449402,0.11238826811313629,0.1264270395040512,0.08232957124710083,0.10193774849176407,0.1507827788591385,0.1205265074968338,0.13226968050003052,0.12190993875265121,0.13589605689048767,0.1240471601486206,0.13505735993385315,0.1531480997800827,0.14538055658340454,0.15674859285354614,0.16699790954589844,0.1183076873421669,0.1621864140033722,0.2274181842803955,0.18383896350860596,0.1704632043838501,0.1394210308790207,0.10329373180866241,0.12656645476818085,0.16848385334014893,0.33102309703826904,0.4049692153930664,0.3589365482330322,0.36880606412887573,0.406921923160553,0.39388835430145264,0.4627397060394287,0.46991226077079773,0.4775133430957794,0.5190443396568298,0.5024189949035645,0.5325593948364258,0.5169805288314819,0.576269805431366,0.6094194054603577,0.6398776173591614,0.6211767196655273,0.5762537717819214,0.5518752336502075,0.6192988753318787,0.5724582076072693,0.5461645126342773,0.5729182958602905],\"type\":\"scatter\"}],                        {\"template\":{\"data\":{\"bar\":[{\"error_x\":{\"color\":\"#2a3f5f\"},\"error_y\":{\"color\":\"#2a3f5f\"},\"marker\":{\"line\":{\"color\":\"#E5ECF6\",\"width\":0.5},\"pattern\":{\"fillmode\":\"overlay\",\"size\":10,\"solidity\":0.2}},\"type\":\"bar\"}],\"barpolar\":[{\"marker\":{\"line\":{\"color\":\"#E5ECF6\",\"width\":0.5},\"pattern\":{\"fillmode\":\"overlay\",\"size\":10,\"solidity\":0.2}},\"type\":\"barpolar\"}],\"carpet\":[{\"aaxis\":{\"endlinecolor\":\"#2a3f5f\",\"gridcolor\":\"white\",\"linecolor\":\"white\",\"minorgridcolor\":\"white\",\"startlinecolor\":\"#2a3f5f\"},\"baxis\":{\"endlinecolor\":\"#2a3f5f\",\"gridcolor\":\"white\",\"linecolor\":\"white\",\"minorgridcolor\":\"white\",\"startlinecolor\":\"#2a3f5f\"},\"type\":\"carpet\"}],\"choropleth\":[{\"colorbar\":{\"outlinewidth\":0,\"ticks\":\"\"},\"type\":\"choropleth\"}],\"contour\":[{\"colorbar\":{\"outlinewidth\":0,\"ticks\":\"\"},\"colorscale\":[[0.0,\"#0d0887\"],[0.1111111111111111,\"#46039f\"],[0.2222222222222222,\"#7201a8\"],[0.3333333333333333,\"#9c179e\"],[0.4444444444444444,\"#bd3786\"],[0.5555555555555556,\"#d8576b\"],[0.6666666666666666,\"#ed7953\"],[0.7777777777777778,\"#fb9f3a\"],[0.8888888888888888,\"#fdca26\"],[1.0,\"#f0f921\"]],\"type\":\"contour\"}],\"contourcarpet\":[{\"colorbar\":{\"outlinewidth\":0,\"ticks\":\"\"},\"type\":\"contourcarpet\"}],\"heatmap\":[{\"colorbar\":{\"outlinewidth\":0,\"ticks\":\"\"},\"colorscale\":[[0.0,\"#0d0887\"],[0.1111111111111111,\"#46039f\"],[0.2222222222222222,\"#7201a8\"],[0.3333333333333333,\"#9c179e\"],[0.4444444444444444,\"#bd3786\"],[0.5555555555555556,\"#d8576b\"],[0.6666666666666666,\"#ed7953\"],[0.7777777777777778,\"#fb9f3a\"],[0.8888888888888888,\"#fdca26\"],[1.0,\"#f0f921\"]],\"type\":\"heatmap\"}],\"heatmapgl\":[{\"colorbar\":{\"outlinewidth\":0,\"ticks\":\"\"},\"colorscale\":[[0.0,\"#0d0887\"],[0.1111111111111111,\"#46039f\"],[0.2222222222222222,\"#7201a8\"],[0.3333333333333333,\"#9c179e\"],[0.4444444444444444,\"#bd3786\"],[0.5555555555555556,\"#d8576b\"],[0.6666666666666666,\"#ed7953\"],[0.7777777777777778,\"#fb9f3a\"],[0.8888888888888888,\"#fdca26\"],[1.0,\"#f0f921\"]],\"type\":\"heatmapgl\"}],\"histogram\":[{\"marker\":{\"pattern\":{\"fillmode\":\"overlay\",\"size\":10,\"solidity\":0.2}},\"type\":\"histogram\"}],\"histogram2d\":[{\"colorbar\":{\"outlinewidth\":0,\"ticks\":\"\"},\"colorscale\":[[0.0,\"#0d0887\"],[0.1111111111111111,\"#46039f\"],[0.2222222222222222,\"#7201a8\"],[0.3333333333333333,\"#9c179e\"],[0.4444444444444444,\"#bd3786\"],[0.5555555555555556,\"#d8576b\"],[0.6666666666666666,\"#ed7953\"],[0.7777777777777778,\"#fb9f3a\"],[0.8888888888888888,\"#fdca26\"],[1.0,\"#f0f921\"]],\"type\":\"histogram2d\"}],\"histogram2dcontour\":[{\"colorbar\":{\"outlinewidth\":0,\"ticks\":\"\"},\"colorscale\":[[0.0,\"#0d0887\"],[0.1111111111111111,\"#46039f\"],[0.2222222222222222,\"#7201a8\"],[0.3333333333333333,\"#9c179e\"],[0.4444444444444444,\"#bd3786\"],[0.5555555555555556,\"#d8576b\"],[0.6666666666666666,\"#ed7953\"],[0.7777777777777778,\"#fb9f3a\"],[0.8888888888888888,\"#fdca26\"],[1.0,\"#f0f921\"]],\"type\":\"histogram2dcontour\"}],\"mesh3d\":[{\"colorbar\":{\"outlinewidth\":0,\"ticks\":\"\"},\"type\":\"mesh3d\"}],\"parcoords\":[{\"line\":{\"colorbar\":{\"outlinewidth\":0,\"ticks\":\"\"}},\"type\":\"parcoords\"}],\"pie\":[{\"automargin\":true,\"type\":\"pie\"}],\"scatter\":[{\"marker\":{\"colorbar\":{\"outlinewidth\":0,\"ticks\":\"\"}},\"type\":\"scatter\"}],\"scatter3d\":[{\"line\":{\"colorbar\":{\"outlinewidth\":0,\"ticks\":\"\"}},\"marker\":{\"colorbar\":{\"outlinewidth\":0,\"ticks\":\"\"}},\"type\":\"scatter3d\"}],\"scattercarpet\":[{\"marker\":{\"colorbar\":{\"outlinewidth\":0,\"ticks\":\"\"}},\"type\":\"scattercarpet\"}],\"scattergeo\":[{\"marker\":{\"colorbar\":{\"outlinewidth\":0,\"ticks\":\"\"}},\"type\":\"scattergeo\"}],\"scattergl\":[{\"marker\":{\"colorbar\":{\"outlinewidth\":0,\"ticks\":\"\"}},\"type\":\"scattergl\"}],\"scattermapbox\":[{\"marker\":{\"colorbar\":{\"outlinewidth\":0,\"ticks\":\"\"}},\"type\":\"scattermapbox\"}],\"scatterpolar\":[{\"marker\":{\"colorbar\":{\"outlinewidth\":0,\"ticks\":\"\"}},\"type\":\"scatterpolar\"}],\"scatterpolargl\":[{\"marker\":{\"colorbar\":{\"outlinewidth\":0,\"ticks\":\"\"}},\"type\":\"scatterpolargl\"}],\"scatterternary\":[{\"marker\":{\"colorbar\":{\"outlinewidth\":0,\"ticks\":\"\"}},\"type\":\"scatterternary\"}],\"surface\":[{\"colorbar\":{\"outlinewidth\":0,\"ticks\":\"\"},\"colorscale\":[[0.0,\"#0d0887\"],[0.1111111111111111,\"#46039f\"],[0.2222222222222222,\"#7201a8\"],[0.3333333333333333,\"#9c179e\"],[0.4444444444444444,\"#bd3786\"],[0.5555555555555556,\"#d8576b\"],[0.6666666666666666,\"#ed7953\"],[0.7777777777777778,\"#fb9f3a\"],[0.8888888888888888,\"#fdca26\"],[1.0,\"#f0f921\"]],\"type\":\"surface\"}],\"table\":[{\"cells\":{\"fill\":{\"color\":\"#EBF0F8\"},\"line\":{\"color\":\"white\"}},\"header\":{\"fill\":{\"color\":\"#C8D4E3\"},\"line\":{\"color\":\"white\"}},\"type\":\"table\"}]},\"layout\":{\"annotationdefaults\":{\"arrowcolor\":\"#2a3f5f\",\"arrowhead\":0,\"arrowwidth\":1},\"autotypenumbers\":\"strict\",\"coloraxis\":{\"colorbar\":{\"outlinewidth\":0,\"ticks\":\"\"}},\"colorscale\":{\"diverging\":[[0,\"#8e0152\"],[0.1,\"#c51b7d\"],[0.2,\"#de77ae\"],[0.3,\"#f1b6da\"],[0.4,\"#fde0ef\"],[0.5,\"#f7f7f7\"],[0.6,\"#e6f5d0\"],[0.7,\"#b8e186\"],[0.8,\"#7fbc41\"],[0.9,\"#4d9221\"],[1,\"#276419\"]],\"sequential\":[[0.0,\"#0d0887\"],[0.1111111111111111,\"#46039f\"],[0.2222222222222222,\"#7201a8\"],[0.3333333333333333,\"#9c179e\"],[0.4444444444444444,\"#bd3786\"],[0.5555555555555556,\"#d8576b\"],[0.6666666666666666,\"#ed7953\"],[0.7777777777777778,\"#fb9f3a\"],[0.8888888888888888,\"#fdca26\"],[1.0,\"#f0f921\"]],\"sequentialminus\":[[0.0,\"#0d0887\"],[0.1111111111111111,\"#46039f\"],[0.2222222222222222,\"#7201a8\"],[0.3333333333333333,\"#9c179e\"],[0.4444444444444444,\"#bd3786\"],[0.5555555555555556,\"#d8576b\"],[0.6666666666666666,\"#ed7953\"],[0.7777777777777778,\"#fb9f3a\"],[0.8888888888888888,\"#fdca26\"],[1.0,\"#f0f921\"]]},\"colorway\":[\"#636efa\",\"#EF553B\",\"#00cc96\",\"#ab63fa\",\"#FFA15A\",\"#19d3f3\",\"#FF6692\",\"#B6E880\",\"#FF97FF\",\"#FECB52\"],\"font\":{\"color\":\"#2a3f5f\"},\"geo\":{\"bgcolor\":\"white\",\"lakecolor\":\"white\",\"landcolor\":\"#E5ECF6\",\"showlakes\":true,\"showland\":true,\"subunitcolor\":\"white\"},\"hoverlabel\":{\"align\":\"left\"},\"hovermode\":\"closest\",\"mapbox\":{\"style\":\"light\"},\"paper_bgcolor\":\"white\",\"plot_bgcolor\":\"#E5ECF6\",\"polar\":{\"angularaxis\":{\"gridcolor\":\"white\",\"linecolor\":\"white\",\"ticks\":\"\"},\"bgcolor\":\"#E5ECF6\",\"radialaxis\":{\"gridcolor\":\"white\",\"linecolor\":\"white\",\"ticks\":\"\"}},\"scene\":{\"xaxis\":{\"backgroundcolor\":\"#E5ECF6\",\"gridcolor\":\"white\",\"gridwidth\":2,\"linecolor\":\"white\",\"showbackground\":true,\"ticks\":\"\",\"zerolinecolor\":\"white\"},\"yaxis\":{\"backgroundcolor\":\"#E5ECF6\",\"gridcolor\":\"white\",\"gridwidth\":2,\"linecolor\":\"white\",\"showbackground\":true,\"ticks\":\"\",\"zerolinecolor\":\"white\"},\"zaxis\":{\"backgroundcolor\":\"#E5ECF6\",\"gridcolor\":\"white\",\"gridwidth\":2,\"linecolor\":\"white\",\"showbackground\":true,\"ticks\":\"\",\"zerolinecolor\":\"white\"}},\"shapedefaults\":{\"line\":{\"color\":\"#2a3f5f\"}},\"ternary\":{\"aaxis\":{\"gridcolor\":\"white\",\"linecolor\":\"white\",\"ticks\":\"\"},\"baxis\":{\"gridcolor\":\"white\",\"linecolor\":\"white\",\"ticks\":\"\"},\"bgcolor\":\"#E5ECF6\",\"caxis\":{\"gridcolor\":\"white\",\"linecolor\":\"white\",\"ticks\":\"\"}},\"title\":{\"x\":0.05},\"xaxis\":{\"automargin\":true,\"gridcolor\":\"white\",\"linecolor\":\"white\",\"ticks\":\"\",\"title\":{\"standoff\":15},\"zerolinecolor\":\"white\",\"zerolinewidth\":2},\"yaxis\":{\"automargin\":true,\"gridcolor\":\"white\",\"linecolor\":\"white\",\"ticks\":\"\",\"title\":{\"standoff\":15},\"zerolinecolor\":\"white\",\"zerolinewidth\":2}}},\"shapes\":[{\"type\":\"line\",\"x0\":168,\"x1\":168,\"xref\":\"x\",\"y0\":0,\"y1\":1,\"yref\":\"y domain\"}],\"xaxis\":{\"title\":{\"text\":\"Time Samples\"}},\"yaxis\":{\"title\":{\"text\":\"Normalized Stock Opening Price\"}}},                        {\"responsive\": true}                    ).then(function(){\n",
              "                            \n",
              "var gd = document.getElementById('3c0ce5c3-eec9-4e72-80ad-7b8305772f53');\n",
              "var x = new MutationObserver(function (mutations, observer) {{\n",
              "        var display = window.getComputedStyle(gd).display;\n",
              "        if (!display || display === 'none') {{\n",
              "            console.log([gd, 'removed!']);\n",
              "            Plotly.purge(gd);\n",
              "            observer.disconnect();\n",
              "        }}\n",
              "}});\n",
              "\n",
              "// Listen for the removal of the full notebook cells\n",
              "var notebookContainer = gd.closest('#notebook-container');\n",
              "if (notebookContainer) {{\n",
              "    x.observe(notebookContainer, {childList: true});\n",
              "}}\n",
              "\n",
              "// Listen for the clearing of the current output cell\n",
              "var outputEl = gd.closest('.output');\n",
              "if (outputEl) {{\n",
              "    x.observe(outputEl, {childList: true});\n",
              "}}\n",
              "\n",
              "                        })                };                            </script>        </div>\n",
              "</body>\n",
              "</html>"
            ]
          },
          "metadata": {}
        },
        {
          "output_type": "display_data",
          "data": {
            "text/html": [
              "<html>\n",
              "<head><meta charset=\"utf-8\" /></head>\n",
              "<body>\n",
              "    <div>            <script src=\"https://cdnjs.cloudflare.com/ajax/libs/mathjax/2.7.5/MathJax.js?config=TeX-AMS-MML_SVG\"></script><script type=\"text/javascript\">if (window.MathJax) {MathJax.Hub.Config({SVG: {font: \"STIX-Web\"}});}</script>                <script type=\"text/javascript\">window.PlotlyConfig = {MathJaxConfig: 'local'};</script>\n",
              "        <script src=\"https://cdn.plot.ly/plotly-2.8.3.min.js\"></script>                <div id=\"817cba66-a746-4a38-b13a-1784a435db9b\" class=\"plotly-graph-div\" style=\"height:525px; width:100%;\"></div>            <script type=\"text/javascript\">                                    window.PLOTLYENV=window.PLOTLYENV || {};                                    if (document.getElementById(\"817cba66-a746-4a38-b13a-1784a435db9b\")) {                    Plotly.newPlot(                        \"817cba66-a746-4a38-b13a-1784a435db9b\",                        [{\"mode\":\"lines\",\"name\":\"Actual\",\"x\":[1.0,2.0,3.0,4.0,5.0,6.0,7.0,8.0,9.0,10.0,11.0,12.0,13.0,14.0,15.0,16.0,17.0,18.0,19.0,20.0,21.0,22.0,23.0,24.0,25.0,26.0,27.0,28.0,29.0,30.0,31.0,32.0,33.0,34.0,35.0,36.0,37.0,38.0,39.0,40.0,41.0,42.0,43.0,44.0,45.0,46.0,47.0,48.0,49.0,50.0,51.0,52.0,53.0,54.0,55.0,56.0,57.0,58.0,59.0,60.0,61.0,62.0,63.0,64.0,65.0,66.0,67.0,68.0,69.0,70.0,71.0,72.0,73.0,74.0,75.0,76.0,77.0,78.0,79.0,80.0,81.0,82.0,83.0,84.0,85.0,86.0,87.0,88.0,89.0,90.0,91.0,92.0,93.0,94.0,95.0,96.0,97.0,98.0,99.0,100.0,101.0,102.0,103.0,104.0,105.0,106.0,107.0,108.0,109.0,110.0,111.0,112.0,113.0,114.0,115.0,116.0,117.0,118.0,119.0,120.0,121.0,122.0,123.0,124.0,125.0,126.0,127.0,128.0,129.0,130.0,131.0,132.0,133.0,134.0,135.0,136.0,137.0,138.0,139.0,140.0,141.0,142.0,143.0,144.0,145.0,146.0,147.0,148.0,149.0,150.0,151.0,152.0,153.0,154.0,155.0,156.0,157.0,158.0,159.0,160.0,161.0,162.0,163.0,164.0,165.0,166.0,167.0,168.0,169.0,170.0,171.0,172.0,173.0,174.0,175.0,176.0,177.0,178.0,179.0,180.0,181.0,182.0,183.0,184.0,185.0,186.0,187.0,188.0,189.0,190.0,191.0,192.0],\"y\":[-1.3634223937988281,-1.2925699949264526,-1.360716700553894,-1.350828766822815,-1.3409926891326904,-1.332983136177063,-1.474019169807434,-1.4616155624389648,-1.5078262090682983,-1.5702552795410156,-1.5874626636505127,-1.617185115814209,-1.6068828105926514,-1.5803581476211548,-1.5783332586288452,-1.6579127311706543,-1.6327452659606934,-1.6770119667053223,-1.68663489818573,-1.8038426637649536,-1.85824716091156,-1.8500438928604126,-1.8986092805862427,-1.8700286149978638,-1.859421968460083,-1.930070161819458,-1.9106473922729492,-1.9558711051940918,-1.9325121641159058,-2.0445261001586914,-2.0111069679260254,-2.0354700088500977,-1.8653072118759155,-1.855899691581726,-1.9682828187942505,-1.9484632015228271,-1.941084384918213,-1.9720224142074585,-1.8084120750427246,-1.859421968460083,-1.9022126197814941,-1.87357759475708,-1.9118554592132568,-1.9645507335662842,-1.9996758699417114,-1.9558711051940918,-1.9106473922729492,-1.9179073572158813,-1.9010107517242432,-1.823339581489563,-2.023890256881714,-2.0667028427124023,-2.1664083003997803,-1.9971449375152588,-1.992093563079834,-2.138934850692749,-2.2484302520751953,-2.2340307235717773,-2.35244083404541,-2.310143232345581,-2.308650016784668,-2.3863556385040283,-2.3616297245025635,-2.3941495418548584,-2.4256532192230225,-2.4400038719177246,-2.329663038253784,-2.3251404762268066,-2.3724071979522705,-2.4129881858825684,-2.5301673412323,-2.6497654914855957,-2.6749892234802246,-2.756542682647705,-2.689556360244751,-2.631953716278076,-2.7395708560943604,-2.707925319671631,-2.6178247928619385,-2.624876022338867,-2.591616153717041,-2.4114112854003906,-2.4098353385925293,-2.380143642425537,-2.3341965675354004,-2.2600300312042236,-2.405115842819214,-2.355498790740967,-2.3600950241088867,-2.460928201675415,-2.520118474960327,-2.503488779067993,-2.5301673412323,-2.565767765045166,-2.61080002784729,-2.5402703285217285,-2.612553834915161,-2.7005562782287598,-2.745211124420166,-2.7813313007354736,-2.7794127464294434,-2.814248561859131,-2.892017126083374,-2.871767520904541,-2.818159341812134,-2.824040651321411,-2.8557236194610596,-2.789024829864502,-2.8103458881378174,-2.7546494007110596,-2.818159341812134,-2.80450701713562,-2.8537275791168213,-2.7909531593322754,-2.8879497051239014,-2.820117712020874,-2.851733922958374,-2.6497654914855957,-2.6786205768585205,-2.6301817893981934,-2.589881658554077,-2.5234620571136475,-2.600311756134033,-2.5743443965911865,-2.543649911880493,-2.5117852687835693,-2.626642942428589,-2.6840803623199463,-2.656937837600708,-2.6822588443756104,-2.706080436706543,-2.820117712020874,-2.952005624771118,-2.9667770862579346,-3.005302906036377,-2.9795315265655518,-2.939436197280884,-2.9773998260498047,-2.9646596908569336,-2.98166561126709,-3.0803020000457764,-3.035823345184326,-2.9731435775756836,-3.0226824283599854,-3.0118014812469482,-2.9688968658447266,-2.914546489715576,-2.960432291030884,-2.8299407958984375,-2.8597216606140137,-2.7909531593322754,-2.8083975315093994,-2.7153236865997314,-2.612553834915161,-2.640838623046875,-2.5777859687805176,-2.5674800872802734,-2.6160662174224854,-2.6515560150146484,-2.640838623046875,-2.5674800872802734,-2.6497654914855957,-2.6587352752685547,-2.6822588443756104,-2.7023959159851074,-2.92280650138855,-2.929025411605835,-2.9731435775756836,-3.0870654582977295,-3.0490567684173584,-3.046844720840454,-3.040224075317383,-3.108645439147949,-3.227715015411377,-3.3174521923065186,-3.398315906524658,-3.568376302719116,-3.50807785987854,-3.494001865386963,-3.691988945007324,-3.6795647144317627,-3.7013611793518066,-3.691988945007324,-3.7521517276763916,-3.7170863151550293,-3.9028313159942627,-3.9738845825195312,-3.9666571617126465,-3.9380221366882324,-3.9451401233673096,-3.888937473297119,-3.9168286323547363],\"type\":\"scatter\"},{\"mode\":\"lines\",\"name\":\"Predicted\",\"x\":[1.0,2.0,3.0,4.0,5.0,6.0,7.0,8.0,9.0,10.0,11.0,12.0,13.0,14.0,15.0,16.0,17.0,18.0,19.0,20.0,21.0,22.0,23.0,24.0,25.0,26.0,27.0,28.0,29.0,30.0,31.0,32.0,33.0,34.0,35.0,36.0,37.0,38.0,39.0,40.0,41.0,42.0,43.0,44.0,45.0,46.0,47.0,48.0,49.0,50.0,51.0,52.0,53.0,54.0,55.0,56.0,57.0,58.0,59.0,60.0,61.0,62.0,63.0,64.0,65.0,66.0,67.0,68.0,69.0,70.0,71.0,72.0,73.0,74.0,75.0,76.0,77.0,78.0,79.0,80.0,81.0,82.0,83.0,84.0,85.0,86.0,87.0,88.0,89.0,90.0,91.0,92.0,93.0,94.0,95.0,96.0,97.0,98.0,99.0,100.0,101.0,102.0,103.0,104.0,105.0,106.0,107.0,108.0,109.0,110.0,111.0,112.0,113.0,114.0,115.0,116.0,117.0,118.0,119.0,120.0,121.0,122.0,123.0,124.0,125.0,126.0,127.0,128.0,129.0,130.0,131.0,132.0,133.0,134.0,135.0,136.0,137.0,138.0,139.0,140.0,141.0,142.0,143.0,144.0,145.0,146.0,147.0,148.0,149.0,150.0,151.0,152.0,153.0,154.0,155.0,156.0,157.0,158.0,159.0,160.0,161.0,162.0,163.0,164.0,165.0,166.0,167.0,168.0,169.0,170.0,171.0,172.0,173.0,174.0,175.0,176.0,177.0,178.0,179.0,180.0,181.0,182.0,183.0,184.0,185.0,186.0,187.0,188.0,189.0,190.0,191.0,192.0],\"y\":[-0.16664227843284607,-0.16977950930595398,-0.16993047297000885,-0.1699698269367218,-0.16991324722766876,-0.16990315914154053,-0.16993191838264465,-0.16992270946502686,-0.16993726789951324,-0.16992004215717316,-0.16986048221588135,-0.16977542638778687,-0.16972677409648895,-0.1697182059288025,-0.169392928481102,-0.16969767212867737,-0.16948415338993073,-0.16956496238708496,-0.16944020986557007,-0.16954545676708221,-0.1691945642232895,-0.16910701990127563,-0.16927610337734222,-0.16918066143989563,-0.16933296620845795,-0.16952897608280182,-0.16940319538116455,-0.16959603130817413,-0.1696087121963501,-0.16972114145755768,-0.16952714323997498,-0.16968031227588654,-0.16963526606559753,-0.16991211473941803,-0.16961358487606049,-0.16939572989940643,-0.16943928599357605,-0.16948361694812775,-0.16944321990013123,-0.16977109014987946,-0.16961891949176788,-0.1695663183927536,-0.16964751482009888,-0.16960227489471436,-0.16940966248512268,-0.16923584043979645,-0.16925935447216034,-0.16932471096515656,-0.16931717097759247,-0.16930434107780457,-0.1694815456867218,-0.1689789891242981,-0.16888193786144257,-0.16882334649562836,-0.16934700310230255,-0.16949130594730377,-0.1686696857213974,-0.1684916913509369,-0.16850467026233673,-0.16821466386318207,-0.1685047745704651,-0.16881981492042542,-0.16879460215568542,-0.16870014369487762,-0.16855068504810333,-0.16869805753231049,-0.16848045587539673,-0.16903433203697205,-0.1690460443496704,-0.16881392896175385,-0.16883115470409393,-0.16853280365467072,-0.1684703528881073,-0.16847743093967438,-0.168646901845932,-0.16886404156684875,-0.16919350624084473,-0.16902603209018707,-0.16854552924633026,-0.16912329196929932,-0.16907915472984314,-0.16909340023994446,-0.16948796808719635,-0.16937202215194702,-0.16937677562236786,-0.16917677223682404,-0.1694936901330948,-0.1694568544626236,-0.16938388347625732,-0.16913236677646637,-0.16899003088474274,-0.16887708008289337,-0.16891267895698547,-0.16892549395561218,-0.16875067353248596,-0.1688222736120224,-0.16897006332874298,-0.1691349595785141,-0.16819319128990173,-0.16782866418361664,-0.16786175966262817,-0.16826499998569489,-0.16828653216362,-0.16806036233901978,-0.16834713518619537,-0.1685871183872223,-0.16870306432247162,-0.168636754155159,-0.1687885969877243,-0.1686730980873108,-0.1688261479139328,-0.16850487887859344,-0.16867376863956451,-0.1687420755624771,-0.1688728928565979,-0.168758824467659,-0.1688157320022583,-0.16890083253383636,-0.16912084817886353,-0.1688653528690338,-0.16909441351890564,-0.16828200221061707,-0.168836310505867,-0.16894251108169556,-0.16900409758090973,-0.16893857717514038,-0.16896557807922363,-0.16860342025756836,-0.16876231133937836,-0.16865335404872894,-0.1686796247959137,-0.16867507994174957,-0.16849385201931,-0.16830326616764069,-0.16839638352394104,-0.16858553886413574,-0.16888752579689026,-0.16888131201267242,-0.16879203915596008,-0.16876167058944702,-0.1690087616443634,-0.16803155839443207,-0.16816596686840057,-0.16851282119750977,-0.1684887409210205,-0.16846178472042084,-0.1688399761915207,-0.1688353270292282,-0.16864685714244843,-0.1689402461051941,-0.1688481718301773,-0.16894540190696716,-0.1688840687274933,-0.16899482905864716,-0.16906654834747314,-0.16888289153575897,-0.16892912983894348,-0.16899575293064117,-0.16876442730426788,-0.1687656193971634,-0.16877225041389465,-0.16910409927368164,-0.16903401911258698,-0.16906899213790894,-0.16898377239704132,-0.16890689730644226,-0.16841138899326324,-0.16850005090236664,-0.16283677518367767,0.30158767104148865,0.6175214648246765,0.8109309077262878,0.778290331363678,0.8634522557258606,0.9993134140968323,0.9935521483421326,0.9182648658752441,0.8285897970199585,0.8337104320526123,0.810248851776123,0.8248615860939026,0.8868706226348877,0.8965921998023987,0.9500084519386292,0.9241704940795898,0.7900941371917725,0.8097242116928101,0.8445548415184021,0.8162567615509033,0.6852119565010071,0.6593806743621826,0.7423111200332642],\"type\":\"scatter\"},{\"line\":{\"width\":0},\"marker\":{\"color\":\"#444\"},\"mode\":\"lines\",\"name\":\"Upper Bound\",\"showlegend\":false,\"x\":[1.0,2.0,3.0,4.0,5.0,6.0,7.0,8.0,9.0,10.0,11.0,12.0,13.0,14.0,15.0,16.0,17.0,18.0,19.0,20.0,21.0,22.0,23.0,24.0,25.0,26.0,27.0,28.0,29.0,30.0,31.0,32.0,33.0,34.0,35.0,36.0,37.0,38.0,39.0,40.0,41.0,42.0,43.0,44.0,45.0,46.0,47.0,48.0,49.0,50.0,51.0,52.0,53.0,54.0,55.0,56.0,57.0,58.0,59.0,60.0,61.0,62.0,63.0,64.0,65.0,66.0,67.0,68.0,69.0,70.0,71.0,72.0,73.0,74.0,75.0,76.0,77.0,78.0,79.0,80.0,81.0,82.0,83.0,84.0,85.0,86.0,87.0,88.0,89.0,90.0,91.0,92.0,93.0,94.0,95.0,96.0,97.0,98.0,99.0,100.0,101.0,102.0,103.0,104.0,105.0,106.0,107.0,108.0,109.0,110.0,111.0,112.0,113.0,114.0,115.0,116.0,117.0,118.0,119.0,120.0,121.0,122.0,123.0,124.0,125.0,126.0,127.0,128.0,129.0,130.0,131.0,132.0,133.0,134.0,135.0,136.0,137.0,138.0,139.0,140.0,141.0,142.0,143.0,144.0,145.0,146.0,147.0,148.0,149.0,150.0,151.0,152.0,153.0,154.0,155.0,156.0,157.0,158.0,159.0,160.0,161.0,162.0,163.0,164.0,165.0,166.0,167.0,168.0,169.0,170.0,171.0,172.0,173.0,174.0,175.0,176.0,177.0,178.0,179.0,180.0,181.0,182.0,183.0,184.0,185.0,186.0,187.0,188.0,189.0,190.0,191.0,192.0],\"y\":[0.8189460039138794,1.260175108909607,1.2874486446380615,1.2347724437713623,1.159478783607483,1.1075700521469116,1.088046908378601,1.1806707382202148,1.1864067316055298,1.2151927947998047,1.2400494813919067,1.2862262725830078,1.3082690238952637,1.2957241535186768,1.3567497730255127,1.3176671266555786,1.344045877456665,1.3340420722961426,1.3609912395477295,1.3384946584701538,1.3974151611328125,1.4505386352539062,1.4521770477294922,1.4751079082489014,1.4847285747528076,1.4427534341812134,1.4780925512313843,1.4477710723876953,1.442141056060791,1.3996708393096924,1.455633521080017,1.425519347190857,1.4267425537109375,1.296543002128601,1.3386924266815186,1.3830575942993164,1.410193681716919,1.4163570404052734,1.4345694780349731,1.3512107133865356,1.3660752773284912,1.3719439506530762,1.3517565727233887,1.3556760549545288,1.381885051727295,1.4208825826644897,1.415903091430664,1.41348135471344,1.4114137887954712,1.4166264533996582,1.3647325038909912,1.4576308727264404,1.5163846015930176,1.5743279457092285,1.536087989807129,1.484184980392456,1.624028205871582,1.723371148109436,1.804021954536438,1.9015408754348755,1.9563794136047363,1.9563013315200806,1.9466662406921387,1.9771565198898315,2.0488882064819336,2.0358896255493164,2.1156418323516846,2.063626289367676,2.013582706451416,2.04581356048584,2.039797306060791,2.095446825027466,2.127744436264038,2.188455820083618,2.1851160526275635,2.2010157108306885,2.1487433910369873,2.1365301609039307,2.221243381500244,2.1682076454162598,2.1682844161987305,2.1879546642303467,2.1015429496765137,2.083911418914795,2.018988609313965,2.049926280975342,1.989985466003418,1.9405957460403442,1.8885880708694458,1.9275997877120972,1.9486418962478638,1.9649548530578613,1.9695384502410889,1.9549531936645508,1.9854439496994019,1.9813768863677979,1.976728916168213,1.9255470037460327,2.005218267440796,2.1209187507629395,2.2337257862091064,2.253469944000244,2.271358013153076,2.348222017288208,2.359224796295166,2.3467321395874023,2.326911211013794,2.322279453277588,2.3043429851531982,2.297421455383301,2.2530410289764404,2.2752840518951416,2.2801003456115723,2.24230694770813,2.2107226848602295,2.190025806427002,2.1933956146240234,2.1594769954681396,2.1045305728912354,2.1016085147857666,2.0507047176361084,2.15787410736084,2.1470184326171875,2.13454532623291,2.1271016597747803,2.1486480236053467,2.142882823944092,2.232612371444702,2.2139320373535156,2.2630977630615234,2.2674221992492676,2.2537810802459717,2.299391508102417,2.3348536491394043,2.3527307510375977,2.3503482341766357,2.2902579307556152,2.2698278427124023,2.2663753032684326,2.2735037803649902,2.205660820007324,2.2974367141723633,2.365492820739746,2.362460136413574,2.3949105739593506,2.43575119972229,2.406843662261963,2.3857851028442383,2.402261734008789,2.36732816696167,2.329190969467163,2.305314064025879,2.278782606124878,2.2368412017822266,2.1771864891052246,2.1568336486816406,2.1305227279663086,2.061915636062622,2.0679855346679688,2.054274797439575,2.0193569660186768,1.960629940032959,1.9698951244354248,1.9862866401672363,2.023017406463623,2.0503413677215576,2.1417922973632812,2.1961774826049805,0.8554413318634033,0.6898084878921509,0.7458664774894714,0.9384385943412781,0.900638997554779,0.9724976420402527,1.1100491285324097,1.0849101543426514,0.997189998626709,0.9039115309715271,0.9132297039031982,0.8937375545501709,0.907178521156311,0.9685916900634766,0.974104642868042,1.0312992334365845,1.0052735805511475,0.8722560405731201,0.901503324508667,0.9347480535507202,0.9016279578208923,0.7842984199523926,0.7567826509475708,0.8291180729866028],\"type\":\"scatter\"},{\"fill\":\"tonexty\",\"fillcolor\":\"rgba(68, 68, 68, 0.3)\",\"line\":{\"width\":0},\"marker\":{\"color\":\"#444\"},\"mode\":\"lines\",\"name\":\"Lower Bound\",\"showlegend\":false,\"x\":[1.0,2.0,3.0,4.0,5.0,6.0,7.0,8.0,9.0,10.0,11.0,12.0,13.0,14.0,15.0,16.0,17.0,18.0,19.0,20.0,21.0,22.0,23.0,24.0,25.0,26.0,27.0,28.0,29.0,30.0,31.0,32.0,33.0,34.0,35.0,36.0,37.0,38.0,39.0,40.0,41.0,42.0,43.0,44.0,45.0,46.0,47.0,48.0,49.0,50.0,51.0,52.0,53.0,54.0,55.0,56.0,57.0,58.0,59.0,60.0,61.0,62.0,63.0,64.0,65.0,66.0,67.0,68.0,69.0,70.0,71.0,72.0,73.0,74.0,75.0,76.0,77.0,78.0,79.0,80.0,81.0,82.0,83.0,84.0,85.0,86.0,87.0,88.0,89.0,90.0,91.0,92.0,93.0,94.0,95.0,96.0,97.0,98.0,99.0,100.0,101.0,102.0,103.0,104.0,105.0,106.0,107.0,108.0,109.0,110.0,111.0,112.0,113.0,114.0,115.0,116.0,117.0,118.0,119.0,120.0,121.0,122.0,123.0,124.0,125.0,126.0,127.0,128.0,129.0,130.0,131.0,132.0,133.0,134.0,135.0,136.0,137.0,138.0,139.0,140.0,141.0,142.0,143.0,144.0,145.0,146.0,147.0,148.0,149.0,150.0,151.0,152.0,153.0,154.0,155.0,156.0,157.0,158.0,159.0,160.0,161.0,162.0,163.0,164.0,165.0,166.0,167.0,168.0,169.0,170.0,171.0,172.0,173.0,174.0,175.0,176.0,177.0,178.0,179.0,180.0,181.0,182.0,183.0,184.0,185.0,186.0,187.0,188.0,189.0,190.0,191.0,192.0],\"y\":[-1.1522306203842163,-1.5997341871261597,-1.6273095607757568,-1.5747120380401611,-1.4993053674697876,-1.4473763704299927,-1.4279106855392456,-1.5205161571502686,-1.5262812376022339,-1.5550329685211182,-1.5797704458236694,-1.625777006149292,-1.6477224826812744,-1.6351606845855713,-1.695535659790039,-1.6570624113082886,-1.683014154434204,-1.6731719970703125,-1.6998717784881592,-1.677585482597351,-1.7358043193817139,-1.788752555847168,-1.790729284286499,-1.8134691715240479,-1.823394536972046,-1.7818113565444946,-1.8168989419937134,-1.7869632244110107,-1.7813584804534912,-1.7391130924224854,-1.7946878671646118,-1.7648800611495972,-1.7660131454467773,-1.6363672018051147,-1.677919626235962,-1.721848964691162,-1.7490723133087158,-1.755324363708496,-1.7734559774398804,-1.6907528638839722,-1.7053132057189941,-1.7110764980316162,-1.6910514831542969,-1.6948806047439575,-1.7207043170928955,-1.7593542337417603,-1.7544217109680176,-1.7521308660507202,-1.750048041343689,-1.755235195159912,-1.70369553565979,-1.7955889701843262,-1.8541483879089355,-1.9119746685028076,-1.8747820854187012,-1.8231675624847412,-1.9613676071166992,-2.060354471206665,-2.141031265258789,-2.2379701137542725,-2.293388843536377,-2.293941020965576,-2.2842555046081543,-2.314556837081909,-2.3859896659851074,-2.3732857704162598,-2.4526026248931885,-2.4016947746276855,-2.3516745567321777,-2.38344144821167,-2.3774595260620117,-2.4325125217437744,-2.4646852016448975,-2.5254108905792236,-2.522409677505493,-2.538743734359741,-2.4871304035186768,-2.4745824337005615,-2.5583343505859375,-2.5064539909362793,-2.5064425468444824,-2.526141405105591,-2.440518856048584,-2.4226555824279785,-2.3577423095703125,-2.388279914855957,-2.328972816467285,-2.2795095443725586,-2.22735595703125,-2.265864610671997,-2.2866220474243164,-2.3027091026306152,-2.307363748550415,-2.29280424118042,-2.3229453563690186,-2.319021463394165,-2.314669132232666,-2.2638168334960938,-2.341604471206665,-2.456575870513916,-2.5694491863250732,-2.5900001525878906,-2.607931137084961,-2.684342622756958,-2.6959190368652344,-2.6839065551757812,-2.6643173694610596,-2.659553050994873,-2.641920328140259,-2.634767532348633,-2.590693235397339,-2.6122939586639404,-2.617447853088379,-2.579791307449341,-2.5484683513641357,-2.527543544769287,-2.531027317047119,-2.4972784519195557,-2.442772150039673,-2.4393393993377686,-2.3888933658599854,-2.4944381713867188,-2.4846911430358887,-2.4724302291870117,-2.4651100635528564,-2.486525297164917,-2.480813980102539,-2.569819211959839,-2.5514564514160156,-2.6004042625427246,-2.6047816276550293,-2.5911314487457275,-2.6363790035247803,-2.6714601516723633,-2.689523696899414,-2.6875193119049072,-2.62803316116333,-2.607590675354004,-2.603959321975708,-2.611027240753174,-2.5436782836914062,-2.6334996223449707,-2.70182466506958,-2.6994857788085938,-2.7318880558013916,-2.772674798965454,-2.744523525238037,-2.7234559059143066,-2.7395553588867188,-2.7052087783813477,-2.6668875217437744,-2.643204689025879,-2.6165506839752197,-2.574831008911133,-2.51531982421875,-2.4945993423461914,-2.468380928039551,-2.399907350540161,-2.4055142402648926,-2.39180588722229,-2.3569014072418213,-2.2988381385803223,-2.3079631328582764,-2.3244247436523438,-2.3609848022460938,-2.388155221939087,-2.4786152839660645,-2.533177375793457,-1.181114912033081,-0.08663317561149597,0.4891764521598816,0.6834232211112976,0.6559416651725769,0.7544068694114685,0.8885776996612549,0.902194082736969,0.8393397331237793,0.7532680630683899,0.7541911602020264,0.7267601490020752,0.7425446510314941,0.8051495552062988,0.8190797567367554,0.8687177300453186,0.8430673480033875,0.7079322338104248,0.7179450988769531,0.754361629486084,0.7308855652809143,0.5861254930496216,0.5619786977767944,0.6555041670799255],\"type\":\"scatter\"}],                        {\"template\":{\"data\":{\"bar\":[{\"error_x\":{\"color\":\"#2a3f5f\"},\"error_y\":{\"color\":\"#2a3f5f\"},\"marker\":{\"line\":{\"color\":\"#E5ECF6\",\"width\":0.5},\"pattern\":{\"fillmode\":\"overlay\",\"size\":10,\"solidity\":0.2}},\"type\":\"bar\"}],\"barpolar\":[{\"marker\":{\"line\":{\"color\":\"#E5ECF6\",\"width\":0.5},\"pattern\":{\"fillmode\":\"overlay\",\"size\":10,\"solidity\":0.2}},\"type\":\"barpolar\"}],\"carpet\":[{\"aaxis\":{\"endlinecolor\":\"#2a3f5f\",\"gridcolor\":\"white\",\"linecolor\":\"white\",\"minorgridcolor\":\"white\",\"startlinecolor\":\"#2a3f5f\"},\"baxis\":{\"endlinecolor\":\"#2a3f5f\",\"gridcolor\":\"white\",\"linecolor\":\"white\",\"minorgridcolor\":\"white\",\"startlinecolor\":\"#2a3f5f\"},\"type\":\"carpet\"}],\"choropleth\":[{\"colorbar\":{\"outlinewidth\":0,\"ticks\":\"\"},\"type\":\"choropleth\"}],\"contour\":[{\"colorbar\":{\"outlinewidth\":0,\"ticks\":\"\"},\"colorscale\":[[0.0,\"#0d0887\"],[0.1111111111111111,\"#46039f\"],[0.2222222222222222,\"#7201a8\"],[0.3333333333333333,\"#9c179e\"],[0.4444444444444444,\"#bd3786\"],[0.5555555555555556,\"#d8576b\"],[0.6666666666666666,\"#ed7953\"],[0.7777777777777778,\"#fb9f3a\"],[0.8888888888888888,\"#fdca26\"],[1.0,\"#f0f921\"]],\"type\":\"contour\"}],\"contourcarpet\":[{\"colorbar\":{\"outlinewidth\":0,\"ticks\":\"\"},\"type\":\"contourcarpet\"}],\"heatmap\":[{\"colorbar\":{\"outlinewidth\":0,\"ticks\":\"\"},\"colorscale\":[[0.0,\"#0d0887\"],[0.1111111111111111,\"#46039f\"],[0.2222222222222222,\"#7201a8\"],[0.3333333333333333,\"#9c179e\"],[0.4444444444444444,\"#bd3786\"],[0.5555555555555556,\"#d8576b\"],[0.6666666666666666,\"#ed7953\"],[0.7777777777777778,\"#fb9f3a\"],[0.8888888888888888,\"#fdca26\"],[1.0,\"#f0f921\"]],\"type\":\"heatmap\"}],\"heatmapgl\":[{\"colorbar\":{\"outlinewidth\":0,\"ticks\":\"\"},\"colorscale\":[[0.0,\"#0d0887\"],[0.1111111111111111,\"#46039f\"],[0.2222222222222222,\"#7201a8\"],[0.3333333333333333,\"#9c179e\"],[0.4444444444444444,\"#bd3786\"],[0.5555555555555556,\"#d8576b\"],[0.6666666666666666,\"#ed7953\"],[0.7777777777777778,\"#fb9f3a\"],[0.8888888888888888,\"#fdca26\"],[1.0,\"#f0f921\"]],\"type\":\"heatmapgl\"}],\"histogram\":[{\"marker\":{\"pattern\":{\"fillmode\":\"overlay\",\"size\":10,\"solidity\":0.2}},\"type\":\"histogram\"}],\"histogram2d\":[{\"colorbar\":{\"outlinewidth\":0,\"ticks\":\"\"},\"colorscale\":[[0.0,\"#0d0887\"],[0.1111111111111111,\"#46039f\"],[0.2222222222222222,\"#7201a8\"],[0.3333333333333333,\"#9c179e\"],[0.4444444444444444,\"#bd3786\"],[0.5555555555555556,\"#d8576b\"],[0.6666666666666666,\"#ed7953\"],[0.7777777777777778,\"#fb9f3a\"],[0.8888888888888888,\"#fdca26\"],[1.0,\"#f0f921\"]],\"type\":\"histogram2d\"}],\"histogram2dcontour\":[{\"colorbar\":{\"outlinewidth\":0,\"ticks\":\"\"},\"colorscale\":[[0.0,\"#0d0887\"],[0.1111111111111111,\"#46039f\"],[0.2222222222222222,\"#7201a8\"],[0.3333333333333333,\"#9c179e\"],[0.4444444444444444,\"#bd3786\"],[0.5555555555555556,\"#d8576b\"],[0.6666666666666666,\"#ed7953\"],[0.7777777777777778,\"#fb9f3a\"],[0.8888888888888888,\"#fdca26\"],[1.0,\"#f0f921\"]],\"type\":\"histogram2dcontour\"}],\"mesh3d\":[{\"colorbar\":{\"outlinewidth\":0,\"ticks\":\"\"},\"type\":\"mesh3d\"}],\"parcoords\":[{\"line\":{\"colorbar\":{\"outlinewidth\":0,\"ticks\":\"\"}},\"type\":\"parcoords\"}],\"pie\":[{\"automargin\":true,\"type\":\"pie\"}],\"scatter\":[{\"marker\":{\"colorbar\":{\"outlinewidth\":0,\"ticks\":\"\"}},\"type\":\"scatter\"}],\"scatter3d\":[{\"line\":{\"colorbar\":{\"outlinewidth\":0,\"ticks\":\"\"}},\"marker\":{\"colorbar\":{\"outlinewidth\":0,\"ticks\":\"\"}},\"type\":\"scatter3d\"}],\"scattercarpet\":[{\"marker\":{\"colorbar\":{\"outlinewidth\":0,\"ticks\":\"\"}},\"type\":\"scattercarpet\"}],\"scattergeo\":[{\"marker\":{\"colorbar\":{\"outlinewidth\":0,\"ticks\":\"\"}},\"type\":\"scattergeo\"}],\"scattergl\":[{\"marker\":{\"colorbar\":{\"outlinewidth\":0,\"ticks\":\"\"}},\"type\":\"scattergl\"}],\"scattermapbox\":[{\"marker\":{\"colorbar\":{\"outlinewidth\":0,\"ticks\":\"\"}},\"type\":\"scattermapbox\"}],\"scatterpolar\":[{\"marker\":{\"colorbar\":{\"outlinewidth\":0,\"ticks\":\"\"}},\"type\":\"scatterpolar\"}],\"scatterpolargl\":[{\"marker\":{\"colorbar\":{\"outlinewidth\":0,\"ticks\":\"\"}},\"type\":\"scatterpolargl\"}],\"scatterternary\":[{\"marker\":{\"colorbar\":{\"outlinewidth\":0,\"ticks\":\"\"}},\"type\":\"scatterternary\"}],\"surface\":[{\"colorbar\":{\"outlinewidth\":0,\"ticks\":\"\"},\"colorscale\":[[0.0,\"#0d0887\"],[0.1111111111111111,\"#46039f\"],[0.2222222222222222,\"#7201a8\"],[0.3333333333333333,\"#9c179e\"],[0.4444444444444444,\"#bd3786\"],[0.5555555555555556,\"#d8576b\"],[0.6666666666666666,\"#ed7953\"],[0.7777777777777778,\"#fb9f3a\"],[0.8888888888888888,\"#fdca26\"],[1.0,\"#f0f921\"]],\"type\":\"surface\"}],\"table\":[{\"cells\":{\"fill\":{\"color\":\"#EBF0F8\"},\"line\":{\"color\":\"white\"}},\"header\":{\"fill\":{\"color\":\"#C8D4E3\"},\"line\":{\"color\":\"white\"}},\"type\":\"table\"}]},\"layout\":{\"annotationdefaults\":{\"arrowcolor\":\"#2a3f5f\",\"arrowhead\":0,\"arrowwidth\":1},\"autotypenumbers\":\"strict\",\"coloraxis\":{\"colorbar\":{\"outlinewidth\":0,\"ticks\":\"\"}},\"colorscale\":{\"diverging\":[[0,\"#8e0152\"],[0.1,\"#c51b7d\"],[0.2,\"#de77ae\"],[0.3,\"#f1b6da\"],[0.4,\"#fde0ef\"],[0.5,\"#f7f7f7\"],[0.6,\"#e6f5d0\"],[0.7,\"#b8e186\"],[0.8,\"#7fbc41\"],[0.9,\"#4d9221\"],[1,\"#276419\"]],\"sequential\":[[0.0,\"#0d0887\"],[0.1111111111111111,\"#46039f\"],[0.2222222222222222,\"#7201a8\"],[0.3333333333333333,\"#9c179e\"],[0.4444444444444444,\"#bd3786\"],[0.5555555555555556,\"#d8576b\"],[0.6666666666666666,\"#ed7953\"],[0.7777777777777778,\"#fb9f3a\"],[0.8888888888888888,\"#fdca26\"],[1.0,\"#f0f921\"]],\"sequentialminus\":[[0.0,\"#0d0887\"],[0.1111111111111111,\"#46039f\"],[0.2222222222222222,\"#7201a8\"],[0.3333333333333333,\"#9c179e\"],[0.4444444444444444,\"#bd3786\"],[0.5555555555555556,\"#d8576b\"],[0.6666666666666666,\"#ed7953\"],[0.7777777777777778,\"#fb9f3a\"],[0.8888888888888888,\"#fdca26\"],[1.0,\"#f0f921\"]]},\"colorway\":[\"#636efa\",\"#EF553B\",\"#00cc96\",\"#ab63fa\",\"#FFA15A\",\"#19d3f3\",\"#FF6692\",\"#B6E880\",\"#FF97FF\",\"#FECB52\"],\"font\":{\"color\":\"#2a3f5f\"},\"geo\":{\"bgcolor\":\"white\",\"lakecolor\":\"white\",\"landcolor\":\"#E5ECF6\",\"showlakes\":true,\"showland\":true,\"subunitcolor\":\"white\"},\"hoverlabel\":{\"align\":\"left\"},\"hovermode\":\"closest\",\"mapbox\":{\"style\":\"light\"},\"paper_bgcolor\":\"white\",\"plot_bgcolor\":\"#E5ECF6\",\"polar\":{\"angularaxis\":{\"gridcolor\":\"white\",\"linecolor\":\"white\",\"ticks\":\"\"},\"bgcolor\":\"#E5ECF6\",\"radialaxis\":{\"gridcolor\":\"white\",\"linecolor\":\"white\",\"ticks\":\"\"}},\"scene\":{\"xaxis\":{\"backgroundcolor\":\"#E5ECF6\",\"gridcolor\":\"white\",\"gridwidth\":2,\"linecolor\":\"white\",\"showbackground\":true,\"ticks\":\"\",\"zerolinecolor\":\"white\"},\"yaxis\":{\"backgroundcolor\":\"#E5ECF6\",\"gridcolor\":\"white\",\"gridwidth\":2,\"linecolor\":\"white\",\"showbackground\":true,\"ticks\":\"\",\"zerolinecolor\":\"white\"},\"zaxis\":{\"backgroundcolor\":\"#E5ECF6\",\"gridcolor\":\"white\",\"gridwidth\":2,\"linecolor\":\"white\",\"showbackground\":true,\"ticks\":\"\",\"zerolinecolor\":\"white\"}},\"shapedefaults\":{\"line\":{\"color\":\"#2a3f5f\"}},\"ternary\":{\"aaxis\":{\"gridcolor\":\"white\",\"linecolor\":\"white\",\"ticks\":\"\"},\"baxis\":{\"gridcolor\":\"white\",\"linecolor\":\"white\",\"ticks\":\"\"},\"bgcolor\":\"#E5ECF6\",\"caxis\":{\"gridcolor\":\"white\",\"linecolor\":\"white\",\"ticks\":\"\"}},\"title\":{\"x\":0.05},\"xaxis\":{\"automargin\":true,\"gridcolor\":\"white\",\"linecolor\":\"white\",\"ticks\":\"\",\"title\":{\"standoff\":15},\"zerolinecolor\":\"white\",\"zerolinewidth\":2},\"yaxis\":{\"automargin\":true,\"gridcolor\":\"white\",\"linecolor\":\"white\",\"ticks\":\"\",\"title\":{\"standoff\":15},\"zerolinecolor\":\"white\",\"zerolinewidth\":2}}},\"shapes\":[{\"type\":\"line\",\"x0\":168,\"x1\":168,\"xref\":\"x\",\"y0\":0,\"y1\":1,\"yref\":\"y domain\"}],\"xaxis\":{\"title\":{\"text\":\"Time Samples\"}},\"yaxis\":{\"title\":{\"text\":\"Normalized Stock Opening Price\"}}},                        {\"responsive\": true}                    ).then(function(){\n",
              "                            \n",
              "var gd = document.getElementById('817cba66-a746-4a38-b13a-1784a435db9b');\n",
              "var x = new MutationObserver(function (mutations, observer) {{\n",
              "        var display = window.getComputedStyle(gd).display;\n",
              "        if (!display || display === 'none') {{\n",
              "            console.log([gd, 'removed!']);\n",
              "            Plotly.purge(gd);\n",
              "            observer.disconnect();\n",
              "        }}\n",
              "}});\n",
              "\n",
              "// Listen for the removal of the full notebook cells\n",
              "var notebookContainer = gd.closest('#notebook-container');\n",
              "if (notebookContainer) {{\n",
              "    x.observe(notebookContainer, {childList: true});\n",
              "}}\n",
              "\n",
              "// Listen for the clearing of the current output cell\n",
              "var outputEl = gd.closest('.output');\n",
              "if (outputEl) {{\n",
              "    x.observe(outputEl, {childList: true});\n",
              "}}\n",
              "\n",
              "                        })                };                            </script>        </div>\n",
              "</body>\n",
              "</html>"
            ]
          },
          "metadata": {}
        }
      ],
      "source": [
        "for i in range(5):\n",
        "  plot_test_output_data(overall_price_label.detach().cpu(),overall_price_mu.detach().cpu(), overall_price_sigma.detach().cpu(), window_id=8000, cov_id=i)"
      ]
    },
    {
      "cell_type": "code",
      "execution_count": null,
      "metadata": {
        "id": "KCT5FFL1d1Uy"
      },
      "outputs": [],
      "source": [
        ""
      ]
    }
  ],
  "metadata": {
    "accelerator": "GPU",
    "colab": {
      "collapsed_sections": [],
      "name": "DL_192Vectors_Group_Data_SectorEmbed_Normal_Loss_Debayan.ipynb",
      "provenance": [],
      "include_colab_link": true
    },
    "kernelspec": {
      "display_name": "Python 3",
      "name": "python3"
    },
    "language_info": {
      "name": "python"
    }
  },
  "nbformat": 4,
  "nbformat_minor": 0
}