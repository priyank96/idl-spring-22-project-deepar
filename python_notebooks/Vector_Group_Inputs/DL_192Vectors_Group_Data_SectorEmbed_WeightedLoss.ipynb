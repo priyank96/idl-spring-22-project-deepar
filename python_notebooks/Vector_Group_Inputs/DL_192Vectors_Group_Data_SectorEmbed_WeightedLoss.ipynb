{
  "cells": [
    {
      "cell_type": "markdown",
      "metadata": {
        "id": "view-in-github",
        "colab_type": "text"
      },
      "source": [
        "<a href=\"https://colab.research.google.com/github/priyank96/idl-spring-22-project-deepar/blob/main/DL_192Vectors_Group_Data_SectorEmbed_WeightedLoss_Debayan_v2.ipynb\" target=\"_parent\"><img src=\"https://colab.research.google.com/assets/colab-badge.svg\" alt=\"Open In Colab\"/></a>"
      ]
    },
    {
      "cell_type": "code",
      "execution_count": 1,
      "metadata": {
        "colab": {
          "base_uri": "https://localhost:8080/"
        },
        "id": "s6rSZ8BZaVEW",
        "outputId": "735b33ad-7a02-4244-eba5-f6b37020b347"
      },
      "outputs": [
        {
          "output_type": "stream",
          "name": "stdout",
          "text": [
            "Cloning into 'idl-spring-22-project-deepar'...\n",
            "remote: Enumerating objects: 1852, done.\u001b[K\n",
            "remote: Counting objects: 100% (23/23), done.\u001b[K\n",
            "remote: Compressing objects: 100% (23/23), done.\u001b[K\n",
            "remote: Total 1852 (delta 9), reused 0 (delta 0), pack-reused 1829\u001b[K\n",
            "Receiving objects: 100% (1852/1852), 82.50 MiB | 17.97 MiB/s, done.\n",
            "Resolving deltas: 100% (886/886), done.\n",
            "Checking out files: 100% (1947/1947), done.\n"
          ]
        }
      ],
      "source": [
        "! rm -rf /content/idl-spring-22-project-deepar\n",
        "!git clone https://github.com/priyank96/idl-spring-22-project-deepar"
      ]
    },
    {
      "cell_type": "code",
      "execution_count": 2,
      "metadata": {
        "colab": {
          "base_uri": "https://localhost:8080/"
        },
        "id": "gOKL2f9bayY_",
        "outputId": "e101fb56-de86-4172-d3fb-5853ea56a768"
      },
      "outputs": [
        {
          "output_type": "stream",
          "name": "stdout",
          "text": [
            "Mounted at /content/drive\n"
          ]
        }
      ],
      "source": [
        "from google.colab import drive\n",
        "\n",
        "drive.mount('/content/drive', force_remount=True)"
      ]
    },
    {
      "cell_type": "code",
      "execution_count": 3,
      "metadata": {
        "id": "394BLA5dOGMF"
      },
      "outputs": [],
      "source": [
        "! mkdir -p '/content/drive/MyDrive/DeepARExperiments/'"
      ]
    },
    {
      "cell_type": "code",
      "execution_count": 4,
      "metadata": {
        "id": "K4Dz6slTybPk",
        "colab": {
          "base_uri": "https://localhost:8080/"
        },
        "outputId": "494695d5-2d4c-4950-fd4b-1d0dc83a2fbd"
      },
      "outputs": [
        {
          "output_type": "stream",
          "name": "stdout",
          "text": [
            "Collecting wandb\n",
            "  Downloading wandb-0.12.15-py2.py3-none-any.whl (1.8 MB)\n",
            "\u001b[?25l\r\u001b[K     |▏                               | 10 kB 31.7 MB/s eta 0:00:01\r\u001b[K     |▍                               | 20 kB 36.8 MB/s eta 0:00:01\r\u001b[K     |▌                               | 30 kB 21.3 MB/s eta 0:00:01\r\u001b[K     |▊                               | 40 kB 14.1 MB/s eta 0:00:01\r\u001b[K     |█                               | 51 kB 11.5 MB/s eta 0:00:01\r\u001b[K     |█                               | 61 kB 13.4 MB/s eta 0:00:01\r\u001b[K     |█▎                              | 71 kB 14.3 MB/s eta 0:00:01\r\u001b[K     |█▌                              | 81 kB 13.0 MB/s eta 0:00:01\r\u001b[K     |█▋                              | 92 kB 14.3 MB/s eta 0:00:01\r\u001b[K     |█▉                              | 102 kB 14.0 MB/s eta 0:00:01\r\u001b[K     |██                              | 112 kB 14.0 MB/s eta 0:00:01\r\u001b[K     |██▏                             | 122 kB 14.0 MB/s eta 0:00:01\r\u001b[K     |██▍                             | 133 kB 14.0 MB/s eta 0:00:01\r\u001b[K     |██▋                             | 143 kB 14.0 MB/s eta 0:00:01\r\u001b[K     |██▊                             | 153 kB 14.0 MB/s eta 0:00:01\r\u001b[K     |███                             | 163 kB 14.0 MB/s eta 0:00:01\r\u001b[K     |███▏                            | 174 kB 14.0 MB/s eta 0:00:01\r\u001b[K     |███▎                            | 184 kB 14.0 MB/s eta 0:00:01\r\u001b[K     |███▌                            | 194 kB 14.0 MB/s eta 0:00:01\r\u001b[K     |███▊                            | 204 kB 14.0 MB/s eta 0:00:01\r\u001b[K     |███▉                            | 215 kB 14.0 MB/s eta 0:00:01\r\u001b[K     |████                            | 225 kB 14.0 MB/s eta 0:00:01\r\u001b[K     |████▎                           | 235 kB 14.0 MB/s eta 0:00:01\r\u001b[K     |████▍                           | 245 kB 14.0 MB/s eta 0:00:01\r\u001b[K     |████▋                           | 256 kB 14.0 MB/s eta 0:00:01\r\u001b[K     |████▉                           | 266 kB 14.0 MB/s eta 0:00:01\r\u001b[K     |█████                           | 276 kB 14.0 MB/s eta 0:00:01\r\u001b[K     |█████▏                          | 286 kB 14.0 MB/s eta 0:00:01\r\u001b[K     |█████▍                          | 296 kB 14.0 MB/s eta 0:00:01\r\u001b[K     |█████▌                          | 307 kB 14.0 MB/s eta 0:00:01\r\u001b[K     |█████▊                          | 317 kB 14.0 MB/s eta 0:00:01\r\u001b[K     |██████                          | 327 kB 14.0 MB/s eta 0:00:01\r\u001b[K     |██████                          | 337 kB 14.0 MB/s eta 0:00:01\r\u001b[K     |██████▎                         | 348 kB 14.0 MB/s eta 0:00:01\r\u001b[K     |██████▌                         | 358 kB 14.0 MB/s eta 0:00:01\r\u001b[K     |██████▋                         | 368 kB 14.0 MB/s eta 0:00:01\r\u001b[K     |██████▉                         | 378 kB 14.0 MB/s eta 0:00:01\r\u001b[K     |███████                         | 389 kB 14.0 MB/s eta 0:00:01\r\u001b[K     |███████▏                        | 399 kB 14.0 MB/s eta 0:00:01\r\u001b[K     |███████▍                        | 409 kB 14.0 MB/s eta 0:00:01\r\u001b[K     |███████▋                        | 419 kB 14.0 MB/s eta 0:00:01\r\u001b[K     |███████▊                        | 430 kB 14.0 MB/s eta 0:00:01\r\u001b[K     |████████                        | 440 kB 14.0 MB/s eta 0:00:01\r\u001b[K     |████████▏                       | 450 kB 14.0 MB/s eta 0:00:01\r\u001b[K     |████████▎                       | 460 kB 14.0 MB/s eta 0:00:01\r\u001b[K     |████████▌                       | 471 kB 14.0 MB/s eta 0:00:01\r\u001b[K     |████████▊                       | 481 kB 14.0 MB/s eta 0:00:01\r\u001b[K     |████████▉                       | 491 kB 14.0 MB/s eta 0:00:01\r\u001b[K     |█████████                       | 501 kB 14.0 MB/s eta 0:00:01\r\u001b[K     |█████████▎                      | 512 kB 14.0 MB/s eta 0:00:01\r\u001b[K     |█████████▍                      | 522 kB 14.0 MB/s eta 0:00:01\r\u001b[K     |█████████▋                      | 532 kB 14.0 MB/s eta 0:00:01\r\u001b[K     |█████████▉                      | 542 kB 14.0 MB/s eta 0:00:01\r\u001b[K     |██████████                      | 552 kB 14.0 MB/s eta 0:00:01\r\u001b[K     |██████████▏                     | 563 kB 14.0 MB/s eta 0:00:01\r\u001b[K     |██████████▍                     | 573 kB 14.0 MB/s eta 0:00:01\r\u001b[K     |██████████▌                     | 583 kB 14.0 MB/s eta 0:00:01\r\u001b[K     |██████████▊                     | 593 kB 14.0 MB/s eta 0:00:01\r\u001b[K     |███████████                     | 604 kB 14.0 MB/s eta 0:00:01\r\u001b[K     |███████████                     | 614 kB 14.0 MB/s eta 0:00:01\r\u001b[K     |███████████▎                    | 624 kB 14.0 MB/s eta 0:00:01\r\u001b[K     |███████████▌                    | 634 kB 14.0 MB/s eta 0:00:01\r\u001b[K     |███████████▋                    | 645 kB 14.0 MB/s eta 0:00:01\r\u001b[K     |███████████▉                    | 655 kB 14.0 MB/s eta 0:00:01\r\u001b[K     |████████████                    | 665 kB 14.0 MB/s eta 0:00:01\r\u001b[K     |████████████▏                   | 675 kB 14.0 MB/s eta 0:00:01\r\u001b[K     |████████████▍                   | 686 kB 14.0 MB/s eta 0:00:01\r\u001b[K     |████████████▋                   | 696 kB 14.0 MB/s eta 0:00:01\r\u001b[K     |████████████▊                   | 706 kB 14.0 MB/s eta 0:00:01\r\u001b[K     |█████████████                   | 716 kB 14.0 MB/s eta 0:00:01\r\u001b[K     |█████████████▏                  | 727 kB 14.0 MB/s eta 0:00:01\r\u001b[K     |█████████████▎                  | 737 kB 14.0 MB/s eta 0:00:01\r\u001b[K     |█████████████▌                  | 747 kB 14.0 MB/s eta 0:00:01\r\u001b[K     |█████████████▊                  | 757 kB 14.0 MB/s eta 0:00:01\r\u001b[K     |█████████████▉                  | 768 kB 14.0 MB/s eta 0:00:01\r\u001b[K     |██████████████                  | 778 kB 14.0 MB/s eta 0:00:01\r\u001b[K     |██████████████▏                 | 788 kB 14.0 MB/s eta 0:00:01\r\u001b[K     |██████████████▍                 | 798 kB 14.0 MB/s eta 0:00:01\r\u001b[K     |██████████████▋                 | 808 kB 14.0 MB/s eta 0:00:01\r\u001b[K     |██████████████▊                 | 819 kB 14.0 MB/s eta 0:00:01\r\u001b[K     |███████████████                 | 829 kB 14.0 MB/s eta 0:00:01\r\u001b[K     |███████████████▏                | 839 kB 14.0 MB/s eta 0:00:01\r\u001b[K     |███████████████▎                | 849 kB 14.0 MB/s eta 0:00:01\r\u001b[K     |███████████████▌                | 860 kB 14.0 MB/s eta 0:00:01\r\u001b[K     |███████████████▊                | 870 kB 14.0 MB/s eta 0:00:01\r\u001b[K     |███████████████▉                | 880 kB 14.0 MB/s eta 0:00:01\r\u001b[K     |████████████████                | 890 kB 14.0 MB/s eta 0:00:01\r\u001b[K     |████████████████▎               | 901 kB 14.0 MB/s eta 0:00:01\r\u001b[K     |████████████████▍               | 911 kB 14.0 MB/s eta 0:00:01\r\u001b[K     |████████████████▋               | 921 kB 14.0 MB/s eta 0:00:01\r\u001b[K     |████████████████▉               | 931 kB 14.0 MB/s eta 0:00:01\r\u001b[K     |█████████████████               | 942 kB 14.0 MB/s eta 0:00:01\r\u001b[K     |█████████████████▏              | 952 kB 14.0 MB/s eta 0:00:01\r\u001b[K     |█████████████████▍              | 962 kB 14.0 MB/s eta 0:00:01\r\u001b[K     |█████████████████▌              | 972 kB 14.0 MB/s eta 0:00:01\r\u001b[K     |█████████████████▊              | 983 kB 14.0 MB/s eta 0:00:01\r\u001b[K     |██████████████████              | 993 kB 14.0 MB/s eta 0:00:01\r\u001b[K     |██████████████████              | 1.0 MB 14.0 MB/s eta 0:00:01\r\u001b[K     |██████████████████▎             | 1.0 MB 14.0 MB/s eta 0:00:01\r\u001b[K     |██████████████████▌             | 1.0 MB 14.0 MB/s eta 0:00:01\r\u001b[K     |██████████████████▋             | 1.0 MB 14.0 MB/s eta 0:00:01\r\u001b[K     |██████████████████▉             | 1.0 MB 14.0 MB/s eta 0:00:01\r\u001b[K     |███████████████████             | 1.1 MB 14.0 MB/s eta 0:00:01\r\u001b[K     |███████████████████▏            | 1.1 MB 14.0 MB/s eta 0:00:01\r\u001b[K     |███████████████████▍            | 1.1 MB 14.0 MB/s eta 0:00:01\r\u001b[K     |███████████████████▋            | 1.1 MB 14.0 MB/s eta 0:00:01\r\u001b[K     |███████████████████▊            | 1.1 MB 14.0 MB/s eta 0:00:01\r\u001b[K     |████████████████████            | 1.1 MB 14.0 MB/s eta 0:00:01\r\u001b[K     |████████████████████▏           | 1.1 MB 14.0 MB/s eta 0:00:01\r\u001b[K     |████████████████████▎           | 1.1 MB 14.0 MB/s eta 0:00:01\r\u001b[K     |████████████████████▌           | 1.1 MB 14.0 MB/s eta 0:00:01\r\u001b[K     |████████████████████▊           | 1.1 MB 14.0 MB/s eta 0:00:01\r\u001b[K     |████████████████████▉           | 1.2 MB 14.0 MB/s eta 0:00:01\r\u001b[K     |█████████████████████           | 1.2 MB 14.0 MB/s eta 0:00:01\r\u001b[K     |█████████████████████▎          | 1.2 MB 14.0 MB/s eta 0:00:01\r\u001b[K     |█████████████████████▍          | 1.2 MB 14.0 MB/s eta 0:00:01\r\u001b[K     |█████████████████████▋          | 1.2 MB 14.0 MB/s eta 0:00:01\r\u001b[K     |█████████████████████▉          | 1.2 MB 14.0 MB/s eta 0:00:01\r\u001b[K     |██████████████████████          | 1.2 MB 14.0 MB/s eta 0:00:01\r\u001b[K     |██████████████████████▏         | 1.2 MB 14.0 MB/s eta 0:00:01\r\u001b[K     |██████████████████████▍         | 1.2 MB 14.0 MB/s eta 0:00:01\r\u001b[K     |██████████████████████▌         | 1.2 MB 14.0 MB/s eta 0:00:01\r\u001b[K     |██████████████████████▊         | 1.3 MB 14.0 MB/s eta 0:00:01\r\u001b[K     |███████████████████████         | 1.3 MB 14.0 MB/s eta 0:00:01\r\u001b[K     |███████████████████████         | 1.3 MB 14.0 MB/s eta 0:00:01\r\u001b[K     |███████████████████████▎        | 1.3 MB 14.0 MB/s eta 0:00:01\r\u001b[K     |███████████████████████▌        | 1.3 MB 14.0 MB/s eta 0:00:01\r\u001b[K     |███████████████████████▋        | 1.3 MB 14.0 MB/s eta 0:00:01\r\u001b[K     |███████████████████████▉        | 1.3 MB 14.0 MB/s eta 0:00:01\r\u001b[K     |████████████████████████        | 1.3 MB 14.0 MB/s eta 0:00:01\r\u001b[K     |████████████████████████▏       | 1.3 MB 14.0 MB/s eta 0:00:01\r\u001b[K     |████████████████████████▍       | 1.4 MB 14.0 MB/s eta 0:00:01\r\u001b[K     |████████████████████████▋       | 1.4 MB 14.0 MB/s eta 0:00:01\r\u001b[K     |████████████████████████▊       | 1.4 MB 14.0 MB/s eta 0:00:01\r\u001b[K     |█████████████████████████       | 1.4 MB 14.0 MB/s eta 0:00:01\r\u001b[K     |█████████████████████████▏      | 1.4 MB 14.0 MB/s eta 0:00:01\r\u001b[K     |█████████████████████████▎      | 1.4 MB 14.0 MB/s eta 0:00:01\r\u001b[K     |█████████████████████████▌      | 1.4 MB 14.0 MB/s eta 0:00:01\r\u001b[K     |█████████████████████████▊      | 1.4 MB 14.0 MB/s eta 0:00:01\r\u001b[K     |█████████████████████████▉      | 1.4 MB 14.0 MB/s eta 0:00:01\r\u001b[K     |██████████████████████████      | 1.4 MB 14.0 MB/s eta 0:00:01\r\u001b[K     |██████████████████████████▎     | 1.5 MB 14.0 MB/s eta 0:00:01\r\u001b[K     |██████████████████████████▍     | 1.5 MB 14.0 MB/s eta 0:00:01\r\u001b[K     |██████████████████████████▋     | 1.5 MB 14.0 MB/s eta 0:00:01\r\u001b[K     |██████████████████████████▉     | 1.5 MB 14.0 MB/s eta 0:00:01\r\u001b[K     |███████████████████████████     | 1.5 MB 14.0 MB/s eta 0:00:01\r\u001b[K     |███████████████████████████▏    | 1.5 MB 14.0 MB/s eta 0:00:01\r\u001b[K     |███████████████████████████▍    | 1.5 MB 14.0 MB/s eta 0:00:01\r\u001b[K     |███████████████████████████▌    | 1.5 MB 14.0 MB/s eta 0:00:01\r\u001b[K     |███████████████████████████▊    | 1.5 MB 14.0 MB/s eta 0:00:01\r\u001b[K     |████████████████████████████    | 1.5 MB 14.0 MB/s eta 0:00:01\r\u001b[K     |████████████████████████████    | 1.6 MB 14.0 MB/s eta 0:00:01\r\u001b[K     |████████████████████████████▎   | 1.6 MB 14.0 MB/s eta 0:00:01\r\u001b[K     |████████████████████████████▍   | 1.6 MB 14.0 MB/s eta 0:00:01\r\u001b[K     |████████████████████████████▋   | 1.6 MB 14.0 MB/s eta 0:00:01\r\u001b[K     |████████████████████████████▉   | 1.6 MB 14.0 MB/s eta 0:00:01\r\u001b[K     |█████████████████████████████   | 1.6 MB 14.0 MB/s eta 0:00:01\r\u001b[K     |█████████████████████████████▏  | 1.6 MB 14.0 MB/s eta 0:00:01\r\u001b[K     |█████████████████████████████▍  | 1.6 MB 14.0 MB/s eta 0:00:01\r\u001b[K     |█████████████████████████████▌  | 1.6 MB 14.0 MB/s eta 0:00:01\r\u001b[K     |█████████████████████████████▊  | 1.6 MB 14.0 MB/s eta 0:00:01\r\u001b[K     |██████████████████████████████  | 1.7 MB 14.0 MB/s eta 0:00:01\r\u001b[K     |██████████████████████████████  | 1.7 MB 14.0 MB/s eta 0:00:01\r\u001b[K     |██████████████████████████████▎ | 1.7 MB 14.0 MB/s eta 0:00:01\r\u001b[K     |██████████████████████████████▌ | 1.7 MB 14.0 MB/s eta 0:00:01\r\u001b[K     |██████████████████████████████▋ | 1.7 MB 14.0 MB/s eta 0:00:01\r\u001b[K     |██████████████████████████████▉ | 1.7 MB 14.0 MB/s eta 0:00:01\r\u001b[K     |███████████████████████████████ | 1.7 MB 14.0 MB/s eta 0:00:01\r\u001b[K     |███████████████████████████████▏| 1.7 MB 14.0 MB/s eta 0:00:01\r\u001b[K     |███████████████████████████████▍| 1.7 MB 14.0 MB/s eta 0:00:01\r\u001b[K     |███████████████████████████████▋| 1.8 MB 14.0 MB/s eta 0:00:01\r\u001b[K     |███████████████████████████████▊| 1.8 MB 14.0 MB/s eta 0:00:01\r\u001b[K     |████████████████████████████████| 1.8 MB 14.0 MB/s eta 0:00:01\r\u001b[K     |████████████████████████████████| 1.8 MB 14.0 MB/s \n",
            "\u001b[?25hRequirement already satisfied: Click!=8.0.0,>=7.0 in /usr/local/lib/python3.7/dist-packages (from wandb) (7.1.2)\n",
            "Requirement already satisfied: promise<3,>=2.0 in /usr/local/lib/python3.7/dist-packages (from wandb) (2.3)\n",
            "Requirement already satisfied: psutil>=5.0.0 in /usr/local/lib/python3.7/dist-packages (from wandb) (5.4.8)\n",
            "Collecting docker-pycreds>=0.4.0\n",
            "  Downloading docker_pycreds-0.4.0-py2.py3-none-any.whl (9.0 kB)\n",
            "Collecting GitPython>=1.0.0\n",
            "  Downloading GitPython-3.1.27-py3-none-any.whl (181 kB)\n",
            "\u001b[K     |████████████████████████████████| 181 kB 63.7 MB/s \n",
            "\u001b[?25hCollecting pathtools\n",
            "  Downloading pathtools-0.1.2.tar.gz (11 kB)\n",
            "Collecting shortuuid>=0.5.0\n",
            "  Downloading shortuuid-1.0.8-py3-none-any.whl (9.5 kB)\n",
            "Collecting setproctitle\n",
            "  Downloading setproctitle-1.2.3-cp37-cp37m-manylinux_2_5_x86_64.manylinux1_x86_64.manylinux_2_17_x86_64.manylinux2014_x86_64.whl (29 kB)\n",
            "Collecting sentry-sdk>=1.0.0\n",
            "  Downloading sentry_sdk-1.5.10-py2.py3-none-any.whl (144 kB)\n",
            "\u001b[K     |████████████████████████████████| 144 kB 67.2 MB/s \n",
            "\u001b[?25hRequirement already satisfied: protobuf>=3.12.0 in /usr/local/lib/python3.7/dist-packages (from wandb) (3.17.3)\n",
            "Requirement already satisfied: PyYAML in /usr/local/lib/python3.7/dist-packages (from wandb) (3.13)\n",
            "Requirement already satisfied: python-dateutil>=2.6.1 in /usr/local/lib/python3.7/dist-packages (from wandb) (2.8.2)\n",
            "Requirement already satisfied: six>=1.13.0 in /usr/local/lib/python3.7/dist-packages (from wandb) (1.15.0)\n",
            "Requirement already satisfied: requests<3,>=2.0.0 in /usr/local/lib/python3.7/dist-packages (from wandb) (2.23.0)\n",
            "Requirement already satisfied: typing-extensions>=3.7.4.3 in /usr/local/lib/python3.7/dist-packages (from GitPython>=1.0.0->wandb) (4.2.0)\n",
            "Collecting gitdb<5,>=4.0.1\n",
            "  Downloading gitdb-4.0.9-py3-none-any.whl (63 kB)\n",
            "\u001b[K     |████████████████████████████████| 63 kB 2.1 MB/s \n",
            "\u001b[?25hCollecting smmap<6,>=3.0.1\n",
            "  Downloading smmap-5.0.0-py3-none-any.whl (24 kB)\n",
            "Requirement already satisfied: certifi>=2017.4.17 in /usr/local/lib/python3.7/dist-packages (from requests<3,>=2.0.0->wandb) (2021.10.8)\n",
            "Requirement already satisfied: idna<3,>=2.5 in /usr/local/lib/python3.7/dist-packages (from requests<3,>=2.0.0->wandb) (2.10)\n",
            "Requirement already satisfied: chardet<4,>=3.0.2 in /usr/local/lib/python3.7/dist-packages (from requests<3,>=2.0.0->wandb) (3.0.4)\n",
            "Requirement already satisfied: urllib3!=1.25.0,!=1.25.1,<1.26,>=1.21.1 in /usr/local/lib/python3.7/dist-packages (from requests<3,>=2.0.0->wandb) (1.24.3)\n",
            "Building wheels for collected packages: pathtools\n",
            "  Building wheel for pathtools (setup.py) ... \u001b[?25l\u001b[?25hdone\n",
            "  Created wheel for pathtools: filename=pathtools-0.1.2-py3-none-any.whl size=8806 sha256=5523d5e371b362d0ddbabb6f5e3e9bbe6053c4bbdec86479bc8816999392ef0d\n",
            "  Stored in directory: /root/.cache/pip/wheels/3e/31/09/fa59cef12cdcfecc627b3d24273699f390e71828921b2cbba2\n",
            "Successfully built pathtools\n",
            "Installing collected packages: smmap, gitdb, shortuuid, setproctitle, sentry-sdk, pathtools, GitPython, docker-pycreds, wandb\n",
            "Successfully installed GitPython-3.1.27 docker-pycreds-0.4.0 gitdb-4.0.9 pathtools-0.1.2 sentry-sdk-1.5.10 setproctitle-1.2.3 shortuuid-1.0.8 smmap-5.0.0 wandb-0.12.15\n",
            "\u001b[34m\u001b[1mwandb\u001b[0m: You can find your API key in your browser here: https://wandb.ai/authorize\n",
            "\u001b[34m\u001b[1mwandb\u001b[0m: Paste an API key from your profile and hit enter, or press ctrl+c to quit: \n",
            "\u001b[34m\u001b[1mwandb\u001b[0m: Appending key for api.wandb.ai to your netrc file: /root/.netrc\n"
          ]
        }
      ],
      "source": [
        "!pip install wandb\n",
        "!wandb login"
      ]
    },
    {
      "cell_type": "code",
      "execution_count": 5,
      "metadata": {
        "colab": {
          "base_uri": "https://localhost:8080/",
          "height": 110
        },
        "id": "0KPeB4rQyy7M",
        "outputId": "21577534-6f7f-4b8e-88f3-84478d48516e"
      },
      "outputs": [
        {
          "output_type": "stream",
          "name": "stderr",
          "text": [
            "\u001b[34m\u001b[1mwandb\u001b[0m: Currently logged in as: \u001b[33mmmml\u001b[0m (use `wandb login --relogin` to force relogin)\n"
          ]
        },
        {
          "output_type": "display_data",
          "data": {
            "text/plain": [
              "<IPython.core.display.HTML object>"
            ],
            "text/html": [
              "Tracking run with wandb version 0.12.15"
            ]
          },
          "metadata": {}
        },
        {
          "output_type": "display_data",
          "data": {
            "text/plain": [
              "<IPython.core.display.HTML object>"
            ],
            "text/html": [
              "Run data is saved locally in <code>/content/wandb/run-20220426_063527-32ghvk14</code>"
            ]
          },
          "metadata": {}
        },
        {
          "output_type": "display_data",
          "data": {
            "text/plain": [
              "<IPython.core.display.HTML object>"
            ],
            "text/html": [
              "Syncing run <strong><a href=\"https://wandb.ai/idl-deepar-spring-22/vector-training/runs/32ghvk14\" target=\"_blank\">baseline-more-data-weighte-loss</a></strong> to <a href=\"https://wandb.ai/idl-deepar-spring-22/vector-training\" target=\"_blank\">Weights & Biases</a> (<a href=\"https://wandb.me/run\" target=\"_blank\">docs</a>)<br/>"
            ]
          },
          "metadata": {}
        },
        {
          "output_type": "execute_result",
          "data": {
            "text/html": [
              "<button onClick=\"this.nextSibling.style.display='block';this.style.display='none';\">Display W&B run</button><iframe src=\"https://wandb.ai/idl-deepar-spring-22/vector-training/runs/32ghvk14?jupyter=true\" style=\"border:none;width:100%;height:420px;display:none;\"></iframe>"
            ],
            "text/plain": [
              "<wandb.sdk.wandb_run.Run at 0x7fc04716edd0>"
            ]
          },
          "metadata": {},
          "execution_count": 5
        }
      ],
      "source": [
        "import wandb\n",
        "\n",
        "wandb.init(project=\"vector-training\", entity=\"idl-deepar-spring-22\", name=\"baseline-more-data-weighte-loss\")"
      ]
    },
    {
      "cell_type": "code",
      "execution_count": 6,
      "metadata": {
        "id": "QhJqZTrRCGn5"
      },
      "outputs": [],
      "source": [
        "import numpy as np\n",
        "import torch\n",
        "import torch.nn as nn\n",
        "import torch.nn.functional as F\n",
        "from torch.autograd import Variable\n",
        "import logging\n",
        "from sklearn import preprocessing\n",
        "import torch.optim as optim\n",
        "from tqdm import tqdm\n",
        "import os\n",
        "device = 'cuda' if torch.cuda.is_available() else 'cpu'\n"
      ]
    },
    {
      "cell_type": "code",
      "execution_count": 7,
      "metadata": {
        "id": "jrVlqh83a4kv",
        "colab": {
          "base_uri": "https://localhost:8080/"
        },
        "outputId": "bde71c00-a5b4-45cb-c8b4-f3b89a7365d1"
      },
      "outputs": [
        {
          "output_type": "stream",
          "name": "stdout",
          "text": [
            "total rows:  0\n",
            "total rows:  95\n",
            "total rows:  613\n",
            "total rows:  1262\n",
            "total rows:  3851\n",
            "total rows:  3851\n",
            "total rows:  3851\n",
            "total rows:  5667\n",
            "total rows:  5667\n",
            "total rows:  7786\n",
            "total rows:  7786\n",
            "total rows:  7786\n",
            "/usr/local/lib/python3.7/dist-packages/numpy/core/_methods.py:230: RuntimeWarning: invalid value encountered in subtract\n",
            "  x = asanyarray(arr - arrmean)\n",
            "/usr/local/lib/python3.7/dist-packages/scipy/stats/stats.py:2419: RuntimeWarning: invalid value encountered in subtract\n",
            "  return (a - mns) / sstd\n",
            "found nans\n",
            "total rows:  7786\n",
            "total rows:  7786\n",
            "total rows:  7844\n",
            "total rows:  7938\n",
            "total rows:  8826\n",
            "total rows:  9179\n",
            "total rows:  9896\n",
            "total rows:  9896\n",
            "total rows:  10382\n",
            "total rows:  10392\n",
            "total rows:  10392\n",
            "/usr/local/lib/python3.7/dist-packages/numpy/core/_methods.py:230: RuntimeWarning: invalid value encountered in subtract\n",
            "  x = asanyarray(arr - arrmean)\n",
            "/usr/local/lib/python3.7/dist-packages/scipy/stats/stats.py:2419: RuntimeWarning: invalid value encountered in subtract\n",
            "  return (a - mns) / sstd\n",
            "found nans\n",
            "total rows:  10392\n",
            "total rows:  11666\n",
            "total rows:  12554\n",
            "/usr/local/lib/python3.7/dist-packages/numpy/core/_methods.py:230: RuntimeWarning: invalid value encountered in subtract\n",
            "  x = asanyarray(arr - arrmean)\n",
            "/usr/local/lib/python3.7/dist-packages/scipy/stats/stats.py:2419: RuntimeWarning: invalid value encountered in subtract\n",
            "  return (a - mns) / sstd\n",
            "found nans\n",
            "total rows:  12554\n",
            "total rows:  12650\n",
            "total rows:  12650\n",
            "total rows:  12660\n",
            "total rows:  12660\n",
            "total rows:  12756\n",
            "total rows:  12840\n",
            "total rows:  13259\n",
            "total rows:  13259\n",
            "total rows:  13259\n",
            "total rows:  13355\n",
            "total rows:  13450\n",
            "total rows:  13957\n",
            "total rows:  13957\n",
            "total rows:  13967\n",
            "total rows:  14124\n",
            "total rows:  14258\n",
            "total rows:  14268\n",
            "total rows:  14762\n",
            "total rows:  14762\n",
            "total rows:  14762\n",
            "total rows:  14772\n",
            "total rows:  14868\n",
            "total rows:  14868\n",
            "total rows:  14964\n",
            "total rows:  14964\n",
            "/usr/local/lib/python3.7/dist-packages/numpy/core/_methods.py:230: RuntimeWarning: invalid value encountered in subtract\n",
            "  x = asanyarray(arr - arrmean)\n",
            "/usr/local/lib/python3.7/dist-packages/scipy/stats/stats.py:2419: RuntimeWarning: invalid value encountered in subtract\n",
            "  return (a - mns) / sstd\n",
            "found nans\n",
            "total rows:  14964\n",
            "total rows:  15022\n",
            "total rows:  15118\n",
            "total rows:  15636\n",
            "total rows:  16413\n",
            "total rows:  16472\n",
            "total rows:  16517\n",
            "total rows:  16517\n",
            "total rows:  16517\n",
            "total rows:  16517\n",
            "total rows:  16517\n",
            "total rows:  16611\n",
            "/usr/local/lib/python3.7/dist-packages/numpy/core/_methods.py:230: RuntimeWarning: invalid value encountered in subtract\n",
            "  x = asanyarray(arr - arrmean)\n",
            "/usr/local/lib/python3.7/dist-packages/scipy/stats/stats.py:2419: RuntimeWarning: invalid value encountered in subtract\n",
            "  return (a - mns) / sstd\n",
            "found nans\n",
            "total rows:  16611\n",
            "total rows:  16622\n",
            "total rows:  16622\n",
            "total rows:  17585\n",
            "total rows:  20069\n",
            "total rows:  20142\n",
            "total rows:  20800\n",
            "total rows:  21031\n",
            "total rows:  21460\n",
            "total rows:  21556\n",
            "total rows:  21556\n",
            "total rows:  21566\n",
            "total rows:  21612\n",
            "total rows:  21862\n",
            "total rows:  21862\n",
            "total rows:  23081\n",
            "/usr/local/lib/python3.7/dist-packages/numpy/core/_methods.py:230: RuntimeWarning: invalid value encountered in subtract\n",
            "  x = asanyarray(arr - arrmean)\n",
            "/usr/local/lib/python3.7/dist-packages/scipy/stats/stats.py:2419: RuntimeWarning: invalid value encountered in subtract\n",
            "  return (a - mns) / sstd\n",
            "found nans\n",
            "total rows:  23081\n",
            "total rows:  23686\n",
            "total rows:  23686\n",
            "/usr/local/lib/python3.7/dist-packages/numpy/core/_methods.py:230: RuntimeWarning: invalid value encountered in subtract\n",
            "  x = asanyarray(arr - arrmean)\n",
            "/usr/local/lib/python3.7/dist-packages/scipy/stats/stats.py:2419: RuntimeWarning: invalid value encountered in subtract\n",
            "  return (a - mns) / sstd\n",
            "found nans\n",
            "total rows:  23686\n",
            "total rows:  23696\n",
            "total rows:  23696\n",
            "total rows:  23717\n",
            "total rows:  23717\n",
            "total rows:  24161\n",
            "total rows:  24187\n",
            "total rows:  24187\n",
            "total rows:  24187\n",
            "total rows:  24187\n",
            "total rows:  24187\n",
            "/usr/local/lib/python3.7/dist-packages/numpy/core/_methods.py:230: RuntimeWarning: invalid value encountered in subtract\n",
            "  x = asanyarray(arr - arrmean)\n",
            "/usr/local/lib/python3.7/dist-packages/scipy/stats/stats.py:2419: RuntimeWarning: invalid value encountered in subtract\n",
            "  return (a - mns) / sstd\n",
            "found nans\n",
            "total rows:  24187\n",
            "total rows:  24745\n",
            "total rows:  24745\n",
            "total rows:  24789\n",
            "total rows:  24847\n",
            "total rows:  24847\n",
            "total rows:  24943\n",
            "total rows:  24943\n",
            "/usr/local/lib/python3.7/dist-packages/numpy/core/_methods.py:230: RuntimeWarning: invalid value encountered in subtract\n",
            "  x = asanyarray(arr - arrmean)\n",
            "/usr/local/lib/python3.7/dist-packages/scipy/stats/stats.py:2419: RuntimeWarning: invalid value encountered in subtract\n",
            "  return (a - mns) / sstd\n",
            "found nans\n",
            "total rows:  24943\n",
            "total rows:  25410\n",
            "total rows:  25436\n",
            "total rows:  25709\n",
            "total rows:  25709\n",
            "total rows:  25709\n",
            "total rows:  27453\n",
            "total rows:  27565\n",
            "total rows:  27565\n",
            "total rows:  27565\n",
            "total rows:  27565\n",
            "total rows:  27565\n",
            "total rows:  27565\n",
            "total rows:  28129\n",
            "total rows:  28514\n",
            "total rows:  28514\n",
            "total rows:  30434\n",
            "/usr/local/lib/python3.7/dist-packages/numpy/core/_methods.py:230: RuntimeWarning: invalid value encountered in subtract\n",
            "  x = asanyarray(arr - arrmean)\n",
            "/usr/local/lib/python3.7/dist-packages/scipy/stats/stats.py:2419: RuntimeWarning: invalid value encountered in subtract\n",
            "  return (a - mns) / sstd\n",
            "found nans\n",
            "total rows:  30434\n",
            "total rows:  30492\n",
            "total rows:  30941\n",
            "total rows:  30941\n",
            "total rows:  31030\n",
            "total rows:  31089\n",
            "total rows:  31184\n",
            "total rows:  31278\n",
            "/usr/local/lib/python3.7/dist-packages/numpy/core/_methods.py:230: RuntimeWarning: invalid value encountered in subtract\n",
            "  x = asanyarray(arr - arrmean)\n",
            "/usr/local/lib/python3.7/dist-packages/scipy/stats/stats.py:2419: RuntimeWarning: invalid value encountered in subtract\n",
            "  return (a - mns) / sstd\n",
            "found nans\n",
            "total rows:  31278\n",
            "total rows:  31624\n",
            "total rows:  31632\n",
            "total rows:  31632\n",
            "total rows:  31632\n",
            "total rows:  31632\n",
            "total rows:  31676\n",
            "total rows:  31735\n",
            "total rows:  31851\n",
            "total rows:  31851\n",
            "total rows:  31944\n",
            "total rows:  32434\n",
            "total rows:  32434\n",
            "total rows:  34217\n",
            "total rows:  34217\n",
            "total rows:  34627\n",
            "total rows:  34903\n",
            "/usr/local/lib/python3.7/dist-packages/numpy/core/_methods.py:230: RuntimeWarning: invalid value encountered in subtract\n",
            "  x = asanyarray(arr - arrmean)\n",
            "/usr/local/lib/python3.7/dist-packages/scipy/stats/stats.py:2419: RuntimeWarning: invalid value encountered in subtract\n",
            "  return (a - mns) / sstd\n",
            "found nans\n",
            "total rows:  34903\n",
            "total rows:  35410\n",
            "total rows:  35410\n",
            "total rows:  35795\n",
            "total rows:  35853\n",
            "total rows:  36511\n",
            "total rows:  36570\n",
            "total rows:  36989\n",
            "total rows:  37081\n",
            "total rows:  37310\n",
            "/usr/local/lib/python3.7/dist-packages/numpy/core/_methods.py:230: RuntimeWarning: invalid value encountered in subtract\n",
            "  x = asanyarray(arr - arrmean)\n",
            "/usr/local/lib/python3.7/dist-packages/scipy/stats/stats.py:2419: RuntimeWarning: invalid value encountered in subtract\n",
            "  return (a - mns) / sstd\n",
            "total rows:  37310\n",
            "total rows:  38749\n",
            "total rows:  39191\n",
            "/usr/local/lib/python3.7/dist-packages/numpy/core/_methods.py:230: RuntimeWarning: invalid value encountered in subtract\n",
            "  x = asanyarray(arr - arrmean)\n",
            "/usr/local/lib/python3.7/dist-packages/scipy/stats/stats.py:2419: RuntimeWarning: invalid value encountered in subtract\n",
            "  return (a - mns) / sstd\n",
            "found nans\n",
            "total rows:  39191\n",
            "/usr/local/lib/python3.7/dist-packages/numpy/core/_methods.py:230: RuntimeWarning: invalid value encountered in subtract\n",
            "  x = asanyarray(arr - arrmean)\n",
            "/usr/local/lib/python3.7/dist-packages/scipy/stats/stats.py:2419: RuntimeWarning: invalid value encountered in subtract\n",
            "  return (a - mns) / sstd\n",
            "found nans\n",
            "total rows:  39191\n",
            "total rows:  39487\n",
            "total rows:  39971\n",
            "total rows:  39992\n",
            "total rows:  40088\n",
            "total rows:  40574\n",
            "/usr/local/lib/python3.7/dist-packages/numpy/core/_methods.py:230: RuntimeWarning: invalid value encountered in subtract\n",
            "  x = asanyarray(arr - arrmean)\n",
            "/usr/local/lib/python3.7/dist-packages/scipy/stats/stats.py:2419: RuntimeWarning: invalid value encountered in subtract\n",
            "  return (a - mns) / sstd\n",
            "found nans\n",
            "total rows:  40574\n",
            "total rows:  41878\n",
            "total rows:  41888\n",
            "total rows:  42112\n",
            "total rows:  42122\n",
            "total rows:  42122\n",
            "total rows:  42134\n",
            "total rows:  42739\n",
            "total rows:  43031\n",
            "total rows:  43329\n",
            "total rows:  43419\n",
            "total rows:  43695\n",
            "total rows:  43695\n",
            "total rows:  43750\n",
            "total rows:  43872\n",
            "total rows:  43916\n",
            "total rows:  43916\n",
            "total rows:  43916\n",
            "total rows:  44005\n",
            "/usr/local/lib/python3.7/dist-packages/numpy/core/_methods.py:230: RuntimeWarning: invalid value encountered in subtract\n",
            "  x = asanyarray(arr - arrmean)\n",
            "/usr/local/lib/python3.7/dist-packages/scipy/stats/stats.py:2419: RuntimeWarning: invalid value encountered in subtract\n",
            "  return (a - mns) / sstd\n",
            "found nans\n",
            "total rows:  44005\n",
            "/usr/local/lib/python3.7/dist-packages/numpy/core/_methods.py:230: RuntimeWarning: invalid value encountered in subtract\n",
            "  x = asanyarray(arr - arrmean)\n",
            "/usr/local/lib/python3.7/dist-packages/scipy/stats/stats.py:2419: RuntimeWarning: invalid value encountered in subtract\n",
            "  return (a - mns) / sstd\n",
            "found nans\n",
            "total rows:  44005\n",
            "total rows:  44005\n",
            "total rows:  44101\n",
            "total rows:  44111\n",
            "/usr/local/lib/python3.7/dist-packages/numpy/core/_methods.py:230: RuntimeWarning: invalid value encountered in subtract\n",
            "  x = asanyarray(arr - arrmean)\n",
            "/usr/local/lib/python3.7/dist-packages/scipy/stats/stats.py:2419: RuntimeWarning: invalid value encountered in subtract\n",
            "  return (a - mns) / sstd\n",
            "found nans\n",
            "total rows:  44111\n",
            "total rows:  44111\n",
            "total rows:  44806\n",
            "total rows:  44806\n",
            "total rows:  44806\n",
            "total rows:  44806\n",
            "total rows:  44852\n",
            "total rows:  44862\n",
            "total rows:  45161\n",
            "total rows:  45161\n",
            "/usr/local/lib/python3.7/dist-packages/numpy/core/_methods.py:230: RuntimeWarning: invalid value encountered in subtract\n",
            "  x = asanyarray(arr - arrmean)\n",
            "/usr/local/lib/python3.7/dist-packages/scipy/stats/stats.py:2419: RuntimeWarning: invalid value encountered in subtract\n",
            "  return (a - mns) / sstd\n",
            "found nans\n",
            "total rows:  45161\n",
            "total rows:  45453\n",
            "total rows:  45453\n",
            "total rows:  45453\n",
            "total rows:  45453\n",
            "total rows:  45521\n",
            "total rows:  45580\n",
            "total rows:  45580\n",
            "/usr/local/lib/python3.7/dist-packages/numpy/core/_methods.py:230: RuntimeWarning: invalid value encountered in subtract\n",
            "  x = asanyarray(arr - arrmean)\n",
            "/usr/local/lib/python3.7/dist-packages/scipy/stats/stats.py:2419: RuntimeWarning: invalid value encountered in subtract\n",
            "  return (a - mns) / sstd\n",
            "found nans\n",
            "total rows:  45580\n",
            "/usr/local/lib/python3.7/dist-packages/numpy/core/_methods.py:230: RuntimeWarning: invalid value encountered in subtract\n",
            "  x = asanyarray(arr - arrmean)\n",
            "/usr/local/lib/python3.7/dist-packages/scipy/stats/stats.py:2419: RuntimeWarning: invalid value encountered in subtract\n",
            "  return (a - mns) / sstd\n",
            "found nans\n",
            "total rows:  45580\n",
            "/usr/local/lib/python3.7/dist-packages/numpy/core/_methods.py:230: RuntimeWarning: invalid value encountered in subtract\n",
            "  x = asanyarray(arr - arrmean)\n",
            "/usr/local/lib/python3.7/dist-packages/scipy/stats/stats.py:2419: RuntimeWarning: invalid value encountered in subtract\n",
            "  return (a - mns) / sstd\n",
            "found nans\n",
            "total rows:  45580\n",
            "total rows:  45580\n",
            "total rows:  45873\n",
            "total rows:  45884\n",
            "total rows:  47332\n",
            "total rows:  49906\n",
            "total rows:  49979\n",
            "<class 'pandas.core.frame.DataFrame'>\n",
            "Int64Index: 414 entries, 0 to 413\n",
            "Data columns (total 13 columns):\n",
            " #   Column  Non-Null Count  Dtype  \n",
            "---  ------  --------------  -----  \n",
            " 0   0_open  414 non-null    float64\n",
            " 1   0_name  414 non-null    object \n",
            " 2   1_open  414 non-null    float64\n",
            " 3   1_name  414 non-null    object \n",
            " 4   2_open  414 non-null    float64\n",
            " 5   2_name  414 non-null    object \n",
            " 6   3_open  414 non-null    float64\n",
            " 7   3_name  414 non-null    object \n",
            " 8   4_open  414 non-null    float64\n",
            " 9   4_name  414 non-null    object \n",
            " 10  day     414 non-null    int64  \n",
            " 11  month   414 non-null    int64  \n",
            " 12  sector  414 non-null    object \n",
            "dtypes: float64(5), int64(2), object(6)\n",
            "memory usage: 45.3+ KB\n",
            "None\n",
            "{0: 'GEVO', 1: 'MP', 2: 'WWR', 3: 'MAG', 4: 'EXK', 5: 'LAC', 6: 'AG', 7: 'CC', 8: 'AU', 9: 'CVNA', 10: 'OSTK', 11: 'HLT', 12: 'JD', 13: 'CPRI', 14: 'CLF', 15: 'VALE', 16: 'NG', 17: 'SHOP', 18: 'TTCM', 19: 'AMD', 20: 'CFLT', 21: 'BB', 22: 'VRAR', 23: 'WEJO', 24: 'TXN', 25: 'DM', 26: 'NEWR', 27: 'VET', 28: 'VLO', 29: 'DNN', 30: 'SLB', 31: 'GTE', 32: 'AGR', 33: 'OEG', 34: 'D', 35: 'HLGN', 36: 'PCG', 37: 'UNP', 38: 'LQMT', 39: 'R', 40: 'RCRT', 41: 'LMT', 42: 'ES', 43: 'PPGH', 44: 'SOFI', 45: 'C', 46: 'LMND', 47: 'BAC', 48: 'IVZ', 49: 'RELI', 50: 'BX', 51: 'DEFTF', 52: 'CNGT', 53: 'EBAY', 54: 'LCID', 55: 'F', 56: 'PTRA', 57: 'ORGN', 58: 'FCX', 59: 'MOS', 60: 'HCC', 61: 'FREE', 62: 'COST', 63: 'KO', 64: 'WMT', 65: 'FAMI', 66: 'AFMD', 67: 'CLDX', 68: 'GERN', 69: 'SYK', 70: 'SXTC', 71: 'POLA', 72: 'UAL', 73: 'J', 74: 'BA', 75: 'GOOGL', 76: 'ATUS', 77: 'SBGI', 78: 'GRPN', 79: 'SPOT', 80: 'OPAD', 81: 'AHT', 82: 'MSTO', 83: 'OPEN', 84: 'RDFN', 85: 'IRTC', 86: 'BLUE', 87: 'BIIB', 88: 'RVPH', 89: 'DCGO', 90: 'IGEX', 91: 'DVAX', 92: 'SAVA', 93: 'BMY', 94: 'WTI', 95: 'E', 96: 'APA', 97: 'OXY', 98: 'AR', 99: 'ICOA', 100: 'OPRA', 101: 'ATVI', 102: 'T', 103: 'RBLX', 104: 'SAFE', 105: 'LTC', 106: 'PLD', 107: 'CFVI', 108: 'AMP', 109: 'IFXY', 110: 'ENZC', 111: 'BBIO', 112: 'VVOS', 113: 'TRVN', 114: 'SENS', 115: 'GNRC', 116: 'ZIM', 117: 'GFAI', 118: 'BLNK', 119: 'AMT', 120: 'PLAN', 121: 'NXPI', 122: 'NCNO', 123: 'AVGO', 124: 'AMAT', 125: 'UEC', 126: 'VTXB', 127: 'DVN', 128: 'AFRM', 129: 'HPE', 130: 'GWSO', 131: 'ENPH', 132: 'CLSK', 133: 'CSCO', 134: 'VMNT', 135: 'PSFE', 136: 'CLOV', 137: 'MRNA', 138: 'SNDL', 139: 'RGBPP', 140: 'TECK', 141: 'BHP', 142: 'AMRS', 143: 'DOGZ', 144: 'MNST', 145: 'HAIN', 146: 'MF', 147: 'K', 148: 'SBEV', 149: 'ONE', 150: 'CHGG', 151: 'ULTA', 152: 'GRIL', 153: 'FSR', 154: 'LULU', 155: 'PZZA', 156: 'BP', 157: 'AUNXF', 158: 'A', 159: 'CDXC', 160: 'TLRY', 161: 'ABT', 162: 'ATVK', 163: 'ARCB', 164: 'CBAT', 165: 'OPTT', 166: 'PGR', 167: 'CFG', 168: 'CRKR', 169: 'NGCG', 170: 'LRDR', 171: 'SCHW', 172: 'MS', 173: 'TPG', 174: 'BTBT', 175: 'PRU', 176: 'RKT', 177: 'NU', 178: 'MARA', 179: 'JEF', 180: 'IBKR', 181: 'HMNY', 182: 'FSLR', 183: 'MINM', 184: 'SWKS', 185: 'RIO', 186: 'HIMX', 187: 'CTXS', 188: 'ATOM', 189: 'MSFT', 190: 'WLL', 191: 'RIG', 192: 'PXD', 193: 'BTU', 194: 'INTC', 195: 'CRM', 196: 'STX', 197: 'PLTR', 198: 'BYND', 199: 'CELH', 200: 'FDX', 201: 'ALPP', 202: 'APT', 203: 'MGM', 204: 'WISH', 205: 'XPEV', 206: 'MLCO', 207: 'PIK', 208: 'DLTR', 209: 'PG', 210: 'GOEV', 211: 'WGO', 212: 'ABNB', 213: 'ETSY', 214: 'TONR', 215: 'ZNGA', 216: 'DASH', 217: 'HUYA', 218: 'V', 219: 'BTT', 220: 'PSLV', 221: 'BTCS', 222: 'MGI', 223: 'PYPL', 224: 'GOLD', 225: 'MA', 226: 'UMAX', 227: 'LC', 228: 'OCGN', 229: 'SDC', 230: 'TDOC', 231: 'LPTX', 232: 'EA', 233: 'XNET', 234: 'MMAT', 235: 'ZS', 236: 'PANW', 237: 'CPSH', 238: 'YALA', 239: 'NXTP', 240: 'INPX', 241: 'VFF', 242: 'BCTX', 243: 'GILD', 244: 'EXAS', 245: 'MTN', 246: 'PENN', 247: 'RH', 248: 'RKUNY', 249: 'AFPW', 250: 'AA', 251: 'ASM', 252: 'ROKU', 253: 'NTDOY', 254: 'GOOG', 255: 'STRN', 256: 'DBMM', 257: 'ISIG', 258: 'BIDU', 259: 'FAST', 260: 'MMM', 261: 'AERC', 262: 'AJRD', 263: 'MRVL', 264: 'RUN', 265: 'BKKT', 266: 'WDAY', 267: 'APPS', 268: 'JPM', 269: 'DB', 270: 'SHAK', 271: 'CROX', 272: 'LOVE', 273: 'DAL', 274: 'JOBY', 275: 'GS', 276: 'ASTR', 277: 'WM', 278: 'PLUG', 279: 'FIZZ', 280: 'COTY', 281: 'CL', 282: 'MELI', 283: 'ELYS', 284: 'KSS', 285: 'EBET', 286: 'GVSI', 287: 'SPCE', 288: 'LUV', 289: 'XELA', 290: 'INFY', 291: 'YETI', 292: 'TRIP', 293: 'ASO', 294: 'AMZN', 295: 'EMN', 296: 'FCEL', 297: 'UPS', 298: 'DGLY', 299: 'FORW', 300: 'GGAL', 301: 'CNK', 302: 'AMC', 303: 'GOGO', 304: 'ALK', 305: 'DE', 306: 'CHWY', 307: 'LOTZ', 308: 'CCL', 309: 'NKLA', 310: 'EXPE', 311: 'BABL', 312: 'SOLO', 313: 'HOUR', 314: 'IDEX', 315: 'UAVS', 316: 'ENS', 317: 'NAK', 318: 'CVE', 319: 'NRT', 320: 'BROS', 321: 'GLBE', 322: 'CNQ', 323: 'ET', 324: 'CHK', 325: 'DNUT', 326: 'CLX', 327: 'IMMX', 328: 'LGVN', 329: 'EVO', 330: 'NVAX', 331: 'NFLX', 332: 'TWTR', 333: 'SNPW', 334: 'AEO', 335: 'BABA', 336: 'LGIH', 337: 'UA', 338: 'CAR', 339: 'CAT', 340: 'NEM', 341: 'B', 342: 'GRIN', 343: 'AI', 344: 'CRCT', 345: 'BLK', 346: 'HES', 347: 'FB', 348: 'RAD', 349: 'CRDL', 350: 'ARWR', 351: 'HGEN', 352: 'UPST', 353: 'L', 354: 'CS', 355: 'NICH', 356: 'ATIP', 357: 'FBRX', 358: 'MYOV', 359: 'CMPS', 360: 'BRN', 361: 'KC', 362: 'SONO', 363: 'TGT', 364: 'GGG', 365: 'FHS', 366: 'OTLY', 367: 'GM', 368: 'HAS', 369: 'HOG', 370: 'NTRB', 371: 'NKTR', 372: 'FTNT', 373: 'PAR', 374: 'UCTT', 375: 'CRWD', 376: 'SUNL', 377: 'PSTH', 378: 'FUTU', 379: 'MO', 380: 'ATAI', 381: 'ISRG', 382: 'CMRX', 383: 'CYDY', 384: 'NIO', 385: 'APRN', 386: 'RICK', 387: 'CF', 388: 'KMI', 389: 'ACI', 390: 'NET', 391: 'TTD', 392: 'LAZR', 393: 'SOTK', 394: 'SI', 395: 'DWAC', 396: 'BBBY', 397: 'LVS', 398: 'GOOS', 399: 'TKAT', 400: 'SFIX', 401: 'RNWF', 402: 'FUBO', 403: 'AUD', 404: 'SANT', 405: 'MSTR', 406: 'AMBA', 407: 'TWLO', 408: 'COIN', 409: 'ASAN', 410: 'DELL', 411: 'HMBL', 412: 'PPSI', 413: 'DPZ', 414: 'PTON', 415: 'SGC', 416: 'LOCO', 417: 'GLW', 418: 'URBN', 419: 'PDD', 420: 'TRI', 421: 'AZ', 422: 'SQ', 423: 'ANY', 424: 'RIOT', 425: 'MITQ', 426: 'ARQQ', 427: 'IBM', 428: 'KSM', 429: 'TTWO', 430: 'SKLZ', 431: 'VXRT', 432: 'GSK', 433: 'VINE', 434: 'TQLB', 435: 'X', 436: 'SNAP', 437: 'VZ', 438: 'IVST', 439: 'HTZ', 440: 'GGII', 441: 'UNH', 442: 'JNJ', 443: 'SRPT', 444: 'BILL', 445: 'ACN', 446: 'PINS', 447: 'NVDA', 448: 'GT', 449: 'JMIA', 450: 'VBIV', 451: 'CRTX', 452: 'RCL', 453: 'ERBB', 454: 'AMGN', 455: 'PFE', 456: 'QS', 457: 'CEI', 458: 'BFLY', 459: 'FANG', 460: 'CCJ'}\n",
            "{'GEVO': 0, 'MP': 1, 'WWR': 2, 'MAG': 3, 'EXK': 4, 'LAC': 5, 'AG': 6, 'CC': 7, 'AU': 8, 'CVNA': 9, 'OSTK': 10, 'HLT': 11, 'JD': 12, 'CPRI': 13, 'CLF': 14, 'VALE': 15, 'NG': 16, 'SHOP': 17, 'TTCM': 18, 'AMD': 19, 'CFLT': 20, 'BB': 21, 'VRAR': 22, 'WEJO': 23, 'TXN': 24, 'DM': 25, 'NEWR': 26, 'VET': 27, 'VLO': 28, 'DNN': 29, 'SLB': 30, 'GTE': 31, 'AGR': 32, 'OEG': 33, 'D': 34, 'HLGN': 35, 'PCG': 36, 'UNP': 37, 'LQMT': 38, 'R': 39, 'RCRT': 40, 'LMT': 41, 'ES': 42, 'PPGH': 43, 'SOFI': 44, 'C': 45, 'LMND': 46, 'BAC': 47, 'IVZ': 48, 'RELI': 49, 'BX': 50, 'DEFTF': 51, 'CNGT': 52, 'EBAY': 53, 'LCID': 54, 'F': 55, 'PTRA': 56, 'ORGN': 57, 'FCX': 58, 'MOS': 59, 'HCC': 60, 'FREE': 61, 'COST': 62, 'KO': 63, 'WMT': 64, 'FAMI': 65, 'AFMD': 66, 'CLDX': 67, 'GERN': 68, 'SYK': 69, 'SXTC': 70, 'POLA': 71, 'UAL': 72, 'J': 73, 'BA': 74, 'GOOGL': 75, 'ATUS': 76, 'SBGI': 77, 'GRPN': 78, 'SPOT': 79, 'OPAD': 80, 'AHT': 81, 'MSTO': 82, 'OPEN': 83, 'RDFN': 84, 'IRTC': 85, 'BLUE': 86, 'BIIB': 87, 'RVPH': 88, 'DCGO': 89, 'IGEX': 90, 'DVAX': 91, 'SAVA': 92, 'BMY': 93, 'WTI': 94, 'E': 95, 'APA': 96, 'OXY': 97, 'AR': 98, 'ICOA': 99, 'OPRA': 100, 'ATVI': 101, 'T': 102, 'RBLX': 103, 'SAFE': 104, 'LTC': 105, 'PLD': 106, 'CFVI': 107, 'AMP': 108, 'IFXY': 109, 'ENZC': 110, 'BBIO': 111, 'VVOS': 112, 'TRVN': 113, 'SENS': 114, 'GNRC': 115, 'ZIM': 116, 'GFAI': 117, 'BLNK': 118, 'AMT': 119, 'PLAN': 120, 'NXPI': 121, 'NCNO': 122, 'AVGO': 123, 'AMAT': 124, 'UEC': 125, 'VTXB': 126, 'DVN': 127, 'AFRM': 128, 'HPE': 129, 'GWSO': 130, 'ENPH': 131, 'CLSK': 132, 'CSCO': 133, 'VMNT': 134, 'PSFE': 135, 'CLOV': 136, 'MRNA': 137, 'SNDL': 138, 'RGBPP': 139, 'TECK': 140, 'BHP': 141, 'AMRS': 142, 'DOGZ': 143, 'MNST': 144, 'HAIN': 145, 'MF': 146, 'K': 147, 'SBEV': 148, 'ONE': 149, 'CHGG': 150, 'ULTA': 151, 'GRIL': 152, 'FSR': 153, 'LULU': 154, 'PZZA': 155, 'BP': 156, 'AUNXF': 157, 'A': 158, 'CDXC': 159, 'TLRY': 160, 'ABT': 161, 'ATVK': 162, 'ARCB': 163, 'CBAT': 164, 'OPTT': 165, 'PGR': 166, 'CFG': 167, 'CRKR': 168, 'NGCG': 169, 'LRDR': 170, 'SCHW': 171, 'MS': 172, 'TPG': 173, 'BTBT': 174, 'PRU': 175, 'RKT': 176, 'NU': 177, 'MARA': 178, 'JEF': 179, 'IBKR': 180, 'HMNY': 181, 'FSLR': 182, 'MINM': 183, 'SWKS': 184, 'RIO': 185, 'HIMX': 186, 'CTXS': 187, 'ATOM': 188, 'MSFT': 189, 'WLL': 190, 'RIG': 191, 'PXD': 192, 'BTU': 193, 'INTC': 194, 'CRM': 195, 'STX': 196, 'PLTR': 197, 'BYND': 198, 'CELH': 199, 'FDX': 200, 'ALPP': 201, 'APT': 202, 'MGM': 203, 'WISH': 204, 'XPEV': 205, 'MLCO': 206, 'PIK': 207, 'DLTR': 208, 'PG': 209, 'GOEV': 210, 'WGO': 211, 'ABNB': 212, 'ETSY': 213, 'TONR': 214, 'ZNGA': 215, 'DASH': 216, 'HUYA': 217, 'V': 218, 'BTT': 219, 'PSLV': 220, 'BTCS': 221, 'MGI': 222, 'PYPL': 223, 'GOLD': 224, 'MA': 225, 'UMAX': 226, 'LC': 227, 'OCGN': 228, 'SDC': 229, 'TDOC': 230, 'LPTX': 231, 'EA': 232, 'XNET': 233, 'MMAT': 234, 'ZS': 235, 'PANW': 236, 'CPSH': 237, 'YALA': 238, 'NXTP': 239, 'INPX': 240, 'VFF': 241, 'BCTX': 242, 'GILD': 243, 'EXAS': 244, 'MTN': 245, 'PENN': 246, 'RH': 247, 'RKUNY': 248, 'AFPW': 249, 'AA': 250, 'ASM': 251, 'ROKU': 252, 'NTDOY': 253, 'GOOG': 254, 'STRN': 255, 'DBMM': 256, 'ISIG': 257, 'BIDU': 258, 'FAST': 259, 'MMM': 260, 'AERC': 261, 'AJRD': 262, 'MRVL': 263, 'RUN': 264, 'BKKT': 265, 'WDAY': 266, 'APPS': 267, 'JPM': 268, 'DB': 269, 'SHAK': 270, 'CROX': 271, 'LOVE': 272, 'DAL': 273, 'JOBY': 274, 'GS': 275, 'ASTR': 276, 'WM': 277, 'PLUG': 278, 'FIZZ': 279, 'COTY': 280, 'CL': 281, 'MELI': 282, 'ELYS': 283, 'KSS': 284, 'EBET': 285, 'GVSI': 286, 'SPCE': 287, 'LUV': 288, 'XELA': 289, 'INFY': 290, 'YETI': 291, 'TRIP': 292, 'ASO': 293, 'AMZN': 294, 'EMN': 295, 'FCEL': 296, 'UPS': 297, 'DGLY': 298, 'FORW': 299, 'GGAL': 300, 'CNK': 301, 'AMC': 302, 'GOGO': 303, 'ALK': 304, 'DE': 305, 'CHWY': 306, 'LOTZ': 307, 'CCL': 308, 'NKLA': 309, 'EXPE': 310, 'BABL': 311, 'SOLO': 312, 'HOUR': 313, 'IDEX': 314, 'UAVS': 315, 'ENS': 316, 'NAK': 317, 'CVE': 318, 'NRT': 319, 'BROS': 320, 'GLBE': 321, 'CNQ': 322, 'ET': 323, 'CHK': 324, 'DNUT': 325, 'CLX': 326, 'IMMX': 327, 'LGVN': 328, 'EVO': 329, 'NVAX': 330, 'NFLX': 331, 'TWTR': 332, 'SNPW': 333, 'AEO': 334, 'BABA': 335, 'LGIH': 336, 'UA': 337, 'CAR': 338, 'CAT': 339, 'NEM': 340, 'B': 341, 'GRIN': 342, 'AI': 343, 'CRCT': 344, 'BLK': 345, 'HES': 346, 'FB': 347, 'RAD': 348, 'CRDL': 349, 'ARWR': 350, 'HGEN': 351, 'UPST': 352, 'L': 353, 'CS': 354, 'NICH': 355, 'ATIP': 356, 'FBRX': 357, 'MYOV': 358, 'CMPS': 359, 'BRN': 360, 'KC': 361, 'SONO': 362, 'TGT': 363, 'GGG': 364, 'FHS': 365, 'OTLY': 366, 'GM': 367, 'HAS': 368, 'HOG': 369, 'NTRB': 370, 'NKTR': 371, 'FTNT': 372, 'PAR': 373, 'UCTT': 374, 'CRWD': 375, 'SUNL': 376, 'PSTH': 377, 'FUTU': 378, 'MO': 379, 'ATAI': 380, 'ISRG': 381, 'CMRX': 382, 'CYDY': 383, 'NIO': 384, 'APRN': 385, 'RICK': 386, 'CF': 387, 'KMI': 388, 'ACI': 389, 'NET': 390, 'TTD': 391, 'LAZR': 392, 'SOTK': 393, 'SI': 394, 'DWAC': 395, 'BBBY': 396, 'LVS': 397, 'GOOS': 398, 'TKAT': 399, 'SFIX': 400, 'RNWF': 401, 'FUBO': 402, 'AUD': 403, 'SANT': 404, 'MSTR': 405, 'AMBA': 406, 'TWLO': 407, 'COIN': 408, 'ASAN': 409, 'DELL': 410, 'HMBL': 411, 'PPSI': 412, 'DPZ': 413, 'PTON': 414, 'SGC': 415, 'LOCO': 416, 'GLW': 417, 'URBN': 418, 'PDD': 419, 'TRI': 420, 'AZ': 421, 'SQ': 422, 'ANY': 423, 'RIOT': 424, 'MITQ': 425, 'ARQQ': 426, 'IBM': 427, 'KSM': 428, 'TTWO': 429, 'SKLZ': 430, 'VXRT': 431, 'GSK': 432, 'VINE': 433, 'TQLB': 434, 'X': 435, 'SNAP': 436, 'VZ': 437, 'IVST': 438, 'HTZ': 439, 'GGII': 440, 'UNH': 441, 'JNJ': 442, 'SRPT': 443, 'BILL': 444, 'ACN': 445, 'PINS': 446, 'NVDA': 447, 'GT': 448, 'JMIA': 449, 'VBIV': 450, 'CRTX': 451, 'RCL': 452, 'ERBB': 453, 'AMGN': 454, 'PFE': 455, 'QS': 456, 'CEI': 457, 'BFLY': 458, 'FANG': 459, 'CCJ': 460}\n",
            "{'Healthcare': ['A', 'ABBV', 'ABT', 'ABUS', 'ACAD', 'AEZS', 'AFMD', 'ALDX', 'AMGN', 'AMRN', 'ARWR', 'ATAI', 'ATIP', 'AUPH', 'BBIO', 'BCTX', 'BFLY', 'BFRI', 'BHVN', 'BIIB', 'BLUE', 'BMY', 'BNTX', 'CDNA', 'CDXC', 'CGC', 'CLDX', 'CLOV', 'CLPT', 'CMPS', 'CMRX', 'CODX', 'CRDL', 'CRON', 'CRTX', 'CVS', 'CYDY', 'DCGO', 'DNA', 'DVAX', 'ENZC', 'ERBB', 'EVO', 'EXAS', 'EXEL', 'FBRX', 'FOLD', 'GERN', 'GILD', 'GLASF', 'GLSI', 'GMVD', 'GNCA', 'GSK', 'GTBIF', 'HGEN', 'HUM', 'HZNP', 'IGEX', 'IINN', 'ILMN', 'IMCC', 'IMMX', 'INMD', 'INO', 'IPA', 'IRTC', 'ISRG', 'JNJ', 'KMPH', 'LGVN', 'LPTX', 'MRK', 'MRNA', 'MYNZ', 'MYOV', 'NKTR', 'NTLA', 'NTRB', 'NURO', 'NVAX', 'NWBO', 'OCGN', 'PACB', 'PAVM', 'PFE', 'PROG', 'PSTV', 'PULM', 'QURE', 'RAD', 'RGBP', 'RGBPP', 'RVPH', 'RWBYF', 'SAVA', 'SDC', 'SENS', 'SNDL', 'SRNE', 'SRPT', 'SXTC', 'SYK', 'TDOC', 'TGGI', 'TLRY', 'TNDM', 'TRVN', 'UNH', 'VBIV', 'VTVT', 'VVOS', 'VXRT', 'XAIR', 'XERS', 'XXII', 'ZGNX'], 'Basic Materials': ['AA', 'AFPW', 'AG', 'AMRS', 'ASM', 'AU', 'BHP', 'CC', 'CF', 'CLF', 'EMN', 'EXK', 'FCX', 'GEVO', 'GOLD', 'HCC', 'LAC', 'MAG', 'MOS', 'MP', 'NAK', 'NEM', 'NG', 'ORGN', 'RIO', 'RNWF', 'TECK', 'VALE', 'WWR', 'X'], 'Industrials': ['AAL', 'AERC', 'AJRD', 'ALK', 'ALPP', 'APT', 'ARCB', 'ASTR', 'ATVK', 'AZ', 'B', 'BA', 'BLNK', 'CAR', 'CAT', 'CBAT', 'CHRA', 'DAL', 'DE', 'DGLY', 'ENS', 'FAST', 'FCEL', 'FDX', 'GE', 'GFAI', 'GGG', 'GGII', 'GNRC', 'GPN', 'GRIN', 'HTZ', 'IDEX', 'IVST', 'J', 'JBHT', 'JOBY', 'LMT', 'LQMT', 'LUV', 'MMM', 'OPTT', 'PIXY', 'PL', 'PLUG', 'POLA', 'PPSI', 'R', 'RCRT', 'SAVE', 'SPCE', 'TRI', 'UAL', 'UAVS', 'UNP', 'UPS', 'WM', 'ZIM', 'ZIP'], 'Consumer Cyclical': ['ABNB', 'AEO', 'AMZN', 'APRN', 'ASO', 'ATER', 'BABA', 'BABL', 'BBBY', 'BBIG', 'BBY', 'BKNG', 'BROS', 'CCL', 'CHWY', 'CMG', 'CPNG', 'CPRI', 'CROX', 'CVNA', 'DDS', 'DKNG', 'DKS', 'DPZ', 'EBAY', 'EBET', 'ELYS', 'ETSY', 'EVGO', 'EXPE', 'F', 'FND', 'FSR', 'FTCH', 'GLBE', 'GM', 'GME', 'GNOG', 'GOEV', 'GOOS', 'GP', 'GPS', 'GRIL', 'GRWG', 'GT', 'GVSI', 'HAS', 'HD', 'HLT', 'HOG', 'HOUR', 'JD', 'JMIA', 'KBH', 'KSS', 'LCID', 'LEN', 'LGIH', 'LOCO', 'LOTZ', 'LOVE', 'LTRY', 'LULU', 'LVS', 'M', 'MCD', 'MELI', 'MGM', 'MLCO', 'MTN', 'NEGG', 'NIO', 'NKE', 'NKLA', 'OLPX', 'ONON', 'OSTK', 'PDD', 'PENN', 'PIK', 'PLBY', 'PTON', 'PTRA', 'PZZA', 'QS', 'RCL', 'RENN', 'RH', 'RICK', 'RIVN', 'RKUNY', 'SBUX', 'SEV', 'SFIX', 'SGC', 'SHAK', 'SOLO', 'STLA', 'SYPR', 'TKAT', 'TONR', 'TRIP', 'TSCO', 'UA', 'ULTA', 'URBN', 'VRM', 'W', 'WGO', 'WISH', 'WKHS', 'WYNN', 'XPEV', 'XSPA', 'YETI'], 'Technology': ['ACFN', 'ACN', 'ADBE', 'AEHR', 'AFRM', 'AI', 'AMAT', 'AMBA', 'AMD', 'AMKR', 'AMPL', 'ANET', 'ANY', 'APPS', 'ARQQ', 'ASAN', 'ASML', 'ATOM', 'AVCT', 'AVGO', 'AVLR', 'BB', 'BEEM', 'BILL', 'BKKT', 'CAMT', 'CFLT', 'CLSK', 'COIN', 'COMP', 'CPSH', 'CRCT', 'CRM', 'CRSM', 'CRWD', 'CSCO', 'CTXS', 'DATS', 'DDOG', 'DELL', 'DIDI', 'DLO', 'DM', 'DOCN', 'DOCU', 'ENPH', 'FATH', 'FSLR', 'FSLY', 'FTNT', 'G', 'GLW', 'GPRO', 'GWSO', 'HIMX', 'HMBL', 'HMNY', 'HOOD', 'HPE', 'HUBS', 'IBM', 'INFY', 'INPX', 'INTC', 'KC', 'LAZR', 'LINK', 'LRCX', 'LUNA', 'MDB', 'MINM', 'MITQ', 'MMAT', 'MQ', 'MRIN', 'MRVL', 'MSFT', 'MSTR', 'MTTR', 'MU', 'MVIS', 'NCNO', 'NET', 'NEWR', 'NOK', 'NTAP', 'NTNX', 'NVDA', 'NXPI', 'NXTP', 'OKTA', 'ORCL', 'PANW', 'PAR', 'PATH', 'PHUN', 'PLAN', 'PLTR', 'PSFE', 'QCOM', 'RIOT', 'RUN', 'S', 'SANT', 'SEAC', 'SHOP', 'SNOW', 'SOL', 'SONO', 'SONY', 'SOS', 'SOTK', 'SPLK', 'SQ', 'STX', 'SWKS', 'TER', 'TSM', 'TTCM', 'TTD', 'TXN', 'TYL', 'U', 'UBER', 'UCTT', 'VMNT', 'VRAR', 'VUZI', 'WDAY', 'WEJO', 'XELA', 'YALA', 'YOU', 'ZI', 'ZM', 'ZS'], 'Consumer Defensive': ['ACI', 'BYND', 'CELH', 'CHGG', 'CL', 'CLX', 'COST', 'COTY', 'DLTR', 'DNUT', 'DOGZ', 'FAMI', 'FHS', 'FIZZ', 'FREE', 'HAIN', 'K', 'KO', 'MF', 'MNST', 'MO', 'ONE', 'OTLY', 'PEP', 'PG', 'SBEV', 'SKIN', 'TGT', 'TQLB', 'VFF', 'VINE', 'WMT'], 'Utilities': ['AGR', 'D', 'ES', 'HLGN', 'OEG', 'PCG'], 'Real Estate': ['AHT', 'AMT', 'LTC', 'MSTO', 'OPAD', 'OPEN', 'PLD', 'RDFN', 'SAFE'], 'Communication Services': ['AMC', 'ATUS', 'ATVI', 'AUD', 'BIDU', 'CABO', 'CNK', 'DASH', 'DBMM', 'DIS', 'EA', 'FB', 'FUBO', 'GENI', 'GOGO', 'GOOG', 'GOOGL', 'GRPN', 'HUYA', 'ICOA', 'ISIG', 'NFLX', 'NTDOY', 'OPRA', 'PINS', 'RBLX', 'ROKU', 'SBGI', 'SE', 'SKLZ', 'SNAP', 'SNPW', 'SPOT', 'STRN', 'T', 'TTWO', 'TWLO', 'TWTR', 'VZ', 'XNET', 'YNDX', 'Z', 'ZNGA'], 'Financial Services': ['AMP', 'BAC', 'BLK', 'BTBT', 'BTCS', 'BTT', 'BX', 'C', 'CFG', 'CFVI', 'CNGT', 'CRKR', 'CS', 'DB', 'DEFTF', 'DWAC', 'FOMC', 'FORW', 'FUTU', 'GGAL', 'GGPI', 'GS', 'IBKR', 'IFXY', 'IVZ', 'JEF', 'JPM', 'KSM', 'L', 'LC', 'LMND', 'LRDR', 'MA', 'MARA', 'MGI', 'MS', 'NGCG', 'NICH', 'NU', 'PGR', 'PNC', 'PPGH', 'PRU', 'PSLV', 'PSTH', 'PYPL', 'RELI', 'RKT', 'SCHW', 'SI', 'SOFI', 'SUNL', 'TPG', 'UMAX', 'UPST', 'V', 'WFC'], 'Energy': ['APA', 'AR', 'AUNXF', 'BP', 'BRN', 'BTU', 'CCJ', 'CEI', 'CHK', 'CNQ', 'CVE', 'CVX', 'DNN', 'DVN', 'E', 'EQT', 'ET', 'FANG', 'GTE', 'HES', 'IPOOF', 'KMI', 'NRT', 'OXY', 'PXD', 'RIG', 'SLB', 'UEC', 'VET', 'VLO', 'VTXB', 'WLL', 'WTI', 'XOM'], 'Services': ['DISCA', 'LTNC']}\n",
            "train labels:  (50075, 192, 13)\n",
            "train inputs:  (50075, 192, 13)\n",
            "test labels:  (13138, 192, 13)\n",
            "test inputs:  (13138, 192, 13)\n",
            "Collecting kaleido\n",
            "  Downloading kaleido-0.2.1-py2.py3-none-manylinux1_x86_64.whl (79.9 MB)\n",
            "\u001b[K     |████████████████████████████████| 79.9 MB 138 kB/s \n",
            "\u001b[?25hInstalling collected packages: kaleido\n",
            "Successfully installed kaleido-0.2.1\n"
          ]
        }
      ],
      "source": [
        "!python3 /content/idl-spring-22-project-deepar/src/data/company_random_groups.py -gs=5 -r=50000 -w=192\n",
        "! pip install kaleido"
      ]
    },
    {
      "cell_type": "code",
      "execution_count": null,
      "metadata": {
        "id": "2XkMu5JxFcIE",
        "colab": {
          "base_uri": "https://localhost:8080/"
        },
        "outputId": "b63aacfc-0db9-45ec-9fb7-f6334161600c"
      },
      "outputs": [
        {
          "output_type": "stream",
          "name": "stdout",
          "text": [
            "tcmalloc: large alloc 1233903616 bytes == 0x55ddcb8ac000 @  0x7f5be213f615 0x55dd53e89057 0x55dd53f347b6 0x55dd53f32e59 0x55dd53e1e840 0x55dd53f91868 0x55dd53e7e49a 0x55dd53ef1464 0x55dd53eeaa2e 0x55dd53e7d88a 0x55dd53eec719 0x55dd53eeaa2e 0x55dd53e7d88a 0x55dd53eec719 0x55dd53eeaa2e 0x55dd53eea723 0x55dd53fb4812 0x55dd53fb4b8d 0x55dd53fb4a36 0x55dd53f8c183 0x55dd53f8be2c 0x7f5be0f28c87 0x55dd53f8bd0a\n",
            "^C\n"
          ]
        }
      ],
      "source": [
        "!python3 /content/idl-spring-22-project-deepar/src/data/visualize.py"
      ]
    },
    {
      "cell_type": "code",
      "execution_count": 8,
      "metadata": {
        "id": "D_XgpTjpeCCc"
      },
      "outputs": [],
      "source": [
        "import pickle\n",
        "with open('/content/idl-spring-22-project-deepar/data/index_to_company.pkl','rb') as f:\n",
        "  index_to_company = pickle.load(f)\n",
        "\n",
        "with open('/content/idl-spring-22-project-deepar/data/company_to_index.pkl','rb') as f:\n",
        "  company_to_index = pickle.load(f)\n",
        "\n",
        "with open('/content/idl-spring-22-project-deepar/data/sector_company_map.pkl','rb') as f:\n",
        "  sector_company_map = pickle.load(f)"
      ]
    },
    {
      "cell_type": "code",
      "source": [
        "sector_to_index = {}\n",
        "index_to_sector = {}\n",
        "\n",
        "for i, sector_name in enumerate(sorted(sector_company_map.keys())):\n",
        "    sector_to_index[sector_name]  = i\n",
        "    index_to_sector[i] = sector_name\n",
        "\n",
        "print(sector_to_index)\n",
        "print(index_to_sector)"
      ],
      "metadata": {
        "colab": {
          "base_uri": "https://localhost:8080/"
        },
        "id": "VAM7hjsbHxIm",
        "outputId": "f1952fec-c95a-45ee-d732-382e9bc88acb"
      },
      "execution_count": 9,
      "outputs": [
        {
          "output_type": "stream",
          "name": "stdout",
          "text": [
            "{'Basic Materials': 0, 'Communication Services': 1, 'Consumer Cyclical': 2, 'Consumer Defensive': 3, 'Energy': 4, 'Financial Services': 5, 'Healthcare': 6, 'Industrials': 7, 'Real Estate': 8, 'Services': 9, 'Technology': 10, 'Utilities': 11}\n",
            "{0: 'Basic Materials', 1: 'Communication Services', 2: 'Consumer Cyclical', 3: 'Consumer Defensive', 4: 'Energy', 5: 'Financial Services', 6: 'Healthcare', 7: 'Industrials', 8: 'Real Estate', 9: 'Services', 10: 'Technology', 11: 'Utilities'}\n"
          ]
        }
      ]
    },
    {
      "cell_type": "code",
      "execution_count": 10,
      "metadata": {
        "colab": {
          "base_uri": "https://localhost:8080/"
        },
        "id": "oVkGYeXZLtyr",
        "outputId": "846e99a3-c667-4dd1-8c8a-9bf4d1fa88ba"
      },
      "outputs": [
        {
          "output_type": "stream",
          "name": "stdout",
          "text": [
            "{0: 'GEVO', 1: 'MP', 2: 'WWR', 3: 'MAG', 4: 'EXK', 5: 'LAC', 6: 'AG', 7: 'CC', 8: 'AU', 9: 'CVNA', 10: 'OSTK', 11: 'HLT', 12: 'JD', 13: 'CPRI', 14: 'CLF', 15: 'VALE', 16: 'NG', 17: 'SHOP', 18: 'TTCM', 19: 'AMD', 20: 'CFLT', 21: 'BB', 22: 'VRAR', 23: 'WEJO', 24: 'TXN', 25: 'DM', 26: 'NEWR', 27: 'VET', 28: 'VLO', 29: 'DNN', 30: 'SLB', 31: 'GTE', 32: 'AGR', 33: 'OEG', 34: 'D', 35: 'HLGN', 36: 'PCG', 37: 'UNP', 38: 'LQMT', 39: 'R', 40: 'RCRT', 41: 'LMT', 42: 'ES', 43: 'PPGH', 44: 'SOFI', 45: 'C', 46: 'LMND', 47: 'BAC', 48: 'IVZ', 49: 'RELI', 50: 'BX', 51: 'DEFTF', 52: 'CNGT', 53: 'EBAY', 54: 'LCID', 55: 'F', 56: 'PTRA', 57: 'ORGN', 58: 'FCX', 59: 'MOS', 60: 'HCC', 61: 'FREE', 62: 'COST', 63: 'KO', 64: 'WMT', 65: 'FAMI', 66: 'AFMD', 67: 'CLDX', 68: 'GERN', 69: 'SYK', 70: 'SXTC', 71: 'POLA', 72: 'UAL', 73: 'J', 74: 'BA', 75: 'GOOGL', 76: 'ATUS', 77: 'SBGI', 78: 'GRPN', 79: 'SPOT', 80: 'OPAD', 81: 'AHT', 82: 'MSTO', 83: 'OPEN', 84: 'RDFN', 85: 'IRTC', 86: 'BLUE', 87: 'BIIB', 88: 'RVPH', 89: 'DCGO', 90: 'IGEX', 91: 'DVAX', 92: 'SAVA', 93: 'BMY', 94: 'WTI', 95: 'E', 96: 'APA', 97: 'OXY', 98: 'AR', 99: 'ICOA', 100: 'OPRA', 101: 'ATVI', 102: 'T', 103: 'RBLX', 104: 'SAFE', 105: 'LTC', 106: 'PLD', 107: 'CFVI', 108: 'AMP', 109: 'IFXY', 110: 'ENZC', 111: 'BBIO', 112: 'VVOS', 113: 'TRVN', 114: 'SENS', 115: 'GNRC', 116: 'ZIM', 117: 'GFAI', 118: 'BLNK', 119: 'AMT', 120: 'PLAN', 121: 'NXPI', 122: 'NCNO', 123: 'AVGO', 124: 'AMAT', 125: 'UEC', 126: 'VTXB', 127: 'DVN', 128: 'AFRM', 129: 'HPE', 130: 'GWSO', 131: 'ENPH', 132: 'CLSK', 133: 'CSCO', 134: 'VMNT', 135: 'PSFE', 136: 'CLOV', 137: 'MRNA', 138: 'SNDL', 139: 'RGBPP', 140: 'TECK', 141: 'BHP', 142: 'AMRS', 143: 'DOGZ', 144: 'MNST', 145: 'HAIN', 146: 'MF', 147: 'K', 148: 'SBEV', 149: 'ONE', 150: 'CHGG', 151: 'ULTA', 152: 'GRIL', 153: 'FSR', 154: 'LULU', 155: 'PZZA', 156: 'BP', 157: 'AUNXF', 158: 'A', 159: 'CDXC', 160: 'TLRY', 161: 'ABT', 162: 'ATVK', 163: 'ARCB', 164: 'CBAT', 165: 'OPTT', 166: 'PGR', 167: 'CFG', 168: 'CRKR', 169: 'NGCG', 170: 'LRDR', 171: 'SCHW', 172: 'MS', 173: 'TPG', 174: 'BTBT', 175: 'PRU', 176: 'RKT', 177: 'NU', 178: 'MARA', 179: 'JEF', 180: 'IBKR', 181: 'HMNY', 182: 'FSLR', 183: 'MINM', 184: 'SWKS', 185: 'RIO', 186: 'HIMX', 187: 'CTXS', 188: 'ATOM', 189: 'MSFT', 190: 'WLL', 191: 'RIG', 192: 'PXD', 193: 'BTU', 194: 'INTC', 195: 'CRM', 196: 'STX', 197: 'PLTR', 198: 'BYND', 199: 'CELH', 200: 'FDX', 201: 'ALPP', 202: 'APT', 203: 'MGM', 204: 'WISH', 205: 'XPEV', 206: 'MLCO', 207: 'PIK', 208: 'DLTR', 209: 'PG', 210: 'GOEV', 211: 'WGO', 212: 'ABNB', 213: 'ETSY', 214: 'TONR', 215: 'ZNGA', 216: 'DASH', 217: 'HUYA', 218: 'V', 219: 'BTT', 220: 'PSLV', 221: 'BTCS', 222: 'MGI', 223: 'PYPL', 224: 'GOLD', 225: 'MA', 226: 'UMAX', 227: 'LC', 228: 'OCGN', 229: 'SDC', 230: 'TDOC', 231: 'LPTX', 232: 'EA', 233: 'XNET', 234: 'MMAT', 235: 'ZS', 236: 'PANW', 237: 'CPSH', 238: 'YALA', 239: 'NXTP', 240: 'INPX', 241: 'VFF', 242: 'BCTX', 243: 'GILD', 244: 'EXAS', 245: 'MTN', 246: 'PENN', 247: 'RH', 248: 'RKUNY', 249: 'AFPW', 250: 'AA', 251: 'ASM', 252: 'ROKU', 253: 'NTDOY', 254: 'GOOG', 255: 'STRN', 256: 'DBMM', 257: 'ISIG', 258: 'BIDU', 259: 'FAST', 260: 'MMM', 261: 'AERC', 262: 'AJRD', 263: 'MRVL', 264: 'RUN', 265: 'BKKT', 266: 'WDAY', 267: 'APPS', 268: 'JPM', 269: 'DB', 270: 'SHAK', 271: 'CROX', 272: 'LOVE', 273: 'DAL', 274: 'JOBY', 275: 'GS', 276: 'ASTR', 277: 'WM', 278: 'PLUG', 279: 'FIZZ', 280: 'COTY', 281: 'CL', 282: 'MELI', 283: 'ELYS', 284: 'KSS', 285: 'EBET', 286: 'GVSI', 287: 'SPCE', 288: 'LUV', 289: 'XELA', 290: 'INFY', 291: 'YETI', 292: 'TRIP', 293: 'ASO', 294: 'AMZN', 295: 'EMN', 296: 'FCEL', 297: 'UPS', 298: 'DGLY', 299: 'FORW', 300: 'GGAL', 301: 'CNK', 302: 'AMC', 303: 'GOGO', 304: 'ALK', 305: 'DE', 306: 'CHWY', 307: 'LOTZ', 308: 'CCL', 309: 'NKLA', 310: 'EXPE', 311: 'BABL', 312: 'SOLO', 313: 'HOUR', 314: 'IDEX', 315: 'UAVS', 316: 'ENS', 317: 'NAK', 318: 'CVE', 319: 'NRT', 320: 'BROS', 321: 'GLBE', 322: 'CNQ', 323: 'ET', 324: 'CHK', 325: 'DNUT', 326: 'CLX', 327: 'IMMX', 328: 'LGVN', 329: 'EVO', 330: 'NVAX', 331: 'NFLX', 332: 'TWTR', 333: 'SNPW', 334: 'AEO', 335: 'BABA', 336: 'LGIH', 337: 'UA', 338: 'CAR', 339: 'CAT', 340: 'NEM', 341: 'B', 342: 'GRIN', 343: 'AI', 344: 'CRCT', 345: 'BLK', 346: 'HES', 347: 'FB', 348: 'RAD', 349: 'CRDL', 350: 'ARWR', 351: 'HGEN', 352: 'UPST', 353: 'L', 354: 'CS', 355: 'NICH', 356: 'ATIP', 357: 'FBRX', 358: 'MYOV', 359: 'CMPS', 360: 'BRN', 361: 'KC', 362: 'SONO', 363: 'TGT', 364: 'GGG', 365: 'FHS', 366: 'OTLY', 367: 'GM', 368: 'HAS', 369: 'HOG', 370: 'NTRB', 371: 'NKTR', 372: 'FTNT', 373: 'PAR', 374: 'UCTT', 375: 'CRWD', 376: 'SUNL', 377: 'PSTH', 378: 'FUTU', 379: 'MO', 380: 'ATAI', 381: 'ISRG', 382: 'CMRX', 383: 'CYDY', 384: 'NIO', 385: 'APRN', 386: 'RICK', 387: 'CF', 388: 'KMI', 389: 'ACI', 390: 'NET', 391: 'TTD', 392: 'LAZR', 393: 'SOTK', 394: 'SI', 395: 'DWAC', 396: 'BBBY', 397: 'LVS', 398: 'GOOS', 399: 'TKAT', 400: 'SFIX', 401: 'RNWF', 402: 'FUBO', 403: 'AUD', 404: 'SANT', 405: 'MSTR', 406: 'AMBA', 407: 'TWLO', 408: 'COIN', 409: 'ASAN', 410: 'DELL', 411: 'HMBL', 412: 'PPSI', 413: 'DPZ', 414: 'PTON', 415: 'SGC', 416: 'LOCO', 417: 'GLW', 418: 'URBN', 419: 'PDD', 420: 'TRI', 421: 'AZ', 422: 'SQ', 423: 'ANY', 424: 'RIOT', 425: 'MITQ', 426: 'ARQQ', 427: 'IBM', 428: 'KSM', 429: 'TTWO', 430: 'SKLZ', 431: 'VXRT', 432: 'GSK', 433: 'VINE', 434: 'TQLB', 435: 'X', 436: 'SNAP', 437: 'VZ', 438: 'IVST', 439: 'HTZ', 440: 'GGII', 441: 'UNH', 442: 'JNJ', 443: 'SRPT', 444: 'BILL', 445: 'ACN', 446: 'PINS', 447: 'NVDA', 448: 'GT', 449: 'JMIA', 450: 'VBIV', 451: 'CRTX', 452: 'RCL', 453: 'ERBB', 454: 'AMGN', 455: 'PFE', 456: 'QS', 457: 'CEI', 458: 'BFLY', 459: 'FANG', 460: 'CCJ'}\n",
            "{'GEVO': 0, 'MP': 1, 'WWR': 2, 'MAG': 3, 'EXK': 4, 'LAC': 5, 'AG': 6, 'CC': 7, 'AU': 8, 'CVNA': 9, 'OSTK': 10, 'HLT': 11, 'JD': 12, 'CPRI': 13, 'CLF': 14, 'VALE': 15, 'NG': 16, 'SHOP': 17, 'TTCM': 18, 'AMD': 19, 'CFLT': 20, 'BB': 21, 'VRAR': 22, 'WEJO': 23, 'TXN': 24, 'DM': 25, 'NEWR': 26, 'VET': 27, 'VLO': 28, 'DNN': 29, 'SLB': 30, 'GTE': 31, 'AGR': 32, 'OEG': 33, 'D': 34, 'HLGN': 35, 'PCG': 36, 'UNP': 37, 'LQMT': 38, 'R': 39, 'RCRT': 40, 'LMT': 41, 'ES': 42, 'PPGH': 43, 'SOFI': 44, 'C': 45, 'LMND': 46, 'BAC': 47, 'IVZ': 48, 'RELI': 49, 'BX': 50, 'DEFTF': 51, 'CNGT': 52, 'EBAY': 53, 'LCID': 54, 'F': 55, 'PTRA': 56, 'ORGN': 57, 'FCX': 58, 'MOS': 59, 'HCC': 60, 'FREE': 61, 'COST': 62, 'KO': 63, 'WMT': 64, 'FAMI': 65, 'AFMD': 66, 'CLDX': 67, 'GERN': 68, 'SYK': 69, 'SXTC': 70, 'POLA': 71, 'UAL': 72, 'J': 73, 'BA': 74, 'GOOGL': 75, 'ATUS': 76, 'SBGI': 77, 'GRPN': 78, 'SPOT': 79, 'OPAD': 80, 'AHT': 81, 'MSTO': 82, 'OPEN': 83, 'RDFN': 84, 'IRTC': 85, 'BLUE': 86, 'BIIB': 87, 'RVPH': 88, 'DCGO': 89, 'IGEX': 90, 'DVAX': 91, 'SAVA': 92, 'BMY': 93, 'WTI': 94, 'E': 95, 'APA': 96, 'OXY': 97, 'AR': 98, 'ICOA': 99, 'OPRA': 100, 'ATVI': 101, 'T': 102, 'RBLX': 103, 'SAFE': 104, 'LTC': 105, 'PLD': 106, 'CFVI': 107, 'AMP': 108, 'IFXY': 109, 'ENZC': 110, 'BBIO': 111, 'VVOS': 112, 'TRVN': 113, 'SENS': 114, 'GNRC': 115, 'ZIM': 116, 'GFAI': 117, 'BLNK': 118, 'AMT': 119, 'PLAN': 120, 'NXPI': 121, 'NCNO': 122, 'AVGO': 123, 'AMAT': 124, 'UEC': 125, 'VTXB': 126, 'DVN': 127, 'AFRM': 128, 'HPE': 129, 'GWSO': 130, 'ENPH': 131, 'CLSK': 132, 'CSCO': 133, 'VMNT': 134, 'PSFE': 135, 'CLOV': 136, 'MRNA': 137, 'SNDL': 138, 'RGBPP': 139, 'TECK': 140, 'BHP': 141, 'AMRS': 142, 'DOGZ': 143, 'MNST': 144, 'HAIN': 145, 'MF': 146, 'K': 147, 'SBEV': 148, 'ONE': 149, 'CHGG': 150, 'ULTA': 151, 'GRIL': 152, 'FSR': 153, 'LULU': 154, 'PZZA': 155, 'BP': 156, 'AUNXF': 157, 'A': 158, 'CDXC': 159, 'TLRY': 160, 'ABT': 161, 'ATVK': 162, 'ARCB': 163, 'CBAT': 164, 'OPTT': 165, 'PGR': 166, 'CFG': 167, 'CRKR': 168, 'NGCG': 169, 'LRDR': 170, 'SCHW': 171, 'MS': 172, 'TPG': 173, 'BTBT': 174, 'PRU': 175, 'RKT': 176, 'NU': 177, 'MARA': 178, 'JEF': 179, 'IBKR': 180, 'HMNY': 181, 'FSLR': 182, 'MINM': 183, 'SWKS': 184, 'RIO': 185, 'HIMX': 186, 'CTXS': 187, 'ATOM': 188, 'MSFT': 189, 'WLL': 190, 'RIG': 191, 'PXD': 192, 'BTU': 193, 'INTC': 194, 'CRM': 195, 'STX': 196, 'PLTR': 197, 'BYND': 198, 'CELH': 199, 'FDX': 200, 'ALPP': 201, 'APT': 202, 'MGM': 203, 'WISH': 204, 'XPEV': 205, 'MLCO': 206, 'PIK': 207, 'DLTR': 208, 'PG': 209, 'GOEV': 210, 'WGO': 211, 'ABNB': 212, 'ETSY': 213, 'TONR': 214, 'ZNGA': 215, 'DASH': 216, 'HUYA': 217, 'V': 218, 'BTT': 219, 'PSLV': 220, 'BTCS': 221, 'MGI': 222, 'PYPL': 223, 'GOLD': 224, 'MA': 225, 'UMAX': 226, 'LC': 227, 'OCGN': 228, 'SDC': 229, 'TDOC': 230, 'LPTX': 231, 'EA': 232, 'XNET': 233, 'MMAT': 234, 'ZS': 235, 'PANW': 236, 'CPSH': 237, 'YALA': 238, 'NXTP': 239, 'INPX': 240, 'VFF': 241, 'BCTX': 242, 'GILD': 243, 'EXAS': 244, 'MTN': 245, 'PENN': 246, 'RH': 247, 'RKUNY': 248, 'AFPW': 249, 'AA': 250, 'ASM': 251, 'ROKU': 252, 'NTDOY': 253, 'GOOG': 254, 'STRN': 255, 'DBMM': 256, 'ISIG': 257, 'BIDU': 258, 'FAST': 259, 'MMM': 260, 'AERC': 261, 'AJRD': 262, 'MRVL': 263, 'RUN': 264, 'BKKT': 265, 'WDAY': 266, 'APPS': 267, 'JPM': 268, 'DB': 269, 'SHAK': 270, 'CROX': 271, 'LOVE': 272, 'DAL': 273, 'JOBY': 274, 'GS': 275, 'ASTR': 276, 'WM': 277, 'PLUG': 278, 'FIZZ': 279, 'COTY': 280, 'CL': 281, 'MELI': 282, 'ELYS': 283, 'KSS': 284, 'EBET': 285, 'GVSI': 286, 'SPCE': 287, 'LUV': 288, 'XELA': 289, 'INFY': 290, 'YETI': 291, 'TRIP': 292, 'ASO': 293, 'AMZN': 294, 'EMN': 295, 'FCEL': 296, 'UPS': 297, 'DGLY': 298, 'FORW': 299, 'GGAL': 300, 'CNK': 301, 'AMC': 302, 'GOGO': 303, 'ALK': 304, 'DE': 305, 'CHWY': 306, 'LOTZ': 307, 'CCL': 308, 'NKLA': 309, 'EXPE': 310, 'BABL': 311, 'SOLO': 312, 'HOUR': 313, 'IDEX': 314, 'UAVS': 315, 'ENS': 316, 'NAK': 317, 'CVE': 318, 'NRT': 319, 'BROS': 320, 'GLBE': 321, 'CNQ': 322, 'ET': 323, 'CHK': 324, 'DNUT': 325, 'CLX': 326, 'IMMX': 327, 'LGVN': 328, 'EVO': 329, 'NVAX': 330, 'NFLX': 331, 'TWTR': 332, 'SNPW': 333, 'AEO': 334, 'BABA': 335, 'LGIH': 336, 'UA': 337, 'CAR': 338, 'CAT': 339, 'NEM': 340, 'B': 341, 'GRIN': 342, 'AI': 343, 'CRCT': 344, 'BLK': 345, 'HES': 346, 'FB': 347, 'RAD': 348, 'CRDL': 349, 'ARWR': 350, 'HGEN': 351, 'UPST': 352, 'L': 353, 'CS': 354, 'NICH': 355, 'ATIP': 356, 'FBRX': 357, 'MYOV': 358, 'CMPS': 359, 'BRN': 360, 'KC': 361, 'SONO': 362, 'TGT': 363, 'GGG': 364, 'FHS': 365, 'OTLY': 366, 'GM': 367, 'HAS': 368, 'HOG': 369, 'NTRB': 370, 'NKTR': 371, 'FTNT': 372, 'PAR': 373, 'UCTT': 374, 'CRWD': 375, 'SUNL': 376, 'PSTH': 377, 'FUTU': 378, 'MO': 379, 'ATAI': 380, 'ISRG': 381, 'CMRX': 382, 'CYDY': 383, 'NIO': 384, 'APRN': 385, 'RICK': 386, 'CF': 387, 'KMI': 388, 'ACI': 389, 'NET': 390, 'TTD': 391, 'LAZR': 392, 'SOTK': 393, 'SI': 394, 'DWAC': 395, 'BBBY': 396, 'LVS': 397, 'GOOS': 398, 'TKAT': 399, 'SFIX': 400, 'RNWF': 401, 'FUBO': 402, 'AUD': 403, 'SANT': 404, 'MSTR': 405, 'AMBA': 406, 'TWLO': 407, 'COIN': 408, 'ASAN': 409, 'DELL': 410, 'HMBL': 411, 'PPSI': 412, 'DPZ': 413, 'PTON': 414, 'SGC': 415, 'LOCO': 416, 'GLW': 417, 'URBN': 418, 'PDD': 419, 'TRI': 420, 'AZ': 421, 'SQ': 422, 'ANY': 423, 'RIOT': 424, 'MITQ': 425, 'ARQQ': 426, 'IBM': 427, 'KSM': 428, 'TTWO': 429, 'SKLZ': 430, 'VXRT': 431, 'GSK': 432, 'VINE': 433, 'TQLB': 434, 'X': 435, 'SNAP': 436, 'VZ': 437, 'IVST': 438, 'HTZ': 439, 'GGII': 440, 'UNH': 441, 'JNJ': 442, 'SRPT': 443, 'BILL': 444, 'ACN': 445, 'PINS': 446, 'NVDA': 447, 'GT': 448, 'JMIA': 449, 'VBIV': 450, 'CRTX': 451, 'RCL': 452, 'ERBB': 453, 'AMGN': 454, 'PFE': 455, 'QS': 456, 'CEI': 457, 'BFLY': 458, 'FANG': 459, 'CCJ': 460}\n",
            "{'Healthcare': ['A', 'ABBV', 'ABT', 'ABUS', 'ACAD', 'AEZS', 'AFMD', 'ALDX', 'AMGN', 'AMRN', 'ARWR', 'ATAI', 'ATIP', 'AUPH', 'BBIO', 'BCTX', 'BFLY', 'BFRI', 'BHVN', 'BIIB', 'BLUE', 'BMY', 'BNTX', 'CDNA', 'CDXC', 'CGC', 'CLDX', 'CLOV', 'CLPT', 'CMPS', 'CMRX', 'CODX', 'CRDL', 'CRON', 'CRTX', 'CVS', 'CYDY', 'DCGO', 'DNA', 'DVAX', 'ENZC', 'ERBB', 'EVO', 'EXAS', 'EXEL', 'FBRX', 'FOLD', 'GERN', 'GILD', 'GLASF', 'GLSI', 'GMVD', 'GNCA', 'GSK', 'GTBIF', 'HGEN', 'HUM', 'HZNP', 'IGEX', 'IINN', 'ILMN', 'IMCC', 'IMMX', 'INMD', 'INO', 'IPA', 'IRTC', 'ISRG', 'JNJ', 'KMPH', 'LGVN', 'LPTX', 'MRK', 'MRNA', 'MYNZ', 'MYOV', 'NKTR', 'NTLA', 'NTRB', 'NURO', 'NVAX', 'NWBO', 'OCGN', 'PACB', 'PAVM', 'PFE', 'PROG', 'PSTV', 'PULM', 'QURE', 'RAD', 'RGBP', 'RGBPP', 'RVPH', 'RWBYF', 'SAVA', 'SDC', 'SENS', 'SNDL', 'SRNE', 'SRPT', 'SXTC', 'SYK', 'TDOC', 'TGGI', 'TLRY', 'TNDM', 'TRVN', 'UNH', 'VBIV', 'VTVT', 'VVOS', 'VXRT', 'XAIR', 'XERS', 'XXII', 'ZGNX'], 'Basic Materials': ['AA', 'AFPW', 'AG', 'AMRS', 'ASM', 'AU', 'BHP', 'CC', 'CF', 'CLF', 'EMN', 'EXK', 'FCX', 'GEVO', 'GOLD', 'HCC', 'LAC', 'MAG', 'MOS', 'MP', 'NAK', 'NEM', 'NG', 'ORGN', 'RIO', 'RNWF', 'TECK', 'VALE', 'WWR', 'X'], 'Industrials': ['AAL', 'AERC', 'AJRD', 'ALK', 'ALPP', 'APT', 'ARCB', 'ASTR', 'ATVK', 'AZ', 'B', 'BA', 'BLNK', 'CAR', 'CAT', 'CBAT', 'CHRA', 'DAL', 'DE', 'DGLY', 'ENS', 'FAST', 'FCEL', 'FDX', 'GE', 'GFAI', 'GGG', 'GGII', 'GNRC', 'GPN', 'GRIN', 'HTZ', 'IDEX', 'IVST', 'J', 'JBHT', 'JOBY', 'LMT', 'LQMT', 'LUV', 'MMM', 'OPTT', 'PIXY', 'PL', 'PLUG', 'POLA', 'PPSI', 'R', 'RCRT', 'SAVE', 'SPCE', 'TRI', 'UAL', 'UAVS', 'UNP', 'UPS', 'WM', 'ZIM', 'ZIP'], 'Consumer Cyclical': ['ABNB', 'AEO', 'AMZN', 'APRN', 'ASO', 'ATER', 'BABA', 'BABL', 'BBBY', 'BBIG', 'BBY', 'BKNG', 'BROS', 'CCL', 'CHWY', 'CMG', 'CPNG', 'CPRI', 'CROX', 'CVNA', 'DDS', 'DKNG', 'DKS', 'DPZ', 'EBAY', 'EBET', 'ELYS', 'ETSY', 'EVGO', 'EXPE', 'F', 'FND', 'FSR', 'FTCH', 'GLBE', 'GM', 'GME', 'GNOG', 'GOEV', 'GOOS', 'GP', 'GPS', 'GRIL', 'GRWG', 'GT', 'GVSI', 'HAS', 'HD', 'HLT', 'HOG', 'HOUR', 'JD', 'JMIA', 'KBH', 'KSS', 'LCID', 'LEN', 'LGIH', 'LOCO', 'LOTZ', 'LOVE', 'LTRY', 'LULU', 'LVS', 'M', 'MCD', 'MELI', 'MGM', 'MLCO', 'MTN', 'NEGG', 'NIO', 'NKE', 'NKLA', 'OLPX', 'ONON', 'OSTK', 'PDD', 'PENN', 'PIK', 'PLBY', 'PTON', 'PTRA', 'PZZA', 'QS', 'RCL', 'RENN', 'RH', 'RICK', 'RIVN', 'RKUNY', 'SBUX', 'SEV', 'SFIX', 'SGC', 'SHAK', 'SOLO', 'STLA', 'SYPR', 'TKAT', 'TONR', 'TRIP', 'TSCO', 'UA', 'ULTA', 'URBN', 'VRM', 'W', 'WGO', 'WISH', 'WKHS', 'WYNN', 'XPEV', 'XSPA', 'YETI'], 'Technology': ['ACFN', 'ACN', 'ADBE', 'AEHR', 'AFRM', 'AI', 'AMAT', 'AMBA', 'AMD', 'AMKR', 'AMPL', 'ANET', 'ANY', 'APPS', 'ARQQ', 'ASAN', 'ASML', 'ATOM', 'AVCT', 'AVGO', 'AVLR', 'BB', 'BEEM', 'BILL', 'BKKT', 'CAMT', 'CFLT', 'CLSK', 'COIN', 'COMP', 'CPSH', 'CRCT', 'CRM', 'CRSM', 'CRWD', 'CSCO', 'CTXS', 'DATS', 'DDOG', 'DELL', 'DIDI', 'DLO', 'DM', 'DOCN', 'DOCU', 'ENPH', 'FATH', 'FSLR', 'FSLY', 'FTNT', 'G', 'GLW', 'GPRO', 'GWSO', 'HIMX', 'HMBL', 'HMNY', 'HOOD', 'HPE', 'HUBS', 'IBM', 'INFY', 'INPX', 'INTC', 'KC', 'LAZR', 'LINK', 'LRCX', 'LUNA', 'MDB', 'MINM', 'MITQ', 'MMAT', 'MQ', 'MRIN', 'MRVL', 'MSFT', 'MSTR', 'MTTR', 'MU', 'MVIS', 'NCNO', 'NET', 'NEWR', 'NOK', 'NTAP', 'NTNX', 'NVDA', 'NXPI', 'NXTP', 'OKTA', 'ORCL', 'PANW', 'PAR', 'PATH', 'PHUN', 'PLAN', 'PLTR', 'PSFE', 'QCOM', 'RIOT', 'RUN', 'S', 'SANT', 'SEAC', 'SHOP', 'SNOW', 'SOL', 'SONO', 'SONY', 'SOS', 'SOTK', 'SPLK', 'SQ', 'STX', 'SWKS', 'TER', 'TSM', 'TTCM', 'TTD', 'TXN', 'TYL', 'U', 'UBER', 'UCTT', 'VMNT', 'VRAR', 'VUZI', 'WDAY', 'WEJO', 'XELA', 'YALA', 'YOU', 'ZI', 'ZM', 'ZS'], 'Consumer Defensive': ['ACI', 'BYND', 'CELH', 'CHGG', 'CL', 'CLX', 'COST', 'COTY', 'DLTR', 'DNUT', 'DOGZ', 'FAMI', 'FHS', 'FIZZ', 'FREE', 'HAIN', 'K', 'KO', 'MF', 'MNST', 'MO', 'ONE', 'OTLY', 'PEP', 'PG', 'SBEV', 'SKIN', 'TGT', 'TQLB', 'VFF', 'VINE', 'WMT'], 'Utilities': ['AGR', 'D', 'ES', 'HLGN', 'OEG', 'PCG'], 'Real Estate': ['AHT', 'AMT', 'LTC', 'MSTO', 'OPAD', 'OPEN', 'PLD', 'RDFN', 'SAFE'], 'Communication Services': ['AMC', 'ATUS', 'ATVI', 'AUD', 'BIDU', 'CABO', 'CNK', 'DASH', 'DBMM', 'DIS', 'EA', 'FB', 'FUBO', 'GENI', 'GOGO', 'GOOG', 'GOOGL', 'GRPN', 'HUYA', 'ICOA', 'ISIG', 'NFLX', 'NTDOY', 'OPRA', 'PINS', 'RBLX', 'ROKU', 'SBGI', 'SE', 'SKLZ', 'SNAP', 'SNPW', 'SPOT', 'STRN', 'T', 'TTWO', 'TWLO', 'TWTR', 'VZ', 'XNET', 'YNDX', 'Z', 'ZNGA'], 'Financial Services': ['AMP', 'BAC', 'BLK', 'BTBT', 'BTCS', 'BTT', 'BX', 'C', 'CFG', 'CFVI', 'CNGT', 'CRKR', 'CS', 'DB', 'DEFTF', 'DWAC', 'FOMC', 'FORW', 'FUTU', 'GGAL', 'GGPI', 'GS', 'IBKR', 'IFXY', 'IVZ', 'JEF', 'JPM', 'KSM', 'L', 'LC', 'LMND', 'LRDR', 'MA', 'MARA', 'MGI', 'MS', 'NGCG', 'NICH', 'NU', 'PGR', 'PNC', 'PPGH', 'PRU', 'PSLV', 'PSTH', 'PYPL', 'RELI', 'RKT', 'SCHW', 'SI', 'SOFI', 'SUNL', 'TPG', 'UMAX', 'UPST', 'V', 'WFC'], 'Energy': ['APA', 'AR', 'AUNXF', 'BP', 'BRN', 'BTU', 'CCJ', 'CEI', 'CHK', 'CNQ', 'CVE', 'CVX', 'DNN', 'DVN', 'E', 'EQT', 'ET', 'FANG', 'GTE', 'HES', 'IPOOF', 'KMI', 'NRT', 'OXY', 'PXD', 'RIG', 'SLB', 'UEC', 'VET', 'VLO', 'VTXB', 'WLL', 'WTI', 'XOM'], 'Services': ['DISCA', 'LTNC']}\n",
            "dict_keys(['Healthcare', 'Basic Materials', 'Industrials', 'Consumer Cyclical', 'Technology', 'Consumer Defensive', 'Utilities', 'Real Estate', 'Communication Services', 'Financial Services', 'Energy', 'Services'])\n",
            "['ACFN', 'ACN', 'ADBE', 'AEHR', 'AFRM', 'AI', 'AMAT', 'AMBA', 'AMD', 'AMKR', 'AMPL', 'ANET', 'ANY', 'APPS', 'ARQQ', 'ASAN', 'ASML', 'ATOM', 'AVCT', 'AVGO', 'AVLR', 'BB', 'BEEM', 'BILL', 'BKKT', 'CAMT', 'CFLT', 'CLSK', 'COIN', 'COMP', 'CPSH', 'CRCT', 'CRM', 'CRSM', 'CRWD', 'CSCO', 'CTXS', 'DATS', 'DDOG', 'DELL', 'DIDI', 'DLO', 'DM', 'DOCN', 'DOCU', 'ENPH', 'FATH', 'FSLR', 'FSLY', 'FTNT', 'G', 'GLW', 'GPRO', 'GWSO', 'HIMX', 'HMBL', 'HMNY', 'HOOD', 'HPE', 'HUBS', 'IBM', 'INFY', 'INPX', 'INTC', 'KC', 'LAZR', 'LINK', 'LRCX', 'LUNA', 'MDB', 'MINM', 'MITQ', 'MMAT', 'MQ', 'MRIN', 'MRVL', 'MSFT', 'MSTR', 'MTTR', 'MU', 'MVIS', 'NCNO', 'NET', 'NEWR', 'NOK', 'NTAP', 'NTNX', 'NVDA', 'NXPI', 'NXTP', 'OKTA', 'ORCL', 'PANW', 'PAR', 'PATH', 'PHUN', 'PLAN', 'PLTR', 'PSFE', 'QCOM', 'RIOT', 'RUN', 'S', 'SANT', 'SEAC', 'SHOP', 'SNOW', 'SOL', 'SONO', 'SONY', 'SOS', 'SOTK', 'SPLK', 'SQ', 'STX', 'SWKS', 'TER', 'TSM', 'TTCM', 'TTD', 'TXN', 'TYL', 'U', 'UBER', 'UCTT', 'VMNT', 'VRAR', 'VUZI', 'WDAY', 'WEJO', 'XELA', 'YALA', 'YOU', 'ZI', 'ZM', 'ZS']\n",
            "12\n"
          ]
        }
      ],
      "source": [
        "print(index_to_company)\n",
        "print(company_to_index)\n",
        "print(sector_company_map)\n",
        "print(sector_company_map.keys())\n",
        "print(sector_company_map['Technology'])\n",
        "print(len(sector_company_map))"
      ]
    },
    {
      "cell_type": "code",
      "execution_count": 11,
      "metadata": {
        "id": "gHNJzGpqA1cc"
      },
      "outputs": [],
      "source": [
        "DATA_PATH = '/content/idl-spring-22-project-deepar/data'\n",
        "\n",
        "\n",
        "\n",
        "stock_inputs = np.load(DATA_PATH + '/stock_inputs.npy', allow_pickle=True)\n",
        "stock_labels = np.load(DATA_PATH + '/stock_labels.npy', allow_pickle=True)\n",
        "\n",
        "stock_test_inputs = np.load(DATA_PATH + '/stock_test_inputs.npy',allow_pickle=True)\n",
        "stock_test_labels = np.load(DATA_PATH + '/stock_test_labels.npy',allow_pickle=True)"
      ]
    },
    {
      "cell_type": "code",
      "execution_count": 12,
      "metadata": {
        "id": "PX3BN2JaM1JO"
      },
      "outputs": [],
      "source": [
        "NUM_TRAIN_SAMPLES = len(stock_inputs)\n",
        "NUM_TEST_SAMPLES  = len(stock_test_inputs)\n",
        "\n",
        "stock_inputs_trimmed = stock_inputs[:NUM_TRAIN_SAMPLES,:,:]\n",
        "stock_labels_trimmed = stock_labels[:NUM_TRAIN_SAMPLES,:]\n",
        "\n",
        "stock_test_inputs_trimmed = stock_test_inputs[:NUM_TEST_SAMPLES,:,:]\n",
        "stock_test_labels_trimmed = stock_test_labels[:NUM_TEST_SAMPLES,:]"
      ]
    },
    {
      "cell_type": "code",
      "execution_count": 13,
      "metadata": {
        "colab": {
          "base_uri": "https://localhost:8080/"
        },
        "id": "HJJrrFcGGHSE",
        "outputId": "20059850-262c-47db-d16c-525a2724863e"
      },
      "outputs": [
        {
          "output_type": "stream",
          "name": "stdout",
          "text": [
            "stock_inputs_trimmed shape (50075, 192, 13)\n",
            "stock_labels_trimmed shape (50075, 192, 13)\n",
            "stock_test_inputs_trimmed shape (13138, 192, 13)\n",
            "stock_test_labels_trimmed shape (13138, 192, 13)\n"
          ]
        }
      ],
      "source": [
        "print('stock_inputs_trimmed shape', stock_inputs_trimmed.shape)\n",
        "print('stock_labels_trimmed shape', stock_labels_trimmed.shape)\n",
        "print('stock_test_inputs_trimmed shape', stock_test_inputs_trimmed.shape)\n",
        "print('stock_test_labels_trimmed shape', stock_test_labels_trimmed.shape)"
      ]
    },
    {
      "cell_type": "code",
      "source": [
        "import plotly.express as px\n",
        "import plotly.graph_objects as go\n",
        "import pandas as pd\n",
        "\n",
        "def plot_data(data, window_id,cov_id):\n",
        "  x=np.linspace(1, len(data[window_id]), num=len(data[window_id]))\n",
        "  df = pd.DataFrame()\n",
        "  df['data'] = data[window_id,:,cov_id]\n",
        "  \n",
        "\n",
        "  fig = go.Figure()\n",
        "  fig.add_vline(x=168)\n",
        "  fig.add_traces(go.Scatter(x=x, y = df['data'], mode = 'lines', name = 'data'))\n",
        "\n",
        "  fig.update_xaxes(title_text='Time Samples')\n",
        "  fig.update_yaxes(title_text='Y')\n",
        "  fig.show()"
      ],
      "metadata": {
        "id": "l77VZIKKEWgI"
      },
      "execution_count": 14,
      "outputs": []
    },
    {
      "cell_type": "code",
      "source": [
        "plot_data(stock_inputs_trimmed, 20000, 12)"
      ],
      "metadata": {
        "colab": {
          "base_uri": "https://localhost:8080/",
          "height": 542
        },
        "id": "G0NtdQC9E1sQ",
        "outputId": "21771935-d438-4be3-c21f-953c0ba575b4"
      },
      "execution_count": 15,
      "outputs": [
        {
          "output_type": "display_data",
          "data": {
            "text/html": [
              "<html>\n",
              "<head><meta charset=\"utf-8\" /></head>\n",
              "<body>\n",
              "    <div>            <script src=\"https://cdnjs.cloudflare.com/ajax/libs/mathjax/2.7.5/MathJax.js?config=TeX-AMS-MML_SVG\"></script><script type=\"text/javascript\">if (window.MathJax) {MathJax.Hub.Config({SVG: {font: \"STIX-Web\"}});}</script>                <script type=\"text/javascript\">window.PlotlyConfig = {MathJaxConfig: 'local'};</script>\n",
              "        <script src=\"https://cdn.plot.ly/plotly-2.8.3.min.js\"></script>                <div id=\"f90a05d4-409f-4a6c-a3c3-c9b04d87ec5f\" class=\"plotly-graph-div\" style=\"height:525px; width:100%;\"></div>            <script type=\"text/javascript\">                                    window.PLOTLYENV=window.PLOTLYENV || {};                                    if (document.getElementById(\"f90a05d4-409f-4a6c-a3c3-c9b04d87ec5f\")) {                    Plotly.newPlot(                        \"f90a05d4-409f-4a6c-a3c3-c9b04d87ec5f\",                        [{\"mode\":\"lines\",\"name\":\"data\",\"x\":[1.0,2.0,3.0,4.0,5.0,6.0,7.0,8.0,9.0,10.0,11.0,12.0,13.0,14.0,15.0,16.0,17.0,18.0,19.0,20.0,21.0,22.0,23.0,24.0,25.0,26.0,27.0,28.0,29.0,30.0,31.0,32.0,33.0,34.0,35.0,36.0,37.0,38.0,39.0,40.0,41.0,42.0,43.0,44.0,45.0,46.0,47.0,48.0,49.0,50.0,51.0,52.0,53.0,54.0,55.0,56.0,57.0,58.0,59.0,60.0,61.0,62.0,63.0,64.0,65.0,66.0,67.0,68.0,69.0,70.0,71.0,72.0,73.0,74.0,75.0,76.0,77.0,78.0,79.0,80.0,81.0,82.0,83.0,84.0,85.0,86.0,87.0,88.0,89.0,90.0,91.0,92.0,93.0,94.0,95.0,96.0,97.0,98.0,99.0,100.0,101.0,102.0,103.0,104.0,105.0,106.0,107.0,108.0,109.0,110.0,111.0,112.0,113.0,114.0,115.0,116.0,117.0,118.0,119.0,120.0,121.0,122.0,123.0,124.0,125.0,126.0,127.0,128.0,129.0,130.0,131.0,132.0,133.0,134.0,135.0,136.0,137.0,138.0,139.0,140.0,141.0,142.0,143.0,144.0,145.0,146.0,147.0,148.0,149.0,150.0,151.0,152.0,153.0,154.0,155.0,156.0,157.0,158.0,159.0,160.0,161.0,162.0,163.0,164.0,165.0,166.0,167.0,168.0,169.0,170.0,171.0,172.0,173.0,174.0,175.0,176.0,177.0,178.0,179.0,180.0,181.0,182.0,183.0,184.0,185.0,186.0,187.0,188.0,189.0,190.0,191.0,192.0],\"y\":[\"Basic Materials\",\"Basic Materials\",\"Basic Materials\",\"Basic Materials\",\"Basic Materials\",\"Basic Materials\",\"Basic Materials\",\"Basic Materials\",\"Basic Materials\",\"Basic Materials\",\"Basic Materials\",\"Basic Materials\",\"Basic Materials\",\"Basic Materials\",\"Basic Materials\",\"Basic Materials\",\"Basic Materials\",\"Basic Materials\",\"Basic Materials\",\"Basic Materials\",\"Basic Materials\",\"Basic Materials\",\"Basic Materials\",\"Basic Materials\",\"Basic Materials\",\"Basic Materials\",\"Basic Materials\",\"Basic Materials\",\"Basic Materials\",\"Basic Materials\",\"Basic Materials\",\"Basic Materials\",\"Basic Materials\",\"Basic Materials\",\"Basic Materials\",\"Basic Materials\",\"Basic Materials\",\"Basic Materials\",\"Basic Materials\",\"Basic Materials\",\"Basic Materials\",\"Basic Materials\",\"Basic Materials\",\"Basic Materials\",\"Basic Materials\",\"Basic Materials\",\"Basic Materials\",\"Basic Materials\",\"Basic Materials\",\"Basic Materials\",\"Basic Materials\",\"Basic Materials\",\"Basic Materials\",\"Basic Materials\",\"Basic Materials\",\"Basic Materials\",\"Basic Materials\",\"Basic Materials\",\"Basic Materials\",\"Basic Materials\",\"Basic Materials\",\"Basic Materials\",\"Basic Materials\",\"Basic Materials\",\"Basic Materials\",\"Basic Materials\",\"Basic Materials\",\"Basic Materials\",\"Basic Materials\",\"Basic Materials\",\"Basic Materials\",\"Basic Materials\",\"Basic Materials\",\"Basic Materials\",\"Basic Materials\",\"Basic Materials\",\"Basic Materials\",\"Basic Materials\",\"Basic Materials\",\"Basic Materials\",\"Basic Materials\",\"Basic Materials\",\"Basic Materials\",\"Basic Materials\",\"Basic Materials\",\"Basic Materials\",\"Basic Materials\",\"Basic Materials\",\"Basic Materials\",\"Basic Materials\",\"Basic Materials\",\"Basic Materials\",\"Basic Materials\",\"Basic Materials\",\"Basic Materials\",\"Basic Materials\",\"Basic Materials\",\"Basic Materials\",\"Basic Materials\",\"Basic Materials\",\"Basic Materials\",\"Basic Materials\",\"Basic Materials\",\"Basic Materials\",\"Basic Materials\",\"Basic Materials\",\"Basic Materials\",\"Basic Materials\",\"Basic Materials\",\"Basic Materials\",\"Basic Materials\",\"Basic Materials\",\"Basic Materials\",\"Basic Materials\",\"Basic Materials\",\"Basic Materials\",\"Basic Materials\",\"Basic Materials\",\"Basic Materials\",\"Basic Materials\",\"Basic Materials\",\"Basic Materials\",\"Basic Materials\",\"Basic Materials\",\"Basic Materials\",\"Basic Materials\",\"Basic Materials\",\"Basic Materials\",\"Basic Materials\",\"Basic Materials\",\"Basic Materials\",\"Basic Materials\",\"Basic Materials\",\"Basic Materials\",\"Basic Materials\",\"Basic Materials\",\"Basic Materials\",\"Basic Materials\",\"Basic Materials\",\"Basic Materials\",\"Basic Materials\",\"Basic Materials\",\"Basic Materials\",\"Basic Materials\",\"Basic Materials\",\"Basic Materials\",\"Basic Materials\",\"Basic Materials\",\"Basic Materials\",\"Basic Materials\",\"Basic Materials\",\"Basic Materials\",\"Basic Materials\",\"Basic Materials\",\"Basic Materials\",\"Basic Materials\",\"Basic Materials\",\"Basic Materials\",\"Basic Materials\",\"Basic Materials\",\"Basic Materials\",\"Basic Materials\",\"Basic Materials\",\"Basic Materials\",\"Basic Materials\",\"Basic Materials\",\"Basic Materials\",\"Basic Materials\",\"Basic Materials\",\"Basic Materials\",\"Basic Materials\",\"Basic Materials\",\"Basic Materials\",\"Basic Materials\",\"Basic Materials\",\"Basic Materials\",\"Basic Materials\",\"Basic Materials\",\"Basic Materials\",\"Basic Materials\",\"Basic Materials\",\"Basic Materials\",\"Basic Materials\",\"Basic Materials\",\"Basic Materials\",\"Basic Materials\",\"Basic Materials\",\"Basic Materials\",\"Basic Materials\",\"Basic Materials\",\"Basic Materials\",\"Basic Materials\"],\"type\":\"scatter\"}],                        {\"template\":{\"data\":{\"bar\":[{\"error_x\":{\"color\":\"#2a3f5f\"},\"error_y\":{\"color\":\"#2a3f5f\"},\"marker\":{\"line\":{\"color\":\"#E5ECF6\",\"width\":0.5},\"pattern\":{\"fillmode\":\"overlay\",\"size\":10,\"solidity\":0.2}},\"type\":\"bar\"}],\"barpolar\":[{\"marker\":{\"line\":{\"color\":\"#E5ECF6\",\"width\":0.5},\"pattern\":{\"fillmode\":\"overlay\",\"size\":10,\"solidity\":0.2}},\"type\":\"barpolar\"}],\"carpet\":[{\"aaxis\":{\"endlinecolor\":\"#2a3f5f\",\"gridcolor\":\"white\",\"linecolor\":\"white\",\"minorgridcolor\":\"white\",\"startlinecolor\":\"#2a3f5f\"},\"baxis\":{\"endlinecolor\":\"#2a3f5f\",\"gridcolor\":\"white\",\"linecolor\":\"white\",\"minorgridcolor\":\"white\",\"startlinecolor\":\"#2a3f5f\"},\"type\":\"carpet\"}],\"choropleth\":[{\"colorbar\":{\"outlinewidth\":0,\"ticks\":\"\"},\"type\":\"choropleth\"}],\"contour\":[{\"colorbar\":{\"outlinewidth\":0,\"ticks\":\"\"},\"colorscale\":[[0.0,\"#0d0887\"],[0.1111111111111111,\"#46039f\"],[0.2222222222222222,\"#7201a8\"],[0.3333333333333333,\"#9c179e\"],[0.4444444444444444,\"#bd3786\"],[0.5555555555555556,\"#d8576b\"],[0.6666666666666666,\"#ed7953\"],[0.7777777777777778,\"#fb9f3a\"],[0.8888888888888888,\"#fdca26\"],[1.0,\"#f0f921\"]],\"type\":\"contour\"}],\"contourcarpet\":[{\"colorbar\":{\"outlinewidth\":0,\"ticks\":\"\"},\"type\":\"contourcarpet\"}],\"heatmap\":[{\"colorbar\":{\"outlinewidth\":0,\"ticks\":\"\"},\"colorscale\":[[0.0,\"#0d0887\"],[0.1111111111111111,\"#46039f\"],[0.2222222222222222,\"#7201a8\"],[0.3333333333333333,\"#9c179e\"],[0.4444444444444444,\"#bd3786\"],[0.5555555555555556,\"#d8576b\"],[0.6666666666666666,\"#ed7953\"],[0.7777777777777778,\"#fb9f3a\"],[0.8888888888888888,\"#fdca26\"],[1.0,\"#f0f921\"]],\"type\":\"heatmap\"}],\"heatmapgl\":[{\"colorbar\":{\"outlinewidth\":0,\"ticks\":\"\"},\"colorscale\":[[0.0,\"#0d0887\"],[0.1111111111111111,\"#46039f\"],[0.2222222222222222,\"#7201a8\"],[0.3333333333333333,\"#9c179e\"],[0.4444444444444444,\"#bd3786\"],[0.5555555555555556,\"#d8576b\"],[0.6666666666666666,\"#ed7953\"],[0.7777777777777778,\"#fb9f3a\"],[0.8888888888888888,\"#fdca26\"],[1.0,\"#f0f921\"]],\"type\":\"heatmapgl\"}],\"histogram\":[{\"marker\":{\"pattern\":{\"fillmode\":\"overlay\",\"size\":10,\"solidity\":0.2}},\"type\":\"histogram\"}],\"histogram2d\":[{\"colorbar\":{\"outlinewidth\":0,\"ticks\":\"\"},\"colorscale\":[[0.0,\"#0d0887\"],[0.1111111111111111,\"#46039f\"],[0.2222222222222222,\"#7201a8\"],[0.3333333333333333,\"#9c179e\"],[0.4444444444444444,\"#bd3786\"],[0.5555555555555556,\"#d8576b\"],[0.6666666666666666,\"#ed7953\"],[0.7777777777777778,\"#fb9f3a\"],[0.8888888888888888,\"#fdca26\"],[1.0,\"#f0f921\"]],\"type\":\"histogram2d\"}],\"histogram2dcontour\":[{\"colorbar\":{\"outlinewidth\":0,\"ticks\":\"\"},\"colorscale\":[[0.0,\"#0d0887\"],[0.1111111111111111,\"#46039f\"],[0.2222222222222222,\"#7201a8\"],[0.3333333333333333,\"#9c179e\"],[0.4444444444444444,\"#bd3786\"],[0.5555555555555556,\"#d8576b\"],[0.6666666666666666,\"#ed7953\"],[0.7777777777777778,\"#fb9f3a\"],[0.8888888888888888,\"#fdca26\"],[1.0,\"#f0f921\"]],\"type\":\"histogram2dcontour\"}],\"mesh3d\":[{\"colorbar\":{\"outlinewidth\":0,\"ticks\":\"\"},\"type\":\"mesh3d\"}],\"parcoords\":[{\"line\":{\"colorbar\":{\"outlinewidth\":0,\"ticks\":\"\"}},\"type\":\"parcoords\"}],\"pie\":[{\"automargin\":true,\"type\":\"pie\"}],\"scatter\":[{\"marker\":{\"colorbar\":{\"outlinewidth\":0,\"ticks\":\"\"}},\"type\":\"scatter\"}],\"scatter3d\":[{\"line\":{\"colorbar\":{\"outlinewidth\":0,\"ticks\":\"\"}},\"marker\":{\"colorbar\":{\"outlinewidth\":0,\"ticks\":\"\"}},\"type\":\"scatter3d\"}],\"scattercarpet\":[{\"marker\":{\"colorbar\":{\"outlinewidth\":0,\"ticks\":\"\"}},\"type\":\"scattercarpet\"}],\"scattergeo\":[{\"marker\":{\"colorbar\":{\"outlinewidth\":0,\"ticks\":\"\"}},\"type\":\"scattergeo\"}],\"scattergl\":[{\"marker\":{\"colorbar\":{\"outlinewidth\":0,\"ticks\":\"\"}},\"type\":\"scattergl\"}],\"scattermapbox\":[{\"marker\":{\"colorbar\":{\"outlinewidth\":0,\"ticks\":\"\"}},\"type\":\"scattermapbox\"}],\"scatterpolar\":[{\"marker\":{\"colorbar\":{\"outlinewidth\":0,\"ticks\":\"\"}},\"type\":\"scatterpolar\"}],\"scatterpolargl\":[{\"marker\":{\"colorbar\":{\"outlinewidth\":0,\"ticks\":\"\"}},\"type\":\"scatterpolargl\"}],\"scatterternary\":[{\"marker\":{\"colorbar\":{\"outlinewidth\":0,\"ticks\":\"\"}},\"type\":\"scatterternary\"}],\"surface\":[{\"colorbar\":{\"outlinewidth\":0,\"ticks\":\"\"},\"colorscale\":[[0.0,\"#0d0887\"],[0.1111111111111111,\"#46039f\"],[0.2222222222222222,\"#7201a8\"],[0.3333333333333333,\"#9c179e\"],[0.4444444444444444,\"#bd3786\"],[0.5555555555555556,\"#d8576b\"],[0.6666666666666666,\"#ed7953\"],[0.7777777777777778,\"#fb9f3a\"],[0.8888888888888888,\"#fdca26\"],[1.0,\"#f0f921\"]],\"type\":\"surface\"}],\"table\":[{\"cells\":{\"fill\":{\"color\":\"#EBF0F8\"},\"line\":{\"color\":\"white\"}},\"header\":{\"fill\":{\"color\":\"#C8D4E3\"},\"line\":{\"color\":\"white\"}},\"type\":\"table\"}]},\"layout\":{\"annotationdefaults\":{\"arrowcolor\":\"#2a3f5f\",\"arrowhead\":0,\"arrowwidth\":1},\"autotypenumbers\":\"strict\",\"coloraxis\":{\"colorbar\":{\"outlinewidth\":0,\"ticks\":\"\"}},\"colorscale\":{\"diverging\":[[0,\"#8e0152\"],[0.1,\"#c51b7d\"],[0.2,\"#de77ae\"],[0.3,\"#f1b6da\"],[0.4,\"#fde0ef\"],[0.5,\"#f7f7f7\"],[0.6,\"#e6f5d0\"],[0.7,\"#b8e186\"],[0.8,\"#7fbc41\"],[0.9,\"#4d9221\"],[1,\"#276419\"]],\"sequential\":[[0.0,\"#0d0887\"],[0.1111111111111111,\"#46039f\"],[0.2222222222222222,\"#7201a8\"],[0.3333333333333333,\"#9c179e\"],[0.4444444444444444,\"#bd3786\"],[0.5555555555555556,\"#d8576b\"],[0.6666666666666666,\"#ed7953\"],[0.7777777777777778,\"#fb9f3a\"],[0.8888888888888888,\"#fdca26\"],[1.0,\"#f0f921\"]],\"sequentialminus\":[[0.0,\"#0d0887\"],[0.1111111111111111,\"#46039f\"],[0.2222222222222222,\"#7201a8\"],[0.3333333333333333,\"#9c179e\"],[0.4444444444444444,\"#bd3786\"],[0.5555555555555556,\"#d8576b\"],[0.6666666666666666,\"#ed7953\"],[0.7777777777777778,\"#fb9f3a\"],[0.8888888888888888,\"#fdca26\"],[1.0,\"#f0f921\"]]},\"colorway\":[\"#636efa\",\"#EF553B\",\"#00cc96\",\"#ab63fa\",\"#FFA15A\",\"#19d3f3\",\"#FF6692\",\"#B6E880\",\"#FF97FF\",\"#FECB52\"],\"font\":{\"color\":\"#2a3f5f\"},\"geo\":{\"bgcolor\":\"white\",\"lakecolor\":\"white\",\"landcolor\":\"#E5ECF6\",\"showlakes\":true,\"showland\":true,\"subunitcolor\":\"white\"},\"hoverlabel\":{\"align\":\"left\"},\"hovermode\":\"closest\",\"mapbox\":{\"style\":\"light\"},\"paper_bgcolor\":\"white\",\"plot_bgcolor\":\"#E5ECF6\",\"polar\":{\"angularaxis\":{\"gridcolor\":\"white\",\"linecolor\":\"white\",\"ticks\":\"\"},\"bgcolor\":\"#E5ECF6\",\"radialaxis\":{\"gridcolor\":\"white\",\"linecolor\":\"white\",\"ticks\":\"\"}},\"scene\":{\"xaxis\":{\"backgroundcolor\":\"#E5ECF6\",\"gridcolor\":\"white\",\"gridwidth\":2,\"linecolor\":\"white\",\"showbackground\":true,\"ticks\":\"\",\"zerolinecolor\":\"white\"},\"yaxis\":{\"backgroundcolor\":\"#E5ECF6\",\"gridcolor\":\"white\",\"gridwidth\":2,\"linecolor\":\"white\",\"showbackground\":true,\"ticks\":\"\",\"zerolinecolor\":\"white\"},\"zaxis\":{\"backgroundcolor\":\"#E5ECF6\",\"gridcolor\":\"white\",\"gridwidth\":2,\"linecolor\":\"white\",\"showbackground\":true,\"ticks\":\"\",\"zerolinecolor\":\"white\"}},\"shapedefaults\":{\"line\":{\"color\":\"#2a3f5f\"}},\"ternary\":{\"aaxis\":{\"gridcolor\":\"white\",\"linecolor\":\"white\",\"ticks\":\"\"},\"baxis\":{\"gridcolor\":\"white\",\"linecolor\":\"white\",\"ticks\":\"\"},\"bgcolor\":\"#E5ECF6\",\"caxis\":{\"gridcolor\":\"white\",\"linecolor\":\"white\",\"ticks\":\"\"}},\"title\":{\"x\":0.05},\"xaxis\":{\"automargin\":true,\"gridcolor\":\"white\",\"linecolor\":\"white\",\"ticks\":\"\",\"title\":{\"standoff\":15},\"zerolinecolor\":\"white\",\"zerolinewidth\":2},\"yaxis\":{\"automargin\":true,\"gridcolor\":\"white\",\"linecolor\":\"white\",\"ticks\":\"\",\"title\":{\"standoff\":15},\"zerolinecolor\":\"white\",\"zerolinewidth\":2}}},\"shapes\":[{\"type\":\"line\",\"x0\":168,\"x1\":168,\"xref\":\"x\",\"y0\":0,\"y1\":1,\"yref\":\"y domain\"}],\"xaxis\":{\"title\":{\"text\":\"Time Samples\"}},\"yaxis\":{\"title\":{\"text\":\"Y\"}}},                        {\"responsive\": true}                    ).then(function(){\n",
              "                            \n",
              "var gd = document.getElementById('f90a05d4-409f-4a6c-a3c3-c9b04d87ec5f');\n",
              "var x = new MutationObserver(function (mutations, observer) {{\n",
              "        var display = window.getComputedStyle(gd).display;\n",
              "        if (!display || display === 'none') {{\n",
              "            console.log([gd, 'removed!']);\n",
              "            Plotly.purge(gd);\n",
              "            observer.disconnect();\n",
              "        }}\n",
              "}});\n",
              "\n",
              "// Listen for the removal of the full notebook cells\n",
              "var notebookContainer = gd.closest('#notebook-container');\n",
              "if (notebookContainer) {{\n",
              "    x.observe(notebookContainer, {childList: true});\n",
              "}}\n",
              "\n",
              "// Listen for the clearing of the current output cell\n",
              "var outputEl = gd.closest('.output');\n",
              "if (outputEl) {{\n",
              "    x.observe(outputEl, {childList: true});\n",
              "}}\n",
              "\n",
              "                        })                };                            </script>        </div>\n",
              "</body>\n",
              "</html>"
            ]
          },
          "metadata": {}
        }
      ]
    },
    {
      "cell_type": "code",
      "execution_count": 26,
      "metadata": {
        "colab": {
          "base_uri": "https://localhost:8080/"
        },
        "id": "2gBCEnkxeIRa",
        "outputId": "5c27aa89-3ae3-4abd-bbf8-1b878ff6dafe"
      },
      "outputs": [
        {
          "output_type": "stream",
          "name": "stdout",
          "text": [
            "{'num_classes': 12, 'embedding_dim': 12, 'cov_dim': 7, 'op_dim': 5, 'lstm_hidden_dim': 128, 'lstm_layers': 4, 'window_size': 192, 'batch_size': 64, 'learning_rate': 0.005, 'epochs': 100, 'num_test_samples': 13138, 'num_train_samples': 50075, 'conditioning_period': 168, 'prediction_period': 24, 'num_companies': 5, 'mu_sigma_dim': 1, 'scheduler_step_size': 20, 'scheduler_gamma': 0.95, 'horizon_period': 5, 'horizon_weights': array([0.03225806, 0.06451613, 0.12903226, 0.25806452, 0.51612903])}\n"
          ]
        }
      ],
      "source": [
        "\n",
        "\n",
        "def generate_horizon_weights(horizon_len):\n",
        "\n",
        "  weight = [1]\n",
        "  for i in range(1, horizon_len):\n",
        "    weight.append(weight[-1]*2)\n",
        "\n",
        "  weight_arr = np.array(weight)\n",
        "\n",
        "  return weight_arr/ np.sum(weight_arr)\n",
        "\n",
        "HORIZON_PERIOD = 5\n",
        "\n",
        "params = {\n",
        "    'num_classes': len(sector_company_map),\n",
        "    'embedding_dim':len(sector_company_map),\n",
        "    #  month, day, 5 companies open and volume\n",
        "    'cov_dim': 7,\n",
        "    'op_dim': 5,  # op does not have the \"time covariates\"\n",
        "    'lstm_hidden_dim': 128,\n",
        "    'lstm_layers':4,\n",
        "    'window_size':192,\n",
        "    'batch_size': 64,\n",
        "    'learning_rate': 0.005,\n",
        "    'epochs':100,\n",
        "    'num_test_samples': NUM_TEST_SAMPLES,\n",
        "    'num_train_samples': NUM_TRAIN_SAMPLES,\n",
        "    'conditioning_period': 168,\n",
        "    'prediction_period': 24,\n",
        "    'num_companies': 5,\n",
        "    'mu_sigma_dim': 1,  # each datapoint is one-d,\n",
        "    'scheduler_step_size': 20,\n",
        "    'scheduler_gamma': 0.95,\n",
        "    'horizon_period': HORIZON_PERIOD,\n",
        "    'horizon_weights': generate_horizon_weights(HORIZON_PERIOD)\n",
        "}\n",
        "# wandb.config = params\n",
        "print(params)"
      ]
    },
    {
      "cell_type": "code",
      "source": [
        ""
      ],
      "metadata": {
        "id": "s4FWYMOwEK0d"
      },
      "execution_count": 26,
      "outputs": []
    },
    {
      "cell_type": "code",
      "execution_count": 27,
      "metadata": {
        "id": "MIZTYqXUVoi1"
      },
      "outputs": [],
      "source": [
        "import numpy as np\n",
        "import torch\n",
        "from torch.utils.data import Dataset, Sampler\n",
        "from pathlib import Path\n",
        "import sys\n",
        "\n",
        "DATA_PATH = '/content/idl-spring-22-project-deepar/data'\n",
        "\n",
        "\n",
        "class TrainDataset(Dataset):\n",
        "    def __init__(self):\n",
        "        self.data = stock_inputs\n",
        "        self.label = stock_labels\n",
        "        self.train_len = self.data.shape[0]\n",
        "\n",
        "\n",
        "    def __len__(self):\n",
        "        return self.train_len\n",
        "  \n",
        "    def __getitem__(self, index):\n",
        "        x1 = torch.from_numpy(self.data[index][:,[0,2,4,6,8,10,11]].astype(np.float32))\n",
        "        x2 = torch.from_numpy(self.label[index][:,[0,2,4,6,8]].astype(np.float32))\n",
        "\n",
        "        win_len, ip_dim = x1.shape\n",
        "\n",
        "        sector_name = self.data[index][0,12]\n",
        "        sector_id = sector_to_index[sector_name]\n",
        "\n",
        "        sector_id_concat = sector_id * torch.ones((win_len, 1))\n",
        "        x1 = torch.cat((x1, sector_id_concat), dim=1)\n",
        "        return x1, x2  \n",
        "\n",
        "class TestDataset(Dataset):\n",
        "    def __init__(self):\n",
        "        self.data = stock_test_inputs\n",
        "        self.label = stock_test_labels\n",
        "        self.test_len = self.data.shape[0]\n",
        "        \n",
        "    def __len__(self):\n",
        "        return self.test_len\n",
        "\n",
        "    def __getitem__(self, index):\n",
        "      x1 = torch.from_numpy(self.data[index][:,[0,2,4,6,8,10,11]].astype(np.float32))\n",
        "      x2 = torch.from_numpy(self.label[index][:,[0,2,4,6,8]].astype(np.float32))\n",
        "\n",
        "      # Add Sector ID to the input\n",
        "      win_len, ip_dim = x1.shape\n",
        "\n",
        "      sector_name = self.data[index][0,12]  # 12 is company index id\n",
        "      sector_id = sector_to_index[sector_name]\n",
        "\n",
        "      # sector_id_concat -> Sector Id tensor that is to be concatenated to x1\n",
        "      sector_id_concat = sector_id * torch.ones((win_len, 1))\n",
        "      x1 = torch.cat((x1, sector_id_concat), dim=1)\n",
        "\n",
        "      return x1, x2  "
      ]
    },
    {
      "cell_type": "code",
      "execution_count": 28,
      "metadata": {
        "id": "vUjBboi-RjWy",
        "colab": {
          "base_uri": "https://localhost:8080/"
        },
        "outputId": "f6fe452b-e81a-4b6f-9073-7d0fb68000bd"
      },
      "outputs": [
        {
          "output_type": "stream",
          "name": "stdout",
          "text": [
            "data shape \n",
            "tensor([0., 0., 0., 0., 0., 0., 0., 0., 0., 0., 0., 0., 0., 0., 0., 0., 0., 0., 0., 0., 0., 0., 0., 0.,\n",
            "        0., 0., 0., 0., 0., 0., 0., 0., 0., 0., 0., 0., 0., 0., 0., 0., 0., 0., 0., 0., 0., 0., 0., 0.,\n",
            "        0., 0., 0., 0., 0., 0., 0., 0., 0., 0., 0., 0., 0., 0., 0., 0., 0., 0., 0., 0., 0., 0., 0., 0.,\n",
            "        0., 0., 0., 0., 0., 0., 0., 0., 0., 0., 0., 0., 0., 0., 0., 0., 0., 0., 0., 0., 0., 0., 0., 0.,\n",
            "        0., 0., 0., 0., 0., 0., 0., 0., 0., 0., 0., 0., 0., 0., 0., 0., 0., 0., 0., 0., 0., 0., 0., 0.,\n",
            "        0., 0., 0., 0., 0., 0., 0., 0., 0., 0., 0., 0., 0., 0., 0., 0., 0., 0., 0., 0., 0., 0., 0., 0.,\n",
            "        0., 0., 0., 0., 0., 0., 0., 0., 0., 0., 0., 0., 0., 0., 0., 0., 0., 0., 0., 0., 0., 0., 0., 0.,\n",
            "        0., 0., 0., 0., 0., 0., 0., 0., 0., 0., 0., 0., 0., 0., 0., 0., 0., 0., 0., 0., 0., 0., 0., 0.])\n"
          ]
        }
      ],
      "source": [
        "train_dataset = TrainDataset()\n",
        "\n",
        "for x1, x2 in train_dataset:\n",
        "\n",
        "    print(\"data shape \")\n",
        "    print(x1[:,-1])\n",
        "    break\n"
      ]
    },
    {
      "cell_type": "code",
      "execution_count": 29,
      "metadata": {
        "id": "VoSrBQrGRFeL"
      },
      "outputs": [],
      "source": [
        "class TrainDatasetHorizon(Dataset):\n",
        "    def __init__(self):\n",
        "        self.data = stock_inputs\n",
        "        self.label = stock_labels\n",
        "        self.train_len = self.data.shape[0]\n",
        "        self.horizon_period = params['horizon_period']\n",
        "\n",
        "\n",
        "    def __len__(self):\n",
        "        return self.train_len\n",
        "  \n",
        "    def __getitem__(self, index):\n",
        "        x1 = torch.from_numpy(self.data[index][:,[0,2,4,6,8,10,11]].astype(np.float32))\n",
        "        x2 = torch.from_numpy(self.label[index][:,[0,2,4,6,8]].astype(np.float32))\n",
        "        \n",
        "\n",
        "        # Add Sector ID to the input\n",
        "        win_len, ip_dim = x1.shape\n",
        "\n",
        "        sector_name = self.data[index][0,12]  # 12 is company index id\n",
        "        sector_id = sector_to_index[sector_name]\n",
        "\n",
        "        # sector_id_concat -> Sector Id tensor that is to be concatenated to x1\n",
        "        sector_id_concat = sector_id * torch.ones((win_len, 1))\n",
        "        x1 = torch.cat((x1, sector_id_concat), dim=1)\n",
        "\n",
        "        # Add Horizon Information\n",
        "        x_shift = [None]*self.horizon_period\n",
        "        x_shift = [torch.roll(x2, shifts=-1*i, dims=0)[:-1*(self.horizon_period - 1 )] for i in range(0, self.horizon_period)]\n",
        "\n",
        "        return x1[:-1*(self.horizon_period - 1 ), :], x_shift  "
      ]
    },
    {
      "cell_type": "code",
      "execution_count": 30,
      "metadata": {
        "id": "__VxpSfrRlK7"
      },
      "outputs": [],
      "source": [
        "train_horizon = TrainDatasetHorizon()"
      ]
    },
    {
      "cell_type": "code",
      "execution_count": 31,
      "metadata": {
        "id": "fKpEy6hZSPeF",
        "colab": {
          "base_uri": "https://localhost:8080/"
        },
        "outputId": "38342173-49de-4545-b66c-cfd6a48375fb"
      },
      "outputs": [
        {
          "output_type": "stream",
          "name": "stdout",
          "text": [
            "---x1--- tensor([0., 0., 0., 0., 0., 0., 0., 0., 0., 0., 0., 0., 0., 0., 0., 0., 0., 0., 0., 0., 0., 0., 0., 0.,\n",
            "        0., 0., 0., 0., 0., 0., 0., 0., 0., 0., 0., 0., 0., 0., 0., 0., 0., 0., 0., 0., 0., 0., 0., 0.,\n",
            "        0., 0., 0., 0., 0., 0., 0., 0., 0., 0., 0., 0., 0., 0., 0., 0., 0., 0., 0., 0., 0., 0., 0., 0.,\n",
            "        0., 0., 0., 0., 0., 0., 0., 0., 0., 0., 0., 0., 0., 0., 0., 0., 0., 0., 0., 0., 0., 0., 0., 0.,\n",
            "        0., 0., 0., 0., 0., 0., 0., 0., 0., 0., 0., 0., 0., 0., 0., 0., 0., 0., 0., 0., 0., 0., 0., 0.,\n",
            "        0., 0., 0., 0., 0., 0., 0., 0., 0., 0., 0., 0., 0., 0., 0., 0., 0., 0., 0., 0., 0., 0., 0., 0.,\n",
            "        0., 0., 0., 0., 0., 0., 0., 0., 0., 0., 0., 0., 0., 0., 0., 0., 0., 0., 0., 0., 0., 0., 0., 0.,\n",
            "        0., 0., 0., 0., 0., 0., 0., 0., 0., 0., 0., 0., 0., 0., 0., 0., 0., 0., 0., 0.])\n"
          ]
        }
      ],
      "source": [
        "for x1, x2 in train_horizon:\n",
        "\n",
        "    print(\"---x1---\", x1[:, 7])\n",
        "\n",
        "    break"
      ]
    },
    {
      "cell_type": "code",
      "execution_count": 32,
      "metadata": {
        "id": "a3I7J_ZLesq9"
      },
      "outputs": [],
      "source": [
        "train_data = TrainDatasetHorizon()\n",
        "test_data  = TestDataset()\n",
        "\n",
        "train_loader = torch.utils.data.DataLoader(train_data, batch_size=params['batch_size'], shuffle=True)\n",
        "test_loader = torch.utils.data.DataLoader(test_data, batch_size=params['batch_size'], shuffle=False)\n"
      ]
    },
    {
      "cell_type": "code",
      "execution_count": 33,
      "metadata": {
        "id": "BNCwGgCeBh4h"
      },
      "outputs": [],
      "source": [
        "def rmse(overall_mu, overall_label):\n",
        "  predictions = overall_mu.cpu().detach().numpy()\n",
        "  labels = overall_label.cpu().detach().numpy()\n",
        "\n",
        "  N, _ = predictions.shape\n",
        "  numerator = np.sqrt((1/(N)) *np.sum((predictions - labels) ** 2))\n",
        "\n",
        "  denominator = (1/(N)) *np.sum(np.abs(labels))\n",
        "  result =numerator/denominator\n",
        "\n",
        "  return result\n",
        "\n",
        "def ND(overall_mu, overall_label):\n",
        "  predictions = overall_mu.cpu().detach().numpy()\n",
        "  labels = overall_label.cpu().detach().numpy()\n",
        "\n",
        "  N, _ = predictions.shape\n",
        "  numerator = np.sum(np.abs(labels - predictions))\n",
        "\n",
        "  denominator = np.sum(np.abs(labels))\n",
        "  result =numerator/denominator\n",
        "\n",
        "  return result\n"
      ]
    },
    {
      "cell_type": "markdown",
      "metadata": {
        "id": "159ySGUzmwsD"
      },
      "source": [
        "# MODEL\n"
      ]
    },
    {
      "cell_type": "code",
      "execution_count": 34,
      "metadata": {
        "id": "HLxjSYBzmyuz"
      },
      "outputs": [],
      "source": [
        "class Network(nn.Module):\n",
        "    def __init__(self, params):\n",
        "        '''\n",
        "        We define a recurrent network that predicts the \n",
        "        future values of a time-dependent variable based on\n",
        "        past inputs and covariates.\n",
        "        '''\n",
        "        super(Network, self).__init__()\n",
        "        self.params = params\n",
        "        \n",
        "        self.lstm = nn.LSTM(input_size=params['cov_dim']+params['embedding_dim'],\n",
        "                            hidden_size=params['lstm_hidden_dim'],\n",
        "                            num_layers=params['lstm_layers'],\n",
        "                            bias=True,\n",
        "                            batch_first=True,\n",
        "                          )\n",
        "\n",
        "        self.price_mu = nn.Sequential(\n",
        "                        nn.Linear(params['lstm_hidden_dim'], params['num_companies']),\n",
        "                        nn.GELU()\n",
        "                      )\n",
        "        \n",
        "        self.price_sigma = nn.Sequential(\n",
        "                        nn.Linear(params['lstm_hidden_dim'], params['num_companies']),\n",
        "                        nn.Softplus()\n",
        "                      )\n",
        "        \n",
        "        self.embedding = nn.Embedding(params['num_classes'], params['embedding_dim'])\n",
        "        \n",
        "\n",
        "    def forward(self, x, h0_c0=None):\n",
        "        '''\n",
        "        Predict mu and sigma of the distribution for z_t.\n",
        "        '''\n",
        "\n",
        "        cov = x[:, :, :-1]   # remove the sector index from the inputs to get the covariates\n",
        "        sector_index = x[:, 0, -1].to(torch.int32)  # retrieve the sector index from the covariates\n",
        "        onehot_embed = self.embedding(sector_index)\n",
        "\n",
        "        batch_size = cov.shape[0]\n",
        "        seq_len = cov.shape[1]\n",
        "        cov_dim = cov.shape[2]\n",
        "\n",
        "        assert cov_dim == params['cov_dim']\n",
        "        assert batch_size <= params['batch_size']\n",
        "\n",
        "        ohe_embed_all_timestamps = onehot_embed.unsqueeze(1).repeat(1,seq_len,1)\n",
        "\n",
        "        lstm_input = torch.cat(\n",
        "            (cov,\n",
        "             ohe_embed_all_timestamps\n",
        "            ), dim=2\n",
        "          )\n",
        "        \n",
        "        assert lstm_input.shape[0] <= params['batch_size']\n",
        "        assert lstm_input.shape[1] == seq_len\n",
        "        assert lstm_input.shape[2] == params['cov_dim'] + params['embedding_dim']\n",
        "\n",
        "        out1, hn_cn = self.lstm(input=lstm_input, hx=h0_c0)\n",
        "              \n",
        "        out_price_mu = self.price_mu(out1)\n",
        "        out_price_sigma = self.price_sigma(out1)\n",
        "        \n",
        "        return out_price_mu, out_price_sigma, hn_cn\n",
        "\n"
      ]
    },
    {
      "cell_type": "code",
      "execution_count": 35,
      "metadata": {
        "id": "e4gWHzoKQb8c",
        "colab": {
          "base_uri": "https://localhost:8080/"
        },
        "outputId": "e7975677-05c7-4036-d97c-bcdb6f85fd03"
      },
      "outputs": [
        {
          "output_type": "stream",
          "name": "stdout",
          "text": [
            "Network(\n",
            "  (lstm): LSTM(19, 128, num_layers=4, batch_first=True)\n",
            "  (price_mu): Sequential(\n",
            "    (0): Linear(in_features=128, out_features=5, bias=True)\n",
            "    (1): GELU()\n",
            "  )\n",
            "  (price_sigma): Sequential(\n",
            "    (0): Linear(in_features=128, out_features=5, bias=True)\n",
            "    (1): Softplus(beta=1, threshold=20)\n",
            "  )\n",
            "  (embedding): Embedding(12, 12)\n",
            ")\n"
          ]
        }
      ],
      "source": [
        "model = Network(params)\n",
        "print(model)"
      ]
    },
    {
      "cell_type": "code",
      "source": [
        "for ip, op in train_loader:\n",
        "    print(\"ip shape\", ip.shape)\n",
        "    print(\"op shape\", op[0].shape)\n",
        "\n",
        "    fwd = model.forward(ip)\n",
        "    print(\"fwd shape\", fwd[0].shape)\n",
        "    break"
      ],
      "metadata": {
        "colab": {
          "base_uri": "https://localhost:8080/"
        },
        "id": "xV93rGZEZjiX",
        "outputId": "7b6e52f6-cb4e-46da-c338-76c0f2078953"
      },
      "execution_count": 36,
      "outputs": [
        {
          "output_type": "stream",
          "name": "stdout",
          "text": [
            "ip shape torch.Size([64, 188, 8])\n",
            "op shape torch.Size([64, 188, 5])\n",
            "fwd shape torch.Size([64, 188, 5])\n"
          ]
        }
      ]
    },
    {
      "cell_type": "code",
      "execution_count": 37,
      "metadata": {
        "id": "kmpCoaF6hBS8"
      },
      "outputs": [],
      "source": [
        "def gauss_fit_and_sample(price_mu, price_sigma):\n",
        "  window_len = price_mu.shape[1]\n",
        "  batch_size = price_mu.shape[0]\n",
        "\n",
        "  # BATCH, SEQ_LEN, NUM_COMPANIES, 1\n",
        "  price_mu_reshape = price_mu.view(batch_size * window_len * params['num_companies'], params['mu_sigma_dim'])\n",
        "  price_sigma_reshape = price_sigma.view(batch_size * window_len * params['num_companies'], params['mu_sigma_dim'])\n",
        "\n",
        "  gauss_price = torch.distributions.Normal(price_mu_reshape, price_sigma_reshape)\n",
        "\n",
        "  # BATCH, SEQ_LEN, NUM_COMPANIES, 1\n",
        "  price_sampled_reshape = gauss_price.sample()\n",
        "  price_sampled = price_sampled_reshape.view(batch_size, window_len, params['num_companies'])\n",
        "\n",
        "  return price_sampled"
      ]
    },
    {
      "cell_type": "code",
      "source": [
        "mu_rand = torch.rand(2, 3, 5)\n",
        "sigma_rand = torch.ones((2,3,5))* 0.000000001\n",
        "\n",
        "sampled_data = gauss_fit_and_sample(mu_rand, sigma_rand)\n",
        "\n",
        "print(mu_rand)\n",
        "print(sampled_data)\n"
      ],
      "metadata": {
        "colab": {
          "base_uri": "https://localhost:8080/"
        },
        "id": "jeyCH2qBPkPR",
        "outputId": "00f27b20-81b8-4cc7-a232-72639a8839a5"
      },
      "execution_count": 38,
      "outputs": [
        {
          "output_type": "stream",
          "name": "stdout",
          "text": [
            "tensor([[[0.0335, 0.5192, 0.5797, 0.1589, 0.1398],\n",
            "         [0.8942, 0.3128, 0.1560, 0.1026, 0.5984],\n",
            "         [0.2966, 0.9490, 0.1602, 0.8294, 0.6615]],\n",
            "\n",
            "        [[0.1798, 0.5280, 0.7804, 0.4995, 0.2518],\n",
            "         [0.3930, 0.7531, 0.6469, 0.8505, 0.7630],\n",
            "         [0.1457, 0.3878, 0.8107, 0.0439, 0.0806]]])\n",
            "tensor([[[0.0335, 0.5192, 0.5797, 0.1589, 0.1398],\n",
            "         [0.8942, 0.3128, 0.1560, 0.1026, 0.5984],\n",
            "         [0.2966, 0.9490, 0.1602, 0.8294, 0.6615]],\n",
            "\n",
            "        [[0.1798, 0.5280, 0.7804, 0.4995, 0.2518],\n",
            "         [0.3930, 0.7531, 0.6469, 0.8505, 0.7630],\n",
            "         [0.1457, 0.3878, 0.8107, 0.0439, 0.0806]]])\n"
          ]
        }
      ]
    },
    {
      "cell_type": "code",
      "execution_count": 39,
      "metadata": {
        "id": "NK3Q5UWCGCX0"
      },
      "outputs": [],
      "source": [
        ".0# Test Code Conditioning Period + Prediction Period\n",
        "\n",
        "\n",
        "def validate(model):\n",
        "\n",
        "  model.eval()\n",
        "\n",
        "\n",
        "  conditionining_period = params['conditioning_period']\n",
        "  prediction_period     = params['prediction_period']\n",
        "\n",
        "  assert conditionining_period + prediction_period == params['window_size']\n",
        "\n",
        "  with torch.no_grad():\n",
        "      \n",
        "    overall_price_mu = None\n",
        "    # overall_volume_mu = None\n",
        "\n",
        "    overall_price_sigma = None\n",
        "    # overall_volume_sigma = None\n",
        "\n",
        "    overall_price_label = None\n",
        "    # overall_volume_label = None\n",
        "\n",
        "    overall_price_pred = None\n",
        "    # overall_volume_pred = None\n",
        "\n",
        "    for i, (ip_covariate, op_label) in enumerate(test_loader):\n",
        "\n",
        "      ip_covariate = ip_covariate.cuda()\n",
        "      op_label = op_label.cuda()\n",
        "\n",
        "      cond_ip = ip_covariate[:, 0:params['conditioning_period'], :]\n",
        "      cond_op = op_label[:, 0:params['conditioning_period'], :]\n",
        "\n",
        "      pred_ip = ip_covariate[:, params['conditioning_period']:, :]\n",
        "      pred_op = op_label[:, params['conditioning_period']:, :]\n",
        "\n",
        "      # Step One - Forward Pass : Conditioning Period.\n",
        "      price_mu, price_sigma, ht_ct = model.forward(x=cond_ip, h0_c0=None)\n",
        "\n",
        "      # Sample GMM and get PRICE/ volume\n",
        "      price_sampled = gauss_fit_and_sample(price_mu, price_sigma)\n",
        "\n",
        "      price_sampled_last = price_sampled[:, -1, :].unsqueeze(1)\n",
        "\n",
        "      batch_price_mu = price_mu\n",
        "      batch_price_sigma = price_sigma\n",
        "\n",
        "      batch_price_pred = price_sampled\n",
        "\n",
        "      for t in range(0, prediction_period):\n",
        "        pred_cov_ip = pred_ip[:, t, :].unsqueeze(1)\n",
        "\n",
        "        # pred_cov_ip[:, 0, 2:2 + params['num_companies']] = price_sampled_last[:, 0, :]\n",
        "        pred_cov_ip[:, 0, 0:params['num_companies']] = price_sampled_last[:, 0, :]\n",
        "        price_pred_mu, price_pred_sigma, ht_ct = model.forward(x=pred_cov_ip,h0_c0=ht_ct)\n",
        "        price_sampled_last = gauss_fit_and_sample(price_pred_mu, price_pred_sigma)\n",
        "\n",
        "        batch_price_mu = torch.cat((batch_price_mu, price_pred_mu), dim=1)\n",
        "        batch_price_sigma = torch.cat((batch_price_sigma, price_pred_sigma), dim=1)        \n",
        "        batch_price_pred = torch.cat((batch_price_pred, price_sampled_last), dim=1)\n",
        "\n",
        "      overall_price_mu = batch_price_mu if overall_price_mu is None else torch.cat((overall_price_mu, batch_price_mu), dim=0)\n",
        "      overall_price_sigma = batch_price_sigma if overall_price_sigma is None else torch.cat((overall_price_sigma, batch_price_sigma), dim=0)\n",
        "      overall_price_pred = batch_price_pred if overall_price_pred is None else torch.cat((overall_price_pred, batch_price_pred), dim=0)\n",
        "      overall_price_label = op_label[:, :, 0:params['num_companies']] if overall_price_label is None else torch.cat((overall_price_label, op_label[:, :, 0:params['num_companies']]), dim=0)\n",
        "    \n",
        "  \n",
        "  return overall_price_pred,overall_price_label, overall_price_mu, overall_price_sigma\n"
      ]
    },
    {
      "cell_type": "code",
      "source": [
        "def loss_fn(out_price_mu, out_price_sigma, op_label):\n",
        "\n",
        "    B, S, D = out_price_mu.shape\n",
        "\n",
        "    out_price_mu = out_price_mu.view(B * S * params['num_companies'], params['mu_sigma_dim'])\n",
        "    out_price_sigma = out_price_sigma.view(B * S * params['num_companies'], params['mu_sigma_dim'])\n",
        "    \n",
        "    gauss_price =  torch.distributions.Normal(out_price_mu, out_price_sigma)\n",
        "    \n",
        "    op_label_price = op_label.view(B * S * params['num_companies'], params['mu_sigma_dim'])\n",
        "\n",
        "    sample_loss =  -1 * torch.sum(gauss_price.log_prob(op_label_price)) / (B * S * params['num_companies'])\n",
        "\n",
        "    return sample_loss\n"
      ],
      "metadata": {
        "id": "bcp5f_P2-RTd"
      },
      "execution_count": 40,
      "outputs": []
    },
    {
      "cell_type": "code",
      "source": [
        "def loss_fn_v2(out_price_mu, out_price_sigma, op_label):\n",
        "\n",
        "    B, S, D = out_price_mu.shape\n",
        "\n",
        "    loss = 0\n",
        "    for b in range(0, B):\n",
        "      for seq in range(0, S):\n",
        "        mean = out_price_mu[b, seq].view(-1, 1)\n",
        "        sigma = out_price_sigma[b, seq].view(-1, 1)\n",
        "        op    = op_label[b, seq].view(-1, 1)\n",
        "\n",
        "        gauss =  torch.distributions.Normal(mean, sigma)\n",
        "        # print(\"mean\", mean.shape, \"sigma\", sigma.shape, \"op\", op.shape)\n",
        "        loss += -1 * torch.sum(gauss.log_prob(op))\n",
        "    return  loss / (B * S * params['num_companies'])\n",
        "\n"
      ],
      "metadata": {
        "id": "M3lj0T91H0T4"
      },
      "execution_count": 41,
      "outputs": []
    },
    {
      "cell_type": "code",
      "source": [
        "mu_rand = torch.rand(2, 3, 5)\n",
        "sigma_rand = torch.rand(2, 3, 5)\n",
        "op_rand = torch.randn(2, 3, 5)\n",
        "\n",
        "loss_val = loss_fn(mu_rand, sigma_rand, op_rand)\n",
        "loss_val_v2 = loss_fn_v2(mu_rand, sigma_rand, op_rand)\n",
        "\n",
        "print(\"loss fn \", loss_val, \"loss val v2 \", loss_val_v2)\n",
        "\n",
        "sigma_rand = 0.000000001 * torch.ones((2, 3, 4))\n",
        "\n",
        "\n",
        "# print(\"mu shape\", mu_rand.shape)"
      ],
      "metadata": {
        "colab": {
          "base_uri": "https://localhost:8080/"
        },
        "id": "sx-X1B839Mp3",
        "outputId": "abdb79e5-0fcf-4b99-c879-a3e17df22398"
      },
      "execution_count": 42,
      "outputs": [
        {
          "output_type": "stream",
          "name": "stdout",
          "text": [
            "loss fn  tensor(18.5288) loss val v2  tensor(18.5288)\n"
          ]
        }
      ]
    },
    {
      "cell_type": "code",
      "execution_count": 44,
      "metadata": {
        "colab": {
          "base_uri": "https://localhost:8080/",
          "height": 990
        },
        "id": "kQ6wFWORLyHh",
        "outputId": "ae1373cb-fc01-41e0-ff1a-21c3dcd38605"
      },
      "outputs": [
        {
          "output_type": "stream",
          "name": "stderr",
          "text": [
            ""
          ]
        },
        {
          "output_type": "stream",
          "name": "stdout",
          "text": [
            "Epoch 0, price loss 0.11511141806840897\n"
          ]
        },
        {
          "output_type": "stream",
          "name": "stderr",
          "text": [
            ""
          ]
        },
        {
          "output_type": "stream",
          "name": "stdout",
          "text": [
            "Epoch 1, price loss -0.1908157467842102\n"
          ]
        },
        {
          "output_type": "stream",
          "name": "stderr",
          "text": [
            ""
          ]
        },
        {
          "output_type": "stream",
          "name": "stdout",
          "text": [
            "Epoch 2, price loss -0.31682145595550537\n"
          ]
        },
        {
          "output_type": "stream",
          "name": "stderr",
          "text": [
            ""
          ]
        },
        {
          "output_type": "stream",
          "name": "stdout",
          "text": [
            "Epoch 3, price loss -0.44593966007232666\n"
          ]
        },
        {
          "output_type": "stream",
          "name": "stderr",
          "text": [
            ""
          ]
        },
        {
          "output_type": "stream",
          "name": "stdout",
          "text": [
            "Epoch 4, price loss -0.512670636177063\n"
          ]
        },
        {
          "output_type": "stream",
          "name": "stderr",
          "text": [
            ""
          ]
        },
        {
          "output_type": "stream",
          "name": "stdout",
          "text": [
            "Epoch 5, price loss -0.545843780040741\n"
          ]
        },
        {
          "output_type": "stream",
          "name": "stderr",
          "text": [
            ""
          ]
        },
        {
          "output_type": "stream",
          "name": "stdout",
          "text": [
            "Epoch 6, price loss -0.40243029594421387\n"
          ]
        },
        {
          "output_type": "stream",
          "name": "stderr",
          "text": [
            ""
          ]
        },
        {
          "output_type": "stream",
          "name": "stdout",
          "text": [
            "Epoch 7, price loss -0.5855859518051147\n"
          ]
        },
        {
          "output_type": "stream",
          "name": "stderr",
          "text": [
            ""
          ]
        },
        {
          "output_type": "stream",
          "name": "stdout",
          "text": [
            "Epoch 8, price loss -0.6213720440864563\n"
          ]
        },
        {
          "output_type": "stream",
          "name": "stderr",
          "text": [
            ""
          ]
        },
        {
          "output_type": "stream",
          "name": "stdout",
          "text": [
            "Epoch 9, price loss -0.5574692487716675\n"
          ]
        },
        {
          "output_type": "stream",
          "name": "stderr",
          "text": [
            ""
          ]
        },
        {
          "output_type": "stream",
          "name": "stdout",
          "text": [
            "Epoch 10, price loss -0.5437594652175903\n"
          ]
        },
        {
          "output_type": "stream",
          "name": "stderr",
          "text": [
            ""
          ]
        },
        {
          "output_type": "stream",
          "name": "stdout",
          "text": [
            "Epoch 11, price loss -0.7268824577331543\n"
          ]
        },
        {
          "output_type": "stream",
          "name": "stderr",
          "text": [
            ""
          ]
        },
        {
          "output_type": "stream",
          "name": "stdout",
          "text": [
            "Epoch 12, price loss -0.6443825960159302\n"
          ]
        },
        {
          "output_type": "stream",
          "name": "stderr",
          "text": [
            ""
          ]
        },
        {
          "output_type": "stream",
          "name": "stdout",
          "text": [
            "Epoch 13, price loss -0.6528295278549194\n"
          ]
        },
        {
          "output_type": "stream",
          "name": "stderr",
          "text": [
            ""
          ]
        },
        {
          "output_type": "stream",
          "name": "stdout",
          "text": [
            "Epoch 14, price loss -0.7386007308959961\n"
          ]
        },
        {
          "output_type": "stream",
          "name": "stderr",
          "text": [
            ""
          ]
        },
        {
          "output_type": "stream",
          "name": "stdout",
          "text": [
            "Epoch 15, price loss -0.41068196296691895\n"
          ]
        },
        {
          "output_type": "stream",
          "name": "stderr",
          "text": [
            ""
          ]
        },
        {
          "output_type": "stream",
          "name": "stdout",
          "text": [
            "Epoch 16, price loss -0.8077538013458252\n"
          ]
        },
        {
          "output_type": "stream",
          "name": "stderr",
          "text": [
            ""
          ]
        },
        {
          "output_type": "stream",
          "name": "stdout",
          "text": [
            "Epoch 17, price loss -0.8854910135269165\n"
          ]
        },
        {
          "output_type": "stream",
          "name": "stderr",
          "text": [
            ""
          ]
        },
        {
          "output_type": "stream",
          "name": "stdout",
          "text": [
            "Epoch 18, price loss -0.8549880981445312\n"
          ]
        },
        {
          "output_type": "stream",
          "name": "stderr",
          "text": [
            ""
          ]
        },
        {
          "output_type": "stream",
          "name": "stdout",
          "text": [
            "Epoch 19, price loss -0.7596778869628906\n"
          ]
        },
        {
          "output_type": "stream",
          "name": "stderr",
          "text": [
            ""
          ]
        },
        {
          "output_type": "stream",
          "name": "stdout",
          "text": [
            "Epoch 20, price loss -0.7848856449127197\n"
          ]
        },
        {
          "output_type": "stream",
          "name": "stderr",
          "text": [
            ""
          ]
        },
        {
          "output_type": "stream",
          "name": "stdout",
          "text": [
            "Epoch 21, price loss -0.6137881278991699\n"
          ]
        },
        {
          "output_type": "stream",
          "name": "stderr",
          "text": [
            ""
          ]
        },
        {
          "output_type": "stream",
          "name": "stdout",
          "text": [
            "Epoch 22, price loss -0.8106603622436523\n"
          ]
        },
        {
          "output_type": "stream",
          "name": "stderr",
          "text": [
            ""
          ]
        },
        {
          "output_type": "stream",
          "name": "stdout",
          "text": [
            "Epoch 23, price loss -1.023429274559021\n"
          ]
        },
        {
          "output_type": "stream",
          "name": "stderr",
          "text": [
            ""
          ]
        },
        {
          "output_type": "stream",
          "name": "stdout",
          "text": [
            "Epoch 24, price loss -0.752964973449707\n"
          ]
        },
        {
          "output_type": "stream",
          "name": "stderr",
          "text": [
            ""
          ]
        },
        {
          "output_type": "stream",
          "name": "stdout",
          "text": [
            "Epoch 25, price loss -0.9041926860809326\n"
          ]
        },
        {
          "output_type": "stream",
          "name": "stderr",
          "text": [
            ""
          ]
        },
        {
          "output_type": "stream",
          "name": "stdout",
          "text": [
            "Epoch 26, price loss -0.755724310874939\n"
          ]
        },
        {
          "output_type": "stream",
          "name": "stderr",
          "text": [
            ""
          ]
        },
        {
          "output_type": "stream",
          "name": "stdout",
          "text": [
            "Epoch 27, price loss -1.2033801078796387\n"
          ]
        },
        {
          "output_type": "stream",
          "name": "stderr",
          "text": [
            ""
          ]
        },
        {
          "output_type": "stream",
          "name": "stdout",
          "text": [
            "Epoch 28, price loss -0.982041597366333\n"
          ]
        },
        {
          "output_type": "stream",
          "name": "stderr",
          "text": [
            ""
          ]
        },
        {
          "output_type": "stream",
          "name": "stdout",
          "text": [
            "Epoch 29, price loss -0.43430960178375244\n"
          ]
        },
        {
          "output_type": "stream",
          "name": "stderr",
          "text": [
            ""
          ]
        },
        {
          "output_type": "stream",
          "name": "stdout",
          "text": [
            "Epoch 30, price loss -0.7194937467575073\n"
          ]
        },
        {
          "output_type": "stream",
          "name": "stderr",
          "text": [
            "Train:  40%|████      | 315/783 [00:16<00:24, 19.01it/s, loss=-55.3008, lr=0.0010]"
          ]
        },
        {
          "output_type": "error",
          "ename": "KeyboardInterrupt",
          "evalue": "ignored",
          "traceback": [
            "\u001b[0;31m---------------------------------------------------------------------------\u001b[0m",
            "\u001b[0;31mKeyboardInterrupt\u001b[0m                         Traceback (most recent call last)",
            "\u001b[0;32m<ipython-input-44-4c10a5f1f747>\u001b[0m in \u001b[0;36m<module>\u001b[0;34m()\u001b[0m\n\u001b[1;32m     51\u001b[0m       \u001b[0msample_loss\u001b[0m \u001b[0;34m=\u001b[0m  \u001b[0;34m-\u001b[0m\u001b[0;36m1\u001b[0m \u001b[0;34m*\u001b[0m \u001b[0mtorch\u001b[0m\u001b[0;34m.\u001b[0m\u001b[0msum\u001b[0m\u001b[0;34m(\u001b[0m\u001b[0mgauss_price\u001b[0m\u001b[0;34m.\u001b[0m\u001b[0mlog_prob\u001b[0m\u001b[0;34m(\u001b[0m\u001b[0mop_label_price\u001b[0m\u001b[0;34m)\u001b[0m\u001b[0;34m)\u001b[0m \u001b[0;34m/\u001b[0m \u001b[0;34m(\u001b[0m\u001b[0mbatch_size\u001b[0m \u001b[0;34m*\u001b[0m \u001b[0mseq_with_horizon\u001b[0m \u001b[0;34m*\u001b[0m \u001b[0mparams\u001b[0m\u001b[0;34m[\u001b[0m\u001b[0;34m'num_companies'\u001b[0m\u001b[0;34m]\u001b[0m\u001b[0;34m)\u001b[0m\u001b[0;34m\u001b[0m\u001b[0;34m\u001b[0m\u001b[0m\n\u001b[1;32m     52\u001b[0m       \u001b[0mloss\u001b[0m \u001b[0;34m+=\u001b[0m \u001b[0msample_loss\u001b[0m \u001b[0;34m*\u001b[0m \u001b[0mparams\u001b[0m\u001b[0;34m[\u001b[0m\u001b[0;34m'horizon_weights'\u001b[0m\u001b[0;34m]\u001b[0m\u001b[0;34m[\u001b[0m\u001b[0mi\u001b[0m\u001b[0;34m]\u001b[0m\u001b[0;34m\u001b[0m\u001b[0;34m\u001b[0m\u001b[0m\n\u001b[0;32m---> 53\u001b[0;31m     \u001b[0mloss\u001b[0m\u001b[0;34m.\u001b[0m\u001b[0mbackward\u001b[0m\u001b[0;34m(\u001b[0m\u001b[0;34m)\u001b[0m\u001b[0;34m\u001b[0m\u001b[0;34m\u001b[0m\u001b[0m\n\u001b[0m\u001b[1;32m     54\u001b[0m \u001b[0;34m\u001b[0m\u001b[0m\n\u001b[1;32m     55\u001b[0m     \u001b[0mtotal_loss\u001b[0m \u001b[0;34m+=\u001b[0m \u001b[0mfloat\u001b[0m\u001b[0;34m(\u001b[0m\u001b[0mloss\u001b[0m\u001b[0;34m)\u001b[0m\u001b[0;34m\u001b[0m\u001b[0;34m\u001b[0m\u001b[0m\n",
            "\u001b[0;32m/usr/local/lib/python3.7/dist-packages/torch/_tensor.py\u001b[0m in \u001b[0;36mbackward\u001b[0;34m(self, gradient, retain_graph, create_graph, inputs)\u001b[0m\n\u001b[1;32m    361\u001b[0m                 \u001b[0mcreate_graph\u001b[0m\u001b[0;34m=\u001b[0m\u001b[0mcreate_graph\u001b[0m\u001b[0;34m,\u001b[0m\u001b[0;34m\u001b[0m\u001b[0;34m\u001b[0m\u001b[0m\n\u001b[1;32m    362\u001b[0m                 inputs=inputs)\n\u001b[0;32m--> 363\u001b[0;31m         \u001b[0mtorch\u001b[0m\u001b[0;34m.\u001b[0m\u001b[0mautograd\u001b[0m\u001b[0;34m.\u001b[0m\u001b[0mbackward\u001b[0m\u001b[0;34m(\u001b[0m\u001b[0mself\u001b[0m\u001b[0;34m,\u001b[0m \u001b[0mgradient\u001b[0m\u001b[0;34m,\u001b[0m \u001b[0mretain_graph\u001b[0m\u001b[0;34m,\u001b[0m \u001b[0mcreate_graph\u001b[0m\u001b[0;34m,\u001b[0m \u001b[0minputs\u001b[0m\u001b[0;34m=\u001b[0m\u001b[0minputs\u001b[0m\u001b[0;34m)\u001b[0m\u001b[0;34m\u001b[0m\u001b[0;34m\u001b[0m\u001b[0m\n\u001b[0m\u001b[1;32m    364\u001b[0m \u001b[0;34m\u001b[0m\u001b[0m\n\u001b[1;32m    365\u001b[0m     \u001b[0;32mdef\u001b[0m \u001b[0mregister_hook\u001b[0m\u001b[0;34m(\u001b[0m\u001b[0mself\u001b[0m\u001b[0;34m,\u001b[0m \u001b[0mhook\u001b[0m\u001b[0;34m)\u001b[0m\u001b[0;34m:\u001b[0m\u001b[0;34m\u001b[0m\u001b[0;34m\u001b[0m\u001b[0m\n",
            "\u001b[0;32m/usr/local/lib/python3.7/dist-packages/torch/autograd/__init__.py\u001b[0m in \u001b[0;36mbackward\u001b[0;34m(tensors, grad_tensors, retain_graph, create_graph, grad_variables, inputs)\u001b[0m\n\u001b[1;32m    173\u001b[0m     Variable._execution_engine.run_backward(  # Calls into the C++ engine to run the backward pass\n\u001b[1;32m    174\u001b[0m         \u001b[0mtensors\u001b[0m\u001b[0;34m,\u001b[0m \u001b[0mgrad_tensors_\u001b[0m\u001b[0;34m,\u001b[0m \u001b[0mretain_graph\u001b[0m\u001b[0;34m,\u001b[0m \u001b[0mcreate_graph\u001b[0m\u001b[0;34m,\u001b[0m \u001b[0minputs\u001b[0m\u001b[0;34m,\u001b[0m\u001b[0;34m\u001b[0m\u001b[0;34m\u001b[0m\u001b[0m\n\u001b[0;32m--> 175\u001b[0;31m         allow_unreachable=True, accumulate_grad=True)  # Calls into the C++ engine to run the backward pass\n\u001b[0m\u001b[1;32m    176\u001b[0m \u001b[0;34m\u001b[0m\u001b[0m\n\u001b[1;32m    177\u001b[0m def grad(\n",
            "\u001b[0;31mKeyboardInterrupt\u001b[0m: "
          ]
        }
      ],
      "source": [
        "model = Network(params)\n",
        "\n",
        "model_version='vectorized_gaussian_weighted_loss_sector_embed_v3.pt'\n",
        "epochs = 100\n",
        "\n",
        "optimizer = torch.optim.Adam(model.parameters(), lr= 0.001)\n",
        "# scheduler = optim.lr_scheduler.StepLR(optimizer, step_size=params['scheduler_step_size'], gamma=params['scheduler_gamma'])\n",
        "scheduler = torch.optim.lr_scheduler.ReduceLROnPlateau(optimizer, mode='min', factor=0.7, patience=5, threshold=0.01, threshold_mode='rel', cooldown=2, min_lr=0, eps=1e-08, verbose=False)\n",
        "\n",
        "for epoch in range(0, epochs):\n",
        "\n",
        "  batch_bar = tqdm(total=len(train_loader), dynamic_ncols=True, leave=False, position=0, desc='Train') \n",
        "  model.train()\n",
        "  model.cuda()\n",
        "\n",
        "  total_loss = 0\n",
        "  total_price_loss = 0\n",
        "  total_volume_loss = 0\n",
        "\n",
        "  if os.path.exists(f'/content/drive/MyDrive/DeepARExperiments/{model_version}'):\n",
        "      # model.load_state_dict(torch.load(f'{SAVE_PATH}{EXP_TAG}/model_saved_epoch{epoch-1}.pt')) \n",
        "\n",
        "      checkpoint = torch.load(f'/content/drive/MyDrive/DeepARExperiments/{model_version}')\n",
        "      model.load_state_dict(checkpoint['model_state_dict'])\n",
        "      optimizer.load_state_dict(checkpoint['optimizer_state_dict'])\n",
        "      epoch = checkpoint['epoch'] + 1\n",
        "  \n",
        "  for i, (ip_covariate, op_label_list) in enumerate(train_loader):\n",
        "\n",
        "    optimizer.zero_grad()\n",
        "\n",
        "    ip_covariate = ip_covariate.cuda()\n",
        "    op_label_list     = [op_label.cuda() for op_label in op_label_list]\n",
        "\n",
        "    \n",
        "    out_price_mu, out_price_sigma, ht_ct = model.forward(x=ip_covariate)\n",
        "    \n",
        "    batch_size = out_price_mu.shape[0]\n",
        "    seq_with_horizon = params['window_size'] - params['horizon_period'] + 1\n",
        "\n",
        "    out_price_mu = out_price_mu.view(batch_size * seq_with_horizon * params['num_companies'], params['mu_sigma_dim'])\n",
        "    out_price_sigma = out_price_sigma.view(batch_size * seq_with_horizon * params['num_companies'], params['mu_sigma_dim'])\n",
        "\n",
        "    loss = 0\n",
        "\n",
        "    for i, op_label in enumerate(op_label_list):\n",
        "\n",
        "      op_label_price = op_label.view(batch_size * seq_with_horizon * params['num_companies'], params['mu_sigma_dim'])\n",
        "      gauss_price =  torch.distributions.Normal(out_price_mu, out_price_sigma)   \n",
        "\n",
        "      sample_loss =  -1 * torch.sum(gauss_price.log_prob(op_label_price)) / (batch_size * seq_with_horizon * params['num_companies'])\n",
        "      loss += sample_loss * params['horizon_weights'][i]\n",
        "    loss.backward()\n",
        "\n",
        "    total_loss += float(loss)\n",
        "    optimizer.step()\n",
        "\n",
        "    batch_bar.set_postfix(\n",
        "    loss=\"{:.04f}\".format(float(total_loss / (i + 1))),\n",
        "    lr=\"{:.04f}\".format(float(optimizer.param_groups[0]['lr'])))\n",
        "\n",
        "    batch_bar.update() \n",
        "\n",
        "  batch_bar.close() # You need this to close the tqdm bar\n",
        "  overall_price_pred, overall_price_label, overall_price_mu, overall_price_sigma = validate(model)\n",
        "  scheduler.step(loss)\n",
        "\n",
        "  torch.save({\n",
        "          'epoch': epoch,\n",
        "          'model_state_dict': model.state_dict(),\n",
        "          'optimizer_state_dict': optimizer.state_dict(),\n",
        "          'loss': total_loss/len(train_loader),\n",
        "          },  f'/content/drive/MyDrive/DeepARExperiments/{model_version}')\n",
        "\n",
        "\n",
        "  rmse_price = rmse(overall_price_pred.view(-1, 1), overall_price_label.view(-1, 1))\n",
        "  nd_price = ND(overall_price_pred.view(-1, 1), overall_price_label.view(-1, 1))\n",
        "  wandb.log({\"loss\":loss})\n",
        "  print(f\"Epoch {epoch}, price loss {loss}\")"
      ]
    },
    {
      "cell_type": "code",
      "execution_count": 45,
      "metadata": {
        "id": "watBKVnZKui7"
      },
      "outputs": [],
      "source": [
        "import plotly.express as px\n",
        "import plotly.graph_objects as go\n",
        "import pandas as pd\n",
        "\n",
        "def plot_test_output_data(actual,predicted, window_id,cov_id):\n",
        "  x=np.linspace(1, len(actual[window_id]), num=len(actual[window_id]))\n",
        "  df = pd.DataFrame()\n",
        "  df['actual'] = actual[window_id,:,cov_id]\n",
        "  df['predicted'] = predicted[window_id,:,cov_id]\n",
        "  \n",
        "\n",
        "  fig = go.Figure()\n",
        "  fig.add_vline(x=168)\n",
        "  fig.add_traces(go.Scatter(x=x, y = df['actual'], mode = 'lines', name = 'Actual'))\n",
        "  fig.add_traces(go.Scatter(x=x, y = df['predicted'], mode = 'lines', name = 'Predicted'))\n",
        "\n",
        "  fig.update_xaxes(title_text='Time Samples')\n",
        "  fig.update_yaxes(title_text='Normalized Stock Opening Price')\n",
        "  fig.show()\n",
        "  \n"
      ]
    },
    {
      "cell_type": "code",
      "execution_count": 52,
      "metadata": {
        "colab": {
          "base_uri": "https://localhost:8080/",
          "height": 1000
        },
        "id": "EZDyI-_kNR-c",
        "outputId": "c8fff2fa-2680-41f4-f699-cf30d89bcccf"
      },
      "outputs": [
        {
          "output_type": "display_data",
          "data": {
            "text/html": [
              "<html>\n",
              "<head><meta charset=\"utf-8\" /></head>\n",
              "<body>\n",
              "    <div>            <script src=\"https://cdnjs.cloudflare.com/ajax/libs/mathjax/2.7.5/MathJax.js?config=TeX-AMS-MML_SVG\"></script><script type=\"text/javascript\">if (window.MathJax) {MathJax.Hub.Config({SVG: {font: \"STIX-Web\"}});}</script>                <script type=\"text/javascript\">window.PlotlyConfig = {MathJaxConfig: 'local'};</script>\n",
              "        <script src=\"https://cdn.plot.ly/plotly-2.8.3.min.js\"></script>                <div id=\"a69e1ffd-3eca-4551-aca2-dd2ed54b4107\" class=\"plotly-graph-div\" style=\"height:525px; width:100%;\"></div>            <script type=\"text/javascript\">                                    window.PLOTLYENV=window.PLOTLYENV || {};                                    if (document.getElementById(\"a69e1ffd-3eca-4551-aca2-dd2ed54b4107\")) {                    Plotly.newPlot(                        \"a69e1ffd-3eca-4551-aca2-dd2ed54b4107\",                        [{\"mode\":\"lines\",\"name\":\"Actual\",\"x\":[1.0,2.0,3.0,4.0,5.0,6.0,7.0,8.0,9.0,10.0,11.0,12.0,13.0,14.0,15.0,16.0,17.0,18.0,19.0,20.0,21.0,22.0,23.0,24.0,25.0,26.0,27.0,28.0,29.0,30.0,31.0,32.0,33.0,34.0,35.0,36.0,37.0,38.0,39.0,40.0,41.0,42.0,43.0,44.0,45.0,46.0,47.0,48.0,49.0,50.0,51.0,52.0,53.0,54.0,55.0,56.0,57.0,58.0,59.0,60.0,61.0,62.0,63.0,64.0,65.0,66.0,67.0,68.0,69.0,70.0,71.0,72.0,73.0,74.0,75.0,76.0,77.0,78.0,79.0,80.0,81.0,82.0,83.0,84.0,85.0,86.0,87.0,88.0,89.0,90.0,91.0,92.0,93.0,94.0,95.0,96.0,97.0,98.0,99.0,100.0,101.0,102.0,103.0,104.0,105.0,106.0,107.0,108.0,109.0,110.0,111.0,112.0,113.0,114.0,115.0,116.0,117.0,118.0,119.0,120.0,121.0,122.0,123.0,124.0,125.0,126.0,127.0,128.0,129.0,130.0,131.0,132.0,133.0,134.0,135.0,136.0,137.0,138.0,139.0,140.0,141.0,142.0,143.0,144.0,145.0,146.0,147.0,148.0,149.0,150.0,151.0,152.0,153.0,154.0,155.0,156.0,157.0,158.0,159.0,160.0,161.0,162.0,163.0,164.0,165.0,166.0,167.0,168.0,169.0,170.0,171.0,172.0,173.0,174.0,175.0,176.0,177.0,178.0,179.0,180.0,181.0,182.0,183.0,184.0,185.0,186.0,187.0,188.0,189.0,190.0,191.0,192.0],\"y\":[0.7935695052146912,0.8359721899032593,0.9164198040962219,0.8186476826667786,0.8801081776618958,0.8359721899032593,0.9753795862197876,1.0358736515045166,1.0922516584396362,1.1483091115951538,1.1277916431427002,1.2207105159759521,1.0075632333755493,0.9905379414558411,0.9068771004676819,0.8070811033248901,0.6613416075706482,0.5984976887702942,0.7179499864578247,0.8090097904205322,0.8263512253761292,0.948796272277832,0.7509836554527283,0.7897056937217712,0.8012926578521729,0.914512038230896,0.8628610968589783,0.7471030950546265,0.9316690564155579,0.9620968699455261,0.8839367628097534,0.8417403101921082,0.9601978659629822,1.0452923774719238,1.1706430912017822,1.1240566968917847,1.0434093475341797,1.1221885681152344,1.0978717803955078,1.0866283178329468,1.073494791984558,1.088503122329712,1.2705248594284058,1.2723649740219116,1.3292399644851685,1.2797220945358276,1.461889386177063,1.5302398204803467,1.5302398204803467,1.5785181522369385,1.5892146825790405,1.2815605401992798,1.1520349979400635,0.8359721899032593,1.0188971757888794,0.9677916169166565,0.9087863564491272,0.9087863564491272,1.0528209209442139,1.0245592594146729,0.9297641515731812,0.8839367628097534,0.8896768093109131,0.9354776740074158,0.9106953144073486,0.9316690564155579,0.9440416693687439,1.0490573644638062,1.1034886837005615,1.120320200920105,1.1613434553146362,1.2889108657836914,1.3072627782821655,1.0434093475341797,0.9639955163002014,0.8494257926940918,0.8455837965011597,0.9430904984474182,0.948796272277832,1.1650643348693848,1.0828776359558105,1.084753155708313,1.0264458656311035,1.0716171264648438,1.084753155708313,1.1277916431427002,1.1389882564544678,1.179934024810791,1.2742047309875488,1.3255804777145386,1.3420374393463135,1.3420374393463135,1.461889386177063,1.4438233375549316,1.5356156826019287,1.4781204462051392,1.4130350351333618,1.4907262325286865,1.365760087966919,1.3292399644851685,1.3054291009902954,1.3621141910552979,1.411220908164978,1.4600841999053955,1.506909966468811,1.5122987031936646,1.5892146825790405,1.4546669721603394,1.2096062898635864,1.2962557077407837,1.217010498046875,1.1147128343582153,1.0264458656311035,0.9449927806854248,0.914512038230896,0.8109381198883057,0.6044063568115234,0.6142462491989136,0.6711248755455017,0.7819734215736389,0.7568016648292542,0.7373949885368347,0.5491206049919128,0.3430376350879669,0.47359055280685425,0.3733190596103668,0.3308990001678467,0.5054632425308228,0.45161816477775574,0.7160033583641052,0.7471030950546265,1.0434093475341797,0.9297641515731812,0.937381386756897,1.1259243488311768,1.1352574825286865,0.7179499864578247,0.7257325649261475,0.9240474104881287,1.1072314977645874,1.0056730508804321,0.9905379414558411,1.0302180051803589,1.0377581119537354,1.0772490501403809,1.1240566968917847,1.1016167402267456,1.0903775691986084,1.0697391033172607,0.8571053743362427,0.8090097904205322,0.8935016989707947,0.669169008731842,0.6515486240386963,0.7315654754638672,0.7140563726425171,0.7160033583641052,0.7761702537536621,0.7742351293563843,0.830200731754303,0.8359721899032593,0.8340487480163574,0.9030573964118958,0.9753795862197876,0.9297641515731812,0.9772756099700928,0.9677916169166565,0.7626162767410278,0.7237874865531921,0.5352506041526794,0.7354521751403809,0.7198961973190308,0.8012926578521729,0.6926140189170837,0.31671831011772156,0.18611176311969757,0.253671795129776,0.253671795129776,0.2352922111749649,0.216878280043602,0.11808554083108902,0.2740534842014313,0.1799469292163849,0.2964247465133667,0.3450593054294586,0.3106346130371094,0.47159507870674133,0.6162130832672119,0.6417458653450012,0.5649482011795044,0.4994949400424957,0.5392154455184937],\"type\":\"scatter\"},{\"mode\":\"lines\",\"name\":\"Predicted\",\"x\":[1.0,2.0,3.0,4.0,5.0,6.0,7.0,8.0,9.0,10.0,11.0,12.0,13.0,14.0,15.0,16.0,17.0,18.0,19.0,20.0,21.0,22.0,23.0,24.0,25.0,26.0,27.0,28.0,29.0,30.0,31.0,32.0,33.0,34.0,35.0,36.0,37.0,38.0,39.0,40.0,41.0,42.0,43.0,44.0,45.0,46.0,47.0,48.0,49.0,50.0,51.0,52.0,53.0,54.0,55.0,56.0,57.0,58.0,59.0,60.0,61.0,62.0,63.0,64.0,65.0,66.0,67.0,68.0,69.0,70.0,71.0,72.0,73.0,74.0,75.0,76.0,77.0,78.0,79.0,80.0,81.0,82.0,83.0,84.0,85.0,86.0,87.0,88.0,89.0,90.0,91.0,92.0,93.0,94.0,95.0,96.0,97.0,98.0,99.0,100.0,101.0,102.0,103.0,104.0,105.0,106.0,107.0,108.0,109.0,110.0,111.0,112.0,113.0,114.0,115.0,116.0,117.0,118.0,119.0,120.0,121.0,122.0,123.0,124.0,125.0,126.0,127.0,128.0,129.0,130.0,131.0,132.0,133.0,134.0,135.0,136.0,137.0,138.0,139.0,140.0,141.0,142.0,143.0,144.0,145.0,146.0,147.0,148.0,149.0,150.0,151.0,152.0,153.0,154.0,155.0,156.0,157.0,158.0,159.0,160.0,161.0,162.0,163.0,164.0,165.0,166.0,167.0,168.0,169.0,170.0,171.0,172.0,173.0,174.0,175.0,176.0,177.0,178.0,179.0,180.0,181.0,182.0,183.0,184.0,185.0,186.0,187.0,188.0,189.0,190.0,191.0,192.0],\"y\":[0.6593453884124756,0.7106128931045532,0.8936680555343628,0.43236857652664185,0.44012755155563354,0.5535833239555359,0.7152512073516846,0.8033029437065125,0.891665518283844,0.7399408221244812,0.9069007635116577,1.0753333568572998,0.862808883190155,0.7040066123008728,0.5201303958892822,0.815608024597168,0.8003697395324707,0.7606089115142822,0.9723554849624634,0.8220270872116089,0.7185953855514526,1.1786167621612549,0.4108186662197113,0.6373765468597412,1.0532625913619995,0.7238363027572632,1.01498544216156,0.6506391763687134,0.8917908072471619,0.9636157751083374,0.9510957598686218,0.8484108448028564,0.8543659448623657,0.9504214525222778,0.8815078139305115,1.0233055353164673,1.0057727098464966,0.8795102834701538,0.9162141680717468,0.9879497289657593,0.9251109957695007,0.8732706904411316,0.8846530914306641,0.9922483563423157,0.9972183108329773,1.02073073387146,1.029179573059082,1.1885579824447632,1.1718913316726685,1.08632493019104,1.2685658931732178,1.1617441177368164,1.1610559225082397,1.0828315019607544,0.9493126273155212,1.0125982761383057,0.9614814519882202,0.9373348951339722,0.9432693123817444,0.8952746987342834,0.875923216342926,0.7378872036933899,0.7801850438117981,0.8027172088623047,0.7392696142196655,0.723737895488739,0.8823248147964478,0.8031280040740967,0.9084627628326416,0.9941625595092773,0.9919846653938293,0.9385719895362854,0.9997621178627014,0.9720494747161865,0.9318270087242126,0.9634478688240051,0.9601628184318542,0.8392620086669922,0.9226871728897095,0.9158089756965637,1.0275371074676514,0.9991444945335388,0.9259362816810608,1.0332369804382324,0.8704496026039124,0.9943022727966309,1.0142544507980347,1.021101713180542,1.072279691696167,1.1390033960342407,1.1649751663208008,1.2146307229995728,1.1604771614074707,1.0995453596115112,1.321205496788025,1.1877011060714722,1.2201347351074219,1.1592475175857544,1.2077665328979492,1.187083125114441,1.1743526458740234,1.1224883794784546,1.1513400077819824,1.1631227731704712,1.1886827945709229,1.1809126138687134,1.1666120290756226,1.2168917655944824,1.1578036546707153,1.0805922746658325,1.1679863929748535,1.059242844581604,1.0919861793518066,1.0237263441085815,1.0325028896331787,1.035988450050354,0.9553720951080322,0.8782266974449158,0.9081785082817078,0.9358403086662292,0.8620606064796448,0.8604484796524048,0.9529666900634766,0.9924215078353882,0.8879046440124512,0.8716587424278259,0.8354818224906921,0.8288150429725647,0.7808308005332947,0.7842262387275696,0.824240505695343,0.9716999530792236,1.0581943988800049,1.0607879161834717,0.9451421499252319,0.9896199107170105,1.0201497077941895,0.9128970503807068,1.0264066457748413,1.1166861057281494,1.009791374206543,1.0085186958312988,0.8866341710090637,0.9716351628303528,1.00259530544281,0.8901275396347046,0.7436201572418213,0.9960016012191772,1.029707431793213,1.0993733406066895,1.0615562200546265,1.0928497314453125,0.9841346144676208,0.9657972455024719,0.9664750695228577,1.0413708686828613,1.0302324295043945,0.9319429993629456,0.8966451287269592,0.8192718625068665,0.8327298164367676,0.7241827845573425,0.7218785285949707,0.7163897156715393,0.8568049073219299,0.7169777154922485,0.853012204170227,0.8160677552223206,0.8048637509346008,1.003349781036377,1.0118530988693237,0.9799942970275879,0.8418965935707092,0.7450736165046692,0.9426698088645935,0.7211192846298218,0.5040163993835449,1.051666259765625,0.8693995475769043,0.9415187239646912,1.196162462234497,0.5801129341125488,0.9157540798187256,0.9039455056190491,0.7791918516159058,0.7347036004066467,0.7033367156982422,0.7445459365844727,0.823660135269165,0.8015537261962891,0.746455192565918,0.7040168642997742],\"type\":\"scatter\"}],                        {\"template\":{\"data\":{\"bar\":[{\"error_x\":{\"color\":\"#2a3f5f\"},\"error_y\":{\"color\":\"#2a3f5f\"},\"marker\":{\"line\":{\"color\":\"#E5ECF6\",\"width\":0.5},\"pattern\":{\"fillmode\":\"overlay\",\"size\":10,\"solidity\":0.2}},\"type\":\"bar\"}],\"barpolar\":[{\"marker\":{\"line\":{\"color\":\"#E5ECF6\",\"width\":0.5},\"pattern\":{\"fillmode\":\"overlay\",\"size\":10,\"solidity\":0.2}},\"type\":\"barpolar\"}],\"carpet\":[{\"aaxis\":{\"endlinecolor\":\"#2a3f5f\",\"gridcolor\":\"white\",\"linecolor\":\"white\",\"minorgridcolor\":\"white\",\"startlinecolor\":\"#2a3f5f\"},\"baxis\":{\"endlinecolor\":\"#2a3f5f\",\"gridcolor\":\"white\",\"linecolor\":\"white\",\"minorgridcolor\":\"white\",\"startlinecolor\":\"#2a3f5f\"},\"type\":\"carpet\"}],\"choropleth\":[{\"colorbar\":{\"outlinewidth\":0,\"ticks\":\"\"},\"type\":\"choropleth\"}],\"contour\":[{\"colorbar\":{\"outlinewidth\":0,\"ticks\":\"\"},\"colorscale\":[[0.0,\"#0d0887\"],[0.1111111111111111,\"#46039f\"],[0.2222222222222222,\"#7201a8\"],[0.3333333333333333,\"#9c179e\"],[0.4444444444444444,\"#bd3786\"],[0.5555555555555556,\"#d8576b\"],[0.6666666666666666,\"#ed7953\"],[0.7777777777777778,\"#fb9f3a\"],[0.8888888888888888,\"#fdca26\"],[1.0,\"#f0f921\"]],\"type\":\"contour\"}],\"contourcarpet\":[{\"colorbar\":{\"outlinewidth\":0,\"ticks\":\"\"},\"type\":\"contourcarpet\"}],\"heatmap\":[{\"colorbar\":{\"outlinewidth\":0,\"ticks\":\"\"},\"colorscale\":[[0.0,\"#0d0887\"],[0.1111111111111111,\"#46039f\"],[0.2222222222222222,\"#7201a8\"],[0.3333333333333333,\"#9c179e\"],[0.4444444444444444,\"#bd3786\"],[0.5555555555555556,\"#d8576b\"],[0.6666666666666666,\"#ed7953\"],[0.7777777777777778,\"#fb9f3a\"],[0.8888888888888888,\"#fdca26\"],[1.0,\"#f0f921\"]],\"type\":\"heatmap\"}],\"heatmapgl\":[{\"colorbar\":{\"outlinewidth\":0,\"ticks\":\"\"},\"colorscale\":[[0.0,\"#0d0887\"],[0.1111111111111111,\"#46039f\"],[0.2222222222222222,\"#7201a8\"],[0.3333333333333333,\"#9c179e\"],[0.4444444444444444,\"#bd3786\"],[0.5555555555555556,\"#d8576b\"],[0.6666666666666666,\"#ed7953\"],[0.7777777777777778,\"#fb9f3a\"],[0.8888888888888888,\"#fdca26\"],[1.0,\"#f0f921\"]],\"type\":\"heatmapgl\"}],\"histogram\":[{\"marker\":{\"pattern\":{\"fillmode\":\"overlay\",\"size\":10,\"solidity\":0.2}},\"type\":\"histogram\"}],\"histogram2d\":[{\"colorbar\":{\"outlinewidth\":0,\"ticks\":\"\"},\"colorscale\":[[0.0,\"#0d0887\"],[0.1111111111111111,\"#46039f\"],[0.2222222222222222,\"#7201a8\"],[0.3333333333333333,\"#9c179e\"],[0.4444444444444444,\"#bd3786\"],[0.5555555555555556,\"#d8576b\"],[0.6666666666666666,\"#ed7953\"],[0.7777777777777778,\"#fb9f3a\"],[0.8888888888888888,\"#fdca26\"],[1.0,\"#f0f921\"]],\"type\":\"histogram2d\"}],\"histogram2dcontour\":[{\"colorbar\":{\"outlinewidth\":0,\"ticks\":\"\"},\"colorscale\":[[0.0,\"#0d0887\"],[0.1111111111111111,\"#46039f\"],[0.2222222222222222,\"#7201a8\"],[0.3333333333333333,\"#9c179e\"],[0.4444444444444444,\"#bd3786\"],[0.5555555555555556,\"#d8576b\"],[0.6666666666666666,\"#ed7953\"],[0.7777777777777778,\"#fb9f3a\"],[0.8888888888888888,\"#fdca26\"],[1.0,\"#f0f921\"]],\"type\":\"histogram2dcontour\"}],\"mesh3d\":[{\"colorbar\":{\"outlinewidth\":0,\"ticks\":\"\"},\"type\":\"mesh3d\"}],\"parcoords\":[{\"line\":{\"colorbar\":{\"outlinewidth\":0,\"ticks\":\"\"}},\"type\":\"parcoords\"}],\"pie\":[{\"automargin\":true,\"type\":\"pie\"}],\"scatter\":[{\"marker\":{\"colorbar\":{\"outlinewidth\":0,\"ticks\":\"\"}},\"type\":\"scatter\"}],\"scatter3d\":[{\"line\":{\"colorbar\":{\"outlinewidth\":0,\"ticks\":\"\"}},\"marker\":{\"colorbar\":{\"outlinewidth\":0,\"ticks\":\"\"}},\"type\":\"scatter3d\"}],\"scattercarpet\":[{\"marker\":{\"colorbar\":{\"outlinewidth\":0,\"ticks\":\"\"}},\"type\":\"scattercarpet\"}],\"scattergeo\":[{\"marker\":{\"colorbar\":{\"outlinewidth\":0,\"ticks\":\"\"}},\"type\":\"scattergeo\"}],\"scattergl\":[{\"marker\":{\"colorbar\":{\"outlinewidth\":0,\"ticks\":\"\"}},\"type\":\"scattergl\"}],\"scattermapbox\":[{\"marker\":{\"colorbar\":{\"outlinewidth\":0,\"ticks\":\"\"}},\"type\":\"scattermapbox\"}],\"scatterpolar\":[{\"marker\":{\"colorbar\":{\"outlinewidth\":0,\"ticks\":\"\"}},\"type\":\"scatterpolar\"}],\"scatterpolargl\":[{\"marker\":{\"colorbar\":{\"outlinewidth\":0,\"ticks\":\"\"}},\"type\":\"scatterpolargl\"}],\"scatterternary\":[{\"marker\":{\"colorbar\":{\"outlinewidth\":0,\"ticks\":\"\"}},\"type\":\"scatterternary\"}],\"surface\":[{\"colorbar\":{\"outlinewidth\":0,\"ticks\":\"\"},\"colorscale\":[[0.0,\"#0d0887\"],[0.1111111111111111,\"#46039f\"],[0.2222222222222222,\"#7201a8\"],[0.3333333333333333,\"#9c179e\"],[0.4444444444444444,\"#bd3786\"],[0.5555555555555556,\"#d8576b\"],[0.6666666666666666,\"#ed7953\"],[0.7777777777777778,\"#fb9f3a\"],[0.8888888888888888,\"#fdca26\"],[1.0,\"#f0f921\"]],\"type\":\"surface\"}],\"table\":[{\"cells\":{\"fill\":{\"color\":\"#EBF0F8\"},\"line\":{\"color\":\"white\"}},\"header\":{\"fill\":{\"color\":\"#C8D4E3\"},\"line\":{\"color\":\"white\"}},\"type\":\"table\"}]},\"layout\":{\"annotationdefaults\":{\"arrowcolor\":\"#2a3f5f\",\"arrowhead\":0,\"arrowwidth\":1},\"autotypenumbers\":\"strict\",\"coloraxis\":{\"colorbar\":{\"outlinewidth\":0,\"ticks\":\"\"}},\"colorscale\":{\"diverging\":[[0,\"#8e0152\"],[0.1,\"#c51b7d\"],[0.2,\"#de77ae\"],[0.3,\"#f1b6da\"],[0.4,\"#fde0ef\"],[0.5,\"#f7f7f7\"],[0.6,\"#e6f5d0\"],[0.7,\"#b8e186\"],[0.8,\"#7fbc41\"],[0.9,\"#4d9221\"],[1,\"#276419\"]],\"sequential\":[[0.0,\"#0d0887\"],[0.1111111111111111,\"#46039f\"],[0.2222222222222222,\"#7201a8\"],[0.3333333333333333,\"#9c179e\"],[0.4444444444444444,\"#bd3786\"],[0.5555555555555556,\"#d8576b\"],[0.6666666666666666,\"#ed7953\"],[0.7777777777777778,\"#fb9f3a\"],[0.8888888888888888,\"#fdca26\"],[1.0,\"#f0f921\"]],\"sequentialminus\":[[0.0,\"#0d0887\"],[0.1111111111111111,\"#46039f\"],[0.2222222222222222,\"#7201a8\"],[0.3333333333333333,\"#9c179e\"],[0.4444444444444444,\"#bd3786\"],[0.5555555555555556,\"#d8576b\"],[0.6666666666666666,\"#ed7953\"],[0.7777777777777778,\"#fb9f3a\"],[0.8888888888888888,\"#fdca26\"],[1.0,\"#f0f921\"]]},\"colorway\":[\"#636efa\",\"#EF553B\",\"#00cc96\",\"#ab63fa\",\"#FFA15A\",\"#19d3f3\",\"#FF6692\",\"#B6E880\",\"#FF97FF\",\"#FECB52\"],\"font\":{\"color\":\"#2a3f5f\"},\"geo\":{\"bgcolor\":\"white\",\"lakecolor\":\"white\",\"landcolor\":\"#E5ECF6\",\"showlakes\":true,\"showland\":true,\"subunitcolor\":\"white\"},\"hoverlabel\":{\"align\":\"left\"},\"hovermode\":\"closest\",\"mapbox\":{\"style\":\"light\"},\"paper_bgcolor\":\"white\",\"plot_bgcolor\":\"#E5ECF6\",\"polar\":{\"angularaxis\":{\"gridcolor\":\"white\",\"linecolor\":\"white\",\"ticks\":\"\"},\"bgcolor\":\"#E5ECF6\",\"radialaxis\":{\"gridcolor\":\"white\",\"linecolor\":\"white\",\"ticks\":\"\"}},\"scene\":{\"xaxis\":{\"backgroundcolor\":\"#E5ECF6\",\"gridcolor\":\"white\",\"gridwidth\":2,\"linecolor\":\"white\",\"showbackground\":true,\"ticks\":\"\",\"zerolinecolor\":\"white\"},\"yaxis\":{\"backgroundcolor\":\"#E5ECF6\",\"gridcolor\":\"white\",\"gridwidth\":2,\"linecolor\":\"white\",\"showbackground\":true,\"ticks\":\"\",\"zerolinecolor\":\"white\"},\"zaxis\":{\"backgroundcolor\":\"#E5ECF6\",\"gridcolor\":\"white\",\"gridwidth\":2,\"linecolor\":\"white\",\"showbackground\":true,\"ticks\":\"\",\"zerolinecolor\":\"white\"}},\"shapedefaults\":{\"line\":{\"color\":\"#2a3f5f\"}},\"ternary\":{\"aaxis\":{\"gridcolor\":\"white\",\"linecolor\":\"white\",\"ticks\":\"\"},\"baxis\":{\"gridcolor\":\"white\",\"linecolor\":\"white\",\"ticks\":\"\"},\"bgcolor\":\"#E5ECF6\",\"caxis\":{\"gridcolor\":\"white\",\"linecolor\":\"white\",\"ticks\":\"\"}},\"title\":{\"x\":0.05},\"xaxis\":{\"automargin\":true,\"gridcolor\":\"white\",\"linecolor\":\"white\",\"ticks\":\"\",\"title\":{\"standoff\":15},\"zerolinecolor\":\"white\",\"zerolinewidth\":2},\"yaxis\":{\"automargin\":true,\"gridcolor\":\"white\",\"linecolor\":\"white\",\"ticks\":\"\",\"title\":{\"standoff\":15},\"zerolinecolor\":\"white\",\"zerolinewidth\":2}}},\"shapes\":[{\"type\":\"line\",\"x0\":168,\"x1\":168,\"xref\":\"x\",\"y0\":0,\"y1\":1,\"yref\":\"y domain\"}],\"xaxis\":{\"title\":{\"text\":\"Time Samples\"}},\"yaxis\":{\"title\":{\"text\":\"Normalized Stock Opening Price\"}}},                        {\"responsive\": true}                    ).then(function(){\n",
              "                            \n",
              "var gd = document.getElementById('a69e1ffd-3eca-4551-aca2-dd2ed54b4107');\n",
              "var x = new MutationObserver(function (mutations, observer) {{\n",
              "        var display = window.getComputedStyle(gd).display;\n",
              "        if (!display || display === 'none') {{\n",
              "            console.log([gd, 'removed!']);\n",
              "            Plotly.purge(gd);\n",
              "            observer.disconnect();\n",
              "        }}\n",
              "}});\n",
              "\n",
              "// Listen for the removal of the full notebook cells\n",
              "var notebookContainer = gd.closest('#notebook-container');\n",
              "if (notebookContainer) {{\n",
              "    x.observe(notebookContainer, {childList: true});\n",
              "}}\n",
              "\n",
              "// Listen for the clearing of the current output cell\n",
              "var outputEl = gd.closest('.output');\n",
              "if (outputEl) {{\n",
              "    x.observe(outputEl, {childList: true});\n",
              "}}\n",
              "\n",
              "                        })                };                            </script>        </div>\n",
              "</body>\n",
              "</html>"
            ]
          },
          "metadata": {}
        },
        {
          "output_type": "display_data",
          "data": {
            "text/html": [
              "<html>\n",
              "<head><meta charset=\"utf-8\" /></head>\n",
              "<body>\n",
              "    <div>            <script src=\"https://cdnjs.cloudflare.com/ajax/libs/mathjax/2.7.5/MathJax.js?config=TeX-AMS-MML_SVG\"></script><script type=\"text/javascript\">if (window.MathJax) {MathJax.Hub.Config({SVG: {font: \"STIX-Web\"}});}</script>                <script type=\"text/javascript\">window.PlotlyConfig = {MathJaxConfig: 'local'};</script>\n",
              "        <script src=\"https://cdn.plot.ly/plotly-2.8.3.min.js\"></script>                <div id=\"6a88638c-22a8-44d7-840e-17d33f034b3d\" class=\"plotly-graph-div\" style=\"height:525px; width:100%;\"></div>            <script type=\"text/javascript\">                                    window.PLOTLYENV=window.PLOTLYENV || {};                                    if (document.getElementById(\"6a88638c-22a8-44d7-840e-17d33f034b3d\")) {                    Plotly.newPlot(                        \"6a88638c-22a8-44d7-840e-17d33f034b3d\",                        [{\"mode\":\"lines\",\"name\":\"Actual\",\"x\":[1.0,2.0,3.0,4.0,5.0,6.0,7.0,8.0,9.0,10.0,11.0,12.0,13.0,14.0,15.0,16.0,17.0,18.0,19.0,20.0,21.0,22.0,23.0,24.0,25.0,26.0,27.0,28.0,29.0,30.0,31.0,32.0,33.0,34.0,35.0,36.0,37.0,38.0,39.0,40.0,41.0,42.0,43.0,44.0,45.0,46.0,47.0,48.0,49.0,50.0,51.0,52.0,53.0,54.0,55.0,56.0,57.0,58.0,59.0,60.0,61.0,62.0,63.0,64.0,65.0,66.0,67.0,68.0,69.0,70.0,71.0,72.0,73.0,74.0,75.0,76.0,77.0,78.0,79.0,80.0,81.0,82.0,83.0,84.0,85.0,86.0,87.0,88.0,89.0,90.0,91.0,92.0,93.0,94.0,95.0,96.0,97.0,98.0,99.0,100.0,101.0,102.0,103.0,104.0,105.0,106.0,107.0,108.0,109.0,110.0,111.0,112.0,113.0,114.0,115.0,116.0,117.0,118.0,119.0,120.0,121.0,122.0,123.0,124.0,125.0,126.0,127.0,128.0,129.0,130.0,131.0,132.0,133.0,134.0,135.0,136.0,137.0,138.0,139.0,140.0,141.0,142.0,143.0,144.0,145.0,146.0,147.0,148.0,149.0,150.0,151.0,152.0,153.0,154.0,155.0,156.0,157.0,158.0,159.0,160.0,161.0,162.0,163.0,164.0,165.0,166.0,167.0,168.0,169.0,170.0,171.0,172.0,173.0,174.0,175.0,176.0,177.0,178.0,179.0,180.0,181.0,182.0,183.0,184.0,185.0,186.0,187.0,188.0,189.0,190.0,191.0,192.0],\"y\":[1.7219011783599854,1.7367281913757324,1.7407323122024536,1.7269980907440186,1.7026617527008057,1.6953411102294922,1.7201989889144897,1.7419949769973755,1.7616649866104126,1.7840098142623901,1.7697651386260986,1.7897591590881348,1.7683138847351074,1.749133825302124,1.7434669733047485,1.7335609197616577,1.7231767177581787,1.680395245552063,1.6938303709030151,1.7037358283996582,1.7065255641937256,1.6951254606246948,1.6538909673690796,1.6560958623886108,1.6596181392669678,1.6901562213897705,1.6516834497451782,1.632143259048462,1.6786545515060425,1.6808301210403442,1.6534496545791626,1.642605185508728,1.6417170763015747,1.654552698135376,1.6620359420776367,1.6394950151443481,1.6130715608596802,1.6003984212875366,1.595851182937622,1.594029188156128,1.5613867044448853,1.579617977142334,1.6200498342514038,1.6173516511917114,1.6189260482788086,1.6003984212875366,1.6278971433639526,1.629462718963623,1.6325896978378296,1.6234170198440552,1.659838080406189,1.609911322593689,1.6141988039016724,1.5632411241531372,1.5786991119384766,1.5618505477905273,1.536169171333313,1.5464844703674316,1.5757098197937012,1.5883238315582275,1.5687931776046753,1.5641676187515259,1.5720242261886597,1.5798475742340088,1.5919773578643799,1.6204991340637207,1.6234170198440552,1.6173516511917114,1.618476390838623,1.6272258758544922,1.653228998184204,1.70588219165802,1.725088357925415,1.709739327430725,1.6899398565292358,1.654332160949707,1.674950122833252,1.6979281902313232,1.6987897157669067,1.7255128622055054,1.710809350013733,1.7165768146514893,1.7041653394699097,1.7244513034820557,1.726149559020996,1.7508095502853394,1.761040449142456,1.7672765254974365,1.762913465499878,1.7668614387512207,1.7809224128723145,1.7780362367630005,1.7946730852127075,1.794468641281128,1.8026304244995117,1.7883235216140747,1.8046653270721436,1.8186451196670532,1.8014084100723267,1.7952864170074463,1.7866814136505127,1.791603446006775,1.7833927869796753,1.80385160446167,1.8022232055664062,1.8184432983398438,1.8303152322769165,1.820662498474121,1.7784488201141357,1.7833927869796753,1.7772108316421509,1.7624974250793457,1.7549922466278076,1.7028765678405762,1.6756043434143066,1.6631338596343994,1.6419391632080078,1.64060640335083,1.650357723236084,1.6341512203216553,1.6153254508972168,1.6263303756713867,1.587638020515442,1.594029188156128,1.6213974952697754,1.6157759428024292,1.6182515621185303,1.671893835067749,1.6697077751159668,1.704594612121582,1.7000812292099,1.6825687885284424,1.665327787399292,1.6740773916244507,1.7129476070404053,1.7350397109985352,1.6918861865997314,1.7155101299285889,1.7063111066818237,1.7069544792175293,1.7065255641937256,1.7088829278945923,1.6990050077438354,1.7103815078735352,1.695556879043579,1.6840887069702148,1.6742956638336182,1.6819169521331787,1.6808301210403442,1.6637922525405884,1.654773235321045,1.6637922525405884,1.6276733875274658,1.6485885381698608,1.6390503644943237,1.6169016361236572,1.6220709085464478,1.6477034091949463,1.6283446550369263,1.6494733095169067,1.6477034091949463,1.6499155759811401,1.6708011627197266,1.6845228672027588,1.666861891746521,1.6703639030456543,1.6716753244400024,1.6243139505386353,1.626554250717163,1.648809790611267,1.6905888319015503,1.6933984756469727,1.728270173072815,1.728270173072815,1.735461950302124,1.7344061136245728,1.7712152004241943,1.772457242012024,1.787913203239441,1.79794180393219,1.7577059268951416,1.7860652208328247,1.7577059268951416,1.7693506479263306,1.778242588043213,1.7668614387512207,1.7854489088058472,1.8014084100723267,1.804055094718933,1.796308159828186,1.7595824003219604,1.7440974712371826],\"type\":\"scatter\"},{\"mode\":\"lines\",\"name\":\"Predicted\",\"x\":[1.0,2.0,3.0,4.0,5.0,6.0,7.0,8.0,9.0,10.0,11.0,12.0,13.0,14.0,15.0,16.0,17.0,18.0,19.0,20.0,21.0,22.0,23.0,24.0,25.0,26.0,27.0,28.0,29.0,30.0,31.0,32.0,33.0,34.0,35.0,36.0,37.0,38.0,39.0,40.0,41.0,42.0,43.0,44.0,45.0,46.0,47.0,48.0,49.0,50.0,51.0,52.0,53.0,54.0,55.0,56.0,57.0,58.0,59.0,60.0,61.0,62.0,63.0,64.0,65.0,66.0,67.0,68.0,69.0,70.0,71.0,72.0,73.0,74.0,75.0,76.0,77.0,78.0,79.0,80.0,81.0,82.0,83.0,84.0,85.0,86.0,87.0,88.0,89.0,90.0,91.0,92.0,93.0,94.0,95.0,96.0,97.0,98.0,99.0,100.0,101.0,102.0,103.0,104.0,105.0,106.0,107.0,108.0,109.0,110.0,111.0,112.0,113.0,114.0,115.0,116.0,117.0,118.0,119.0,120.0,121.0,122.0,123.0,124.0,125.0,126.0,127.0,128.0,129.0,130.0,131.0,132.0,133.0,134.0,135.0,136.0,137.0,138.0,139.0,140.0,141.0,142.0,143.0,144.0,145.0,146.0,147.0,148.0,149.0,150.0,151.0,152.0,153.0,154.0,155.0,156.0,157.0,158.0,159.0,160.0,161.0,162.0,163.0,164.0,165.0,166.0,167.0,168.0,169.0,170.0,171.0,172.0,173.0,174.0,175.0,176.0,177.0,178.0,179.0,180.0,181.0,182.0,183.0,184.0,185.0,186.0,187.0,188.0,189.0,190.0,191.0,192.0],\"y\":[1.7932405471801758,1.5572402477264404,1.7662906646728516,1.7249581813812256,1.892493724822998,1.6872532367706299,1.6422266960144043,1.8195891380310059,1.7881016731262207,1.6323295831680298,1.8319754600524902,1.8249646425247192,1.724671721458435,1.73344087600708,1.834812879562378,1.8086986541748047,1.8202792406082153,1.8800698518753052,1.7573552131652832,1.7789607048034668,1.8776153326034546,1.8361213207244873,1.79296875,1.8237005472183228,1.688050627708435,1.6524900197982788,1.718863844871521,1.7204750776290894,1.750277042388916,1.7340484857559204,1.7314902544021606,1.7258137464523315,1.757624864578247,1.752987265586853,1.7354211807250977,1.7511379718780518,1.7680202722549438,1.7730954885482788,1.7789421081542969,1.7719871997833252,1.7754673957824707,1.7468751668930054,1.7000401020050049,1.648666262626648,1.7164287567138672,1.6655869483947754,1.7152706384658813,1.6390546560287476,1.602257490158081,1.6267865896224976,1.501001000404358,1.5202354192733765,1.5433130264282227,1.6094025373458862,1.5803111791610718,1.588008999824524,1.631309986114502,1.6876250505447388,1.7186192274093628,1.7285462617874146,1.7896714210510254,1.7264130115509033,1.8233051300048828,1.717605710029602,1.7245351076126099,1.6631340980529785,1.7303247451782227,1.758105754852295,1.7052943706512451,1.6635775566101074,1.7189209461212158,1.7342702150344849,1.7593482732772827,1.6919459104537964,1.7743324041366577,1.7678213119506836,1.79767906665802,1.820671558380127,1.907364845275879,1.7739431858062744,1.865163803100586,1.845679521560669,1.8451850414276123,1.7927230596542358,1.8391692638397217,1.7671562433242798,1.750604271888733,1.8028753995895386,1.8454684019088745,1.7294726371765137,1.8136893510818481,1.7072006464004517,1.7441012859344482,1.7097947597503662,1.7611805200576782,1.7647398710250854,1.703994631767273,1.7496267557144165,1.7789772748947144,1.7121198177337646,1.7588791847229004,1.7824804782867432,1.7437127828598022,1.7533825635910034,1.6838945150375366,1.7314625978469849,1.8011060953140259,1.8032832145690918,1.7310943603515625,1.7171138525009155,1.6827090978622437,1.6751863956451416,1.651625156402588,1.7093650102615356,1.6526625156402588,1.6695575714111328,1.6340739727020264,1.6668728590011597,1.6259276866912842,1.6902540922164917,1.6642160415649414,1.6447721719741821,1.6594141721725464,1.7163431644439697,1.710463285446167,1.7613097429275513,1.781848669052124,1.8021265268325806,1.706085443496704,1.7556649446487427,1.7362138032913208,1.8156124353408813,1.777677297592163,1.66298246383667,1.724632740020752,1.748913288116455,1.6832380294799805,1.7499501705169678,1.7157188653945923,1.849605679512024,1.8091710805892944,1.757819652557373,1.7085237503051758,1.7794705629348755,1.7463598251342773,1.7615723609924316,1.7342488765716553,1.6762733459472656,1.7424076795578003,1.7078566551208496,1.7784593105316162,1.796696424484253,1.786737322807312,1.8636993169784546,1.849779725074768,1.830400824546814,1.832892894744873,1.7683444023132324,1.7259442806243896,1.6902424097061157,1.7828028202056885,1.6709941625595093,1.6987099647521973,1.736249566078186,1.7616875171661377,1.785836100578308,1.7944658994674683,1.7735165357589722,1.8129324913024902,1.7549275159835815,1.764424443244934,1.7280174493789673,1.696541428565979,1.7129266262054443,1.6886777877807617,1.7141802310943604,1.6487029790878296,1.7325228452682495,1.5382813215255737,1.5602350234985352,1.5979914665222168,1.6044399738311768,1.5484671592712402,1.4079355001449585,1.4475488662719727,1.422092080116272,1.422603964805603,1.41492760181427,1.343632459640503,1.346655011177063,1.3571019172668457,1.4124082326889038],\"type\":\"scatter\"}],                        {\"template\":{\"data\":{\"bar\":[{\"error_x\":{\"color\":\"#2a3f5f\"},\"error_y\":{\"color\":\"#2a3f5f\"},\"marker\":{\"line\":{\"color\":\"#E5ECF6\",\"width\":0.5},\"pattern\":{\"fillmode\":\"overlay\",\"size\":10,\"solidity\":0.2}},\"type\":\"bar\"}],\"barpolar\":[{\"marker\":{\"line\":{\"color\":\"#E5ECF6\",\"width\":0.5},\"pattern\":{\"fillmode\":\"overlay\",\"size\":10,\"solidity\":0.2}},\"type\":\"barpolar\"}],\"carpet\":[{\"aaxis\":{\"endlinecolor\":\"#2a3f5f\",\"gridcolor\":\"white\",\"linecolor\":\"white\",\"minorgridcolor\":\"white\",\"startlinecolor\":\"#2a3f5f\"},\"baxis\":{\"endlinecolor\":\"#2a3f5f\",\"gridcolor\":\"white\",\"linecolor\":\"white\",\"minorgridcolor\":\"white\",\"startlinecolor\":\"#2a3f5f\"},\"type\":\"carpet\"}],\"choropleth\":[{\"colorbar\":{\"outlinewidth\":0,\"ticks\":\"\"},\"type\":\"choropleth\"}],\"contour\":[{\"colorbar\":{\"outlinewidth\":0,\"ticks\":\"\"},\"colorscale\":[[0.0,\"#0d0887\"],[0.1111111111111111,\"#46039f\"],[0.2222222222222222,\"#7201a8\"],[0.3333333333333333,\"#9c179e\"],[0.4444444444444444,\"#bd3786\"],[0.5555555555555556,\"#d8576b\"],[0.6666666666666666,\"#ed7953\"],[0.7777777777777778,\"#fb9f3a\"],[0.8888888888888888,\"#fdca26\"],[1.0,\"#f0f921\"]],\"type\":\"contour\"}],\"contourcarpet\":[{\"colorbar\":{\"outlinewidth\":0,\"ticks\":\"\"},\"type\":\"contourcarpet\"}],\"heatmap\":[{\"colorbar\":{\"outlinewidth\":0,\"ticks\":\"\"},\"colorscale\":[[0.0,\"#0d0887\"],[0.1111111111111111,\"#46039f\"],[0.2222222222222222,\"#7201a8\"],[0.3333333333333333,\"#9c179e\"],[0.4444444444444444,\"#bd3786\"],[0.5555555555555556,\"#d8576b\"],[0.6666666666666666,\"#ed7953\"],[0.7777777777777778,\"#fb9f3a\"],[0.8888888888888888,\"#fdca26\"],[1.0,\"#f0f921\"]],\"type\":\"heatmap\"}],\"heatmapgl\":[{\"colorbar\":{\"outlinewidth\":0,\"ticks\":\"\"},\"colorscale\":[[0.0,\"#0d0887\"],[0.1111111111111111,\"#46039f\"],[0.2222222222222222,\"#7201a8\"],[0.3333333333333333,\"#9c179e\"],[0.4444444444444444,\"#bd3786\"],[0.5555555555555556,\"#d8576b\"],[0.6666666666666666,\"#ed7953\"],[0.7777777777777778,\"#fb9f3a\"],[0.8888888888888888,\"#fdca26\"],[1.0,\"#f0f921\"]],\"type\":\"heatmapgl\"}],\"histogram\":[{\"marker\":{\"pattern\":{\"fillmode\":\"overlay\",\"size\":10,\"solidity\":0.2}},\"type\":\"histogram\"}],\"histogram2d\":[{\"colorbar\":{\"outlinewidth\":0,\"ticks\":\"\"},\"colorscale\":[[0.0,\"#0d0887\"],[0.1111111111111111,\"#46039f\"],[0.2222222222222222,\"#7201a8\"],[0.3333333333333333,\"#9c179e\"],[0.4444444444444444,\"#bd3786\"],[0.5555555555555556,\"#d8576b\"],[0.6666666666666666,\"#ed7953\"],[0.7777777777777778,\"#fb9f3a\"],[0.8888888888888888,\"#fdca26\"],[1.0,\"#f0f921\"]],\"type\":\"histogram2d\"}],\"histogram2dcontour\":[{\"colorbar\":{\"outlinewidth\":0,\"ticks\":\"\"},\"colorscale\":[[0.0,\"#0d0887\"],[0.1111111111111111,\"#46039f\"],[0.2222222222222222,\"#7201a8\"],[0.3333333333333333,\"#9c179e\"],[0.4444444444444444,\"#bd3786\"],[0.5555555555555556,\"#d8576b\"],[0.6666666666666666,\"#ed7953\"],[0.7777777777777778,\"#fb9f3a\"],[0.8888888888888888,\"#fdca26\"],[1.0,\"#f0f921\"]],\"type\":\"histogram2dcontour\"}],\"mesh3d\":[{\"colorbar\":{\"outlinewidth\":0,\"ticks\":\"\"},\"type\":\"mesh3d\"}],\"parcoords\":[{\"line\":{\"colorbar\":{\"outlinewidth\":0,\"ticks\":\"\"}},\"type\":\"parcoords\"}],\"pie\":[{\"automargin\":true,\"type\":\"pie\"}],\"scatter\":[{\"marker\":{\"colorbar\":{\"outlinewidth\":0,\"ticks\":\"\"}},\"type\":\"scatter\"}],\"scatter3d\":[{\"line\":{\"colorbar\":{\"outlinewidth\":0,\"ticks\":\"\"}},\"marker\":{\"colorbar\":{\"outlinewidth\":0,\"ticks\":\"\"}},\"type\":\"scatter3d\"}],\"scattercarpet\":[{\"marker\":{\"colorbar\":{\"outlinewidth\":0,\"ticks\":\"\"}},\"type\":\"scattercarpet\"}],\"scattergeo\":[{\"marker\":{\"colorbar\":{\"outlinewidth\":0,\"ticks\":\"\"}},\"type\":\"scattergeo\"}],\"scattergl\":[{\"marker\":{\"colorbar\":{\"outlinewidth\":0,\"ticks\":\"\"}},\"type\":\"scattergl\"}],\"scattermapbox\":[{\"marker\":{\"colorbar\":{\"outlinewidth\":0,\"ticks\":\"\"}},\"type\":\"scattermapbox\"}],\"scatterpolar\":[{\"marker\":{\"colorbar\":{\"outlinewidth\":0,\"ticks\":\"\"}},\"type\":\"scatterpolar\"}],\"scatterpolargl\":[{\"marker\":{\"colorbar\":{\"outlinewidth\":0,\"ticks\":\"\"}},\"type\":\"scatterpolargl\"}],\"scatterternary\":[{\"marker\":{\"colorbar\":{\"outlinewidth\":0,\"ticks\":\"\"}},\"type\":\"scatterternary\"}],\"surface\":[{\"colorbar\":{\"outlinewidth\":0,\"ticks\":\"\"},\"colorscale\":[[0.0,\"#0d0887\"],[0.1111111111111111,\"#46039f\"],[0.2222222222222222,\"#7201a8\"],[0.3333333333333333,\"#9c179e\"],[0.4444444444444444,\"#bd3786\"],[0.5555555555555556,\"#d8576b\"],[0.6666666666666666,\"#ed7953\"],[0.7777777777777778,\"#fb9f3a\"],[0.8888888888888888,\"#fdca26\"],[1.0,\"#f0f921\"]],\"type\":\"surface\"}],\"table\":[{\"cells\":{\"fill\":{\"color\":\"#EBF0F8\"},\"line\":{\"color\":\"white\"}},\"header\":{\"fill\":{\"color\":\"#C8D4E3\"},\"line\":{\"color\":\"white\"}},\"type\":\"table\"}]},\"layout\":{\"annotationdefaults\":{\"arrowcolor\":\"#2a3f5f\",\"arrowhead\":0,\"arrowwidth\":1},\"autotypenumbers\":\"strict\",\"coloraxis\":{\"colorbar\":{\"outlinewidth\":0,\"ticks\":\"\"}},\"colorscale\":{\"diverging\":[[0,\"#8e0152\"],[0.1,\"#c51b7d\"],[0.2,\"#de77ae\"],[0.3,\"#f1b6da\"],[0.4,\"#fde0ef\"],[0.5,\"#f7f7f7\"],[0.6,\"#e6f5d0\"],[0.7,\"#b8e186\"],[0.8,\"#7fbc41\"],[0.9,\"#4d9221\"],[1,\"#276419\"]],\"sequential\":[[0.0,\"#0d0887\"],[0.1111111111111111,\"#46039f\"],[0.2222222222222222,\"#7201a8\"],[0.3333333333333333,\"#9c179e\"],[0.4444444444444444,\"#bd3786\"],[0.5555555555555556,\"#d8576b\"],[0.6666666666666666,\"#ed7953\"],[0.7777777777777778,\"#fb9f3a\"],[0.8888888888888888,\"#fdca26\"],[1.0,\"#f0f921\"]],\"sequentialminus\":[[0.0,\"#0d0887\"],[0.1111111111111111,\"#46039f\"],[0.2222222222222222,\"#7201a8\"],[0.3333333333333333,\"#9c179e\"],[0.4444444444444444,\"#bd3786\"],[0.5555555555555556,\"#d8576b\"],[0.6666666666666666,\"#ed7953\"],[0.7777777777777778,\"#fb9f3a\"],[0.8888888888888888,\"#fdca26\"],[1.0,\"#f0f921\"]]},\"colorway\":[\"#636efa\",\"#EF553B\",\"#00cc96\",\"#ab63fa\",\"#FFA15A\",\"#19d3f3\",\"#FF6692\",\"#B6E880\",\"#FF97FF\",\"#FECB52\"],\"font\":{\"color\":\"#2a3f5f\"},\"geo\":{\"bgcolor\":\"white\",\"lakecolor\":\"white\",\"landcolor\":\"#E5ECF6\",\"showlakes\":true,\"showland\":true,\"subunitcolor\":\"white\"},\"hoverlabel\":{\"align\":\"left\"},\"hovermode\":\"closest\",\"mapbox\":{\"style\":\"light\"},\"paper_bgcolor\":\"white\",\"plot_bgcolor\":\"#E5ECF6\",\"polar\":{\"angularaxis\":{\"gridcolor\":\"white\",\"linecolor\":\"white\",\"ticks\":\"\"},\"bgcolor\":\"#E5ECF6\",\"radialaxis\":{\"gridcolor\":\"white\",\"linecolor\":\"white\",\"ticks\":\"\"}},\"scene\":{\"xaxis\":{\"backgroundcolor\":\"#E5ECF6\",\"gridcolor\":\"white\",\"gridwidth\":2,\"linecolor\":\"white\",\"showbackground\":true,\"ticks\":\"\",\"zerolinecolor\":\"white\"},\"yaxis\":{\"backgroundcolor\":\"#E5ECF6\",\"gridcolor\":\"white\",\"gridwidth\":2,\"linecolor\":\"white\",\"showbackground\":true,\"ticks\":\"\",\"zerolinecolor\":\"white\"},\"zaxis\":{\"backgroundcolor\":\"#E5ECF6\",\"gridcolor\":\"white\",\"gridwidth\":2,\"linecolor\":\"white\",\"showbackground\":true,\"ticks\":\"\",\"zerolinecolor\":\"white\"}},\"shapedefaults\":{\"line\":{\"color\":\"#2a3f5f\"}},\"ternary\":{\"aaxis\":{\"gridcolor\":\"white\",\"linecolor\":\"white\",\"ticks\":\"\"},\"baxis\":{\"gridcolor\":\"white\",\"linecolor\":\"white\",\"ticks\":\"\"},\"bgcolor\":\"#E5ECF6\",\"caxis\":{\"gridcolor\":\"white\",\"linecolor\":\"white\",\"ticks\":\"\"}},\"title\":{\"x\":0.05},\"xaxis\":{\"automargin\":true,\"gridcolor\":\"white\",\"linecolor\":\"white\",\"ticks\":\"\",\"title\":{\"standoff\":15},\"zerolinecolor\":\"white\",\"zerolinewidth\":2},\"yaxis\":{\"automargin\":true,\"gridcolor\":\"white\",\"linecolor\":\"white\",\"ticks\":\"\",\"title\":{\"standoff\":15},\"zerolinecolor\":\"white\",\"zerolinewidth\":2}}},\"shapes\":[{\"type\":\"line\",\"x0\":168,\"x1\":168,\"xref\":\"x\",\"y0\":0,\"y1\":1,\"yref\":\"y domain\"}],\"xaxis\":{\"title\":{\"text\":\"Time Samples\"}},\"yaxis\":{\"title\":{\"text\":\"Normalized Stock Opening Price\"}}},                        {\"responsive\": true}                    ).then(function(){\n",
              "                            \n",
              "var gd = document.getElementById('6a88638c-22a8-44d7-840e-17d33f034b3d');\n",
              "var x = new MutationObserver(function (mutations, observer) {{\n",
              "        var display = window.getComputedStyle(gd).display;\n",
              "        if (!display || display === 'none') {{\n",
              "            console.log([gd, 'removed!']);\n",
              "            Plotly.purge(gd);\n",
              "            observer.disconnect();\n",
              "        }}\n",
              "}});\n",
              "\n",
              "// Listen for the removal of the full notebook cells\n",
              "var notebookContainer = gd.closest('#notebook-container');\n",
              "if (notebookContainer) {{\n",
              "    x.observe(notebookContainer, {childList: true});\n",
              "}}\n",
              "\n",
              "// Listen for the clearing of the current output cell\n",
              "var outputEl = gd.closest('.output');\n",
              "if (outputEl) {{\n",
              "    x.observe(outputEl, {childList: true});\n",
              "}}\n",
              "\n",
              "                        })                };                            </script>        </div>\n",
              "</body>\n",
              "</html>"
            ]
          },
          "metadata": {}
        },
        {
          "output_type": "display_data",
          "data": {
            "text/html": [
              "<html>\n",
              "<head><meta charset=\"utf-8\" /></head>\n",
              "<body>\n",
              "    <div>            <script src=\"https://cdnjs.cloudflare.com/ajax/libs/mathjax/2.7.5/MathJax.js?config=TeX-AMS-MML_SVG\"></script><script type=\"text/javascript\">if (window.MathJax) {MathJax.Hub.Config({SVG: {font: \"STIX-Web\"}});}</script>                <script type=\"text/javascript\">window.PlotlyConfig = {MathJaxConfig: 'local'};</script>\n",
              "        <script src=\"https://cdn.plot.ly/plotly-2.8.3.min.js\"></script>                <div id=\"8725324a-4af2-42d7-9854-493e276e57ee\" class=\"plotly-graph-div\" style=\"height:525px; width:100%;\"></div>            <script type=\"text/javascript\">                                    window.PLOTLYENV=window.PLOTLYENV || {};                                    if (document.getElementById(\"8725324a-4af2-42d7-9854-493e276e57ee\")) {                    Plotly.newPlot(                        \"8725324a-4af2-42d7-9854-493e276e57ee\",                        [{\"mode\":\"lines\",\"name\":\"Actual\",\"x\":[1.0,2.0,3.0,4.0,5.0,6.0,7.0,8.0,9.0,10.0,11.0,12.0,13.0,14.0,15.0,16.0,17.0,18.0,19.0,20.0,21.0,22.0,23.0,24.0,25.0,26.0,27.0,28.0,29.0,30.0,31.0,32.0,33.0,34.0,35.0,36.0,37.0,38.0,39.0,40.0,41.0,42.0,43.0,44.0,45.0,46.0,47.0,48.0,49.0,50.0,51.0,52.0,53.0,54.0,55.0,56.0,57.0,58.0,59.0,60.0,61.0,62.0,63.0,64.0,65.0,66.0,67.0,68.0,69.0,70.0,71.0,72.0,73.0,74.0,75.0,76.0,77.0,78.0,79.0,80.0,81.0,82.0,83.0,84.0,85.0,86.0,87.0,88.0,89.0,90.0,91.0,92.0,93.0,94.0,95.0,96.0,97.0,98.0,99.0,100.0,101.0,102.0,103.0,104.0,105.0,106.0,107.0,108.0,109.0,110.0,111.0,112.0,113.0,114.0,115.0,116.0,117.0,118.0,119.0,120.0,121.0,122.0,123.0,124.0,125.0,126.0,127.0,128.0,129.0,130.0,131.0,132.0,133.0,134.0,135.0,136.0,137.0,138.0,139.0,140.0,141.0,142.0,143.0,144.0,145.0,146.0,147.0,148.0,149.0,150.0,151.0,152.0,153.0,154.0,155.0,156.0,157.0,158.0,159.0,160.0,161.0,162.0,163.0,164.0,165.0,166.0,167.0,168.0,169.0,170.0,171.0,172.0,173.0,174.0,175.0,176.0,177.0,178.0,179.0,180.0,181.0,182.0,183.0,184.0,185.0,186.0,187.0,188.0,189.0,190.0,191.0,192.0],\"y\":[-1.7331982851028442,-1.762434482574463,-1.7686517238616943,-1.7764540910720825,-1.74237859249115,-1.7577859163284302,-1.7240654230117798,-1.702937364578247,-1.6835423707962036,-1.7301486730575562,-1.801655888557434,-1.8080129623413086,-1.782720923423767,-1.8256139755249023,-1.8175917863845825,-1.8499014377593994,-1.8712244033813477,-1.8613510131835938,-1.867927074432373,-1.7748907804489136,-1.7439132928848267,-1.7686517238616943,-1.8191932439804077,-1.8336727619171143,-1.828832983970642,-1.856434941291809,-1.8401463031768799,-1.8961520195007324,-1.8761818408966064,-1.8580721616744995,-1.8466438055038452,-1.8811532258987427,-1.9011800289154053,-1.9197396039962769,-1.9384963512420654,-1.8995023965835571,-1.978371024131775,-1.9766184091567993,-1.9995381832122803,-1.9626604318618774,-1.9600555896759033,-1.9539923667907715,-1.9129680395126343,-1.9248353242874146,-1.9384963512420654,-1.9470884799957275,-1.9350712299346924,-1.9062223434448242,-1.8978264331817627,-1.8844752311706543,-1.8978264331817627,-1.9557225704193115,-1.9488118886947632,-1.9626604318618774,-1.9402114152908325,-1.974867582321167,-1.9713712930679321,-1.990687608718872,-1.9539923667907715,-1.9350712299346924,-1.966139554977417,-1.9591881036758423,-1.9265371561050415,-1.9214365482330322,-1.8995023965835571,-1.9436466693878174,-1.9591881036758423,-1.9350712299346924,-1.9591881036758423,-1.9871598482131958,-2.013792037963867,-1.995992660522461,-2.0499379634857178,-2.13407826423645,-2.075687885284424,-2.0831146240234375,-2.1018190383911133,-2.1417551040649414,-2.2244441509246826,-2.166938066482544,-2.1417551040649414,-2.1747593879699707,-2.208392381668091,-2.176720142364502,-2.208392381668091,-2.2693538665771484,-2.302748441696167,-2.288060426712036,-2.244716167449951,-2.159151077270508,-2.0905725955963135,-2.1207237243652344,-2.13407826423645,-2.159151077270508,-2.1398329734802246,-2.170844554901123,-2.1984336376190186,-2.1207237243652344,-2.118824005126953,-2.1359944343566895,-2.1417551040649414,-2.1475348472595215,-2.1475348472595215,-2.1747593879699707,-2.1379125118255615,-2.1417551040649414,-2.109356641769409,-2.140793800354004,-2.109356641769409,-2.118824005126953,-2.10275936126709,-2.092442035675049,-2.0263590812683105,-2.033580780029297,-2.0245583057403564,-2.059091329574585,-2.0499379634857178,-2.064606189727783,-2.0120038986206055,-2.0084333419799805,-1.990687608718872,-1.9995381832122803,-1.9977644681930542,-2.0317726135253906,-2.0812549591064453,-2.0372025966644287,-2.053593635559082,-2.013792037963867,-2.0281617641448975,-1.9557225704193115,-1.9028592109680176,-1.9180443286895752,-1.9565883874893188,-1.9470884799957275,-1.889470100402832,-1.8515325784683228,-1.8191932439804077,-1.8064216375350952,-1.785862684249878,-1.7531496286392212,-1.7089482545852661,-1.68502676486969,-1.7044382095336914,-1.7255842685699463,-1.7180030345916748,-1.7255842685699463,-1.7210315465927124,-1.7469866275787354,-1.7717684507369995,-1.7240654230117798,-1.6954525709152222,-1.7210315465927124,-1.702937364578247,-1.639581322669983,-1.599515676498413,-1.6122950315475464,-1.6280409097671509,-1.6137206554412842,-1.6323597431182861,-1.5952763557434082,-1.6577656269073486,-1.6137206554412842,-1.6323597431182861,-1.6222988367080688,-1.6323597431182861,-1.626603603363037,-1.6194348335266113,-1.65411376953125,-1.6984426975250244,-1.670238733291626,-1.662890911102295,-1.584020972251892,-1.6051839590072632,-1.5784200429916382,-1.5812182426452637,-1.6251676082611084,-1.6338016986846924,-1.6424782276153564,-1.6280409097671509,-1.6403051614761353,-1.692467451095581,-1.6511976718902588,-1.661424994468689,-1.6672959327697754,-1.6746621131896973,-1.6790966987609863,-1.6643580198287964,-1.6680312156677246,-1.665826439857483,-1.659960389137268,-1.6251676082611084,-1.6165754795074463],\"type\":\"scatter\"},{\"mode\":\"lines\",\"name\":\"Predicted\",\"x\":[1.0,2.0,3.0,4.0,5.0,6.0,7.0,8.0,9.0,10.0,11.0,12.0,13.0,14.0,15.0,16.0,17.0,18.0,19.0,20.0,21.0,22.0,23.0,24.0,25.0,26.0,27.0,28.0,29.0,30.0,31.0,32.0,33.0,34.0,35.0,36.0,37.0,38.0,39.0,40.0,41.0,42.0,43.0,44.0,45.0,46.0,47.0,48.0,49.0,50.0,51.0,52.0,53.0,54.0,55.0,56.0,57.0,58.0,59.0,60.0,61.0,62.0,63.0,64.0,65.0,66.0,67.0,68.0,69.0,70.0,71.0,72.0,73.0,74.0,75.0,76.0,77.0,78.0,79.0,80.0,81.0,82.0,83.0,84.0,85.0,86.0,87.0,88.0,89.0,90.0,91.0,92.0,93.0,94.0,95.0,96.0,97.0,98.0,99.0,100.0,101.0,102.0,103.0,104.0,105.0,106.0,107.0,108.0,109.0,110.0,111.0,112.0,113.0,114.0,115.0,116.0,117.0,118.0,119.0,120.0,121.0,122.0,123.0,124.0,125.0,126.0,127.0,128.0,129.0,130.0,131.0,132.0,133.0,134.0,135.0,136.0,137.0,138.0,139.0,140.0,141.0,142.0,143.0,144.0,145.0,146.0,147.0,148.0,149.0,150.0,151.0,152.0,153.0,154.0,155.0,156.0,157.0,158.0,159.0,160.0,161.0,162.0,163.0,164.0,165.0,166.0,167.0,168.0,169.0,170.0,171.0,172.0,173.0,174.0,175.0,176.0,177.0,178.0,179.0,180.0,181.0,182.0,183.0,184.0,185.0,186.0,187.0,188.0,189.0,190.0,191.0,192.0],\"y\":[-0.6038582921028137,-3.169773817062378,-2.5856082439422607,-0.9396020770072937,0.45739954710006714,-1.6352912187576294,-0.9221774339675903,0.8630005717277527,-0.05309370160102844,0.895996630191803,-0.8551167249679565,1.6904140710830688,0.9558682441711426,-0.9339651465415955,-0.3030966520309448,-0.2671404778957367,-1.0423619747161865,0.18847934901714325,-0.7152457237243652,-1.2151991128921509,0.27127590775489807,-1.951491117477417,1.1184521913528442,-1.213432788848877,-0.09538712352514267,-1.0162687301635742,1.07763671875,-1.41260826587677,0.11351528763771057,1.6457884311676025,0.28888630867004395,-0.6171045303344727,-0.3312142491340637,-0.3302326202392578,1.3288612365722656,2.241145610809326,-0.9886977076530457,0.44340357184410095,1.643019199371338,-1.5930404663085938,-3.734579563140869,-0.06631872802972794,1.0032933950424194,0.6301313042640686,1.9857572317123413,-0.12009960412979126,1.044241189956665,1.7828606367111206,-1.3077600002288818,-0.653965950012207,0.3375062346458435,0.15604890882968903,1.3290742635726929,0.16818022727966309,0.021181300282478333,-0.25780290365219116,-0.6738185286521912,0.13569648563861847,-0.31092706322669983,0.8532302379608154,-0.8641879558563232,-0.4665038585662842,0.34177976846694946,-0.450394868850708,-1.1485403776168823,0.9586640000343323,0.8289598822593689,-1.0440315008163452,-0.9045572876930237,1.587533712387085,-1.650126338005066,-2.35007905960083,2.264984130859375,-0.8519002795219421,2.732637643814087,-0.29025229811668396,0.9786174893379211,-1.8870724439620972,1.938704252243042,0.5340781211853027,0.6397179365158081,-0.7010877132415771,-1.5510177612304688,-0.3133259117603302,-0.7426589727401733,2.750682830810547,-0.10501377284526825,-2.151400327682495,-0.2817412316799164,-1.220616102218628,-0.9381999969482422,-0.9301432967185974,-0.4753846526145935,1.7707645893096924,-2.6250314712524414,-0.8866691589355469,0.03970909118652344,-2.313307523727417,0.5591342449188232,-0.6366203427314758,3.353684425354004,-1.5737587213516235,1.716574788093567,-1.982175588607788,-2.816626787185669,-0.19797717034816742,0.34765389561653137,1.6447683572769165,-0.6336461901664734,-0.7476480603218079,-0.10109338909387589,-4.5313029289245605,-3.6015584468841553,0.6367011070251465,-0.27790695428848267,-2.1513054370880127,1.5701824426651,5.373913764953613,-0.43454205989837646,-3.5625767707824707,-0.9236406087875366,-3.372868061065674,0.2270231693983078,-3.571225643157959,0.44506460428237915,3.9727871417999268,-0.8619839549064636,-1.0124231576919556,-4.911973476409912,3.6980652809143066,-0.3978387415409088,1.0342503786087036,-1.98028564453125,-2.6118669509887695,0.8761876821517944,-1.4054031372070312,1.7184230089187622,1.801086187362671,1.9810935258865356,0.21137383580207825,2.574796676635742,-0.9920157790184021,-1.506417155265808,-3.3451056480407715,-1.4036445617675781,2.537631034851074,0.9765865802764893,0.12521907687187195,-2.045253038406372,1.4742436408996582,-0.6265637278556824,0.23175157606601715,2.8096373081207275,0.4164465069770813,1.6036189794540405,-1.4153013229370117,0.6248344779014587,-0.10731031000614166,3.222175121307373,-1.643092155456543,0.670126736164093,-1.2448173761367798,1.2917213439941406,-0.19612033665180206,-1.8098866939544678,1.3171329498291016,-2.736788749694824,-1.5246756076812744,-2.374385356903076,0.4866177439689636,-0.9990821480751038,1.4952408075332642,-0.951374351978302,-0.30800861120224,-1.464717149734497,0.2845492362976074,-0.564868688583374,0.38172706961631775,-0.16458848118782043,-0.049619242548942566,-0.24763503670692444,-0.24381965398788452,-0.023787736892700195,-0.2008875012397766,-0.06851863116025925,-0.21157735586166382,-0.21994656324386597,-0.146426722407341,-0.13750307261943817,-0.19933170080184937,-0.11991874873638153,-0.20527943968772888],\"type\":\"scatter\"}],                        {\"template\":{\"data\":{\"bar\":[{\"error_x\":{\"color\":\"#2a3f5f\"},\"error_y\":{\"color\":\"#2a3f5f\"},\"marker\":{\"line\":{\"color\":\"#E5ECF6\",\"width\":0.5},\"pattern\":{\"fillmode\":\"overlay\",\"size\":10,\"solidity\":0.2}},\"type\":\"bar\"}],\"barpolar\":[{\"marker\":{\"line\":{\"color\":\"#E5ECF6\",\"width\":0.5},\"pattern\":{\"fillmode\":\"overlay\",\"size\":10,\"solidity\":0.2}},\"type\":\"barpolar\"}],\"carpet\":[{\"aaxis\":{\"endlinecolor\":\"#2a3f5f\",\"gridcolor\":\"white\",\"linecolor\":\"white\",\"minorgridcolor\":\"white\",\"startlinecolor\":\"#2a3f5f\"},\"baxis\":{\"endlinecolor\":\"#2a3f5f\",\"gridcolor\":\"white\",\"linecolor\":\"white\",\"minorgridcolor\":\"white\",\"startlinecolor\":\"#2a3f5f\"},\"type\":\"carpet\"}],\"choropleth\":[{\"colorbar\":{\"outlinewidth\":0,\"ticks\":\"\"},\"type\":\"choropleth\"}],\"contour\":[{\"colorbar\":{\"outlinewidth\":0,\"ticks\":\"\"},\"colorscale\":[[0.0,\"#0d0887\"],[0.1111111111111111,\"#46039f\"],[0.2222222222222222,\"#7201a8\"],[0.3333333333333333,\"#9c179e\"],[0.4444444444444444,\"#bd3786\"],[0.5555555555555556,\"#d8576b\"],[0.6666666666666666,\"#ed7953\"],[0.7777777777777778,\"#fb9f3a\"],[0.8888888888888888,\"#fdca26\"],[1.0,\"#f0f921\"]],\"type\":\"contour\"}],\"contourcarpet\":[{\"colorbar\":{\"outlinewidth\":0,\"ticks\":\"\"},\"type\":\"contourcarpet\"}],\"heatmap\":[{\"colorbar\":{\"outlinewidth\":0,\"ticks\":\"\"},\"colorscale\":[[0.0,\"#0d0887\"],[0.1111111111111111,\"#46039f\"],[0.2222222222222222,\"#7201a8\"],[0.3333333333333333,\"#9c179e\"],[0.4444444444444444,\"#bd3786\"],[0.5555555555555556,\"#d8576b\"],[0.6666666666666666,\"#ed7953\"],[0.7777777777777778,\"#fb9f3a\"],[0.8888888888888888,\"#fdca26\"],[1.0,\"#f0f921\"]],\"type\":\"heatmap\"}],\"heatmapgl\":[{\"colorbar\":{\"outlinewidth\":0,\"ticks\":\"\"},\"colorscale\":[[0.0,\"#0d0887\"],[0.1111111111111111,\"#46039f\"],[0.2222222222222222,\"#7201a8\"],[0.3333333333333333,\"#9c179e\"],[0.4444444444444444,\"#bd3786\"],[0.5555555555555556,\"#d8576b\"],[0.6666666666666666,\"#ed7953\"],[0.7777777777777778,\"#fb9f3a\"],[0.8888888888888888,\"#fdca26\"],[1.0,\"#f0f921\"]],\"type\":\"heatmapgl\"}],\"histogram\":[{\"marker\":{\"pattern\":{\"fillmode\":\"overlay\",\"size\":10,\"solidity\":0.2}},\"type\":\"histogram\"}],\"histogram2d\":[{\"colorbar\":{\"outlinewidth\":0,\"ticks\":\"\"},\"colorscale\":[[0.0,\"#0d0887\"],[0.1111111111111111,\"#46039f\"],[0.2222222222222222,\"#7201a8\"],[0.3333333333333333,\"#9c179e\"],[0.4444444444444444,\"#bd3786\"],[0.5555555555555556,\"#d8576b\"],[0.6666666666666666,\"#ed7953\"],[0.7777777777777778,\"#fb9f3a\"],[0.8888888888888888,\"#fdca26\"],[1.0,\"#f0f921\"]],\"type\":\"histogram2d\"}],\"histogram2dcontour\":[{\"colorbar\":{\"outlinewidth\":0,\"ticks\":\"\"},\"colorscale\":[[0.0,\"#0d0887\"],[0.1111111111111111,\"#46039f\"],[0.2222222222222222,\"#7201a8\"],[0.3333333333333333,\"#9c179e\"],[0.4444444444444444,\"#bd3786\"],[0.5555555555555556,\"#d8576b\"],[0.6666666666666666,\"#ed7953\"],[0.7777777777777778,\"#fb9f3a\"],[0.8888888888888888,\"#fdca26\"],[1.0,\"#f0f921\"]],\"type\":\"histogram2dcontour\"}],\"mesh3d\":[{\"colorbar\":{\"outlinewidth\":0,\"ticks\":\"\"},\"type\":\"mesh3d\"}],\"parcoords\":[{\"line\":{\"colorbar\":{\"outlinewidth\":0,\"ticks\":\"\"}},\"type\":\"parcoords\"}],\"pie\":[{\"automargin\":true,\"type\":\"pie\"}],\"scatter\":[{\"marker\":{\"colorbar\":{\"outlinewidth\":0,\"ticks\":\"\"}},\"type\":\"scatter\"}],\"scatter3d\":[{\"line\":{\"colorbar\":{\"outlinewidth\":0,\"ticks\":\"\"}},\"marker\":{\"colorbar\":{\"outlinewidth\":0,\"ticks\":\"\"}},\"type\":\"scatter3d\"}],\"scattercarpet\":[{\"marker\":{\"colorbar\":{\"outlinewidth\":0,\"ticks\":\"\"}},\"type\":\"scattercarpet\"}],\"scattergeo\":[{\"marker\":{\"colorbar\":{\"outlinewidth\":0,\"ticks\":\"\"}},\"type\":\"scattergeo\"}],\"scattergl\":[{\"marker\":{\"colorbar\":{\"outlinewidth\":0,\"ticks\":\"\"}},\"type\":\"scattergl\"}],\"scattermapbox\":[{\"marker\":{\"colorbar\":{\"outlinewidth\":0,\"ticks\":\"\"}},\"type\":\"scattermapbox\"}],\"scatterpolar\":[{\"marker\":{\"colorbar\":{\"outlinewidth\":0,\"ticks\":\"\"}},\"type\":\"scatterpolar\"}],\"scatterpolargl\":[{\"marker\":{\"colorbar\":{\"outlinewidth\":0,\"ticks\":\"\"}},\"type\":\"scatterpolargl\"}],\"scatterternary\":[{\"marker\":{\"colorbar\":{\"outlinewidth\":0,\"ticks\":\"\"}},\"type\":\"scatterternary\"}],\"surface\":[{\"colorbar\":{\"outlinewidth\":0,\"ticks\":\"\"},\"colorscale\":[[0.0,\"#0d0887\"],[0.1111111111111111,\"#46039f\"],[0.2222222222222222,\"#7201a8\"],[0.3333333333333333,\"#9c179e\"],[0.4444444444444444,\"#bd3786\"],[0.5555555555555556,\"#d8576b\"],[0.6666666666666666,\"#ed7953\"],[0.7777777777777778,\"#fb9f3a\"],[0.8888888888888888,\"#fdca26\"],[1.0,\"#f0f921\"]],\"type\":\"surface\"}],\"table\":[{\"cells\":{\"fill\":{\"color\":\"#EBF0F8\"},\"line\":{\"color\":\"white\"}},\"header\":{\"fill\":{\"color\":\"#C8D4E3\"},\"line\":{\"color\":\"white\"}},\"type\":\"table\"}]},\"layout\":{\"annotationdefaults\":{\"arrowcolor\":\"#2a3f5f\",\"arrowhead\":0,\"arrowwidth\":1},\"autotypenumbers\":\"strict\",\"coloraxis\":{\"colorbar\":{\"outlinewidth\":0,\"ticks\":\"\"}},\"colorscale\":{\"diverging\":[[0,\"#8e0152\"],[0.1,\"#c51b7d\"],[0.2,\"#de77ae\"],[0.3,\"#f1b6da\"],[0.4,\"#fde0ef\"],[0.5,\"#f7f7f7\"],[0.6,\"#e6f5d0\"],[0.7,\"#b8e186\"],[0.8,\"#7fbc41\"],[0.9,\"#4d9221\"],[1,\"#276419\"]],\"sequential\":[[0.0,\"#0d0887\"],[0.1111111111111111,\"#46039f\"],[0.2222222222222222,\"#7201a8\"],[0.3333333333333333,\"#9c179e\"],[0.4444444444444444,\"#bd3786\"],[0.5555555555555556,\"#d8576b\"],[0.6666666666666666,\"#ed7953\"],[0.7777777777777778,\"#fb9f3a\"],[0.8888888888888888,\"#fdca26\"],[1.0,\"#f0f921\"]],\"sequentialminus\":[[0.0,\"#0d0887\"],[0.1111111111111111,\"#46039f\"],[0.2222222222222222,\"#7201a8\"],[0.3333333333333333,\"#9c179e\"],[0.4444444444444444,\"#bd3786\"],[0.5555555555555556,\"#d8576b\"],[0.6666666666666666,\"#ed7953\"],[0.7777777777777778,\"#fb9f3a\"],[0.8888888888888888,\"#fdca26\"],[1.0,\"#f0f921\"]]},\"colorway\":[\"#636efa\",\"#EF553B\",\"#00cc96\",\"#ab63fa\",\"#FFA15A\",\"#19d3f3\",\"#FF6692\",\"#B6E880\",\"#FF97FF\",\"#FECB52\"],\"font\":{\"color\":\"#2a3f5f\"},\"geo\":{\"bgcolor\":\"white\",\"lakecolor\":\"white\",\"landcolor\":\"#E5ECF6\",\"showlakes\":true,\"showland\":true,\"subunitcolor\":\"white\"},\"hoverlabel\":{\"align\":\"left\"},\"hovermode\":\"closest\",\"mapbox\":{\"style\":\"light\"},\"paper_bgcolor\":\"white\",\"plot_bgcolor\":\"#E5ECF6\",\"polar\":{\"angularaxis\":{\"gridcolor\":\"white\",\"linecolor\":\"white\",\"ticks\":\"\"},\"bgcolor\":\"#E5ECF6\",\"radialaxis\":{\"gridcolor\":\"white\",\"linecolor\":\"white\",\"ticks\":\"\"}},\"scene\":{\"xaxis\":{\"backgroundcolor\":\"#E5ECF6\",\"gridcolor\":\"white\",\"gridwidth\":2,\"linecolor\":\"white\",\"showbackground\":true,\"ticks\":\"\",\"zerolinecolor\":\"white\"},\"yaxis\":{\"backgroundcolor\":\"#E5ECF6\",\"gridcolor\":\"white\",\"gridwidth\":2,\"linecolor\":\"white\",\"showbackground\":true,\"ticks\":\"\",\"zerolinecolor\":\"white\"},\"zaxis\":{\"backgroundcolor\":\"#E5ECF6\",\"gridcolor\":\"white\",\"gridwidth\":2,\"linecolor\":\"white\",\"showbackground\":true,\"ticks\":\"\",\"zerolinecolor\":\"white\"}},\"shapedefaults\":{\"line\":{\"color\":\"#2a3f5f\"}},\"ternary\":{\"aaxis\":{\"gridcolor\":\"white\",\"linecolor\":\"white\",\"ticks\":\"\"},\"baxis\":{\"gridcolor\":\"white\",\"linecolor\":\"white\",\"ticks\":\"\"},\"bgcolor\":\"#E5ECF6\",\"caxis\":{\"gridcolor\":\"white\",\"linecolor\":\"white\",\"ticks\":\"\"}},\"title\":{\"x\":0.05},\"xaxis\":{\"automargin\":true,\"gridcolor\":\"white\",\"linecolor\":\"white\",\"ticks\":\"\",\"title\":{\"standoff\":15},\"zerolinecolor\":\"white\",\"zerolinewidth\":2},\"yaxis\":{\"automargin\":true,\"gridcolor\":\"white\",\"linecolor\":\"white\",\"ticks\":\"\",\"title\":{\"standoff\":15},\"zerolinecolor\":\"white\",\"zerolinewidth\":2}}},\"shapes\":[{\"type\":\"line\",\"x0\":168,\"x1\":168,\"xref\":\"x\",\"y0\":0,\"y1\":1,\"yref\":\"y domain\"}],\"xaxis\":{\"title\":{\"text\":\"Time Samples\"}},\"yaxis\":{\"title\":{\"text\":\"Normalized Stock Opening Price\"}}},                        {\"responsive\": true}                    ).then(function(){\n",
              "                            \n",
              "var gd = document.getElementById('8725324a-4af2-42d7-9854-493e276e57ee');\n",
              "var x = new MutationObserver(function (mutations, observer) {{\n",
              "        var display = window.getComputedStyle(gd).display;\n",
              "        if (!display || display === 'none') {{\n",
              "            console.log([gd, 'removed!']);\n",
              "            Plotly.purge(gd);\n",
              "            observer.disconnect();\n",
              "        }}\n",
              "}});\n",
              "\n",
              "// Listen for the removal of the full notebook cells\n",
              "var notebookContainer = gd.closest('#notebook-container');\n",
              "if (notebookContainer) {{\n",
              "    x.observe(notebookContainer, {childList: true});\n",
              "}}\n",
              "\n",
              "// Listen for the clearing of the current output cell\n",
              "var outputEl = gd.closest('.output');\n",
              "if (outputEl) {{\n",
              "    x.observe(outputEl, {childList: true});\n",
              "}}\n",
              "\n",
              "                        })                };                            </script>        </div>\n",
              "</body>\n",
              "</html>"
            ]
          },
          "metadata": {}
        },
        {
          "output_type": "display_data",
          "data": {
            "text/html": [
              "<html>\n",
              "<head><meta charset=\"utf-8\" /></head>\n",
              "<body>\n",
              "    <div>            <script src=\"https://cdnjs.cloudflare.com/ajax/libs/mathjax/2.7.5/MathJax.js?config=TeX-AMS-MML_SVG\"></script><script type=\"text/javascript\">if (window.MathJax) {MathJax.Hub.Config({SVG: {font: \"STIX-Web\"}});}</script>                <script type=\"text/javascript\">window.PlotlyConfig = {MathJaxConfig: 'local'};</script>\n",
              "        <script src=\"https://cdn.plot.ly/plotly-2.8.3.min.js\"></script>                <div id=\"ad42bdbe-0c2e-4a1e-aca4-e7294c88931d\" class=\"plotly-graph-div\" style=\"height:525px; width:100%;\"></div>            <script type=\"text/javascript\">                                    window.PLOTLYENV=window.PLOTLYENV || {};                                    if (document.getElementById(\"ad42bdbe-0c2e-4a1e-aca4-e7294c88931d\")) {                    Plotly.newPlot(                        \"ad42bdbe-0c2e-4a1e-aca4-e7294c88931d\",                        [{\"mode\":\"lines\",\"name\":\"Actual\",\"x\":[1.0,2.0,3.0,4.0,5.0,6.0,7.0,8.0,9.0,10.0,11.0,12.0,13.0,14.0,15.0,16.0,17.0,18.0,19.0,20.0,21.0,22.0,23.0,24.0,25.0,26.0,27.0,28.0,29.0,30.0,31.0,32.0,33.0,34.0,35.0,36.0,37.0,38.0,39.0,40.0,41.0,42.0,43.0,44.0,45.0,46.0,47.0,48.0,49.0,50.0,51.0,52.0,53.0,54.0,55.0,56.0,57.0,58.0,59.0,60.0,61.0,62.0,63.0,64.0,65.0,66.0,67.0,68.0,69.0,70.0,71.0,72.0,73.0,74.0,75.0,76.0,77.0,78.0,79.0,80.0,81.0,82.0,83.0,84.0,85.0,86.0,87.0,88.0,89.0,90.0,91.0,92.0,93.0,94.0,95.0,96.0,97.0,98.0,99.0,100.0,101.0,102.0,103.0,104.0,105.0,106.0,107.0,108.0,109.0,110.0,111.0,112.0,113.0,114.0,115.0,116.0,117.0,118.0,119.0,120.0,121.0,122.0,123.0,124.0,125.0,126.0,127.0,128.0,129.0,130.0,131.0,132.0,133.0,134.0,135.0,136.0,137.0,138.0,139.0,140.0,141.0,142.0,143.0,144.0,145.0,146.0,147.0,148.0,149.0,150.0,151.0,152.0,153.0,154.0,155.0,156.0,157.0,158.0,159.0,160.0,161.0,162.0,163.0,164.0,165.0,166.0,167.0,168.0,169.0,170.0,171.0,172.0,173.0,174.0,175.0,176.0,177.0,178.0,179.0,180.0,181.0,182.0,183.0,184.0,185.0,186.0,187.0,188.0,189.0,190.0,191.0,192.0],\"y\":[0.8231714367866516,0.8415481448173523,0.8527358174324036,0.8435846567153931,0.8435846567153931,0.8206122517585754,0.8800607323646545,0.8921438455581665,0.9554663896560669,0.9722455143928528,0.9678109884262085,1.0565184354782104,1.0192348957061768,0.9909133315086365,0.9972792267799377,0.9465540051460266,0.945562481880188,0.9111990332603455,0.9874812364578247,1.0153406858444214,1.0352572202682495,0.9835551381111145,0.932649552822113,0.9460582733154297,0.9569498300552368,1.0124174356460571,0.9520028829574585,0.8790521025657654,0.953982412815094,0.9306591153144836,0.8871138095855713,0.8724896907806396,0.8750150203704834,0.8966653347015381,0.9450665712356567,0.870468258857727,0.8180513978004456,0.8175390362739563,0.8175390362739563,0.8339017629623413,0.811898410320282,0.7975034117698669,0.8659161925315857,0.8461288213729858,0.8507040739059448,0.8257289528846741,0.8567960858345032,0.8845962882041931,0.8921438455581665,0.9366273283958435,0.9415938258171082,0.8344119787216187,0.8333914279937744,0.769590437412262,0.8067634701728821,0.7913178205490112,0.74513179063797,0.7352004051208496,0.7840888500213623,0.7586811184883118,0.6941618919372559,0.7005037069320679,0.7320589423179626,0.7409532070159912,0.7711464166641235,0.7928651571273804,0.8231714367866516,0.7820209264755249,0.7830550074577332,0.7388622760772705,0.7747746706008911,0.8390010595321655,0.8714791536331177,0.8206122517585754,0.8083046078681946,0.7675148248672485,0.7482627034187317,0.7851223945617676,0.786155641078949,0.8608521223068237,0.8052216172218323,0.7949272990226746,0.769071638584137,0.7964732050895691,0.769071638584137,0.8026506304740906,0.8206122517585754,0.8201002478599548,0.8231714367866516,0.8328810930252075,0.8623720407485962,0.8951587677001953,0.918195903301239,0.9445706605911255,0.9524978399276733,0.9341416954994202,0.9830641150474548,1.014853596687317,0.9707679152488708,0.9391113519668579,0.9396079778671265,0.9495270848274231,0.9311568140983582,0.9156984686851501,0.9171971082687378,0.945562481880188,0.9663317203521729,0.9266752004623413,0.8410388827323914,0.9006800651550293,0.9420900940895081,0.9121993780136108,0.8567960858345032,0.81856369972229,0.7949272990226746,0.7560791373252869,0.7226192355155945,0.7487843036651611,0.7456537485122681,0.769071638584137,0.7378163933753967,0.7550378441810608,0.7015597224235535,0.6745424866676331,0.7477411031723022,0.6941618919372559,0.6457300782203674,0.6787928938865662,0.6494770646095276,0.7226192355155945,0.6989192366600037,0.6382251977920532,0.6150836944580078,0.6382251977920532,0.6904577016830444,0.7078895568847656,0.6339302062988281,0.6933684349060059,0.7928651571273804,0.8598384857177734,0.8986732363700867,0.8714791536331177,0.8440936207771301,0.8598384857177734,0.8226597309112549,0.8323706388473511,0.8170265555381775,0.8005925416946411,0.786155641078949,0.7882213592529297,0.8149760961532593,0.8405295014381409,0.7372933626174927,0.7654381394386292,0.7923494577407837,0.7815037965774536,0.7664766311645508,0.8180513978004456,0.775292694568634,0.7892537713050842,0.7902859449386597,0.7157873511314392,0.7268174886703491,0.7618011832237244,0.7477411031723022,0.7310112118721008,0.7168391942977905,0.586913526058197,0.5211163759231567,0.6199386715888977,0.6846296787261963,0.7378163933753967,0.7928651571273804,0.7835719585418701,0.836962103843689,0.8134375214576721,0.8583175539970398,0.8674341440200806,0.9216896295547485,0.9470496773719788,0.8201002478599548,0.9361302852630615,0.8623720407485962,0.8840926289558411,0.8946564793586731,0.8931490778923035,0.9216896295547485,0.9500223398208618,0.9391113519668579,0.9544771313667297,0.9406009912490845,0.9707679152488708],\"type\":\"scatter\"},{\"mode\":\"lines\",\"name\":\"Predicted\",\"x\":[1.0,2.0,3.0,4.0,5.0,6.0,7.0,8.0,9.0,10.0,11.0,12.0,13.0,14.0,15.0,16.0,17.0,18.0,19.0,20.0,21.0,22.0,23.0,24.0,25.0,26.0,27.0,28.0,29.0,30.0,31.0,32.0,33.0,34.0,35.0,36.0,37.0,38.0,39.0,40.0,41.0,42.0,43.0,44.0,45.0,46.0,47.0,48.0,49.0,50.0,51.0,52.0,53.0,54.0,55.0,56.0,57.0,58.0,59.0,60.0,61.0,62.0,63.0,64.0,65.0,66.0,67.0,68.0,69.0,70.0,71.0,72.0,73.0,74.0,75.0,76.0,77.0,78.0,79.0,80.0,81.0,82.0,83.0,84.0,85.0,86.0,87.0,88.0,89.0,90.0,91.0,92.0,93.0,94.0,95.0,96.0,97.0,98.0,99.0,100.0,101.0,102.0,103.0,104.0,105.0,106.0,107.0,108.0,109.0,110.0,111.0,112.0,113.0,114.0,115.0,116.0,117.0,118.0,119.0,120.0,121.0,122.0,123.0,124.0,125.0,126.0,127.0,128.0,129.0,130.0,131.0,132.0,133.0,134.0,135.0,136.0,137.0,138.0,139.0,140.0,141.0,142.0,143.0,144.0,145.0,146.0,147.0,148.0,149.0,150.0,151.0,152.0,153.0,154.0,155.0,156.0,157.0,158.0,159.0,160.0,161.0,162.0,163.0,164.0,165.0,166.0,167.0,168.0,169.0,170.0,171.0,172.0,173.0,174.0,175.0,176.0,177.0,178.0,179.0,180.0,181.0,182.0,183.0,184.0,185.0,186.0,187.0,188.0,189.0,190.0,191.0,192.0],\"y\":[0.6613927483558655,1.0062074661254883,0.9198173880577087,1.108476996421814,0.7529645562171936,0.7706955671310425,0.8325243592262268,0.8666196465492249,0.7729369401931763,1.3853868246078491,1.288848638534546,1.0156320333480835,1.041366457939148,0.9384775161743164,1.0622098445892334,1.233738899230957,1.0324442386627197,1.0963777303695679,0.899590790271759,1.0654908418655396,1.168720006942749,0.9679601192474365,1.1185046434402466,1.147486686706543,0.9853753447532654,1.128463864326477,1.3498913049697876,1.2010738849639893,1.0333384275436401,1.0971789360046387,1.102759599685669,1.0917155742645264,1.064398169517517,0.9526594281196594,1.0168590545654297,0.8597978949546814,0.7169024348258972,0.8665237426757812,0.8358191251754761,0.8932074904441833,0.8751738667488098,0.9081056118011475,0.9449892044067383,0.8754478096961975,1.1247363090515137,1.0190802812576294,1.123009204864502,0.8870458006858826,1.0517727136611938,1.1940903663635254,1.088276743888855,0.9575521349906921,0.9728271961212158,0.9639793634414673,1.1175113916397095,1.056133508682251,0.938381552696228,1.1185388565063477,1.0986506938934326,0.7886773943901062,0.6666600108146667,0.6929227113723755,0.8046550750732422,0.8909265398979187,0.7509061694145203,0.7988020181655884,1.2776635885238647,0.8412916660308838,0.8387597799301147,0.7436796426773071,1.0291063785552979,1.159446358680725,1.025673508644104,0.91209477186203,0.6938152313232422,0.8981527090072632,1.0119258165359497,0.9714230298995972,0.8758212924003601,0.9433191418647766,0.8515804409980774,0.8972339034080505,0.8990042805671692,0.83370041847229,0.8054847121238708,0.7225508093833923,0.9236341118812561,0.8190693259239197,0.9578768014907837,0.8937169909477234,1.0887078046798706,1.0531963109970093,0.9793809056282043,1.1470928192138672,1.0129985809326172,0.898164689540863,1.060977578163147,1.0565447807312012,0.9591439962387085,1.096016526222229,1.0199490785598755,1.095340371131897,0.9523463249206543,0.9472110271453857,1.0280003547668457,0.8455297946929932,1.0562970638275146,0.9941895008087158,1.0601476430892944,1.277958869934082,1.0548771619796753,1.283963918685913,1.0835285186767578,1.222244381904602,1.2723935842514038,1.1869027614593506,0.9268481731414795,1.0460561513900757,0.9123510122299194,1.0522927045822144,0.8274489045143127,0.9441626667976379,1.0473878383636475,1.0028510093688965,1.049666166305542,0.7319616675376892,0.7416113018989563,0.7705686688423157,0.8406827449798584,0.7336070537567139,0.8293266892433167,0.8584287166595459,0.8618026375770569,0.8242413401603699,0.9442402124404907,0.820532500743866,0.9795284271240234,0.8579146265983582,0.9320480823516846,0.9248936176300049,0.9233611226081848,0.8149558305740356,0.9420809745788574,0.921312153339386,0.8799970746040344,0.9004108905792236,0.9320168495178223,0.8411539196968079,0.8112526535987854,0.7042892575263977,0.8221073746681213,0.8005015254020691,0.8742882609367371,0.8100237250328064,0.9439650177955627,0.9567071199417114,0.955376148223877,1.0004791021347046,0.9241659641265869,0.8688907027244568,0.921174943447113,0.9199227094650269,0.8432403206825256,0.9375861883163452,0.8965754508972168,0.9408878684043884,0.8708415627479553,0.9085241556167603,0.8334886431694031,0.9134271740913391,0.9932901263237,1.1066557168960571,0.9543079137802124,1.0868573188781738,1.1322381496429443,1.2245550155639648,1.1677922010421753,1.2450617551803589,1.1672180891036987,0.9818010330200195,0.6721721291542053,0.9663604497909546,0.6935184001922607,0.448837548494339,0.5565329790115356,0.47034621238708496,0.3573923110961914,0.4169299602508545,0.3825576901435852,0.40508121252059937,0.49872657656669617,0.5195438861846924],\"type\":\"scatter\"}],                        {\"template\":{\"data\":{\"bar\":[{\"error_x\":{\"color\":\"#2a3f5f\"},\"error_y\":{\"color\":\"#2a3f5f\"},\"marker\":{\"line\":{\"color\":\"#E5ECF6\",\"width\":0.5},\"pattern\":{\"fillmode\":\"overlay\",\"size\":10,\"solidity\":0.2}},\"type\":\"bar\"}],\"barpolar\":[{\"marker\":{\"line\":{\"color\":\"#E5ECF6\",\"width\":0.5},\"pattern\":{\"fillmode\":\"overlay\",\"size\":10,\"solidity\":0.2}},\"type\":\"barpolar\"}],\"carpet\":[{\"aaxis\":{\"endlinecolor\":\"#2a3f5f\",\"gridcolor\":\"white\",\"linecolor\":\"white\",\"minorgridcolor\":\"white\",\"startlinecolor\":\"#2a3f5f\"},\"baxis\":{\"endlinecolor\":\"#2a3f5f\",\"gridcolor\":\"white\",\"linecolor\":\"white\",\"minorgridcolor\":\"white\",\"startlinecolor\":\"#2a3f5f\"},\"type\":\"carpet\"}],\"choropleth\":[{\"colorbar\":{\"outlinewidth\":0,\"ticks\":\"\"},\"type\":\"choropleth\"}],\"contour\":[{\"colorbar\":{\"outlinewidth\":0,\"ticks\":\"\"},\"colorscale\":[[0.0,\"#0d0887\"],[0.1111111111111111,\"#46039f\"],[0.2222222222222222,\"#7201a8\"],[0.3333333333333333,\"#9c179e\"],[0.4444444444444444,\"#bd3786\"],[0.5555555555555556,\"#d8576b\"],[0.6666666666666666,\"#ed7953\"],[0.7777777777777778,\"#fb9f3a\"],[0.8888888888888888,\"#fdca26\"],[1.0,\"#f0f921\"]],\"type\":\"contour\"}],\"contourcarpet\":[{\"colorbar\":{\"outlinewidth\":0,\"ticks\":\"\"},\"type\":\"contourcarpet\"}],\"heatmap\":[{\"colorbar\":{\"outlinewidth\":0,\"ticks\":\"\"},\"colorscale\":[[0.0,\"#0d0887\"],[0.1111111111111111,\"#46039f\"],[0.2222222222222222,\"#7201a8\"],[0.3333333333333333,\"#9c179e\"],[0.4444444444444444,\"#bd3786\"],[0.5555555555555556,\"#d8576b\"],[0.6666666666666666,\"#ed7953\"],[0.7777777777777778,\"#fb9f3a\"],[0.8888888888888888,\"#fdca26\"],[1.0,\"#f0f921\"]],\"type\":\"heatmap\"}],\"heatmapgl\":[{\"colorbar\":{\"outlinewidth\":0,\"ticks\":\"\"},\"colorscale\":[[0.0,\"#0d0887\"],[0.1111111111111111,\"#46039f\"],[0.2222222222222222,\"#7201a8\"],[0.3333333333333333,\"#9c179e\"],[0.4444444444444444,\"#bd3786\"],[0.5555555555555556,\"#d8576b\"],[0.6666666666666666,\"#ed7953\"],[0.7777777777777778,\"#fb9f3a\"],[0.8888888888888888,\"#fdca26\"],[1.0,\"#f0f921\"]],\"type\":\"heatmapgl\"}],\"histogram\":[{\"marker\":{\"pattern\":{\"fillmode\":\"overlay\",\"size\":10,\"solidity\":0.2}},\"type\":\"histogram\"}],\"histogram2d\":[{\"colorbar\":{\"outlinewidth\":0,\"ticks\":\"\"},\"colorscale\":[[0.0,\"#0d0887\"],[0.1111111111111111,\"#46039f\"],[0.2222222222222222,\"#7201a8\"],[0.3333333333333333,\"#9c179e\"],[0.4444444444444444,\"#bd3786\"],[0.5555555555555556,\"#d8576b\"],[0.6666666666666666,\"#ed7953\"],[0.7777777777777778,\"#fb9f3a\"],[0.8888888888888888,\"#fdca26\"],[1.0,\"#f0f921\"]],\"type\":\"histogram2d\"}],\"histogram2dcontour\":[{\"colorbar\":{\"outlinewidth\":0,\"ticks\":\"\"},\"colorscale\":[[0.0,\"#0d0887\"],[0.1111111111111111,\"#46039f\"],[0.2222222222222222,\"#7201a8\"],[0.3333333333333333,\"#9c179e\"],[0.4444444444444444,\"#bd3786\"],[0.5555555555555556,\"#d8576b\"],[0.6666666666666666,\"#ed7953\"],[0.7777777777777778,\"#fb9f3a\"],[0.8888888888888888,\"#fdca26\"],[1.0,\"#f0f921\"]],\"type\":\"histogram2dcontour\"}],\"mesh3d\":[{\"colorbar\":{\"outlinewidth\":0,\"ticks\":\"\"},\"type\":\"mesh3d\"}],\"parcoords\":[{\"line\":{\"colorbar\":{\"outlinewidth\":0,\"ticks\":\"\"}},\"type\":\"parcoords\"}],\"pie\":[{\"automargin\":true,\"type\":\"pie\"}],\"scatter\":[{\"marker\":{\"colorbar\":{\"outlinewidth\":0,\"ticks\":\"\"}},\"type\":\"scatter\"}],\"scatter3d\":[{\"line\":{\"colorbar\":{\"outlinewidth\":0,\"ticks\":\"\"}},\"marker\":{\"colorbar\":{\"outlinewidth\":0,\"ticks\":\"\"}},\"type\":\"scatter3d\"}],\"scattercarpet\":[{\"marker\":{\"colorbar\":{\"outlinewidth\":0,\"ticks\":\"\"}},\"type\":\"scattercarpet\"}],\"scattergeo\":[{\"marker\":{\"colorbar\":{\"outlinewidth\":0,\"ticks\":\"\"}},\"type\":\"scattergeo\"}],\"scattergl\":[{\"marker\":{\"colorbar\":{\"outlinewidth\":0,\"ticks\":\"\"}},\"type\":\"scattergl\"}],\"scattermapbox\":[{\"marker\":{\"colorbar\":{\"outlinewidth\":0,\"ticks\":\"\"}},\"type\":\"scattermapbox\"}],\"scatterpolar\":[{\"marker\":{\"colorbar\":{\"outlinewidth\":0,\"ticks\":\"\"}},\"type\":\"scatterpolar\"}],\"scatterpolargl\":[{\"marker\":{\"colorbar\":{\"outlinewidth\":0,\"ticks\":\"\"}},\"type\":\"scatterpolargl\"}],\"scatterternary\":[{\"marker\":{\"colorbar\":{\"outlinewidth\":0,\"ticks\":\"\"}},\"type\":\"scatterternary\"}],\"surface\":[{\"colorbar\":{\"outlinewidth\":0,\"ticks\":\"\"},\"colorscale\":[[0.0,\"#0d0887\"],[0.1111111111111111,\"#46039f\"],[0.2222222222222222,\"#7201a8\"],[0.3333333333333333,\"#9c179e\"],[0.4444444444444444,\"#bd3786\"],[0.5555555555555556,\"#d8576b\"],[0.6666666666666666,\"#ed7953\"],[0.7777777777777778,\"#fb9f3a\"],[0.8888888888888888,\"#fdca26\"],[1.0,\"#f0f921\"]],\"type\":\"surface\"}],\"table\":[{\"cells\":{\"fill\":{\"color\":\"#EBF0F8\"},\"line\":{\"color\":\"white\"}},\"header\":{\"fill\":{\"color\":\"#C8D4E3\"},\"line\":{\"color\":\"white\"}},\"type\":\"table\"}]},\"layout\":{\"annotationdefaults\":{\"arrowcolor\":\"#2a3f5f\",\"arrowhead\":0,\"arrowwidth\":1},\"autotypenumbers\":\"strict\",\"coloraxis\":{\"colorbar\":{\"outlinewidth\":0,\"ticks\":\"\"}},\"colorscale\":{\"diverging\":[[0,\"#8e0152\"],[0.1,\"#c51b7d\"],[0.2,\"#de77ae\"],[0.3,\"#f1b6da\"],[0.4,\"#fde0ef\"],[0.5,\"#f7f7f7\"],[0.6,\"#e6f5d0\"],[0.7,\"#b8e186\"],[0.8,\"#7fbc41\"],[0.9,\"#4d9221\"],[1,\"#276419\"]],\"sequential\":[[0.0,\"#0d0887\"],[0.1111111111111111,\"#46039f\"],[0.2222222222222222,\"#7201a8\"],[0.3333333333333333,\"#9c179e\"],[0.4444444444444444,\"#bd3786\"],[0.5555555555555556,\"#d8576b\"],[0.6666666666666666,\"#ed7953\"],[0.7777777777777778,\"#fb9f3a\"],[0.8888888888888888,\"#fdca26\"],[1.0,\"#f0f921\"]],\"sequentialminus\":[[0.0,\"#0d0887\"],[0.1111111111111111,\"#46039f\"],[0.2222222222222222,\"#7201a8\"],[0.3333333333333333,\"#9c179e\"],[0.4444444444444444,\"#bd3786\"],[0.5555555555555556,\"#d8576b\"],[0.6666666666666666,\"#ed7953\"],[0.7777777777777778,\"#fb9f3a\"],[0.8888888888888888,\"#fdca26\"],[1.0,\"#f0f921\"]]},\"colorway\":[\"#636efa\",\"#EF553B\",\"#00cc96\",\"#ab63fa\",\"#FFA15A\",\"#19d3f3\",\"#FF6692\",\"#B6E880\",\"#FF97FF\",\"#FECB52\"],\"font\":{\"color\":\"#2a3f5f\"},\"geo\":{\"bgcolor\":\"white\",\"lakecolor\":\"white\",\"landcolor\":\"#E5ECF6\",\"showlakes\":true,\"showland\":true,\"subunitcolor\":\"white\"},\"hoverlabel\":{\"align\":\"left\"},\"hovermode\":\"closest\",\"mapbox\":{\"style\":\"light\"},\"paper_bgcolor\":\"white\",\"plot_bgcolor\":\"#E5ECF6\",\"polar\":{\"angularaxis\":{\"gridcolor\":\"white\",\"linecolor\":\"white\",\"ticks\":\"\"},\"bgcolor\":\"#E5ECF6\",\"radialaxis\":{\"gridcolor\":\"white\",\"linecolor\":\"white\",\"ticks\":\"\"}},\"scene\":{\"xaxis\":{\"backgroundcolor\":\"#E5ECF6\",\"gridcolor\":\"white\",\"gridwidth\":2,\"linecolor\":\"white\",\"showbackground\":true,\"ticks\":\"\",\"zerolinecolor\":\"white\"},\"yaxis\":{\"backgroundcolor\":\"#E5ECF6\",\"gridcolor\":\"white\",\"gridwidth\":2,\"linecolor\":\"white\",\"showbackground\":true,\"ticks\":\"\",\"zerolinecolor\":\"white\"},\"zaxis\":{\"backgroundcolor\":\"#E5ECF6\",\"gridcolor\":\"white\",\"gridwidth\":2,\"linecolor\":\"white\",\"showbackground\":true,\"ticks\":\"\",\"zerolinecolor\":\"white\"}},\"shapedefaults\":{\"line\":{\"color\":\"#2a3f5f\"}},\"ternary\":{\"aaxis\":{\"gridcolor\":\"white\",\"linecolor\":\"white\",\"ticks\":\"\"},\"baxis\":{\"gridcolor\":\"white\",\"linecolor\":\"white\",\"ticks\":\"\"},\"bgcolor\":\"#E5ECF6\",\"caxis\":{\"gridcolor\":\"white\",\"linecolor\":\"white\",\"ticks\":\"\"}},\"title\":{\"x\":0.05},\"xaxis\":{\"automargin\":true,\"gridcolor\":\"white\",\"linecolor\":\"white\",\"ticks\":\"\",\"title\":{\"standoff\":15},\"zerolinecolor\":\"white\",\"zerolinewidth\":2},\"yaxis\":{\"automargin\":true,\"gridcolor\":\"white\",\"linecolor\":\"white\",\"ticks\":\"\",\"title\":{\"standoff\":15},\"zerolinecolor\":\"white\",\"zerolinewidth\":2}}},\"shapes\":[{\"type\":\"line\",\"x0\":168,\"x1\":168,\"xref\":\"x\",\"y0\":0,\"y1\":1,\"yref\":\"y domain\"}],\"xaxis\":{\"title\":{\"text\":\"Time Samples\"}},\"yaxis\":{\"title\":{\"text\":\"Normalized Stock Opening Price\"}}},                        {\"responsive\": true}                    ).then(function(){\n",
              "                            \n",
              "var gd = document.getElementById('ad42bdbe-0c2e-4a1e-aca4-e7294c88931d');\n",
              "var x = new MutationObserver(function (mutations, observer) {{\n",
              "        var display = window.getComputedStyle(gd).display;\n",
              "        if (!display || display === 'none') {{\n",
              "            console.log([gd, 'removed!']);\n",
              "            Plotly.purge(gd);\n",
              "            observer.disconnect();\n",
              "        }}\n",
              "}});\n",
              "\n",
              "// Listen for the removal of the full notebook cells\n",
              "var notebookContainer = gd.closest('#notebook-container');\n",
              "if (notebookContainer) {{\n",
              "    x.observe(notebookContainer, {childList: true});\n",
              "}}\n",
              "\n",
              "// Listen for the clearing of the current output cell\n",
              "var outputEl = gd.closest('.output');\n",
              "if (outputEl) {{\n",
              "    x.observe(outputEl, {childList: true});\n",
              "}}\n",
              "\n",
              "                        })                };                            </script>        </div>\n",
              "</body>\n",
              "</html>"
            ]
          },
          "metadata": {}
        },
        {
          "output_type": "display_data",
          "data": {
            "text/html": [
              "<html>\n",
              "<head><meta charset=\"utf-8\" /></head>\n",
              "<body>\n",
              "    <div>            <script src=\"https://cdnjs.cloudflare.com/ajax/libs/mathjax/2.7.5/MathJax.js?config=TeX-AMS-MML_SVG\"></script><script type=\"text/javascript\">if (window.MathJax) {MathJax.Hub.Config({SVG: {font: \"STIX-Web\"}});}</script>                <script type=\"text/javascript\">window.PlotlyConfig = {MathJaxConfig: 'local'};</script>\n",
              "        <script src=\"https://cdn.plot.ly/plotly-2.8.3.min.js\"></script>                <div id=\"c2bf77f3-39b0-40ae-9dba-57d055fa95cf\" class=\"plotly-graph-div\" style=\"height:525px; width:100%;\"></div>            <script type=\"text/javascript\">                                    window.PLOTLYENV=window.PLOTLYENV || {};                                    if (document.getElementById(\"c2bf77f3-39b0-40ae-9dba-57d055fa95cf\")) {                    Plotly.newPlot(                        \"c2bf77f3-39b0-40ae-9dba-57d055fa95cf\",                        [{\"mode\":\"lines\",\"name\":\"Actual\",\"x\":[1.0,2.0,3.0,4.0,5.0,6.0,7.0,8.0,9.0,10.0,11.0,12.0,13.0,14.0,15.0,16.0,17.0,18.0,19.0,20.0,21.0,22.0,23.0,24.0,25.0,26.0,27.0,28.0,29.0,30.0,31.0,32.0,33.0,34.0,35.0,36.0,37.0,38.0,39.0,40.0,41.0,42.0,43.0,44.0,45.0,46.0,47.0,48.0,49.0,50.0,51.0,52.0,53.0,54.0,55.0,56.0,57.0,58.0,59.0,60.0,61.0,62.0,63.0,64.0,65.0,66.0,67.0,68.0,69.0,70.0,71.0,72.0,73.0,74.0,75.0,76.0,77.0,78.0,79.0,80.0,81.0,82.0,83.0,84.0,85.0,86.0,87.0,88.0,89.0,90.0,91.0,92.0,93.0,94.0,95.0,96.0,97.0,98.0,99.0,100.0,101.0,102.0,103.0,104.0,105.0,106.0,107.0,108.0,109.0,110.0,111.0,112.0,113.0,114.0,115.0,116.0,117.0,118.0,119.0,120.0,121.0,122.0,123.0,124.0,125.0,126.0,127.0,128.0,129.0,130.0,131.0,132.0,133.0,134.0,135.0,136.0,137.0,138.0,139.0,140.0,141.0,142.0,143.0,144.0,145.0,146.0,147.0,148.0,149.0,150.0,151.0,152.0,153.0,154.0,155.0,156.0,157.0,158.0,159.0,160.0,161.0,162.0,163.0,164.0,165.0,166.0,167.0,168.0,169.0,170.0,171.0,172.0,173.0,174.0,175.0,176.0,177.0,178.0,179.0,180.0,181.0,182.0,183.0,184.0,185.0,186.0,187.0,188.0,189.0,190.0,191.0,192.0],\"y\":[1.28121018409729,1.272600769996643,1.2305214405059814,1.217253565788269,1.217253565788269,1.1453694105148315,1.128846287727356,1.1227396726608276,1.0702154636383057,1.0223299264907837,0.9766144752502441,0.9574571847915649,1.0702154636383057,1.0685606002807617,1.0735136270523071,1.116579294204712,1.1212046146392822,1.1227396726608276,1.0800634622573853,1.075156807899475,1.016999363899231,1.0258612632751465,1.0134228467941284,0.9878618717193604,0.9952608942985535,0.8816280364990234,0.9133670926094055,0.857401430606842,0.8299784064292908,0.8529049754142761,0.8415356278419495,0.9092175364494324,0.9092175364494324,0.9112954139709473,0.9112954139709473,0.8751035928726196,0.8551568388938904,0.900211751461029,0.919545590877533,1.2775334119796753,1.4253971576690674,1.1843440532684326,1.2078138589859009,1.17728853225708,1.2091702222824097,1.2848676443099976,1.2078138589859009,1.1927177906036377,1.1843440532684326,1.1913291215896606,1.1379072666168213,1.1348999738693237,1.1342365741729736,1.1257996559143066,1.1056662797927856,1.104093313217163,1.148332118988037,1.1744462251663208,1.1556843519210815,1.1542201042175293,1.113478660583496,1.1072357892990112,1.0929820537567139,1.0602267980575562,1.08977472782135,1.0363494157791138,1.0735136270523071,1.096174716949463,1.0652389526367188,1.0517925024032593,1.0187807083129883,1.032870888710022,0.9998458027839661,1.102516770362854,1.007716417312622,0.9893479347229004,0.9771245121955872,0.9634522795677185,0.9496448636054993,0.9476780295372009,0.9709222316741943,0.9256700277328491,0.9236345291137695,0.9437277913093567,0.9317412376403809,0.8944970369338989,0.8923686146736145,0.917492151260376,0.9632596969604492,0.9397550225257874,0.9256700277328491,0.919545590877533,0.8299784064292908,0.825301468372345,0.8346242308616638,0.8506458401679993,0.8253483772277832,0.8323051929473877,0.8707199096679688,0.8923686146736145,0.8751035928726196,0.8640923500061035,0.9077176451683044,0.9008437991142273,0.9187865257263184,0.9145245552062988,0.92972332239151,0.9236345291137695,0.8880921602249146,0.8663085103034973,0.8794599771499634,0.8751035928726196,0.8751035928726196,0.8529049754142761,0.848379373550415,0.8461055755615234,0.8323051929473877,0.8415356278419495,0.827643871307373,0.8529049754142761,0.8859440684318542,0.8761952519416809,0.8859440684318542,0.857401430606842,0.825301468372345,0.8506458401679993,0.8392394185066223,0.815852701663971,0.7941142320632935,0.7965632677078247,0.7965632677078247,0.7916566133499146,0.7891902923583984,0.8229512572288513,0.827643871307373,0.8415356278419495,0.815852701663971,0.815852701663971,0.8038593530654907,0.8014357686042786,0.7941142320632935,0.7511120438575745,0.7614707350730896,0.7511120438575745,0.7272282242774963,0.7352805137634277,0.7511120438575745,0.8038593530654907,0.7792371511459351,0.7796129584312439,0.7566989064216614,0.7916566133499146,0.8134704232215881,0.7563105821609497,0.748498260974884,0.7563105821609497,0.7218080759048462,0.7135981917381287,0.659236490726471,0.7272282242774963,0.7299226522445679,0.7379441261291504,0.7024996280670166,0.7163455486297607,0.7080709338188171,0.7432410717010498,0.6996971964836121,0.7024996280670166,0.6532604098320007,0.6739569902420044,0.6162897944450378,0.7190821170806885,0.7326067090034485,0.7665930986404419,0.7432410717010498,0.7511120438575745,0.7458745837211609,0.7614707350730896,0.7511120438575745,0.6797594428062439,0.6651619076728821,0.6739569902420044,0.6940584778785706,0.6996971964836121,0.6855142116546631,0.659236490726471,0.6487445831298828,0.5905100107192993,0.6099333763122559,0.6225889325141907,0.6622054576873779,0.6547592282295227],\"type\":\"scatter\"},{\"mode\":\"lines\",\"name\":\"Predicted\",\"x\":[1.0,2.0,3.0,4.0,5.0,6.0,7.0,8.0,9.0,10.0,11.0,12.0,13.0,14.0,15.0,16.0,17.0,18.0,19.0,20.0,21.0,22.0,23.0,24.0,25.0,26.0,27.0,28.0,29.0,30.0,31.0,32.0,33.0,34.0,35.0,36.0,37.0,38.0,39.0,40.0,41.0,42.0,43.0,44.0,45.0,46.0,47.0,48.0,49.0,50.0,51.0,52.0,53.0,54.0,55.0,56.0,57.0,58.0,59.0,60.0,61.0,62.0,63.0,64.0,65.0,66.0,67.0,68.0,69.0,70.0,71.0,72.0,73.0,74.0,75.0,76.0,77.0,78.0,79.0,80.0,81.0,82.0,83.0,84.0,85.0,86.0,87.0,88.0,89.0,90.0,91.0,92.0,93.0,94.0,95.0,96.0,97.0,98.0,99.0,100.0,101.0,102.0,103.0,104.0,105.0,106.0,107.0,108.0,109.0,110.0,111.0,112.0,113.0,114.0,115.0,116.0,117.0,118.0,119.0,120.0,121.0,122.0,123.0,124.0,125.0,126.0,127.0,128.0,129.0,130.0,131.0,132.0,133.0,134.0,135.0,136.0,137.0,138.0,139.0,140.0,141.0,142.0,143.0,144.0,145.0,146.0,147.0,148.0,149.0,150.0,151.0,152.0,153.0,154.0,155.0,156.0,157.0,158.0,159.0,160.0,161.0,162.0,163.0,164.0,165.0,166.0,167.0,168.0,169.0,170.0,171.0,172.0,173.0,174.0,175.0,176.0,177.0,178.0,179.0,180.0,181.0,182.0,183.0,184.0,185.0,186.0,187.0,188.0,189.0,190.0,191.0,192.0],\"y\":[1.3671592473983765,1.2248157262802124,1.116918683052063,1.106934666633606,1.4061514139175415,1.2880125045776367,1.1083182096481323,1.224799633026123,1.2103958129882812,1.1008124351501465,1.0041803121566772,1.010217547416687,0.9485378265380859,0.7641348242759705,0.7924619913101196,0.7866617441177368,0.9025359153747559,0.7550860047340393,0.8256754875183105,0.8205099105834961,0.835391104221344,0.7725927233695984,0.834484875202179,0.7851861715316772,0.8454917073249817,0.8095620274543762,0.7338535189628601,0.905168890953064,0.8589546084403992,0.7330430746078491,0.7611696124076843,0.7117511630058289,0.6810107827186584,0.6689351201057434,0.6694448590278625,0.7252940535545349,0.655279815196991,0.6555966138839722,0.6814562678337097,0.7352516651153564,0.7162880301475525,0.8326178193092346,0.983079195022583,0.8819615244865417,1.0205107927322388,0.9483702182769775,0.9710282683372498,1.148717999458313,1.04281485080719,1.278762936592102,1.231608271598816,1.2446415424346924,1.0250812768936157,1.0039455890655518,0.8473910093307495,1.0585535764694214,0.8446725606918335,0.7936996221542358,0.8947249054908752,0.8413332104682922,0.8723471164703369,0.8201687932014465,0.7476969957351685,0.814244270324707,0.8726648688316345,0.794260561466217,0.7659960985183716,0.8342466354370117,0.8175905346870422,0.8127820491790771,0.8525976538658142,0.8559165596961975,0.8325148820877075,0.7835018038749695,0.8150511980056763,0.7704195976257324,0.764604389667511,0.7449467182159424,0.7113309502601624,0.7692422866821289,0.7779009938240051,0.7500501871109009,0.7852253317832947,0.7462105751037598,0.7998912930488586,0.8336083292961121,0.8151251673698425,0.6978319883346558,0.713605523109436,0.742059051990509,0.7144790887832642,0.761172890663147,0.6270158290863037,0.6230548620223999,0.7028195261955261,0.6227023601531982,0.7543156147003174,0.7446203827857971,0.7380788922309875,0.7223032116889954,0.7198125720024109,0.8141635060310364,0.715196430683136,0.7266324758529663,0.7843101024627686,0.6683487892150879,0.8135396242141724,0.7540850043296814,0.7458791732788086,0.7685737013816833,0.7115804553031921,0.7743925452232361,0.796930730342865,0.7928387522697449,0.8305878639221191,0.6487166881561279,0.7615235447883606,0.736423671245575,0.6706876754760742,0.6787930727005005,0.6871975660324097,0.6446098685264587,0.6185362339019775,0.6156218647956848,0.5426551699638367,0.6000105738639832,0.5926811695098877,0.5611871480941772,0.6474636793136597,0.6172032356262207,0.6425223350524902,0.5820231437683105,0.6306789517402649,0.6103324890136719,0.6254386901855469,0.6104919910430908,0.6140467524528503,0.6421035528182983,0.5937367677688599,0.6391677856445312,0.6105310916900635,0.602565586566925,0.6053093075752258,0.585768461227417,0.6179292798042297,0.5683305263519287,0.6263734102249146,0.6012874245643616,0.6433253884315491,0.6740089654922485,0.7016639113426208,0.731712281703949,0.7130101323127747,0.7105122804641724,0.6700025200843811,0.7056631445884705,0.6814848780632019,0.5700401067733765,0.5224810838699341,0.664025604724884,0.6170700788497925,0.5785369873046875,0.5648806095123291,0.5601741075515747,0.5657416582107544,0.5804360508918762,0.5202433466911316,0.5664150714874268,0.6200284957885742,0.576659619808197,0.5997639894485474,0.6232422590255737,0.5487109422683716,0.6031574606895447,0.5781663656234741,0.6702184081077576,0.6064853668212891,0.6795976161956787,0.5628125667572021,0.5456488132476807,0.5653768181800842,0.5662488341331482,0.5913264751434326,0.5482328534126282,0.5265145301818848,0.5375639200210571,0.46349844336509705,0.530327558517456,0.45976224541664124,0.47811654210090637,0.40027186274528503,0.45170384645462036],\"type\":\"scatter\"}],                        {\"template\":{\"data\":{\"bar\":[{\"error_x\":{\"color\":\"#2a3f5f\"},\"error_y\":{\"color\":\"#2a3f5f\"},\"marker\":{\"line\":{\"color\":\"#E5ECF6\",\"width\":0.5},\"pattern\":{\"fillmode\":\"overlay\",\"size\":10,\"solidity\":0.2}},\"type\":\"bar\"}],\"barpolar\":[{\"marker\":{\"line\":{\"color\":\"#E5ECF6\",\"width\":0.5},\"pattern\":{\"fillmode\":\"overlay\",\"size\":10,\"solidity\":0.2}},\"type\":\"barpolar\"}],\"carpet\":[{\"aaxis\":{\"endlinecolor\":\"#2a3f5f\",\"gridcolor\":\"white\",\"linecolor\":\"white\",\"minorgridcolor\":\"white\",\"startlinecolor\":\"#2a3f5f\"},\"baxis\":{\"endlinecolor\":\"#2a3f5f\",\"gridcolor\":\"white\",\"linecolor\":\"white\",\"minorgridcolor\":\"white\",\"startlinecolor\":\"#2a3f5f\"},\"type\":\"carpet\"}],\"choropleth\":[{\"colorbar\":{\"outlinewidth\":0,\"ticks\":\"\"},\"type\":\"choropleth\"}],\"contour\":[{\"colorbar\":{\"outlinewidth\":0,\"ticks\":\"\"},\"colorscale\":[[0.0,\"#0d0887\"],[0.1111111111111111,\"#46039f\"],[0.2222222222222222,\"#7201a8\"],[0.3333333333333333,\"#9c179e\"],[0.4444444444444444,\"#bd3786\"],[0.5555555555555556,\"#d8576b\"],[0.6666666666666666,\"#ed7953\"],[0.7777777777777778,\"#fb9f3a\"],[0.8888888888888888,\"#fdca26\"],[1.0,\"#f0f921\"]],\"type\":\"contour\"}],\"contourcarpet\":[{\"colorbar\":{\"outlinewidth\":0,\"ticks\":\"\"},\"type\":\"contourcarpet\"}],\"heatmap\":[{\"colorbar\":{\"outlinewidth\":0,\"ticks\":\"\"},\"colorscale\":[[0.0,\"#0d0887\"],[0.1111111111111111,\"#46039f\"],[0.2222222222222222,\"#7201a8\"],[0.3333333333333333,\"#9c179e\"],[0.4444444444444444,\"#bd3786\"],[0.5555555555555556,\"#d8576b\"],[0.6666666666666666,\"#ed7953\"],[0.7777777777777778,\"#fb9f3a\"],[0.8888888888888888,\"#fdca26\"],[1.0,\"#f0f921\"]],\"type\":\"heatmap\"}],\"heatmapgl\":[{\"colorbar\":{\"outlinewidth\":0,\"ticks\":\"\"},\"colorscale\":[[0.0,\"#0d0887\"],[0.1111111111111111,\"#46039f\"],[0.2222222222222222,\"#7201a8\"],[0.3333333333333333,\"#9c179e\"],[0.4444444444444444,\"#bd3786\"],[0.5555555555555556,\"#d8576b\"],[0.6666666666666666,\"#ed7953\"],[0.7777777777777778,\"#fb9f3a\"],[0.8888888888888888,\"#fdca26\"],[1.0,\"#f0f921\"]],\"type\":\"heatmapgl\"}],\"histogram\":[{\"marker\":{\"pattern\":{\"fillmode\":\"overlay\",\"size\":10,\"solidity\":0.2}},\"type\":\"histogram\"}],\"histogram2d\":[{\"colorbar\":{\"outlinewidth\":0,\"ticks\":\"\"},\"colorscale\":[[0.0,\"#0d0887\"],[0.1111111111111111,\"#46039f\"],[0.2222222222222222,\"#7201a8\"],[0.3333333333333333,\"#9c179e\"],[0.4444444444444444,\"#bd3786\"],[0.5555555555555556,\"#d8576b\"],[0.6666666666666666,\"#ed7953\"],[0.7777777777777778,\"#fb9f3a\"],[0.8888888888888888,\"#fdca26\"],[1.0,\"#f0f921\"]],\"type\":\"histogram2d\"}],\"histogram2dcontour\":[{\"colorbar\":{\"outlinewidth\":0,\"ticks\":\"\"},\"colorscale\":[[0.0,\"#0d0887\"],[0.1111111111111111,\"#46039f\"],[0.2222222222222222,\"#7201a8\"],[0.3333333333333333,\"#9c179e\"],[0.4444444444444444,\"#bd3786\"],[0.5555555555555556,\"#d8576b\"],[0.6666666666666666,\"#ed7953\"],[0.7777777777777778,\"#fb9f3a\"],[0.8888888888888888,\"#fdca26\"],[1.0,\"#f0f921\"]],\"type\":\"histogram2dcontour\"}],\"mesh3d\":[{\"colorbar\":{\"outlinewidth\":0,\"ticks\":\"\"},\"type\":\"mesh3d\"}],\"parcoords\":[{\"line\":{\"colorbar\":{\"outlinewidth\":0,\"ticks\":\"\"}},\"type\":\"parcoords\"}],\"pie\":[{\"automargin\":true,\"type\":\"pie\"}],\"scatter\":[{\"marker\":{\"colorbar\":{\"outlinewidth\":0,\"ticks\":\"\"}},\"type\":\"scatter\"}],\"scatter3d\":[{\"line\":{\"colorbar\":{\"outlinewidth\":0,\"ticks\":\"\"}},\"marker\":{\"colorbar\":{\"outlinewidth\":0,\"ticks\":\"\"}},\"type\":\"scatter3d\"}],\"scattercarpet\":[{\"marker\":{\"colorbar\":{\"outlinewidth\":0,\"ticks\":\"\"}},\"type\":\"scattercarpet\"}],\"scattergeo\":[{\"marker\":{\"colorbar\":{\"outlinewidth\":0,\"ticks\":\"\"}},\"type\":\"scattergeo\"}],\"scattergl\":[{\"marker\":{\"colorbar\":{\"outlinewidth\":0,\"ticks\":\"\"}},\"type\":\"scattergl\"}],\"scattermapbox\":[{\"marker\":{\"colorbar\":{\"outlinewidth\":0,\"ticks\":\"\"}},\"type\":\"scattermapbox\"}],\"scatterpolar\":[{\"marker\":{\"colorbar\":{\"outlinewidth\":0,\"ticks\":\"\"}},\"type\":\"scatterpolar\"}],\"scatterpolargl\":[{\"marker\":{\"colorbar\":{\"outlinewidth\":0,\"ticks\":\"\"}},\"type\":\"scatterpolargl\"}],\"scatterternary\":[{\"marker\":{\"colorbar\":{\"outlinewidth\":0,\"ticks\":\"\"}},\"type\":\"scatterternary\"}],\"surface\":[{\"colorbar\":{\"outlinewidth\":0,\"ticks\":\"\"},\"colorscale\":[[0.0,\"#0d0887\"],[0.1111111111111111,\"#46039f\"],[0.2222222222222222,\"#7201a8\"],[0.3333333333333333,\"#9c179e\"],[0.4444444444444444,\"#bd3786\"],[0.5555555555555556,\"#d8576b\"],[0.6666666666666666,\"#ed7953\"],[0.7777777777777778,\"#fb9f3a\"],[0.8888888888888888,\"#fdca26\"],[1.0,\"#f0f921\"]],\"type\":\"surface\"}],\"table\":[{\"cells\":{\"fill\":{\"color\":\"#EBF0F8\"},\"line\":{\"color\":\"white\"}},\"header\":{\"fill\":{\"color\":\"#C8D4E3\"},\"line\":{\"color\":\"white\"}},\"type\":\"table\"}]},\"layout\":{\"annotationdefaults\":{\"arrowcolor\":\"#2a3f5f\",\"arrowhead\":0,\"arrowwidth\":1},\"autotypenumbers\":\"strict\",\"coloraxis\":{\"colorbar\":{\"outlinewidth\":0,\"ticks\":\"\"}},\"colorscale\":{\"diverging\":[[0,\"#8e0152\"],[0.1,\"#c51b7d\"],[0.2,\"#de77ae\"],[0.3,\"#f1b6da\"],[0.4,\"#fde0ef\"],[0.5,\"#f7f7f7\"],[0.6,\"#e6f5d0\"],[0.7,\"#b8e186\"],[0.8,\"#7fbc41\"],[0.9,\"#4d9221\"],[1,\"#276419\"]],\"sequential\":[[0.0,\"#0d0887\"],[0.1111111111111111,\"#46039f\"],[0.2222222222222222,\"#7201a8\"],[0.3333333333333333,\"#9c179e\"],[0.4444444444444444,\"#bd3786\"],[0.5555555555555556,\"#d8576b\"],[0.6666666666666666,\"#ed7953\"],[0.7777777777777778,\"#fb9f3a\"],[0.8888888888888888,\"#fdca26\"],[1.0,\"#f0f921\"]],\"sequentialminus\":[[0.0,\"#0d0887\"],[0.1111111111111111,\"#46039f\"],[0.2222222222222222,\"#7201a8\"],[0.3333333333333333,\"#9c179e\"],[0.4444444444444444,\"#bd3786\"],[0.5555555555555556,\"#d8576b\"],[0.6666666666666666,\"#ed7953\"],[0.7777777777777778,\"#fb9f3a\"],[0.8888888888888888,\"#fdca26\"],[1.0,\"#f0f921\"]]},\"colorway\":[\"#636efa\",\"#EF553B\",\"#00cc96\",\"#ab63fa\",\"#FFA15A\",\"#19d3f3\",\"#FF6692\",\"#B6E880\",\"#FF97FF\",\"#FECB52\"],\"font\":{\"color\":\"#2a3f5f\"},\"geo\":{\"bgcolor\":\"white\",\"lakecolor\":\"white\",\"landcolor\":\"#E5ECF6\",\"showlakes\":true,\"showland\":true,\"subunitcolor\":\"white\"},\"hoverlabel\":{\"align\":\"left\"},\"hovermode\":\"closest\",\"mapbox\":{\"style\":\"light\"},\"paper_bgcolor\":\"white\",\"plot_bgcolor\":\"#E5ECF6\",\"polar\":{\"angularaxis\":{\"gridcolor\":\"white\",\"linecolor\":\"white\",\"ticks\":\"\"},\"bgcolor\":\"#E5ECF6\",\"radialaxis\":{\"gridcolor\":\"white\",\"linecolor\":\"white\",\"ticks\":\"\"}},\"scene\":{\"xaxis\":{\"backgroundcolor\":\"#E5ECF6\",\"gridcolor\":\"white\",\"gridwidth\":2,\"linecolor\":\"white\",\"showbackground\":true,\"ticks\":\"\",\"zerolinecolor\":\"white\"},\"yaxis\":{\"backgroundcolor\":\"#E5ECF6\",\"gridcolor\":\"white\",\"gridwidth\":2,\"linecolor\":\"white\",\"showbackground\":true,\"ticks\":\"\",\"zerolinecolor\":\"white\"},\"zaxis\":{\"backgroundcolor\":\"#E5ECF6\",\"gridcolor\":\"white\",\"gridwidth\":2,\"linecolor\":\"white\",\"showbackground\":true,\"ticks\":\"\",\"zerolinecolor\":\"white\"}},\"shapedefaults\":{\"line\":{\"color\":\"#2a3f5f\"}},\"ternary\":{\"aaxis\":{\"gridcolor\":\"white\",\"linecolor\":\"white\",\"ticks\":\"\"},\"baxis\":{\"gridcolor\":\"white\",\"linecolor\":\"white\",\"ticks\":\"\"},\"bgcolor\":\"#E5ECF6\",\"caxis\":{\"gridcolor\":\"white\",\"linecolor\":\"white\",\"ticks\":\"\"}},\"title\":{\"x\":0.05},\"xaxis\":{\"automargin\":true,\"gridcolor\":\"white\",\"linecolor\":\"white\",\"ticks\":\"\",\"title\":{\"standoff\":15},\"zerolinecolor\":\"white\",\"zerolinewidth\":2},\"yaxis\":{\"automargin\":true,\"gridcolor\":\"white\",\"linecolor\":\"white\",\"ticks\":\"\",\"title\":{\"standoff\":15},\"zerolinecolor\":\"white\",\"zerolinewidth\":2}}},\"shapes\":[{\"type\":\"line\",\"x0\":168,\"x1\":168,\"xref\":\"x\",\"y0\":0,\"y1\":1,\"yref\":\"y domain\"}],\"xaxis\":{\"title\":{\"text\":\"Time Samples\"}},\"yaxis\":{\"title\":{\"text\":\"Normalized Stock Opening Price\"}}},                        {\"responsive\": true}                    ).then(function(){\n",
              "                            \n",
              "var gd = document.getElementById('c2bf77f3-39b0-40ae-9dba-57d055fa95cf');\n",
              "var x = new MutationObserver(function (mutations, observer) {{\n",
              "        var display = window.getComputedStyle(gd).display;\n",
              "        if (!display || display === 'none') {{\n",
              "            console.log([gd, 'removed!']);\n",
              "            Plotly.purge(gd);\n",
              "            observer.disconnect();\n",
              "        }}\n",
              "}});\n",
              "\n",
              "// Listen for the removal of the full notebook cells\n",
              "var notebookContainer = gd.closest('#notebook-container');\n",
              "if (notebookContainer) {{\n",
              "    x.observe(notebookContainer, {childList: true});\n",
              "}}\n",
              "\n",
              "// Listen for the clearing of the current output cell\n",
              "var outputEl = gd.closest('.output');\n",
              "if (outputEl) {{\n",
              "    x.observe(outputEl, {childList: true});\n",
              "}}\n",
              "\n",
              "                        })                };                            </script>        </div>\n",
              "</body>\n",
              "</html>"
            ]
          },
          "metadata": {}
        }
      ],
      "source": [
        "for i in range(5):\n",
        "  plot_test_output_data(overall_price_label.detach().cpu(),overall_price_pred.detach().cpu(), window_id=3000, cov_id=i)"
      ]
    },
    {
      "cell_type": "code",
      "execution_count": null,
      "metadata": {
        "id": "KCT5FFL1d1Uy"
      },
      "outputs": [],
      "source": [
        ""
      ]
    }
  ],
  "metadata": {
    "accelerator": "GPU",
    "colab": {
      "collapsed_sections": [],
      "name": "DL_192Vectors_Group_Data_SectorEmbed_WeightedLoss_Debayan_v2.ipynb",
      "provenance": [],
      "include_colab_link": true
    },
    "kernelspec": {
      "display_name": "Python 3",
      "name": "python3"
    },
    "language_info": {
      "name": "python"
    }
  },
  "nbformat": 4,
  "nbformat_minor": 0
}