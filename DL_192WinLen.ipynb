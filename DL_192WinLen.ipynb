{
  "nbformat": 4,
  "nbformat_minor": 0,
  "metadata": {
    "colab": {
      "name": "DL-192WinLen.ipynb",
      "provenance": [],
      "collapsed_sections": [],
      "machine_shape": "hm"
    },
    "kernelspec": {
      "name": "python3",
      "display_name": "Python 3"
    },
    "language_info": {
      "name": "python"
    },
    "accelerator": "GPU"
  },
  "cells": [
    {
      "cell_type": "code",
      "execution_count": null,
      "metadata": {
        "colab": {
          "base_uri": "https://localhost:8080/"
        },
        "id": "s6rSZ8BZaVEW",
        "outputId": "3667d329-a23a-443d-d70c-cb94508aec7a"
      },
      "outputs": [
        {
          "output_type": "stream",
          "name": "stdout",
          "text": [
            "Cloning into 'idl-spring-22-project-deepar'...\n",
            "remote: Enumerating objects: 1677, done.\u001b[K\n",
            "remote: Counting objects: 100% (1677/1677), done.\u001b[K\n",
            "remote: Compressing objects: 100% (914/914), done.\u001b[K\n",
            "remote: Total 1677 (delta 786), reused 1621 (delta 757), pack-reused 0\u001b[K\n",
            "Receiving objects: 100% (1677/1677), 81.12 MiB | 22.42 MiB/s, done.\n",
            "Resolving deltas: 100% (786/786), done.\n",
            "Checking out files: 100% (1934/1934), done.\n"
          ]
        }
      ],
      "source": [
        "!git clone https://github.com/priyank96/idl-spring-22-project-deepar"
      ]
    },
    {
      "cell_type": "code",
      "source": [
        "from google.colab import drive\n",
        "\n",
        "drive.mount('/content/drive', force_remount=True)"
      ],
      "metadata": {
        "colab": {
          "base_uri": "https://localhost:8080/"
        },
        "id": "gOKL2f9bayY_",
        "outputId": "47955fa6-5332-42b4-9746-9bfffd72c0de"
      },
      "execution_count": null,
      "outputs": [
        {
          "output_type": "stream",
          "name": "stdout",
          "text": [
            "Mounted at /content/drive\n"
          ]
        }
      ]
    },
    {
      "cell_type": "code",
      "source": [
        "import numpy as np\n",
        "import torch\n",
        "import torch.nn as nn\n",
        "import torch.nn.functional as F\n",
        "from torch.autograd import Variable\n",
        "import logging\n",
        "from sklearn import preprocessing\n",
        "import torch.optim as optim\n",
        "from tqdm import tqdm\n",
        "import os\n",
        "device = 'cuda' if torch.cuda.is_available() else 'cpu'\n"
      ],
      "metadata": {
        "id": "QhJqZTrRCGn5"
      },
      "execution_count": null,
      "outputs": []
    },
    {
      "cell_type": "code",
      "source": [
        "!python3 /content/idl-spring-22-project-deepar/src/data/company_data.py"
      ],
      "metadata": {
        "id": "jrVlqh83a4kv",
        "colab": {
          "base_uri": "https://localhost:8080/"
        },
        "outputId": "b86cae08-6b5e-47a5-81f9-18620dd80996"
      },
      "execution_count": null,
      "outputs": [
        {
          "output_type": "stream",
          "name": "stdout",
          "text": [
            "  8% 96/1151 [00:29<03:45,  4.68it/s]/usr/local/lib/python3.7/dist-packages/scipy/stats/stats.py:2419: RuntimeWarning: invalid value encountered in true_divide\n",
            "  return (a - mns) / sstd\n",
            " 12% 134/1151 [00:41<04:30,  3.77it/s]"
          ]
        }
      ]
    },
    {
      "cell_type": "code",
      "source": [
        "import pickle\n",
        "with open('/content/idl-spring-22-project-deepar/data/index_to_company.pkl','rb') as f:\n",
        "  index_to_company = pickle.load(f)\n",
        "\n",
        "with open('/content/idl-spring-22-project-deepar/data/company_to_index.pkl','rb') as f:\n",
        "  company_to_index = pickle.load(f)"
      ],
      "metadata": {
        "id": "D_XgpTjpeCCc"
      },
      "execution_count": null,
      "outputs": []
    },
    {
      "cell_type": "code",
      "source": [
        "print(index_to_company)\n",
        "print(company_to_index)"
      ],
      "metadata": {
        "colab": {
          "base_uri": "https://localhost:8080/"
        },
        "id": "oVkGYeXZLtyr",
        "outputId": "0fb740d6-79e3-4ad8-f97f-7a96b3e1e0c4"
      },
      "execution_count": null,
      "outputs": [
        {
          "output_type": "stream",
          "name": "stdout",
          "text": [
            "{0: 'MCD', 1: 'BEEM', 2: 'XXII', 3: 'RWB', 4: 'PSTV', 5: 'OPAD', 6: 'XHB', 7: 'DBMM', 8: 'V', 9: 'AMT'}\n",
            "{'MCD': 0, 'BEEM': 1, 'XXII': 2, 'RWB': 3, 'PSTV': 4, 'OPAD': 5, 'XHB': 6, 'DBMM': 7, 'V': 8, 'AMT': 9}\n"
          ]
        }
      ]
    },
    {
      "cell_type": "code",
      "source": [
        "DATA_PATH = '/content/idl-spring-22-project-deepar/data'\n",
        "\n",
        "\n",
        "\n",
        "stock_inputs = np.load(DATA_PATH + '/stock_inputs.npy', allow_pickle=True)\n",
        "stock_labels = np.load(DATA_PATH + '/stock_labels.npy', allow_pickle=True)\n",
        "\n",
        "stock_test_inputs = np.load(DATA_PATH + '/stock_test_inputs.npy',allow_pickle=True)\n",
        "stock_test_labels = np.load(DATA_PATH + '/stock_test_labels.npy',allow_pickle=True)"
      ],
      "metadata": {
        "id": "gHNJzGpqA1cc"
      },
      "execution_count": null,
      "outputs": []
    },
    {
      "cell_type": "code",
      "source": [
        "NUM_TRAIN_SAMPLES = 10000\n",
        "NUM_TEST_SAMPLES  = 3800\n",
        "\n",
        "stock_inputs_trimmed = stock_inputs[:NUM_TRAIN_SAMPLES,:,:]\n",
        "stock_labels_trimmed = stock_labels[:NUM_TRAIN_SAMPLES,:]\n",
        "\n",
        "stock_test_inputs_trimmed = stock_test_inputs[:NUM_TEST_SAMPLES,:,:]\n",
        "stock_test_labels_trimmed = stock_test_labels[:NUM_TEST_SAMPLES,:]"
      ],
      "metadata": {
        "id": "PX3BN2JaM1JO"
      },
      "execution_count": null,
      "outputs": []
    },
    {
      "cell_type": "code",
      "source": [
        "print('stock_inputs_trimmed shape', stock_inputs_trimmed.shape)\n",
        "print('stock_labels_trimmed shape', stock_labels_trimmed.shape)\n",
        "print('stock_test_inputs_trimmed shape', stock_test_inputs_trimmed.shape)\n",
        "print('stock_test_labels_trimmed shape', stock_test_labels_trimmed.shape)"
      ],
      "metadata": {
        "colab": {
          "base_uri": "https://localhost:8080/"
        },
        "id": "HJJrrFcGGHSE",
        "outputId": "451f1015-23cb-40c4-c9e7-3a739668587c"
      },
      "execution_count": null,
      "outputs": [
        {
          "output_type": "stream",
          "name": "stdout",
          "text": [
            "stock_inputs_trimmed shape (10000, 192, 5)\n",
            "stock_labels_trimmed shape (10000, 192)\n",
            "stock_test_inputs_trimmed shape (3800, 192, 5)\n",
            "stock_test_labels_trimmed shape (3800, 192)\n"
          ]
        }
      ]
    },
    {
      "cell_type": "code",
      "source": [
        "# On the Filtered input, check the number of actual companies retained\n",
        "\n",
        "train_comp_ids = set()\n",
        "test_comp_ids  = set()\n",
        "\n",
        "# Every Seq in the window will belong to the same company\n",
        "# Hence seq_id = 0\n",
        "# cov_id = -1 (last index)\n",
        "seq_id = 0\n",
        "cov_id = -1\n",
        "\n",
        "for sample in range(0, NUM_TRAIN_SAMPLES):\n",
        "  train_comp_ids.add(stock_inputs_trimmed[sample][seq_id][cov_id])\n",
        "\n",
        "for sample in range(0, NUM_TEST_SAMPLES):\n",
        "  test_comp_ids.add(stock_test_inputs_trimmed[sample][seq_id][cov_id])\n",
        "\n",
        "\n"
      ],
      "metadata": {
        "id": "UsTi4kSfB7oO"
      },
      "execution_count": null,
      "outputs": []
    },
    {
      "cell_type": "code",
      "source": [
        "print(sorted(train_comp_ids))\n",
        "print(len(train_comp_ids))\n",
        "print(sorted(test_comp_ids))\n",
        "print(len(test_comp_ids))\n"
      ],
      "metadata": {
        "colab": {
          "base_uri": "https://localhost:8080/"
        },
        "id": "l6mWP1FaFQ4l",
        "outputId": "81ad9357-6d20-41da-b214-2e8f5715a2d6"
      },
      "execution_count": null,
      "outputs": [
        {
          "output_type": "stream",
          "name": "stdout",
          "text": [
            "[0.0, 1.0, 2.0, 3.0, 4.0]\n",
            "5\n",
            "[0.0, 1.0, 2.0, 4.0]\n",
            "4\n"
          ]
        }
      ]
    },
    {
      "cell_type": "code",
      "source": [
        "\n",
        "params = {\n",
        "    'num_classes': len(train_comp_ids),\n",
        "    'embedding_dim':5,\n",
        "    'cov_dim': 4,\n",
        "    'lstm_hidden_dim': 64,\n",
        "    'lstm_layers':4 ,\n",
        "    'window_size':192,\n",
        "    'batch_size': 96,\n",
        "    'learning_rate': 1e-3,\n",
        "    'epochs':20,\n",
        "    'num_test_samples': NUM_TEST_SAMPLES,\n",
        "    'num_train_samples': NUM_TRAIN_SAMPLES,\n",
        "    'conditioning_period': 168,\n",
        "    'prediction_period': 24\n",
        "}\n",
        "\n",
        "print(params)"
      ],
      "metadata": {
        "id": "2gBCEnkxeIRa",
        "colab": {
          "base_uri": "https://localhost:8080/"
        },
        "outputId": "70b60b08-adf3-4f7f-8d43-25ee3e2eea89"
      },
      "execution_count": null,
      "outputs": [
        {
          "output_type": "stream",
          "name": "stdout",
          "text": [
            "{'num_classes': 5, 'embedding_dim': 5, 'cov_dim': 4, 'lstm_hidden_dim': 64, 'lstm_layers': 4, 'window_size': 192, 'batch_size': 96, 'learning_rate': 0.001, 'epochs': 20, 'num_test_samples': 3800, 'num_train_samples': 10000, 'conditioning_period': 168, 'prediction_period': 24}\n"
          ]
        }
      ]
    },
    {
      "cell_type": "code",
      "source": [
        "import numpy as np\n",
        "import torch\n",
        "from torch.utils.data import Dataset, Sampler\n",
        "from pathlib import Path\n",
        "import sys\n",
        "\n",
        "DATA_PATH = '/content/idl-spring-22-project-deepar/data'\n",
        "\n",
        "\n",
        "class TrainDataset(Dataset):\n",
        "    def __init__(self):\n",
        "        self.data = stock_inputs_trimmed\n",
        "        self.label = stock_labels_trimmed\n",
        "        self.train_len = self.data.shape[0]\n",
        "\n",
        "\n",
        "    def __len__(self):\n",
        "        return self.train_len\n",
        "  \n",
        "    def __getitem__(self, index):\n",
        "        x1 = torch.from_numpy(self.data[index].astype(np.float32))\n",
        "        x2 = torch.from_numpy(self.label[index].astype(np.float32))\n",
        "        return x1, x2  \n",
        "\n",
        "class TestDataset(Dataset):\n",
        "    def __init__(self):\n",
        "        self.data = stock_test_inputs_trimmed\n",
        "        self.label = stock_test_labels_trimmed\n",
        "        self.test_len = self.data.shape[0]\n",
        "        \n",
        "    def __len__(self):\n",
        "        return self.test_len\n",
        "\n",
        "    def __getitem__(self, index):\n",
        "      x1 = torch.from_numpy(self.data[index].astype(np.float32))\n",
        "      x2 = torch.from_numpy(self.label[index].astype(np.float32))\n",
        "\n",
        "      return x1, x2\n"
      ],
      "metadata": {
        "id": "MIZTYqXUVoi1"
      },
      "execution_count": null,
      "outputs": []
    },
    {
      "cell_type": "code",
      "source": [
        ""
      ],
      "metadata": {
        "id": "voHeSadqvPqm"
      },
      "execution_count": null,
      "outputs": []
    },
    {
      "cell_type": "code",
      "source": [
        ""
      ],
      "metadata": {
        "id": "ouypF3ESvnmM"
      },
      "execution_count": null,
      "outputs": []
    },
    {
      "cell_type": "code",
      "source": [
        ""
      ],
      "metadata": {
        "id": "7u2onuLFuw6J"
      },
      "execution_count": null,
      "outputs": []
    },
    {
      "cell_type": "code",
      "source": [
        "def unwindow_sequence(dataset):\n",
        "  company_data = {}\n",
        "\n",
        "  seq_id = 0\n",
        "  company_index_cov_id = -1\n",
        "\n",
        "  for cov_ip, cov_op in dataset:\n",
        "\n",
        "    comp_index = cov_ip[seq_id][company_index_cov_id]\n",
        "    company_name = index_to_company[comp_index.item()]\n",
        "\n",
        "    # IP Shape (Time, Dim)\n",
        "    # OP Shape (Time, 1) # One covariate (open price) per time instant\n",
        "    if company_data.get(company_name, None) is None:\n",
        "      company_data[company_name] = [cov_ip, cov_op]\n",
        "      \n",
        "    else:\n",
        "      # windows are created with stride 1\n",
        "      # so we should be appending only the last element in the sequence\n",
        "      cov_ip_last = cov_ip[-1, :].unsqueeze(0)\n",
        "      cov_op_last = cov_op[-1].unsqueeze(0)\n",
        "\n",
        "      # 0 --> Covariates\n",
        "      # 1 --> Outputs, aka stock price\n",
        "      company_data[company_name][0] = torch.cat((company_data[company_name][0], cov_ip_last), dim=0)\n",
        "      company_data[company_name][1] = torch.cat((company_data[company_name][1], cov_op_last), dim=0)\n",
        "\n",
        "  return company_data"
      ],
      "metadata": {
        "id": "A4X3rPbndhOO"
      },
      "execution_count": null,
      "outputs": []
    },
    {
      "cell_type": "code",
      "source": [
        "train_data = TrainDataset()\n",
        "test_data  = TestDataset()\n",
        "\n",
        "train_loader = torch.utils.data.DataLoader(train_data, batch_size=params['batch_size'], shuffle=True)\n",
        "test_loader = torch.utils.data.DataLoader(test_data, batch_size=params['batch_size'], shuffle=False)\n",
        "\n",
        "train_data_unwindowed = unwindow_sequence(train_data)\n",
        "test_data_unwindowed = unwindow_sequence(test_data)"
      ],
      "metadata": {
        "id": "a3I7J_ZLesq9"
      },
      "execution_count": null,
      "outputs": []
    },
    {
      "cell_type": "code",
      "source": [
        "print(train_data_unwindowed.keys())\n",
        "print(len(train_data_unwindowed))"
      ],
      "metadata": {
        "colab": {
          "base_uri": "https://localhost:8080/"
        },
        "id": "PfarZzbpfVYW",
        "outputId": "939dc88e-32b6-4f75-80d9-33edfe933136"
      },
      "execution_count": null,
      "outputs": [
        {
          "output_type": "stream",
          "name": "stdout",
          "text": [
            "dict_keys(['MCD', 'BEEM', 'XXII', 'RWB', 'PSTV'])\n",
            "5\n"
          ]
        }
      ]
    },
    {
      "cell_type": "code",
      "source": [
        "print(test_data_unwindowed.keys())\n",
        "print(len(test_data_unwindowed))\n",
        "# Some Companies are there in the Train Set, But not in the Test Set. \n",
        "# However, all companies in the Test Set is there in the Train Set"
      ],
      "metadata": {
        "colab": {
          "base_uri": "https://localhost:8080/"
        },
        "id": "9RIM0FdPfY_H",
        "outputId": "100085f0-5898-49c2-b9e3-5e7727517b1d"
      },
      "execution_count": null,
      "outputs": [
        {
          "output_type": "stream",
          "name": "stdout",
          "text": [
            "dict_keys(['MCD', 'BEEM', 'XXII', 'PSTV'])\n",
            "4\n"
          ]
        }
      ]
    },
    {
      "cell_type": "code",
      "source": [
        "import plotly.express as px\n",
        "\n",
        "def plot_output(company_data, company_name):\n",
        "  # 1st index is output (prediction)\n",
        "  x=np.linspace(1, len(company_data[company_name][1]), num=len(company_data[company_name][1]))\n",
        "  fig = px.line(x=x, y=company_data[company_name][1])\n",
        "  fig.show()\n",
        "  print(\"op\", company_data[company_name][1])\n",
        "\n",
        "def plot_input_covariate(company_data, company_name, covariate_index):\n",
        "  # 0th index is input (the covariates)\n",
        "  x=np.linspace(1, company_data[company_name][0].shape[0], num=len(company_data[company_name][0][:,covariate_index]))\n",
        "  fig = px.line(x=x, y=company_data[company_name][0][:,covariate_index])\n",
        "  fig.show()\n",
        "  print(\"ip\", company_data[company_name][0][:,covariate_index])"
      ],
      "metadata": {
        "id": "_fCXS59hf_H_"
      },
      "execution_count": null,
      "outputs": []
    },
    {
      "cell_type": "code",
      "source": [
        "# SANITY Check One: Output Label (open price) is shifted by one element of input (the ip opening price)\n",
        "plot_output(train_data_unwindowed, 'MCD')\n",
        "plot_input_covariate(train_data_unwindowed, 'MCD', 0)"
      ],
      "metadata": {
        "id": "fIUvehTUgFtu"
      },
      "execution_count": null,
      "outputs": []
    },
    {
      "cell_type": "code",
      "source": [
        "\n",
        "# SANITY Check TWO: Train and Test data are contiguous\n",
        "plot_input_covariate(train_data_unwindowed, 'MCD', 0)\n",
        "plot_input_covariate(test_data_unwindowed, 'MCD', 0)\n"
      ],
      "metadata": {
        "id": "wpVU2-KdhsSm"
      },
      "execution_count": null,
      "outputs": []
    },
    {
      "cell_type": "code",
      "source": [
        "# SANITY Check TWO for Output Labels: Train and Test data are contiguous\n",
        "\n",
        "plot_output(train_data_unwindowed, 'MCD')\n",
        "plot_output(test_data_unwindowed, 'MCD')"
      ],
      "metadata": {
        "id": "Rt9Fm3SLiMDL"
      },
      "execution_count": null,
      "outputs": []
    },
    {
      "cell_type": "code",
      "source": [
        "plot_input_covariate(train_data_unwindowed, 'MCD', 0)  # Opening Price\n",
        "plot_input_covariate(train_data_unwindowed, 'MCD', 1)  # Volume\n",
        "plot_input_covariate(train_data_unwindowed, 'MCD', 2)  # Day\n",
        "plot_input_covariate(train_data_unwindowed, 'MCD', 3)  # Month\n",
        "plot_input_covariate(train_data_unwindowed, 'MCD', 4)  # Company ID\n"
      ],
      "metadata": {
        "id": "afJE-VfWiqd8"
      },
      "execution_count": null,
      "outputs": []
    },
    {
      "cell_type": "code",
      "source": [
        "# Sanity Check - Plot Windows\n",
        "\n",
        "import plotly.express as px\n",
        "\n",
        "def plot_output_windowed(company_data, window_id):\n",
        "  # 1st index is output (prediction)\n",
        "  x=np.linspace(1, len(company_data[window_id][1]), num=len(company_data[window_id][1]))\n",
        "  fig = px.line(x=x, y=company_data[window_id][1])\n",
        "  fig.show()\n",
        "  print(\"op\", company_data[window_id][1])\n",
        "\n",
        "def plot_input_covariate_windowed(company_data, window_id, covariate_index):\n",
        "  # 0th index is input (the covariates)\n",
        "  x=np.linspace(1, company_data[window_id][0].shape[0], num=len(company_data[window_id][0][:,covariate_index]))\n",
        "  fig = px.line(x=x, y=company_data[window_id][0][:,covariate_index])\n",
        "  fig.show()\n",
        "  print(\"ip\", company_data[window_id][0][:,covariate_index])\n"
      ],
      "metadata": {
        "id": "Z8N_bPQejFVE"
      },
      "execution_count": null,
      "outputs": []
    },
    {
      "cell_type": "code",
      "source": [
        "plot_output_windowed(test_data, 0)\n",
        "plot_input_covariate_windowed(test_data, 0, 0)"
      ],
      "metadata": {
        "id": "bkNshbJDj9BF"
      },
      "execution_count": null,
      "outputs": []
    },
    {
      "cell_type": "code",
      "source": [
        "print('train data shape', train_data[0][0].shape)"
      ],
      "metadata": {
        "colab": {
          "base_uri": "https://localhost:8080/"
        },
        "id": "QNeTdLsCmwS-",
        "outputId": "dcea4fe5-f2c5-4f53-908f-ad9b0544ee82"
      },
      "execution_count": null,
      "outputs": [
        {
          "output_type": "stream",
          "name": "stdout",
          "text": [
            "train data shape torch.Size([192, 5])\n"
          ]
        }
      ]
    },
    {
      "cell_type": "markdown",
      "source": [
        "# MODEL\n"
      ],
      "metadata": {
        "id": "159ySGUzmwsD"
      }
    },
    {
      "cell_type": "code",
      "source": [
        "class Network(nn.Module):\n",
        "    def __init__(self, params):\n",
        "        '''\n",
        "        We define a recurrent network that predicts the \n",
        "        future values of a time-dependent variable based on\n",
        "        past inputs and covariates.\n",
        "        '''\n",
        "        super(Network, self).__init__()\n",
        "        self.params = params\n",
        "        self.embedding = nn.Embedding(params['num_classes'], params['embedding_dim'])\n",
        "\n",
        "        self.lstm = nn.LSTM(input_size=params['cov_dim']+params['embedding_dim'],\n",
        "                            hidden_size=params['lstm_hidden_dim'],\n",
        "                            num_layers=params['lstm_layers'],\n",
        "                            bias=True,\n",
        "                            batch_first=True,\n",
        "                          )\n",
        "\n",
        "        self.distribution_mu = nn.Linear(params['lstm_hidden_dim'], 1)\n",
        "        self.distribution_presigma = nn.Linear(params['lstm_hidden_dim'], 1)\n",
        "        self.distribution_sigma = nn.Softplus()\n",
        "\n",
        "\n",
        "    def forward(self, x, h0_c0=None):\n",
        "        '''\n",
        "        Predict mu and sigma of the distribution for z_t.\n",
        "        '''\n",
        "        cov = x[:, :, :-1]   # remove the company index from the inputs to get the covariates\n",
        "\n",
        "        company_index = x[:, 0, -1].to(torch.int32)  # retrieve the company index from the covariates\n",
        "        onehot_embed = self.embedding(company_index)\n",
        "        \n",
        "        batch_size = cov.shape[0]\n",
        "        seq_len = cov.shape[1]\n",
        "        cov_dim = cov.shape[2]\n",
        "\n",
        "        assert cov_dim == params['cov_dim']\n",
        "        assert batch_size <= params['batch_size']\n",
        "\n",
        "        ohe_embed_all_timestamps = onehot_embed.unsqueeze(1).repeat(1,seq_len,1)\n",
        "\n",
        "        lstm_input = torch.cat(\n",
        "            (cov,\n",
        "             ohe_embed_all_timestamps\n",
        "            ), dim=2\n",
        "          )\n",
        "        \n",
        "        assert lstm_input.shape[0] <= params['batch_size']\n",
        "        assert lstm_input.shape[1] == seq_len\n",
        "        assert lstm_input.shape[2] == params['cov_dim'] + params['embedding_dim']\n",
        "\n",
        "        out1, hn_cn = self.lstm(input=lstm_input, hx=h0_c0)\n",
        "              \n",
        "        out_mu = self.distribution_mu(out1)\n",
        "        \n",
        "        out_presigma = self.distribution_presigma(out1)\n",
        "        out_sigma = self.distribution_sigma(out_presigma)\n",
        "\n",
        "        return out_mu, out_sigma, hn_cn\n",
        "\n"
      ],
      "metadata": {
        "id": "HLxjSYBzmyuz"
      },
      "execution_count": null,
      "outputs": []
    },
    {
      "cell_type": "code",
      "source": [
        "model = Network(params)"
      ],
      "metadata": {
        "id": "Vbbtree1rJtc"
      },
      "execution_count": null,
      "outputs": []
    },
    {
      "cell_type": "code",
      "source": [
        "for i, (ip_covariate, op_label) in enumerate(train_loader):\n",
        "  out_mu, out_sigma, ht_ct = model.forward(x=ip_covariate)\n",
        "\n",
        "  print('out mu shape', out_mu.shape)\n",
        "  print('out_sigma shape', out_sigma.shape)\n",
        "  print('ht shape', ht_ct[0].shape, ht_ct[1].shape)\n",
        "\n",
        "\n",
        "  break"
      ],
      "metadata": {
        "colab": {
          "base_uri": "https://localhost:8080/"
        },
        "id": "FnnFJ1zbpxt6",
        "outputId": "0f9cd333-74f7-4e39-8ce4-2085f062bb08"
      },
      "execution_count": null,
      "outputs": [
        {
          "output_type": "stream",
          "name": "stdout",
          "text": [
            "out mu shape torch.Size([96, 192, 1])\n",
            "out_sigma shape torch.Size([96, 192, 1])\n",
            "ht shape torch.Size([4, 96, 64]) torch.Size([4, 96, 64])\n"
          ]
        }
      ]
    },
    {
      "cell_type": "code",
      "source": [
        "def loss_fn(mu,sigma,labels):\n",
        "  mu = torch.squeeze(mu)\n",
        "  sigma = torch.squeeze(sigma)\n",
        "  total_likelihood = 0\n",
        "  for i in range(mu.shape[0]):  # loop through batch\n",
        "    for j in range(mu.shape[1]):# each batch  loop through time steps\n",
        "      distribution = torch.distributions.normal.Normal(mu[i][j] , sigma[i][j]) # scaling the values by 10 to avoid small sigma values\n",
        "      total_likelihood += distribution.log_prob(labels[i][j])\n",
        "  return -1*total_likelihood/(mu.shape[0]*mu.shape[1])"
      ],
      "metadata": {
        "id": "Jm5a4Llp2zED"
      },
      "execution_count": null,
      "outputs": []
    },
    {
      "cell_type": "code",
      "source": [
        "def accuracy_RMSE_train(mu: torch.Tensor, labels: torch.Tensor):\n",
        "  mu = mu.cpu().detach().numpy()\n",
        "  labels = labels.cpu().detach().numpy()\n",
        "\n",
        "  diff = np.sum((mu - labels) ** 2, axis=1)\n",
        "  summation = np.sum(np.abs(labels), axis=1)\n",
        "  result = (np.sqrt(diff) / summation)\n",
        "  n = len(result)\n",
        "  result = np.sum(result)/n\n",
        "  return result"
      ],
      "metadata": {
        "id": "LsOsJxAc2jLz"
      },
      "execution_count": null,
      "outputs": []
    },
    {
      "cell_type": "code",
      "source": [
        "def accuracy_RMSE_test(predictions: torch.Tensor, labels: torch.Tensor):\n",
        "  predictions = predictions.cpu().detach().numpy()\n",
        "  labels = labels.cpu().detach().numpy()\n",
        "\n",
        "  diff = np.sum((predictions - labels) ** 2, axis=1)\n",
        "  summation = np.sum(np.abs(labels), axis=1)\n",
        "  result = (np.sqrt(diff) / summation)\n",
        "  n = len(result)\n",
        "  result = np.sum(result)/n\n",
        "  return result"
      ],
      "metadata": {
        "id": "bVC7DwdB31aB"
      },
      "execution_count": null,
      "outputs": []
    },
    {
      "cell_type": "code",
      "source": [
        "conditionining_period = params['conditioning_period']\n",
        "prediction_period     = params['prediction_period']\n",
        "\n",
        "assert conditionining_period + prediction_period == params['window_size']"
      ],
      "metadata": {
        "id": "daBqug-S4G_u"
      },
      "execution_count": null,
      "outputs": []
    },
    {
      "cell_type": "code",
      "source": [
        "def validate(model):\n",
        "\n",
        "  model.eval()\n",
        "  model.cuda()\n",
        "  total_RMSE = 0\n",
        "\n",
        "  overall_mu = None\n",
        "  overall_sigma = None\n",
        "  overall_label = None\n",
        "\n",
        "  with torch.no_grad():\n",
        "    # batch_bar = tqdm(total=len(test_loader), dynamic_ncols=True, leave=False, position=0, desc='Test') \n",
        "\n",
        "    for i, (ip_covariate, op_label) in enumerate(test_loader):\n",
        "      ip_covariate = ip_covariate.cuda()\n",
        "      op_label     = op_label.cuda()\n",
        "\n",
        "      cond_ip = ip_covariate[:, 0:conditionining_period, :]\n",
        "      cond_op = op_label[:, 0:conditionining_period]\n",
        "\n",
        "      pred_ip = ip_covariate[:, conditionining_period: , :]\n",
        "      pred_op = op_label[:,  conditionining_period: ]\n",
        "\n",
        "      # Step One - Forward Pass : Conditioning Period    \n",
        "      mu, sigma, ht_ct = model(x=cond_ip, h0_c0=None)\n",
        "\n",
        "      batch_mu = mu.squeeze()\n",
        "      batch_sigma = sigma.squeeze()\n",
        "\n",
        "      # Initialize pred_mu for the first time instance of the \"prediction period\"\n",
        "      # from the value of the \"predicted mu\" from the last instance of the \"conditioning period\"\n",
        "      pred_mu, pred_sigma = mu[:, -1, :].unsqueeze(1), sigma[:, -1, :].unsqueeze(1)\n",
        "\n",
        "      for t in range(0, prediction_period):\n",
        "        pred_cov_ip = pred_ip[:, t, :].unsqueeze(1)\n",
        "        pred_cov_ip[:, 0, 0] = pred_mu[:, 0, 0]\n",
        "        \n",
        "        pred_mu, pred_sigma, ht_ct = model(x=pred_cov_ip, h0_c0=ht_ct)\n",
        "        \n",
        "        batch_mu = torch.cat((batch_mu,  pred_mu.squeeze(2)), dim=1)\n",
        "        batch_sigma = torch.cat((batch_sigma, pred_sigma.squeeze(2)), dim=1)\n",
        "\n",
        "\n",
        "      if overall_mu is None and overall_sigma is None:\n",
        "        overall_mu = batch_mu\n",
        "        overall_sigma = batch_sigma\n",
        "        overall_label = op_label\n",
        "      else:\n",
        "        overall_mu = torch.cat((overall_mu,  batch_mu), dim=0)\n",
        "        overall_sigma = torch.cat((overall_sigma, batch_sigma), dim=0)\n",
        "        overall_label = torch.cat((overall_label, op_label), dim=0)\n",
        "        \n",
        "  rmse = accuracy_RMSE_test(overall_mu, overall_label)\n",
        "\n",
        "  return rmse\n",
        "\n",
        "\n",
        "\n",
        "\n",
        "\n"
      ],
      "metadata": {
        "id": "2EiINuG35aeA"
      },
      "execution_count": null,
      "outputs": []
    },
    {
      "cell_type": "code",
      "source": [
        "# rmse = accuracy_RMSE_train(overall_mu, overall_label)\n",
        "# print(\"rmse \", rmse)"
      ],
      "metadata": {
        "id": "FAz_9RzgNiPz"
      },
      "execution_count": null,
      "outputs": []
    },
    {
      "cell_type": "code",
      "source": [
        ""
      ],
      "metadata": {
        "id": "kQ6wFWORLyHh"
      },
      "execution_count": null,
      "outputs": []
    },
    {
      "cell_type": "code",
      "source": [
        "def plot_output_data(data, window_id):\n",
        "  # 1st index is output (prediction)\n",
        "  x=np.linspace(1, len(data[window_id]), num=len(data[window_id]))\n",
        "  fig = px.line(x=x, y=data[window_id])\n",
        "  fig.show()\n",
        "  # print(\"op\", data[window_id])\n"
      ],
      "metadata": {
        "id": "watBKVnZKui7"
      },
      "execution_count": null,
      "outputs": []
    },
    {
      "cell_type": "code",
      "source": [
        ""
      ],
      "metadata": {
        "id": "hGrrdwJeOgWi"
      },
      "execution_count": null,
      "outputs": []
    },
    {
      "cell_type": "markdown",
      "source": [
        "# TRAIN"
      ],
      "metadata": {
        "id": "HkE5Pm5dOh9T"
      }
    },
    {
      "cell_type": "code",
      "source": [
        "model_version='deepar_model_refined_v1.pt'\n",
        "epochs = params['epochs']\n",
        "\n",
        "best_dev_rmse = 10000\n",
        "\n",
        "model = Network(params)\n",
        "optimizer = torch.optim.Adam(model.parameters(), lr=params['learning_rate'])\n",
        "scheduler = optim.lr_scheduler.ExponentialLR(optimizer, gamma=0.9)\n",
        "\n",
        "print(model)\n",
        "\n",
        "for epoch in range(0, epochs):\n",
        "    batch_bar = tqdm(total=len(train_loader), dynamic_ncols=True, leave=False, position=0, desc='Train') \n",
        "    model.train()\n",
        "    model.cuda()\n",
        "\n",
        "    total_loss = 0\n",
        "\n",
        "    if os.path.exists(f'/content/drive/MyDrive/DeepARExperiments/{model_version}'):\n",
        "        # model.load_state_dict(torch.load(f'{SAVE_PATH}{EXP_TAG}/model_saved_epoch{epoch-1}.pt')) \n",
        "\n",
        "        checkpoint = torch.load(f'/content/drive/MyDrive/DeepARExperiments/{model_version}')\n",
        "        model.load_state_dict(checkpoint['model_state_dict'])\n",
        "        optimizer.load_state_dict(checkpoint['optimizer_state_dict'])\n",
        "        epoch = checkpoint['epoch'] + 1\n",
        "\n",
        "    for i, (ip_covariate, op_label) in enumerate(train_loader):\n",
        "        optimizer.zero_grad()\n",
        "\n",
        "        ip_covariate = ip_covariate.cuda()\n",
        "        op_label     = op_label.cuda()\n",
        "\n",
        "        mu, sigma, ht_ct = model(x=ip_covariate, h0_c0=None)\n",
        "\n",
        "        # print('mu shape', mu.shape, 'sigma shape', sigma.shape, 'op label', op_label.shape)\n",
        "        loss = loss_fn(mu, sigma, op_label)\n",
        "\n",
        "        # print(\"loss\", loss)\n",
        "\n",
        "        total_loss += float(loss)\n",
        "        loss.backward()\n",
        "        optimizer.step()\n",
        "\n",
        "        # tqdm lets you add some details so you can monitor training as you train.\n",
        "        batch_bar.set_postfix(\n",
        "            loss=\"{:.04f}\".format(float(total_loss / (i + 1))),\n",
        "            lr=\"{:.04f}\".format(float(optimizer.param_groups[0]['lr'])))\n",
        "        \n",
        "        batch_bar.update() \n",
        "\n",
        "    batch_bar.close() # You need this to close the tqdm bar\n",
        "    val_rmse= validate(model=model)\n",
        "    scheduler.step()\n",
        "\n",
        "    torch.save({\n",
        "            'epoch': epoch,\n",
        "            'model_state_dict': model.state_dict(),\n",
        "            'optimizer_state_dict': optimizer.state_dict(),\n",
        "            'loss': total_loss/len(train_loader),\n",
        "            },  f'/content/drive/MyDrive/DeepARExperiments/{model_version}')\n",
        "  \n",
        "\n",
        "    if val_rmse < best_dev_rmse:\n",
        "      best_dev_rmse = val_rmse\n",
        "      torch.save({\n",
        "              'epoch': epoch,\n",
        "              'model_state_dict': model.state_dict(),\n",
        "              'optimizer_state_dict': optimizer.state_dict(),\n",
        "              'val_rmse': val_rmse,\n",
        "              'loss': total_loss/len(train_loader),\n",
        "              },  f'/content/drive/MyDrive/DeepARExperiments/best_dev_acc_{best_dev_rmse}_{model_version}')\n",
        "    \n",
        "    print(\"Epoch {}/{}: Train Loss {:.04f}, Learning Rate {:.04f}\".format(\n",
        "        epoch + 1,\n",
        "        epochs,\n",
        "        float(total_loss / len(train_loader)),\n",
        "        float(optimizer.param_groups[0]['lr'])))\n",
        "    print(\"rmse is \", val_rmse)"
      ],
      "metadata": {
        "colab": {
          "base_uri": "https://localhost:8080/",
          "height": 796
        },
        "id": "ZH7aqY2-Lyy2",
        "outputId": "063ff1bb-0697-4af5-8920-97d98ea18c8c"
      },
      "execution_count": null,
      "outputs": [
        {
          "output_type": "stream",
          "name": "stdout",
          "text": [
            "Network(\n",
            "  (embedding): Embedding(5, 5)\n",
            "  (lstm): LSTM(9, 64, num_layers=4, batch_first=True)\n",
            "  (distribution_mu): Linear(in_features=64, out_features=1, bias=True)\n",
            "  (distribution_presigma): Linear(in_features=64, out_features=1, bias=True)\n",
            "  (distribution_sigma): Softplus(beta=1, threshold=20)\n",
            ")\n"
          ]
        },
        {
          "output_type": "stream",
          "name": "stderr",
          "text": [
            ""
          ]
        },
        {
          "output_type": "stream",
          "name": "stdout",
          "text": [
            "Epoch 1/20: Train Loss -0.0018, Learning Rate 0.0009\n",
            "rmse is  0.03337807906301398\n"
          ]
        },
        {
          "output_type": "stream",
          "name": "stderr",
          "text": [
            ""
          ]
        },
        {
          "output_type": "stream",
          "name": "stdout",
          "text": [
            "Epoch 2/20: Train Loss -0.8738, Learning Rate 0.0008\n",
            "rmse is  0.035066721062911185\n"
          ]
        },
        {
          "output_type": "stream",
          "name": "stderr",
          "text": [
            ""
          ]
        },
        {
          "output_type": "stream",
          "name": "stdout",
          "text": [
            "Epoch 3/20: Train Loss -0.8931, Learning Rate 0.0007\n",
            "rmse is  0.03652589095266242\n"
          ]
        },
        {
          "output_type": "stream",
          "name": "stderr",
          "text": [
            ""
          ]
        },
        {
          "output_type": "stream",
          "name": "stdout",
          "text": [
            "Epoch 4/20: Train Loss -1.1262, Learning Rate 0.0007\n",
            "rmse is  0.03405877364309211\n"
          ]
        },
        {
          "output_type": "stream",
          "name": "stderr",
          "text": [
            ""
          ]
        },
        {
          "output_type": "stream",
          "name": "stdout",
          "text": [
            "Epoch 5/20: Train Loss -1.3426, Learning Rate 0.0006\n",
            "rmse is  0.038799787822522615\n"
          ]
        },
        {
          "output_type": "stream",
          "name": "stderr",
          "text": [
            ""
          ]
        },
        {
          "output_type": "stream",
          "name": "stdout",
          "text": [
            "Epoch 6/20: Train Loss -1.4072, Learning Rate 0.0005\n",
            "rmse is  0.03297350632516961\n"
          ]
        },
        {
          "output_type": "stream",
          "name": "stderr",
          "text": [
            ""
          ]
        },
        {
          "output_type": "stream",
          "name": "stdout",
          "text": [
            "Epoch 7/20: Train Loss -1.8283, Learning Rate 0.0005\n",
            "rmse is  0.03312451212029708\n"
          ]
        },
        {
          "output_type": "stream",
          "name": "stderr",
          "text": [
            ""
          ]
        },
        {
          "output_type": "stream",
          "name": "stdout",
          "text": [
            "Epoch 8/20: Train Loss -1.8957, Learning Rate 0.0004\n",
            "rmse is  0.033601050125925166\n"
          ]
        },
        {
          "output_type": "stream",
          "name": "stderr",
          "text": [
            "Train:  45%|████▍     | 47/105 [09:52<12:08, 12.57s/it, loss=-1.8698, lr=0.0004]"
          ]
        },
        {
          "output_type": "error",
          "ename": "KeyboardInterrupt",
          "evalue": "ignored",
          "traceback": [
            "\u001b[0;31m---------------------------------------------------------------------------\u001b[0m",
            "\u001b[0;31mKeyboardInterrupt\u001b[0m                         Traceback (most recent call last)",
            "\u001b[0;32m<ipython-input-307-196f78d22e8c>\u001b[0m in \u001b[0;36m<module>\u001b[0;34m()\u001b[0m\n\u001b[1;32m     39\u001b[0m \u001b[0;34m\u001b[0m\u001b[0m\n\u001b[1;32m     40\u001b[0m         \u001b[0mtotal_loss\u001b[0m \u001b[0;34m+=\u001b[0m \u001b[0mfloat\u001b[0m\u001b[0;34m(\u001b[0m\u001b[0mloss\u001b[0m\u001b[0;34m)\u001b[0m\u001b[0;34m\u001b[0m\u001b[0;34m\u001b[0m\u001b[0m\n\u001b[0;32m---> 41\u001b[0;31m         \u001b[0mloss\u001b[0m\u001b[0;34m.\u001b[0m\u001b[0mbackward\u001b[0m\u001b[0;34m(\u001b[0m\u001b[0;34m)\u001b[0m\u001b[0;34m\u001b[0m\u001b[0;34m\u001b[0m\u001b[0m\n\u001b[0m\u001b[1;32m     42\u001b[0m         \u001b[0moptimizer\u001b[0m\u001b[0;34m.\u001b[0m\u001b[0mstep\u001b[0m\u001b[0;34m(\u001b[0m\u001b[0;34m)\u001b[0m\u001b[0;34m\u001b[0m\u001b[0;34m\u001b[0m\u001b[0m\n\u001b[1;32m     43\u001b[0m \u001b[0;34m\u001b[0m\u001b[0m\n",
            "\u001b[0;32m/usr/local/lib/python3.7/dist-packages/torch/_tensor.py\u001b[0m in \u001b[0;36mbackward\u001b[0;34m(self, gradient, retain_graph, create_graph, inputs)\u001b[0m\n\u001b[1;32m    305\u001b[0m                 \u001b[0mcreate_graph\u001b[0m\u001b[0;34m=\u001b[0m\u001b[0mcreate_graph\u001b[0m\u001b[0;34m,\u001b[0m\u001b[0;34m\u001b[0m\u001b[0;34m\u001b[0m\u001b[0m\n\u001b[1;32m    306\u001b[0m                 inputs=inputs)\n\u001b[0;32m--> 307\u001b[0;31m         \u001b[0mtorch\u001b[0m\u001b[0;34m.\u001b[0m\u001b[0mautograd\u001b[0m\u001b[0;34m.\u001b[0m\u001b[0mbackward\u001b[0m\u001b[0;34m(\u001b[0m\u001b[0mself\u001b[0m\u001b[0;34m,\u001b[0m \u001b[0mgradient\u001b[0m\u001b[0;34m,\u001b[0m \u001b[0mretain_graph\u001b[0m\u001b[0;34m,\u001b[0m \u001b[0mcreate_graph\u001b[0m\u001b[0;34m,\u001b[0m \u001b[0minputs\u001b[0m\u001b[0;34m=\u001b[0m\u001b[0minputs\u001b[0m\u001b[0;34m)\u001b[0m\u001b[0;34m\u001b[0m\u001b[0;34m\u001b[0m\u001b[0m\n\u001b[0m\u001b[1;32m    308\u001b[0m \u001b[0;34m\u001b[0m\u001b[0m\n\u001b[1;32m    309\u001b[0m     \u001b[0;32mdef\u001b[0m \u001b[0mregister_hook\u001b[0m\u001b[0;34m(\u001b[0m\u001b[0mself\u001b[0m\u001b[0;34m,\u001b[0m \u001b[0mhook\u001b[0m\u001b[0;34m)\u001b[0m\u001b[0;34m:\u001b[0m\u001b[0;34m\u001b[0m\u001b[0;34m\u001b[0m\u001b[0m\n",
            "\u001b[0;32m/usr/local/lib/python3.7/dist-packages/torch/autograd/__init__.py\u001b[0m in \u001b[0;36mbackward\u001b[0;34m(tensors, grad_tensors, retain_graph, create_graph, grad_variables, inputs)\u001b[0m\n\u001b[1;32m    154\u001b[0m     Variable._execution_engine.run_backward(\n\u001b[1;32m    155\u001b[0m         \u001b[0mtensors\u001b[0m\u001b[0;34m,\u001b[0m \u001b[0mgrad_tensors_\u001b[0m\u001b[0;34m,\u001b[0m \u001b[0mretain_graph\u001b[0m\u001b[0;34m,\u001b[0m \u001b[0mcreate_graph\u001b[0m\u001b[0;34m,\u001b[0m \u001b[0minputs\u001b[0m\u001b[0;34m,\u001b[0m\u001b[0;34m\u001b[0m\u001b[0;34m\u001b[0m\u001b[0m\n\u001b[0;32m--> 156\u001b[0;31m         allow_unreachable=True, accumulate_grad=True)  # allow_unreachable flag\n\u001b[0m\u001b[1;32m    157\u001b[0m \u001b[0;34m\u001b[0m\u001b[0m\n\u001b[1;32m    158\u001b[0m \u001b[0;34m\u001b[0m\u001b[0m\n",
            "\u001b[0;31mKeyboardInterrupt\u001b[0m: "
          ]
        }
      ]
    },
    {
      "cell_type": "code",
      "source": [
        "checkpoint = torch.load(f'/content/deepar_model_refined_v1.pt')\n",
        "model.load_state_dict(checkpoint['model_state_dict'])"
      ],
      "metadata": {
        "id": "clgyN8kmDfMi",
        "colab": {
          "base_uri": "https://localhost:8080/"
        },
        "outputId": "bf669bcb-614b-4d8f-872c-39a54bff39ef"
      },
      "execution_count": null,
      "outputs": [
        {
          "output_type": "execute_result",
          "data": {
            "text/plain": [
              "<All keys matched successfully>"
            ]
          },
          "metadata": {},
          "execution_count": 41
        }
      ]
    },
    {
      "cell_type": "code",
      "source": [
        "\n",
        "\n",
        "model.eval()\n",
        "model.cuda()\n",
        "\n",
        "\n",
        "total_RMSE = 0\n",
        "\n",
        "overall_mu = None\n",
        "overall_sigma = None\n",
        "overall_label = None\n",
        "\n",
        "with torch.no_grad():\n",
        "  # batch_bar = tqdm(total=len(test_loader), dynamic_ncols=True, leave=False, position=0, desc='Test') \n",
        "\n",
        "  for i, (ip_covariate, op_label) in enumerate(test_loader):\n",
        "    ip_covariate = ip_covariate.cuda()\n",
        "    op_label     = op_label.cuda()\n",
        "\n",
        "    cond_ip = ip_covariate[:, 0:conditionining_period, :]\n",
        "    cond_op = op_label[:, 0:conditionining_period]\n",
        "\n",
        "    pred_ip = ip_covariate[:, conditionining_period: , :]\n",
        "    pred_op = op_label[:,  conditionining_period: ]\n",
        "\n",
        "    # Step One - Forward Pass : Conditioning Period    \n",
        "    mu, sigma, ht_ct = model(x=cond_ip, h0_c0=None)\n",
        "\n",
        "    batch_mu = mu.squeeze()\n",
        "    batch_sigma = sigma.squeeze()\n",
        "\n",
        "    # Initialize pred_mu for the first time instance of the \"prediction period\"\n",
        "    # from the value of the \"predicted mu\" from the last instance of the \"conditioning period\"\n",
        "    pred_mu, pred_sigma = mu[:, -1, :].unsqueeze(1), sigma[:, -1, :].unsqueeze(1)\n",
        "\n",
        "    for t in range(0, prediction_period):\n",
        "      pred_cov_ip = pred_ip[:, t, :].unsqueeze(1)\n",
        "      pred_cov_ip[:, 0, 0] = pred_mu[:, 0, 0]\n",
        "      \n",
        "      pred_mu, pred_sigma, ht_ct = model(x=pred_cov_ip, h0_c0=ht_ct)\n",
        "      \n",
        "      batch_mu = torch.cat((batch_mu,  pred_mu.squeeze(2)), dim=1)\n",
        "      batch_sigma = torch.cat((batch_sigma, pred_sigma.squeeze(2)), dim=1)\n",
        "\n",
        "\n",
        "    if overall_mu is None and overall_sigma is None:\n",
        "      overall_mu = batch_mu\n",
        "      overall_sigma = batch_sigma\n",
        "      overall_label = op_label\n",
        "    else:\n",
        "      overall_mu = torch.cat((overall_mu,  batch_mu), dim=0)\n",
        "      overall_sigma = torch.cat((overall_sigma, batch_sigma), dim=0)\n",
        "      overall_label = torch.cat((overall_label, op_label), dim=0)"
      ],
      "metadata": {
        "id": "KOXHL5I9OJEi"
      },
      "execution_count": null,
      "outputs": []
    },
    {
      "cell_type": "code",
      "source": [
        "import pandas as pd\n",
        "import plotly.graph_objects as go\n",
        "def plot_test_output_data(actual,predicted, window_id):\n",
        "  x=np.linspace(1, len(actual[window_id]), num=len(actual[window_id]))\n",
        "  df = pd.DataFrame()\n",
        "  df['actual'] = actual[window_id]\n",
        "  df['predicted'] = predicted[window_id]\n",
        "\n",
        "  fig = go.Figure()\n",
        "  fig.add_vline(x=168)\n",
        "  fig.add_traces(go.Scatter(x=x, y = df['actual'], mode = 'lines', name = 'Actual'))\n",
        "  fig.add_traces(go.Scatter(x=x, y = df['predicted'], mode = 'lines', name = 'Predicted'))\n",
        "  fig.show()"
      ],
      "metadata": {
        "id": "znPHdL8uh7Js"
      },
      "execution_count": null,
      "outputs": []
    },
    {
      "cell_type": "code",
      "source": [
        "# #s for the paper 3500 420\n",
        "plot_test_output_data(overall_label.cpu().numpy(),overall_mu.cpu().numpy(), 2500  )"
      ],
      "metadata": {
        "colab": {
          "base_uri": "https://localhost:8080/",
          "height": 542
        },
        "id": "Nhjp9OCpDnId",
        "outputId": "93cc72e8-6a8c-49bf-9ab7-f23a939c6615"
      },
      "execution_count": null,
      "outputs": [
        {
          "output_type": "display_data",
          "data": {
            "text/html": [
              "<html>\n",
              "<head><meta charset=\"utf-8\" /></head>\n",
              "<body>\n",
              "    <div>            <script src=\"https://cdnjs.cloudflare.com/ajax/libs/mathjax/2.7.5/MathJax.js?config=TeX-AMS-MML_SVG\"></script><script type=\"text/javascript\">if (window.MathJax) {MathJax.Hub.Config({SVG: {font: \"STIX-Web\"}});}</script>                <script type=\"text/javascript\">window.PlotlyConfig = {MathJaxConfig: 'local'};</script>\n",
              "        <script src=\"https://cdn.plot.ly/plotly-2.8.3.min.js\"></script>                <div id=\"20143c7b-4682-484c-a2a2-54801f865bc7\" class=\"plotly-graph-div\" style=\"height:525px; width:100%;\"></div>            <script type=\"text/javascript\">                                    window.PLOTLYENV=window.PLOTLYENV || {};                                    if (document.getElementById(\"20143c7b-4682-484c-a2a2-54801f865bc7\")) {                    Plotly.newPlot(                        \"20143c7b-4682-484c-a2a2-54801f865bc7\",                        [{\"mode\":\"lines\",\"name\":\"Actual\",\"x\":[1.0,2.0,3.0,4.0,5.0,6.0,7.0,8.0,9.0,10.0,11.0,12.0,13.0,14.0,15.0,16.0,17.0,18.0,19.0,20.0,21.0,22.0,23.0,24.0,25.0,26.0,27.0,28.0,29.0,30.0,31.0,32.0,33.0,34.0,35.0,36.0,37.0,38.0,39.0,40.0,41.0,42.0,43.0,44.0,45.0,46.0,47.0,48.0,49.0,50.0,51.0,52.0,53.0,54.0,55.0,56.0,57.0,58.0,59.0,60.0,61.0,62.0,63.0,64.0,65.0,66.0,67.0,68.0,69.0,70.0,71.0,72.0,73.0,74.0,75.0,76.0,77.0,78.0,79.0,80.0,81.0,82.0,83.0,84.0,85.0,86.0,87.0,88.0,89.0,90.0,91.0,92.0,93.0,94.0,95.0,96.0,97.0,98.0,99.0,100.0,101.0,102.0,103.0,104.0,105.0,106.0,107.0,108.0,109.0,110.0,111.0,112.0,113.0,114.0,115.0,116.0,117.0,118.0,119.0,120.0,121.0,122.0,123.0,124.0,125.0,126.0,127.0,128.0,129.0,130.0,131.0,132.0,133.0,134.0,135.0,136.0,137.0,138.0,139.0,140.0,141.0,142.0,143.0,144.0,145.0,146.0,147.0,148.0,149.0,150.0,151.0,152.0,153.0,154.0,155.0,156.0,157.0,158.0,159.0,160.0,161.0,162.0,163.0,164.0,165.0,166.0,167.0,168.0,169.0,170.0,171.0,172.0,173.0,174.0,175.0,176.0,177.0,178.0,179.0,180.0,181.0,182.0,183.0,184.0,185.0,186.0,187.0,188.0,189.0,190.0,191.0,192.0],\"y\":[-0.5034705400466919,-0.5434178113937378,-0.553404688835144,-0.6033388376235962,-0.5833651423454285,-0.6432861089706421,-0.6133256554603577,-0.6332992911338806,-0.6632598042488098,-0.6752439737319946,-0.7085001468658447,-0.6784397959709167,-0.6832334399223328,-0.7025080323219299,-0.7331675887107849,-0.7431544065475464,-0.7331675887107849,-0.6332992911338806,-0.4735100269317627,-0.5134573578834534,-0.6033388376235962,-0.5933519601821899,-0.6732466220855713,-0.6732466220855713,-0.713193953037262,-0.7077012062072754,-0.7331675887107849,-0.7731149196624756,-0.8230490684509277,-0.9029437303543091,-0.7930885553359985,-0.8130622506141663,-0.8230490684509277,-0.8530095815658569,-0.8639950752258301,-0.8496140241622925,-0.8530095815658569,-0.961866021156311,-0.9329041838645935,-1.0427592992782593,-0.9928251504898071,-0.9329041838645935,-1.0227856636047363,-0.942891001701355,-0.9928251504898071,-0.9728515148162842,-0.942891001701355,-0.8891618847846985,-0.8990488648414612,-0.9129305481910706,-0.922917366027832,-0.9329041838645935,-0.9728515148162842,-0.9768462181091309,-0.9928251504898071,-0.9628646969795227,-0.9728515148162842,-0.9828383326530457,-0.942891001701355,-0.9051408171653748,-0.9113326668739319,-0.922917366027832,-0.9528778791427612,-0.9329041838645935,-0.9465861320495605,-0.9628646969795227,-0.9173247218132019,-0.8829700350761414,-0.6977143883705139,-0.573378324508667,-0.6743451952934265,-0.6932202577590942,-0.6632598042488098,-0.8330358862876892,-0.7531412839889526,-0.7963842153549194,-0.8130622506141663,-0.8294406533241272,-0.835432767868042,-0.8629963994026184,-0.8829700350761414,-0.9176243543624878,-0.8896612524986267,-0.8530095815658569,-0.8629963994026184,-0.8729832172393799,-0.8455194234848022,-0.8530095815658569,-0.7731149196624756,-0.7981818914413452,-0.8196535706520081,-0.8480161428451538,-0.8530095815658569,-0.8530095815658569,-0.856604814529419,-0.8330358862876892,-0.8330358862876892,-0.8330358862876892,-0.6644582152366638,-0.6732466220855713,-0.7831017374992371,-0.7632279396057129,-0.7831017374992371,-0.7930885553359985,-0.7531412839889526,-0.7975826263427734,-0.8480161428451538,-0.8437218070030212,-0.8603998422622681,-0.8580029606819153,-0.8829700350761414,-0.922917366027832,-0.8729832172393799,-0.8600003123283386,-0.8829700350761414,-0.9029437303543091,-0.9029437303543091,-0.8899608254432678,-0.8729832172393799,-0.8729832172393799,-0.877976655960083,-0.9029437303543091,-0.8929568529129028,-0.8919581770896912,-0.8699871897697449,-0.8530095815658569,-0.8530095815658569,-0.8819713592529297,-0.8767781853675842,-0.869687557220459,-0.852110743522644,-0.8679897785186768,-0.8629963994026184,-0.8430227041244507,-0.8530095815658569,-0.8777769207954407,-0.8633958697319031,-0.8756796717643738,-0.8929568529129028,-0.9029437303543091,-0.9129305481910706,-0.9054403901100159,-0.9298082590103149,-0.9329041838645935,-0.9528778791427612,-0.967858076095581,-1.01279878616333,-1.0227856636047363,-1.0190905332565308,-0.9653614163398743,-0.9921261072158813,-1.004110336303711,-1.0227856636047363,-1.0227856636047363,-1.0327725410461426,-1.0227856636047363,-1.027679204940796,-1.0557421445846558,-1.0327725410461426,-1.0327725410461426,-1.0427592992782593,-1.0527461767196655,-1.0727198123931885,-1.102081060409546,-1.0527461767196655,-1.0958892107009888,-1.0794110298156738,-1.0543440580368042,-1.0727198123931885,-1.0677263736724854,-1.0747171640396118,-1.0680259466171265,-1.0777132511138916,-1.0687251091003418,-1.0627329349517822,-1.0227856636047363,-1.0327725410461426,-1.0028120279312134,-1.0119998455047607,-1.0277791023254395,-0.922917366027832,-0.9521787762641907,-0.9329041838645935,-0.9129305481910706,-0.9029437303543091,-0.8729832172393799,-0.8530095815658569,-0.8829700350761414,-0.7657246589660645,-0.7231807708740234,-0.8030754327774048,-0.7431544065475464],\"type\":\"scatter\"},{\"mode\":\"lines\",\"name\":\"Predicted\",\"x\":[1.0,2.0,3.0,4.0,5.0,6.0,7.0,8.0,9.0,10.0,11.0,12.0,13.0,14.0,15.0,16.0,17.0,18.0,19.0,20.0,21.0,22.0,23.0,24.0,25.0,26.0,27.0,28.0,29.0,30.0,31.0,32.0,33.0,34.0,35.0,36.0,37.0,38.0,39.0,40.0,41.0,42.0,43.0,44.0,45.0,46.0,47.0,48.0,49.0,50.0,51.0,52.0,53.0,54.0,55.0,56.0,57.0,58.0,59.0,60.0,61.0,62.0,63.0,64.0,65.0,66.0,67.0,68.0,69.0,70.0,71.0,72.0,73.0,74.0,75.0,76.0,77.0,78.0,79.0,80.0,81.0,82.0,83.0,84.0,85.0,86.0,87.0,88.0,89.0,90.0,91.0,92.0,93.0,94.0,95.0,96.0,97.0,98.0,99.0,100.0,101.0,102.0,103.0,104.0,105.0,106.0,107.0,108.0,109.0,110.0,111.0,112.0,113.0,114.0,115.0,116.0,117.0,118.0,119.0,120.0,121.0,122.0,123.0,124.0,125.0,126.0,127.0,128.0,129.0,130.0,131.0,132.0,133.0,134.0,135.0,136.0,137.0,138.0,139.0,140.0,141.0,142.0,143.0,144.0,145.0,146.0,147.0,148.0,149.0,150.0,151.0,152.0,153.0,154.0,155.0,156.0,157.0,158.0,159.0,160.0,161.0,162.0,163.0,164.0,165.0,166.0,167.0,168.0,169.0,170.0,171.0,172.0,173.0,174.0,175.0,176.0,177.0,178.0,179.0,180.0,181.0,182.0,183.0,184.0,185.0,186.0,187.0,188.0,189.0,190.0,191.0,192.0],\"y\":[-0.07192865014076233,-0.21788549423217773,-0.4028003215789795,-0.5225883722305298,-0.5583130717277527,-0.5399705767631531,-0.5282158255577087,-0.530646800994873,-0.5481993556022644,-0.5931609869003296,-0.6380555629730225,-0.6745043992996216,-0.6770699620246887,-0.6711700558662415,-0.6840168833732605,-0.7034226655960083,-0.7270162105560303,-0.6952974200248718,-0.5734508633613586,-0.4456116855144501,-0.2455078661441803,-0.33507585525512695,-0.5472944974899292,-0.6791737675666809,-0.7173219323158264,-0.7175537943840027,-0.7065200805664062,-0.7008742094039917,-0.6915101408958435,-0.7129697203636169,-0.7848759889602661,-0.8230379223823547,-0.8213256001472473,-0.8041442632675171,-0.8110734820365906,-0.8326841592788696,-0.8532527685165405,-0.8621286749839783,-0.8739598393440247,-0.8796142339706421,-0.9236294031143188,-0.9619102478027344,-0.9632883667945862,-0.9655032157897949,-0.9625659584999084,-0.964495837688446,-0.9684067964553833,-0.9588755965232849,-0.9370296001434326,-0.9183201789855957,-0.9101081490516663,-0.9117472171783447,-0.9134010672569275,-0.921286404132843,-0.9386662244796753,-0.9562194347381592,-0.9667110443115234,-0.9693488478660583,-0.9654800891876221,-0.9434590339660645,-0.9253714084625244,-0.9218640327453613,-0.9240425825119019,-0.9301745891571045,-0.9375395178794861,-0.9448750615119934,-0.9486001133918762,-0.9420859813690186,-0.881435215473175,-0.7808883786201477,-0.6711791157722473,-0.6287622451782227,-0.6415397524833679,-0.6456953883171082,-0.7065531015396118,-0.7606338858604431,-0.7887588739395142,-0.7880350351333618,-0.7961026430130005,-0.817146897315979,-0.8404291868209839,-0.8626654148101807,-0.8887638449668884,-0.9050880074501038,-0.8971290588378906,-0.880500078201294,-0.8741982579231262,-0.8705570101737976,-0.8465080857276917,-0.8189442157745361,-0.8053160309791565,-0.8096570372581482,-0.8205201029777527,-0.8308634757995605,-0.8358017206192017,-0.8370300531387329,-0.834506630897522,-0.8179923892021179,-0.7540602087974548,-0.6958041787147522,-0.6752724647521973,-0.7063136696815491,-0.7510464787483215,-0.7674574851989746,-0.7769689559936523,-0.7780846357345581,-0.7678502202033997,-0.7769730091094971,-0.7931786179542542,-0.7995803356170654,-0.813730001449585,-0.829226016998291,-0.7000060081481934,-0.7044172286987305,-0.8138512969017029,-0.8907166123390198,-0.9113489389419556,-0.9046428203582764,-0.8947916626930237,-0.8905845880508423,-0.869397759437561,-0.8579900860786438,-0.8743023872375488,-0.9011726975440979,-0.9152234196662903,-0.9059130549430847,-0.8809037208557129,-0.859497606754303,-0.8550954461097717,-0.8660823106765747,-0.8645501136779785,-0.8575620651245117,-0.8544812798500061,-0.8579613566398621,-0.860235333442688,-0.8582499623298645,-0.8604028224945068,-0.848425030708313,-0.8418333530426025,-0.8451051115989685,-0.8625359535217285,-0.8844388127326965,-0.8912806510925293,-0.8904619216918945,-0.8928174376487732,-0.8334690928459167,-0.8167866468429565,-0.8740132451057434,-0.9419469833374023,-0.9770358800888062,-0.9871371388435364,-0.9905856251716614,-0.9902374148368835,-1.0007106065750122,-1.012901782989502,-1.025540828704834,-1.0325828790664673,-1.008848786354065,-0.9980111718177795,-1.0039304494857788,-0.9998932480812073,-1.0022794008255005,-1.0143502950668335,-1.0281474590301514,-1.0480400323867798,-1.0582365989685059,-1.0699586868286133,-1.0735923051834106,-1.075977087020874,-1.0793628692626953,-1.0739370584487915,-1.072621464729309,-1.0766724348068237,-1.0784447193145752,-1.0776143074035645,-1.0614410638809204,-1.0509933233261108,-1.0378299951553345,-1.032232642173767,-1.023261308670044,-1.003578543663025,-0.9862937331199646,-0.9742817878723145,-0.9677860140800476,-0.9600154161453247,-0.9476914405822754,-0.925521969795227,-0.9093990921974182,-0.8118387460708618,-0.7188854217529297,-0.6823650002479553,-0.6693482995033264],\"type\":\"scatter\"}],                        {\"template\":{\"data\":{\"bar\":[{\"error_x\":{\"color\":\"#2a3f5f\"},\"error_y\":{\"color\":\"#2a3f5f\"},\"marker\":{\"line\":{\"color\":\"#E5ECF6\",\"width\":0.5},\"pattern\":{\"fillmode\":\"overlay\",\"size\":10,\"solidity\":0.2}},\"type\":\"bar\"}],\"barpolar\":[{\"marker\":{\"line\":{\"color\":\"#E5ECF6\",\"width\":0.5},\"pattern\":{\"fillmode\":\"overlay\",\"size\":10,\"solidity\":0.2}},\"type\":\"barpolar\"}],\"carpet\":[{\"aaxis\":{\"endlinecolor\":\"#2a3f5f\",\"gridcolor\":\"white\",\"linecolor\":\"white\",\"minorgridcolor\":\"white\",\"startlinecolor\":\"#2a3f5f\"},\"baxis\":{\"endlinecolor\":\"#2a3f5f\",\"gridcolor\":\"white\",\"linecolor\":\"white\",\"minorgridcolor\":\"white\",\"startlinecolor\":\"#2a3f5f\"},\"type\":\"carpet\"}],\"choropleth\":[{\"colorbar\":{\"outlinewidth\":0,\"ticks\":\"\"},\"type\":\"choropleth\"}],\"contour\":[{\"colorbar\":{\"outlinewidth\":0,\"ticks\":\"\"},\"colorscale\":[[0.0,\"#0d0887\"],[0.1111111111111111,\"#46039f\"],[0.2222222222222222,\"#7201a8\"],[0.3333333333333333,\"#9c179e\"],[0.4444444444444444,\"#bd3786\"],[0.5555555555555556,\"#d8576b\"],[0.6666666666666666,\"#ed7953\"],[0.7777777777777778,\"#fb9f3a\"],[0.8888888888888888,\"#fdca26\"],[1.0,\"#f0f921\"]],\"type\":\"contour\"}],\"contourcarpet\":[{\"colorbar\":{\"outlinewidth\":0,\"ticks\":\"\"},\"type\":\"contourcarpet\"}],\"heatmap\":[{\"colorbar\":{\"outlinewidth\":0,\"ticks\":\"\"},\"colorscale\":[[0.0,\"#0d0887\"],[0.1111111111111111,\"#46039f\"],[0.2222222222222222,\"#7201a8\"],[0.3333333333333333,\"#9c179e\"],[0.4444444444444444,\"#bd3786\"],[0.5555555555555556,\"#d8576b\"],[0.6666666666666666,\"#ed7953\"],[0.7777777777777778,\"#fb9f3a\"],[0.8888888888888888,\"#fdca26\"],[1.0,\"#f0f921\"]],\"type\":\"heatmap\"}],\"heatmapgl\":[{\"colorbar\":{\"outlinewidth\":0,\"ticks\":\"\"},\"colorscale\":[[0.0,\"#0d0887\"],[0.1111111111111111,\"#46039f\"],[0.2222222222222222,\"#7201a8\"],[0.3333333333333333,\"#9c179e\"],[0.4444444444444444,\"#bd3786\"],[0.5555555555555556,\"#d8576b\"],[0.6666666666666666,\"#ed7953\"],[0.7777777777777778,\"#fb9f3a\"],[0.8888888888888888,\"#fdca26\"],[1.0,\"#f0f921\"]],\"type\":\"heatmapgl\"}],\"histogram\":[{\"marker\":{\"pattern\":{\"fillmode\":\"overlay\",\"size\":10,\"solidity\":0.2}},\"type\":\"histogram\"}],\"histogram2d\":[{\"colorbar\":{\"outlinewidth\":0,\"ticks\":\"\"},\"colorscale\":[[0.0,\"#0d0887\"],[0.1111111111111111,\"#46039f\"],[0.2222222222222222,\"#7201a8\"],[0.3333333333333333,\"#9c179e\"],[0.4444444444444444,\"#bd3786\"],[0.5555555555555556,\"#d8576b\"],[0.6666666666666666,\"#ed7953\"],[0.7777777777777778,\"#fb9f3a\"],[0.8888888888888888,\"#fdca26\"],[1.0,\"#f0f921\"]],\"type\":\"histogram2d\"}],\"histogram2dcontour\":[{\"colorbar\":{\"outlinewidth\":0,\"ticks\":\"\"},\"colorscale\":[[0.0,\"#0d0887\"],[0.1111111111111111,\"#46039f\"],[0.2222222222222222,\"#7201a8\"],[0.3333333333333333,\"#9c179e\"],[0.4444444444444444,\"#bd3786\"],[0.5555555555555556,\"#d8576b\"],[0.6666666666666666,\"#ed7953\"],[0.7777777777777778,\"#fb9f3a\"],[0.8888888888888888,\"#fdca26\"],[1.0,\"#f0f921\"]],\"type\":\"histogram2dcontour\"}],\"mesh3d\":[{\"colorbar\":{\"outlinewidth\":0,\"ticks\":\"\"},\"type\":\"mesh3d\"}],\"parcoords\":[{\"line\":{\"colorbar\":{\"outlinewidth\":0,\"ticks\":\"\"}},\"type\":\"parcoords\"}],\"pie\":[{\"automargin\":true,\"type\":\"pie\"}],\"scatter\":[{\"marker\":{\"colorbar\":{\"outlinewidth\":0,\"ticks\":\"\"}},\"type\":\"scatter\"}],\"scatter3d\":[{\"line\":{\"colorbar\":{\"outlinewidth\":0,\"ticks\":\"\"}},\"marker\":{\"colorbar\":{\"outlinewidth\":0,\"ticks\":\"\"}},\"type\":\"scatter3d\"}],\"scattercarpet\":[{\"marker\":{\"colorbar\":{\"outlinewidth\":0,\"ticks\":\"\"}},\"type\":\"scattercarpet\"}],\"scattergeo\":[{\"marker\":{\"colorbar\":{\"outlinewidth\":0,\"ticks\":\"\"}},\"type\":\"scattergeo\"}],\"scattergl\":[{\"marker\":{\"colorbar\":{\"outlinewidth\":0,\"ticks\":\"\"}},\"type\":\"scattergl\"}],\"scattermapbox\":[{\"marker\":{\"colorbar\":{\"outlinewidth\":0,\"ticks\":\"\"}},\"type\":\"scattermapbox\"}],\"scatterpolar\":[{\"marker\":{\"colorbar\":{\"outlinewidth\":0,\"ticks\":\"\"}},\"type\":\"scatterpolar\"}],\"scatterpolargl\":[{\"marker\":{\"colorbar\":{\"outlinewidth\":0,\"ticks\":\"\"}},\"type\":\"scatterpolargl\"}],\"scatterternary\":[{\"marker\":{\"colorbar\":{\"outlinewidth\":0,\"ticks\":\"\"}},\"type\":\"scatterternary\"}],\"surface\":[{\"colorbar\":{\"outlinewidth\":0,\"ticks\":\"\"},\"colorscale\":[[0.0,\"#0d0887\"],[0.1111111111111111,\"#46039f\"],[0.2222222222222222,\"#7201a8\"],[0.3333333333333333,\"#9c179e\"],[0.4444444444444444,\"#bd3786\"],[0.5555555555555556,\"#d8576b\"],[0.6666666666666666,\"#ed7953\"],[0.7777777777777778,\"#fb9f3a\"],[0.8888888888888888,\"#fdca26\"],[1.0,\"#f0f921\"]],\"type\":\"surface\"}],\"table\":[{\"cells\":{\"fill\":{\"color\":\"#EBF0F8\"},\"line\":{\"color\":\"white\"}},\"header\":{\"fill\":{\"color\":\"#C8D4E3\"},\"line\":{\"color\":\"white\"}},\"type\":\"table\"}]},\"layout\":{\"annotationdefaults\":{\"arrowcolor\":\"#2a3f5f\",\"arrowhead\":0,\"arrowwidth\":1},\"autotypenumbers\":\"strict\",\"coloraxis\":{\"colorbar\":{\"outlinewidth\":0,\"ticks\":\"\"}},\"colorscale\":{\"diverging\":[[0,\"#8e0152\"],[0.1,\"#c51b7d\"],[0.2,\"#de77ae\"],[0.3,\"#f1b6da\"],[0.4,\"#fde0ef\"],[0.5,\"#f7f7f7\"],[0.6,\"#e6f5d0\"],[0.7,\"#b8e186\"],[0.8,\"#7fbc41\"],[0.9,\"#4d9221\"],[1,\"#276419\"]],\"sequential\":[[0.0,\"#0d0887\"],[0.1111111111111111,\"#46039f\"],[0.2222222222222222,\"#7201a8\"],[0.3333333333333333,\"#9c179e\"],[0.4444444444444444,\"#bd3786\"],[0.5555555555555556,\"#d8576b\"],[0.6666666666666666,\"#ed7953\"],[0.7777777777777778,\"#fb9f3a\"],[0.8888888888888888,\"#fdca26\"],[1.0,\"#f0f921\"]],\"sequentialminus\":[[0.0,\"#0d0887\"],[0.1111111111111111,\"#46039f\"],[0.2222222222222222,\"#7201a8\"],[0.3333333333333333,\"#9c179e\"],[0.4444444444444444,\"#bd3786\"],[0.5555555555555556,\"#d8576b\"],[0.6666666666666666,\"#ed7953\"],[0.7777777777777778,\"#fb9f3a\"],[0.8888888888888888,\"#fdca26\"],[1.0,\"#f0f921\"]]},\"colorway\":[\"#636efa\",\"#EF553B\",\"#00cc96\",\"#ab63fa\",\"#FFA15A\",\"#19d3f3\",\"#FF6692\",\"#B6E880\",\"#FF97FF\",\"#FECB52\"],\"font\":{\"color\":\"#2a3f5f\"},\"geo\":{\"bgcolor\":\"white\",\"lakecolor\":\"white\",\"landcolor\":\"#E5ECF6\",\"showlakes\":true,\"showland\":true,\"subunitcolor\":\"white\"},\"hoverlabel\":{\"align\":\"left\"},\"hovermode\":\"closest\",\"mapbox\":{\"style\":\"light\"},\"paper_bgcolor\":\"white\",\"plot_bgcolor\":\"#E5ECF6\",\"polar\":{\"angularaxis\":{\"gridcolor\":\"white\",\"linecolor\":\"white\",\"ticks\":\"\"},\"bgcolor\":\"#E5ECF6\",\"radialaxis\":{\"gridcolor\":\"white\",\"linecolor\":\"white\",\"ticks\":\"\"}},\"scene\":{\"xaxis\":{\"backgroundcolor\":\"#E5ECF6\",\"gridcolor\":\"white\",\"gridwidth\":2,\"linecolor\":\"white\",\"showbackground\":true,\"ticks\":\"\",\"zerolinecolor\":\"white\"},\"yaxis\":{\"backgroundcolor\":\"#E5ECF6\",\"gridcolor\":\"white\",\"gridwidth\":2,\"linecolor\":\"white\",\"showbackground\":true,\"ticks\":\"\",\"zerolinecolor\":\"white\"},\"zaxis\":{\"backgroundcolor\":\"#E5ECF6\",\"gridcolor\":\"white\",\"gridwidth\":2,\"linecolor\":\"white\",\"showbackground\":true,\"ticks\":\"\",\"zerolinecolor\":\"white\"}},\"shapedefaults\":{\"line\":{\"color\":\"#2a3f5f\"}},\"ternary\":{\"aaxis\":{\"gridcolor\":\"white\",\"linecolor\":\"white\",\"ticks\":\"\"},\"baxis\":{\"gridcolor\":\"white\",\"linecolor\":\"white\",\"ticks\":\"\"},\"bgcolor\":\"#E5ECF6\",\"caxis\":{\"gridcolor\":\"white\",\"linecolor\":\"white\",\"ticks\":\"\"}},\"title\":{\"x\":0.05},\"xaxis\":{\"automargin\":true,\"gridcolor\":\"white\",\"linecolor\":\"white\",\"ticks\":\"\",\"title\":{\"standoff\":15},\"zerolinecolor\":\"white\",\"zerolinewidth\":2},\"yaxis\":{\"automargin\":true,\"gridcolor\":\"white\",\"linecolor\":\"white\",\"ticks\":\"\",\"title\":{\"standoff\":15},\"zerolinecolor\":\"white\",\"zerolinewidth\":2}}},\"shapes\":[{\"type\":\"line\",\"x0\":168,\"x1\":168,\"xref\":\"x\",\"y0\":0,\"y1\":1,\"yref\":\"y domain\"}]},                        {\"responsive\": true}                    ).then(function(){\n",
              "                            \n",
              "var gd = document.getElementById('20143c7b-4682-484c-a2a2-54801f865bc7');\n",
              "var x = new MutationObserver(function (mutations, observer) {{\n",
              "        var display = window.getComputedStyle(gd).display;\n",
              "        if (!display || display === 'none') {{\n",
              "            console.log([gd, 'removed!']);\n",
              "            Plotly.purge(gd);\n",
              "            observer.disconnect();\n",
              "        }}\n",
              "}});\n",
              "\n",
              "// Listen for the removal of the full notebook cells\n",
              "var notebookContainer = gd.closest('#notebook-container');\n",
              "if (notebookContainer) {{\n",
              "    x.observe(notebookContainer, {childList: true});\n",
              "}}\n",
              "\n",
              "// Listen for the clearing of the current output cell\n",
              "var outputEl = gd.closest('.output');\n",
              "if (outputEl) {{\n",
              "    x.observe(outputEl, {childList: true});\n",
              "}}\n",
              "\n",
              "                        })                };                            </script>        </div>\n",
              "</body>\n",
              "</html>"
            ]
          },
          "metadata": {}
        }
      ]
    },
    {
      "cell_type": "code",
      "source": [
        ""
      ],
      "metadata": {
        "id": "QYllblqMi3kZ"
      },
      "execution_count": null,
      "outputs": []
    }
  ]
}