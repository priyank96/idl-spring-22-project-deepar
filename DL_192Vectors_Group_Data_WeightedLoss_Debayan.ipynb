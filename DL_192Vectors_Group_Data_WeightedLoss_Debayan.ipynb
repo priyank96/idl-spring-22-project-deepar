{
  "cells": [
    {
      "cell_type": "markdown",
      "metadata": {
        "id": "view-in-github",
        "colab_type": "text"
      },
      "source": [
        "<a href=\"https://colab.research.google.com/github/priyank96/idl-spring-22-project-deepar/blob/main/DL_192Vectors_Group_Data_WeightedLoss_Debayan.ipynb\" target=\"_parent\"><img src=\"https://colab.research.google.com/assets/colab-badge.svg\" alt=\"Open In Colab\"/></a>"
      ]
    },
    {
      "cell_type": "code",
      "execution_count": 9,
      "metadata": {
        "colab": {
          "base_uri": "https://localhost:8080/"
        },
        "id": "s6rSZ8BZaVEW",
        "outputId": "036169e7-36ea-49c2-eba2-8fec74c0b379"
      },
      "outputs": [
        {
          "output_type": "stream",
          "name": "stdout",
          "text": [
            "Cloning into 'idl-spring-22-project-deepar'...\n",
            "remote: Enumerating objects: 1836, done.\u001b[K\n",
            "remote: Counting objects:  14% (1/7)\u001b[K\rremote: Counting objects:  28% (2/7)\u001b[K\rremote: Counting objects:  42% (3/7)\u001b[K\rremote: Counting objects:  57% (4/7)\u001b[K\rremote: Counting objects:  71% (5/7)\u001b[K\rremote: Counting objects:  85% (6/7)\u001b[K\rremote: Counting objects: 100% (7/7)\u001b[K\rremote: Counting objects: 100% (7/7), done.\u001b[K\n",
            "remote: Compressing objects: 100% (7/7), done.\u001b[K\n",
            "remote: Total 1836 (delta 0), reused 0 (delta 0), pack-reused 1829\u001b[K\n",
            "Receiving objects: 100% (1836/1836), 82.45 MiB | 28.30 MiB/s, done.\n",
            "Resolving deltas: 100% (877/877), done.\n",
            "Checking out files: 100% (1945/1945), done.\n"
          ]
        }
      ],
      "source": [
        "! rm -rf /content/idl-spring-22-project-deepar\n",
        "!git clone https://github.com/priyank96/idl-spring-22-project-deepar"
      ]
    },
    {
      "cell_type": "code",
      "execution_count": 10,
      "metadata": {
        "colab": {
          "base_uri": "https://localhost:8080/"
        },
        "id": "gOKL2f9bayY_",
        "outputId": "a252327d-68b7-4717-83e2-dd4a648c79fd"
      },
      "outputs": [
        {
          "output_type": "stream",
          "name": "stdout",
          "text": [
            "Mounted at /content/drive\n"
          ]
        }
      ],
      "source": [
        "from google.colab import drive\n",
        "\n",
        "drive.mount('/content/drive', force_remount=True)"
      ]
    },
    {
      "cell_type": "code",
      "execution_count": 11,
      "metadata": {
        "id": "394BLA5dOGMF"
      },
      "outputs": [],
      "source": [
        "! mkdir -p '/content/drive/MyDrive/DeepARExperiments/'"
      ]
    },
    {
      "cell_type": "code",
      "execution_count": null,
      "metadata": {
        "id": "K4Dz6slTybPk"
      },
      "outputs": [],
      "source": [
        "!pip install wandb\n",
        "!wandb login"
      ]
    },
    {
      "cell_type": "code",
      "execution_count": null,
      "metadata": {
        "colab": {
          "base_uri": "https://localhost:8080/",
          "height": 127
        },
        "id": "0KPeB4rQyy7M",
        "outputId": "21fdbed9-8444-493e-c834-5624e987a98f"
      },
      "outputs": [
        {
          "name": "stderr",
          "output_type": "stream",
          "text": [
            "\u001b[34m\u001b[1mwandb\u001b[0m: Currently logged in as: \u001b[33mmmml\u001b[0m (use `wandb login --relogin` to force relogin)\n"
          ]
        },
        {
          "data": {
            "text/html": [
              "Tracking run with wandb version 0.12.15"
            ],
            "text/plain": [
              "<IPython.core.display.HTML object>"
            ]
          },
          "metadata": {},
          "output_type": "display_data"
        },
        {
          "data": {
            "text/html": [
              "Run data is saved locally in <code>/content/wandb/run-20220425_043835-ycxz3k9o</code>"
            ],
            "text/plain": [
              "<IPython.core.display.HTML object>"
            ]
          },
          "metadata": {},
          "output_type": "display_data"
        },
        {
          "data": {
            "text/html": [
              "Syncing run <strong><a href=\"https://wandb.ai/idl-deepar-spring-22/vector-training/runs/ycxz3k9o\" target=\"_blank\">baseline-more-data-weighte-loss</a></strong> to <a href=\"https://wandb.ai/idl-deepar-spring-22/vector-training\" target=\"_blank\">Weights & Biases</a> (<a href=\"https://wandb.me/run\" target=\"_blank\">docs</a>)<br/>"
            ],
            "text/plain": [
              "<IPython.core.display.HTML object>"
            ]
          },
          "metadata": {},
          "output_type": "display_data"
        },
        {
          "data": {
            "text/html": [
              "<button onClick=\"this.nextSibling.style.display='block';this.style.display='none';\">Display W&B run</button><iframe src=\"https://wandb.ai/idl-deepar-spring-22/vector-training/runs/ycxz3k9o?jupyter=true\" style=\"border:none;width:100%;height:420px;display:none;\"></iframe>"
            ],
            "text/plain": [
              "<wandb.sdk.wandb_run.Run at 0x7f7dc471b5d0>"
            ]
          },
          "execution_count": 5,
          "metadata": {},
          "output_type": "execute_result"
        }
      ],
      "source": [
        "import wandb\n",
        "\n",
        "wandb.init(project=\"vector-training\", entity=\"idl-deepar-spring-22\", name=\"baseline-more-data-weighte-loss\")"
      ]
    },
    {
      "cell_type": "code",
      "execution_count": 9,
      "metadata": {
        "id": "QhJqZTrRCGn5"
      },
      "outputs": [],
      "source": [
        "import numpy as np\n",
        "import torch\n",
        "import torch.nn as nn\n",
        "import torch.nn.functional as F\n",
        "from torch.autograd import Variable\n",
        "import logging\n",
        "from sklearn import preprocessing\n",
        "import torch.optim as optim\n",
        "from tqdm import tqdm\n",
        "import os\n",
        "device = 'cuda' if torch.cuda.is_available() else 'cpu'\n"
      ]
    },
    {
      "cell_type": "code",
      "execution_count": null,
      "metadata": {
        "id": "jrVlqh83a4kv"
      },
      "outputs": [],
      "source": [
        "!python3 /content/idl-spring-22-project-deepar/src/data/company_random_groups.py -gs=5 -r=50000 -w=192\n",
        "! pip install kaleido"
      ]
    },
    {
      "cell_type": "code",
      "execution_count": null,
      "metadata": {
        "id": "2XkMu5JxFcIE"
      },
      "outputs": [],
      "source": [
        "!python3 /content/idl-spring-22-project-deepar/src/data/visualize.py"
      ]
    },
    {
      "cell_type": "code",
      "execution_count": 5,
      "metadata": {
        "id": "D_XgpTjpeCCc"
      },
      "outputs": [],
      "source": [
        "import pickle\n",
        "with open('/content/idl-spring-22-project-deepar/data/index_to_company.pkl','rb') as f:\n",
        "  index_to_company = pickle.load(f)\n",
        "\n",
        "with open('/content/idl-spring-22-project-deepar/data/company_to_index.pkl','rb') as f:\n",
        "  company_to_index = pickle.load(f)\n",
        "\n",
        "with open('/content/idl-spring-22-project-deepar/data/sector_company_map.pkl','rb') as f:\n",
        "  sector_company_map = pickle.load(f)"
      ]
    },
    {
      "cell_type": "code",
      "execution_count": 7,
      "metadata": {
        "colab": {
          "base_uri": "https://localhost:8080/"
        },
        "id": "oVkGYeXZLtyr",
        "outputId": "3928b587-fee3-48b6-b571-4794cafdf7ff"
      },
      "outputs": [
        {
          "output_type": "stream",
          "name": "stdout",
          "text": [
            "{0: 'FOMC', 1: 'CS', 2: 'UPST', 3: 'DEFTF', 4: 'PPGH', 5: 'SAVA', 6: 'ACAD', 7: 'IPA', 8: 'ARWR', 9: 'TGGI', 10: 'SNPW', 11: 'GRPN', 12: 'TWLO', 13: 'SPOT', 14: 'XNET', 15: 'SHAK', 16: 'LOTZ', 17: 'RKUNY', 18: 'CROX', 19: 'GRIL', 20: 'LGIH', 21: 'WKHS', 22: 'CCL', 23: 'WISH', 24: 'EBAY', 25: 'RDFN', 26: 'AMT', 27: 'OPEN', 28: 'PLD', 29: 'AHT', 30: 'PSLV', 31: 'CRKR', 32: 'CFG', 33: 'NU', 34: 'SI', 35: 'MVIS', 36: 'AVLR', 37: 'CSCO', 38: 'FSLY', 39: 'PLAN', 40: 'GNRC', 41: 'J', 42: 'GGG', 43: 'ASTR', 44: 'CAR', 45: 'B', 46: 'IDEX', 47: 'AERC', 48: 'ATVK', 49: 'UAVS', 50: 'ES', 51: 'PCG', 52: 'AGR', 53: 'HLGN', 54: 'D', 55: 'E', 56: 'XOM', 57: 'ET', 58: 'CVE', 59: 'DNN', 60: 'RUN', 61: 'DIDI', 62: 'U', 63: 'DLO', 64: 'OPRA', 65: 'DBMM', 66: 'FUBO', 67: 'ICOA', 68: 'CABO', 69: 'GM', 70: 'DKS', 71: 'ONON', 72: 'JMIA', 73: 'FND', 74: 'WM', 75: 'AJRD', 76: 'BLNK', 77: 'PL', 78: 'AMC', 79: 'EA', 80: 'SNAP', 81: 'OEG', 82: 'QS', 83: 'NKE', 84: 'YETI', 85: 'CPNG', 86: 'AMZN', 87: 'ENS', 88: 'TRI', 89: 'LUV', 90: 'FAST', 91: 'WWR', 92: 'TECK', 93: 'CF', 94: 'CLF', 95: 'NG', 96: 'TLRY', 97: 'NTRB', 98: 'GNCA', 99: 'AUPH', 100: 'CLDX', 101: 'COST', 102: 'CHGG', 103: 'MF', 104: 'ONE', 105: 'VFF', 106: 'LTC', 107: 'SAFE', 108: 'GRIN', 109: 'RCRT', 110: 'MMM', 111: 'ZIP', 112: 'DVN', 113: 'VTXB', 114: 'IPOOF', 115: 'BTU', 116: 'UEC', 117: 'WTI', 118: 'GTE', 119: 'MCD', 120: 'RCL', 121: 'GVSI', 122: 'GNOG', 123: 'DKNG', 124: 'SGC', 125: 'TSCO', 126: 'M', 127: 'XPEV', 128: 'CPRI', 129: 'ATUS', 130: 'YNDX', 131: 'TTWO', 132: 'GP', 133: 'MELI', 134: 'TONR', 135: 'FTCH', 136: 'EXPE', 137: 'OPTT', 138: 'PIXY', 139: 'BA', 140: 'JBHT', 141: 'POLA', 142: 'ALK', 143: 'GE', 144: 'GPN', 145: 'RBLX', 146: 'STRN', 147: 'GOOG', 148: 'FDX', 149: 'DE', 150: 'CLOV', 151: 'UNH', 152: 'BNTX', 153: 'RGBPP', 154: 'ZGNX', 155: 'IBKR', 156: 'PRU', 157: 'DB', 158: 'RKT', 159: 'SKLZ', 160: 'GOGO', 161: 'LAC', 162: 'FCX', 163: 'EXK', 164: 'NEM', 165: 'NFLX', 166: 'VZ', 167: 'PINS', 168: 'SPCE', 169: 'BTT', 170: 'JEF', 171: 'GS', 172: 'TRVN', 173: 'VTVT', 174: 'SXTC', 175: 'PACB', 176: 'ATIP', 177: 'NURO', 178: 'IMCC', 179: 'JNJ', 180: 'IRTC', 181: 'RAD', 182: 'CNGT', 183: 'JPM', 184: 'UMAX', 185: 'MA', 186: 'BTBT', 187: 'LCID', 188: 'ULTA', 189: 'PSTV', 190: 'TDOC', 191: 'MSTO', 192: 'FBRX', 193: 'EXAS', 194: 'VXRT', 195: 'CDXC', 196: 'GTBIF', 197: 'NKTR', 198: 'CGC', 199: 'XAIR', 200: 'MYNZ', 201: 'NVAX', 202: 'BRN', 203: 'KMI', 204: 'AR', 205: 'OTLY', 206: 'HAIN', 207: 'FREE', 208: 'TGT', 209: 'PNC', 210: 'PSTH', 211: 'C', 212: 'GGPI', 213: 'NXPI', 214: 'ZI', 215: 'NEWR', 216: 'INTC', 217: 'S', 218: 'ACI', 219: 'BYND', 220: 'CLX', 221: 'COTY', 222: 'MP', 223: 'AU', 224: 'CC', 225: 'AFPW', 226: 'ASM', 227: 'BHP', 228: 'GEVO', 229: 'RIO', 230: 'AZ', 231: 'EQT', 232: 'CHK', 233: 'FANG', 234: 'OXY', 235: 'DWAC', 236: 'AMP', 237: 'TPG', 238: 'AUD', 239: 'FCEL', 240: 'CAT', 241: 'PLUG', 242: 'CCJ', 243: 'SONO', 244: 'G', 245: 'TER', 246: 'ADBE', 247: 'HPE', 248: 'CNK', 249: 'DAL', 250: 'HTZ', 251: 'LMT', 252: 'LRDR', 253: 'DVAX', 254: 'BFRI', 255: 'APT', 256: 'UAL', 257: 'ALPP', 258: 'NRT', 259: 'PXD', 260: 'BP', 261: 'KO', 262: 'PEP', 263: 'PG', 264: 'DNUT', 265: 'VINE', 266: 'SLB', 267: 'HES', 268: 'ZNGA', 269: 'BIDU', 270: 'HZNP', 271: 'GILD', 272: 'KMPH', 273: 'PFE', 274: 'GLASF', 275: 'CPSH', 276: 'ACN', 277: 'SHOP', 278: 'CRCT', 279: 'SANT', 280: 'RNWF', 281: 'EMN', 282: 'HCC', 283: 'AG', 284: 'APA', 285: 'BBY', 286: 'SEV', 287: 'F', 288: 'ABNB', 289: 'CVX', 290: 'CEI', 291: 'RIG', 292: 'VBIV', 293: 'CYDY', 294: 'ATAI', 295: 'DASH', 296: 'FB', 297: 'NTDOY', 298: 'ORGN', 299: 'R', 300: 'CELH', 301: 'FHS', 302: 'WMT', 303: 'HD', 304: 'SFIX', 305: 'BABL', 306: 'ATER', 307: 'GOOS', 308: 'MO', 309: 'SBEV', 310: 'TQLB', 311: 'UNP', 312: 'BBIG', 313: 'RH', 314: 'GLBE', 315: 'CRTX', 316: 'LGVN', 317: 'A', 318: 'AA', 319: 'AMRS', 320: 'FAMI', 321: 'OPAD', 322: 'CL', 323: 'IVST', 324: 'ARCB', 325: 'MGI', 326: 'LMND', 327: 'SUNL', 328: 'FORW', 329: 'BCTX', 330: 'MOS', 331: 'NAK', 332: 'PPSI', 333: 'ASAN', 334: 'GWSO', 335: 'PANW', 336: 'XELA', 337: 'HIMX', 338: 'FUTU', 339: 'SAVE', 340: 'GOOGL', 341: 'INMD', 342: 'SRNE', 343: 'MSFT', 344: 'NTAP', 345: 'KC', 346: 'DM', 347: 'HMBL', 348: 'PHUN', 349: 'CLSK', 350: 'CRWD', 351: 'PSFE', 352: 'MRIN', 353: 'IBM', 354: 'NOK', 355: 'FSLR', 356: 'ZS', 357: 'DLTR', 358: 'VLO', 359: 'Z', 360: 'SBGI', 361: 'AMAT', 362: 'ENPH', 363: 'CTXS', 364: 'VUZI', 365: 'MMAT', 366: 'ASML', 367: 'CAMT', 368: 'BFLY', 369: 'SRPT', 370: 'ENZC', 371: 'ABBV', 372: 'GLSI', 373: 'BHVN', 374: 'BMY', 375: 'ERBB', 376: 'GRWG', 377: 'TRIP', 378: 'ASO', 379: 'SE', 380: 'KSM', 381: 'PGR', 382: 'BX', 383: 'BAC', 384: 'DOCU', 385: 'SNOW', 386: 'BKKT', 387: 'ZM', 388: 'MU', 389: 'VET', 390: 'GENI', 391: 'WLL', 392: 'X', 393: 'BEEM', 394: 'HMNY', 395: 'CRM', 396: 'AVGO', 397: 'SOL', 398: 'PAR'}\n",
            "{'FOMC': 0, 'CS': 1, 'UPST': 2, 'DEFTF': 3, 'PPGH': 4, 'SAVA': 5, 'ACAD': 6, 'IPA': 7, 'ARWR': 8, 'TGGI': 9, 'SNPW': 10, 'GRPN': 11, 'TWLO': 12, 'SPOT': 13, 'XNET': 14, 'SHAK': 15, 'LOTZ': 16, 'RKUNY': 17, 'CROX': 18, 'GRIL': 19, 'LGIH': 20, 'WKHS': 21, 'CCL': 22, 'WISH': 23, 'EBAY': 24, 'RDFN': 25, 'AMT': 26, 'OPEN': 27, 'PLD': 28, 'AHT': 29, 'PSLV': 30, 'CRKR': 31, 'CFG': 32, 'NU': 33, 'SI': 34, 'MVIS': 35, 'AVLR': 36, 'CSCO': 37, 'FSLY': 38, 'PLAN': 39, 'GNRC': 40, 'J': 41, 'GGG': 42, 'ASTR': 43, 'CAR': 44, 'B': 45, 'IDEX': 46, 'AERC': 47, 'ATVK': 48, 'UAVS': 49, 'ES': 50, 'PCG': 51, 'AGR': 52, 'HLGN': 53, 'D': 54, 'E': 55, 'XOM': 56, 'ET': 57, 'CVE': 58, 'DNN': 59, 'RUN': 60, 'DIDI': 61, 'U': 62, 'DLO': 63, 'OPRA': 64, 'DBMM': 65, 'FUBO': 66, 'ICOA': 67, 'CABO': 68, 'GM': 69, 'DKS': 70, 'ONON': 71, 'JMIA': 72, 'FND': 73, 'WM': 74, 'AJRD': 75, 'BLNK': 76, 'PL': 77, 'AMC': 78, 'EA': 79, 'SNAP': 80, 'OEG': 81, 'QS': 82, 'NKE': 83, 'YETI': 84, 'CPNG': 85, 'AMZN': 86, 'ENS': 87, 'TRI': 88, 'LUV': 89, 'FAST': 90, 'WWR': 91, 'TECK': 92, 'CF': 93, 'CLF': 94, 'NG': 95, 'TLRY': 96, 'NTRB': 97, 'GNCA': 98, 'AUPH': 99, 'CLDX': 100, 'COST': 101, 'CHGG': 102, 'MF': 103, 'ONE': 104, 'VFF': 105, 'LTC': 106, 'SAFE': 107, 'GRIN': 108, 'RCRT': 109, 'MMM': 110, 'ZIP': 111, 'DVN': 112, 'VTXB': 113, 'IPOOF': 114, 'BTU': 115, 'UEC': 116, 'WTI': 117, 'GTE': 118, 'MCD': 119, 'RCL': 120, 'GVSI': 121, 'GNOG': 122, 'DKNG': 123, 'SGC': 124, 'TSCO': 125, 'M': 126, 'XPEV': 127, 'CPRI': 128, 'ATUS': 129, 'YNDX': 130, 'TTWO': 131, 'GP': 132, 'MELI': 133, 'TONR': 134, 'FTCH': 135, 'EXPE': 136, 'OPTT': 137, 'PIXY': 138, 'BA': 139, 'JBHT': 140, 'POLA': 141, 'ALK': 142, 'GE': 143, 'GPN': 144, 'RBLX': 145, 'STRN': 146, 'GOOG': 147, 'FDX': 148, 'DE': 149, 'CLOV': 150, 'UNH': 151, 'BNTX': 152, 'RGBPP': 153, 'ZGNX': 154, 'IBKR': 155, 'PRU': 156, 'DB': 157, 'RKT': 158, 'SKLZ': 159, 'GOGO': 160, 'LAC': 161, 'FCX': 162, 'EXK': 163, 'NEM': 164, 'NFLX': 165, 'VZ': 166, 'PINS': 167, 'SPCE': 168, 'BTT': 169, 'JEF': 170, 'GS': 171, 'TRVN': 172, 'VTVT': 173, 'SXTC': 174, 'PACB': 175, 'ATIP': 176, 'NURO': 177, 'IMCC': 178, 'JNJ': 179, 'IRTC': 180, 'RAD': 181, 'CNGT': 182, 'JPM': 183, 'UMAX': 184, 'MA': 185, 'BTBT': 186, 'LCID': 187, 'ULTA': 188, 'PSTV': 189, 'TDOC': 190, 'MSTO': 191, 'FBRX': 192, 'EXAS': 193, 'VXRT': 194, 'CDXC': 195, 'GTBIF': 196, 'NKTR': 197, 'CGC': 198, 'XAIR': 199, 'MYNZ': 200, 'NVAX': 201, 'BRN': 202, 'KMI': 203, 'AR': 204, 'OTLY': 205, 'HAIN': 206, 'FREE': 207, 'TGT': 208, 'PNC': 209, 'PSTH': 210, 'C': 211, 'GGPI': 212, 'NXPI': 213, 'ZI': 214, 'NEWR': 215, 'INTC': 216, 'S': 217, 'ACI': 218, 'BYND': 219, 'CLX': 220, 'COTY': 221, 'MP': 222, 'AU': 223, 'CC': 224, 'AFPW': 225, 'ASM': 226, 'BHP': 227, 'GEVO': 228, 'RIO': 229, 'AZ': 230, 'EQT': 231, 'CHK': 232, 'FANG': 233, 'OXY': 234, 'DWAC': 235, 'AMP': 236, 'TPG': 237, 'AUD': 238, 'FCEL': 239, 'CAT': 240, 'PLUG': 241, 'CCJ': 242, 'SONO': 243, 'G': 244, 'TER': 245, 'ADBE': 246, 'HPE': 247, 'CNK': 248, 'DAL': 249, 'HTZ': 250, 'LMT': 251, 'LRDR': 252, 'DVAX': 253, 'BFRI': 254, 'APT': 255, 'UAL': 256, 'ALPP': 257, 'NRT': 258, 'PXD': 259, 'BP': 260, 'KO': 261, 'PEP': 262, 'PG': 263, 'DNUT': 264, 'VINE': 265, 'SLB': 266, 'HES': 267, 'ZNGA': 268, 'BIDU': 269, 'HZNP': 270, 'GILD': 271, 'KMPH': 272, 'PFE': 273, 'GLASF': 274, 'CPSH': 275, 'ACN': 276, 'SHOP': 277, 'CRCT': 278, 'SANT': 279, 'RNWF': 280, 'EMN': 281, 'HCC': 282, 'AG': 283, 'APA': 284, 'BBY': 285, 'SEV': 286, 'F': 287, 'ABNB': 288, 'CVX': 289, 'CEI': 290, 'RIG': 291, 'VBIV': 292, 'CYDY': 293, 'ATAI': 294, 'DASH': 295, 'FB': 296, 'NTDOY': 297, 'ORGN': 298, 'R': 299, 'CELH': 300, 'FHS': 301, 'WMT': 302, 'HD': 303, 'SFIX': 304, 'BABL': 305, 'ATER': 306, 'GOOS': 307, 'MO': 308, 'SBEV': 309, 'TQLB': 310, 'UNP': 311, 'BBIG': 312, 'RH': 313, 'GLBE': 314, 'CRTX': 315, 'LGVN': 316, 'A': 317, 'AA': 318, 'AMRS': 319, 'FAMI': 320, 'OPAD': 321, 'CL': 322, 'IVST': 323, 'ARCB': 324, 'MGI': 325, 'LMND': 326, 'SUNL': 327, 'FORW': 328, 'BCTX': 329, 'MOS': 330, 'NAK': 331, 'PPSI': 332, 'ASAN': 333, 'GWSO': 334, 'PANW': 335, 'XELA': 336, 'HIMX': 337, 'FUTU': 338, 'SAVE': 339, 'GOOGL': 340, 'INMD': 341, 'SRNE': 342, 'MSFT': 343, 'NTAP': 344, 'KC': 345, 'DM': 346, 'HMBL': 347, 'PHUN': 348, 'CLSK': 349, 'CRWD': 350, 'PSFE': 351, 'MRIN': 352, 'IBM': 353, 'NOK': 354, 'FSLR': 355, 'ZS': 356, 'DLTR': 357, 'VLO': 358, 'Z': 359, 'SBGI': 360, 'AMAT': 361, 'ENPH': 362, 'CTXS': 363, 'VUZI': 364, 'MMAT': 365, 'ASML': 366, 'CAMT': 367, 'BFLY': 368, 'SRPT': 369, 'ENZC': 370, 'ABBV': 371, 'GLSI': 372, 'BHVN': 373, 'BMY': 374, 'ERBB': 375, 'GRWG': 376, 'TRIP': 377, 'ASO': 378, 'SE': 379, 'KSM': 380, 'PGR': 381, 'BX': 382, 'BAC': 383, 'DOCU': 384, 'SNOW': 385, 'BKKT': 386, 'ZM': 387, 'MU': 388, 'VET': 389, 'GENI': 390, 'WLL': 391, 'X': 392, 'BEEM': 393, 'HMNY': 394, 'CRM': 395, 'AVGO': 396, 'SOL': 397, 'PAR': 398}\n",
            "{'Healthcare': ['A', 'ABBV', 'ABT', 'ABUS', 'ACAD', 'AEZS', 'AFMD', 'ALDX', 'AMGN', 'AMRN', 'ARWR', 'ATAI', 'ATIP', 'AUPH', 'BBIO', 'BCTX', 'BFLY', 'BFRI', 'BHVN', 'BIIB', 'BLUE', 'BMY', 'BNTX', 'CDNA', 'CDXC', 'CGC', 'CLDX', 'CLOV', 'CLPT', 'CMPS', 'CMRX', 'CODX', 'CRDL', 'CRON', 'CRTX', 'CVS', 'CYDY', 'DCGO', 'DNA', 'DVAX', 'ENZC', 'ERBB', 'EVO', 'EXAS', 'EXEL', 'FBRX', 'FOLD', 'GERN', 'GILD', 'GLASF', 'GLSI', 'GMVD', 'GNCA', 'GSK', 'GTBIF', 'HGEN', 'HUM', 'HZNP', 'IGEX', 'IINN', 'ILMN', 'IMCC', 'IMMX', 'INMD', 'INO', 'IPA', 'IRTC', 'ISRG', 'JNJ', 'KMPH', 'LGVN', 'LPTX', 'MRK', 'MRNA', 'MYNZ', 'MYOV', 'NKTR', 'NTLA', 'NTRB', 'NURO', 'NVAX', 'NWBO', 'OCGN', 'PACB', 'PAVM', 'PFE', 'PROG', 'PSTV', 'PULM', 'QURE', 'RAD', 'RGBP', 'RGBPP', 'RVPH', 'RWBYF', 'SAVA', 'SDC', 'SENS', 'SNDL', 'SRNE', 'SRPT', 'SXTC', 'SYK', 'TDOC', 'TGGI', 'TLRY', 'TNDM', 'TRVN', 'UNH', 'VBIV', 'VTVT', 'VVOS', 'VXRT', 'XAIR', 'XERS', 'XXII', 'ZGNX'], 'Basic Materials': ['AA', 'AFPW', 'AG', 'AMRS', 'ASM', 'AU', 'BHP', 'CC', 'CF', 'CLF', 'EMN', 'EXK', 'FCX', 'GEVO', 'GOLD', 'HCC', 'LAC', 'MAG', 'MOS', 'MP', 'NAK', 'NEM', 'NG', 'ORGN', 'RIO', 'RNWF', 'TECK', 'VALE', 'WWR', 'X'], 'Industrials': ['AAL', 'AERC', 'AJRD', 'ALK', 'ALPP', 'APT', 'ARCB', 'ASTR', 'ATVK', 'AZ', 'B', 'BA', 'BLNK', 'CAR', 'CAT', 'CBAT', 'CHRA', 'DAL', 'DE', 'DGLY', 'ENS', 'FAST', 'FCEL', 'FDX', 'GE', 'GFAI', 'GGG', 'GGII', 'GNRC', 'GPN', 'GRIN', 'HTZ', 'IDEX', 'IVST', 'J', 'JBHT', 'JOBY', 'LMT', 'LQMT', 'LUV', 'MMM', 'OPTT', 'PIXY', 'PL', 'PLUG', 'POLA', 'PPSI', 'R', 'RCRT', 'SAVE', 'SPCE', 'TRI', 'UAL', 'UAVS', 'UNP', 'UPS', 'WM', 'ZIM', 'ZIP'], 'Consumer Cyclical': ['ABNB', 'AEO', 'AMZN', 'APRN', 'ASO', 'ATER', 'BABA', 'BABL', 'BBBY', 'BBIG', 'BBY', 'BKNG', 'BROS', 'CCL', 'CHWY', 'CMG', 'CPNG', 'CPRI', 'CROX', 'CVNA', 'DDS', 'DKNG', 'DKS', 'DPZ', 'EBAY', 'EBET', 'ELYS', 'ETSY', 'EVGO', 'EXPE', 'F', 'FND', 'FSR', 'FTCH', 'GLBE', 'GM', 'GME', 'GNOG', 'GOEV', 'GOOS', 'GP', 'GPS', 'GRIL', 'GRWG', 'GT', 'GVSI', 'HAS', 'HD', 'HLT', 'HOG', 'HOUR', 'JD', 'JMIA', 'KBH', 'KSS', 'LCID', 'LEN', 'LGIH', 'LOCO', 'LOTZ', 'LOVE', 'LTRY', 'LULU', 'LVS', 'M', 'MCD', 'MELI', 'MGM', 'MLCO', 'MTN', 'NEGG', 'NIO', 'NKE', 'NKLA', 'OLPX', 'ONON', 'OSTK', 'PDD', 'PENN', 'PIK', 'PLBY', 'PTON', 'PTRA', 'PZZA', 'QS', 'RCL', 'RENN', 'RH', 'RICK', 'RIVN', 'RKUNY', 'SBUX', 'SEV', 'SFIX', 'SGC', 'SHAK', 'SOLO', 'STLA', 'SYPR', 'TKAT', 'TONR', 'TRIP', 'TSCO', 'UA', 'ULTA', 'URBN', 'VRM', 'W', 'WGO', 'WISH', 'WKHS', 'WYNN', 'XPEV', 'XSPA', 'YETI'], 'Technology': ['ACFN', 'ACN', 'ADBE', 'AEHR', 'AFRM', 'AI', 'AMAT', 'AMBA', 'AMD', 'AMKR', 'AMPL', 'ANET', 'ANY', 'APPS', 'ARQQ', 'ASAN', 'ASML', 'ATOM', 'AVCT', 'AVGO', 'AVLR', 'BB', 'BEEM', 'BILL', 'BKKT', 'CAMT', 'CFLT', 'CLSK', 'COIN', 'COMP', 'CPSH', 'CRCT', 'CRM', 'CRSM', 'CRWD', 'CSCO', 'CTXS', 'DATS', 'DDOG', 'DELL', 'DIDI', 'DLO', 'DM', 'DOCN', 'DOCU', 'ENPH', 'FATH', 'FSLR', 'FSLY', 'FTNT', 'G', 'GLW', 'GPRO', 'GWSO', 'HIMX', 'HMBL', 'HMNY', 'HOOD', 'HPE', 'HUBS', 'IBM', 'INFY', 'INPX', 'INTC', 'KC', 'LAZR', 'LINK', 'LRCX', 'LUNA', 'MDB', 'MINM', 'MITQ', 'MMAT', 'MQ', 'MRIN', 'MRVL', 'MSFT', 'MSTR', 'MTTR', 'MU', 'MVIS', 'NCNO', 'NET', 'NEWR', 'NOK', 'NTAP', 'NTNX', 'NVDA', 'NXPI', 'NXTP', 'OKTA', 'ORCL', 'PANW', 'PAR', 'PATH', 'PHUN', 'PLAN', 'PLTR', 'PSFE', 'QCOM', 'RIOT', 'RUN', 'S', 'SANT', 'SEAC', 'SHOP', 'SNOW', 'SOL', 'SONO', 'SONY', 'SOS', 'SOTK', 'SPLK', 'SQ', 'STX', 'SWKS', 'TER', 'TSM', 'TTCM', 'TTD', 'TXN', 'TYL', 'U', 'UBER', 'UCTT', 'VMNT', 'VRAR', 'VUZI', 'WDAY', 'WEJO', 'XELA', 'YALA', 'YOU', 'ZI', 'ZM', 'ZS'], 'Consumer Defensive': ['ACI', 'BYND', 'CELH', 'CHGG', 'CL', 'CLX', 'COST', 'COTY', 'DLTR', 'DNUT', 'DOGZ', 'FAMI', 'FHS', 'FIZZ', 'FREE', 'HAIN', 'K', 'KO', 'MF', 'MNST', 'MO', 'ONE', 'OTLY', 'PEP', 'PG', 'SBEV', 'SKIN', 'TGT', 'TQLB', 'VFF', 'VINE', 'WMT'], 'Utilities': ['AGR', 'D', 'ES', 'HLGN', 'OEG', 'PCG'], 'Real Estate': ['AHT', 'AMT', 'LTC', 'MSTO', 'OPAD', 'OPEN', 'PLD', 'RDFN', 'SAFE'], 'Communication Services': ['AMC', 'ATUS', 'ATVI', 'AUD', 'BIDU', 'CABO', 'CNK', 'DASH', 'DBMM', 'DIS', 'EA', 'FB', 'FUBO', 'GENI', 'GOGO', 'GOOG', 'GOOGL', 'GRPN', 'HUYA', 'ICOA', 'ISIG', 'NFLX', 'NTDOY', 'OPRA', 'PINS', 'RBLX', 'ROKU', 'SBGI', 'SE', 'SKLZ', 'SNAP', 'SNPW', 'SPOT', 'STRN', 'T', 'TTWO', 'TWLO', 'TWTR', 'VZ', 'XNET', 'YNDX', 'Z', 'ZNGA'], 'Financial Services': ['AMP', 'BAC', 'BLK', 'BTBT', 'BTCS', 'BTT', 'BX', 'C', 'CFG', 'CFVI', 'CNGT', 'CRKR', 'CS', 'DB', 'DEFTF', 'DWAC', 'FOMC', 'FORW', 'FUTU', 'GGAL', 'GGPI', 'GS', 'IBKR', 'IFXY', 'IVZ', 'JEF', 'JPM', 'KSM', 'L', 'LC', 'LMND', 'LRDR', 'MA', 'MARA', 'MGI', 'MS', 'NGCG', 'NICH', 'NU', 'PGR', 'PNC', 'PPGH', 'PRU', 'PSLV', 'PSTH', 'PYPL', 'RELI', 'RKT', 'SCHW', 'SI', 'SOFI', 'SUNL', 'TPG', 'UMAX', 'UPST', 'V', 'WFC'], 'Energy': ['APA', 'AR', 'AUNXF', 'BP', 'BRN', 'BTU', 'CCJ', 'CEI', 'CHK', 'CNQ', 'CVE', 'CVX', 'DNN', 'DVN', 'E', 'EQT', 'ET', 'FANG', 'GTE', 'HES', 'IPOOF', 'KMI', 'NRT', 'OXY', 'PXD', 'RIG', 'SLB', 'UEC', 'VET', 'VLO', 'VTXB', 'WLL', 'WTI', 'XOM'], 'Services': ['DISCA', 'LTNC']}\n",
            "dict_keys(['Healthcare', 'Basic Materials', 'Industrials', 'Consumer Cyclical', 'Technology', 'Consumer Defensive', 'Utilities', 'Real Estate', 'Communication Services', 'Financial Services', 'Energy', 'Services'])\n",
            "['ACFN', 'ACN', 'ADBE', 'AEHR', 'AFRM', 'AI', 'AMAT', 'AMBA', 'AMD', 'AMKR', 'AMPL', 'ANET', 'ANY', 'APPS', 'ARQQ', 'ASAN', 'ASML', 'ATOM', 'AVCT', 'AVGO', 'AVLR', 'BB', 'BEEM', 'BILL', 'BKKT', 'CAMT', 'CFLT', 'CLSK', 'COIN', 'COMP', 'CPSH', 'CRCT', 'CRM', 'CRSM', 'CRWD', 'CSCO', 'CTXS', 'DATS', 'DDOG', 'DELL', 'DIDI', 'DLO', 'DM', 'DOCN', 'DOCU', 'ENPH', 'FATH', 'FSLR', 'FSLY', 'FTNT', 'G', 'GLW', 'GPRO', 'GWSO', 'HIMX', 'HMBL', 'HMNY', 'HOOD', 'HPE', 'HUBS', 'IBM', 'INFY', 'INPX', 'INTC', 'KC', 'LAZR', 'LINK', 'LRCX', 'LUNA', 'MDB', 'MINM', 'MITQ', 'MMAT', 'MQ', 'MRIN', 'MRVL', 'MSFT', 'MSTR', 'MTTR', 'MU', 'MVIS', 'NCNO', 'NET', 'NEWR', 'NOK', 'NTAP', 'NTNX', 'NVDA', 'NXPI', 'NXTP', 'OKTA', 'ORCL', 'PANW', 'PAR', 'PATH', 'PHUN', 'PLAN', 'PLTR', 'PSFE', 'QCOM', 'RIOT', 'RUN', 'S', 'SANT', 'SEAC', 'SHOP', 'SNOW', 'SOL', 'SONO', 'SONY', 'SOS', 'SOTK', 'SPLK', 'SQ', 'STX', 'SWKS', 'TER', 'TSM', 'TTCM', 'TTD', 'TXN', 'TYL', 'U', 'UBER', 'UCTT', 'VMNT', 'VRAR', 'VUZI', 'WDAY', 'WEJO', 'XELA', 'YALA', 'YOU', 'ZI', 'ZM', 'ZS']\n"
          ]
        }
      ],
      "source": [
        "print(index_to_company)\n",
        "print(company_to_index)\n",
        "print(sector_company_map)\n",
        "print(sector_company_map.keys())\n",
        "print(sector_company_map['Technology'])"
      ]
    },
    {
      "cell_type": "code",
      "execution_count": 10,
      "metadata": {
        "id": "gHNJzGpqA1cc"
      },
      "outputs": [],
      "source": [
        "DATA_PATH = '/content/idl-spring-22-project-deepar/data'\n",
        "\n",
        "\n",
        "\n",
        "stock_inputs = np.load(DATA_PATH + '/stock_inputs.npy', allow_pickle=True)\n",
        "stock_labels = np.load(DATA_PATH + '/stock_labels.npy', allow_pickle=True)\n",
        "\n",
        "stock_test_inputs = np.load(DATA_PATH + '/stock_test_inputs.npy',allow_pickle=True)\n",
        "stock_test_labels = np.load(DATA_PATH + '/stock_test_labels.npy',allow_pickle=True)"
      ]
    },
    {
      "cell_type": "code",
      "execution_count": null,
      "metadata": {
        "id": "PX3BN2JaM1JO"
      },
      "outputs": [],
      "source": [
        "NUM_TRAIN_SAMPLES = 50254\n",
        "NUM_TEST_SAMPLES  = 15704\n",
        "\n",
        "stock_inputs_trimmed = stock_inputs[:NUM_TRAIN_SAMPLES,:,:]\n",
        "stock_labels_trimmed = stock_labels[:NUM_TRAIN_SAMPLES,:]\n",
        "\n",
        "stock_test_inputs_trimmed = stock_test_inputs[:NUM_TEST_SAMPLES,:,:]\n",
        "stock_test_labels_trimmed = stock_test_labels[:NUM_TEST_SAMPLES,:]"
      ]
    },
    {
      "cell_type": "code",
      "execution_count": null,
      "metadata": {
        "colab": {
          "base_uri": "https://localhost:8080/"
        },
        "id": "HJJrrFcGGHSE",
        "outputId": "88c5882c-3b78-453a-813b-0bbf89f4dbbb"
      },
      "outputs": [
        {
          "name": "stdout",
          "output_type": "stream",
          "text": [
            "stock_inputs_trimmed shape (50254, 192, 13)\n",
            "stock_labels_trimmed shape (50254, 192, 13)\n",
            "stock_test_inputs_trimmed shape (15704, 192, 13)\n",
            "stock_test_labels_trimmed shape (15704, 192, 13)\n"
          ]
        }
      ],
      "source": [
        "print('stock_inputs_trimmed shape', stock_inputs_trimmed.shape)\n",
        "print('stock_labels_trimmed shape', stock_labels_trimmed.shape)\n",
        "print('stock_test_inputs_trimmed shape', stock_test_inputs_trimmed.shape)\n",
        "print('stock_test_labels_trimmed shape', stock_test_labels_trimmed.shape)"
      ]
    },
    {
      "cell_type": "code",
      "execution_count": null,
      "metadata": {
        "colab": {
          "base_uri": "https://localhost:8080/"
        },
        "id": "2gBCEnkxeIRa",
        "outputId": "c2a66504-dfc6-40c8-c274-79c79e49e264"
      },
      "outputs": [
        {
          "name": "stdout",
          "output_type": "stream",
          "text": [
            "{'cov_dim': 7, 'op_dim': 5, 'lstm_hidden_dim': 64, 'lstm_layers': 4, 'window_size': 192, 'batch_size': 64, 'learning_rate': 0.005, 'epochs': 100, 'num_test_samples': 15704, 'num_train_samples': 50254, 'conditioning_period': 168, 'prediction_period': 24, 'num_companies': 5, 'mu_sigma_dim': 1, 'scheduler_step_size': 20, 'scheduler_gamma': 0.95, 'horizon_period': 5, 'horizon_weights': array([0.03225806, 0.06451613, 0.12903226, 0.25806452, 0.51612903])}\n"
          ]
        }
      ],
      "source": [
        "\n",
        "\n",
        "def generate_horizon_weights(horizon_len):\n",
        "\n",
        "  weight = [1]\n",
        "  for i in range(1, horizon_len):\n",
        "    weight.append(weight[-1]*2)\n",
        "\n",
        "  weight_arr = np.array(weight)\n",
        "\n",
        "  return weight_arr/ np.sum(weight_arr)\n",
        "\n",
        "HORIZON_PERIOD = 5\n",
        "\n",
        "params = {\n",
        "    # 'num_classes': len(train_comp_ids),\n",
        "    # 'embedding_dim':5,\n",
        "    #  month, day, 5 companies open and volume\n",
        "    'cov_dim': 7,\n",
        "    'op_dim': 5,  # op does not have the \"time covariates\"\n",
        "    'lstm_hidden_dim': 64,\n",
        "    'lstm_layers':4,\n",
        "    'window_size':192,\n",
        "    'batch_size': 64,\n",
        "    'learning_rate': 0.005,\n",
        "    'epochs':100,\n",
        "    'num_test_samples': NUM_TEST_SAMPLES,\n",
        "    'num_train_samples': NUM_TRAIN_SAMPLES,\n",
        "    'conditioning_period': 168,\n",
        "    'prediction_period': 24,\n",
        "    'num_companies': 5,\n",
        "    'mu_sigma_dim': 1,  # each datapoint is one-d,\n",
        "    'scheduler_step_size': 20,\n",
        "    'scheduler_gamma': 0.95,\n",
        "    'horizon_period': HORIZON_PERIOD,\n",
        "    'horizon_weights': generate_horizon_weights(HORIZON_PERIOD)\n",
        "}\n",
        "wandb.config = params\n",
        "print(params)"
      ]
    },
    {
      "cell_type": "code",
      "execution_count": null,
      "metadata": {
        "id": "MIZTYqXUVoi1"
      },
      "outputs": [],
      "source": [
        "import numpy as np\n",
        "import torch\n",
        "from torch.utils.data import Dataset, Sampler\n",
        "from pathlib import Path\n",
        "import sys\n",
        "\n",
        "DATA_PATH = '/content/idl-spring-22-project-deepar/data'\n",
        "\n",
        "\n",
        "class TrainDataset(Dataset):\n",
        "    def __init__(self):\n",
        "        self.data = stock_inputs\n",
        "        self.label = stock_labels\n",
        "        self.train_len = self.data.shape[0]\n",
        "\n",
        "\n",
        "    def __len__(self):\n",
        "        return self.train_len\n",
        "  \n",
        "    def __getitem__(self, index):\n",
        "        x1 = torch.from_numpy(self.data[index][:,[0,2,4,6,8,10,11]].astype(np.float32))\n",
        "        x2 = torch.from_numpy(self.label[index][:,[0,2,4,6,8]].astype(np.float32))\n",
        "        return x1, x2  \n",
        "\n",
        "class TestDataset(Dataset):\n",
        "    def __init__(self):\n",
        "        self.data = stock_test_inputs\n",
        "        self.label = stock_test_labels\n",
        "        self.test_len = self.data.shape[0]\n",
        "        \n",
        "    def __len__(self):\n",
        "        return self.test_len\n",
        "\n",
        "    def __getitem__(self, index):\n",
        "      x1 = torch.from_numpy(self.data[index][:,[0,2,4,6,8,10,11]].astype(np.float32))\n",
        "      x2 = torch.from_numpy(self.label[index][:,[0,2,4,6,8]].astype(np.float32))\n",
        "      return x1, x2  "
      ]
    },
    {
      "cell_type": "code",
      "execution_count": null,
      "metadata": {
        "id": "vUjBboi-RjWy"
      },
      "outputs": [],
      "source": [
        ""
      ]
    },
    {
      "cell_type": "code",
      "execution_count": null,
      "metadata": {
        "id": "VoSrBQrGRFeL"
      },
      "outputs": [],
      "source": [
        "class TrainDatasetHorizon(Dataset):\n",
        "    def __init__(self):\n",
        "        self.data = stock_inputs\n",
        "        self.label = stock_labels\n",
        "        self.train_len = self.data.shape[0]\n",
        "        self.horizon_period = params['horizon_period']\n",
        "\n",
        "\n",
        "    def __len__(self):\n",
        "        return self.train_len\n",
        "  \n",
        "    def __getitem__(self, index):\n",
        "        x1 = torch.from_numpy(self.data[index][:,[0,2,4,6,8,10,11]].astype(np.float32))\n",
        "        x2 = torch.from_numpy(self.label[index][:,[0,2,4,6,8]].astype(np.float32))\n",
        "        \n",
        "        x_shift = [None]*self.horizon_period\n",
        "        x_shift = [torch.roll(x2, shifts=-1*i, dims=0)[:-1*(self.horizon_period - 1 )] for i in range(0, self.horizon_period)]\n",
        "\n",
        "        \n",
        "        return x1[:-1*(self.horizon_period - 1 ), :], x_shift  "
      ]
    },
    {
      "cell_type": "code",
      "execution_count": null,
      "metadata": {
        "id": "__VxpSfrRlK7"
      },
      "outputs": [],
      "source": [
        "train_horizon = TrainDatasetHorizon()"
      ]
    },
    {
      "cell_type": "code",
      "execution_count": null,
      "metadata": {
        "id": "fKpEy6hZSPeF"
      },
      "outputs": [],
      "source": [
        "for x1, x2 in train_horizon:\n",
        "\n",
        "    # print(x2)\n",
        "    print(\"x1 shape\", x1.shape)\n",
        "    print(\"x2 shape\", x2[0].shape)\n",
        "\n",
        "    print(\"x2[0]\", x2[0])\n",
        "\n",
        "    print(\"\\n\")\n",
        "    print(\"x2[4]\", x2[4])\n",
        "\n",
        "\n",
        "\n",
        "    break"
      ]
    },
    {
      "cell_type": "code",
      "execution_count": null,
      "metadata": {
        "id": "a3I7J_ZLesq9"
      },
      "outputs": [],
      "source": [
        "train_data = TrainDatasetHorizon()\n",
        "test_data  = TestDataset()\n",
        "\n",
        "train_loader = torch.utils.data.DataLoader(train_data, batch_size=params['batch_size'], shuffle=True)\n",
        "test_loader = torch.utils.data.DataLoader(test_data, batch_size=params['batch_size'], shuffle=False)\n"
      ]
    },
    {
      "cell_type": "code",
      "execution_count": null,
      "metadata": {
        "id": "BNCwGgCeBh4h"
      },
      "outputs": [],
      "source": [
        "def rmse(overall_mu, overall_label):\n",
        "  predictions = overall_mu.cpu().detach().numpy()\n",
        "  labels = overall_label.cpu().detach().numpy()\n",
        "\n",
        "  N, _ = predictions.shape\n",
        "  numerator = np.sqrt((1/(N)) *np.sum((predictions - labels) ** 2))\n",
        "\n",
        "  denominator = (1/(N)) *np.sum(np.abs(labels))\n",
        "  result =numerator/denominator\n",
        "\n",
        "  return result\n",
        "\n",
        "def ND(overall_mu, overall_label):\n",
        "  predictions = overall_mu.cpu().detach().numpy()\n",
        "  labels = overall_label.cpu().detach().numpy()\n",
        "\n",
        "  N, _ = predictions.shape\n",
        "  numerator = np.sum(np.abs(labels - predictions))\n",
        "\n",
        "  denominator = np.sum(np.abs(labels))\n",
        "  result =numerator/denominator\n",
        "\n",
        "  return result\n"
      ]
    },
    {
      "cell_type": "markdown",
      "metadata": {
        "id": "159ySGUzmwsD"
      },
      "source": [
        "# MODEL\n"
      ]
    },
    {
      "cell_type": "code",
      "execution_count": null,
      "metadata": {
        "id": "HLxjSYBzmyuz"
      },
      "outputs": [],
      "source": [
        "class Network(nn.Module):\n",
        "    def __init__(self, params):\n",
        "        '''\n",
        "        We define a recurrent network that predicts the \n",
        "        future values of a time-dependent variable based on\n",
        "        past inputs and covariates.\n",
        "        '''\n",
        "        super(Network, self).__init__()\n",
        "        self.params = params\n",
        "        \n",
        "        self.lstm = nn.LSTM(input_size=params['cov_dim'],\n",
        "                            hidden_size=params['lstm_hidden_dim'],\n",
        "                            num_layers=params['lstm_layers'],\n",
        "                            bias=True,\n",
        "                            batch_first=True,\n",
        "                          )\n",
        "\n",
        "        self.price_mu = nn.Sequential(\n",
        "                        nn.Linear(params['lstm_hidden_dim'], params['num_companies']),\n",
        "                        nn.GELU()\n",
        "                      )\n",
        "        \n",
        "        self.price_sigma = nn.Sequential(\n",
        "                        nn.Linear(params['lstm_hidden_dim'], params['num_companies']),\n",
        "                        nn.Softplus()\n",
        "                      )\n",
        "        \n",
        "\n",
        "    def forward(self, x, h0_c0=None):\n",
        "        '''\n",
        "        Predict mu and sigma of the distribution for z_t.\n",
        "        '''\n",
        "        \n",
        "        batch_size = x.shape[0]\n",
        "        seq_len = x.shape[1]\n",
        "        cov_dim = x.shape[2]\n",
        "\n",
        "        assert cov_dim == params['cov_dim']\n",
        "        assert batch_size <= params['batch_size']\n",
        "                  \n",
        "        out1, hn_cn = self.lstm(input=x, hx=h0_c0)\n",
        "              \n",
        "        out_price_mu = self.price_mu(out1)\n",
        "        out_price_sigma = self.price_sigma(out1)\n",
        "        \n",
        "        return out_price_mu, out_price_sigma, hn_cn\n",
        "\n"
      ]
    },
    {
      "cell_type": "code",
      "execution_count": null,
      "metadata": {
        "id": "e4gWHzoKQb8c"
      },
      "outputs": [],
      "source": [
        "model = Network(params)"
      ]
    },
    {
      "cell_type": "code",
      "execution_count": null,
      "metadata": {
        "id": "kmpCoaF6hBS8"
      },
      "outputs": [],
      "source": [
        "def gauss_fit_and_sample(price_mu, price_sigma):\n",
        "  window_len = price_mu.shape[1]\n",
        "  batch_size = price_mu.shape[0]\n",
        "\n",
        "  price_mu_reshape = price_mu.view(batch_size * window_len * params['num_companies'], params['mu_sigma_dim'])\n",
        "  price_sigma_reshape = price_sigma.view(batch_size * window_len * params['num_companies'], params['mu_sigma_dim'])\n",
        "\n",
        "  gauss_price = torch.distributions.Normal(price_mu_reshape, price_sigma_reshape)\n",
        "\n",
        "  price_sampled_reshape = gauss_price.sample()\n",
        "  price_sampled = price_sampled_reshape.view(batch_size, window_len, params['num_companies'])\n",
        "\n",
        "  return price_sampled"
      ]
    },
    {
      "cell_type": "code",
      "execution_count": null,
      "metadata": {
        "id": "NK3Q5UWCGCX0"
      },
      "outputs": [],
      "source": [
        "# Test Code Conditioning Period + Prediction Period\n",
        "\n",
        "\n",
        "def validate(model):\n",
        "\n",
        "  model.eval()\n",
        "\n",
        "\n",
        "  conditionining_period = params['conditioning_period']\n",
        "  prediction_period     = params['prediction_period']\n",
        "\n",
        "  assert conditionining_period + prediction_period == params['window_size']\n",
        "\n",
        "  with torch.no_grad():\n",
        "      \n",
        "    overall_price_mu = None\n",
        "    # overall_volume_mu = None\n",
        "\n",
        "    overall_price_sigma = None\n",
        "    # overall_volume_sigma = None\n",
        "\n",
        "    overall_price_label = None\n",
        "    # overall_volume_label = None\n",
        "\n",
        "    overall_price_pred = None\n",
        "    # overall_volume_pred = None\n",
        "\n",
        "    for i, (ip_covariate, op_label) in enumerate(test_loader):\n",
        "\n",
        "      ip_covariate = ip_covariate.cuda()\n",
        "      op_label = op_label.cuda()\n",
        "\n",
        "      cond_ip = ip_covariate[:, 0:params['conditioning_period'], :]\n",
        "      cond_op = op_label[:, 0:params['conditioning_period'], :]\n",
        "\n",
        "      pred_ip = ip_covariate[:, params['conditioning_period']:, :]\n",
        "      pred_op = op_label[:, params['conditioning_period']:, :]\n",
        "\n",
        "      # Step One - Forward Pass : Conditioning Period.\n",
        "      price_mu, price_sigma, ht_ct = model.forward(x=cond_ip, h0_c0=None)\n",
        "\n",
        "      # Sample GMM and get PRICE/ volume\n",
        "      price_sampled = gauss_fit_and_sample(price_mu, price_sigma)\n",
        "\n",
        "      price_sampled_last = price_sampled[:, -1, :].unsqueeze(1)\n",
        "\n",
        "      batch_price_mu = price_mu\n",
        "      batch_price_sigma = price_sigma\n",
        "\n",
        "      batch_price_pred = price_sampled\n",
        "\n",
        "      for t in range(0, prediction_period):\n",
        "        pred_cov_ip = pred_ip[:, t, :].unsqueeze(1)\n",
        "\n",
        "        # pred_cov_ip[:, 0, 2:2 + params['num_companies']] = price_sampled_last[:, 0, :]\n",
        "        pred_cov_ip[:, 0, 0:params['num_companies']] = price_sampled_last[:, 0, :]\n",
        "        price_pred_mu, price_pred_sigma, ht_ct = model.forward(x=pred_cov_ip,h0_c0=ht_ct)\n",
        "        price_sampled_last = gauss_fit_and_sample(price_pred_mu, price_pred_sigma)\n",
        "\n",
        "        batch_price_mu = torch.cat((batch_price_mu, price_pred_mu), dim=1)\n",
        "        batch_price_sigma = torch.cat((batch_price_sigma, price_pred_sigma), dim=1)        \n",
        "        batch_price_pred = torch.cat((batch_price_pred, price_sampled_last), dim=1)\n",
        "\n",
        "      overall_price_mu = batch_price_mu if overall_price_mu is None else torch.cat((overall_price_mu, batch_price_mu), dim=0)\n",
        "      overall_price_sigma = batch_price_sigma if overall_price_sigma is None else torch.cat((overall_price_sigma, batch_price_sigma), dim=0)\n",
        "      overall_price_pred = batch_price_pred if overall_price_pred is None else torch.cat((overall_price_pred, batch_price_pred), dim=0)\n",
        "      overall_price_label = op_label[:, :, 0:params['num_companies']] if overall_price_label is None else torch.cat((overall_price_label, op_label[:, :, 0:params['num_companies']]), dim=0)\n",
        "    \n",
        "  \n",
        "  return overall_price_pred,overall_price_label, overall_price_mu, overall_price_sigma\n"
      ]
    },
    {
      "cell_type": "code",
      "execution_count": null,
      "metadata": {
        "colab": {
          "background_save": true,
          "base_uri": "https://localhost:8080/"
        },
        "id": "kQ6wFWORLyHh",
        "outputId": "e2ef0e20-2879-4a2e-997b-15e84af46d95"
      },
      "outputs": [
        {
          "name": "stderr",
          "output_type": "stream",
          "text": [
            ""
          ]
        },
        {
          "name": "stdout",
          "output_type": "stream",
          "text": [
            "Epoch 0, price loss 0.14529459178447723\n"
          ]
        },
        {
          "name": "stderr",
          "output_type": "stream",
          "text": [
            ""
          ]
        },
        {
          "name": "stdout",
          "output_type": "stream",
          "text": [
            "Epoch 1, price loss -0.45010972023010254\n"
          ]
        },
        {
          "name": "stderr",
          "output_type": "stream",
          "text": [
            ""
          ]
        },
        {
          "name": "stdout",
          "output_type": "stream",
          "text": [
            "Epoch 2, price loss -0.09896358847618103\n"
          ]
        },
        {
          "name": "stderr",
          "output_type": "stream",
          "text": [
            ""
          ]
        },
        {
          "name": "stdout",
          "output_type": "stream",
          "text": [
            "Epoch 3, price loss -0.4134294390678406\n"
          ]
        },
        {
          "name": "stderr",
          "output_type": "stream",
          "text": [
            ""
          ]
        },
        {
          "name": "stdout",
          "output_type": "stream",
          "text": [
            "Epoch 4, price loss -0.5188876390457153\n"
          ]
        },
        {
          "name": "stderr",
          "output_type": "stream",
          "text": [
            ""
          ]
        },
        {
          "name": "stdout",
          "output_type": "stream",
          "text": [
            "Epoch 5, price loss -0.4507448077201843\n"
          ]
        },
        {
          "name": "stderr",
          "output_type": "stream",
          "text": [
            ""
          ]
        },
        {
          "name": "stdout",
          "output_type": "stream",
          "text": [
            "Epoch 6, price loss -0.49086517095565796\n"
          ]
        },
        {
          "name": "stderr",
          "output_type": "stream",
          "text": [
            ""
          ]
        },
        {
          "name": "stdout",
          "output_type": "stream",
          "text": [
            "Epoch 7, price loss -0.6167657375335693\n"
          ]
        },
        {
          "name": "stderr",
          "output_type": "stream",
          "text": [
            ""
          ]
        },
        {
          "name": "stdout",
          "output_type": "stream",
          "text": [
            "Epoch 8, price loss -0.5786628723144531\n"
          ]
        },
        {
          "name": "stderr",
          "output_type": "stream",
          "text": [
            ""
          ]
        },
        {
          "name": "stdout",
          "output_type": "stream",
          "text": [
            "Epoch 9, price loss -0.7531421184539795\n"
          ]
        },
        {
          "name": "stderr",
          "output_type": "stream",
          "text": [
            ""
          ]
        },
        {
          "name": "stdout",
          "output_type": "stream",
          "text": [
            "Epoch 10, price loss -0.595324695110321\n"
          ]
        },
        {
          "name": "stderr",
          "output_type": "stream",
          "text": [
            ""
          ]
        },
        {
          "name": "stdout",
          "output_type": "stream",
          "text": [
            "Epoch 11, price loss -0.549889087677002\n"
          ]
        },
        {
          "name": "stderr",
          "output_type": "stream",
          "text": [
            ""
          ]
        },
        {
          "name": "stdout",
          "output_type": "stream",
          "text": [
            "Epoch 12, price loss -0.6555171012878418\n"
          ]
        },
        {
          "name": "stderr",
          "output_type": "stream",
          "text": [
            ""
          ]
        },
        {
          "name": "stdout",
          "output_type": "stream",
          "text": [
            "Epoch 13, price loss -1.0500866174697876\n"
          ]
        },
        {
          "name": "stderr",
          "output_type": "stream",
          "text": [
            ""
          ]
        },
        {
          "name": "stdout",
          "output_type": "stream",
          "text": [
            "Epoch 14, price loss -0.30792200565338135\n"
          ]
        },
        {
          "name": "stderr",
          "output_type": "stream",
          "text": [
            ""
          ]
        },
        {
          "name": "stdout",
          "output_type": "stream",
          "text": [
            "Epoch 15, price loss -0.39874544739723206\n"
          ]
        },
        {
          "name": "stderr",
          "output_type": "stream",
          "text": [
            ""
          ]
        },
        {
          "name": "stdout",
          "output_type": "stream",
          "text": [
            "Epoch 16, price loss -0.516373336315155\n"
          ]
        },
        {
          "name": "stderr",
          "output_type": "stream",
          "text": [
            ""
          ]
        },
        {
          "name": "stdout",
          "output_type": "stream",
          "text": [
            "Epoch 17, price loss -0.4468141496181488\n"
          ]
        },
        {
          "name": "stderr",
          "output_type": "stream",
          "text": [
            ""
          ]
        },
        {
          "name": "stdout",
          "output_type": "stream",
          "text": [
            "Epoch 18, price loss -0.5586777925491333\n"
          ]
        },
        {
          "name": "stderr",
          "output_type": "stream",
          "text": [
            ""
          ]
        },
        {
          "name": "stdout",
          "output_type": "stream",
          "text": [
            "Epoch 19, price loss -0.6594813466072083\n"
          ]
        },
        {
          "name": "stderr",
          "output_type": "stream",
          "text": [
            ""
          ]
        },
        {
          "name": "stdout",
          "output_type": "stream",
          "text": [
            "Epoch 20, price loss -0.8166286945343018\n"
          ]
        },
        {
          "name": "stderr",
          "output_type": "stream",
          "text": [
            ""
          ]
        },
        {
          "name": "stdout",
          "output_type": "stream",
          "text": [
            "Epoch 21, price loss -0.7710195779800415\n"
          ]
        },
        {
          "name": "stderr",
          "output_type": "stream",
          "text": [
            ""
          ]
        },
        {
          "name": "stdout",
          "output_type": "stream",
          "text": [
            "Epoch 22, price loss -0.6939241886138916\n"
          ]
        },
        {
          "name": "stderr",
          "output_type": "stream",
          "text": [
            ""
          ]
        },
        {
          "name": "stdout",
          "output_type": "stream",
          "text": [
            "Epoch 23, price loss -0.6954993009567261\n"
          ]
        },
        {
          "name": "stderr",
          "output_type": "stream",
          "text": [
            ""
          ]
        },
        {
          "name": "stdout",
          "output_type": "stream",
          "text": [
            "Epoch 24, price loss -0.34203505516052246\n"
          ]
        },
        {
          "name": "stderr",
          "output_type": "stream",
          "text": [
            ""
          ]
        },
        {
          "name": "stdout",
          "output_type": "stream",
          "text": [
            "Epoch 25, price loss -0.6077457666397095\n"
          ]
        },
        {
          "name": "stderr",
          "output_type": "stream",
          "text": [
            ""
          ]
        },
        {
          "name": "stdout",
          "output_type": "stream",
          "text": [
            "Epoch 26, price loss -0.38779401779174805\n"
          ]
        },
        {
          "name": "stderr",
          "output_type": "stream",
          "text": [
            ""
          ]
        },
        {
          "name": "stdout",
          "output_type": "stream",
          "text": [
            "Epoch 27, price loss -0.7098586559295654\n"
          ]
        },
        {
          "name": "stderr",
          "output_type": "stream",
          "text": [
            ""
          ]
        },
        {
          "name": "stdout",
          "output_type": "stream",
          "text": [
            "Epoch 28, price loss -0.653910756111145\n"
          ]
        },
        {
          "name": "stderr",
          "output_type": "stream",
          "text": [
            ""
          ]
        },
        {
          "name": "stdout",
          "output_type": "stream",
          "text": [
            "Epoch 29, price loss -0.7043719291687012\n"
          ]
        },
        {
          "name": "stderr",
          "output_type": "stream",
          "text": [
            ""
          ]
        },
        {
          "name": "stdout",
          "output_type": "stream",
          "text": [
            "Epoch 30, price loss -0.8685530424118042\n"
          ]
        },
        {
          "name": "stderr",
          "output_type": "stream",
          "text": [
            ""
          ]
        },
        {
          "name": "stdout",
          "output_type": "stream",
          "text": [
            "Epoch 31, price loss -0.7190977334976196\n"
          ]
        },
        {
          "name": "stderr",
          "output_type": "stream",
          "text": [
            ""
          ]
        },
        {
          "name": "stdout",
          "output_type": "stream",
          "text": [
            "Epoch 32, price loss -0.8188560009002686\n"
          ]
        },
        {
          "name": "stderr",
          "output_type": "stream",
          "text": [
            ""
          ]
        },
        {
          "name": "stdout",
          "output_type": "stream",
          "text": [
            "Epoch 33, price loss -0.8489495515823364\n"
          ]
        },
        {
          "name": "stderr",
          "output_type": "stream",
          "text": [
            ""
          ]
        },
        {
          "name": "stdout",
          "output_type": "stream",
          "text": [
            "Epoch 34, price loss -0.8472074270248413\n"
          ]
        },
        {
          "name": "stderr",
          "output_type": "stream",
          "text": [
            ""
          ]
        },
        {
          "name": "stdout",
          "output_type": "stream",
          "text": [
            "Epoch 35, price loss -0.6392410397529602\n"
          ]
        },
        {
          "name": "stderr",
          "output_type": "stream",
          "text": [
            ""
          ]
        },
        {
          "name": "stdout",
          "output_type": "stream",
          "text": [
            "Epoch 36, price loss -0.9479904174804688\n"
          ]
        },
        {
          "name": "stderr",
          "output_type": "stream",
          "text": [
            ""
          ]
        },
        {
          "name": "stdout",
          "output_type": "stream",
          "text": [
            "Epoch 37, price loss -0.825102686882019\n"
          ]
        },
        {
          "name": "stderr",
          "output_type": "stream",
          "text": [
            "Train:  59%|█████▉    | 486/820 [00:21<00:14, 23.16it/s, loss=-77.8654, lr=0.0047]"
          ]
        }
      ],
      "source": [
        "model = Network(params)\n",
        "\n",
        "model_version='vectorized_gaussian_weighted_loss_v1.pt'\n",
        "epochs = 100\n",
        "\n",
        "optimizer = torch.optim.Adam(model.parameters(), lr=params['learning_rate'])\n",
        "scheduler = optim.lr_scheduler.StepLR(optimizer, step_size=params['scheduler_step_size'], gamma=params['scheduler_gamma'])\n",
        "\n",
        "for epoch in range(0, epochs):\n",
        "\n",
        "  batch_bar = tqdm(total=len(train_loader), dynamic_ncols=True, leave=False, position=0, desc='Train') \n",
        "  model.train()\n",
        "  model.cuda()\n",
        "\n",
        "  total_loss = 0\n",
        "  total_price_loss = 0\n",
        "  total_volume_loss = 0\n",
        "\n",
        "  if os.path.exists(f'/content/drive/MyDrive/DeepARExperiments/{model_version}'):\n",
        "      # model.load_state_dict(torch.load(f'{SAVE_PATH}{EXP_TAG}/model_saved_epoch{epoch-1}.pt')) \n",
        "\n",
        "      checkpoint = torch.load(f'/content/drive/MyDrive/DeepARExperiments/{model_version}')\n",
        "      model.load_state_dict(checkpoint['model_state_dict'])\n",
        "      optimizer.load_state_dict(checkpoint['optimizer_state_dict'])\n",
        "      epoch = checkpoint['epoch'] + 1\n",
        "  \n",
        "  for i, (ip_covariate, op_label_list) in enumerate(train_loader):\n",
        "\n",
        "    optimizer.zero_grad()\n",
        "\n",
        "    ip_covariate = ip_covariate.cuda()\n",
        "    op_label_list     = [op_label.cuda() for op_label in op_label_list]\n",
        "\n",
        "    \n",
        "    out_price_mu, out_price_sigma, ht_ct = model.forward(x=ip_covariate)\n",
        "    \n",
        "    batch_size = out_price_mu.shape[0]\n",
        "    seq_with_horizon = params['window_size'] - params['horizon_period'] + 1\n",
        "\n",
        "    out_price_mu = out_price_mu.view(batch_size * seq_with_horizon * params['num_companies'], params['mu_sigma_dim'])\n",
        "    out_price_sigma = out_price_sigma.view(batch_size * seq_with_horizon * params['num_companies'], params['mu_sigma_dim'])\n",
        "\n",
        "    loss = 0\n",
        "\n",
        "    for i, op_label in enumerate(op_label_list):\n",
        "\n",
        "      op_label_price = op_label.view(batch_size * seq_with_horizon * params['num_companies'], params['mu_sigma_dim'])\n",
        "      gauss_price =  torch.distributions.Normal(out_price_mu, out_price_sigma)   \n",
        "\n",
        "      sample_loss =  -1 * torch.sum(gauss_price.log_prob(op_label_price)) / (batch_size * seq_with_horizon * params['num_companies'])\n",
        "      loss += sample_loss * params['horizon_weights'][i]\n",
        "    loss.backward()\n",
        "\n",
        "    total_loss += float(loss)\n",
        "    optimizer.step()\n",
        "\n",
        "    batch_bar.set_postfix(\n",
        "    loss=\"{:.04f}\".format(float(total_loss / (i + 1))),\n",
        "    lr=\"{:.04f}\".format(float(optimizer.param_groups[0]['lr'])))\n",
        "\n",
        "    batch_bar.update() \n",
        "\n",
        "  batch_bar.close() # You need this to close the tqdm bar\n",
        "  overall_price_pred, overall_price_label, overall_price_mu, overall_price_sigma = validate(model)\n",
        "  scheduler.step()\n",
        "\n",
        "  torch.save({\n",
        "          'epoch': epoch,\n",
        "          'model_state_dict': model.state_dict(),\n",
        "          'optimizer_state_dict': optimizer.state_dict(),\n",
        "          'loss': total_loss/len(train_loader),\n",
        "          },  f'/content/drive/MyDrive/DeepARExperiments/{model_version}')\n",
        "\n",
        "\n",
        "  rmse_price = rmse(overall_price_pred.view(-1, 1), overall_price_label.view(-1, 1))\n",
        "  nd_price = ND(overall_price_pred.view(-1, 1), overall_price_label.view(-1, 1))\n",
        "  wandb.log({\"loss\":loss})\n",
        "  print(f\"Epoch {epoch}, price loss {loss}\")"
      ]
    },
    {
      "cell_type": "code",
      "execution_count": null,
      "metadata": {
        "id": "watBKVnZKui7"
      },
      "outputs": [],
      "source": [
        "import plotly.express as px\n",
        "import plotly.graph_objects as go\n",
        "import pandas as pd\n",
        "\n",
        "def plot_test_output_data(actual,predicted, window_id,cov_id):\n",
        "  x=np.linspace(1, len(actual[window_id]), num=len(actual[window_id]))\n",
        "  df = pd.DataFrame()\n",
        "  df['actual'] = actual[window_id,:,cov_id]\n",
        "  df['predicted'] = predicted[window_id,:,cov_id]\n",
        "  \n",
        "\n",
        "  fig = go.Figure()\n",
        "  fig.add_vline(x=168)\n",
        "  fig.add_traces(go.Scatter(x=x, y = df['actual'], mode = 'lines', name = 'Actual'))\n",
        "  fig.add_traces(go.Scatter(x=x, y = df['predicted'], mode = 'lines', name = 'Predicted'))\n",
        "\n",
        "  fig.update_xaxes(title_text='Time Samples')\n",
        "  fig.update_yaxes(title_text='Normalized Stock Opening Price')\n",
        "  fig.show()\n",
        "  \n"
      ]
    },
    {
      "cell_type": "code",
      "execution_count": null,
      "metadata": {
        "colab": {
          "base_uri": "https://localhost:8080/",
          "height": 1000
        },
        "id": "EZDyI-_kNR-c",
        "outputId": "d9f88471-a419-4670-fa99-2c7ffaf8b8fd"
      },
      "outputs": [
        {
          "data": {
            "text/html": [
              "<html>\n",
              "<head><meta charset=\"utf-8\" /></head>\n",
              "<body>\n",
              "    <div>            <script src=\"https://cdnjs.cloudflare.com/ajax/libs/mathjax/2.7.5/MathJax.js?config=TeX-AMS-MML_SVG\"></script><script type=\"text/javascript\">if (window.MathJax) {MathJax.Hub.Config({SVG: {font: \"STIX-Web\"}});}</script>                <script type=\"text/javascript\">window.PlotlyConfig = {MathJaxConfig: 'local'};</script>\n",
              "        <script src=\"https://cdn.plot.ly/plotly-2.8.3.min.js\"></script>                <div id=\"4885a6ff-2b07-4e9d-b105-d509103df3ad\" class=\"plotly-graph-div\" style=\"height:525px; width:100%;\"></div>            <script type=\"text/javascript\">                                    window.PLOTLYENV=window.PLOTLYENV || {};                                    if (document.getElementById(\"4885a6ff-2b07-4e9d-b105-d509103df3ad\")) {                    Plotly.newPlot(                        \"4885a6ff-2b07-4e9d-b105-d509103df3ad\",                        [{\"mode\":\"lines\",\"name\":\"Actual\",\"x\":[1.0,2.0,3.0,4.0,5.0,6.0,7.0,8.0,9.0,10.0,11.0,12.0,13.0,14.0,15.0,16.0,17.0,18.0,19.0,20.0,21.0,22.0,23.0,24.0,25.0,26.0,27.0,28.0,29.0,30.0,31.0,32.0,33.0,34.0,35.0,36.0,37.0,38.0,39.0,40.0,41.0,42.0,43.0,44.0,45.0,46.0,47.0,48.0,49.0,50.0,51.0,52.0,53.0,54.0,55.0,56.0,57.0,58.0,59.0,60.0,61.0,62.0,63.0,64.0,65.0,66.0,67.0,68.0,69.0,70.0,71.0,72.0,73.0,74.0,75.0,76.0,77.0,78.0,79.0,80.0,81.0,82.0,83.0,84.0,85.0,86.0,87.0,88.0,89.0,90.0,91.0,92.0,93.0,94.0,95.0,96.0,97.0,98.0,99.0,100.0,101.0,102.0,103.0,104.0,105.0,106.0,107.0,108.0,109.0,110.0,111.0,112.0,113.0,114.0,115.0,116.0,117.0,118.0,119.0,120.0,121.0,122.0,123.0,124.0,125.0,126.0,127.0,128.0,129.0,130.0,131.0,132.0,133.0,134.0,135.0,136.0,137.0,138.0,139.0,140.0,141.0,142.0,143.0,144.0,145.0,146.0,147.0,148.0,149.0,150.0,151.0,152.0,153.0,154.0,155.0,156.0,157.0,158.0,159.0,160.0,161.0,162.0,163.0,164.0,165.0,166.0,167.0,168.0,169.0,170.0,171.0,172.0,173.0,174.0,175.0,176.0,177.0,178.0,179.0,180.0,181.0,182.0,183.0,184.0,185.0,186.0,187.0,188.0,189.0,190.0,191.0,192.0],\"y\":[1.5333912372589111,1.5538510084152222,1.5615273714065552,1.6218689680099487,1.5853327512741089,1.5650814771652222,1.5896646976470947,1.5733791589736938,1.4869645833969116,1.528472661972046,1.5025360584259033,1.4880986213684082,1.5594795942306519,1.566463828086853,1.5814260244369507,1.6014280319213867,1.6250602006912231,1.6048099994659424,1.690153956413269,1.703075647354126,1.6765809059143066,1.7095208168029785,1.6570227146148682,1.636898159980774,1.6719449758529663,1.663608193397522,1.539689302444458,1.5310639142990112,1.5202000141143799,1.4763175249099731,1.522635817527771,1.57615065574646,1.4871437549591064,1.3971977233886719,1.3727829456329346,1.3361364603042603,1.3394298553466797,1.4070794582366943,1.4100151062011719,1.3449592590332031,1.3743597269058228,1.392354965209961,1.3317853212356567,1.3745249509811401,1.3192888498306274,1.3542094230651855,1.3682349920272827,1.324131965637207,1.206125259399414,1.2226722240447998,1.177634835243225,1.177185297012329,1.2239850759506226,1.3021970987319946,1.3033838272094727,1.2887810468673706,1.3636032342910767,1.3970365524291992,1.4100151062011719,1.415198564529419,1.4319592714309692,1.4745914936065674,1.4449634552001953,1.464843511581421,1.4108434915542603,1.3802913427352905,1.3159109354019165,1.3596850633621216,1.3627409934997559,1.3743935823440552,1.4131978750228882,1.3754113912582397,1.4118303060531616,1.3424981832504272,1.3322728872299194,1.2734943628311157,1.2659921646118164,1.156803846359253,1.2461282014846802,1.1985617876052856,1.1202960014343262,1.1841373443603516,1.2185617685317993,1.2168735265731812,1.2143770456314087,1.217286467552185,1.234276533126831,1.2633872032165527,1.3033488988876343,1.287385106086731,1.3424981832504272,1.3407081365585327,1.338746190071106,1.3478519916534424,1.3410123586654663,1.334506630897522,1.2858103513717651,1.2699108123779297,1.2647671699523926,1.3275206089019775,1.3169115781784058,1.3090566396713257,1.337730050086975,1.3380011320114136,1.3874598741531372,1.313388466835022,1.28959321975708,1.343948483467102,1.3941329717636108,1.4494719505310059,1.5209579467773438,1.58858323097229,1.5766903162002563,1.606268048286438,1.6191496849060059,1.6092594861984253,1.6563504934310913,1.606268048286438,1.5911961793899536,1.6143261194229126,1.5231425762176514,1.5595076084136963,1.6078859567642212,1.6008589267730713,1.5913962125778198,1.543935775756836,1.5241990089416504,1.4831528663635254,1.528386116027832,1.5414296388626099,1.5703336000442505,1.5786117315292358,1.6973944902420044,1.7100398540496826,1.6849303245544434,1.6693644523620605,1.6174936294555664,1.5926984548568726,1.5734623670578003,1.5482521057128906,1.4476521015167236,1.5053319931030273,1.4841547012329102,1.5009734630584717,1.4326473474502563,1.4131660461425781,1.4081332683563232,1.3673762083053589,1.356887936592102,1.3701486587524414,1.317428708076477,1.3349483013153076,1.3661082983016968,1.3876872062683105,1.365722894668579,1.3524456024169922,1.3617453575134277,1.3669795989990234,1.3645310401916504,1.3592193126678467,1.4112892150878906,1.287703275680542,1.3240976333618164,1.3215926885604858,1.2913919687271118,1.3110339641571045,1.2598183155059814,1.2507336139678955,1.2277107238769531,1.2293463945388794,1.2512441873550415,1.2271016836166382,1.2382944822311401,1.237358808517456,1.308355450630188,1.2643345594406128,1.239676833152771,1.2307571172714233,1.2125860452651978,1.1873751878738403,1.2101833820343018,1.2139792442321777,1.160196304321289,1.1671478748321533,1.2602163553237915,1.262385606765747,1.244405746459961,1.242901086807251,1.2443323135375977,1.2822284698486328,1.272599458694458,1.2529202699661255],\"type\":\"scatter\"},{\"mode\":\"lines\",\"name\":\"Predicted\",\"x\":[1.0,2.0,3.0,4.0,5.0,6.0,7.0,8.0,9.0,10.0,11.0,12.0,13.0,14.0,15.0,16.0,17.0,18.0,19.0,20.0,21.0,22.0,23.0,24.0,25.0,26.0,27.0,28.0,29.0,30.0,31.0,32.0,33.0,34.0,35.0,36.0,37.0,38.0,39.0,40.0,41.0,42.0,43.0,44.0,45.0,46.0,47.0,48.0,49.0,50.0,51.0,52.0,53.0,54.0,55.0,56.0,57.0,58.0,59.0,60.0,61.0,62.0,63.0,64.0,65.0,66.0,67.0,68.0,69.0,70.0,71.0,72.0,73.0,74.0,75.0,76.0,77.0,78.0,79.0,80.0,81.0,82.0,83.0,84.0,85.0,86.0,87.0,88.0,89.0,90.0,91.0,92.0,93.0,94.0,95.0,96.0,97.0,98.0,99.0,100.0,101.0,102.0,103.0,104.0,105.0,106.0,107.0,108.0,109.0,110.0,111.0,112.0,113.0,114.0,115.0,116.0,117.0,118.0,119.0,120.0,121.0,122.0,123.0,124.0,125.0,126.0,127.0,128.0,129.0,130.0,131.0,132.0,133.0,134.0,135.0,136.0,137.0,138.0,139.0,140.0,141.0,142.0,143.0,144.0,145.0,146.0,147.0,148.0,149.0,150.0,151.0,152.0,153.0,154.0,155.0,156.0,157.0,158.0,159.0,160.0,161.0,162.0,163.0,164.0,165.0,166.0,167.0,168.0,169.0,170.0,171.0,172.0,173.0,174.0,175.0,176.0,177.0,178.0,179.0,180.0,181.0,182.0,183.0,184.0,185.0,186.0,187.0,188.0,189.0,190.0,191.0,192.0],\"y\":[1.6515029668807983,1.2024281024932861,1.3380661010742188,1.5491935014724731,1.5418230295181274,1.4945428371429443,1.527613878250122,1.5167101621627808,1.518770456314087,1.4669994115829468,1.4223856925964355,1.4169948101043701,1.4906747341156006,1.586621642112732,1.622837781906128,1.6088905334472656,1.6179888248443604,1.6371004581451416,1.5334140062332153,1.7242376804351807,1.7048083543777466,1.5584980249404907,1.6473257541656494,1.6347874402999878,1.5981128215789795,1.6202112436294556,1.527619481086731,1.4683102369308472,1.5924690961837769,1.474363088607788,1.4809939861297607,1.4546562433242798,1.4874473810195923,1.3677126169204712,1.319289207458496,1.3062697649002075,1.3417025804519653,1.2408888339996338,1.3423902988433838,1.3761903047561646,1.2700947523117065,1.4087800979614258,1.3166691064834595,1.217200756072998,1.2978373765945435,1.2660776376724243,1.232038140296936,1.196074366569519,1.3227463960647583,1.2271865606307983,1.103217363357544,1.1190003156661987,1.1047500371932983,1.1023532152175903,1.3267298936843872,1.2320586442947388,1.1970540285110474,1.297674536705017,1.390812635421753,1.3814716339111328,1.3409550189971924,1.2592177391052246,1.4098821878433228,1.3710498809814453,1.4222410917282104,1.352712631225586,1.2265524864196777,1.2967557907104492,1.404292106628418,1.2579655647277832,1.332330346107483,1.4135504961013794,1.3150829076766968,1.4078716039657593,1.2746214866638184,1.351404070854187,1.2088263034820557,1.1504430770874023,0.9850254058837891,1.1541556119918823,1.1405278444290161,0.9803873300552368,1.1180663108825684,1.2035857439041138,0.9603835344314575,1.1504911184310913,1.0750950574874878,1.1469964981079102,1.1984015703201294,1.2962349653244019,1.198964238166809,1.3085615634918213,1.2477314472198486,1.3204892873764038,1.3708031177520752,1.2461135387420654,1.272209644317627,1.2372376918792725,1.2386054992675781,1.151381015777588,1.3035244941711426,1.2764928340911865,1.3148270845413208,1.2149571180343628,1.3297311067581177,1.3546911478042603,1.3054779767990112,1.1802396774291992,1.2689687013626099,1.3351082801818848,1.36375093460083,1.4764117002487183,1.6123323440551758,1.48928701877594,1.604725956916809,1.6216576099395752,1.5465067625045776,1.624934434890747,1.5589431524276733,1.5228580236434937,1.5034724473953247,1.4316307306289673,1.577993392944336,1.5675137042999268,1.6728324890136719,1.514440655708313,1.3748869895935059,1.5170422792434692,1.4451477527618408,1.4481265544891357,1.486413598060608,1.456634283065796,1.4905476570129395,1.5603806972503662,1.6373310089111328,1.6314706802368164,1.5846120119094849,1.5258190631866455,1.5109598636627197,1.4914307594299316,1.4975858926773071,1.4422125816345215,1.5157277584075928,1.462881088256836,1.473294734954834,1.3625717163085938,1.3765099048614502,1.348717451095581,1.3663276433944702,1.343605875968933,1.2310997247695923,1.315848708152771,1.312849521636963,1.3413164615631104,1.3429535627365112,1.235748529434204,1.3858803510665894,1.2799079418182373,1.3170660734176636,1.336655616760254,1.2337552309036255,1.3682693243026733,1.254826545715332,1.1543042659759521,1.1815413236618042,1.2218821048736572,1.2072606086730957,1.2817431688308716,1.6074782609939575,1.0510175228118896,1.1970341205596924,1.314130425453186,1.2640438079833984,1.4610564708709717,1.5299183130264282,1.4719284772872925,1.3350086212158203,1.3296822309494019,1.1457152366638184,1.310339331626892,1.188909649848938,1.3770791292190552,1.3525561094284058,0.9843213558197021,1.2695854902267456,0.975753903388977,1.1698174476623535,1.2185090780258179,2.5928468704223633,0.9799115061759949,1.2295145988464355,1.035131812095642],\"type\":\"scatter\"}],                        {\"template\":{\"data\":{\"bar\":[{\"error_x\":{\"color\":\"#2a3f5f\"},\"error_y\":{\"color\":\"#2a3f5f\"},\"marker\":{\"line\":{\"color\":\"#E5ECF6\",\"width\":0.5},\"pattern\":{\"fillmode\":\"overlay\",\"size\":10,\"solidity\":0.2}},\"type\":\"bar\"}],\"barpolar\":[{\"marker\":{\"line\":{\"color\":\"#E5ECF6\",\"width\":0.5},\"pattern\":{\"fillmode\":\"overlay\",\"size\":10,\"solidity\":0.2}},\"type\":\"barpolar\"}],\"carpet\":[{\"aaxis\":{\"endlinecolor\":\"#2a3f5f\",\"gridcolor\":\"white\",\"linecolor\":\"white\",\"minorgridcolor\":\"white\",\"startlinecolor\":\"#2a3f5f\"},\"baxis\":{\"endlinecolor\":\"#2a3f5f\",\"gridcolor\":\"white\",\"linecolor\":\"white\",\"minorgridcolor\":\"white\",\"startlinecolor\":\"#2a3f5f\"},\"type\":\"carpet\"}],\"choropleth\":[{\"colorbar\":{\"outlinewidth\":0,\"ticks\":\"\"},\"type\":\"choropleth\"}],\"contour\":[{\"colorbar\":{\"outlinewidth\":0,\"ticks\":\"\"},\"colorscale\":[[0.0,\"#0d0887\"],[0.1111111111111111,\"#46039f\"],[0.2222222222222222,\"#7201a8\"],[0.3333333333333333,\"#9c179e\"],[0.4444444444444444,\"#bd3786\"],[0.5555555555555556,\"#d8576b\"],[0.6666666666666666,\"#ed7953\"],[0.7777777777777778,\"#fb9f3a\"],[0.8888888888888888,\"#fdca26\"],[1.0,\"#f0f921\"]],\"type\":\"contour\"}],\"contourcarpet\":[{\"colorbar\":{\"outlinewidth\":0,\"ticks\":\"\"},\"type\":\"contourcarpet\"}],\"heatmap\":[{\"colorbar\":{\"outlinewidth\":0,\"ticks\":\"\"},\"colorscale\":[[0.0,\"#0d0887\"],[0.1111111111111111,\"#46039f\"],[0.2222222222222222,\"#7201a8\"],[0.3333333333333333,\"#9c179e\"],[0.4444444444444444,\"#bd3786\"],[0.5555555555555556,\"#d8576b\"],[0.6666666666666666,\"#ed7953\"],[0.7777777777777778,\"#fb9f3a\"],[0.8888888888888888,\"#fdca26\"],[1.0,\"#f0f921\"]],\"type\":\"heatmap\"}],\"heatmapgl\":[{\"colorbar\":{\"outlinewidth\":0,\"ticks\":\"\"},\"colorscale\":[[0.0,\"#0d0887\"],[0.1111111111111111,\"#46039f\"],[0.2222222222222222,\"#7201a8\"],[0.3333333333333333,\"#9c179e\"],[0.4444444444444444,\"#bd3786\"],[0.5555555555555556,\"#d8576b\"],[0.6666666666666666,\"#ed7953\"],[0.7777777777777778,\"#fb9f3a\"],[0.8888888888888888,\"#fdca26\"],[1.0,\"#f0f921\"]],\"type\":\"heatmapgl\"}],\"histogram\":[{\"marker\":{\"pattern\":{\"fillmode\":\"overlay\",\"size\":10,\"solidity\":0.2}},\"type\":\"histogram\"}],\"histogram2d\":[{\"colorbar\":{\"outlinewidth\":0,\"ticks\":\"\"},\"colorscale\":[[0.0,\"#0d0887\"],[0.1111111111111111,\"#46039f\"],[0.2222222222222222,\"#7201a8\"],[0.3333333333333333,\"#9c179e\"],[0.4444444444444444,\"#bd3786\"],[0.5555555555555556,\"#d8576b\"],[0.6666666666666666,\"#ed7953\"],[0.7777777777777778,\"#fb9f3a\"],[0.8888888888888888,\"#fdca26\"],[1.0,\"#f0f921\"]],\"type\":\"histogram2d\"}],\"histogram2dcontour\":[{\"colorbar\":{\"outlinewidth\":0,\"ticks\":\"\"},\"colorscale\":[[0.0,\"#0d0887\"],[0.1111111111111111,\"#46039f\"],[0.2222222222222222,\"#7201a8\"],[0.3333333333333333,\"#9c179e\"],[0.4444444444444444,\"#bd3786\"],[0.5555555555555556,\"#d8576b\"],[0.6666666666666666,\"#ed7953\"],[0.7777777777777778,\"#fb9f3a\"],[0.8888888888888888,\"#fdca26\"],[1.0,\"#f0f921\"]],\"type\":\"histogram2dcontour\"}],\"mesh3d\":[{\"colorbar\":{\"outlinewidth\":0,\"ticks\":\"\"},\"type\":\"mesh3d\"}],\"parcoords\":[{\"line\":{\"colorbar\":{\"outlinewidth\":0,\"ticks\":\"\"}},\"type\":\"parcoords\"}],\"pie\":[{\"automargin\":true,\"type\":\"pie\"}],\"scatter\":[{\"marker\":{\"colorbar\":{\"outlinewidth\":0,\"ticks\":\"\"}},\"type\":\"scatter\"}],\"scatter3d\":[{\"line\":{\"colorbar\":{\"outlinewidth\":0,\"ticks\":\"\"}},\"marker\":{\"colorbar\":{\"outlinewidth\":0,\"ticks\":\"\"}},\"type\":\"scatter3d\"}],\"scattercarpet\":[{\"marker\":{\"colorbar\":{\"outlinewidth\":0,\"ticks\":\"\"}},\"type\":\"scattercarpet\"}],\"scattergeo\":[{\"marker\":{\"colorbar\":{\"outlinewidth\":0,\"ticks\":\"\"}},\"type\":\"scattergeo\"}],\"scattergl\":[{\"marker\":{\"colorbar\":{\"outlinewidth\":0,\"ticks\":\"\"}},\"type\":\"scattergl\"}],\"scattermapbox\":[{\"marker\":{\"colorbar\":{\"outlinewidth\":0,\"ticks\":\"\"}},\"type\":\"scattermapbox\"}],\"scatterpolar\":[{\"marker\":{\"colorbar\":{\"outlinewidth\":0,\"ticks\":\"\"}},\"type\":\"scatterpolar\"}],\"scatterpolargl\":[{\"marker\":{\"colorbar\":{\"outlinewidth\":0,\"ticks\":\"\"}},\"type\":\"scatterpolargl\"}],\"scatterternary\":[{\"marker\":{\"colorbar\":{\"outlinewidth\":0,\"ticks\":\"\"}},\"type\":\"scatterternary\"}],\"surface\":[{\"colorbar\":{\"outlinewidth\":0,\"ticks\":\"\"},\"colorscale\":[[0.0,\"#0d0887\"],[0.1111111111111111,\"#46039f\"],[0.2222222222222222,\"#7201a8\"],[0.3333333333333333,\"#9c179e\"],[0.4444444444444444,\"#bd3786\"],[0.5555555555555556,\"#d8576b\"],[0.6666666666666666,\"#ed7953\"],[0.7777777777777778,\"#fb9f3a\"],[0.8888888888888888,\"#fdca26\"],[1.0,\"#f0f921\"]],\"type\":\"surface\"}],\"table\":[{\"cells\":{\"fill\":{\"color\":\"#EBF0F8\"},\"line\":{\"color\":\"white\"}},\"header\":{\"fill\":{\"color\":\"#C8D4E3\"},\"line\":{\"color\":\"white\"}},\"type\":\"table\"}]},\"layout\":{\"annotationdefaults\":{\"arrowcolor\":\"#2a3f5f\",\"arrowhead\":0,\"arrowwidth\":1},\"autotypenumbers\":\"strict\",\"coloraxis\":{\"colorbar\":{\"outlinewidth\":0,\"ticks\":\"\"}},\"colorscale\":{\"diverging\":[[0,\"#8e0152\"],[0.1,\"#c51b7d\"],[0.2,\"#de77ae\"],[0.3,\"#f1b6da\"],[0.4,\"#fde0ef\"],[0.5,\"#f7f7f7\"],[0.6,\"#e6f5d0\"],[0.7,\"#b8e186\"],[0.8,\"#7fbc41\"],[0.9,\"#4d9221\"],[1,\"#276419\"]],\"sequential\":[[0.0,\"#0d0887\"],[0.1111111111111111,\"#46039f\"],[0.2222222222222222,\"#7201a8\"],[0.3333333333333333,\"#9c179e\"],[0.4444444444444444,\"#bd3786\"],[0.5555555555555556,\"#d8576b\"],[0.6666666666666666,\"#ed7953\"],[0.7777777777777778,\"#fb9f3a\"],[0.8888888888888888,\"#fdca26\"],[1.0,\"#f0f921\"]],\"sequentialminus\":[[0.0,\"#0d0887\"],[0.1111111111111111,\"#46039f\"],[0.2222222222222222,\"#7201a8\"],[0.3333333333333333,\"#9c179e\"],[0.4444444444444444,\"#bd3786\"],[0.5555555555555556,\"#d8576b\"],[0.6666666666666666,\"#ed7953\"],[0.7777777777777778,\"#fb9f3a\"],[0.8888888888888888,\"#fdca26\"],[1.0,\"#f0f921\"]]},\"colorway\":[\"#636efa\",\"#EF553B\",\"#00cc96\",\"#ab63fa\",\"#FFA15A\",\"#19d3f3\",\"#FF6692\",\"#B6E880\",\"#FF97FF\",\"#FECB52\"],\"font\":{\"color\":\"#2a3f5f\"},\"geo\":{\"bgcolor\":\"white\",\"lakecolor\":\"white\",\"landcolor\":\"#E5ECF6\",\"showlakes\":true,\"showland\":true,\"subunitcolor\":\"white\"},\"hoverlabel\":{\"align\":\"left\"},\"hovermode\":\"closest\",\"mapbox\":{\"style\":\"light\"},\"paper_bgcolor\":\"white\",\"plot_bgcolor\":\"#E5ECF6\",\"polar\":{\"angularaxis\":{\"gridcolor\":\"white\",\"linecolor\":\"white\",\"ticks\":\"\"},\"bgcolor\":\"#E5ECF6\",\"radialaxis\":{\"gridcolor\":\"white\",\"linecolor\":\"white\",\"ticks\":\"\"}},\"scene\":{\"xaxis\":{\"backgroundcolor\":\"#E5ECF6\",\"gridcolor\":\"white\",\"gridwidth\":2,\"linecolor\":\"white\",\"showbackground\":true,\"ticks\":\"\",\"zerolinecolor\":\"white\"},\"yaxis\":{\"backgroundcolor\":\"#E5ECF6\",\"gridcolor\":\"white\",\"gridwidth\":2,\"linecolor\":\"white\",\"showbackground\":true,\"ticks\":\"\",\"zerolinecolor\":\"white\"},\"zaxis\":{\"backgroundcolor\":\"#E5ECF6\",\"gridcolor\":\"white\",\"gridwidth\":2,\"linecolor\":\"white\",\"showbackground\":true,\"ticks\":\"\",\"zerolinecolor\":\"white\"}},\"shapedefaults\":{\"line\":{\"color\":\"#2a3f5f\"}},\"ternary\":{\"aaxis\":{\"gridcolor\":\"white\",\"linecolor\":\"white\",\"ticks\":\"\"},\"baxis\":{\"gridcolor\":\"white\",\"linecolor\":\"white\",\"ticks\":\"\"},\"bgcolor\":\"#E5ECF6\",\"caxis\":{\"gridcolor\":\"white\",\"linecolor\":\"white\",\"ticks\":\"\"}},\"title\":{\"x\":0.05},\"xaxis\":{\"automargin\":true,\"gridcolor\":\"white\",\"linecolor\":\"white\",\"ticks\":\"\",\"title\":{\"standoff\":15},\"zerolinecolor\":\"white\",\"zerolinewidth\":2},\"yaxis\":{\"automargin\":true,\"gridcolor\":\"white\",\"linecolor\":\"white\",\"ticks\":\"\",\"title\":{\"standoff\":15},\"zerolinecolor\":\"white\",\"zerolinewidth\":2}}},\"shapes\":[{\"type\":\"line\",\"x0\":168,\"x1\":168,\"xref\":\"x\",\"y0\":0,\"y1\":1,\"yref\":\"y domain\"}],\"xaxis\":{\"title\":{\"text\":\"Time Samples\"}},\"yaxis\":{\"title\":{\"text\":\"Normalized Stock Opening Price\"}}},                        {\"responsive\": true}                    ).then(function(){\n",
              "                            \n",
              "var gd = document.getElementById('4885a6ff-2b07-4e9d-b105-d509103df3ad');\n",
              "var x = new MutationObserver(function (mutations, observer) {{\n",
              "        var display = window.getComputedStyle(gd).display;\n",
              "        if (!display || display === 'none') {{\n",
              "            console.log([gd, 'removed!']);\n",
              "            Plotly.purge(gd);\n",
              "            observer.disconnect();\n",
              "        }}\n",
              "}});\n",
              "\n",
              "// Listen for the removal of the full notebook cells\n",
              "var notebookContainer = gd.closest('#notebook-container');\n",
              "if (notebookContainer) {{\n",
              "    x.observe(notebookContainer, {childList: true});\n",
              "}}\n",
              "\n",
              "// Listen for the clearing of the current output cell\n",
              "var outputEl = gd.closest('.output');\n",
              "if (outputEl) {{\n",
              "    x.observe(outputEl, {childList: true});\n",
              "}}\n",
              "\n",
              "                        })                };                            </script>        </div>\n",
              "</body>\n",
              "</html>"
            ]
          },
          "metadata": {},
          "output_type": "display_data"
        },
        {
          "data": {
            "text/html": [
              "<html>\n",
              "<head><meta charset=\"utf-8\" /></head>\n",
              "<body>\n",
              "    <div>            <script src=\"https://cdnjs.cloudflare.com/ajax/libs/mathjax/2.7.5/MathJax.js?config=TeX-AMS-MML_SVG\"></script><script type=\"text/javascript\">if (window.MathJax) {MathJax.Hub.Config({SVG: {font: \"STIX-Web\"}});}</script>                <script type=\"text/javascript\">window.PlotlyConfig = {MathJaxConfig: 'local'};</script>\n",
              "        <script src=\"https://cdn.plot.ly/plotly-2.8.3.min.js\"></script>                <div id=\"1fe5f31a-60a9-4992-890d-dc9cc5e5bb2f\" class=\"plotly-graph-div\" style=\"height:525px; width:100%;\"></div>            <script type=\"text/javascript\">                                    window.PLOTLYENV=window.PLOTLYENV || {};                                    if (document.getElementById(\"1fe5f31a-60a9-4992-890d-dc9cc5e5bb2f\")) {                    Plotly.newPlot(                        \"1fe5f31a-60a9-4992-890d-dc9cc5e5bb2f\",                        [{\"mode\":\"lines\",\"name\":\"Actual\",\"x\":[1.0,2.0,3.0,4.0,5.0,6.0,7.0,8.0,9.0,10.0,11.0,12.0,13.0,14.0,15.0,16.0,17.0,18.0,19.0,20.0,21.0,22.0,23.0,24.0,25.0,26.0,27.0,28.0,29.0,30.0,31.0,32.0,33.0,34.0,35.0,36.0,37.0,38.0,39.0,40.0,41.0,42.0,43.0,44.0,45.0,46.0,47.0,48.0,49.0,50.0,51.0,52.0,53.0,54.0,55.0,56.0,57.0,58.0,59.0,60.0,61.0,62.0,63.0,64.0,65.0,66.0,67.0,68.0,69.0,70.0,71.0,72.0,73.0,74.0,75.0,76.0,77.0,78.0,79.0,80.0,81.0,82.0,83.0,84.0,85.0,86.0,87.0,88.0,89.0,90.0,91.0,92.0,93.0,94.0,95.0,96.0,97.0,98.0,99.0,100.0,101.0,102.0,103.0,104.0,105.0,106.0,107.0,108.0,109.0,110.0,111.0,112.0,113.0,114.0,115.0,116.0,117.0,118.0,119.0,120.0,121.0,122.0,123.0,124.0,125.0,126.0,127.0,128.0,129.0,130.0,131.0,132.0,133.0,134.0,135.0,136.0,137.0,138.0,139.0,140.0,141.0,142.0,143.0,144.0,145.0,146.0,147.0,148.0,149.0,150.0,151.0,152.0,153.0,154.0,155.0,156.0,157.0,158.0,159.0,160.0,161.0,162.0,163.0,164.0,165.0,166.0,167.0,168.0,169.0,170.0,171.0,172.0,173.0,174.0,175.0,176.0,177.0,178.0,179.0,180.0,181.0,182.0,183.0,184.0,185.0,186.0,187.0,188.0,189.0,190.0,191.0,192.0],\"y\":[1.1245993375778198,1.1536872386932373,1.1577340364456177,1.1208668947219849,1.089353322982788,1.0474696159362793,1.1066720485687256,1.1422909498214722,1.1016261577606201,1.1888883113861084,1.1577340364456177,1.083815097808838,1.1299725770950317,1.102468490600586,1.083815097808838,1.1204514503479004,1.1369668245315552,1.1365563869476318,1.1320334672927856,1.118788719177246,1.1045719385147095,1.1258412599563599,1.1091879606246948,1.1463720798492432,1.1406549215316772,1.1625741720199585,1.1987229585647583,1.2104305028915405,1.2235769033432007,1.0679266452789307,1.0722392797470093,1.1381973028182983,1.201854944229126,1.2592684030532837,1.2726906538009644,1.2969557046890259,1.3286429643630981,1.3128925561904907,1.3360956907272339,1.362033486366272,1.3494775295257568,1.3325519561767578,1.31792414188385,1.331842064857483,1.2441960573196411,1.195583701133728,1.1577340364456177,1.0935980081558228,0.9623817801475525,0.9924128651618958,0.9609794616699219,0.9623817801475525,1.0078585147857666,0.9841634631156921,1.025359869003296,1.0028806924819946,1.018207311630249,1.013717532157898,1.0231287479400635,1.0146167278289795,1.017310619354248,0.9965187311172485,0.9992489814758301,1.040874719619751,1.0217883586883545,1.0640332698822021,1.0391106605529785,1.0969841480255127,1.127495288848877,1.1381973028182983,1.1426995992660522,1.1524708271026611,1.1837458610534668,1.1471868753433228,1.1266684532165527,1.1054123640060425,1.1158740520477295,1.1357351541519165,1.153281807899475,1.168600082397461,1.1312094926834106,1.145964503288269,1.136145830154419,1.154497504234314,1.1677981615066528,1.1328569650650024,1.1020474433898926,1.083388090133667,1.1137882471084595,1.1299725770950317,1.1332684755325317,1.1158740520477295,1.153281807899475,1.195583701133728,1.1785835027694702,1.2077077627182007,1.204199194908142,1.1793789863586426,1.1669957637786865,1.1613657474517822,1.1769911050796509,1.1508471965789795,1.1233563423156738,1.1204514503479004,1.1212821006774902,1.1121171712875366,1.1208668947219849,1.0765382051467896,1.1070917844772339,1.141064167022705,1.1320334672927856,1.1653896570205688,1.1951907873153687,1.2220369577407837,1.1940113306045532,1.1381973028182983,1.1589456796646118,1.1250134706497192,1.113370656967163,1.073100209236145,1.017310619354248,1.0258055925369263,1.0226820707321167,1.013717532157898,0.9730849862098694,0.9388160705566406,0.9340530037879944,0.852418839931488,0.8554573655128479,0.9206259846687317,0.971693754196167,0.960043728351593,0.9548856019973755,0.9520636796951294,0.9707654118537903,0.9754005074501038,0.9553553462028503,0.9482919573783875,0.9354836940765381,0.9326208233833313,0.9965187311172485,1.0514110326766968,1.0417559146881104,1.016861915588379,1.0051456689834595,1.0439562797546387,1.0483464002609253,1.0231287479400635,0.9637827277183533,1.0065027475357056,0.9619144797325134,0.9153141975402832,0.9703010320663452,0.9832437634468079,1.0195512771606445,1.0222352743148804,1.0275872945785522,1.0150660276412964,1.020446538925171,1.020893931388855,0.9992489814758301,0.9910414814949036,0.9482919573783875,0.9321430325508118,0.9012091159820557,0.885965883731842,0.8765372037887573,0.9056023955345154,0.895328938961029,0.9340530037879944,0.9665801525115967,0.9558249115943909,0.9619144797325134,0.9628489017486572,0.9698364734649658,0.9841634631156921,1.130384922027588,1.1402456760406494,1.1245993375778198,1.1179566383361816,1.0978293418884277,1.1183727979660034,1.096561312675476,1.047908067703247,1.0722392797470093,1.04615318775177,0.9763256311416626,0.9772500991821289,0.9464021325111389,0.9157979488372803,0.9350069761276245,0.8610102534294128],\"type\":\"scatter\"},{\"mode\":\"lines\",\"name\":\"Predicted\",\"x\":[1.0,2.0,3.0,4.0,5.0,6.0,7.0,8.0,9.0,10.0,11.0,12.0,13.0,14.0,15.0,16.0,17.0,18.0,19.0,20.0,21.0,22.0,23.0,24.0,25.0,26.0,27.0,28.0,29.0,30.0,31.0,32.0,33.0,34.0,35.0,36.0,37.0,38.0,39.0,40.0,41.0,42.0,43.0,44.0,45.0,46.0,47.0,48.0,49.0,50.0,51.0,52.0,53.0,54.0,55.0,56.0,57.0,58.0,59.0,60.0,61.0,62.0,63.0,64.0,65.0,66.0,67.0,68.0,69.0,70.0,71.0,72.0,73.0,74.0,75.0,76.0,77.0,78.0,79.0,80.0,81.0,82.0,83.0,84.0,85.0,86.0,87.0,88.0,89.0,90.0,91.0,92.0,93.0,94.0,95.0,96.0,97.0,98.0,99.0,100.0,101.0,102.0,103.0,104.0,105.0,106.0,107.0,108.0,109.0,110.0,111.0,112.0,113.0,114.0,115.0,116.0,117.0,118.0,119.0,120.0,121.0,122.0,123.0,124.0,125.0,126.0,127.0,128.0,129.0,130.0,131.0,132.0,133.0,134.0,135.0,136.0,137.0,138.0,139.0,140.0,141.0,142.0,143.0,144.0,145.0,146.0,147.0,148.0,149.0,150.0,151.0,152.0,153.0,154.0,155.0,156.0,157.0,158.0,159.0,160.0,161.0,162.0,163.0,164.0,165.0,166.0,167.0,168.0,169.0,170.0,171.0,172.0,173.0,174.0,175.0,176.0,177.0,178.0,179.0,180.0,181.0,182.0,183.0,184.0,185.0,186.0,187.0,188.0,189.0,190.0,191.0,192.0],\"y\":[1.1219347715377808,1.0260063409805298,1.0293519496917725,1.002395749092102,1.0795469284057617,1.040013313293457,0.9438650012016296,0.9940319061279297,1.2033932209014893,1.163149356842041,1.199514627456665,1.1808176040649414,1.0061293840408325,1.2439457178115845,1.0254812240600586,1.0315639972686768,1.1702100038528442,1.2480902671813965,1.1736013889312744,1.0126638412475586,1.1061662435531616,1.1253478527069092,1.1530029773712158,1.1606327295303345,1.0686386823654175,1.1213724613189697,1.1938962936401367,1.0993943214416504,1.1786586046218872,1.2516727447509766,0.9612345099449158,0.8858799934387207,1.0579746961593628,1.1385819911956787,1.1467621326446533,1.3530935049057007,1.3205761909484863,1.2806380987167358,1.2446396350860596,1.2759205102920532,1.3460670709609985,1.2799737453460693,1.3078473806381226,1.4141572713851929,1.4524238109588623,1.3468111753463745,1.1399786472320557,1.2165223360061646,1.1104925870895386,1.0312044620513916,1.0580462217330933,0.938208281993866,0.955288827419281,1.0506563186645508,0.9740334153175354,0.9504402875900269,1.0724433660507202,0.9406977891921997,1.051751971244812,0.9953919053077698,0.9534820914268494,0.922874927520752,1.01284921169281,0.9527530074119568,1.0474092960357666,0.9918018579483032,1.0478239059448242,1.0192281007766724,1.011149287223816,1.2193138599395752,1.2090485095977783,1.1554025411605835,1.2129534482955933,1.0774506330490112,1.1464816331863403,1.1753623485565186,0.9664410352706909,1.1575298309326172,1.0559135675430298,1.2216966152191162,1.1922856569290161,1.1176846027374268,1.118442416191101,1.1588473320007324,1.1256951093673706,1.0838215351104736,1.1477378606796265,1.215531587600708,0.9356399774551392,1.1992439031600952,1.1728070974349976,1.2290585041046143,1.1775397062301636,1.1963579654693604,1.155457615852356,1.1582239866256714,1.1153002977371216,1.2554943561553955,1.1239140033721924,1.1721649169921875,1.147374153137207,1.1935889720916748,1.1651575565338135,1.1523044109344482,1.1105372905731201,1.056757926940918,1.122699499130249,1.0925273895263672,1.0715806484222412,1.1167956590652466,1.1620351076126099,1.2105129957199097,1.1633541584014893,1.2246513366699219,1.145543098449707,1.117139220237732,1.123699426651001,1.1000977754592896,1.1550904512405396,1.0396145582199097,1.0988080501556396,0.9451956748962402,1.0971534252166748,1.1511142253875732,1.015798807144165,0.8761805295944214,0.9647150635719299,0.8972205519676208,0.9132947325706482,0.8732996582984924,0.9407318830490112,0.9738001823425293,0.9835187196731567,0.8388404846191406,0.921506941318512,0.8950476050376892,0.9814963340759277,1.008757472038269,0.8614885210990906,1.0211950540542603,0.8548088669776917,1.081546425819397,1.0078507661819458,1.0206161737442017,1.0426586866378784,0.9733874201774597,0.8425418138504028,0.9416871666908264,1.094634771347046,0.997138500213623,1.1184659004211426,0.8815279006958008,0.8856138586997986,1.0942399501800537,0.9734016060829163,1.063000202178955,0.9631707668304443,0.9644119739532471,0.9929341077804565,1.053572177886963,1.0570213794708252,0.9400526881217957,0.9660409092903137,0.9926124215126038,0.9124007821083069,0.9565991163253784,0.8392133712768555,0.8340111970901489,0.40164265036582947,1.1222648620605469,1.2859081029891968,1.0551201105117798,1.0020071268081665,0.5434871912002563,1.61878502368927,1.5971685647964478,0.9035348892211914,1.2338242530822754,1.0802844762802124,0.7151435613632202,1.0582289695739746,0.7232645153999329,0.2714107036590576,1.0243624448776245,1.185352087020874,0.7484593391418457,0.8021034002304077,1.0443980693817139,1.859836220741272,1.1277626752853394,0.5890206098556519,0.5460421442985535],\"type\":\"scatter\"}],                        {\"template\":{\"data\":{\"bar\":[{\"error_x\":{\"color\":\"#2a3f5f\"},\"error_y\":{\"color\":\"#2a3f5f\"},\"marker\":{\"line\":{\"color\":\"#E5ECF6\",\"width\":0.5},\"pattern\":{\"fillmode\":\"overlay\",\"size\":10,\"solidity\":0.2}},\"type\":\"bar\"}],\"barpolar\":[{\"marker\":{\"line\":{\"color\":\"#E5ECF6\",\"width\":0.5},\"pattern\":{\"fillmode\":\"overlay\",\"size\":10,\"solidity\":0.2}},\"type\":\"barpolar\"}],\"carpet\":[{\"aaxis\":{\"endlinecolor\":\"#2a3f5f\",\"gridcolor\":\"white\",\"linecolor\":\"white\",\"minorgridcolor\":\"white\",\"startlinecolor\":\"#2a3f5f\"},\"baxis\":{\"endlinecolor\":\"#2a3f5f\",\"gridcolor\":\"white\",\"linecolor\":\"white\",\"minorgridcolor\":\"white\",\"startlinecolor\":\"#2a3f5f\"},\"type\":\"carpet\"}],\"choropleth\":[{\"colorbar\":{\"outlinewidth\":0,\"ticks\":\"\"},\"type\":\"choropleth\"}],\"contour\":[{\"colorbar\":{\"outlinewidth\":0,\"ticks\":\"\"},\"colorscale\":[[0.0,\"#0d0887\"],[0.1111111111111111,\"#46039f\"],[0.2222222222222222,\"#7201a8\"],[0.3333333333333333,\"#9c179e\"],[0.4444444444444444,\"#bd3786\"],[0.5555555555555556,\"#d8576b\"],[0.6666666666666666,\"#ed7953\"],[0.7777777777777778,\"#fb9f3a\"],[0.8888888888888888,\"#fdca26\"],[1.0,\"#f0f921\"]],\"type\":\"contour\"}],\"contourcarpet\":[{\"colorbar\":{\"outlinewidth\":0,\"ticks\":\"\"},\"type\":\"contourcarpet\"}],\"heatmap\":[{\"colorbar\":{\"outlinewidth\":0,\"ticks\":\"\"},\"colorscale\":[[0.0,\"#0d0887\"],[0.1111111111111111,\"#46039f\"],[0.2222222222222222,\"#7201a8\"],[0.3333333333333333,\"#9c179e\"],[0.4444444444444444,\"#bd3786\"],[0.5555555555555556,\"#d8576b\"],[0.6666666666666666,\"#ed7953\"],[0.7777777777777778,\"#fb9f3a\"],[0.8888888888888888,\"#fdca26\"],[1.0,\"#f0f921\"]],\"type\":\"heatmap\"}],\"heatmapgl\":[{\"colorbar\":{\"outlinewidth\":0,\"ticks\":\"\"},\"colorscale\":[[0.0,\"#0d0887\"],[0.1111111111111111,\"#46039f\"],[0.2222222222222222,\"#7201a8\"],[0.3333333333333333,\"#9c179e\"],[0.4444444444444444,\"#bd3786\"],[0.5555555555555556,\"#d8576b\"],[0.6666666666666666,\"#ed7953\"],[0.7777777777777778,\"#fb9f3a\"],[0.8888888888888888,\"#fdca26\"],[1.0,\"#f0f921\"]],\"type\":\"heatmapgl\"}],\"histogram\":[{\"marker\":{\"pattern\":{\"fillmode\":\"overlay\",\"size\":10,\"solidity\":0.2}},\"type\":\"histogram\"}],\"histogram2d\":[{\"colorbar\":{\"outlinewidth\":0,\"ticks\":\"\"},\"colorscale\":[[0.0,\"#0d0887\"],[0.1111111111111111,\"#46039f\"],[0.2222222222222222,\"#7201a8\"],[0.3333333333333333,\"#9c179e\"],[0.4444444444444444,\"#bd3786\"],[0.5555555555555556,\"#d8576b\"],[0.6666666666666666,\"#ed7953\"],[0.7777777777777778,\"#fb9f3a\"],[0.8888888888888888,\"#fdca26\"],[1.0,\"#f0f921\"]],\"type\":\"histogram2d\"}],\"histogram2dcontour\":[{\"colorbar\":{\"outlinewidth\":0,\"ticks\":\"\"},\"colorscale\":[[0.0,\"#0d0887\"],[0.1111111111111111,\"#46039f\"],[0.2222222222222222,\"#7201a8\"],[0.3333333333333333,\"#9c179e\"],[0.4444444444444444,\"#bd3786\"],[0.5555555555555556,\"#d8576b\"],[0.6666666666666666,\"#ed7953\"],[0.7777777777777778,\"#fb9f3a\"],[0.8888888888888888,\"#fdca26\"],[1.0,\"#f0f921\"]],\"type\":\"histogram2dcontour\"}],\"mesh3d\":[{\"colorbar\":{\"outlinewidth\":0,\"ticks\":\"\"},\"type\":\"mesh3d\"}],\"parcoords\":[{\"line\":{\"colorbar\":{\"outlinewidth\":0,\"ticks\":\"\"}},\"type\":\"parcoords\"}],\"pie\":[{\"automargin\":true,\"type\":\"pie\"}],\"scatter\":[{\"marker\":{\"colorbar\":{\"outlinewidth\":0,\"ticks\":\"\"}},\"type\":\"scatter\"}],\"scatter3d\":[{\"line\":{\"colorbar\":{\"outlinewidth\":0,\"ticks\":\"\"}},\"marker\":{\"colorbar\":{\"outlinewidth\":0,\"ticks\":\"\"}},\"type\":\"scatter3d\"}],\"scattercarpet\":[{\"marker\":{\"colorbar\":{\"outlinewidth\":0,\"ticks\":\"\"}},\"type\":\"scattercarpet\"}],\"scattergeo\":[{\"marker\":{\"colorbar\":{\"outlinewidth\":0,\"ticks\":\"\"}},\"type\":\"scattergeo\"}],\"scattergl\":[{\"marker\":{\"colorbar\":{\"outlinewidth\":0,\"ticks\":\"\"}},\"type\":\"scattergl\"}],\"scattermapbox\":[{\"marker\":{\"colorbar\":{\"outlinewidth\":0,\"ticks\":\"\"}},\"type\":\"scattermapbox\"}],\"scatterpolar\":[{\"marker\":{\"colorbar\":{\"outlinewidth\":0,\"ticks\":\"\"}},\"type\":\"scatterpolar\"}],\"scatterpolargl\":[{\"marker\":{\"colorbar\":{\"outlinewidth\":0,\"ticks\":\"\"}},\"type\":\"scatterpolargl\"}],\"scatterternary\":[{\"marker\":{\"colorbar\":{\"outlinewidth\":0,\"ticks\":\"\"}},\"type\":\"scatterternary\"}],\"surface\":[{\"colorbar\":{\"outlinewidth\":0,\"ticks\":\"\"},\"colorscale\":[[0.0,\"#0d0887\"],[0.1111111111111111,\"#46039f\"],[0.2222222222222222,\"#7201a8\"],[0.3333333333333333,\"#9c179e\"],[0.4444444444444444,\"#bd3786\"],[0.5555555555555556,\"#d8576b\"],[0.6666666666666666,\"#ed7953\"],[0.7777777777777778,\"#fb9f3a\"],[0.8888888888888888,\"#fdca26\"],[1.0,\"#f0f921\"]],\"type\":\"surface\"}],\"table\":[{\"cells\":{\"fill\":{\"color\":\"#EBF0F8\"},\"line\":{\"color\":\"white\"}},\"header\":{\"fill\":{\"color\":\"#C8D4E3\"},\"line\":{\"color\":\"white\"}},\"type\":\"table\"}]},\"layout\":{\"annotationdefaults\":{\"arrowcolor\":\"#2a3f5f\",\"arrowhead\":0,\"arrowwidth\":1},\"autotypenumbers\":\"strict\",\"coloraxis\":{\"colorbar\":{\"outlinewidth\":0,\"ticks\":\"\"}},\"colorscale\":{\"diverging\":[[0,\"#8e0152\"],[0.1,\"#c51b7d\"],[0.2,\"#de77ae\"],[0.3,\"#f1b6da\"],[0.4,\"#fde0ef\"],[0.5,\"#f7f7f7\"],[0.6,\"#e6f5d0\"],[0.7,\"#b8e186\"],[0.8,\"#7fbc41\"],[0.9,\"#4d9221\"],[1,\"#276419\"]],\"sequential\":[[0.0,\"#0d0887\"],[0.1111111111111111,\"#46039f\"],[0.2222222222222222,\"#7201a8\"],[0.3333333333333333,\"#9c179e\"],[0.4444444444444444,\"#bd3786\"],[0.5555555555555556,\"#d8576b\"],[0.6666666666666666,\"#ed7953\"],[0.7777777777777778,\"#fb9f3a\"],[0.8888888888888888,\"#fdca26\"],[1.0,\"#f0f921\"]],\"sequentialminus\":[[0.0,\"#0d0887\"],[0.1111111111111111,\"#46039f\"],[0.2222222222222222,\"#7201a8\"],[0.3333333333333333,\"#9c179e\"],[0.4444444444444444,\"#bd3786\"],[0.5555555555555556,\"#d8576b\"],[0.6666666666666666,\"#ed7953\"],[0.7777777777777778,\"#fb9f3a\"],[0.8888888888888888,\"#fdca26\"],[1.0,\"#f0f921\"]]},\"colorway\":[\"#636efa\",\"#EF553B\",\"#00cc96\",\"#ab63fa\",\"#FFA15A\",\"#19d3f3\",\"#FF6692\",\"#B6E880\",\"#FF97FF\",\"#FECB52\"],\"font\":{\"color\":\"#2a3f5f\"},\"geo\":{\"bgcolor\":\"white\",\"lakecolor\":\"white\",\"landcolor\":\"#E5ECF6\",\"showlakes\":true,\"showland\":true,\"subunitcolor\":\"white\"},\"hoverlabel\":{\"align\":\"left\"},\"hovermode\":\"closest\",\"mapbox\":{\"style\":\"light\"},\"paper_bgcolor\":\"white\",\"plot_bgcolor\":\"#E5ECF6\",\"polar\":{\"angularaxis\":{\"gridcolor\":\"white\",\"linecolor\":\"white\",\"ticks\":\"\"},\"bgcolor\":\"#E5ECF6\",\"radialaxis\":{\"gridcolor\":\"white\",\"linecolor\":\"white\",\"ticks\":\"\"}},\"scene\":{\"xaxis\":{\"backgroundcolor\":\"#E5ECF6\",\"gridcolor\":\"white\",\"gridwidth\":2,\"linecolor\":\"white\",\"showbackground\":true,\"ticks\":\"\",\"zerolinecolor\":\"white\"},\"yaxis\":{\"backgroundcolor\":\"#E5ECF6\",\"gridcolor\":\"white\",\"gridwidth\":2,\"linecolor\":\"white\",\"showbackground\":true,\"ticks\":\"\",\"zerolinecolor\":\"white\"},\"zaxis\":{\"backgroundcolor\":\"#E5ECF6\",\"gridcolor\":\"white\",\"gridwidth\":2,\"linecolor\":\"white\",\"showbackground\":true,\"ticks\":\"\",\"zerolinecolor\":\"white\"}},\"shapedefaults\":{\"line\":{\"color\":\"#2a3f5f\"}},\"ternary\":{\"aaxis\":{\"gridcolor\":\"white\",\"linecolor\":\"white\",\"ticks\":\"\"},\"baxis\":{\"gridcolor\":\"white\",\"linecolor\":\"white\",\"ticks\":\"\"},\"bgcolor\":\"#E5ECF6\",\"caxis\":{\"gridcolor\":\"white\",\"linecolor\":\"white\",\"ticks\":\"\"}},\"title\":{\"x\":0.05},\"xaxis\":{\"automargin\":true,\"gridcolor\":\"white\",\"linecolor\":\"white\",\"ticks\":\"\",\"title\":{\"standoff\":15},\"zerolinecolor\":\"white\",\"zerolinewidth\":2},\"yaxis\":{\"automargin\":true,\"gridcolor\":\"white\",\"linecolor\":\"white\",\"ticks\":\"\",\"title\":{\"standoff\":15},\"zerolinecolor\":\"white\",\"zerolinewidth\":2}}},\"shapes\":[{\"type\":\"line\",\"x0\":168,\"x1\":168,\"xref\":\"x\",\"y0\":0,\"y1\":1,\"yref\":\"y domain\"}],\"xaxis\":{\"title\":{\"text\":\"Time Samples\"}},\"yaxis\":{\"title\":{\"text\":\"Normalized Stock Opening Price\"}}},                        {\"responsive\": true}                    ).then(function(){\n",
              "                            \n",
              "var gd = document.getElementById('1fe5f31a-60a9-4992-890d-dc9cc5e5bb2f');\n",
              "var x = new MutationObserver(function (mutations, observer) {{\n",
              "        var display = window.getComputedStyle(gd).display;\n",
              "        if (!display || display === 'none') {{\n",
              "            console.log([gd, 'removed!']);\n",
              "            Plotly.purge(gd);\n",
              "            observer.disconnect();\n",
              "        }}\n",
              "}});\n",
              "\n",
              "// Listen for the removal of the full notebook cells\n",
              "var notebookContainer = gd.closest('#notebook-container');\n",
              "if (notebookContainer) {{\n",
              "    x.observe(notebookContainer, {childList: true});\n",
              "}}\n",
              "\n",
              "// Listen for the clearing of the current output cell\n",
              "var outputEl = gd.closest('.output');\n",
              "if (outputEl) {{\n",
              "    x.observe(outputEl, {childList: true});\n",
              "}}\n",
              "\n",
              "                        })                };                            </script>        </div>\n",
              "</body>\n",
              "</html>"
            ]
          },
          "metadata": {},
          "output_type": "display_data"
        },
        {
          "data": {
            "text/html": [
              "<html>\n",
              "<head><meta charset=\"utf-8\" /></head>\n",
              "<body>\n",
              "    <div>            <script src=\"https://cdnjs.cloudflare.com/ajax/libs/mathjax/2.7.5/MathJax.js?config=TeX-AMS-MML_SVG\"></script><script type=\"text/javascript\">if (window.MathJax) {MathJax.Hub.Config({SVG: {font: \"STIX-Web\"}});}</script>                <script type=\"text/javascript\">window.PlotlyConfig = {MathJaxConfig: 'local'};</script>\n",
              "        <script src=\"https://cdn.plot.ly/plotly-2.8.3.min.js\"></script>                <div id=\"1d297398-3880-43b7-9e23-1536a87c3aaf\" class=\"plotly-graph-div\" style=\"height:525px; width:100%;\"></div>            <script type=\"text/javascript\">                                    window.PLOTLYENV=window.PLOTLYENV || {};                                    if (document.getElementById(\"1d297398-3880-43b7-9e23-1536a87c3aaf\")) {                    Plotly.newPlot(                        \"1d297398-3880-43b7-9e23-1536a87c3aaf\",                        [{\"mode\":\"lines\",\"name\":\"Actual\",\"x\":[1.0,2.0,3.0,4.0,5.0,6.0,7.0,8.0,9.0,10.0,11.0,12.0,13.0,14.0,15.0,16.0,17.0,18.0,19.0,20.0,21.0,22.0,23.0,24.0,25.0,26.0,27.0,28.0,29.0,30.0,31.0,32.0,33.0,34.0,35.0,36.0,37.0,38.0,39.0,40.0,41.0,42.0,43.0,44.0,45.0,46.0,47.0,48.0,49.0,50.0,51.0,52.0,53.0,54.0,55.0,56.0,57.0,58.0,59.0,60.0,61.0,62.0,63.0,64.0,65.0,66.0,67.0,68.0,69.0,70.0,71.0,72.0,73.0,74.0,75.0,76.0,77.0,78.0,79.0,80.0,81.0,82.0,83.0,84.0,85.0,86.0,87.0,88.0,89.0,90.0,91.0,92.0,93.0,94.0,95.0,96.0,97.0,98.0,99.0,100.0,101.0,102.0,103.0,104.0,105.0,106.0,107.0,108.0,109.0,110.0,111.0,112.0,113.0,114.0,115.0,116.0,117.0,118.0,119.0,120.0,121.0,122.0,123.0,124.0,125.0,126.0,127.0,128.0,129.0,130.0,131.0,132.0,133.0,134.0,135.0,136.0,137.0,138.0,139.0,140.0,141.0,142.0,143.0,144.0,145.0,146.0,147.0,148.0,149.0,150.0,151.0,152.0,153.0,154.0,155.0,156.0,157.0,158.0,159.0,160.0,161.0,162.0,163.0,164.0,165.0,166.0,167.0,168.0,169.0,170.0,171.0,172.0,173.0,174.0,175.0,176.0,177.0,178.0,179.0,180.0,181.0,182.0,183.0,184.0,185.0,186.0,187.0,188.0,189.0,190.0,191.0,192.0],\"y\":[1.2150077819824219,1.2150077819824219,1.2205560207366943,1.24056077003479,1.2238249778747559,1.2211194038391113,1.246724009513855,1.2118815183639526,1.1461877822875977,1.1374050378799438,1.168238639831543,1.1864681243896484,1.2326868772506714,1.2628356218338013,1.2612286806106567,1.2602561712265015,1.3081178665161133,1.3312386274337769,1.364370584487915,1.352196455001831,1.3442713022232056,1.3785182237625122,1.3584996461868286,1.324349045753479,1.3486802577972412,1.3515064716339111,1.2479511499404907,1.2902655601501465,1.2735682725906372,1.232652187347412,1.2825963497161865,1.34315025806427,1.3102353811264038,1.2454267740249634,1.2071336507797241,1.2018898725509644,1.1865415573120117,1.1975183486938477,1.213836908340454,1.2118815183639526,1.2029341459274292,1.228372573852539,1.2007721662521362,1.162171721458435,1.1441603899002075,1.1694766283035278,1.175489902496338,1.168013334274292,1.055469036102295,1.118475317955017,1.1324390172958374,1.1096506118774414,1.168013334274292,1.2065248489379883,1.2450509071350098,1.2364261150360107,1.2568941116333008,1.2801440954208374,1.2900067567825317,1.2729408740997314,1.2636045217514038,1.2715520858764648,1.2743271589279175,1.2937191724777222,1.2778156995773315,1.289586067199707,1.2134106159210205,1.2636045217514038,1.2801440954208374,1.3117806911468506,1.3491921424865723,1.3386808633804321,1.3430895805358887,1.296388030052185,1.2995601892471313,1.2768298387527466,1.2660069465637207,1.2568941116333008,1.256860375404358,1.2294533252716064,1.1478252410888672,1.187972068786621,1.1642869710922241,1.126889944076538,1.1632678508758545,1.124635934829712,1.1736271381378174,1.2145112752914429,1.267438292503357,1.2785050868988037,1.3018913269042969,1.2860174179077148,1.2735352516174316,1.2979917526245117,1.3049787282943726,1.301253318786621,1.3000717163085938,1.2866673469543457,1.3007745742797852,1.3122531175613403,1.3278473615646362,1.3385893106460571,1.3491921424865723,1.3696422576904297,1.372923493385315,1.3451792001724243,1.3527660369873047,1.3862639665603638,1.3700824975967407,1.3758422136306763,1.3830935955047607,1.389479398727417,1.4016802310943604,1.3860913515090942,1.3787504434585571,1.3960431814193726,1.356980562210083,1.3549208641052246,1.3581721782684326,1.3618850708007812,1.2957457304000854,1.3382233381271362,1.3668192625045776,1.3692017793655396,1.387413740158081,1.3497939109802246,1.347293734550476,1.3126623630523682,1.3611141443252563,1.3695248365402222,1.4119195938110352,1.4130618572235107,1.4147582054138184,1.3622997999191284,1.3551898002624512,1.3817062377929688,1.369084358215332,1.372323989868164,1.3794468641281128,1.3871207237243652,1.4070262908935547,1.4429117441177368,1.4381736516952515,1.453128457069397,1.4358214139938354,1.4362815618515015,1.4432873725891113,1.4429385662078857,1.4184726476669312,1.4599658250808716,1.4561185836791992,1.4745054244995117,1.4613579511642456,1.4822169542312622,1.4678670167922974,1.4726438522338867,1.481858730316162,1.4949355125427246,1.5270445346832275,1.5318745374679565,1.5388516187667847,1.5274077653884888,1.5730323791503906,1.5509142875671387,1.4986802339553833,1.5086740255355835,1.5017086267471313,1.491628885269165,1.5221859216690063,1.5224294662475586,1.5438262224197388,1.5011588335037231,1.519428014755249,1.5052236318588257,1.540949821472168,1.5294630527496338,1.5334141254425049,1.5131206512451172,1.4822425842285156,1.4688037633895874,1.4664336442947388,1.4752540588378906,1.4733165502548218,1.4722294807434082,1.4897044897079468,1.5069382190704346,1.4822425842285156,1.4814746379852295,1.4951872825622559,1.565186619758606,1.5528645515441895,1.564330816268921],\"type\":\"scatter\"},{\"mode\":\"lines\",\"name\":\"Predicted\",\"x\":[1.0,2.0,3.0,4.0,5.0,6.0,7.0,8.0,9.0,10.0,11.0,12.0,13.0,14.0,15.0,16.0,17.0,18.0,19.0,20.0,21.0,22.0,23.0,24.0,25.0,26.0,27.0,28.0,29.0,30.0,31.0,32.0,33.0,34.0,35.0,36.0,37.0,38.0,39.0,40.0,41.0,42.0,43.0,44.0,45.0,46.0,47.0,48.0,49.0,50.0,51.0,52.0,53.0,54.0,55.0,56.0,57.0,58.0,59.0,60.0,61.0,62.0,63.0,64.0,65.0,66.0,67.0,68.0,69.0,70.0,71.0,72.0,73.0,74.0,75.0,76.0,77.0,78.0,79.0,80.0,81.0,82.0,83.0,84.0,85.0,86.0,87.0,88.0,89.0,90.0,91.0,92.0,93.0,94.0,95.0,96.0,97.0,98.0,99.0,100.0,101.0,102.0,103.0,104.0,105.0,106.0,107.0,108.0,109.0,110.0,111.0,112.0,113.0,114.0,115.0,116.0,117.0,118.0,119.0,120.0,121.0,122.0,123.0,124.0,125.0,126.0,127.0,128.0,129.0,130.0,131.0,132.0,133.0,134.0,135.0,136.0,137.0,138.0,139.0,140.0,141.0,142.0,143.0,144.0,145.0,146.0,147.0,148.0,149.0,150.0,151.0,152.0,153.0,154.0,155.0,156.0,157.0,158.0,159.0,160.0,161.0,162.0,163.0,164.0,165.0,166.0,167.0,168.0,169.0,170.0,171.0,172.0,173.0,174.0,175.0,176.0,177.0,178.0,179.0,180.0,181.0,182.0,183.0,184.0,185.0,186.0,187.0,188.0,189.0,190.0,191.0,192.0],\"y\":[1.0815482139587402,1.2060573101043701,1.2078156471252441,1.1626642942428589,1.1459541320800781,1.2122581005096436,1.1875888109207153,1.1241075992584229,1.2601464986801147,1.122888445854187,0.9828070402145386,1.1156911849975586,1.292395830154419,1.0486363172531128,1.148255467414856,1.1057169437408447,1.1422771215438843,1.2921457290649414,1.2858951091766357,1.328495979309082,1.3112549781799316,1.2959752082824707,1.3194736242294312,1.3891047239303589,1.1895567178726196,1.333275318145752,1.311439037322998,1.1931506395339966,1.2208088636398315,1.2996766567230225,1.1131994724273682,1.1137386560440063,1.1886799335479736,1.193791389465332,1.111517310142517,1.1444878578186035,1.0875558853149414,1.12654447555542,1.0646153688430786,1.219792127609253,1.0312395095825195,1.1776314973831177,1.1676342487335205,1.0939884185791016,1.073097825050354,1.08670175075531,1.1243772506713867,1.0353243350982666,1.1252893209457397,1.0693297386169434,1.0066810846328735,1.0554909706115723,1.0484416484832764,1.1261733770370483,1.2245521545410156,1.4124367237091064,1.2254503965377808,1.2741326093673706,1.3285845518112183,1.2179081439971924,1.1941593885421753,1.2584182024002075,1.2374740839004517,1.1901909112930298,1.2892937660217285,1.2039945125579834,1.2397040128707886,1.0456174612045288,1.1032757759094238,1.3004423379898071,1.2340167760849,1.2162222862243652,1.1896286010742188,1.1961946487426758,1.2703614234924316,1.2275042533874512,1.2228223085403442,1.1347953081130981,1.2387484312057495,1.1503047943115234,1.1526901721954346,1.1041377782821655,1.1370478868484497,1.1257413625717163,1.1036025285720825,1.145651936531067,1.0867667198181152,1.1531957387924194,1.1930515766143799,1.1543186902999878,1.2673211097717285,1.223669409751892,1.1757539510726929,1.241768717765808,1.3339333534240723,1.1568950414657593,1.2525941133499146,1.3596287965774536,1.2706128358840942,1.2390028238296509,1.2190055847167969,1.2411224842071533,1.3097978830337524,1.2870779037475586,1.2973356246948242,1.3086310625076294,1.3934673070907593,1.2329188585281372,1.3247385025024414,1.3428351879119873,1.3697949647903442,1.4139536619186401,1.4505950212478638,1.3571631908416748,1.3192017078399658,1.3297502994537354,1.3263640403747559,1.245139718055725,1.2256906032562256,1.2749203443527222,1.3033775091171265,1.1809464693069458,1.1970634460449219,1.275040626525879,1.280178189277649,1.2988749742507935,1.2520941495895386,1.3110376596450806,1.1926910877227783,1.3013029098510742,1.3017244338989258,1.3901641368865967,1.3171738386154175,1.3437427282333374,1.2271703481674194,1.3623452186584473,1.3177821636199951,1.2412865161895752,1.3421601057052612,1.1974760293960571,1.3304376602172852,1.3856191635131836,1.3735990524291992,1.3478728532791138,1.3790442943572998,1.4559608697891235,1.2751983404159546,1.354803442955017,1.3450720310211182,1.3742258548736572,1.4473066329956055,1.334096074104309,1.3677374124526978,1.3930132389068604,1.4512825012207031,1.3918910026550293,1.4550187587738037,1.3956624269485474,1.5457340478897095,1.4904649257659912,1.409430742263794,1.455005168914795,1.4570647478103638,1.521016001701355,1.4971667528152466,1.4203261137008667,1.437060832977295,1.414923071861267,1.409805178642273,1.5842492580413818,0.9573244452476501,0.6503952145576477,1.4715709686279297,1.184890627861023,1.2824985980987549,1.343315839767456,1.0729106664657593,1.108110785484314,0.9497606754302979,0.566758394241333,1.5959103107452393,1.0612531900405884,1.4476513862609863,1.232560157775879,0.6993741393089294,0.8421331644058228,0.4079970121383667,1.2400627136230469,1.1749106645584106,2.60343861579895,1.1653523445129395,1.1510788202285767],\"type\":\"scatter\"}],                        {\"template\":{\"data\":{\"bar\":[{\"error_x\":{\"color\":\"#2a3f5f\"},\"error_y\":{\"color\":\"#2a3f5f\"},\"marker\":{\"line\":{\"color\":\"#E5ECF6\",\"width\":0.5},\"pattern\":{\"fillmode\":\"overlay\",\"size\":10,\"solidity\":0.2}},\"type\":\"bar\"}],\"barpolar\":[{\"marker\":{\"line\":{\"color\":\"#E5ECF6\",\"width\":0.5},\"pattern\":{\"fillmode\":\"overlay\",\"size\":10,\"solidity\":0.2}},\"type\":\"barpolar\"}],\"carpet\":[{\"aaxis\":{\"endlinecolor\":\"#2a3f5f\",\"gridcolor\":\"white\",\"linecolor\":\"white\",\"minorgridcolor\":\"white\",\"startlinecolor\":\"#2a3f5f\"},\"baxis\":{\"endlinecolor\":\"#2a3f5f\",\"gridcolor\":\"white\",\"linecolor\":\"white\",\"minorgridcolor\":\"white\",\"startlinecolor\":\"#2a3f5f\"},\"type\":\"carpet\"}],\"choropleth\":[{\"colorbar\":{\"outlinewidth\":0,\"ticks\":\"\"},\"type\":\"choropleth\"}],\"contour\":[{\"colorbar\":{\"outlinewidth\":0,\"ticks\":\"\"},\"colorscale\":[[0.0,\"#0d0887\"],[0.1111111111111111,\"#46039f\"],[0.2222222222222222,\"#7201a8\"],[0.3333333333333333,\"#9c179e\"],[0.4444444444444444,\"#bd3786\"],[0.5555555555555556,\"#d8576b\"],[0.6666666666666666,\"#ed7953\"],[0.7777777777777778,\"#fb9f3a\"],[0.8888888888888888,\"#fdca26\"],[1.0,\"#f0f921\"]],\"type\":\"contour\"}],\"contourcarpet\":[{\"colorbar\":{\"outlinewidth\":0,\"ticks\":\"\"},\"type\":\"contourcarpet\"}],\"heatmap\":[{\"colorbar\":{\"outlinewidth\":0,\"ticks\":\"\"},\"colorscale\":[[0.0,\"#0d0887\"],[0.1111111111111111,\"#46039f\"],[0.2222222222222222,\"#7201a8\"],[0.3333333333333333,\"#9c179e\"],[0.4444444444444444,\"#bd3786\"],[0.5555555555555556,\"#d8576b\"],[0.6666666666666666,\"#ed7953\"],[0.7777777777777778,\"#fb9f3a\"],[0.8888888888888888,\"#fdca26\"],[1.0,\"#f0f921\"]],\"type\":\"heatmap\"}],\"heatmapgl\":[{\"colorbar\":{\"outlinewidth\":0,\"ticks\":\"\"},\"colorscale\":[[0.0,\"#0d0887\"],[0.1111111111111111,\"#46039f\"],[0.2222222222222222,\"#7201a8\"],[0.3333333333333333,\"#9c179e\"],[0.4444444444444444,\"#bd3786\"],[0.5555555555555556,\"#d8576b\"],[0.6666666666666666,\"#ed7953\"],[0.7777777777777778,\"#fb9f3a\"],[0.8888888888888888,\"#fdca26\"],[1.0,\"#f0f921\"]],\"type\":\"heatmapgl\"}],\"histogram\":[{\"marker\":{\"pattern\":{\"fillmode\":\"overlay\",\"size\":10,\"solidity\":0.2}},\"type\":\"histogram\"}],\"histogram2d\":[{\"colorbar\":{\"outlinewidth\":0,\"ticks\":\"\"},\"colorscale\":[[0.0,\"#0d0887\"],[0.1111111111111111,\"#46039f\"],[0.2222222222222222,\"#7201a8\"],[0.3333333333333333,\"#9c179e\"],[0.4444444444444444,\"#bd3786\"],[0.5555555555555556,\"#d8576b\"],[0.6666666666666666,\"#ed7953\"],[0.7777777777777778,\"#fb9f3a\"],[0.8888888888888888,\"#fdca26\"],[1.0,\"#f0f921\"]],\"type\":\"histogram2d\"}],\"histogram2dcontour\":[{\"colorbar\":{\"outlinewidth\":0,\"ticks\":\"\"},\"colorscale\":[[0.0,\"#0d0887\"],[0.1111111111111111,\"#46039f\"],[0.2222222222222222,\"#7201a8\"],[0.3333333333333333,\"#9c179e\"],[0.4444444444444444,\"#bd3786\"],[0.5555555555555556,\"#d8576b\"],[0.6666666666666666,\"#ed7953\"],[0.7777777777777778,\"#fb9f3a\"],[0.8888888888888888,\"#fdca26\"],[1.0,\"#f0f921\"]],\"type\":\"histogram2dcontour\"}],\"mesh3d\":[{\"colorbar\":{\"outlinewidth\":0,\"ticks\":\"\"},\"type\":\"mesh3d\"}],\"parcoords\":[{\"line\":{\"colorbar\":{\"outlinewidth\":0,\"ticks\":\"\"}},\"type\":\"parcoords\"}],\"pie\":[{\"automargin\":true,\"type\":\"pie\"}],\"scatter\":[{\"marker\":{\"colorbar\":{\"outlinewidth\":0,\"ticks\":\"\"}},\"type\":\"scatter\"}],\"scatter3d\":[{\"line\":{\"colorbar\":{\"outlinewidth\":0,\"ticks\":\"\"}},\"marker\":{\"colorbar\":{\"outlinewidth\":0,\"ticks\":\"\"}},\"type\":\"scatter3d\"}],\"scattercarpet\":[{\"marker\":{\"colorbar\":{\"outlinewidth\":0,\"ticks\":\"\"}},\"type\":\"scattercarpet\"}],\"scattergeo\":[{\"marker\":{\"colorbar\":{\"outlinewidth\":0,\"ticks\":\"\"}},\"type\":\"scattergeo\"}],\"scattergl\":[{\"marker\":{\"colorbar\":{\"outlinewidth\":0,\"ticks\":\"\"}},\"type\":\"scattergl\"}],\"scattermapbox\":[{\"marker\":{\"colorbar\":{\"outlinewidth\":0,\"ticks\":\"\"}},\"type\":\"scattermapbox\"}],\"scatterpolar\":[{\"marker\":{\"colorbar\":{\"outlinewidth\":0,\"ticks\":\"\"}},\"type\":\"scatterpolar\"}],\"scatterpolargl\":[{\"marker\":{\"colorbar\":{\"outlinewidth\":0,\"ticks\":\"\"}},\"type\":\"scatterpolargl\"}],\"scatterternary\":[{\"marker\":{\"colorbar\":{\"outlinewidth\":0,\"ticks\":\"\"}},\"type\":\"scatterternary\"}],\"surface\":[{\"colorbar\":{\"outlinewidth\":0,\"ticks\":\"\"},\"colorscale\":[[0.0,\"#0d0887\"],[0.1111111111111111,\"#46039f\"],[0.2222222222222222,\"#7201a8\"],[0.3333333333333333,\"#9c179e\"],[0.4444444444444444,\"#bd3786\"],[0.5555555555555556,\"#d8576b\"],[0.6666666666666666,\"#ed7953\"],[0.7777777777777778,\"#fb9f3a\"],[0.8888888888888888,\"#fdca26\"],[1.0,\"#f0f921\"]],\"type\":\"surface\"}],\"table\":[{\"cells\":{\"fill\":{\"color\":\"#EBF0F8\"},\"line\":{\"color\":\"white\"}},\"header\":{\"fill\":{\"color\":\"#C8D4E3\"},\"line\":{\"color\":\"white\"}},\"type\":\"table\"}]},\"layout\":{\"annotationdefaults\":{\"arrowcolor\":\"#2a3f5f\",\"arrowhead\":0,\"arrowwidth\":1},\"autotypenumbers\":\"strict\",\"coloraxis\":{\"colorbar\":{\"outlinewidth\":0,\"ticks\":\"\"}},\"colorscale\":{\"diverging\":[[0,\"#8e0152\"],[0.1,\"#c51b7d\"],[0.2,\"#de77ae\"],[0.3,\"#f1b6da\"],[0.4,\"#fde0ef\"],[0.5,\"#f7f7f7\"],[0.6,\"#e6f5d0\"],[0.7,\"#b8e186\"],[0.8,\"#7fbc41\"],[0.9,\"#4d9221\"],[1,\"#276419\"]],\"sequential\":[[0.0,\"#0d0887\"],[0.1111111111111111,\"#46039f\"],[0.2222222222222222,\"#7201a8\"],[0.3333333333333333,\"#9c179e\"],[0.4444444444444444,\"#bd3786\"],[0.5555555555555556,\"#d8576b\"],[0.6666666666666666,\"#ed7953\"],[0.7777777777777778,\"#fb9f3a\"],[0.8888888888888888,\"#fdca26\"],[1.0,\"#f0f921\"]],\"sequentialminus\":[[0.0,\"#0d0887\"],[0.1111111111111111,\"#46039f\"],[0.2222222222222222,\"#7201a8\"],[0.3333333333333333,\"#9c179e\"],[0.4444444444444444,\"#bd3786\"],[0.5555555555555556,\"#d8576b\"],[0.6666666666666666,\"#ed7953\"],[0.7777777777777778,\"#fb9f3a\"],[0.8888888888888888,\"#fdca26\"],[1.0,\"#f0f921\"]]},\"colorway\":[\"#636efa\",\"#EF553B\",\"#00cc96\",\"#ab63fa\",\"#FFA15A\",\"#19d3f3\",\"#FF6692\",\"#B6E880\",\"#FF97FF\",\"#FECB52\"],\"font\":{\"color\":\"#2a3f5f\"},\"geo\":{\"bgcolor\":\"white\",\"lakecolor\":\"white\",\"landcolor\":\"#E5ECF6\",\"showlakes\":true,\"showland\":true,\"subunitcolor\":\"white\"},\"hoverlabel\":{\"align\":\"left\"},\"hovermode\":\"closest\",\"mapbox\":{\"style\":\"light\"},\"paper_bgcolor\":\"white\",\"plot_bgcolor\":\"#E5ECF6\",\"polar\":{\"angularaxis\":{\"gridcolor\":\"white\",\"linecolor\":\"white\",\"ticks\":\"\"},\"bgcolor\":\"#E5ECF6\",\"radialaxis\":{\"gridcolor\":\"white\",\"linecolor\":\"white\",\"ticks\":\"\"}},\"scene\":{\"xaxis\":{\"backgroundcolor\":\"#E5ECF6\",\"gridcolor\":\"white\",\"gridwidth\":2,\"linecolor\":\"white\",\"showbackground\":true,\"ticks\":\"\",\"zerolinecolor\":\"white\"},\"yaxis\":{\"backgroundcolor\":\"#E5ECF6\",\"gridcolor\":\"white\",\"gridwidth\":2,\"linecolor\":\"white\",\"showbackground\":true,\"ticks\":\"\",\"zerolinecolor\":\"white\"},\"zaxis\":{\"backgroundcolor\":\"#E5ECF6\",\"gridcolor\":\"white\",\"gridwidth\":2,\"linecolor\":\"white\",\"showbackground\":true,\"ticks\":\"\",\"zerolinecolor\":\"white\"}},\"shapedefaults\":{\"line\":{\"color\":\"#2a3f5f\"}},\"ternary\":{\"aaxis\":{\"gridcolor\":\"white\",\"linecolor\":\"white\",\"ticks\":\"\"},\"baxis\":{\"gridcolor\":\"white\",\"linecolor\":\"white\",\"ticks\":\"\"},\"bgcolor\":\"#E5ECF6\",\"caxis\":{\"gridcolor\":\"white\",\"linecolor\":\"white\",\"ticks\":\"\"}},\"title\":{\"x\":0.05},\"xaxis\":{\"automargin\":true,\"gridcolor\":\"white\",\"linecolor\":\"white\",\"ticks\":\"\",\"title\":{\"standoff\":15},\"zerolinecolor\":\"white\",\"zerolinewidth\":2},\"yaxis\":{\"automargin\":true,\"gridcolor\":\"white\",\"linecolor\":\"white\",\"ticks\":\"\",\"title\":{\"standoff\":15},\"zerolinecolor\":\"white\",\"zerolinewidth\":2}}},\"shapes\":[{\"type\":\"line\",\"x0\":168,\"x1\":168,\"xref\":\"x\",\"y0\":0,\"y1\":1,\"yref\":\"y domain\"}],\"xaxis\":{\"title\":{\"text\":\"Time Samples\"}},\"yaxis\":{\"title\":{\"text\":\"Normalized Stock Opening Price\"}}},                        {\"responsive\": true}                    ).then(function(){\n",
              "                            \n",
              "var gd = document.getElementById('1d297398-3880-43b7-9e23-1536a87c3aaf');\n",
              "var x = new MutationObserver(function (mutations, observer) {{\n",
              "        var display = window.getComputedStyle(gd).display;\n",
              "        if (!display || display === 'none') {{\n",
              "            console.log([gd, 'removed!']);\n",
              "            Plotly.purge(gd);\n",
              "            observer.disconnect();\n",
              "        }}\n",
              "}});\n",
              "\n",
              "// Listen for the removal of the full notebook cells\n",
              "var notebookContainer = gd.closest('#notebook-container');\n",
              "if (notebookContainer) {{\n",
              "    x.observe(notebookContainer, {childList: true});\n",
              "}}\n",
              "\n",
              "// Listen for the clearing of the current output cell\n",
              "var outputEl = gd.closest('.output');\n",
              "if (outputEl) {{\n",
              "    x.observe(outputEl, {childList: true});\n",
              "}}\n",
              "\n",
              "                        })                };                            </script>        </div>\n",
              "</body>\n",
              "</html>"
            ]
          },
          "metadata": {},
          "output_type": "display_data"
        },
        {
          "data": {
            "text/html": [
              "<html>\n",
              "<head><meta charset=\"utf-8\" /></head>\n",
              "<body>\n",
              "    <div>            <script src=\"https://cdnjs.cloudflare.com/ajax/libs/mathjax/2.7.5/MathJax.js?config=TeX-AMS-MML_SVG\"></script><script type=\"text/javascript\">if (window.MathJax) {MathJax.Hub.Config({SVG: {font: \"STIX-Web\"}});}</script>                <script type=\"text/javascript\">window.PlotlyConfig = {MathJaxConfig: 'local'};</script>\n",
              "        <script src=\"https://cdn.plot.ly/plotly-2.8.3.min.js\"></script>                <div id=\"81d924b4-ae79-465b-ab94-6c783b4018b7\" class=\"plotly-graph-div\" style=\"height:525px; width:100%;\"></div>            <script type=\"text/javascript\">                                    window.PLOTLYENV=window.PLOTLYENV || {};                                    if (document.getElementById(\"81d924b4-ae79-465b-ab94-6c783b4018b7\")) {                    Plotly.newPlot(                        \"81d924b4-ae79-465b-ab94-6c783b4018b7\",                        [{\"mode\":\"lines\",\"name\":\"Actual\",\"x\":[1.0,2.0,3.0,4.0,5.0,6.0,7.0,8.0,9.0,10.0,11.0,12.0,13.0,14.0,15.0,16.0,17.0,18.0,19.0,20.0,21.0,22.0,23.0,24.0,25.0,26.0,27.0,28.0,29.0,30.0,31.0,32.0,33.0,34.0,35.0,36.0,37.0,38.0,39.0,40.0,41.0,42.0,43.0,44.0,45.0,46.0,47.0,48.0,49.0,50.0,51.0,52.0,53.0,54.0,55.0,56.0,57.0,58.0,59.0,60.0,61.0,62.0,63.0,64.0,65.0,66.0,67.0,68.0,69.0,70.0,71.0,72.0,73.0,74.0,75.0,76.0,77.0,78.0,79.0,80.0,81.0,82.0,83.0,84.0,85.0,86.0,87.0,88.0,89.0,90.0,91.0,92.0,93.0,94.0,95.0,96.0,97.0,98.0,99.0,100.0,101.0,102.0,103.0,104.0,105.0,106.0,107.0,108.0,109.0,110.0,111.0,112.0,113.0,114.0,115.0,116.0,117.0,118.0,119.0,120.0,121.0,122.0,123.0,124.0,125.0,126.0,127.0,128.0,129.0,130.0,131.0,132.0,133.0,134.0,135.0,136.0,137.0,138.0,139.0,140.0,141.0,142.0,143.0,144.0,145.0,146.0,147.0,148.0,149.0,150.0,151.0,152.0,153.0,154.0,155.0,156.0,157.0,158.0,159.0,160.0,161.0,162.0,163.0,164.0,165.0,166.0,167.0,168.0,169.0,170.0,171.0,172.0,173.0,174.0,175.0,176.0,177.0,178.0,179.0,180.0,181.0,182.0,183.0,184.0,185.0,186.0,187.0,188.0,189.0,190.0,191.0,192.0],\"y\":[0.33504819869995117,0.32105398178100586,0.20467327535152435,0.2638758420944214,0.2492705136537552,0.2638758420944214,0.4855433404445648,0.7048627138137817,0.7522210478782654,0.5999857187271118,0.5332548022270203,0.4390517771244049,0.3406132459640503,0.3777006268501282,0.47147423028945923,0.47144854068756104,0.5320165157318115,0.5492695569992065,0.5928340554237366,0.5663464069366455,0.5258113145828247,0.7608858346939087,0.7630450129508972,0.5687717795372009,0.5095692276954651,0.46116727590560913,0.2855473756790161,0.38988253474235535,0.5158348679542542,0.31260091066360474,0.36406028270721436,0.3544453978538513,0.2912793457508087,0.2211640179157257,0.2345365285873413,0.3381112515926361,0.45728573203086853,0.4232628345489502,0.40598824620246887,0.2345365285873413,0.2121892273426056,0.20918689668178558,0.14329765737056732,0.1275952160358429,0.05669720843434334,0.08768167346715927,0.038492895662784576,0.018404994159936905,-0.08224080502986908,0.0401560477912426,-0.05210849642753601,-0.09480778127908707,-0.03463396057486534,-0.007049041800200939,0.1700579673051834,0.06817943602800369,0.06326813250780106,0.17119576036930084,0.1671946793794632,0.1275952160358429,0.09252189844846725,0.17733263969421387,0.15109393000602722,0.13074751198291779,0.10248086601495743,0.094132199883461,-0.001927145291119814,0.11174392700195312,0.1275952160358429,0.18192057311534882,0.21817776560783386,0.23157408833503723,0.21368837356567383,0.08282739669084549,0.11492622643709183,0.05834236368536949,0.1401689350605011,-0.001927145291119814,0.16194801032543182,0.2345365285873413,0.18344707787036896,0.2536655366420746,0.2565891146659851,0.2912793457508087,0.3168327808380127,0.3626900911331177,0.3336540162563324,0.34892624616622925,0.3544453978538513,0.36406028270721436,0.34615984559059143,0.3378330171108246,0.44036081433296204,0.5504950881004333,0.5394324660301208,0.4778839647769928,0.513331413269043,0.644582986831665,0.6399441361427307,0.6224330067634583,0.646897554397583,0.6094739437103271,0.4298596978187561,0.26678165793418884,0.2912793457508087,0.3012632429599762,0.33644118905067444,0.21368837356567383,0.21518617868423462,0.22414493560791016,0.2345365285873413,0.27113091945648193,0.3026846647262573,0.2812354862689972,0.3224586844444275,0.25804901123046875,0.26242104172706604,0.2536655366420746,0.2121892273426056,0.18192057311534882,0.07795898616313934,0.13389389216899872,0.15575429797172546,0.16811884939670563,0.1401689350605011,0.06817943602800369,0.08282739669084549,0.008269824087619781,0.038492895662784576,0.10695909708738327,0.14485982060432434,0.13389389216899872,0.11810248345136642,0.10055794566869736,0.07795898616313934,0.07958336174488068,0.048447079956531525,0.0860651433467865,0.08929663896560669,0.0860651433467865,0.2345365285873413,0.2536655366420746,0.3280657231807709,0.3475436270236969,0.47916296124458313,0.4880886971950531,0.48681649565696716,0.4192922115325928,0.3925776183605194,0.42590469121932983,0.46761655807495117,0.339223712682724,0.4468906819820404,0.45598986744880676,0.47916296124458313,0.5307772755622864,0.49316781759262085,0.5344921350479126,0.541897177696228,0.5258113145828247,0.4906174838542938,0.5468156933784485,0.528296172618866,0.5026497840881348,0.4817180335521698,0.46245911717414856,0.44819357991218567,0.4179665744304657,0.3558223247528076,0.35168808698654175,0.40598824620246887,0.33504819869995117,0.34892624616622925,0.36131879687309265,0.4033147096633911,0.37498143315315247,0.38312575221061707,0.5820488333702087,0.8867443799972534,0.9554517269134521,1.0140353441238403,1.0589258670806885,0.9253718852996826,0.8203138113021851,0.733657956123352,0.8234386444091797,0.7641235589981079,0.796160876750946,0.840006411075592,0.905674397945404,0.8635386824607849,0.8369124531745911],\"type\":\"scatter\"},{\"mode\":\"lines\",\"name\":\"Predicted\",\"x\":[1.0,2.0,3.0,4.0,5.0,6.0,7.0,8.0,9.0,10.0,11.0,12.0,13.0,14.0,15.0,16.0,17.0,18.0,19.0,20.0,21.0,22.0,23.0,24.0,25.0,26.0,27.0,28.0,29.0,30.0,31.0,32.0,33.0,34.0,35.0,36.0,37.0,38.0,39.0,40.0,41.0,42.0,43.0,44.0,45.0,46.0,47.0,48.0,49.0,50.0,51.0,52.0,53.0,54.0,55.0,56.0,57.0,58.0,59.0,60.0,61.0,62.0,63.0,64.0,65.0,66.0,67.0,68.0,69.0,70.0,71.0,72.0,73.0,74.0,75.0,76.0,77.0,78.0,79.0,80.0,81.0,82.0,83.0,84.0,85.0,86.0,87.0,88.0,89.0,90.0,91.0,92.0,93.0,94.0,95.0,96.0,97.0,98.0,99.0,100.0,101.0,102.0,103.0,104.0,105.0,106.0,107.0,108.0,109.0,110.0,111.0,112.0,113.0,114.0,115.0,116.0,117.0,118.0,119.0,120.0,121.0,122.0,123.0,124.0,125.0,126.0,127.0,128.0,129.0,130.0,131.0,132.0,133.0,134.0,135.0,136.0,137.0,138.0,139.0,140.0,141.0,142.0,143.0,144.0,145.0,146.0,147.0,148.0,149.0,150.0,151.0,152.0,153.0,154.0,155.0,156.0,157.0,158.0,159.0,160.0,161.0,162.0,163.0,164.0,165.0,166.0,167.0,168.0,169.0,170.0,171.0,172.0,173.0,174.0,175.0,176.0,177.0,178.0,179.0,180.0,181.0,182.0,183.0,184.0,185.0,186.0,187.0,188.0,189.0,190.0,191.0,192.0],\"y\":[0.28238165378570557,0.38320374488830566,0.28157728910446167,0.21973232924938202,0.2910633385181427,0.3109445571899414,0.2671734392642975,0.45028263330459595,0.669170081615448,0.6881049871444702,0.6234392523765564,0.5820650458335876,0.35270071029663086,0.39506351947784424,0.25514426827430725,0.5025581121444702,0.4110274016857147,0.4281758666038513,0.5617531538009644,0.5356646776199341,0.5811836123466492,0.3564228117465973,0.7350291013717651,0.7489194869995117,0.6213935017585754,0.47473984956741333,0.545896053314209,0.2516804039478302,0.3925479054450989,0.5139093399047852,0.26076117157936096,0.47743332386016846,0.36213335394859314,0.19716770946979523,0.17779305577278137,0.15967342257499695,0.3023442029953003,0.49375927448272705,0.4319969117641449,0.4164556562900543,0.3110859990119934,0.1871495097875595,0.2022782862186432,0.08681322634220123,0.13821673393249512,-0.06692630052566528,0.013910986483097076,0.05252863094210625,0.017468100413680077,-0.19123049080371857,0.07968448102474213,-0.051199525594711304,-0.16751308739185333,-0.003349240869283676,0.04402583837509155,0.18145883083343506,-0.0029315855354070663,0.05283915251493454,0.009553015232086182,0.11570854485034943,-0.08423717319965363,0.03711796924471855,0.09744519740343094,0.10355794429779053,0.10895629227161407,0.15766239166259766,0.0029584839940071106,-0.023198137059807777,0.09785406291484833,0.07848316431045532,0.11837608367204666,0.1849270462989807,0.1618669182062149,0.23911362886428833,0.09022573381662369,0.0014953985810279846,-0.03475811332464218,0.08322188258171082,-0.06054448336362839,0.12200407683849335,0.15816593170166016,0.11845153570175171,0.26079583168029785,0.308663010597229,0.395300030708313,0.2682207524776459,0.41899365186691284,0.28342121839523315,0.4001390039920807,0.27582114934921265,0.30753931403160095,0.38469216227531433,0.35842782258987427,0.3147900700569153,0.5379524230957031,0.4784535765647888,0.3381716012954712,0.508696436882019,0.5716360807418823,0.5747150182723999,0.5759191513061523,0.5833192467689514,0.6518065333366394,0.3060804009437561,0.22262361645698547,0.32413169741630554,0.28064173460006714,0.38662511110305786,0.23349227011203766,0.15973623096942902,0.17705433070659637,0.26866936683654785,0.28550729155540466,0.2827771306037903,0.23421217501163483,0.297369122505188,0.29684603214263916,0.30410927534103394,0.2475539743900299,0.1798742115497589,0.07624553143978119,-0.0035720095038414,0.12552578747272491,0.1505575329065323,0.14978301525115967,0.10767573118209839,-0.053725697100162506,0.10761550068855286,-0.027666015550494194,-0.039851851761341095,0.06564667075872421,0.15645548701286316,0.10396987199783325,0.07473303377628326,0.07640372961759567,0.1323426067829132,0.04339383915066719,0.0926799327135086,-0.10804858803749084,0.011668872088193893,0.07740001380443573,0.2688855230808258,0.20105589926242828,0.33168116211891174,0.3159797191619873,0.457254558801651,0.4516913592815399,0.4869847297668457,0.3926454484462738,0.35370928049087524,0.40117335319519043,0.4628612697124481,0.20221562683582306,0.43543434143066406,0.39882519841194153,0.4318076968193054,0.6220734715461731,0.5048013925552368,0.4482745826244354,0.5915345549583435,0.49628153443336487,0.30877846479415894,0.5343390703201294,0.5223171710968018,0.41227737069129944,0.49721574783325195,0.4338010549545288,0.43734976649284363,0.817736029624939,0.3514188826084137,0.5721883177757263,1.2902648448944092,1.1742496490478516,0.5975816249847412,-0.8043839931488037,1.4098490476608276,1.3406054973602295,0.586904764175415,1.1302200555801392,1.021545171737671,0.406496524810791,0.6610091924667358,0.13931921124458313,0.09486190974712372,0.7876914739608765,0.8878239989280701,0.6114280223846436,0.636350154876709,1.3751487731933594,1.4960997104644775,1.0736584663391113,0.5107094645500183],\"type\":\"scatter\"}],                        {\"template\":{\"data\":{\"bar\":[{\"error_x\":{\"color\":\"#2a3f5f\"},\"error_y\":{\"color\":\"#2a3f5f\"},\"marker\":{\"line\":{\"color\":\"#E5ECF6\",\"width\":0.5},\"pattern\":{\"fillmode\":\"overlay\",\"size\":10,\"solidity\":0.2}},\"type\":\"bar\"}],\"barpolar\":[{\"marker\":{\"line\":{\"color\":\"#E5ECF6\",\"width\":0.5},\"pattern\":{\"fillmode\":\"overlay\",\"size\":10,\"solidity\":0.2}},\"type\":\"barpolar\"}],\"carpet\":[{\"aaxis\":{\"endlinecolor\":\"#2a3f5f\",\"gridcolor\":\"white\",\"linecolor\":\"white\",\"minorgridcolor\":\"white\",\"startlinecolor\":\"#2a3f5f\"},\"baxis\":{\"endlinecolor\":\"#2a3f5f\",\"gridcolor\":\"white\",\"linecolor\":\"white\",\"minorgridcolor\":\"white\",\"startlinecolor\":\"#2a3f5f\"},\"type\":\"carpet\"}],\"choropleth\":[{\"colorbar\":{\"outlinewidth\":0,\"ticks\":\"\"},\"type\":\"choropleth\"}],\"contour\":[{\"colorbar\":{\"outlinewidth\":0,\"ticks\":\"\"},\"colorscale\":[[0.0,\"#0d0887\"],[0.1111111111111111,\"#46039f\"],[0.2222222222222222,\"#7201a8\"],[0.3333333333333333,\"#9c179e\"],[0.4444444444444444,\"#bd3786\"],[0.5555555555555556,\"#d8576b\"],[0.6666666666666666,\"#ed7953\"],[0.7777777777777778,\"#fb9f3a\"],[0.8888888888888888,\"#fdca26\"],[1.0,\"#f0f921\"]],\"type\":\"contour\"}],\"contourcarpet\":[{\"colorbar\":{\"outlinewidth\":0,\"ticks\":\"\"},\"type\":\"contourcarpet\"}],\"heatmap\":[{\"colorbar\":{\"outlinewidth\":0,\"ticks\":\"\"},\"colorscale\":[[0.0,\"#0d0887\"],[0.1111111111111111,\"#46039f\"],[0.2222222222222222,\"#7201a8\"],[0.3333333333333333,\"#9c179e\"],[0.4444444444444444,\"#bd3786\"],[0.5555555555555556,\"#d8576b\"],[0.6666666666666666,\"#ed7953\"],[0.7777777777777778,\"#fb9f3a\"],[0.8888888888888888,\"#fdca26\"],[1.0,\"#f0f921\"]],\"type\":\"heatmap\"}],\"heatmapgl\":[{\"colorbar\":{\"outlinewidth\":0,\"ticks\":\"\"},\"colorscale\":[[0.0,\"#0d0887\"],[0.1111111111111111,\"#46039f\"],[0.2222222222222222,\"#7201a8\"],[0.3333333333333333,\"#9c179e\"],[0.4444444444444444,\"#bd3786\"],[0.5555555555555556,\"#d8576b\"],[0.6666666666666666,\"#ed7953\"],[0.7777777777777778,\"#fb9f3a\"],[0.8888888888888888,\"#fdca26\"],[1.0,\"#f0f921\"]],\"type\":\"heatmapgl\"}],\"histogram\":[{\"marker\":{\"pattern\":{\"fillmode\":\"overlay\",\"size\":10,\"solidity\":0.2}},\"type\":\"histogram\"}],\"histogram2d\":[{\"colorbar\":{\"outlinewidth\":0,\"ticks\":\"\"},\"colorscale\":[[0.0,\"#0d0887\"],[0.1111111111111111,\"#46039f\"],[0.2222222222222222,\"#7201a8\"],[0.3333333333333333,\"#9c179e\"],[0.4444444444444444,\"#bd3786\"],[0.5555555555555556,\"#d8576b\"],[0.6666666666666666,\"#ed7953\"],[0.7777777777777778,\"#fb9f3a\"],[0.8888888888888888,\"#fdca26\"],[1.0,\"#f0f921\"]],\"type\":\"histogram2d\"}],\"histogram2dcontour\":[{\"colorbar\":{\"outlinewidth\":0,\"ticks\":\"\"},\"colorscale\":[[0.0,\"#0d0887\"],[0.1111111111111111,\"#46039f\"],[0.2222222222222222,\"#7201a8\"],[0.3333333333333333,\"#9c179e\"],[0.4444444444444444,\"#bd3786\"],[0.5555555555555556,\"#d8576b\"],[0.6666666666666666,\"#ed7953\"],[0.7777777777777778,\"#fb9f3a\"],[0.8888888888888888,\"#fdca26\"],[1.0,\"#f0f921\"]],\"type\":\"histogram2dcontour\"}],\"mesh3d\":[{\"colorbar\":{\"outlinewidth\":0,\"ticks\":\"\"},\"type\":\"mesh3d\"}],\"parcoords\":[{\"line\":{\"colorbar\":{\"outlinewidth\":0,\"ticks\":\"\"}},\"type\":\"parcoords\"}],\"pie\":[{\"automargin\":true,\"type\":\"pie\"}],\"scatter\":[{\"marker\":{\"colorbar\":{\"outlinewidth\":0,\"ticks\":\"\"}},\"type\":\"scatter\"}],\"scatter3d\":[{\"line\":{\"colorbar\":{\"outlinewidth\":0,\"ticks\":\"\"}},\"marker\":{\"colorbar\":{\"outlinewidth\":0,\"ticks\":\"\"}},\"type\":\"scatter3d\"}],\"scattercarpet\":[{\"marker\":{\"colorbar\":{\"outlinewidth\":0,\"ticks\":\"\"}},\"type\":\"scattercarpet\"}],\"scattergeo\":[{\"marker\":{\"colorbar\":{\"outlinewidth\":0,\"ticks\":\"\"}},\"type\":\"scattergeo\"}],\"scattergl\":[{\"marker\":{\"colorbar\":{\"outlinewidth\":0,\"ticks\":\"\"}},\"type\":\"scattergl\"}],\"scattermapbox\":[{\"marker\":{\"colorbar\":{\"outlinewidth\":0,\"ticks\":\"\"}},\"type\":\"scattermapbox\"}],\"scatterpolar\":[{\"marker\":{\"colorbar\":{\"outlinewidth\":0,\"ticks\":\"\"}},\"type\":\"scatterpolar\"}],\"scatterpolargl\":[{\"marker\":{\"colorbar\":{\"outlinewidth\":0,\"ticks\":\"\"}},\"type\":\"scatterpolargl\"}],\"scatterternary\":[{\"marker\":{\"colorbar\":{\"outlinewidth\":0,\"ticks\":\"\"}},\"type\":\"scatterternary\"}],\"surface\":[{\"colorbar\":{\"outlinewidth\":0,\"ticks\":\"\"},\"colorscale\":[[0.0,\"#0d0887\"],[0.1111111111111111,\"#46039f\"],[0.2222222222222222,\"#7201a8\"],[0.3333333333333333,\"#9c179e\"],[0.4444444444444444,\"#bd3786\"],[0.5555555555555556,\"#d8576b\"],[0.6666666666666666,\"#ed7953\"],[0.7777777777777778,\"#fb9f3a\"],[0.8888888888888888,\"#fdca26\"],[1.0,\"#f0f921\"]],\"type\":\"surface\"}],\"table\":[{\"cells\":{\"fill\":{\"color\":\"#EBF0F8\"},\"line\":{\"color\":\"white\"}},\"header\":{\"fill\":{\"color\":\"#C8D4E3\"},\"line\":{\"color\":\"white\"}},\"type\":\"table\"}]},\"layout\":{\"annotationdefaults\":{\"arrowcolor\":\"#2a3f5f\",\"arrowhead\":0,\"arrowwidth\":1},\"autotypenumbers\":\"strict\",\"coloraxis\":{\"colorbar\":{\"outlinewidth\":0,\"ticks\":\"\"}},\"colorscale\":{\"diverging\":[[0,\"#8e0152\"],[0.1,\"#c51b7d\"],[0.2,\"#de77ae\"],[0.3,\"#f1b6da\"],[0.4,\"#fde0ef\"],[0.5,\"#f7f7f7\"],[0.6,\"#e6f5d0\"],[0.7,\"#b8e186\"],[0.8,\"#7fbc41\"],[0.9,\"#4d9221\"],[1,\"#276419\"]],\"sequential\":[[0.0,\"#0d0887\"],[0.1111111111111111,\"#46039f\"],[0.2222222222222222,\"#7201a8\"],[0.3333333333333333,\"#9c179e\"],[0.4444444444444444,\"#bd3786\"],[0.5555555555555556,\"#d8576b\"],[0.6666666666666666,\"#ed7953\"],[0.7777777777777778,\"#fb9f3a\"],[0.8888888888888888,\"#fdca26\"],[1.0,\"#f0f921\"]],\"sequentialminus\":[[0.0,\"#0d0887\"],[0.1111111111111111,\"#46039f\"],[0.2222222222222222,\"#7201a8\"],[0.3333333333333333,\"#9c179e\"],[0.4444444444444444,\"#bd3786\"],[0.5555555555555556,\"#d8576b\"],[0.6666666666666666,\"#ed7953\"],[0.7777777777777778,\"#fb9f3a\"],[0.8888888888888888,\"#fdca26\"],[1.0,\"#f0f921\"]]},\"colorway\":[\"#636efa\",\"#EF553B\",\"#00cc96\",\"#ab63fa\",\"#FFA15A\",\"#19d3f3\",\"#FF6692\",\"#B6E880\",\"#FF97FF\",\"#FECB52\"],\"font\":{\"color\":\"#2a3f5f\"},\"geo\":{\"bgcolor\":\"white\",\"lakecolor\":\"white\",\"landcolor\":\"#E5ECF6\",\"showlakes\":true,\"showland\":true,\"subunitcolor\":\"white\"},\"hoverlabel\":{\"align\":\"left\"},\"hovermode\":\"closest\",\"mapbox\":{\"style\":\"light\"},\"paper_bgcolor\":\"white\",\"plot_bgcolor\":\"#E5ECF6\",\"polar\":{\"angularaxis\":{\"gridcolor\":\"white\",\"linecolor\":\"white\",\"ticks\":\"\"},\"bgcolor\":\"#E5ECF6\",\"radialaxis\":{\"gridcolor\":\"white\",\"linecolor\":\"white\",\"ticks\":\"\"}},\"scene\":{\"xaxis\":{\"backgroundcolor\":\"#E5ECF6\",\"gridcolor\":\"white\",\"gridwidth\":2,\"linecolor\":\"white\",\"showbackground\":true,\"ticks\":\"\",\"zerolinecolor\":\"white\"},\"yaxis\":{\"backgroundcolor\":\"#E5ECF6\",\"gridcolor\":\"white\",\"gridwidth\":2,\"linecolor\":\"white\",\"showbackground\":true,\"ticks\":\"\",\"zerolinecolor\":\"white\"},\"zaxis\":{\"backgroundcolor\":\"#E5ECF6\",\"gridcolor\":\"white\",\"gridwidth\":2,\"linecolor\":\"white\",\"showbackground\":true,\"ticks\":\"\",\"zerolinecolor\":\"white\"}},\"shapedefaults\":{\"line\":{\"color\":\"#2a3f5f\"}},\"ternary\":{\"aaxis\":{\"gridcolor\":\"white\",\"linecolor\":\"white\",\"ticks\":\"\"},\"baxis\":{\"gridcolor\":\"white\",\"linecolor\":\"white\",\"ticks\":\"\"},\"bgcolor\":\"#E5ECF6\",\"caxis\":{\"gridcolor\":\"white\",\"linecolor\":\"white\",\"ticks\":\"\"}},\"title\":{\"x\":0.05},\"xaxis\":{\"automargin\":true,\"gridcolor\":\"white\",\"linecolor\":\"white\",\"ticks\":\"\",\"title\":{\"standoff\":15},\"zerolinecolor\":\"white\",\"zerolinewidth\":2},\"yaxis\":{\"automargin\":true,\"gridcolor\":\"white\",\"linecolor\":\"white\",\"ticks\":\"\",\"title\":{\"standoff\":15},\"zerolinecolor\":\"white\",\"zerolinewidth\":2}}},\"shapes\":[{\"type\":\"line\",\"x0\":168,\"x1\":168,\"xref\":\"x\",\"y0\":0,\"y1\":1,\"yref\":\"y domain\"}],\"xaxis\":{\"title\":{\"text\":\"Time Samples\"}},\"yaxis\":{\"title\":{\"text\":\"Normalized Stock Opening Price\"}}},                        {\"responsive\": true}                    ).then(function(){\n",
              "                            \n",
              "var gd = document.getElementById('81d924b4-ae79-465b-ab94-6c783b4018b7');\n",
              "var x = new MutationObserver(function (mutations, observer) {{\n",
              "        var display = window.getComputedStyle(gd).display;\n",
              "        if (!display || display === 'none') {{\n",
              "            console.log([gd, 'removed!']);\n",
              "            Plotly.purge(gd);\n",
              "            observer.disconnect();\n",
              "        }}\n",
              "}});\n",
              "\n",
              "// Listen for the removal of the full notebook cells\n",
              "var notebookContainer = gd.closest('#notebook-container');\n",
              "if (notebookContainer) {{\n",
              "    x.observe(notebookContainer, {childList: true});\n",
              "}}\n",
              "\n",
              "// Listen for the clearing of the current output cell\n",
              "var outputEl = gd.closest('.output');\n",
              "if (outputEl) {{\n",
              "    x.observe(outputEl, {childList: true});\n",
              "}}\n",
              "\n",
              "                        })                };                            </script>        </div>\n",
              "</body>\n",
              "</html>"
            ]
          },
          "metadata": {},
          "output_type": "display_data"
        },
        {
          "data": {
            "text/html": [
              "<html>\n",
              "<head><meta charset=\"utf-8\" /></head>\n",
              "<body>\n",
              "    <div>            <script src=\"https://cdnjs.cloudflare.com/ajax/libs/mathjax/2.7.5/MathJax.js?config=TeX-AMS-MML_SVG\"></script><script type=\"text/javascript\">if (window.MathJax) {MathJax.Hub.Config({SVG: {font: \"STIX-Web\"}});}</script>                <script type=\"text/javascript\">window.PlotlyConfig = {MathJaxConfig: 'local'};</script>\n",
              "        <script src=\"https://cdn.plot.ly/plotly-2.8.3.min.js\"></script>                <div id=\"1a10cb88-5256-44d9-a65e-8bc3f833ebbe\" class=\"plotly-graph-div\" style=\"height:525px; width:100%;\"></div>            <script type=\"text/javascript\">                                    window.PLOTLYENV=window.PLOTLYENV || {};                                    if (document.getElementById(\"1a10cb88-5256-44d9-a65e-8bc3f833ebbe\")) {                    Plotly.newPlot(                        \"1a10cb88-5256-44d9-a65e-8bc3f833ebbe\",                        [{\"mode\":\"lines\",\"name\":\"Actual\",\"x\":[1.0,2.0,3.0,4.0,5.0,6.0,7.0,8.0,9.0,10.0,11.0,12.0,13.0,14.0,15.0,16.0,17.0,18.0,19.0,20.0,21.0,22.0,23.0,24.0,25.0,26.0,27.0,28.0,29.0,30.0,31.0,32.0,33.0,34.0,35.0,36.0,37.0,38.0,39.0,40.0,41.0,42.0,43.0,44.0,45.0,46.0,47.0,48.0,49.0,50.0,51.0,52.0,53.0,54.0,55.0,56.0,57.0,58.0,59.0,60.0,61.0,62.0,63.0,64.0,65.0,66.0,67.0,68.0,69.0,70.0,71.0,72.0,73.0,74.0,75.0,76.0,77.0,78.0,79.0,80.0,81.0,82.0,83.0,84.0,85.0,86.0,87.0,88.0,89.0,90.0,91.0,92.0,93.0,94.0,95.0,96.0,97.0,98.0,99.0,100.0,101.0,102.0,103.0,104.0,105.0,106.0,107.0,108.0,109.0,110.0,111.0,112.0,113.0,114.0,115.0,116.0,117.0,118.0,119.0,120.0,121.0,122.0,123.0,124.0,125.0,126.0,127.0,128.0,129.0,130.0,131.0,132.0,133.0,134.0,135.0,136.0,137.0,138.0,139.0,140.0,141.0,142.0,143.0,144.0,145.0,146.0,147.0,148.0,149.0,150.0,151.0,152.0,153.0,154.0,155.0,156.0,157.0,158.0,159.0,160.0,161.0,162.0,163.0,164.0,165.0,166.0,167.0,168.0,169.0,170.0,171.0,172.0,173.0,174.0,175.0,176.0,177.0,178.0,179.0,180.0,181.0,182.0,183.0,184.0,185.0,186.0,187.0,188.0,189.0,190.0,191.0,192.0],\"y\":[1.40408456325531,1.3314162492752075,1.3496438264846802,1.3288345336914062,1.4219670295715332,1.420350432395935,1.4470195770263672,1.4262691736221313,1.3614827394485474,1.3345654010772705,1.3848748207092285,1.4230437278747559,1.5105019807815552,1.584591031074524,1.5792843103408813,1.4859727621078491,1.654855489730835,1.650720238685608,1.6569186449050903,1.6685551404953003,1.6251906156539917,1.630332589149475,1.624495029449463,1.6233162879943848,1.6681005954742432,1.7223165035247803,1.6013480424880981,1.818898320198059,1.7876217365264893,1.689313530921936,1.734963297843933,1.7364822626113892,1.6816765069961548,1.5763815641403198,1.524370789527893,1.521859049797058,1.4604979753494263,1.5120214223861694,1.4952198266983032,1.535122275352478,1.6353400945663452,1.6789714097976685,1.5958634614944458,1.650950312614441,1.543071985244751,1.5064424276351929,1.5293813943862915,1.468083143234253,1.2898433208465576,1.3541653156280518,1.3402738571166992,1.2839329242706299,1.3276857137680054,1.4146780967712402,1.454453945159912,1.4959877729415894,1.5046627521514893,1.6011101007461548,1.6396352052688599,1.6426457166671753,1.6580636501312256,1.670145034790039,1.6356889009475708,1.6635469198226929,1.5874773263931274,1.5686124563217163,1.5180832147598267,1.5544241666793823,1.6240195035934448,1.599442720413208,1.5450526475906372,1.5725021362304688,1.6359212398529053,1.5968188047409058,1.6247222423553467,1.5256251096725464,1.4952198266983032,1.4049022197723389,1.4187320470809937,1.4008095264434814,1.3288345336914062,1.3737826347351074,1.3684840202331543,1.3502098321914673,1.3865313529968262,1.4276111125946045,1.357265591621399,1.429755449295044,1.5069504976272583,1.5105019807815552,1.5862754583358765,1.575412631034851,1.5833866596221924,1.601943016052246,1.6447263956069946,1.6414885520935059,1.6186199188232422,1.6001574993133545,1.599919319152832,1.6167371273040771,1.5889184474945068,1.6049138307571411,1.645880937576294,1.6825770139694214,1.6484178304672241,1.6333624124526978,1.5671510696411133,1.61909019947052,1.6484178304672241,1.6612647771835327,1.6516402959823608,1.756726861000061,1.7603580951690674,1.7528719902038574,1.7260347604751587,1.7332254648208618,1.770350694656372,1.7605714797973633,1.793576717376709,1.7920119762420654,1.645188331604004,1.6354563236236572,1.7124279737472534,1.6868470907211304,1.6814512014389038,1.6153234243392944,1.6052700281143188,1.5238687992095947,1.590358018875122,1.6258928775787354,1.6428771018981934,1.8836232423782349,1.9431440830230713,1.9111906290054321,1.8906618356704712,1.917331337928772,1.8810731172561646,1.8867557048797607,1.8781251907348633,1.8611068725585938,1.9161819219589233,1.9270648956298828,1.9138803482055664,1.9638770818710327,1.9274452924728394,1.9268747568130493,1.9059890508651733,1.8814657926559448,1.8225821256637573,1.8266644477844238,1.8104723691940308,1.824828863143921,1.8810731172561646,1.9161819219589233,1.886951208114624,1.8949464559555054,1.8446924686431885,1.8670661449432373,1.8976664543151855,1.9192450046539307,1.8926109075546265,1.879305124282837,1.916373610496521,1.9238276481628418,1.8830351829528809,1.9052168130874634,1.91215181350708,1.8347946405410767,1.8274794816970825,1.8668678998947144,1.8495159149169922,1.8486127853393555,1.8563218116760254,1.8881239891052246,1.9753302335739136,1.974778175354004,2.0300400257110596,1.96739661693573,1.906182050704956,1.8595136404037476,1.8968898057937622,1.8814657926559448,1.8446924686431885,1.8485124111175537,1.8879286050796509,1.9369226694107056,1.8935844898223877,1.883231282234192,1.922492504119873,1.9397538900375366,1.9350321292877197,1.9685062170028687],\"type\":\"scatter\"},{\"mode\":\"lines\",\"name\":\"Predicted\",\"x\":[1.0,2.0,3.0,4.0,5.0,6.0,7.0,8.0,9.0,10.0,11.0,12.0,13.0,14.0,15.0,16.0,17.0,18.0,19.0,20.0,21.0,22.0,23.0,24.0,25.0,26.0,27.0,28.0,29.0,30.0,31.0,32.0,33.0,34.0,35.0,36.0,37.0,38.0,39.0,40.0,41.0,42.0,43.0,44.0,45.0,46.0,47.0,48.0,49.0,50.0,51.0,52.0,53.0,54.0,55.0,56.0,57.0,58.0,59.0,60.0,61.0,62.0,63.0,64.0,65.0,66.0,67.0,68.0,69.0,70.0,71.0,72.0,73.0,74.0,75.0,76.0,77.0,78.0,79.0,80.0,81.0,82.0,83.0,84.0,85.0,86.0,87.0,88.0,89.0,90.0,91.0,92.0,93.0,94.0,95.0,96.0,97.0,98.0,99.0,100.0,101.0,102.0,103.0,104.0,105.0,106.0,107.0,108.0,109.0,110.0,111.0,112.0,113.0,114.0,115.0,116.0,117.0,118.0,119.0,120.0,121.0,122.0,123.0,124.0,125.0,126.0,127.0,128.0,129.0,130.0,131.0,132.0,133.0,134.0,135.0,136.0,137.0,138.0,139.0,140.0,141.0,142.0,143.0,144.0,145.0,146.0,147.0,148.0,149.0,150.0,151.0,152.0,153.0,154.0,155.0,156.0,157.0,158.0,159.0,160.0,161.0,162.0,163.0,164.0,165.0,166.0,167.0,168.0,169.0,170.0,171.0,172.0,173.0,174.0,175.0,176.0,177.0,178.0,179.0,180.0,181.0,182.0,183.0,184.0,185.0,186.0,187.0,188.0,189.0,190.0,191.0,192.0],\"y\":[1.7164314985275269,1.7009930610656738,1.3628638982772827,1.4118125438690186,1.3522529602050781,1.1449755430221558,1.2658671140670776,1.3390295505523682,1.2665959596633911,1.1649589538574219,1.1530201435089111,1.328657627105713,1.3024300336837769,1.3070282936096191,1.556650161743164,1.412893533706665,1.316368579864502,1.4811164140701294,1.521061897277832,1.5663530826568604,1.5371215343475342,1.5930336713790894,1.4562486410140991,1.6002347469329834,1.5425547361373901,1.5599154233932495,1.5892765522003174,1.646647572517395,1.5806241035461426,1.7133212089538574,1.5446805953979492,1.7593001127243042,1.7010529041290283,1.6519219875335693,1.6423509120941162,1.5242687463760376,1.4648185968399048,1.3582935333251953,1.4438998699188232,1.5413694381713867,1.3640037775039673,1.5830388069152832,1.6376652717590332,1.4766380786895752,1.5807774066925049,1.4324396848678589,1.4906055927276611,1.320733904838562,1.415327548980713,1.116221308708191,1.3400932550430298,1.2121453285217285,1.3078844547271729,1.20488440990448,1.2907391786575317,1.4680179357528687,1.2939021587371826,1.4054837226867676,1.6276893615722656,1.516771674156189,1.4105263948440552,1.6200883388519287,1.4474711418151855,1.5730115175247192,1.4264323711395264,1.534386396408081,1.503514289855957,1.326608657836914,1.385292649269104,1.466351866722107,1.5257197618484497,1.520707130432129,1.571878433227539,1.487465739250183,1.5164103507995605,1.5587389469146729,1.3950586318969727,1.3363581895828247,1.217193365097046,1.3566688299179077,1.308088779449463,1.2344681024551392,1.2379218339920044,1.2052947282791138,1.239607572555542,1.3184068202972412,1.2400110960006714,1.1529589891433716,1.3539659976959229,1.4038563966751099,1.3687145709991455,1.4137797355651855,1.4368605613708496,1.6170557737350464,1.4996691942214966,1.5309914350509644,1.5749504566192627,1.603049874305725,1.587396264076233,1.5847175121307373,1.569338083267212,1.543109655380249,1.5614290237426758,1.5089830160140991,1.5399044752120972,1.4912703037261963,1.6695828437805176,1.3938028812408447,1.5749597549438477,1.6076182126998901,1.6511282920837402,1.5917502641677856,1.7011395692825317,1.6272084712982178,1.5253403186798096,1.601136565208435,1.5470941066741943,1.6379536390304565,1.5253527164459229,1.725223422050476,1.5951653718948364,1.5883110761642456,1.497136116027832,1.5905961990356445,1.5558216571807861,1.6990832090377808,1.41028892993927,1.5506746768951416,1.4271458387374878,1.500473976135254,1.4484139680862427,1.5419251918792725,1.6561295986175537,1.8073021173477173,1.7283260822296143,1.694516658782959,1.8572824001312256,1.4766969680786133,1.7070629596710205,1.7961218357086182,1.7150981426239014,1.6928215026855469,1.8103876113891602,1.6918717622756958,1.788520336151123,1.8400505781173706,1.7748172283172607,1.800293207168579,1.7254509925842285,1.7140285968780518,1.6327829360961914,1.6259069442749023,1.7723593711853027,1.8119986057281494,1.6238869428634644,1.8730838298797607,1.7290648221969604,1.7812589406967163,1.7853114604949951,1.8679540157318115,1.7818858623504639,1.7209019660949707,1.7165988683700562,1.6971648931503296,1.771054983139038,1.8228191137313843,1.7284358739852905,1.761850357055664,1.4269381761550903,1.241429090499878,1.7043102979660034,0.9675936698913574,1.0449399948120117,1.2125918865203857,0.9215130805969238,0.7353160381317139,1.284773826599121,0.9951368570327759,0.9041566252708435,0.9376164674758911,0.5792040228843689,0.8017991781234741,1.0413769483566284,1.2764469385147095,0.8205732107162476,0.396329402923584,0.8260630369186401,0.418975830078125,0.4237956404685974,1.0196055173873901,1.7704635858535767,1.0478945970535278],\"type\":\"scatter\"}],                        {\"template\":{\"data\":{\"bar\":[{\"error_x\":{\"color\":\"#2a3f5f\"},\"error_y\":{\"color\":\"#2a3f5f\"},\"marker\":{\"line\":{\"color\":\"#E5ECF6\",\"width\":0.5},\"pattern\":{\"fillmode\":\"overlay\",\"size\":10,\"solidity\":0.2}},\"type\":\"bar\"}],\"barpolar\":[{\"marker\":{\"line\":{\"color\":\"#E5ECF6\",\"width\":0.5},\"pattern\":{\"fillmode\":\"overlay\",\"size\":10,\"solidity\":0.2}},\"type\":\"barpolar\"}],\"carpet\":[{\"aaxis\":{\"endlinecolor\":\"#2a3f5f\",\"gridcolor\":\"white\",\"linecolor\":\"white\",\"minorgridcolor\":\"white\",\"startlinecolor\":\"#2a3f5f\"},\"baxis\":{\"endlinecolor\":\"#2a3f5f\",\"gridcolor\":\"white\",\"linecolor\":\"white\",\"minorgridcolor\":\"white\",\"startlinecolor\":\"#2a3f5f\"},\"type\":\"carpet\"}],\"choropleth\":[{\"colorbar\":{\"outlinewidth\":0,\"ticks\":\"\"},\"type\":\"choropleth\"}],\"contour\":[{\"colorbar\":{\"outlinewidth\":0,\"ticks\":\"\"},\"colorscale\":[[0.0,\"#0d0887\"],[0.1111111111111111,\"#46039f\"],[0.2222222222222222,\"#7201a8\"],[0.3333333333333333,\"#9c179e\"],[0.4444444444444444,\"#bd3786\"],[0.5555555555555556,\"#d8576b\"],[0.6666666666666666,\"#ed7953\"],[0.7777777777777778,\"#fb9f3a\"],[0.8888888888888888,\"#fdca26\"],[1.0,\"#f0f921\"]],\"type\":\"contour\"}],\"contourcarpet\":[{\"colorbar\":{\"outlinewidth\":0,\"ticks\":\"\"},\"type\":\"contourcarpet\"}],\"heatmap\":[{\"colorbar\":{\"outlinewidth\":0,\"ticks\":\"\"},\"colorscale\":[[0.0,\"#0d0887\"],[0.1111111111111111,\"#46039f\"],[0.2222222222222222,\"#7201a8\"],[0.3333333333333333,\"#9c179e\"],[0.4444444444444444,\"#bd3786\"],[0.5555555555555556,\"#d8576b\"],[0.6666666666666666,\"#ed7953\"],[0.7777777777777778,\"#fb9f3a\"],[0.8888888888888888,\"#fdca26\"],[1.0,\"#f0f921\"]],\"type\":\"heatmap\"}],\"heatmapgl\":[{\"colorbar\":{\"outlinewidth\":0,\"ticks\":\"\"},\"colorscale\":[[0.0,\"#0d0887\"],[0.1111111111111111,\"#46039f\"],[0.2222222222222222,\"#7201a8\"],[0.3333333333333333,\"#9c179e\"],[0.4444444444444444,\"#bd3786\"],[0.5555555555555556,\"#d8576b\"],[0.6666666666666666,\"#ed7953\"],[0.7777777777777778,\"#fb9f3a\"],[0.8888888888888888,\"#fdca26\"],[1.0,\"#f0f921\"]],\"type\":\"heatmapgl\"}],\"histogram\":[{\"marker\":{\"pattern\":{\"fillmode\":\"overlay\",\"size\":10,\"solidity\":0.2}},\"type\":\"histogram\"}],\"histogram2d\":[{\"colorbar\":{\"outlinewidth\":0,\"ticks\":\"\"},\"colorscale\":[[0.0,\"#0d0887\"],[0.1111111111111111,\"#46039f\"],[0.2222222222222222,\"#7201a8\"],[0.3333333333333333,\"#9c179e\"],[0.4444444444444444,\"#bd3786\"],[0.5555555555555556,\"#d8576b\"],[0.6666666666666666,\"#ed7953\"],[0.7777777777777778,\"#fb9f3a\"],[0.8888888888888888,\"#fdca26\"],[1.0,\"#f0f921\"]],\"type\":\"histogram2d\"}],\"histogram2dcontour\":[{\"colorbar\":{\"outlinewidth\":0,\"ticks\":\"\"},\"colorscale\":[[0.0,\"#0d0887\"],[0.1111111111111111,\"#46039f\"],[0.2222222222222222,\"#7201a8\"],[0.3333333333333333,\"#9c179e\"],[0.4444444444444444,\"#bd3786\"],[0.5555555555555556,\"#d8576b\"],[0.6666666666666666,\"#ed7953\"],[0.7777777777777778,\"#fb9f3a\"],[0.8888888888888888,\"#fdca26\"],[1.0,\"#f0f921\"]],\"type\":\"histogram2dcontour\"}],\"mesh3d\":[{\"colorbar\":{\"outlinewidth\":0,\"ticks\":\"\"},\"type\":\"mesh3d\"}],\"parcoords\":[{\"line\":{\"colorbar\":{\"outlinewidth\":0,\"ticks\":\"\"}},\"type\":\"parcoords\"}],\"pie\":[{\"automargin\":true,\"type\":\"pie\"}],\"scatter\":[{\"marker\":{\"colorbar\":{\"outlinewidth\":0,\"ticks\":\"\"}},\"type\":\"scatter\"}],\"scatter3d\":[{\"line\":{\"colorbar\":{\"outlinewidth\":0,\"ticks\":\"\"}},\"marker\":{\"colorbar\":{\"outlinewidth\":0,\"ticks\":\"\"}},\"type\":\"scatter3d\"}],\"scattercarpet\":[{\"marker\":{\"colorbar\":{\"outlinewidth\":0,\"ticks\":\"\"}},\"type\":\"scattercarpet\"}],\"scattergeo\":[{\"marker\":{\"colorbar\":{\"outlinewidth\":0,\"ticks\":\"\"}},\"type\":\"scattergeo\"}],\"scattergl\":[{\"marker\":{\"colorbar\":{\"outlinewidth\":0,\"ticks\":\"\"}},\"type\":\"scattergl\"}],\"scattermapbox\":[{\"marker\":{\"colorbar\":{\"outlinewidth\":0,\"ticks\":\"\"}},\"type\":\"scattermapbox\"}],\"scatterpolar\":[{\"marker\":{\"colorbar\":{\"outlinewidth\":0,\"ticks\":\"\"}},\"type\":\"scatterpolar\"}],\"scatterpolargl\":[{\"marker\":{\"colorbar\":{\"outlinewidth\":0,\"ticks\":\"\"}},\"type\":\"scatterpolargl\"}],\"scatterternary\":[{\"marker\":{\"colorbar\":{\"outlinewidth\":0,\"ticks\":\"\"}},\"type\":\"scatterternary\"}],\"surface\":[{\"colorbar\":{\"outlinewidth\":0,\"ticks\":\"\"},\"colorscale\":[[0.0,\"#0d0887\"],[0.1111111111111111,\"#46039f\"],[0.2222222222222222,\"#7201a8\"],[0.3333333333333333,\"#9c179e\"],[0.4444444444444444,\"#bd3786\"],[0.5555555555555556,\"#d8576b\"],[0.6666666666666666,\"#ed7953\"],[0.7777777777777778,\"#fb9f3a\"],[0.8888888888888888,\"#fdca26\"],[1.0,\"#f0f921\"]],\"type\":\"surface\"}],\"table\":[{\"cells\":{\"fill\":{\"color\":\"#EBF0F8\"},\"line\":{\"color\":\"white\"}},\"header\":{\"fill\":{\"color\":\"#C8D4E3\"},\"line\":{\"color\":\"white\"}},\"type\":\"table\"}]},\"layout\":{\"annotationdefaults\":{\"arrowcolor\":\"#2a3f5f\",\"arrowhead\":0,\"arrowwidth\":1},\"autotypenumbers\":\"strict\",\"coloraxis\":{\"colorbar\":{\"outlinewidth\":0,\"ticks\":\"\"}},\"colorscale\":{\"diverging\":[[0,\"#8e0152\"],[0.1,\"#c51b7d\"],[0.2,\"#de77ae\"],[0.3,\"#f1b6da\"],[0.4,\"#fde0ef\"],[0.5,\"#f7f7f7\"],[0.6,\"#e6f5d0\"],[0.7,\"#b8e186\"],[0.8,\"#7fbc41\"],[0.9,\"#4d9221\"],[1,\"#276419\"]],\"sequential\":[[0.0,\"#0d0887\"],[0.1111111111111111,\"#46039f\"],[0.2222222222222222,\"#7201a8\"],[0.3333333333333333,\"#9c179e\"],[0.4444444444444444,\"#bd3786\"],[0.5555555555555556,\"#d8576b\"],[0.6666666666666666,\"#ed7953\"],[0.7777777777777778,\"#fb9f3a\"],[0.8888888888888888,\"#fdca26\"],[1.0,\"#f0f921\"]],\"sequentialminus\":[[0.0,\"#0d0887\"],[0.1111111111111111,\"#46039f\"],[0.2222222222222222,\"#7201a8\"],[0.3333333333333333,\"#9c179e\"],[0.4444444444444444,\"#bd3786\"],[0.5555555555555556,\"#d8576b\"],[0.6666666666666666,\"#ed7953\"],[0.7777777777777778,\"#fb9f3a\"],[0.8888888888888888,\"#fdca26\"],[1.0,\"#f0f921\"]]},\"colorway\":[\"#636efa\",\"#EF553B\",\"#00cc96\",\"#ab63fa\",\"#FFA15A\",\"#19d3f3\",\"#FF6692\",\"#B6E880\",\"#FF97FF\",\"#FECB52\"],\"font\":{\"color\":\"#2a3f5f\"},\"geo\":{\"bgcolor\":\"white\",\"lakecolor\":\"white\",\"landcolor\":\"#E5ECF6\",\"showlakes\":true,\"showland\":true,\"subunitcolor\":\"white\"},\"hoverlabel\":{\"align\":\"left\"},\"hovermode\":\"closest\",\"mapbox\":{\"style\":\"light\"},\"paper_bgcolor\":\"white\",\"plot_bgcolor\":\"#E5ECF6\",\"polar\":{\"angularaxis\":{\"gridcolor\":\"white\",\"linecolor\":\"white\",\"ticks\":\"\"},\"bgcolor\":\"#E5ECF6\",\"radialaxis\":{\"gridcolor\":\"white\",\"linecolor\":\"white\",\"ticks\":\"\"}},\"scene\":{\"xaxis\":{\"backgroundcolor\":\"#E5ECF6\",\"gridcolor\":\"white\",\"gridwidth\":2,\"linecolor\":\"white\",\"showbackground\":true,\"ticks\":\"\",\"zerolinecolor\":\"white\"},\"yaxis\":{\"backgroundcolor\":\"#E5ECF6\",\"gridcolor\":\"white\",\"gridwidth\":2,\"linecolor\":\"white\",\"showbackground\":true,\"ticks\":\"\",\"zerolinecolor\":\"white\"},\"zaxis\":{\"backgroundcolor\":\"#E5ECF6\",\"gridcolor\":\"white\",\"gridwidth\":2,\"linecolor\":\"white\",\"showbackground\":true,\"ticks\":\"\",\"zerolinecolor\":\"white\"}},\"shapedefaults\":{\"line\":{\"color\":\"#2a3f5f\"}},\"ternary\":{\"aaxis\":{\"gridcolor\":\"white\",\"linecolor\":\"white\",\"ticks\":\"\"},\"baxis\":{\"gridcolor\":\"white\",\"linecolor\":\"white\",\"ticks\":\"\"},\"bgcolor\":\"#E5ECF6\",\"caxis\":{\"gridcolor\":\"white\",\"linecolor\":\"white\",\"ticks\":\"\"}},\"title\":{\"x\":0.05},\"xaxis\":{\"automargin\":true,\"gridcolor\":\"white\",\"linecolor\":\"white\",\"ticks\":\"\",\"title\":{\"standoff\":15},\"zerolinecolor\":\"white\",\"zerolinewidth\":2},\"yaxis\":{\"automargin\":true,\"gridcolor\":\"white\",\"linecolor\":\"white\",\"ticks\":\"\",\"title\":{\"standoff\":15},\"zerolinecolor\":\"white\",\"zerolinewidth\":2}}},\"shapes\":[{\"type\":\"line\",\"x0\":168,\"x1\":168,\"xref\":\"x\",\"y0\":0,\"y1\":1,\"yref\":\"y domain\"}],\"xaxis\":{\"title\":{\"text\":\"Time Samples\"}},\"yaxis\":{\"title\":{\"text\":\"Normalized Stock Opening Price\"}}},                        {\"responsive\": true}                    ).then(function(){\n",
              "                            \n",
              "var gd = document.getElementById('1a10cb88-5256-44d9-a65e-8bc3f833ebbe');\n",
              "var x = new MutationObserver(function (mutations, observer) {{\n",
              "        var display = window.getComputedStyle(gd).display;\n",
              "        if (!display || display === 'none') {{\n",
              "            console.log([gd, 'removed!']);\n",
              "            Plotly.purge(gd);\n",
              "            observer.disconnect();\n",
              "        }}\n",
              "}});\n",
              "\n",
              "// Listen for the removal of the full notebook cells\n",
              "var notebookContainer = gd.closest('#notebook-container');\n",
              "if (notebookContainer) {{\n",
              "    x.observe(notebookContainer, {childList: true});\n",
              "}}\n",
              "\n",
              "// Listen for the clearing of the current output cell\n",
              "var outputEl = gd.closest('.output');\n",
              "if (outputEl) {{\n",
              "    x.observe(outputEl, {childList: true});\n",
              "}}\n",
              "\n",
              "                        })                };                            </script>        </div>\n",
              "</body>\n",
              "</html>"
            ]
          },
          "metadata": {},
          "output_type": "display_data"
        }
      ],
      "source": [
        "for i in range(5):\n",
        "  plot_test_output_data(overall_price_label.detach().cpu(),overall_price_pred.detach().cpu(), window_id=6969, cov_id=i)"
      ]
    },
    {
      "cell_type": "code",
      "execution_count": null,
      "metadata": {
        "id": "KCT5FFL1d1Uy"
      },
      "outputs": [],
      "source": [
        ""
      ]
    }
  ],
  "metadata": {
    "accelerator": "GPU",
    "colab": {
      "collapsed_sections": [],
      "name": "DL_192Vectors_Group_Data_WeightedLoss_Debayan.ipynb",
      "provenance": [],
      "include_colab_link": true
    },
    "kernelspec": {
      "display_name": "Python 3",
      "name": "python3"
    },
    "language_info": {
      "name": "python"
    }
  },
  "nbformat": 4,
  "nbformat_minor": 0
}